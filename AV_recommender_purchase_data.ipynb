{
    "nbformat_minor": 2, 
    "cells": [
        {
            "execution_count": 1, 
            "cell_type": "code", 
            "metadata": {}, 
            "outputs": [], 
            "source": "# The code was removed by Watson Studio for sharing."
        }, 
        {
            "execution_count": 2, 
            "cell_type": "code", 
            "metadata": {}, 
            "outputs": [
                {
                    "output_type": "stream", 
                    "name": "stdout", 
                    "text": "Collecting turicreate\n\u001b[?25l  Downloading https://files.pythonhosted.org/packages/98/85/222a4ab94b1908b32bf9ea21226656b946960cab7a359949aaacea580d39/turicreate-5.6-cp35-cp35m-manylinux1_x86_64.whl (86.1MB)\n\u001b[K    100% |\u2588\u2588\u2588\u2588\u2588\u2588\u2588\u2588\u2588\u2588\u2588\u2588\u2588\u2588\u2588\u2588\u2588\u2588\u2588\u2588\u2588\u2588\u2588\u2588\u2588\u2588\u2588\u2588\u2588\u2588\u2588\u2588| 86.1MB 487kB/s eta 0:00:01\ufffd\ufffd\u2588\u2588\u258e            | 52.0MB 47.4MB/s eta 0:00:01\n\u001b[?25hRequirement already satisfied: requests>=2.9.1 in /opt/conda/envs/DSX-Python35/lib/python3.5/site-packages (from turicreate) (2.18.4)\nRequirement already satisfied: pillow>=3.3.0 in /opt/conda/envs/DSX-Python35/lib/python3.5/site-packages (from turicreate) (4.2.1)\nCollecting prettytable==0.7.2 (from turicreate)\n  Downloading https://files.pythonhosted.org/packages/ef/30/4b0746848746ed5941f052479e7c23d2b56d174b82f4fd34a25e389831f5/prettytable-0.7.2.tar.bz2\nRequirement already satisfied: numpy in /opt/conda/envs/DSX-Python35/lib/python3.5/site-packages (from turicreate) (1.13.3)\nCollecting resampy==0.2.1 (from turicreate)\n\u001b[?25l  Downloading https://files.pythonhosted.org/packages/14/b6/66a06d85474190b50aee1a6c09cdc95bb405ac47338b27e9b21409da1760/resampy-0.2.1.tar.gz (322kB)\n\u001b[K    100% |\u2588\u2588\u2588\u2588\u2588\u2588\u2588\u2588\u2588\u2588\u2588\u2588\u2588\u2588\u2588\u2588\u2588\u2588\u2588\u2588\u2588\u2588\u2588\u2588\u2588\u2588\u2588\u2588\u2588\u2588\u2588\u2588| 327kB 37.0MB/s ta 0:00:01\n\u001b[?25hCollecting coremltools==2.1.0 (from turicreate)\n\u001b[?25l  Downloading https://files.pythonhosted.org/packages/24/70/d3af1248bec195c33d95fb1778e887cd5317bf8eb238e847afe6237cd30f/coremltools-2.1.0-cp35-none-manylinux1_x86_64.whl (2.7MB)\n\u001b[K    100% |\u2588\u2588\u2588\u2588\u2588\u2588\u2588\u2588\u2588\u2588\u2588\u2588\u2588\u2588\u2588\u2588\u2588\u2588\u2588\u2588\u2588\u2588\u2588\u2588\u2588\u2588\u2588\u2588\u2588\u2588\u2588\u2588| 2.7MB 14.3MB/s ta 0:00:01\n\u001b[?25hCollecting mxnet<1.2.0,>=1.1.0 (from turicreate)\n\u001b[?25l  Downloading https://files.pythonhosted.org/packages/96/98/c9877e100c3d1ac92263bfaba7bb8a49294e099046592040a2ff8620ac61/mxnet-1.1.0.post0-py2.py3-none-manylinux1_x86_64.whl (23.8MB)\n\u001b[K    100% |\u2588\u2588\u2588\u2588\u2588\u2588\u2588\u2588\u2588\u2588\u2588\u2588\u2588\u2588\u2588\u2588\u2588\u2588\u2588\u2588\u2588\u2588\u2588\u2588\u2588\u2588\u2588\u2588\u2588\u2588\u2588\u2588| 23.8MB 1.8MB/s eta 0:00:01\n\u001b[?25hRequirement already satisfied: six>=1.10.0 in /opt/conda/envs/DSX-Python35/lib/python3.5/site-packages (from turicreate) (1.11.0)\nRequirement already satisfied: decorator>=4.0.9 in /opt/conda/envs/DSX-Python35/lib/python3.5/site-packages (from turicreate) (4.1.2)\nRequirement already satisfied: scipy>=0.14.0 in /opt/conda/envs/DSX-Python35/lib/python3.5/site-packages (from turicreate) (1.0.0)\nRequirement already satisfied: pandas>=0.19.0 in /opt/conda/envs/DSX-Python35/lib/python3.5/site-packages (from turicreate) (0.21.0)\nRequirement already satisfied: chardet<3.1.0,>=3.0.2 in /opt/conda/envs/DSX-Python35/lib/python3.5/site-packages (from requests>=2.9.1->turicreate) (3.0.4)\nRequirement already satisfied: idna<2.7,>=2.5 in /opt/conda/envs/DSX-Python35/lib/python3.5/site-packages (from requests>=2.9.1->turicreate) (2.6)\nRequirement already satisfied: urllib3<1.23,>=1.21.1 in /opt/conda/envs/DSX-Python35/lib/python3.5/site-packages (from requests>=2.9.1->turicreate) (1.22)\nRequirement already satisfied: certifi>=2017.4.17 in /opt/conda/envs/DSX-Python35/lib/python3.5/site-packages (from requests>=2.9.1->turicreate) (2019.3.9)\nRequirement already satisfied: olefile in /opt/conda/envs/DSX-Python35/lib/python3.5/site-packages (from pillow>=3.3.0->turicreate) (0.44)\nRequirement already satisfied: numba>=0.32 in /opt/conda/envs/DSX-Python35/lib/python3.5/site-packages (from resampy==0.2.1->turicreate) (0.35.0+10.g143f70e90)\nRequirement already satisfied: protobuf>=3.1.0 in /opt/conda/envs/DSX-Python35/lib/python3.5/site-packages (from coremltools==2.1.0->turicreate) (3.4.1)\nCollecting graphviz<0.9.0,>=0.8.1 (from mxnet<1.2.0,>=1.1.0->turicreate)\n  Downloading https://files.pythonhosted.org/packages/53/39/4ab213673844e0c004bed8a0781a0721a3f6bb23eb8854ee75c236428892/graphviz-0.8.4-py2.py3-none-any.whl\nRequirement already satisfied: python-dateutil>=2 in /opt/conda/envs/DSX-Python35/lib/python3.5/site-packages (from pandas>=0.19.0->turicreate) (2.6.1)\nRequirement already satisfied: pytz>=2011k in /opt/conda/envs/DSX-Python35/lib/python3.5/site-packages (from pandas>=0.19.0->turicreate) (2018.3)\nRequirement already satisfied: llvmlite in /opt/conda/envs/DSX-Python35/lib/python3.5/site-packages (from numba>=0.32->resampy==0.2.1->turicreate) (0.20.0)\nRequirement already satisfied: setuptools in /opt/conda/envs/DSX-Python35/lib/python3.5/site-packages (from protobuf>=3.1.0->coremltools==2.1.0->turicreate) (36.5.0.post20170921)\nBuilding wheels for collected packages: prettytable, resampy\n  Running setup.py bdist_wheel for prettytable ... \u001b[?25ldone\n\u001b[?25h  Stored in directory: /home/dsxuser/.cache/pip/wheels/80/34/1c/3967380d9676d162cb59513bd9dc862d0584e045a162095606\n  Running setup.py bdist_wheel for resampy ... \u001b[?25ldone\n\u001b[?25h  Stored in directory: /home/dsxuser/.cache/pip/wheels/ff/4f/ed/2e6c676c23efe5394bb40ade50662e90eb46e29b48324c5f9b\nSuccessfully built prettytable resampy\n\u001b[31mtensorflow 1.3.0 requires tensorflow-tensorboard<0.2.0,>=0.1.0, which is not installed.\u001b[0m\nInstalling collected packages: prettytable, resampy, coremltools, graphviz, mxnet, turicreate\nSuccessfully installed coremltools-2.1.0 graphviz-0.8.4 mxnet-1.1.0.post0 prettytable-0.7.2 resampy-0.2.1 turicreate-5.6\n"
                }
            ], 
            "source": "!pip install turicreate"
        }, 
        {
            "execution_count": 3, 
            "cell_type": "code", 
            "metadata": {}, 
            "outputs": [], 
            "source": "%load_ext autoreload\n%autoreload 2\n\nimport pandas as pd\nimport numpy as np\nimport time\nimport turicreate as tc\nfrom sklearn.model_selection import train_test_split\n\nimport sys\nsys.path.append(\"..\")"
        }, 
        {
            "execution_count": 4, 
            "cell_type": "code", 
            "metadata": {}, 
            "outputs": [
                {
                    "execution_count": 4, 
                    "metadata": {}, 
                    "data": {
                        "text/html": "<div>\n<style scoped>\n    .dataframe tbody tr th:only-of-type {\n        vertical-align: middle;\n    }\n\n    .dataframe tbody tr th {\n        vertical-align: top;\n    }\n\n    .dataframe thead th {\n        text-align: right;\n    }\n</style>\n<table border=\"1\" class=\"dataframe\">\n  <thead>\n    <tr style=\"text-align: right;\">\n      <th></th>\n      <th>customerId</th>\n      <th>products</th>\n    </tr>\n  </thead>\n  <tbody>\n    <tr>\n      <th>0</th>\n      <td>27270</td>\n      <td>85123AY</td>\n    </tr>\n    <tr>\n      <th>1</th>\n      <td>27270</td>\n      <td>71053R</td>\n    </tr>\n    <tr>\n      <th>2</th>\n      <td>27270</td>\n      <td>84406BH</td>\n    </tr>\n    <tr>\n      <th>3</th>\n      <td>27270</td>\n      <td>84029GV</td>\n    </tr>\n    <tr>\n      <th>4</th>\n      <td>27270</td>\n      <td>84029EX</td>\n    </tr>\n  </tbody>\n</table>\n</div>", 
                        "text/plain": "   customerId products\n0       27270  85123AY\n1       27270   71053R\n2       27270  84406BH\n3       27270  84029GV\n4       27270  84029EX"
                    }, 
                    "output_type": "execute_result"
                }
            ], 
            "source": "# The code was removed by Watson Studio for sharing."
        }, 
        {
            "execution_count": 5, 
            "cell_type": "code", 
            "metadata": {}, 
            "outputs": [
                {
                    "execution_count": 5, 
                    "metadata": {}, 
                    "data": {
                        "text/html": "<div>\n<style scoped>\n    .dataframe tbody tr th:only-of-type {\n        vertical-align: middle;\n    }\n\n    .dataframe tbody tr th {\n        vertical-align: top;\n    }\n\n    .dataframe thead th {\n        text-align: right;\n    }\n</style>\n<table border=\"1\" class=\"dataframe\">\n  <thead>\n    <tr style=\"text-align: right;\">\n      <th></th>\n      <th>customerId</th>\n    </tr>\n  </thead>\n  <tbody>\n    <tr>\n      <th>0</th>\n      <td>127269</td>\n    </tr>\n    <tr>\n      <th>1</th>\n      <td>227268</td>\n    </tr>\n    <tr>\n      <th>6</th>\n      <td>327267</td>\n    </tr>\n    <tr>\n      <th>7</th>\n      <td>162738</td>\n    </tr>\n    <tr>\n      <th>16</th>\n      <td>252747</td>\n    </tr>\n  </tbody>\n</table>\n</div>", 
                        "text/plain": "    customerId\n0       127269\n1       227268\n6       327267\n7       162738\n16      252747"
                    }, 
                    "output_type": "execute_result"
                }
            ], 
            "source": "\nbody = client_83b43f68eb9348f8a7795f9fdefa8efd.get_object(Bucket='recommendationsystemforpurchaseda-donotdelete-pr-l0bytgn7jogfsi',Key='test_J1hm2KQ.csv')['Body']\n# add missing __iter__ method, so pandas accepts body as file-like object\nif not hasattr(body, \"__iter__\"): body.__iter__ = types.MethodType( __iter__, body )\n\ndf_data_2 = pd.read_csv(body)\ndf_data_2.head()\ncustomers=df_data_2[['CustomerID']]\ncustomers=customers.drop_duplicates('CustomerID')\ncustomers = customers.rename(columns={'CustomerID': 'customerId'})\ncustomers.head()\n"
        }, 
        {
            "execution_count": 6, 
            "cell_type": "code", 
            "metadata": {}, 
            "outputs": [
                {
                    "output_type": "stream", 
                    "name": "stdout", 
                    "text": "(628, 1)\n"
                }, 
                {
                    "execution_count": 6, 
                    "metadata": {}, 
                    "data": {
                        "text/html": "<div>\n<style scoped>\n    .dataframe tbody tr th:only-of-type {\n        vertical-align: middle;\n    }\n\n    .dataframe tbody tr th {\n        vertical-align: top;\n    }\n\n    .dataframe thead th {\n        text-align: right;\n    }\n</style>\n<table border=\"1\" class=\"dataframe\">\n  <thead>\n    <tr style=\"text-align: right;\">\n      <th></th>\n      <th>customerId</th>\n    </tr>\n  </thead>\n  <tbody>\n    <tr>\n      <th>0</th>\n      <td>127269</td>\n    </tr>\n    <tr>\n      <th>1</th>\n      <td>227268</td>\n    </tr>\n    <tr>\n      <th>6</th>\n      <td>327267</td>\n    </tr>\n    <tr>\n      <th>7</th>\n      <td>162738</td>\n    </tr>\n    <tr>\n      <th>16</th>\n      <td>252747</td>\n    </tr>\n  </tbody>\n</table>\n</div>", 
                        "text/plain": "    customerId\n0       127269\n1       227268\n6       327267\n7       162738\n16      252747"
                    }, 
                    "output_type": "execute_result"
                }
            ], 
            "source": "print(customers.shape)\ncustomers.head()"
        }, 
        {
            "execution_count": 7, 
            "cell_type": "code", 
            "metadata": {}, 
            "outputs": [
                {
                    "output_type": "stream", 
                    "name": "stdout", 
                    "text": "(330575, 2)\n"
                }, 
                {
                    "execution_count": 7, 
                    "metadata": {}, 
                    "data": {
                        "text/html": "<div>\n<style scoped>\n    .dataframe tbody tr th:only-of-type {\n        vertical-align: middle;\n    }\n\n    .dataframe tbody tr th {\n        vertical-align: top;\n    }\n\n    .dataframe thead th {\n        text-align: right;\n    }\n</style>\n<table border=\"1\" class=\"dataframe\">\n  <thead>\n    <tr style=\"text-align: right;\">\n      <th></th>\n      <th>customerId</th>\n      <th>products</th>\n    </tr>\n  </thead>\n  <tbody>\n    <tr>\n      <th>0</th>\n      <td>27270</td>\n      <td>85123AY</td>\n    </tr>\n    <tr>\n      <th>1</th>\n      <td>27270</td>\n      <td>71053R</td>\n    </tr>\n    <tr>\n      <th>2</th>\n      <td>27270</td>\n      <td>84406BH</td>\n    </tr>\n    <tr>\n      <th>3</th>\n      <td>27270</td>\n      <td>84029GV</td>\n    </tr>\n    <tr>\n      <th>4</th>\n      <td>27270</td>\n      <td>84029EX</td>\n    </tr>\n  </tbody>\n</table>\n</div>", 
                        "text/plain": "   customerId products\n0       27270  85123AY\n1       27270   71053R\n2       27270  84406BH\n3       27270  84029GV\n4       27270  84029EX"
                    }, 
                    "output_type": "execute_result"
                }
            ], 
            "source": "print(transactions.shape)\ntransactions.head()"
        }, 
        {
            "source": "## 3. Data preparation\n* Our goal here is to break down each list of items in the `products` column into rows and count the number of products bought by a user", 
            "cell_type": "markdown", 
            "metadata": {}
        }, 
        {
            "execution_count": 8, 
            "cell_type": "code", 
            "metadata": {}, 
            "outputs": [
                {
                    "execution_count": 8, 
                    "metadata": {}, 
                    "data": {
                        "text/html": "<div>\n<style scoped>\n    .dataframe tbody tr th:only-of-type {\n        vertical-align: middle;\n    }\n\n    .dataframe tbody tr th {\n        vertical-align: top;\n    }\n\n    .dataframe thead th {\n        text-align: right;\n    }\n</style>\n<table border=\"1\" class=\"dataframe\">\n  <thead>\n    <tr style=\"text-align: right;\">\n      <th></th>\n      <th>customerId</th>\n      <th>0</th>\n    </tr>\n  </thead>\n  <tbody>\n    <tr>\n      <th>0</th>\n      <td>27270</td>\n      <td>85123AY</td>\n    </tr>\n    <tr>\n      <th>1</th>\n      <td>27270</td>\n      <td>71053R</td>\n    </tr>\n    <tr>\n      <th>2</th>\n      <td>27270</td>\n      <td>84406BH</td>\n    </tr>\n    <tr>\n      <th>3</th>\n      <td>27270</td>\n      <td>84029GV</td>\n    </tr>\n    <tr>\n      <th>4</th>\n      <td>27270</td>\n      <td>84029EX</td>\n    </tr>\n    <tr>\n      <th>5</th>\n      <td>27270</td>\n      <td>22752G</td>\n    </tr>\n    <tr>\n      <th>6</th>\n      <td>27270</td>\n      <td>21730R</td>\n    </tr>\n    <tr>\n      <th>7</th>\n      <td>427266</td>\n      <td>21756Q</td>\n    </tr>\n    <tr>\n      <th>8</th>\n      <td>462735</td>\n      <td>22728B</td>\n    </tr>\n    <tr>\n      <th>9</th>\n      <td>462735</td>\n      <td>22727B</td>\n    </tr>\n  </tbody>\n</table>\n</div>", 
                        "text/plain": "   customerId        0\n0       27270  85123AY\n1       27270   71053R\n2       27270  84406BH\n3       27270  84029GV\n4       27270  84029EX\n5       27270   22752G\n6       27270   21730R\n7      427266   21756Q\n8      462735   22728B\n9      462735   22727B"
                    }, 
                    "output_type": "execute_result"
                }
            ], 
            "source": "# example 1: split product items\ntransactions['products'] = transactions['products'].apply(lambda x: [i for i in x.split('|')])\ntransactions.head(10).set_index('customerId')['products'].apply(pd.Series).reset_index()"
        }, 
        {
            "execution_count": 10, 
            "cell_type": "code", 
            "metadata": {}, 
            "outputs": [
                {
                    "execution_count": 10, 
                    "metadata": {}, 
                    "data": {
                        "text/html": "<div>\n<style scoped>\n    .dataframe tbody tr th:only-of-type {\n        vertical-align: middle;\n    }\n\n    .dataframe tbody tr th {\n        vertical-align: top;\n    }\n\n    .dataframe thead th {\n        text-align: right;\n    }\n</style>\n<table border=\"1\" class=\"dataframe\">\n  <thead>\n    <tr style=\"text-align: right;\">\n      <th></th>\n      <th>customerId</th>\n      <th>productId</th>\n      <th>purchase_count</th>\n    </tr>\n  </thead>\n  <tbody>\n    <tr>\n      <th>0</th>\n      <td>27270</td>\n      <td>71053R</td>\n      <td>1</td>\n    </tr>\n    <tr>\n      <th>1</th>\n      <td>27270</td>\n      <td>85123AY</td>\n      <td>1</td>\n    </tr>\n  </tbody>\n</table>\n</div>", 
                        "text/plain": "   customerId productId  purchase_count\n0       27270    71053R               1\n1       27270   85123AY               1"
                    }, 
                    "output_type": "execute_result"
                }
            ], 
            "source": "# example 2: organize a given table into a dataframe with customerId, single productId, and purchase count\npd.melt(transactions.head(2).set_index('customerId')['products'].apply(pd.Series).reset_index(), \n             id_vars=['customerId'],\n             value_name='products') \\\n    .dropna().drop(['variable'], axis=1) \\\n    .groupby(['customerId', 'products']) \\\n    .agg({'products': 'count'}) \\\n    .rename(columns={'products': 'purchase_count'}) \\\n    .reset_index() \\\n    .rename(columns={'products': 'productId'})"
        }, 
        {
            "source": "### 3.1. Create data with user, item, and target field\n* This table will be an input for our modeling later\n    * In this case, our user is `customerId`, `productId`, and `purchase_count`", 
            "cell_type": "markdown", 
            "metadata": {}
        }, 
        {
            "execution_count": 11, 
            "cell_type": "code", 
            "metadata": {}, 
            "outputs": [
                {
                    "output_type": "stream", 
                    "name": "stdout", 
                    "text": "Execution time: 1.09 minutes\n"
                }
            ], 
            "source": "s=time.time()\n\ndata = pd.melt(transactions.set_index('customerId')['products'].apply(pd.Series).reset_index(), \n             id_vars=['customerId'],\n             value_name='products') \\\n    .dropna().drop(['variable'], axis=1) \\\n    .groupby(['customerId', 'products']) \\\n    .agg({'products': 'count'}) \\\n    .rename(columns={'products': 'purchase_count'}) \\\n    .reset_index() \\\n    .rename(columns={'products': 'productId'})\n# data['productId'] = data['productId'].astype(np.int64)\n\nprint(\"Execution time:\", round((time.time()-s)/60,2), \"minutes\")"
        }, 
        {
            "execution_count": 13, 
            "cell_type": "code", 
            "metadata": {}, 
            "outputs": [
                {
                    "output_type": "stream", 
                    "name": "stdout", 
                    "text": "(271031, 3)\n"
                }, 
                {
                    "execution_count": 13, 
                    "metadata": {}, 
                    "data": {
                        "text/html": "<div>\n<style scoped>\n    .dataframe tbody tr th:only-of-type {\n        vertical-align: middle;\n    }\n\n    .dataframe tbody tr th {\n        vertical-align: top;\n    }\n\n    .dataframe thead th {\n        text-align: right;\n    }\n</style>\n<table border=\"1\" class=\"dataframe\">\n  <thead>\n    <tr style=\"text-align: right;\">\n      <th></th>\n      <th>customerId</th>\n      <th>productId</th>\n      <th>purchase_count</th>\n    </tr>\n  </thead>\n  <tbody>\n    <tr>\n      <th>0</th>\n      <td>0</td>\n      <td>15056BLH</td>\n      <td>1</td>\n    </tr>\n    <tr>\n      <th>1</th>\n      <td>0</td>\n      <td>15056ND</td>\n      <td>1</td>\n    </tr>\n    <tr>\n      <th>2</th>\n      <td>0</td>\n      <td>15058CH</td>\n      <td>1</td>\n    </tr>\n    <tr>\n      <th>3</th>\n      <td>0</td>\n      <td>15060BB</td>\n      <td>1</td>\n    </tr>\n    <tr>\n      <th>4</th>\n      <td>0</td>\n      <td>16218Y</td>\n      <td>1</td>\n    </tr>\n    <tr>\n      <th>5</th>\n      <td>0</td>\n      <td>16235A</td>\n      <td>1</td>\n    </tr>\n    <tr>\n      <th>6</th>\n      <td>0</td>\n      <td>16236S</td>\n      <td>1</td>\n    </tr>\n    <tr>\n      <th>7</th>\n      <td>0</td>\n      <td>17091JD</td>\n      <td>1</td>\n    </tr>\n    <tr>\n      <th>8</th>\n      <td>0</td>\n      <td>20674R</td>\n      <td>1</td>\n    </tr>\n    <tr>\n      <th>9</th>\n      <td>0</td>\n      <td>20675E</td>\n      <td>1</td>\n    </tr>\n    <tr>\n      <th>10</th>\n      <td>0</td>\n      <td>20677D</td>\n      <td>1</td>\n    </tr>\n    <tr>\n      <th>11</th>\n      <td>0</td>\n      <td>20712E</td>\n      <td>1</td>\n    </tr>\n    <tr>\n      <th>12</th>\n      <td>0</td>\n      <td>20719E</td>\n      <td>2</td>\n    </tr>\n    <tr>\n      <th>13</th>\n      <td>0</td>\n      <td>20725N</td>\n      <td>1</td>\n    </tr>\n    <tr>\n      <th>14</th>\n      <td>0</td>\n      <td>20726C</td>\n      <td>3</td>\n    </tr>\n    <tr>\n      <th>15</th>\n      <td>0</td>\n      <td>20727V</td>\n      <td>1</td>\n    </tr>\n    <tr>\n      <th>16</th>\n      <td>0</td>\n      <td>20728Z</td>\n      <td>2</td>\n    </tr>\n    <tr>\n      <th>17</th>\n      <td>0</td>\n      <td>20801C</td>\n      <td>1</td>\n    </tr>\n    <tr>\n      <th>18</th>\n      <td>0</td>\n      <td>20829J</td>\n      <td>1</td>\n    </tr>\n    <tr>\n      <th>19</th>\n      <td>0</td>\n      <td>20838A</td>\n      <td>1</td>\n    </tr>\n  </tbody>\n</table>\n</div>", 
                        "text/plain": "    customerId productId  purchase_count\n0            0  15056BLH               1\n1            0   15056ND               1\n2            0   15058CH               1\n3            0   15060BB               1\n4            0    16218Y               1\n5            0    16235A               1\n6            0    16236S               1\n7            0   17091JD               1\n8            0    20674R               1\n9            0    20675E               1\n10           0    20677D               1\n11           0    20712E               1\n12           0    20719E               2\n13           0    20725N               1\n14           0    20726C               3\n15           0    20727V               1\n16           0    20728Z               2\n17           0    20801C               1\n18           0    20829J               1\n19           0    20838A               1"
                    }, 
                    "output_type": "execute_result"
                }
            ], 
            "source": "print(data.shape)\ndata.head(20)"
        }, 
        {
            "source": "### 3.2. Create dummy\n* Dummy for marking whether a customer bought that item or not.\n* If one buys an item, then `purchase_dummy` are marked as 1\n* Why create a dummy instead of normalizing it, you ask?\n    * Normalizing the purchase count, say by each user, would not work because customers may have different buying frequency don't have the same taste\n    * However, we can normalize items by purchase frequency across all users, which is done in section 3.3. below.", 
            "cell_type": "markdown", 
            "metadata": {}
        }, 
        {
            "execution_count": 14, 
            "cell_type": "code", 
            "metadata": {}, 
            "outputs": [], 
            "source": "def create_data_dummy(data):\n    data_dummy = data.copy()\n    data_dummy['purchase_dummy'] = 1\n    return data_dummy"
        }, 
        {
            "execution_count": 15, 
            "cell_type": "code", 
            "metadata": {}, 
            "outputs": [], 
            "source": "data_dummy = create_data_dummy(data)"
        }, 
        {
            "source": "### 3.3. Normalize item values across users\n* To do this, we normalize purchase frequency of each item across users by first creating a user-item matrix as follows", 
            "cell_type": "markdown", 
            "metadata": {}
        }, 
        {
            "execution_count": 20, 
            "cell_type": "code", 
            "metadata": {}, 
            "outputs": [
                {
                    "execution_count": 20, 
                    "metadata": {}, 
                    "data": {
                        "text/html": "<div>\n<style scoped>\n    .dataframe tbody tr th:only-of-type {\n        vertical-align: middle;\n    }\n\n    .dataframe tbody tr th {\n        vertical-align: top;\n    }\n\n    .dataframe thead th {\n        text-align: right;\n    }\n</style>\n<table border=\"1\" class=\"dataframe\">\n  <thead>\n    <tr style=\"text-align: right;\">\n      <th>productId</th>\n      <th>10002F</th>\n      <th>10080Q</th>\n      <th>10120M</th>\n      <th>10123CU</th>\n      <th>10124AW</th>\n      <th>10124GF</th>\n      <th>10125J</th>\n      <th>10133M</th>\n      <th>10135P</th>\n      <th>11001M</th>\n      <th>...</th>\n      <th>90214OZ</th>\n      <th>90214PB</th>\n      <th>90214RZ</th>\n      <th>90214SF</th>\n      <th>90214TT</th>\n      <th>90214UO</th>\n      <th>90214VD</th>\n      <th>90214WH</th>\n      <th>90214YL</th>\n      <th>90214ZJ</th>\n    </tr>\n    <tr>\n      <th>customerId</th>\n      <th></th>\n      <th></th>\n      <th></th>\n      <th></th>\n      <th></th>\n      <th></th>\n      <th></th>\n      <th></th>\n      <th></th>\n      <th></th>\n      <th></th>\n      <th></th>\n      <th></th>\n      <th></th>\n      <th></th>\n      <th></th>\n      <th></th>\n      <th></th>\n      <th></th>\n      <th></th>\n      <th></th>\n    </tr>\n  </thead>\n  <tbody>\n    <tr>\n      <th>0</th>\n      <td>NaN</td>\n      <td>NaN</td>\n      <td>NaN</td>\n      <td>NaN</td>\n      <td>NaN</td>\n      <td>NaN</td>\n      <td>NaN</td>\n      <td>NaN</td>\n      <td>NaN</td>\n      <td>NaN</td>\n      <td>...</td>\n      <td>NaN</td>\n      <td>NaN</td>\n      <td>NaN</td>\n      <td>NaN</td>\n      <td>NaN</td>\n      <td>NaN</td>\n      <td>NaN</td>\n      <td>NaN</td>\n      <td>NaN</td>\n      <td>NaN</td>\n    </tr>\n    <tr>\n      <th>900</th>\n      <td>NaN</td>\n      <td>NaN</td>\n      <td>NaN</td>\n      <td>NaN</td>\n      <td>NaN</td>\n      <td>NaN</td>\n      <td>NaN</td>\n      <td>NaN</td>\n      <td>2.0</td>\n      <td>1.0</td>\n      <td>...</td>\n      <td>NaN</td>\n      <td>NaN</td>\n      <td>NaN</td>\n      <td>NaN</td>\n      <td>NaN</td>\n      <td>NaN</td>\n      <td>NaN</td>\n      <td>NaN</td>\n      <td>NaN</td>\n      <td>NaN</td>\n    </tr>\n    <tr>\n      <th>1800</th>\n      <td>NaN</td>\n      <td>NaN</td>\n      <td>NaN</td>\n      <td>NaN</td>\n      <td>NaN</td>\n      <td>NaN</td>\n      <td>NaN</td>\n      <td>NaN</td>\n      <td>NaN</td>\n      <td>NaN</td>\n      <td>...</td>\n      <td>NaN</td>\n      <td>NaN</td>\n      <td>NaN</td>\n      <td>NaN</td>\n      <td>NaN</td>\n      <td>NaN</td>\n      <td>NaN</td>\n      <td>NaN</td>\n      <td>NaN</td>\n      <td>NaN</td>\n    </tr>\n    <tr>\n      <th>2790</th>\n      <td>NaN</td>\n      <td>NaN</td>\n      <td>NaN</td>\n      <td>NaN</td>\n      <td>NaN</td>\n      <td>NaN</td>\n      <td>NaN</td>\n      <td>NaN</td>\n      <td>NaN</td>\n      <td>NaN</td>\n      <td>...</td>\n      <td>NaN</td>\n      <td>NaN</td>\n      <td>NaN</td>\n      <td>NaN</td>\n      <td>NaN</td>\n      <td>NaN</td>\n      <td>NaN</td>\n      <td>NaN</td>\n      <td>NaN</td>\n      <td>NaN</td>\n    </tr>\n    <tr>\n      <th>4590</th>\n      <td>NaN</td>\n      <td>NaN</td>\n      <td>NaN</td>\n      <td>NaN</td>\n      <td>NaN</td>\n      <td>NaN</td>\n      <td>NaN</td>\n      <td>NaN</td>\n      <td>NaN</td>\n      <td>NaN</td>\n      <td>...</td>\n      <td>NaN</td>\n      <td>NaN</td>\n      <td>NaN</td>\n      <td>NaN</td>\n      <td>NaN</td>\n      <td>NaN</td>\n      <td>NaN</td>\n      <td>NaN</td>\n      <td>NaN</td>\n      <td>NaN</td>\n    </tr>\n    <tr>\n      <th>5400</th>\n      <td>NaN</td>\n      <td>NaN</td>\n      <td>NaN</td>\n      <td>NaN</td>\n      <td>NaN</td>\n      <td>NaN</td>\n      <td>NaN</td>\n      <td>NaN</td>\n      <td>NaN</td>\n      <td>NaN</td>\n      <td>...</td>\n      <td>NaN</td>\n      <td>NaN</td>\n      <td>NaN</td>\n      <td>NaN</td>\n      <td>NaN</td>\n      <td>NaN</td>\n      <td>NaN</td>\n      <td>NaN</td>\n      <td>NaN</td>\n      <td>NaN</td>\n    </tr>\n    <tr>\n      <th>6300</th>\n      <td>NaN</td>\n      <td>NaN</td>\n      <td>NaN</td>\n      <td>NaN</td>\n      <td>NaN</td>\n      <td>NaN</td>\n      <td>NaN</td>\n      <td>1.0</td>\n      <td>NaN</td>\n      <td>NaN</td>\n      <td>...</td>\n      <td>NaN</td>\n      <td>NaN</td>\n      <td>NaN</td>\n      <td>NaN</td>\n      <td>NaN</td>\n      <td>NaN</td>\n      <td>NaN</td>\n      <td>NaN</td>\n      <td>NaN</td>\n      <td>NaN</td>\n    </tr>\n    <tr>\n      <th>6390</th>\n      <td>NaN</td>\n      <td>NaN</td>\n      <td>NaN</td>\n      <td>NaN</td>\n      <td>NaN</td>\n      <td>NaN</td>\n      <td>NaN</td>\n      <td>NaN</td>\n      <td>NaN</td>\n      <td>NaN</td>\n      <td>...</td>\n      <td>NaN</td>\n      <td>NaN</td>\n      <td>NaN</td>\n      <td>NaN</td>\n      <td>NaN</td>\n      <td>NaN</td>\n      <td>NaN</td>\n      <td>NaN</td>\n      <td>NaN</td>\n      <td>NaN</td>\n    </tr>\n    <tr>\n      <th>7200</th>\n      <td>NaN</td>\n      <td>NaN</td>\n      <td>NaN</td>\n      <td>NaN</td>\n      <td>NaN</td>\n      <td>NaN</td>\n      <td>NaN</td>\n      <td>NaN</td>\n      <td>NaN</td>\n      <td>NaN</td>\n      <td>...</td>\n      <td>NaN</td>\n      <td>NaN</td>\n      <td>NaN</td>\n      <td>NaN</td>\n      <td>NaN</td>\n      <td>NaN</td>\n      <td>NaN</td>\n      <td>NaN</td>\n      <td>NaN</td>\n      <td>NaN</td>\n    </tr>\n    <tr>\n      <th>7290</th>\n      <td>NaN</td>\n      <td>NaN</td>\n      <td>NaN</td>\n      <td>NaN</td>\n      <td>NaN</td>\n      <td>NaN</td>\n      <td>NaN</td>\n      <td>2.0</td>\n      <td>NaN</td>\n      <td>NaN</td>\n      <td>...</td>\n      <td>NaN</td>\n      <td>NaN</td>\n      <td>NaN</td>\n      <td>NaN</td>\n      <td>NaN</td>\n      <td>NaN</td>\n      <td>NaN</td>\n      <td>NaN</td>\n      <td>NaN</td>\n      <td>NaN</td>\n    </tr>\n    <tr>\n      <th>8100</th>\n      <td>NaN</td>\n      <td>NaN</td>\n      <td>NaN</td>\n      <td>NaN</td>\n      <td>NaN</td>\n      <td>NaN</td>\n      <td>NaN</td>\n      <td>1.0</td>\n      <td>NaN</td>\n      <td>1.0</td>\n      <td>...</td>\n      <td>NaN</td>\n      <td>NaN</td>\n      <td>NaN</td>\n      <td>NaN</td>\n      <td>NaN</td>\n      <td>NaN</td>\n      <td>NaN</td>\n      <td>NaN</td>\n      <td>NaN</td>\n      <td>NaN</td>\n    </tr>\n    <tr>\n      <th>9990</th>\n      <td>NaN</td>\n      <td>NaN</td>\n      <td>NaN</td>\n      <td>NaN</td>\n      <td>NaN</td>\n      <td>NaN</td>\n      <td>NaN</td>\n      <td>1.0</td>\n      <td>2.0</td>\n      <td>NaN</td>\n      <td>...</td>\n      <td>NaN</td>\n      <td>NaN</td>\n      <td>1.0</td>\n      <td>1.0</td>\n      <td>NaN</td>\n      <td>NaN</td>\n      <td>1.0</td>\n      <td>NaN</td>\n      <td>NaN</td>\n      <td>NaN</td>\n    </tr>\n    <tr>\n      <th>10890</th>\n      <td>NaN</td>\n      <td>NaN</td>\n      <td>NaN</td>\n      <td>1.0</td>\n      <td>NaN</td>\n      <td>NaN</td>\n      <td>NaN</td>\n      <td>1.0</td>\n      <td>NaN</td>\n      <td>1.0</td>\n      <td>...</td>\n      <td>NaN</td>\n      <td>NaN</td>\n      <td>NaN</td>\n      <td>NaN</td>\n      <td>NaN</td>\n      <td>NaN</td>\n      <td>NaN</td>\n      <td>NaN</td>\n      <td>NaN</td>\n      <td>NaN</td>\n    </tr>\n    <tr>\n      <th>11790</th>\n      <td>NaN</td>\n      <td>NaN</td>\n      <td>NaN</td>\n      <td>NaN</td>\n      <td>NaN</td>\n      <td>NaN</td>\n      <td>NaN</td>\n      <td>NaN</td>\n      <td>1.0</td>\n      <td>1.0</td>\n      <td>...</td>\n      <td>NaN</td>\n      <td>NaN</td>\n      <td>NaN</td>\n      <td>1.0</td>\n      <td>NaN</td>\n      <td>NaN</td>\n      <td>NaN</td>\n      <td>NaN</td>\n      <td>NaN</td>\n      <td>NaN</td>\n    </tr>\n    <tr>\n      <th>11880</th>\n      <td>NaN</td>\n      <td>NaN</td>\n      <td>NaN</td>\n      <td>NaN</td>\n      <td>NaN</td>\n      <td>NaN</td>\n      <td>NaN</td>\n      <td>NaN</td>\n      <td>NaN</td>\n      <td>NaN</td>\n      <td>...</td>\n      <td>NaN</td>\n      <td>NaN</td>\n      <td>NaN</td>\n      <td>NaN</td>\n      <td>NaN</td>\n      <td>NaN</td>\n      <td>NaN</td>\n      <td>NaN</td>\n      <td>NaN</td>\n      <td>NaN</td>\n    </tr>\n    <tr>\n      <th>12690</th>\n      <td>NaN</td>\n      <td>NaN</td>\n      <td>NaN</td>\n      <td>NaN</td>\n      <td>NaN</td>\n      <td>NaN</td>\n      <td>NaN</td>\n      <td>NaN</td>\n      <td>NaN</td>\n      <td>NaN</td>\n      <td>...</td>\n      <td>NaN</td>\n      <td>NaN</td>\n      <td>NaN</td>\n      <td>NaN</td>\n      <td>NaN</td>\n      <td>NaN</td>\n      <td>NaN</td>\n      <td>NaN</td>\n      <td>NaN</td>\n      <td>NaN</td>\n    </tr>\n    <tr>\n      <th>12780</th>\n      <td>NaN</td>\n      <td>NaN</td>\n      <td>NaN</td>\n      <td>NaN</td>\n      <td>NaN</td>\n      <td>NaN</td>\n      <td>NaN</td>\n      <td>1.0</td>\n      <td>NaN</td>\n      <td>NaN</td>\n      <td>...</td>\n      <td>NaN</td>\n      <td>NaN</td>\n      <td>NaN</td>\n      <td>NaN</td>\n      <td>NaN</td>\n      <td>NaN</td>\n      <td>NaN</td>\n      <td>NaN</td>\n      <td>NaN</td>\n      <td>NaN</td>\n    </tr>\n    <tr>\n      <th>13590</th>\n      <td>NaN</td>\n      <td>NaN</td>\n      <td>NaN</td>\n      <td>NaN</td>\n      <td>NaN</td>\n      <td>NaN</td>\n      <td>NaN</td>\n      <td>NaN</td>\n      <td>NaN</td>\n      <td>NaN</td>\n      <td>...</td>\n      <td>NaN</td>\n      <td>NaN</td>\n      <td>NaN</td>\n      <td>NaN</td>\n      <td>NaN</td>\n      <td>NaN</td>\n      <td>NaN</td>\n      <td>NaN</td>\n      <td>NaN</td>\n      <td>NaN</td>\n    </tr>\n    <tr>\n      <th>15480</th>\n      <td>NaN</td>\n      <td>NaN</td>\n      <td>NaN</td>\n      <td>NaN</td>\n      <td>NaN</td>\n      <td>NaN</td>\n      <td>NaN</td>\n      <td>NaN</td>\n      <td>NaN</td>\n      <td>NaN</td>\n      <td>...</td>\n      <td>NaN</td>\n      <td>NaN</td>\n      <td>NaN</td>\n      <td>NaN</td>\n      <td>NaN</td>\n      <td>NaN</td>\n      <td>NaN</td>\n      <td>NaN</td>\n      <td>NaN</td>\n      <td>NaN</td>\n    </tr>\n    <tr>\n      <th>16290</th>\n      <td>NaN</td>\n      <td>NaN</td>\n      <td>NaN</td>\n      <td>NaN</td>\n      <td>NaN</td>\n      <td>NaN</td>\n      <td>NaN</td>\n      <td>NaN</td>\n      <td>NaN</td>\n      <td>1.0</td>\n      <td>...</td>\n      <td>NaN</td>\n      <td>NaN</td>\n      <td>NaN</td>\n      <td>NaN</td>\n      <td>NaN</td>\n      <td>NaN</td>\n      <td>NaN</td>\n      <td>NaN</td>\n      <td>NaN</td>\n      <td>NaN</td>\n    </tr>\n  </tbody>\n</table>\n<p>20 rows \u00d7 3810 columns</p>\n</div>", 
                        "text/plain": "productId   10002F  10080Q  10120M  10123CU  10124AW  10124GF  10125J  10133M  \\\ncustomerId                                                                      \n0              NaN     NaN     NaN      NaN      NaN      NaN     NaN     NaN   \n900            NaN     NaN     NaN      NaN      NaN      NaN     NaN     NaN   \n1800           NaN     NaN     NaN      NaN      NaN      NaN     NaN     NaN   \n2790           NaN     NaN     NaN      NaN      NaN      NaN     NaN     NaN   \n4590           NaN     NaN     NaN      NaN      NaN      NaN     NaN     NaN   \n5400           NaN     NaN     NaN      NaN      NaN      NaN     NaN     NaN   \n6300           NaN     NaN     NaN      NaN      NaN      NaN     NaN     1.0   \n6390           NaN     NaN     NaN      NaN      NaN      NaN     NaN     NaN   \n7200           NaN     NaN     NaN      NaN      NaN      NaN     NaN     NaN   \n7290           NaN     NaN     NaN      NaN      NaN      NaN     NaN     2.0   \n8100           NaN     NaN     NaN      NaN      NaN      NaN     NaN     1.0   \n9990           NaN     NaN     NaN      NaN      NaN      NaN     NaN     1.0   \n10890          NaN     NaN     NaN      1.0      NaN      NaN     NaN     1.0   \n11790          NaN     NaN     NaN      NaN      NaN      NaN     NaN     NaN   \n11880          NaN     NaN     NaN      NaN      NaN      NaN     NaN     NaN   \n12690          NaN     NaN     NaN      NaN      NaN      NaN     NaN     NaN   \n12780          NaN     NaN     NaN      NaN      NaN      NaN     NaN     1.0   \n13590          NaN     NaN     NaN      NaN      NaN      NaN     NaN     NaN   \n15480          NaN     NaN     NaN      NaN      NaN      NaN     NaN     NaN   \n16290          NaN     NaN     NaN      NaN      NaN      NaN     NaN     NaN   \n\nproductId   10135P  11001M   ...     90214OZ  90214PB  90214RZ  90214SF  \\\ncustomerId                   ...                                          \n0              NaN     NaN   ...         NaN      NaN      NaN      NaN   \n900            2.0     1.0   ...         NaN      NaN      NaN      NaN   \n1800           NaN     NaN   ...         NaN      NaN      NaN      NaN   \n2790           NaN     NaN   ...         NaN      NaN      NaN      NaN   \n4590           NaN     NaN   ...         NaN      NaN      NaN      NaN   \n5400           NaN     NaN   ...         NaN      NaN      NaN      NaN   \n6300           NaN     NaN   ...         NaN      NaN      NaN      NaN   \n6390           NaN     NaN   ...         NaN      NaN      NaN      NaN   \n7200           NaN     NaN   ...         NaN      NaN      NaN      NaN   \n7290           NaN     NaN   ...         NaN      NaN      NaN      NaN   \n8100           NaN     1.0   ...         NaN      NaN      NaN      NaN   \n9990           2.0     NaN   ...         NaN      NaN      1.0      1.0   \n10890          NaN     1.0   ...         NaN      NaN      NaN      NaN   \n11790          1.0     1.0   ...         NaN      NaN      NaN      1.0   \n11880          NaN     NaN   ...         NaN      NaN      NaN      NaN   \n12690          NaN     NaN   ...         NaN      NaN      NaN      NaN   \n12780          NaN     NaN   ...         NaN      NaN      NaN      NaN   \n13590          NaN     NaN   ...         NaN      NaN      NaN      NaN   \n15480          NaN     NaN   ...         NaN      NaN      NaN      NaN   \n16290          NaN     1.0   ...         NaN      NaN      NaN      NaN   \n\nproductId   90214TT  90214UO  90214VD  90214WH  90214YL  90214ZJ  \ncustomerId                                                        \n0               NaN      NaN      NaN      NaN      NaN      NaN  \n900             NaN      NaN      NaN      NaN      NaN      NaN  \n1800            NaN      NaN      NaN      NaN      NaN      NaN  \n2790            NaN      NaN      NaN      NaN      NaN      NaN  \n4590            NaN      NaN      NaN      NaN      NaN      NaN  \n5400            NaN      NaN      NaN      NaN      NaN      NaN  \n6300            NaN      NaN      NaN      NaN      NaN      NaN  \n6390            NaN      NaN      NaN      NaN      NaN      NaN  \n7200            NaN      NaN      NaN      NaN      NaN      NaN  \n7290            NaN      NaN      NaN      NaN      NaN      NaN  \n8100            NaN      NaN      NaN      NaN      NaN      NaN  \n9990            NaN      NaN      1.0      NaN      NaN      NaN  \n10890           NaN      NaN      NaN      NaN      NaN      NaN  \n11790           NaN      NaN      NaN      NaN      NaN      NaN  \n11880           NaN      NaN      NaN      NaN      NaN      NaN  \n12690           NaN      NaN      NaN      NaN      NaN      NaN  \n12780           NaN      NaN      NaN      NaN      NaN      NaN  \n13590           NaN      NaN      NaN      NaN      NaN      NaN  \n15480           NaN      NaN      NaN      NaN      NaN      NaN  \n16290           NaN      NaN      NaN      NaN      NaN      NaN  \n\n[20 rows x 3810 columns]"
                    }, 
                    "output_type": "execute_result"
                }
            ], 
            "source": "df_matrix = pd.pivot_table(data, values='purchase_count', index='customerId', columns='productId')\ndf_matrix.head(20)"
        }, 
        {
            "execution_count": 18, 
            "cell_type": "code", 
            "metadata": {}, 
            "outputs": [
                {
                    "execution_count": 18, 
                    "metadata": {}, 
                    "data": {
                        "text/plain": "(972, 3810)"
                    }, 
                    "output_type": "execute_result"
                }
            ], 
            "source": "(df_matrix.shape)"
        }, 
        {
            "execution_count": 21, 
            "cell_type": "code", 
            "metadata": {}, 
            "outputs": [
                {
                    "output_type": "stream", 
                    "name": "stdout", 
                    "text": "(972, 3810)\n"
                }, 
                {
                    "execution_count": 21, 
                    "metadata": {}, 
                    "data": {
                        "text/html": "<div>\n<style scoped>\n    .dataframe tbody tr th:only-of-type {\n        vertical-align: middle;\n    }\n\n    .dataframe tbody tr th {\n        vertical-align: top;\n    }\n\n    .dataframe thead th {\n        text-align: right;\n    }\n</style>\n<table border=\"1\" class=\"dataframe\">\n  <thead>\n    <tr style=\"text-align: right;\">\n      <th>productId</th>\n      <th>10002F</th>\n      <th>10080Q</th>\n      <th>10120M</th>\n      <th>10123CU</th>\n      <th>10124AW</th>\n      <th>10124GF</th>\n      <th>10125J</th>\n      <th>10133M</th>\n      <th>10135P</th>\n      <th>11001M</th>\n      <th>...</th>\n      <th>90214OZ</th>\n      <th>90214PB</th>\n      <th>90214RZ</th>\n      <th>90214SF</th>\n      <th>90214TT</th>\n      <th>90214UO</th>\n      <th>90214VD</th>\n      <th>90214WH</th>\n      <th>90214YL</th>\n      <th>90214ZJ</th>\n    </tr>\n    <tr>\n      <th>customerId</th>\n      <th></th>\n      <th></th>\n      <th></th>\n      <th></th>\n      <th></th>\n      <th></th>\n      <th></th>\n      <th></th>\n      <th></th>\n      <th></th>\n      <th></th>\n      <th></th>\n      <th></th>\n      <th></th>\n      <th></th>\n      <th></th>\n      <th></th>\n      <th></th>\n      <th></th>\n      <th></th>\n      <th></th>\n    </tr>\n  </thead>\n  <tbody>\n    <tr>\n      <th>0</th>\n      <td>NaN</td>\n      <td>NaN</td>\n      <td>NaN</td>\n      <td>NaN</td>\n      <td>NaN</td>\n      <td>NaN</td>\n      <td>NaN</td>\n      <td>NaN</td>\n      <td>NaN</td>\n      <td>NaN</td>\n      <td>...</td>\n      <td>NaN</td>\n      <td>NaN</td>\n      <td>NaN</td>\n      <td>NaN</td>\n      <td>NaN</td>\n      <td>NaN</td>\n      <td>NaN</td>\n      <td>NaN</td>\n      <td>NaN</td>\n      <td>NaN</td>\n    </tr>\n    <tr>\n      <th>900</th>\n      <td>NaN</td>\n      <td>NaN</td>\n      <td>NaN</td>\n      <td>NaN</td>\n      <td>NaN</td>\n      <td>NaN</td>\n      <td>NaN</td>\n      <td>NaN</td>\n      <td>1.0</td>\n      <td>0.0</td>\n      <td>...</td>\n      <td>NaN</td>\n      <td>NaN</td>\n      <td>NaN</td>\n      <td>NaN</td>\n      <td>NaN</td>\n      <td>NaN</td>\n      <td>NaN</td>\n      <td>NaN</td>\n      <td>NaN</td>\n      <td>NaN</td>\n    </tr>\n    <tr>\n      <th>1800</th>\n      <td>NaN</td>\n      <td>NaN</td>\n      <td>NaN</td>\n      <td>NaN</td>\n      <td>NaN</td>\n      <td>NaN</td>\n      <td>NaN</td>\n      <td>NaN</td>\n      <td>NaN</td>\n      <td>NaN</td>\n      <td>...</td>\n      <td>NaN</td>\n      <td>NaN</td>\n      <td>NaN</td>\n      <td>NaN</td>\n      <td>NaN</td>\n      <td>NaN</td>\n      <td>NaN</td>\n      <td>NaN</td>\n      <td>NaN</td>\n      <td>NaN</td>\n    </tr>\n    <tr>\n      <th>2790</th>\n      <td>NaN</td>\n      <td>NaN</td>\n      <td>NaN</td>\n      <td>NaN</td>\n      <td>NaN</td>\n      <td>NaN</td>\n      <td>NaN</td>\n      <td>NaN</td>\n      <td>NaN</td>\n      <td>NaN</td>\n      <td>...</td>\n      <td>NaN</td>\n      <td>NaN</td>\n      <td>NaN</td>\n      <td>NaN</td>\n      <td>NaN</td>\n      <td>NaN</td>\n      <td>NaN</td>\n      <td>NaN</td>\n      <td>NaN</td>\n      <td>NaN</td>\n    </tr>\n    <tr>\n      <th>4590</th>\n      <td>NaN</td>\n      <td>NaN</td>\n      <td>NaN</td>\n      <td>NaN</td>\n      <td>NaN</td>\n      <td>NaN</td>\n      <td>NaN</td>\n      <td>NaN</td>\n      <td>NaN</td>\n      <td>NaN</td>\n      <td>...</td>\n      <td>NaN</td>\n      <td>NaN</td>\n      <td>NaN</td>\n      <td>NaN</td>\n      <td>NaN</td>\n      <td>NaN</td>\n      <td>NaN</td>\n      <td>NaN</td>\n      <td>NaN</td>\n      <td>NaN</td>\n    </tr>\n    <tr>\n      <th>5400</th>\n      <td>NaN</td>\n      <td>NaN</td>\n      <td>NaN</td>\n      <td>NaN</td>\n      <td>NaN</td>\n      <td>NaN</td>\n      <td>NaN</td>\n      <td>NaN</td>\n      <td>NaN</td>\n      <td>NaN</td>\n      <td>...</td>\n      <td>NaN</td>\n      <td>NaN</td>\n      <td>NaN</td>\n      <td>NaN</td>\n      <td>NaN</td>\n      <td>NaN</td>\n      <td>NaN</td>\n      <td>NaN</td>\n      <td>NaN</td>\n      <td>NaN</td>\n    </tr>\n    <tr>\n      <th>6300</th>\n      <td>NaN</td>\n      <td>NaN</td>\n      <td>NaN</td>\n      <td>NaN</td>\n      <td>NaN</td>\n      <td>NaN</td>\n      <td>NaN</td>\n      <td>0.0</td>\n      <td>NaN</td>\n      <td>NaN</td>\n      <td>...</td>\n      <td>NaN</td>\n      <td>NaN</td>\n      <td>NaN</td>\n      <td>NaN</td>\n      <td>NaN</td>\n      <td>NaN</td>\n      <td>NaN</td>\n      <td>NaN</td>\n      <td>NaN</td>\n      <td>NaN</td>\n    </tr>\n    <tr>\n      <th>6390</th>\n      <td>NaN</td>\n      <td>NaN</td>\n      <td>NaN</td>\n      <td>NaN</td>\n      <td>NaN</td>\n      <td>NaN</td>\n      <td>NaN</td>\n      <td>NaN</td>\n      <td>NaN</td>\n      <td>NaN</td>\n      <td>...</td>\n      <td>NaN</td>\n      <td>NaN</td>\n      <td>NaN</td>\n      <td>NaN</td>\n      <td>NaN</td>\n      <td>NaN</td>\n      <td>NaN</td>\n      <td>NaN</td>\n      <td>NaN</td>\n      <td>NaN</td>\n    </tr>\n    <tr>\n      <th>7200</th>\n      <td>NaN</td>\n      <td>NaN</td>\n      <td>NaN</td>\n      <td>NaN</td>\n      <td>NaN</td>\n      <td>NaN</td>\n      <td>NaN</td>\n      <td>NaN</td>\n      <td>NaN</td>\n      <td>NaN</td>\n      <td>...</td>\n      <td>NaN</td>\n      <td>NaN</td>\n      <td>NaN</td>\n      <td>NaN</td>\n      <td>NaN</td>\n      <td>NaN</td>\n      <td>NaN</td>\n      <td>NaN</td>\n      <td>NaN</td>\n      <td>NaN</td>\n    </tr>\n    <tr>\n      <th>7290</th>\n      <td>NaN</td>\n      <td>NaN</td>\n      <td>NaN</td>\n      <td>NaN</td>\n      <td>NaN</td>\n      <td>NaN</td>\n      <td>NaN</td>\n      <td>0.5</td>\n      <td>NaN</td>\n      <td>NaN</td>\n      <td>...</td>\n      <td>NaN</td>\n      <td>NaN</td>\n      <td>NaN</td>\n      <td>NaN</td>\n      <td>NaN</td>\n      <td>NaN</td>\n      <td>NaN</td>\n      <td>NaN</td>\n      <td>NaN</td>\n      <td>NaN</td>\n    </tr>\n    <tr>\n      <th>8100</th>\n      <td>NaN</td>\n      <td>NaN</td>\n      <td>NaN</td>\n      <td>NaN</td>\n      <td>NaN</td>\n      <td>NaN</td>\n      <td>NaN</td>\n      <td>0.0</td>\n      <td>NaN</td>\n      <td>0.0</td>\n      <td>...</td>\n      <td>NaN</td>\n      <td>NaN</td>\n      <td>NaN</td>\n      <td>NaN</td>\n      <td>NaN</td>\n      <td>NaN</td>\n      <td>NaN</td>\n      <td>NaN</td>\n      <td>NaN</td>\n      <td>NaN</td>\n    </tr>\n    <tr>\n      <th>9990</th>\n      <td>NaN</td>\n      <td>NaN</td>\n      <td>NaN</td>\n      <td>NaN</td>\n      <td>NaN</td>\n      <td>NaN</td>\n      <td>NaN</td>\n      <td>0.0</td>\n      <td>1.0</td>\n      <td>NaN</td>\n      <td>...</td>\n      <td>NaN</td>\n      <td>NaN</td>\n      <td>NaN</td>\n      <td>0.0</td>\n      <td>NaN</td>\n      <td>NaN</td>\n      <td>NaN</td>\n      <td>NaN</td>\n      <td>NaN</td>\n      <td>NaN</td>\n    </tr>\n    <tr>\n      <th>10890</th>\n      <td>NaN</td>\n      <td>NaN</td>\n      <td>NaN</td>\n      <td>NaN</td>\n      <td>NaN</td>\n      <td>NaN</td>\n      <td>NaN</td>\n      <td>0.0</td>\n      <td>NaN</td>\n      <td>0.0</td>\n      <td>...</td>\n      <td>NaN</td>\n      <td>NaN</td>\n      <td>NaN</td>\n      <td>NaN</td>\n      <td>NaN</td>\n      <td>NaN</td>\n      <td>NaN</td>\n      <td>NaN</td>\n      <td>NaN</td>\n      <td>NaN</td>\n    </tr>\n    <tr>\n      <th>11790</th>\n      <td>NaN</td>\n      <td>NaN</td>\n      <td>NaN</td>\n      <td>NaN</td>\n      <td>NaN</td>\n      <td>NaN</td>\n      <td>NaN</td>\n      <td>NaN</td>\n      <td>0.0</td>\n      <td>0.0</td>\n      <td>...</td>\n      <td>NaN</td>\n      <td>NaN</td>\n      <td>NaN</td>\n      <td>0.0</td>\n      <td>NaN</td>\n      <td>NaN</td>\n      <td>NaN</td>\n      <td>NaN</td>\n      <td>NaN</td>\n      <td>NaN</td>\n    </tr>\n    <tr>\n      <th>11880</th>\n      <td>NaN</td>\n      <td>NaN</td>\n      <td>NaN</td>\n      <td>NaN</td>\n      <td>NaN</td>\n      <td>NaN</td>\n      <td>NaN</td>\n      <td>NaN</td>\n      <td>NaN</td>\n      <td>NaN</td>\n      <td>...</td>\n      <td>NaN</td>\n      <td>NaN</td>\n      <td>NaN</td>\n      <td>NaN</td>\n      <td>NaN</td>\n      <td>NaN</td>\n      <td>NaN</td>\n      <td>NaN</td>\n      <td>NaN</td>\n      <td>NaN</td>\n    </tr>\n    <tr>\n      <th>12690</th>\n      <td>NaN</td>\n      <td>NaN</td>\n      <td>NaN</td>\n      <td>NaN</td>\n      <td>NaN</td>\n      <td>NaN</td>\n      <td>NaN</td>\n      <td>NaN</td>\n      <td>NaN</td>\n      <td>NaN</td>\n      <td>...</td>\n      <td>NaN</td>\n      <td>NaN</td>\n      <td>NaN</td>\n      <td>NaN</td>\n      <td>NaN</td>\n      <td>NaN</td>\n      <td>NaN</td>\n      <td>NaN</td>\n      <td>NaN</td>\n      <td>NaN</td>\n    </tr>\n    <tr>\n      <th>12780</th>\n      <td>NaN</td>\n      <td>NaN</td>\n      <td>NaN</td>\n      <td>NaN</td>\n      <td>NaN</td>\n      <td>NaN</td>\n      <td>NaN</td>\n      <td>0.0</td>\n      <td>NaN</td>\n      <td>NaN</td>\n      <td>...</td>\n      <td>NaN</td>\n      <td>NaN</td>\n      <td>NaN</td>\n      <td>NaN</td>\n      <td>NaN</td>\n      <td>NaN</td>\n      <td>NaN</td>\n      <td>NaN</td>\n      <td>NaN</td>\n      <td>NaN</td>\n    </tr>\n    <tr>\n      <th>13590</th>\n      <td>NaN</td>\n      <td>NaN</td>\n      <td>NaN</td>\n      <td>NaN</td>\n      <td>NaN</td>\n      <td>NaN</td>\n      <td>NaN</td>\n      <td>NaN</td>\n      <td>NaN</td>\n      <td>NaN</td>\n      <td>...</td>\n      <td>NaN</td>\n      <td>NaN</td>\n      <td>NaN</td>\n      <td>NaN</td>\n      <td>NaN</td>\n      <td>NaN</td>\n      <td>NaN</td>\n      <td>NaN</td>\n      <td>NaN</td>\n      <td>NaN</td>\n    </tr>\n    <tr>\n      <th>15480</th>\n      <td>NaN</td>\n      <td>NaN</td>\n      <td>NaN</td>\n      <td>NaN</td>\n      <td>NaN</td>\n      <td>NaN</td>\n      <td>NaN</td>\n      <td>NaN</td>\n      <td>NaN</td>\n      <td>NaN</td>\n      <td>...</td>\n      <td>NaN</td>\n      <td>NaN</td>\n      <td>NaN</td>\n      <td>NaN</td>\n      <td>NaN</td>\n      <td>NaN</td>\n      <td>NaN</td>\n      <td>NaN</td>\n      <td>NaN</td>\n      <td>NaN</td>\n    </tr>\n    <tr>\n      <th>16290</th>\n      <td>NaN</td>\n      <td>NaN</td>\n      <td>NaN</td>\n      <td>NaN</td>\n      <td>NaN</td>\n      <td>NaN</td>\n      <td>NaN</td>\n      <td>NaN</td>\n      <td>NaN</td>\n      <td>0.0</td>\n      <td>...</td>\n      <td>NaN</td>\n      <td>NaN</td>\n      <td>NaN</td>\n      <td>NaN</td>\n      <td>NaN</td>\n      <td>NaN</td>\n      <td>NaN</td>\n      <td>NaN</td>\n      <td>NaN</td>\n      <td>NaN</td>\n    </tr>\n  </tbody>\n</table>\n<p>20 rows \u00d7 3810 columns</p>\n</div>", 
                        "text/plain": "productId   10002F  10080Q  10120M  10123CU  10124AW  10124GF  10125J  10133M  \\\ncustomerId                                                                      \n0              NaN     NaN     NaN      NaN      NaN      NaN     NaN     NaN   \n900            NaN     NaN     NaN      NaN      NaN      NaN     NaN     NaN   \n1800           NaN     NaN     NaN      NaN      NaN      NaN     NaN     NaN   \n2790           NaN     NaN     NaN      NaN      NaN      NaN     NaN     NaN   \n4590           NaN     NaN     NaN      NaN      NaN      NaN     NaN     NaN   \n5400           NaN     NaN     NaN      NaN      NaN      NaN     NaN     NaN   \n6300           NaN     NaN     NaN      NaN      NaN      NaN     NaN     0.0   \n6390           NaN     NaN     NaN      NaN      NaN      NaN     NaN     NaN   \n7200           NaN     NaN     NaN      NaN      NaN      NaN     NaN     NaN   \n7290           NaN     NaN     NaN      NaN      NaN      NaN     NaN     0.5   \n8100           NaN     NaN     NaN      NaN      NaN      NaN     NaN     0.0   \n9990           NaN     NaN     NaN      NaN      NaN      NaN     NaN     0.0   \n10890          NaN     NaN     NaN      NaN      NaN      NaN     NaN     0.0   \n11790          NaN     NaN     NaN      NaN      NaN      NaN     NaN     NaN   \n11880          NaN     NaN     NaN      NaN      NaN      NaN     NaN     NaN   \n12690          NaN     NaN     NaN      NaN      NaN      NaN     NaN     NaN   \n12780          NaN     NaN     NaN      NaN      NaN      NaN     NaN     0.0   \n13590          NaN     NaN     NaN      NaN      NaN      NaN     NaN     NaN   \n15480          NaN     NaN     NaN      NaN      NaN      NaN     NaN     NaN   \n16290          NaN     NaN     NaN      NaN      NaN      NaN     NaN     NaN   \n\nproductId   10135P  11001M   ...     90214OZ  90214PB  90214RZ  90214SF  \\\ncustomerId                   ...                                          \n0              NaN     NaN   ...         NaN      NaN      NaN      NaN   \n900            1.0     0.0   ...         NaN      NaN      NaN      NaN   \n1800           NaN     NaN   ...         NaN      NaN      NaN      NaN   \n2790           NaN     NaN   ...         NaN      NaN      NaN      NaN   \n4590           NaN     NaN   ...         NaN      NaN      NaN      NaN   \n5400           NaN     NaN   ...         NaN      NaN      NaN      NaN   \n6300           NaN     NaN   ...         NaN      NaN      NaN      NaN   \n6390           NaN     NaN   ...         NaN      NaN      NaN      NaN   \n7200           NaN     NaN   ...         NaN      NaN      NaN      NaN   \n7290           NaN     NaN   ...         NaN      NaN      NaN      NaN   \n8100           NaN     0.0   ...         NaN      NaN      NaN      NaN   \n9990           1.0     NaN   ...         NaN      NaN      NaN      0.0   \n10890          NaN     0.0   ...         NaN      NaN      NaN      NaN   \n11790          0.0     0.0   ...         NaN      NaN      NaN      0.0   \n11880          NaN     NaN   ...         NaN      NaN      NaN      NaN   \n12690          NaN     NaN   ...         NaN      NaN      NaN      NaN   \n12780          NaN     NaN   ...         NaN      NaN      NaN      NaN   \n13590          NaN     NaN   ...         NaN      NaN      NaN      NaN   \n15480          NaN     NaN   ...         NaN      NaN      NaN      NaN   \n16290          NaN     0.0   ...         NaN      NaN      NaN      NaN   \n\nproductId   90214TT  90214UO  90214VD  90214WH  90214YL  90214ZJ  \ncustomerId                                                        \n0               NaN      NaN      NaN      NaN      NaN      NaN  \n900             NaN      NaN      NaN      NaN      NaN      NaN  \n1800            NaN      NaN      NaN      NaN      NaN      NaN  \n2790            NaN      NaN      NaN      NaN      NaN      NaN  \n4590            NaN      NaN      NaN      NaN      NaN      NaN  \n5400            NaN      NaN      NaN      NaN      NaN      NaN  \n6300            NaN      NaN      NaN      NaN      NaN      NaN  \n6390            NaN      NaN      NaN      NaN      NaN      NaN  \n7200            NaN      NaN      NaN      NaN      NaN      NaN  \n7290            NaN      NaN      NaN      NaN      NaN      NaN  \n8100            NaN      NaN      NaN      NaN      NaN      NaN  \n9990            NaN      NaN      NaN      NaN      NaN      NaN  \n10890           NaN      NaN      NaN      NaN      NaN      NaN  \n11790           NaN      NaN      NaN      NaN      NaN      NaN  \n11880           NaN      NaN      NaN      NaN      NaN      NaN  \n12690           NaN      NaN      NaN      NaN      NaN      NaN  \n12780           NaN      NaN      NaN      NaN      NaN      NaN  \n13590           NaN      NaN      NaN      NaN      NaN      NaN  \n15480           NaN      NaN      NaN      NaN      NaN      NaN  \n16290           NaN      NaN      NaN      NaN      NaN      NaN  \n\n[20 rows x 3810 columns]"
                    }, 
                    "output_type": "execute_result"
                }
            ], 
            "source": "df_matrix_norm = (df_matrix-df_matrix.min())/(df_matrix.max()-df_matrix.min())\nprint(df_matrix_norm.shape)\ndf_matrix_norm.head(20)"
        }, 
        {
            "execution_count": 23, 
            "cell_type": "code", 
            "metadata": {}, 
            "outputs": [
                {
                    "output_type": "stream", 
                    "name": "stdout", 
                    "text": "(256976, 3)\n"
                }, 
                {
                    "execution_count": 23, 
                    "metadata": {}, 
                    "data": {
                        "text/html": "<div>\n<style scoped>\n    .dataframe tbody tr th:only-of-type {\n        vertical-align: middle;\n    }\n\n    .dataframe tbody tr th {\n        vertical-align: top;\n    }\n\n    .dataframe thead th {\n        text-align: right;\n    }\n</style>\n<table border=\"1\" class=\"dataframe\">\n  <thead>\n    <tr style=\"text-align: right;\">\n      <th></th>\n      <th>customerId</th>\n      <th>productId</th>\n      <th>scaled_purchase_freq</th>\n    </tr>\n  </thead>\n  <tbody>\n    <tr>\n      <th>38</th>\n      <td>25470</td>\n      <td>10002F</td>\n      <td>0.0</td>\n    </tr>\n    <tr>\n      <th>99</th>\n      <td>50949</td>\n      <td>10002F</td>\n      <td>0.0</td>\n    </tr>\n    <tr>\n      <th>114</th>\n      <td>56340</td>\n      <td>10002F</td>\n      <td>0.0</td>\n    </tr>\n    <tr>\n      <th>132</th>\n      <td>64539</td>\n      <td>10002F</td>\n      <td>0.0</td>\n    </tr>\n    <tr>\n      <th>140</th>\n      <td>68229</td>\n      <td>10002F</td>\n      <td>0.0</td>\n    </tr>\n    <tr>\n      <th>197</th>\n      <td>104499</td>\n      <td>10002F</td>\n      <td>0.0</td>\n    </tr>\n    <tr>\n      <th>216</th>\n      <td>120879</td>\n      <td>10002F</td>\n      <td>0.0</td>\n    </tr>\n    <tr>\n      <th>264</th>\n      <td>141759</td>\n      <td>10002F</td>\n      <td>0.0</td>\n    </tr>\n    <tr>\n      <th>268</th>\n      <td>142758</td>\n      <td>10002F</td>\n      <td>0.0</td>\n    </tr>\n    <tr>\n      <th>288</th>\n      <td>153639</td>\n      <td>10002F</td>\n      <td>0.0</td>\n    </tr>\n    <tr>\n      <th>324</th>\n      <td>168228</td>\n      <td>10002F</td>\n      <td>0.0</td>\n    </tr>\n    <tr>\n      <th>351</th>\n      <td>180018</td>\n      <td>10002F</td>\n      <td>0.0</td>\n    </tr>\n    <tr>\n      <th>357</th>\n      <td>186318</td>\n      <td>10002F</td>\n      <td>0.0</td>\n    </tr>\n    <tr>\n      <th>362</th>\n      <td>190908</td>\n      <td>10002F</td>\n      <td>0.0</td>\n    </tr>\n    <tr>\n      <th>407</th>\n      <td>223668</td>\n      <td>10002F</td>\n      <td>0.0</td>\n    </tr>\n    <tr>\n      <th>409</th>\n      <td>224478</td>\n      <td>10002F</td>\n      <td>0.0</td>\n    </tr>\n    <tr>\n      <th>423</th>\n      <td>230868</td>\n      <td>10002F</td>\n      <td>0.0</td>\n    </tr>\n    <tr>\n      <th>425</th>\n      <td>231768</td>\n      <td>10002F</td>\n      <td>0.0</td>\n    </tr>\n    <tr>\n      <th>525</th>\n      <td>273627</td>\n      <td>10002F</td>\n      <td>1.0</td>\n    </tr>\n    <tr>\n      <th>540</th>\n      <td>279117</td>\n      <td>10002F</td>\n      <td>0.0</td>\n    </tr>\n  </tbody>\n</table>\n</div>", 
                        "text/plain": "     customerId productId  scaled_purchase_freq\n38        25470    10002F                   0.0\n99        50949    10002F                   0.0\n114       56340    10002F                   0.0\n132       64539    10002F                   0.0\n140       68229    10002F                   0.0\n197      104499    10002F                   0.0\n216      120879    10002F                   0.0\n264      141759    10002F                   0.0\n268      142758    10002F                   0.0\n288      153639    10002F                   0.0\n324      168228    10002F                   0.0\n351      180018    10002F                   0.0\n357      186318    10002F                   0.0\n362      190908    10002F                   0.0\n407      223668    10002F                   0.0\n409      224478    10002F                   0.0\n423      230868    10002F                   0.0\n425      231768    10002F                   0.0\n525      273627    10002F                   1.0\n540      279117    10002F                   0.0"
                    }, 
                    "output_type": "execute_result"
                }
            ], 
            "source": "# create a table for input to the modeling\n\nd = df_matrix_norm.reset_index()\nd.index.names = ['scaled_purchase_freq']\ndata_norm = pd.melt(d, id_vars=['customerId'], value_name='scaled_purchase_freq').dropna()\nprint(data_norm.shape)\ndata_norm.head(20)"
        }, 
        {
            "source": "#### Define a function for normalizing data", 
            "cell_type": "markdown", 
            "metadata": {}
        }, 
        {
            "execution_count": 24, 
            "cell_type": "code", 
            "metadata": {}, 
            "outputs": [], 
            "source": "def normalize_data(data):\n    df_matrix = pd.pivot_table(data, values='purchase_count', index='customerId', columns='productId')\n    df_matrix_norm = (df_matrix-df_matrix.min())/(df_matrix.max()-df_matrix.min())\n    d = df_matrix_norm.reset_index()\n    d.index.names = ['scaled_purchase_freq']\n    return pd.melt(d, id_vars=['customerId'], value_name='scaled_purchase_freq').dropna()"
        }, 
        {
            "source": "* We can normalize the their purchase history, from 0-1 (with 1 being the most number of purchase for an item and 0 being 0 purchase count for that item).", 
            "cell_type": "markdown", 
            "metadata": {}
        }, 
        {
            "source": "## 4. Split train and test set\n* Splitting the data into training and testing sets is an important part of evaluating predictive modeling, in this case a collaborative filtering model. Typically, we use a larger portion of the data for training and a smaller portion for testing. \n* We use 80:20 ratio for our train-test set size.\n* Our training portion will be used to develop a predictive model, while the other to evaluate the model's performance.\n* Now that we have three datasets with purchase counts, purchase dummy, and scaled purchase counts, we would like to split each.", 
            "cell_type": "markdown", 
            "metadata": {}
        }, 
        {
            "execution_count": 25, 
            "cell_type": "code", 
            "metadata": {}, 
            "outputs": [
                {
                    "output_type": "stream", 
                    "name": "stdout", 
                    "text": "(216824, 3) (54207, 3)\n"
                }
            ], 
            "source": "train, test = train_test_split(data, test_size = .2)\nprint(train.shape, test.shape)"
        }, 
        {
            "execution_count": 26, 
            "cell_type": "code", 
            "metadata": {}, 
            "outputs": [], 
            "source": "# Using turicreate library, we convert dataframe to SFrame - this will be useful in the modeling part\n\ntrain_data = tc.SFrame(train)\ntest_data = tc.SFrame(test)"
        }, 
        {
            "execution_count": 27, 
            "cell_type": "code", 
            "metadata": {}, 
            "outputs": [
                {
                    "execution_count": 27, 
                    "metadata": {}, 
                    "data": {
                        "text/html": "<div style=\"max-height:1000px;max-width:1500px;overflow:auto;\"><table frame=\"box\" rules=\"cols\">\n    <tr>\n        <th style=\"padding-left: 1em; padding-right: 1em; text-align: center\">customerId</th>\n        <th style=\"padding-left: 1em; padding-right: 1em; text-align: center\">productId</th>\n        <th style=\"padding-left: 1em; padding-right: 1em; text-align: center\">purchase_count</th>\n    </tr>\n    <tr>\n        <td style=\"padding-left: 1em; padding-right: 1em; text-align: center; vertical-align: top\">224478</td>\n        <td style=\"padding-left: 1em; padding-right: 1em; text-align: center; vertical-align: top\">23403P</td>\n        <td style=\"padding-left: 1em; padding-right: 1em; text-align: center; vertical-align: top\">1</td>\n    </tr>\n    <tr>\n        <td style=\"padding-left: 1em; padding-right: 1em; text-align: center; vertical-align: top\">329067</td>\n        <td style=\"padding-left: 1em; padding-right: 1em; text-align: center; vertical-align: top\">22189I</td>\n        <td style=\"padding-left: 1em; padding-right: 1em; text-align: center; vertical-align: top\">2</td>\n    </tr>\n    <tr>\n        <td style=\"padding-left: 1em; padding-right: 1em; text-align: center; vertical-align: top\">60939</td>\n        <td style=\"padding-left: 1em; padding-right: 1em; text-align: center; vertical-align: top\">21876I</td>\n        <td style=\"padding-left: 1em; padding-right: 1em; text-align: center; vertical-align: top\">1</td>\n    </tr>\n    <tr>\n        <td style=\"padding-left: 1em; padding-right: 1em; text-align: center; vertical-align: top\">105399</td>\n        <td style=\"padding-left: 1em; padding-right: 1em; text-align: center; vertical-align: top\">35957E</td>\n        <td style=\"padding-left: 1em; padding-right: 1em; text-align: center; vertical-align: top\">1</td>\n    </tr>\n    <tr>\n        <td style=\"padding-left: 1em; padding-right: 1em; text-align: center; vertical-align: top\">326367</td>\n        <td style=\"padding-left: 1em; padding-right: 1em; text-align: center; vertical-align: top\">82552M</td>\n        <td style=\"padding-left: 1em; padding-right: 1em; text-align: center; vertical-align: top\">1</td>\n    </tr>\n    <tr>\n        <td style=\"padding-left: 1em; padding-right: 1em; text-align: center; vertical-align: top\">372816</td>\n        <td style=\"padding-left: 1em; padding-right: 1em; text-align: center; vertical-align: top\">22962X</td>\n        <td style=\"padding-left: 1em; padding-right: 1em; text-align: center; vertical-align: top\">1</td>\n    </tr>\n    <tr>\n        <td style=\"padding-left: 1em; padding-right: 1em; text-align: center; vertical-align: top\">273627</td>\n        <td style=\"padding-left: 1em; padding-right: 1em; text-align: center; vertical-align: top\">20652R</td>\n        <td style=\"padding-left: 1em; padding-right: 1em; text-align: center; vertical-align: top\">1</td>\n    </tr>\n    <tr>\n        <td style=\"padding-left: 1em; padding-right: 1em; text-align: center; vertical-align: top\">216378</td>\n        <td style=\"padding-left: 1em; padding-right: 1em; text-align: center; vertical-align: top\">21162S</td>\n        <td style=\"padding-left: 1em; padding-right: 1em; text-align: center; vertical-align: top\">1</td>\n    </tr>\n    <tr>\n        <td style=\"padding-left: 1em; padding-right: 1em; text-align: center; vertical-align: top\">181908</td>\n        <td style=\"padding-left: 1em; padding-right: 1em; text-align: center; vertical-align: top\">85123AY</td>\n        <td style=\"padding-left: 1em; padding-right: 1em; text-align: center; vertical-align: top\">2</td>\n    </tr>\n    <tr>\n        <td style=\"padding-left: 1em; padding-right: 1em; text-align: center; vertical-align: top\">290007</td>\n        <td style=\"padding-left: 1em; padding-right: 1em; text-align: center; vertical-align: top\">21556T</td>\n        <td style=\"padding-left: 1em; padding-right: 1em; text-align: center; vertical-align: top\">1</td>\n    </tr>\n</table>\n[216824 rows x 3 columns]<br/>Note: Only the head of the SFrame is printed.<br/>You can use print_rows(num_rows=m, num_columns=n) to print more rows and columns.\n</div>", 
                        "text/plain": "Columns:\n\tcustomerId\tint\n\tproductId\tstr\n\tpurchase_count\tint\n\nRows: 216824\n\nData:\n+------------+-----------+----------------+\n| customerId | productId | purchase_count |\n+------------+-----------+----------------+\n|   224478   |   23403P  |       1        |\n|   329067   |   22189I  |       2        |\n|   60939    |   21876I  |       1        |\n|   105399   |   35957E  |       1        |\n|   326367   |   82552M  |       1        |\n|   372816   |   22962X  |       1        |\n|   273627   |   20652R  |       1        |\n|   216378   |   21162S  |       1        |\n|   181908   |  85123AY  |       2        |\n|   290007   |   21556T  |       1        |\n+------------+-----------+----------------+\n[216824 rows x 3 columns]\nNote: Only the head of the SFrame is printed.\nYou can use print_rows(num_rows=m, num_columns=n) to print more rows and columns."
                    }, 
                    "output_type": "execute_result"
                }
            ], 
            "source": "train_data"
        }, 
        {
            "execution_count": 28, 
            "cell_type": "code", 
            "metadata": {}, 
            "outputs": [
                {
                    "execution_count": 28, 
                    "metadata": {}, 
                    "data": {
                        "text/html": "<div style=\"max-height:1000px;max-width:1500px;overflow:auto;\"><table frame=\"box\" rules=\"cols\">\n    <tr>\n        <th style=\"padding-left: 1em; padding-right: 1em; text-align: center\">customerId</th>\n        <th style=\"padding-left: 1em; padding-right: 1em; text-align: center\">productId</th>\n        <th style=\"padding-left: 1em; padding-right: 1em; text-align: center\">purchase_count</th>\n    </tr>\n    <tr>\n        <td style=\"padding-left: 1em; padding-right: 1em; text-align: center; vertical-align: top\">452835</td>\n        <td style=\"padding-left: 1em; padding-right: 1em; text-align: center; vertical-align: top\">22066A</td>\n        <td style=\"padding-left: 1em; padding-right: 1em; text-align: center; vertical-align: top\">1</td>\n    </tr>\n    <tr>\n        <td style=\"padding-left: 1em; padding-right: 1em; text-align: center; vertical-align: top\">111789</td>\n        <td style=\"padding-left: 1em; padding-right: 1em; text-align: center; vertical-align: top\">79321V</td>\n        <td style=\"padding-left: 1em; padding-right: 1em; text-align: center; vertical-align: top\">2</td>\n    </tr>\n    <tr>\n        <td style=\"padding-left: 1em; padding-right: 1em; text-align: center; vertical-align: top\">308187</td>\n        <td style=\"padding-left: 1em; padding-right: 1em; text-align: center; vertical-align: top\">85099FC</td>\n        <td style=\"padding-left: 1em; padding-right: 1em; text-align: center; vertical-align: top\">1</td>\n    </tr>\n    <tr>\n        <td style=\"padding-left: 1em; padding-right: 1em; text-align: center; vertical-align: top\">160839</td>\n        <td style=\"padding-left: 1em; padding-right: 1em; text-align: center; vertical-align: top\">23091E</td>\n        <td style=\"padding-left: 1em; padding-right: 1em; text-align: center; vertical-align: top\">1</td>\n    </tr>\n    <tr>\n        <td style=\"padding-left: 1em; padding-right: 1em; text-align: center; vertical-align: top\">471825</td>\n        <td style=\"padding-left: 1em; padding-right: 1em; text-align: center; vertical-align: top\">85106U</td>\n        <td style=\"padding-left: 1em; padding-right: 1em; text-align: center; vertical-align: top\">1</td>\n    </tr>\n    <tr>\n        <td style=\"padding-left: 1em; padding-right: 1em; text-align: center; vertical-align: top\">2790</td>\n        <td style=\"padding-left: 1em; padding-right: 1em; text-align: center; vertical-align: top\">22758C</td>\n        <td style=\"padding-left: 1em; padding-right: 1em; text-align: center; vertical-align: top\">1</td>\n    </tr>\n    <tr>\n        <td style=\"padding-left: 1em; padding-right: 1em; text-align: center; vertical-align: top\">317277</td>\n        <td style=\"padding-left: 1em; padding-right: 1em; text-align: center; vertical-align: top\">22329R</td>\n        <td style=\"padding-left: 1em; padding-right: 1em; text-align: center; vertical-align: top\">1</td>\n    </tr>\n    <tr>\n        <td style=\"padding-left: 1em; padding-right: 1em; text-align: center; vertical-align: top\">50049</td>\n        <td style=\"padding-left: 1em; padding-right: 1em; text-align: center; vertical-align: top\">84946F</td>\n        <td style=\"padding-left: 1em; padding-right: 1em; text-align: center; vertical-align: top\">2</td>\n    </tr>\n    <tr>\n        <td style=\"padding-left: 1em; padding-right: 1em; text-align: center; vertical-align: top\">432756</td>\n        <td style=\"padding-left: 1em; padding-right: 1em; text-align: center; vertical-align: top\">22340Z</td>\n        <td style=\"padding-left: 1em; padding-right: 1em; text-align: center; vertical-align: top\">1</td>\n    </tr>\n    <tr>\n        <td style=\"padding-left: 1em; padding-right: 1em; text-align: center; vertical-align: top\">283707</td>\n        <td style=\"padding-left: 1em; padding-right: 1em; text-align: center; vertical-align: top\">22379G</td>\n        <td style=\"padding-left: 1em; padding-right: 1em; text-align: center; vertical-align: top\">1</td>\n    </tr>\n</table>\n[54207 rows x 3 columns]<br/>Note: Only the head of the SFrame is printed.<br/>You can use print_rows(num_rows=m, num_columns=n) to print more rows and columns.\n</div>", 
                        "text/plain": "Columns:\n\tcustomerId\tint\n\tproductId\tstr\n\tpurchase_count\tint\n\nRows: 54207\n\nData:\n+------------+-----------+----------------+\n| customerId | productId | purchase_count |\n+------------+-----------+----------------+\n|   452835   |   22066A  |       1        |\n|   111789   |   79321V  |       2        |\n|   308187   |  85099FC  |       1        |\n|   160839   |   23091E  |       1        |\n|   471825   |   85106U  |       1        |\n|    2790    |   22758C  |       1        |\n|   317277   |   22329R  |       1        |\n|   50049    |   84946F  |       2        |\n|   432756   |   22340Z  |       1        |\n|   283707   |   22379G  |       1        |\n+------------+-----------+----------------+\n[54207 rows x 3 columns]\nNote: Only the head of the SFrame is printed.\nYou can use print_rows(num_rows=m, num_columns=n) to print more rows and columns."
                    }, 
                    "output_type": "execute_result"
                }
            ], 
            "source": "test_data"
        }, 
        {
            "source": "#### Define a `split_data` function for splitting data to training and test set", 
            "cell_type": "markdown", 
            "metadata": {}
        }, 
        {
            "execution_count": 29, 
            "cell_type": "code", 
            "metadata": {}, 
            "outputs": [], 
            "source": "# We can define a function for this step as follows\n\ndef split_data(data):\n    '''\n    Splits dataset into training and test set.\n    \n    Args:\n        data (pandas.DataFrame)\n        \n    Returns\n        train_data (tc.SFrame)\n        test_data (tc.SFrame)\n    '''\n    train, test = train_test_split(data, test_size = .2)\n    train_data = tc.SFrame(train)\n    test_data = tc.SFrame(test)\n    return train_data, test_data"
        }, 
        {
            "execution_count": 30, 
            "cell_type": "code", 
            "metadata": {}, 
            "outputs": [], 
            "source": "# # lets try with both dummy table and scaled/normalized purchase table\n\ntrain_data_dummy, test_data_dummy = split_data(data_dummy)\ntrain_data_norm, test_data_norm = split_data(data_norm)"
        }, 
        {
            "source": "## 5. Baseline Model\nBefore running a more complicated approach such as collaborative filtering, we would like to use a baseline model to compare and evaluate models. Since baseline typically uses a very simple approach, techniques used beyond this approach should be chosen if they show relatively better accuracy and complexity.\n\n### 5.1. Using a Popularity model as a baseline\n* The popularity model takes the most popular items for recommendation. These items are products with the highest number of sells across customers.\n* We use `turicreate` library for running and evaluating both baseline and collaborative filtering models below\n* Training data is used for model selection\n\n#### Using purchase counts", 
            "cell_type": "markdown", 
            "metadata": {}
        }, 
        {
            "execution_count": 31, 
            "cell_type": "code", 
            "metadata": {}, 
            "outputs": [], 
            "source": "# variables to define field names\nuser_id = 'customerId'\nitem_id = 'productId'\ntarget = 'purchase_count'\nusers_to_recommend = list(transactions[user_id])\nn_rec = 10 # number of items to recommend\nn_display = 30"
        }, 
        {
            "execution_count": 32, 
            "cell_type": "code", 
            "metadata": {}, 
            "outputs": [
                {
                    "output_type": "display_data", 
                    "data": {
                        "text/html": "<pre>Preparing data set.</pre>", 
                        "text/plain": "Preparing data set."
                    }, 
                    "metadata": {}
                }, 
                {
                    "output_type": "display_data", 
                    "data": {
                        "text/html": "<pre>    Data has 216824 observations with 971 users and 3766 items.</pre>", 
                        "text/plain": "    Data has 216824 observations with 971 users and 3766 items."
                    }, 
                    "metadata": {}
                }, 
                {
                    "output_type": "display_data", 
                    "data": {
                        "text/html": "<pre>    Data prepared in: 9.62288s</pre>", 
                        "text/plain": "    Data prepared in: 9.62288s"
                    }, 
                    "metadata": {}
                }, 
                {
                    "output_type": "display_data", 
                    "data": {
                        "text/html": "<pre>216824 observations to process; with 3766 unique items.</pre>", 
                        "text/plain": "216824 observations to process; with 3766 unique items."
                    }, 
                    "metadata": {}
                }
            ], 
            "source": "popularity_model = tc.popularity_recommender.create(train_data, \n                                                    user_id=user_id, \n                                                    item_id=item_id, \n                                                    target=target)"
        }, 
        {
            "execution_count": 33, 
            "cell_type": "code", 
            "metadata": {}, 
            "outputs": [
                {
                    "output_type": "display_data", 
                    "data": {
                        "text/html": "<pre>recommendations finished on 1000/330575 queries. users per second: 75500.2</pre>", 
                        "text/plain": "recommendations finished on 1000/330575 queries. users per second: 75500.2"
                    }, 
                    "metadata": {}
                }, 
                {
                    "output_type": "display_data", 
                    "data": {
                        "text/html": "<pre>recommendations finished on 2000/330575 queries. users per second: 60496.1</pre>", 
                        "text/plain": "recommendations finished on 2000/330575 queries. users per second: 60496.1"
                    }, 
                    "metadata": {}
                }, 
                {
                    "output_type": "display_data", 
                    "data": {
                        "text/html": "<pre>recommendations finished on 3000/330575 queries. users per second: 54059.9</pre>", 
                        "text/plain": "recommendations finished on 3000/330575 queries. users per second: 54059.9"
                    }, 
                    "metadata": {}
                }, 
                {
                    "output_type": "display_data", 
                    "data": {
                        "text/html": "<pre>recommendations finished on 4000/330575 queries. users per second: 42295.4</pre>", 
                        "text/plain": "recommendations finished on 4000/330575 queries. users per second: 42295.4"
                    }, 
                    "metadata": {}
                }, 
                {
                    "output_type": "display_data", 
                    "data": {
                        "text/html": "<pre>recommendations finished on 5000/330575 queries. users per second: 37782</pre>", 
                        "text/plain": "recommendations finished on 5000/330575 queries. users per second: 37782"
                    }, 
                    "metadata": {}
                }, 
                {
                    "output_type": "display_data", 
                    "data": {
                        "text/html": "<pre>recommendations finished on 6000/330575 queries. users per second: 38956.7</pre>", 
                        "text/plain": "recommendations finished on 6000/330575 queries. users per second: 38956.7"
                    }, 
                    "metadata": {}
                }, 
                {
                    "output_type": "display_data", 
                    "data": {
                        "text/html": "<pre>recommendations finished on 7000/330575 queries. users per second: 35902</pre>", 
                        "text/plain": "recommendations finished on 7000/330575 queries. users per second: 35902"
                    }, 
                    "metadata": {}
                }, 
                {
                    "output_type": "display_data", 
                    "data": {
                        "text/html": "<pre>recommendations finished on 8000/330575 queries. users per second: 33892.6</pre>", 
                        "text/plain": "recommendations finished on 8000/330575 queries. users per second: 33892.6"
                    }, 
                    "metadata": {}
                }, 
                {
                    "output_type": "display_data", 
                    "data": {
                        "text/html": "<pre>recommendations finished on 9000/330575 queries. users per second: 32818.9</pre>", 
                        "text/plain": "recommendations finished on 9000/330575 queries. users per second: 32818.9"
                    }, 
                    "metadata": {}
                }, 
                {
                    "output_type": "display_data", 
                    "data": {
                        "text/html": "<pre>recommendations finished on 10000/330575 queries. users per second: 30117.5</pre>", 
                        "text/plain": "recommendations finished on 10000/330575 queries. users per second: 30117.5"
                    }, 
                    "metadata": {}
                }, 
                {
                    "output_type": "display_data", 
                    "data": {
                        "text/html": "<pre>recommendations finished on 11000/330575 queries. users per second: 30988.4</pre>", 
                        "text/plain": "recommendations finished on 11000/330575 queries. users per second: 30988.4"
                    }, 
                    "metadata": {}
                }, 
                {
                    "output_type": "display_data", 
                    "data": {
                        "text/html": "<pre>recommendations finished on 12000/330575 queries. users per second: 29110.1</pre>", 
                        "text/plain": "recommendations finished on 12000/330575 queries. users per second: 29110.1"
                    }, 
                    "metadata": {}
                }, 
                {
                    "output_type": "display_data", 
                    "data": {
                        "text/html": "<pre>recommendations finished on 13000/330575 queries. users per second: 27463.4</pre>", 
                        "text/plain": "recommendations finished on 13000/330575 queries. users per second: 27463.4"
                    }, 
                    "metadata": {}
                }, 
                {
                    "output_type": "display_data", 
                    "data": {
                        "text/html": "<pre>recommendations finished on 14000/330575 queries. users per second: 26168.6</pre>", 
                        "text/plain": "recommendations finished on 14000/330575 queries. users per second: 26168.6"
                    }, 
                    "metadata": {}
                }, 
                {
                    "output_type": "display_data", 
                    "data": {
                        "text/html": "<pre>recommendations finished on 15000/330575 queries. users per second: 24466</pre>", 
                        "text/plain": "recommendations finished on 15000/330575 queries. users per second: 24466"
                    }, 
                    "metadata": {}
                }, 
                {
                    "output_type": "display_data", 
                    "data": {
                        "text/html": "<pre>recommendations finished on 16000/330575 queries. users per second: 23710.4</pre>", 
                        "text/plain": "recommendations finished on 16000/330575 queries. users per second: 23710.4"
                    }, 
                    "metadata": {}
                }, 
                {
                    "output_type": "display_data", 
                    "data": {
                        "text/html": "<pre>recommendations finished on 17000/330575 queries. users per second: 22498.9</pre>", 
                        "text/plain": "recommendations finished on 17000/330575 queries. users per second: 22498.9"
                    }, 
                    "metadata": {}
                }, 
                {
                    "output_type": "display_data", 
                    "data": {
                        "text/html": "<pre>recommendations finished on 18000/330575 queries. users per second: 21099.8</pre>", 
                        "text/plain": "recommendations finished on 18000/330575 queries. users per second: 21099.8"
                    }, 
                    "metadata": {}
                }, 
                {
                    "output_type": "display_data", 
                    "data": {
                        "text/html": "<pre>recommendations finished on 19000/330575 queries. users per second: 20803.4</pre>", 
                        "text/plain": "recommendations finished on 19000/330575 queries. users per second: 20803.4"
                    }, 
                    "metadata": {}
                }, 
                {
                    "output_type": "display_data", 
                    "data": {
                        "text/html": "<pre>recommendations finished on 20000/330575 queries. users per second: 20544.5</pre>", 
                        "text/plain": "recommendations finished on 20000/330575 queries. users per second: 20544.5"
                    }, 
                    "metadata": {}
                }, 
                {
                    "output_type": "display_data", 
                    "data": {
                        "text/html": "<pre>recommendations finished on 21000/330575 queries. users per second: 20335.2</pre>", 
                        "text/plain": "recommendations finished on 21000/330575 queries. users per second: 20335.2"
                    }, 
                    "metadata": {}
                }, 
                {
                    "output_type": "display_data", 
                    "data": {
                        "text/html": "<pre>recommendations finished on 22000/330575 queries. users per second: 20132.4</pre>", 
                        "text/plain": "recommendations finished on 22000/330575 queries. users per second: 20132.4"
                    }, 
                    "metadata": {}
                }, 
                {
                    "output_type": "display_data", 
                    "data": {
                        "text/html": "<pre>recommendations finished on 23000/330575 queries. users per second: 19618.8</pre>", 
                        "text/plain": "recommendations finished on 23000/330575 queries. users per second: 19618.8"
                    }, 
                    "metadata": {}
                }, 
                {
                    "output_type": "display_data", 
                    "data": {
                        "text/html": "<pre>recommendations finished on 24000/330575 queries. users per second: 19754.7</pre>", 
                        "text/plain": "recommendations finished on 24000/330575 queries. users per second: 19754.7"
                    }, 
                    "metadata": {}
                }, 
                {
                    "output_type": "display_data", 
                    "data": {
                        "text/html": "<pre>recommendations finished on 25000/330575 queries. users per second: 19342</pre>", 
                        "text/plain": "recommendations finished on 25000/330575 queries. users per second: 19342"
                    }, 
                    "metadata": {}
                }, 
                {
                    "output_type": "display_data", 
                    "data": {
                        "text/html": "<pre>recommendations finished on 26000/330575 queries. users per second: 19469.1</pre>", 
                        "text/plain": "recommendations finished on 26000/330575 queries. users per second: 19469.1"
                    }, 
                    "metadata": {}
                }, 
                {
                    "output_type": "display_data", 
                    "data": {
                        "text/html": "<pre>recommendations finished on 27000/330575 queries. users per second: 18854.6</pre>", 
                        "text/plain": "recommendations finished on 27000/330575 queries. users per second: 18854.6"
                    }, 
                    "metadata": {}
                }, 
                {
                    "output_type": "display_data", 
                    "data": {
                        "text/html": "<pre>recommendations finished on 28000/330575 queries. users per second: 19000.9</pre>", 
                        "text/plain": "recommendations finished on 28000/330575 queries. users per second: 19000.9"
                    }, 
                    "metadata": {}
                }, 
                {
                    "output_type": "display_data", 
                    "data": {
                        "text/html": "<pre>recommendations finished on 29000/330575 queries. users per second: 19172</pre>", 
                        "text/plain": "recommendations finished on 29000/330575 queries. users per second: 19172"
                    }, 
                    "metadata": {}
                }, 
                {
                    "output_type": "display_data", 
                    "data": {
                        "text/html": "<pre>recommendations finished on 30000/330575 queries. users per second: 19083.3</pre>", 
                        "text/plain": "recommendations finished on 30000/330575 queries. users per second: 19083.3"
                    }, 
                    "metadata": {}
                }, 
                {
                    "output_type": "display_data", 
                    "data": {
                        "text/html": "<pre>recommendations finished on 31000/330575 queries. users per second: 19191.8</pre>", 
                        "text/plain": "recommendations finished on 31000/330575 queries. users per second: 19191.8"
                    }, 
                    "metadata": {}
                }, 
                {
                    "output_type": "display_data", 
                    "data": {
                        "text/html": "<pre>recommendations finished on 32000/330575 queries. users per second: 19120.3</pre>", 
                        "text/plain": "recommendations finished on 32000/330575 queries. users per second: 19120.3"
                    }, 
                    "metadata": {}
                }, 
                {
                    "output_type": "display_data", 
                    "data": {
                        "text/html": "<pre>recommendations finished on 33000/330575 queries. users per second: 19043.2</pre>", 
                        "text/plain": "recommendations finished on 33000/330575 queries. users per second: 19043.2"
                    }, 
                    "metadata": {}
                }, 
                {
                    "output_type": "display_data", 
                    "data": {
                        "text/html": "<pre>recommendations finished on 34000/330575 queries. users per second: 18136.8</pre>", 
                        "text/plain": "recommendations finished on 34000/330575 queries. users per second: 18136.8"
                    }, 
                    "metadata": {}
                }, 
                {
                    "output_type": "display_data", 
                    "data": {
                        "text/html": "<pre>recommendations finished on 35000/330575 queries. users per second: 17204.2</pre>", 
                        "text/plain": "recommendations finished on 35000/330575 queries. users per second: 17204.2"
                    }, 
                    "metadata": {}
                }, 
                {
                    "output_type": "display_data", 
                    "data": {
                        "text/html": "<pre>recommendations finished on 36000/330575 queries. users per second: 16255.4</pre>", 
                        "text/plain": "recommendations finished on 36000/330575 queries. users per second: 16255.4"
                    }, 
                    "metadata": {}
                }, 
                {
                    "output_type": "display_data", 
                    "data": {
                        "text/html": "<pre>recommendations finished on 37000/330575 queries. users per second: 15987.7</pre>", 
                        "text/plain": "recommendations finished on 37000/330575 queries. users per second: 15987.7"
                    }, 
                    "metadata": {}
                }, 
                {
                    "output_type": "display_data", 
                    "data": {
                        "text/html": "<pre>recommendations finished on 38000/330575 queries. users per second: 15872.2</pre>", 
                        "text/plain": "recommendations finished on 38000/330575 queries. users per second: 15872.2"
                    }, 
                    "metadata": {}
                }, 
                {
                    "output_type": "display_data", 
                    "data": {
                        "text/html": "<pre>recommendations finished on 39000/330575 queries. users per second: 15768.7</pre>", 
                        "text/plain": "recommendations finished on 39000/330575 queries. users per second: 15768.7"
                    }, 
                    "metadata": {}
                }, 
                {
                    "output_type": "display_data", 
                    "data": {
                        "text/html": "<pre>recommendations finished on 40000/330575 queries. users per second: 15775.8</pre>", 
                        "text/plain": "recommendations finished on 40000/330575 queries. users per second: 15775.8"
                    }, 
                    "metadata": {}
                }, 
                {
                    "output_type": "display_data", 
                    "data": {
                        "text/html": "<pre>recommendations finished on 41000/330575 queries. users per second: 15674.5</pre>", 
                        "text/plain": "recommendations finished on 41000/330575 queries. users per second: 15674.5"
                    }, 
                    "metadata": {}
                }, 
                {
                    "output_type": "display_data", 
                    "data": {
                        "text/html": "<pre>recommendations finished on 42000/330575 queries. users per second: 15707.6</pre>", 
                        "text/plain": "recommendations finished on 42000/330575 queries. users per second: 15707.6"
                    }, 
                    "metadata": {}
                }, 
                {
                    "output_type": "display_data", 
                    "data": {
                        "text/html": "<pre>recommendations finished on 43000/330575 queries. users per second: 15837.1</pre>", 
                        "text/plain": "recommendations finished on 43000/330575 queries. users per second: 15837.1"
                    }, 
                    "metadata": {}
                }, 
                {
                    "output_type": "display_data", 
                    "data": {
                        "text/html": "<pre>recommendations finished on 44000/330575 queries. users per second: 15975.4</pre>", 
                        "text/plain": "recommendations finished on 44000/330575 queries. users per second: 15975.4"
                    }, 
                    "metadata": {}
                }, 
                {
                    "output_type": "display_data", 
                    "data": {
                        "text/html": "<pre>recommendations finished on 45000/330575 queries. users per second: 16100.3</pre>", 
                        "text/plain": "recommendations finished on 45000/330575 queries. users per second: 16100.3"
                    }, 
                    "metadata": {}
                }, 
                {
                    "output_type": "display_data", 
                    "data": {
                        "text/html": "<pre>recommendations finished on 46000/330575 queries. users per second: 16011.9</pre>", 
                        "text/plain": "recommendations finished on 46000/330575 queries. users per second: 16011.9"
                    }, 
                    "metadata": {}
                }, 
                {
                    "output_type": "display_data", 
                    "data": {
                        "text/html": "<pre>recommendations finished on 47000/330575 queries. users per second: 16240.4</pre>", 
                        "text/plain": "recommendations finished on 47000/330575 queries. users per second: 16240.4"
                    }, 
                    "metadata": {}
                }, 
                {
                    "output_type": "display_data", 
                    "data": {
                        "text/html": "<pre>recommendations finished on 48000/330575 queries. users per second: 16467.6</pre>", 
                        "text/plain": "recommendations finished on 48000/330575 queries. users per second: 16467.6"
                    }, 
                    "metadata": {}
                }, 
                {
                    "output_type": "display_data", 
                    "data": {
                        "text/html": "<pre>recommendations finished on 49000/330575 queries. users per second: 16592.8</pre>", 
                        "text/plain": "recommendations finished on 49000/330575 queries. users per second: 16592.8"
                    }, 
                    "metadata": {}
                }, 
                {
                    "output_type": "display_data", 
                    "data": {
                        "text/html": "<pre>recommendations finished on 50000/330575 queries. users per second: 16708.9</pre>", 
                        "text/plain": "recommendations finished on 50000/330575 queries. users per second: 16708.9"
                    }, 
                    "metadata": {}
                }, 
                {
                    "output_type": "display_data", 
                    "data": {
                        "text/html": "<pre>recommendations finished on 51000/330575 queries. users per second: 16924.8</pre>", 
                        "text/plain": "recommendations finished on 51000/330575 queries. users per second: 16924.8"
                    }, 
                    "metadata": {}
                }, 
                {
                    "output_type": "display_data", 
                    "data": {
                        "text/html": "<pre>recommendations finished on 52000/330575 queries. users per second: 17134.3</pre>", 
                        "text/plain": "recommendations finished on 52000/330575 queries. users per second: 17134.3"
                    }, 
                    "metadata": {}
                }, 
                {
                    "output_type": "display_data", 
                    "data": {
                        "text/html": "<pre>recommendations finished on 53000/330575 queries. users per second: 17140.3</pre>", 
                        "text/plain": "recommendations finished on 53000/330575 queries. users per second: 17140.3"
                    }, 
                    "metadata": {}
                }, 
                {
                    "output_type": "display_data", 
                    "data": {
                        "text/html": "<pre>recommendations finished on 54000/330575 queries. users per second: 17344.3</pre>", 
                        "text/plain": "recommendations finished on 54000/330575 queries. users per second: 17344.3"
                    }, 
                    "metadata": {}
                }, 
                {
                    "output_type": "display_data", 
                    "data": {
                        "text/html": "<pre>recommendations finished on 55000/330575 queries. users per second: 17433</pre>", 
                        "text/plain": "recommendations finished on 55000/330575 queries. users per second: 17433"
                    }, 
                    "metadata": {}
                }, 
                {
                    "output_type": "display_data", 
                    "data": {
                        "text/html": "<pre>recommendations finished on 56000/330575 queries. users per second: 17528.4</pre>", 
                        "text/plain": "recommendations finished on 56000/330575 queries. users per second: 17528.4"
                    }, 
                    "metadata": {}
                }, 
                {
                    "output_type": "display_data", 
                    "data": {
                        "text/html": "<pre>recommendations finished on 57000/330575 queries. users per second: 17631.5</pre>", 
                        "text/plain": "recommendations finished on 57000/330575 queries. users per second: 17631.5"
                    }, 
                    "metadata": {}
                }, 
                {
                    "output_type": "display_data", 
                    "data": {
                        "text/html": "<pre>recommendations finished on 58000/330575 queries. users per second: 17716.3</pre>", 
                        "text/plain": "recommendations finished on 58000/330575 queries. users per second: 17716.3"
                    }, 
                    "metadata": {}
                }, 
                {
                    "output_type": "display_data", 
                    "data": {
                        "text/html": "<pre>recommendations finished on 59000/330575 queries. users per second: 17801</pre>", 
                        "text/plain": "recommendations finished on 59000/330575 queries. users per second: 17801"
                    }, 
                    "metadata": {}
                }, 
                {
                    "output_type": "display_data", 
                    "data": {
                        "text/html": "<pre>recommendations finished on 60000/330575 queries. users per second: 17882.4</pre>", 
                        "text/plain": "recommendations finished on 60000/330575 queries. users per second: 17882.4"
                    }, 
                    "metadata": {}
                }, 
                {
                    "output_type": "display_data", 
                    "data": {
                        "text/html": "<pre>recommendations finished on 62000/330575 queries. users per second: 18043.4</pre>", 
                        "text/plain": "recommendations finished on 62000/330575 queries. users per second: 18043.4"
                    }, 
                    "metadata": {}
                }, 
                {
                    "output_type": "display_data", 
                    "data": {
                        "text/html": "<pre>recommendations finished on 61000/330575 queries. users per second: 17965</pre>", 
                        "text/plain": "recommendations finished on 61000/330575 queries. users per second: 17965"
                    }, 
                    "metadata": {}
                }, 
                {
                    "output_type": "display_data", 
                    "data": {
                        "text/html": "<pre>recommendations finished on 63000/330575 queries. users per second: 18037.5</pre>", 
                        "text/plain": "recommendations finished on 63000/330575 queries. users per second: 18037.5"
                    }, 
                    "metadata": {}
                }, 
                {
                    "output_type": "display_data", 
                    "data": {
                        "text/html": "<pre>recommendations finished on 64000/330575 queries. users per second: 18208.5</pre>", 
                        "text/plain": "recommendations finished on 64000/330575 queries. users per second: 18208.5"
                    }, 
                    "metadata": {}
                }, 
                {
                    "output_type": "display_data", 
                    "data": {
                        "text/html": "<pre>recommendations finished on 65000/330575 queries. users per second: 18195.9</pre>", 
                        "text/plain": "recommendations finished on 65000/330575 queries. users per second: 18195.9"
                    }, 
                    "metadata": {}
                }, 
                {
                    "output_type": "display_data", 
                    "data": {
                        "text/html": "<pre>recommendations finished on 66000/330575 queries. users per second: 18255.1</pre>", 
                        "text/plain": "recommendations finished on 66000/330575 queries. users per second: 18255.1"
                    }, 
                    "metadata": {}
                }, 
                {
                    "output_type": "display_data", 
                    "data": {
                        "text/html": "<pre>recommendations finished on 67000/330575 queries. users per second: 18334</pre>", 
                        "text/plain": "recommendations finished on 67000/330575 queries. users per second: 18334"
                    }, 
                    "metadata": {}
                }, 
                {
                    "output_type": "display_data", 
                    "data": {
                        "text/html": "<pre>recommendations finished on 68000/330575 queries. users per second: 18410.7</pre>", 
                        "text/plain": "recommendations finished on 68000/330575 queries. users per second: 18410.7"
                    }, 
                    "metadata": {}
                }, 
                {
                    "output_type": "display_data", 
                    "data": {
                        "text/html": "<pre>recommendations finished on 69000/330575 queries. users per second: 18381.8</pre>", 
                        "text/plain": "recommendations finished on 69000/330575 queries. users per second: 18381.8"
                    }, 
                    "metadata": {}
                }, 
                {
                    "output_type": "display_data", 
                    "data": {
                        "text/html": "<pre>recommendations finished on 70000/330575 queries. users per second: 18457.5</pre>", 
                        "text/plain": "recommendations finished on 70000/330575 queries. users per second: 18457.5"
                    }, 
                    "metadata": {}
                }, 
                {
                    "output_type": "display_data", 
                    "data": {
                        "text/html": "<pre>recommendations finished on 71000/330575 queries. users per second: 18619.9</pre>", 
                        "text/plain": "recommendations finished on 71000/330575 queries. users per second: 18619.9"
                    }, 
                    "metadata": {}
                }, 
                {
                    "output_type": "display_data", 
                    "data": {
                        "text/html": "<pre>recommendations finished on 72000/330575 queries. users per second: 18773.4</pre>", 
                        "text/plain": "recommendations finished on 72000/330575 queries. users per second: 18773.4"
                    }, 
                    "metadata": {}
                }, 
                {
                    "output_type": "display_data", 
                    "data": {
                        "text/html": "<pre>recommendations finished on 73000/330575 queries. users per second: 18848.8</pre>", 
                        "text/plain": "recommendations finished on 73000/330575 queries. users per second: 18848.8"
                    }, 
                    "metadata": {}
                }, 
                {
                    "output_type": "display_data", 
                    "data": {
                        "text/html": "<pre>recommendations finished on 74000/330575 queries. users per second: 18899.7</pre>", 
                        "text/plain": "recommendations finished on 74000/330575 queries. users per second: 18899.7"
                    }, 
                    "metadata": {}
                }, 
                {
                    "output_type": "display_data", 
                    "data": {
                        "text/html": "<pre>recommendations finished on 75000/330575 queries. users per second: 18962.8</pre>", 
                        "text/plain": "recommendations finished on 75000/330575 queries. users per second: 18962.8"
                    }, 
                    "metadata": {}
                }, 
                {
                    "output_type": "display_data", 
                    "data": {
                        "text/html": "<pre>recommendations finished on 76000/330575 queries. users per second: 19024.6</pre>", 
                        "text/plain": "recommendations finished on 76000/330575 queries. users per second: 19024.6"
                    }, 
                    "metadata": {}
                }, 
                {
                    "output_type": "display_data", 
                    "data": {
                        "text/html": "<pre>recommendations finished on 77000/330575 queries. users per second: 18909.4</pre>", 
                        "text/plain": "recommendations finished on 77000/330575 queries. users per second: 18909.4"
                    }, 
                    "metadata": {}
                }, 
                {
                    "output_type": "display_data", 
                    "data": {
                        "text/html": "<pre>recommendations finished on 78000/330575 queries. users per second: 18955.4</pre>", 
                        "text/plain": "recommendations finished on 78000/330575 queries. users per second: 18955.4"
                    }, 
                    "metadata": {}
                }, 
                {
                    "output_type": "display_data", 
                    "data": {
                        "text/html": "<pre>recommendations finished on 79000/330575 queries. users per second: 18932.1</pre>", 
                        "text/plain": "recommendations finished on 79000/330575 queries. users per second: 18932.1"
                    }, 
                    "metadata": {}
                }, 
                {
                    "output_type": "display_data", 
                    "data": {
                        "text/html": "<pre>recommendations finished on 80000/330575 queries. users per second: 18989</pre>", 
                        "text/plain": "recommendations finished on 80000/330575 queries. users per second: 18989"
                    }, 
                    "metadata": {}
                }, 
                {
                    "output_type": "display_data", 
                    "data": {
                        "text/html": "<pre>recommendations finished on 81000/330575 queries. users per second: 19045</pre>", 
                        "text/plain": "recommendations finished on 81000/330575 queries. users per second: 19045"
                    }, 
                    "metadata": {}
                }, 
                {
                    "output_type": "display_data", 
                    "data": {
                        "text/html": "<pre>recommendations finished on 82000/330575 queries. users per second: 19184.9</pre>", 
                        "text/plain": "recommendations finished on 82000/330575 queries. users per second: 19184.9"
                    }, 
                    "metadata": {}
                }, 
                {
                    "output_type": "display_data", 
                    "data": {
                        "text/html": "<pre>recommendations finished on 83000/330575 queries. users per second: 19152.2</pre>", 
                        "text/plain": "recommendations finished on 83000/330575 queries. users per second: 19152.2"
                    }, 
                    "metadata": {}
                }, 
                {
                    "output_type": "display_data", 
                    "data": {
                        "text/html": "<pre>recommendations finished on 84000/330575 queries. users per second: 19206.5</pre>", 
                        "text/plain": "recommendations finished on 84000/330575 queries. users per second: 19206.5"
                    }, 
                    "metadata": {}
                }, 
                {
                    "output_type": "display_data", 
                    "data": {
                        "text/html": "<pre>recommendations finished on 85000/330575 queries. users per second: 19343.2</pre>", 
                        "text/plain": "recommendations finished on 85000/330575 queries. users per second: 19343.2"
                    }, 
                    "metadata": {}
                }, 
                {
                    "output_type": "display_data", 
                    "data": {
                        "text/html": "<pre>recommendations finished on 86000/330575 queries. users per second: 19392.6</pre>", 
                        "text/plain": "recommendations finished on 86000/330575 queries. users per second: 19392.6"
                    }, 
                    "metadata": {}
                }, 
                {
                    "output_type": "display_data", 
                    "data": {
                        "text/html": "<pre>recommendations finished on 87000/330575 queries. users per second: 19450</pre>", 
                        "text/plain": "recommendations finished on 87000/330575 queries. users per second: 19450"
                    }, 
                    "metadata": {}
                }, 
                {
                    "output_type": "display_data", 
                    "data": {
                        "text/html": "<pre>recommendations finished on 88000/330575 queries. users per second: 19577.5</pre>", 
                        "text/plain": "recommendations finished on 88000/330575 queries. users per second: 19577.5"
                    }, 
                    "metadata": {}
                }, 
                {
                    "output_type": "display_data", 
                    "data": {
                        "text/html": "<pre>recommendations finished on 89000/330575 queries. users per second: 19636.7</pre>", 
                        "text/plain": "recommendations finished on 89000/330575 queries. users per second: 19636.7"
                    }, 
                    "metadata": {}
                }, 
                {
                    "output_type": "display_data", 
                    "data": {
                        "text/html": "<pre>recommendations finished on 90000/330575 queries. users per second: 19684</pre>", 
                        "text/plain": "recommendations finished on 90000/330575 queries. users per second: 19684"
                    }, 
                    "metadata": {}
                }, 
                {
                    "output_type": "display_data", 
                    "data": {
                        "text/html": "<pre>recommendations finished on 91000/330575 queries. users per second: 19810</pre>", 
                        "text/plain": "recommendations finished on 91000/330575 queries. users per second: 19810"
                    }, 
                    "metadata": {}
                }, 
                {
                    "output_type": "display_data", 
                    "data": {
                        "text/html": "<pre>recommendations finished on 92000/330575 queries. users per second: 19771.1</pre>", 
                        "text/plain": "recommendations finished on 92000/330575 queries. users per second: 19771.1"
                    }, 
                    "metadata": {}
                }, 
                {
                    "output_type": "display_data", 
                    "data": {
                        "text/html": "<pre>recommendations finished on 93000/330575 queries. users per second: 19805.9</pre>", 
                        "text/plain": "recommendations finished on 93000/330575 queries. users per second: 19805.9"
                    }, 
                    "metadata": {}
                }, 
                {
                    "output_type": "display_data", 
                    "data": {
                        "text/html": "<pre>recommendations finished on 94000/330575 queries. users per second: 19852.2</pre>", 
                        "text/plain": "recommendations finished on 94000/330575 queries. users per second: 19852.2"
                    }, 
                    "metadata": {}
                }, 
                {
                    "output_type": "display_data", 
                    "data": {
                        "text/html": "<pre>recommendations finished on 95000/330575 queries. users per second: 19823</pre>", 
                        "text/plain": "recommendations finished on 95000/330575 queries. users per second: 19823"
                    }, 
                    "metadata": {}
                }, 
                {
                    "output_type": "display_data", 
                    "data": {
                        "text/html": "<pre>recommendations finished on 96000/330575 queries. users per second: 19863.3</pre>", 
                        "text/plain": "recommendations finished on 96000/330575 queries. users per second: 19863.3"
                    }, 
                    "metadata": {}
                }, 
                {
                    "output_type": "display_data", 
                    "data": {
                        "text/html": "<pre>recommendations finished on 97000/330575 queries. users per second: 19906.1</pre>", 
                        "text/plain": "recommendations finished on 97000/330575 queries. users per second: 19906.1"
                    }, 
                    "metadata": {}
                }, 
                {
                    "output_type": "display_data", 
                    "data": {
                        "text/html": "<pre>recommendations finished on 98000/330575 queries. users per second: 19938.5</pre>", 
                        "text/plain": "recommendations finished on 98000/330575 queries. users per second: 19938.5"
                    }, 
                    "metadata": {}
                }, 
                {
                    "output_type": "display_data", 
                    "data": {
                        "text/html": "<pre>recommendations finished on 99000/330575 queries. users per second: 19980.6</pre>", 
                        "text/plain": "recommendations finished on 99000/330575 queries. users per second: 19980.6"
                    }, 
                    "metadata": {}
                }, 
                {
                    "output_type": "display_data", 
                    "data": {
                        "text/html": "<pre>recommendations finished on 100000/330575 queries. users per second: 19951</pre>", 
                        "text/plain": "recommendations finished on 100000/330575 queries. users per second: 19951"
                    }, 
                    "metadata": {}
                }, 
                {
                    "output_type": "display_data", 
                    "data": {
                        "text/html": "<pre>recommendations finished on 101000/330575 queries. users per second: 20058.6</pre>", 
                        "text/plain": "recommendations finished on 101000/330575 queries. users per second: 20058.6"
                    }, 
                    "metadata": {}
                }, 
                {
                    "output_type": "display_data", 
                    "data": {
                        "text/html": "<pre>recommendations finished on 102000/330575 queries. users per second: 20096.6</pre>", 
                        "text/plain": "recommendations finished on 102000/330575 queries. users per second: 20096.6"
                    }, 
                    "metadata": {}
                }, 
                {
                    "output_type": "display_data", 
                    "data": {
                        "text/html": "<pre>recommendations finished on 103000/330575 queries. users per second: 20137.5</pre>", 
                        "text/plain": "recommendations finished on 103000/330575 queries. users per second: 20137.5"
                    }, 
                    "metadata": {}
                }, 
                {
                    "output_type": "display_data", 
                    "data": {
                        "text/html": "<pre>recommendations finished on 104000/330575 queries. users per second: 20175.4</pre>", 
                        "text/plain": "recommendations finished on 104000/330575 queries. users per second: 20175.4"
                    }, 
                    "metadata": {}
                }, 
                {
                    "output_type": "display_data", 
                    "data": {
                        "text/html": "<pre>recommendations finished on 105000/330575 queries. users per second: 20143.7</pre>", 
                        "text/plain": "recommendations finished on 105000/330575 queries. users per second: 20143.7"
                    }, 
                    "metadata": {}
                }, 
                {
                    "output_type": "display_data", 
                    "data": {
                        "text/html": "<pre>recommendations finished on 106000/330575 queries. users per second: 20250.2</pre>", 
                        "text/plain": "recommendations finished on 106000/330575 queries. users per second: 20250.2"
                    }, 
                    "metadata": {}
                }, 
                {
                    "output_type": "display_data", 
                    "data": {
                        "text/html": "<pre>recommendations finished on 107000/330575 queries. users per second: 20292.2</pre>", 
                        "text/plain": "recommendations finished on 107000/330575 queries. users per second: 20292.2"
                    }, 
                    "metadata": {}
                }, 
                {
                    "output_type": "display_data", 
                    "data": {
                        "text/html": "<pre>recommendations finished on 108000/330575 queries. users per second: 20310.6</pre>", 
                        "text/plain": "recommendations finished on 108000/330575 queries. users per second: 20310.6"
                    }, 
                    "metadata": {}
                }, 
                {
                    "output_type": "display_data", 
                    "data": {
                        "text/html": "<pre>recommendations finished on 109000/330575 queries. users per second: 20289.3</pre>", 
                        "text/plain": "recommendations finished on 109000/330575 queries. users per second: 20289.3"
                    }, 
                    "metadata": {}
                }, 
                {
                    "output_type": "display_data", 
                    "data": {
                        "text/html": "<pre>recommendations finished on 110000/330575 queries. users per second: 20321.7</pre>", 
                        "text/plain": "recommendations finished on 110000/330575 queries. users per second: 20321.7"
                    }, 
                    "metadata": {}
                }, 
                {
                    "output_type": "display_data", 
                    "data": {
                        "text/html": "<pre>recommendations finished on 111000/330575 queries. users per second: 20426.8</pre>", 
                        "text/plain": "recommendations finished on 111000/330575 queries. users per second: 20426.8"
                    }, 
                    "metadata": {}
                }, 
                {
                    "output_type": "display_data", 
                    "data": {
                        "text/html": "<pre>recommendations finished on 112000/330575 queries. users per second: 20462.9</pre>", 
                        "text/plain": "recommendations finished on 112000/330575 queries. users per second: 20462.9"
                    }, 
                    "metadata": {}
                }, 
                {
                    "output_type": "display_data", 
                    "data": {
                        "text/html": "<pre>recommendations finished on 113000/330575 queries. users per second: 20494.3</pre>", 
                        "text/plain": "recommendations finished on 113000/330575 queries. users per second: 20494.3"
                    }, 
                    "metadata": {}
                }, 
                {
                    "output_type": "display_data", 
                    "data": {
                        "text/html": "<pre>recommendations finished on 114000/330575 queries. users per second: 20527.3</pre>", 
                        "text/plain": "recommendations finished on 114000/330575 queries. users per second: 20527.3"
                    }, 
                    "metadata": {}
                }, 
                {
                    "output_type": "display_data", 
                    "data": {
                        "text/html": "<pre>recommendations finished on 115000/330575 queries. users per second: 20634.2</pre>", 
                        "text/plain": "recommendations finished on 115000/330575 queries. users per second: 20634.2"
                    }, 
                    "metadata": {}
                }, 
                {
                    "output_type": "display_data", 
                    "data": {
                        "text/html": "<pre>recommendations finished on 116000/330575 queries. users per second: 20664.9</pre>", 
                        "text/plain": "recommendations finished on 116000/330575 queries. users per second: 20664.9"
                    }, 
                    "metadata": {}
                }, 
                {
                    "output_type": "display_data", 
                    "data": {
                        "text/html": "<pre>recommendations finished on 117000/330575 queries. users per second: 20698.3</pre>", 
                        "text/plain": "recommendations finished on 117000/330575 queries. users per second: 20698.3"
                    }, 
                    "metadata": {}
                }, 
                {
                    "output_type": "display_data", 
                    "data": {
                        "text/html": "<pre>recommendations finished on 118000/330575 queries. users per second: 20730.6</pre>", 
                        "text/plain": "recommendations finished on 118000/330575 queries. users per second: 20730.6"
                    }, 
                    "metadata": {}
                }, 
                {
                    "output_type": "display_data", 
                    "data": {
                        "text/html": "<pre>recommendations finished on 119000/330575 queries. users per second: 20828</pre>", 
                        "text/plain": "recommendations finished on 119000/330575 queries. users per second: 20828"
                    }, 
                    "metadata": {}
                }, 
                {
                    "output_type": "display_data", 
                    "data": {
                        "text/html": "<pre>recommendations finished on 120000/330575 queries. users per second: 20857.6</pre>", 
                        "text/plain": "recommendations finished on 120000/330575 queries. users per second: 20857.6"
                    }, 
                    "metadata": {}
                }, 
                {
                    "output_type": "display_data", 
                    "data": {
                        "text/html": "<pre>recommendations finished on 121000/330575 queries. users per second: 20890.8</pre>", 
                        "text/plain": "recommendations finished on 121000/330575 queries. users per second: 20890.8"
                    }, 
                    "metadata": {}
                }, 
                {
                    "output_type": "display_data", 
                    "data": {
                        "text/html": "<pre>recommendations finished on 122000/330575 queries. users per second: 20917.6</pre>", 
                        "text/plain": "recommendations finished on 122000/330575 queries. users per second: 20917.6"
                    }, 
                    "metadata": {}
                }, 
                {
                    "output_type": "display_data", 
                    "data": {
                        "text/html": "<pre>recommendations finished on 123000/330575 queries. users per second: 21009.4</pre>", 
                        "text/plain": "recommendations finished on 123000/330575 queries. users per second: 21009.4"
                    }, 
                    "metadata": {}
                }, 
                {
                    "output_type": "display_data", 
                    "data": {
                        "text/html": "<pre>recommendations finished on 124000/330575 queries. users per second: 21040.1</pre>", 
                        "text/plain": "recommendations finished on 124000/330575 queries. users per second: 21040.1"
                    }, 
                    "metadata": {}
                }, 
                {
                    "output_type": "display_data", 
                    "data": {
                        "text/html": "<pre>recommendations finished on 125000/330575 queries. users per second: 21068.9</pre>", 
                        "text/plain": "recommendations finished on 125000/330575 queries. users per second: 21068.9"
                    }, 
                    "metadata": {}
                }, 
                {
                    "output_type": "display_data", 
                    "data": {
                        "text/html": "<pre>recommendations finished on 126000/330575 queries. users per second: 21098.8</pre>", 
                        "text/plain": "recommendations finished on 126000/330575 queries. users per second: 21098.8"
                    }, 
                    "metadata": {}
                }, 
                {
                    "output_type": "display_data", 
                    "data": {
                        "text/html": "<pre>recommendations finished on 127000/330575 queries. users per second: 21192.1</pre>", 
                        "text/plain": "recommendations finished on 127000/330575 queries. users per second: 21192.1"
                    }, 
                    "metadata": {}
                }, 
                {
                    "output_type": "display_data", 
                    "data": {
                        "text/html": "<pre>recommendations finished on 128000/330575 queries. users per second: 21219.1</pre>", 
                        "text/plain": "recommendations finished on 128000/330575 queries. users per second: 21219.1"
                    }, 
                    "metadata": {}
                }, 
                {
                    "output_type": "display_data", 
                    "data": {
                        "text/html": "<pre>recommendations finished on 129000/330575 queries. users per second: 21309.3</pre>", 
                        "text/plain": "recommendations finished on 129000/330575 queries. users per second: 21309.3"
                    }, 
                    "metadata": {}
                }, 
                {
                    "output_type": "display_data", 
                    "data": {
                        "text/html": "<pre>recommendations finished on 130000/330575 queries. users per second: 21335.4</pre>", 
                        "text/plain": "recommendations finished on 130000/330575 queries. users per second: 21335.4"
                    }, 
                    "metadata": {}
                }, 
                {
                    "output_type": "display_data", 
                    "data": {
                        "text/html": "<pre>recommendations finished on 131000/330575 queries. users per second: 21422.6</pre>", 
                        "text/plain": "recommendations finished on 131000/330575 queries. users per second: 21422.6"
                    }, 
                    "metadata": {}
                }, 
                {
                    "output_type": "display_data", 
                    "data": {
                        "text/html": "<pre>recommendations finished on 132000/330575 queries. users per second: 21452.6</pre>", 
                        "text/plain": "recommendations finished on 132000/330575 queries. users per second: 21452.6"
                    }, 
                    "metadata": {}
                }, 
                {
                    "output_type": "display_data", 
                    "data": {
                        "text/html": "<pre>recommendations finished on 133000/330575 queries. users per second: 21475.5</pre>", 
                        "text/plain": "recommendations finished on 133000/330575 queries. users per second: 21475.5"
                    }, 
                    "metadata": {}
                }, 
                {
                    "output_type": "display_data", 
                    "data": {
                        "text/html": "<pre>recommendations finished on 134000/330575 queries. users per second: 21561.7</pre>", 
                        "text/plain": "recommendations finished on 134000/330575 queries. users per second: 21561.7"
                    }, 
                    "metadata": {}
                }, 
                {
                    "output_type": "display_data", 
                    "data": {
                        "text/html": "<pre>recommendations finished on 135000/330575 queries. users per second: 21652.9</pre>", 
                        "text/plain": "recommendations finished on 135000/330575 queries. users per second: 21652.9"
                    }, 
                    "metadata": {}
                }, 
                {
                    "output_type": "display_data", 
                    "data": {
                        "text/html": "<pre>recommendations finished on 136000/330575 queries. users per second: 21614.8</pre>", 
                        "text/plain": "recommendations finished on 136000/330575 queries. users per second: 21614.8"
                    }, 
                    "metadata": {}
                }, 
                {
                    "output_type": "display_data", 
                    "data": {
                        "text/html": "<pre>recommendations finished on 137000/330575 queries. users per second: 21692.3</pre>", 
                        "text/plain": "recommendations finished on 137000/330575 queries. users per second: 21692.3"
                    }, 
                    "metadata": {}
                }, 
                {
                    "output_type": "display_data", 
                    "data": {
                        "text/html": "<pre>recommendations finished on 138000/330575 queries. users per second: 21785.4</pre>", 
                        "text/plain": "recommendations finished on 138000/330575 queries. users per second: 21785.4"
                    }, 
                    "metadata": {}
                }, 
                {
                    "output_type": "display_data", 
                    "data": {
                        "text/html": "<pre>recommendations finished on 139000/330575 queries. users per second: 21873.5</pre>", 
                        "text/plain": "recommendations finished on 139000/330575 queries. users per second: 21873.5"
                    }, 
                    "metadata": {}
                }, 
                {
                    "output_type": "display_data", 
                    "data": {
                        "text/html": "<pre>recommendations finished on 140000/330575 queries. users per second: 21899.5</pre>", 
                        "text/plain": "recommendations finished on 140000/330575 queries. users per second: 21899.5"
                    }, 
                    "metadata": {}
                }, 
                {
                    "output_type": "display_data", 
                    "data": {
                        "text/html": "<pre>recommendations finished on 141000/330575 queries. users per second: 21920.9</pre>", 
                        "text/plain": "recommendations finished on 141000/330575 queries. users per second: 21920.9"
                    }, 
                    "metadata": {}
                }, 
                {
                    "output_type": "display_data", 
                    "data": {
                        "text/html": "<pre>recommendations finished on 142000/330575 queries. users per second: 22001.1</pre>", 
                        "text/plain": "recommendations finished on 142000/330575 queries. users per second: 22001.1"
                    }, 
                    "metadata": {}
                }, 
                {
                    "output_type": "display_data", 
                    "data": {
                        "text/html": "<pre>recommendations finished on 143000/330575 queries. users per second: 22021.4</pre>", 
                        "text/plain": "recommendations finished on 143000/330575 queries. users per second: 22021.4"
                    }, 
                    "metadata": {}
                }, 
                {
                    "output_type": "display_data", 
                    "data": {
                        "text/html": "<pre>recommendations finished on 144000/330575 queries. users per second: 22106.8</pre>", 
                        "text/plain": "recommendations finished on 144000/330575 queries. users per second: 22106.8"
                    }, 
                    "metadata": {}
                }, 
                {
                    "output_type": "display_data", 
                    "data": {
                        "text/html": "<pre>recommendations finished on 145000/330575 queries. users per second: 22127.8</pre>", 
                        "text/plain": "recommendations finished on 145000/330575 queries. users per second: 22127.8"
                    }, 
                    "metadata": {}
                }, 
                {
                    "output_type": "display_data", 
                    "data": {
                        "text/html": "<pre>recommendations finished on 146000/330575 queries. users per second: 22208.7</pre>", 
                        "text/plain": "recommendations finished on 146000/330575 queries. users per second: 22208.7"
                    }, 
                    "metadata": {}
                }, 
                {
                    "output_type": "display_data", 
                    "data": {
                        "text/html": "<pre>recommendations finished on 147000/330575 queries. users per second: 22230.8</pre>", 
                        "text/plain": "recommendations finished on 147000/330575 queries. users per second: 22230.8"
                    }, 
                    "metadata": {}
                }, 
                {
                    "output_type": "display_data", 
                    "data": {
                        "text/html": "<pre>recommendations finished on 148000/330575 queries. users per second: 22311.9</pre>", 
                        "text/plain": "recommendations finished on 148000/330575 queries. users per second: 22311.9"
                    }, 
                    "metadata": {}
                }, 
                {
                    "output_type": "display_data", 
                    "data": {
                        "text/html": "<pre>recommendations finished on 149000/330575 queries. users per second: 22392.5</pre>", 
                        "text/plain": "recommendations finished on 149000/330575 queries. users per second: 22392.5"
                    }, 
                    "metadata": {}
                }, 
                {
                    "output_type": "display_data", 
                    "data": {
                        "text/html": "<pre>recommendations finished on 150000/330575 queries. users per second: 22479.9</pre>", 
                        "text/plain": "recommendations finished on 150000/330575 queries. users per second: 22479.9"
                    }, 
                    "metadata": {}
                }, 
                {
                    "output_type": "display_data", 
                    "data": {
                        "text/html": "<pre>recommendations finished on 151000/330575 queries. users per second: 22363</pre>", 
                        "text/plain": "recommendations finished on 151000/330575 queries. users per second: 22363"
                    }, 
                    "metadata": {}
                }, 
                {
                    "output_type": "display_data", 
                    "data": {
                        "text/html": "<pre>recommendations finished on 152000/330575 queries. users per second: 22503.7</pre>", 
                        "text/plain": "recommendations finished on 152000/330575 queries. users per second: 22503.7"
                    }, 
                    "metadata": {}
                }, 
                {
                    "output_type": "display_data", 
                    "data": {
                        "text/html": "<pre>recommendations finished on 153000/330575 queries. users per second: 22453.9</pre>", 
                        "text/plain": "recommendations finished on 153000/330575 queries. users per second: 22453.9"
                    }, 
                    "metadata": {}
                }, 
                {
                    "output_type": "display_data", 
                    "data": {
                        "text/html": "<pre>recommendations finished on 154000/330575 queries. users per second: 22536.1</pre>", 
                        "text/plain": "recommendations finished on 154000/330575 queries. users per second: 22536.1"
                    }, 
                    "metadata": {}
                }, 
                {
                    "output_type": "display_data", 
                    "data": {
                        "text/html": "<pre>recommendations finished on 155000/330575 queries. users per second: 22552.4</pre>", 
                        "text/plain": "recommendations finished on 155000/330575 queries. users per second: 22552.4"
                    }, 
                    "metadata": {}
                }, 
                {
                    "output_type": "display_data", 
                    "data": {
                        "text/html": "<pre>recommendations finished on 156000/330575 queries. users per second: 22565.5</pre>", 
                        "text/plain": "recommendations finished on 156000/330575 queries. users per second: 22565.5"
                    }, 
                    "metadata": {}
                }, 
                {
                    "output_type": "display_data", 
                    "data": {
                        "text/html": "<pre>recommendations finished on 157000/330575 queries. users per second: 22581.5</pre>", 
                        "text/plain": "recommendations finished on 157000/330575 queries. users per second: 22581.5"
                    }, 
                    "metadata": {}
                }, 
                {
                    "output_type": "display_data", 
                    "data": {
                        "text/html": "<pre>recommendations finished on 158000/330575 queries. users per second: 22530.5</pre>", 
                        "text/plain": "recommendations finished on 158000/330575 queries. users per second: 22530.5"
                    }, 
                    "metadata": {}
                }, 
                {
                    "output_type": "display_data", 
                    "data": {
                        "text/html": "<pre>recommendations finished on 159000/330575 queries. users per second: 22666.3</pre>", 
                        "text/plain": "recommendations finished on 159000/330575 queries. users per second: 22666.3"
                    }, 
                    "metadata": {}
                }, 
                {
                    "output_type": "display_data", 
                    "data": {
                        "text/html": "<pre>recommendations finished on 160000/330575 queries. users per second: 22682.7</pre>", 
                        "text/plain": "recommendations finished on 160000/330575 queries. users per second: 22682.7"
                    }, 
                    "metadata": {}
                }, 
                {
                    "output_type": "display_data", 
                    "data": {
                        "text/html": "<pre>recommendations finished on 161000/330575 queries. users per second: 22574</pre>", 
                        "text/plain": "recommendations finished on 161000/330575 queries. users per second: 22574"
                    }, 
                    "metadata": {}
                }, 
                {
                    "output_type": "display_data", 
                    "data": {
                        "text/html": "<pre>recommendations finished on 162000/330575 queries. users per second: 22583.5</pre>", 
                        "text/plain": "recommendations finished on 162000/330575 queries. users per second: 22583.5"
                    }, 
                    "metadata": {}
                }, 
                {
                    "output_type": "display_data", 
                    "data": {
                        "text/html": "<pre>recommendations finished on 163000/330575 queries. users per second: 22656.2</pre>", 
                        "text/plain": "recommendations finished on 163000/330575 queries. users per second: 22656.2"
                    }, 
                    "metadata": {}
                }, 
                {
                    "output_type": "display_data", 
                    "data": {
                        "text/html": "<pre>recommendations finished on 164000/330575 queries. users per second: 22613.3</pre>", 
                        "text/plain": "recommendations finished on 164000/330575 queries. users per second: 22613.3"
                    }, 
                    "metadata": {}
                }, 
                {
                    "output_type": "display_data", 
                    "data": {
                        "text/html": "<pre>recommendations finished on 165000/330575 queries. users per second: 22625.5</pre>", 
                        "text/plain": "recommendations finished on 165000/330575 queries. users per second: 22625.5"
                    }, 
                    "metadata": {}
                }, 
                {
                    "output_type": "display_data", 
                    "data": {
                        "text/html": "<pre>recommendations finished on 166000/330575 queries. users per second: 22698.5</pre>", 
                        "text/plain": "recommendations finished on 166000/330575 queries. users per second: 22698.5"
                    }, 
                    "metadata": {}
                }, 
                {
                    "output_type": "display_data", 
                    "data": {
                        "text/html": "<pre>recommendations finished on 167000/330575 queries. users per second: 22709.6</pre>", 
                        "text/plain": "recommendations finished on 167000/330575 queries. users per second: 22709.6"
                    }, 
                    "metadata": {}
                }, 
                {
                    "output_type": "display_data", 
                    "data": {
                        "text/html": "<pre>recommendations finished on 168000/330575 queries. users per second: 22722.8</pre>", 
                        "text/plain": "recommendations finished on 168000/330575 queries. users per second: 22722.8"
                    }, 
                    "metadata": {}
                }, 
                {
                    "output_type": "display_data", 
                    "data": {
                        "text/html": "<pre>recommendations finished on 169000/330575 queries. users per second: 22794</pre>", 
                        "text/plain": "recommendations finished on 169000/330575 queries. users per second: 22794"
                    }, 
                    "metadata": {}
                }, 
                {
                    "output_type": "display_data", 
                    "data": {
                        "text/html": "<pre>recommendations finished on 170000/330575 queries. users per second: 22689.2</pre>", 
                        "text/plain": "recommendations finished on 170000/330575 queries. users per second: 22689.2"
                    }, 
                    "metadata": {}
                }, 
                {
                    "output_type": "display_data", 
                    "data": {
                        "text/html": "<pre>recommendations finished on 171000/330575 queries. users per second: 22815.5</pre>", 
                        "text/plain": "recommendations finished on 171000/330575 queries. users per second: 22815.5"
                    }, 
                    "metadata": {}
                }, 
                {
                    "output_type": "display_data", 
                    "data": {
                        "text/html": "<pre>recommendations finished on 172000/330575 queries. users per second: 22771.2</pre>", 
                        "text/plain": "recommendations finished on 172000/330575 queries. users per second: 22771.2"
                    }, 
                    "metadata": {}
                }, 
                {
                    "output_type": "display_data", 
                    "data": {
                        "text/html": "<pre>recommendations finished on 173000/330575 queries. users per second: 22780.1</pre>", 
                        "text/plain": "recommendations finished on 173000/330575 queries. users per second: 22780.1"
                    }, 
                    "metadata": {}
                }, 
                {
                    "output_type": "display_data", 
                    "data": {
                        "text/html": "<pre>recommendations finished on 174000/330575 queries. users per second: 22679.2</pre>", 
                        "text/plain": "recommendations finished on 174000/330575 queries. users per second: 22679.2"
                    }, 
                    "metadata": {}
                }, 
                {
                    "output_type": "display_data", 
                    "data": {
                        "text/html": "<pre>recommendations finished on 175000/330575 queries. users per second: 22691.2</pre>", 
                        "text/plain": "recommendations finished on 175000/330575 queries. users per second: 22691.2"
                    }, 
                    "metadata": {}
                }, 
                {
                    "output_type": "display_data", 
                    "data": {
                        "text/html": "<pre>recommendations finished on 176000/330575 queries. users per second: 22760.1</pre>", 
                        "text/plain": "recommendations finished on 176000/330575 queries. users per second: 22760.1"
                    }, 
                    "metadata": {}
                }, 
                {
                    "output_type": "display_data", 
                    "data": {
                        "text/html": "<pre>recommendations finished on 177000/330575 queries. users per second: 22827.3</pre>", 
                        "text/plain": "recommendations finished on 177000/330575 queries. users per second: 22827.3"
                    }, 
                    "metadata": {}
                }, 
                {
                    "output_type": "display_data", 
                    "data": {
                        "text/html": "<pre>recommendations finished on 178000/330575 queries. users per second: 22840.7</pre>", 
                        "text/plain": "recommendations finished on 178000/330575 queries. users per second: 22840.7"
                    }, 
                    "metadata": {}
                }, 
                {
                    "output_type": "display_data", 
                    "data": {
                        "text/html": "<pre>recommendations finished on 179000/330575 queries. users per second: 22910</pre>", 
                        "text/plain": "recommendations finished on 179000/330575 queries. users per second: 22910"
                    }, 
                    "metadata": {}
                }, 
                {
                    "output_type": "display_data", 
                    "data": {
                        "text/html": "<pre>recommendations finished on 180000/330575 queries. users per second: 22920.5</pre>", 
                        "text/plain": "recommendations finished on 180000/330575 queries. users per second: 22920.5"
                    }, 
                    "metadata": {}
                }, 
                {
                    "output_type": "display_data", 
                    "data": {
                        "text/html": "<pre>recommendations finished on 181000/330575 queries. users per second: 22931.9</pre>", 
                        "text/plain": "recommendations finished on 181000/330575 queries. users per second: 22931.9"
                    }, 
                    "metadata": {}
                }, 
                {
                    "output_type": "display_data", 
                    "data": {
                        "text/html": "<pre>recommendations finished on 182000/330575 queries. users per second: 22999</pre>", 
                        "text/plain": "recommendations finished on 182000/330575 queries. users per second: 22999"
                    }, 
                    "metadata": {}
                }, 
                {
                    "output_type": "display_data", 
                    "data": {
                        "text/html": "<pre>recommendations finished on 183000/330575 queries. users per second: 23119.7</pre>", 
                        "text/plain": "recommendations finished on 183000/330575 queries. users per second: 23119.7"
                    }, 
                    "metadata": {}
                }, 
                {
                    "output_type": "display_data", 
                    "data": {
                        "text/html": "<pre>recommendations finished on 184000/330575 queries. users per second: 23189.2</pre>", 
                        "text/plain": "recommendations finished on 184000/330575 queries. users per second: 23189.2"
                    }, 
                    "metadata": {}
                }, 
                {
                    "output_type": "display_data", 
                    "data": {
                        "text/html": "<pre>recommendations finished on 185000/330575 queries. users per second: 23206</pre>", 
                        "text/plain": "recommendations finished on 185000/330575 queries. users per second: 23206"
                    }, 
                    "metadata": {}
                }, 
                {
                    "output_type": "display_data", 
                    "data": {
                        "text/html": "<pre>recommendations finished on 186000/330575 queries. users per second: 23098.9</pre>", 
                        "text/plain": "recommendations finished on 186000/330575 queries. users per second: 23098.9"
                    }, 
                    "metadata": {}
                }, 
                {
                    "output_type": "display_data", 
                    "data": {
                        "text/html": "<pre>recommendations finished on 187000/330575 queries. users per second: 23157</pre>", 
                        "text/plain": "recommendations finished on 187000/330575 queries. users per second: 23157"
                    }, 
                    "metadata": {}
                }, 
                {
                    "output_type": "display_data", 
                    "data": {
                        "text/html": "<pre>recommendations finished on 188000/330575 queries. users per second: 23173.2</pre>", 
                        "text/plain": "recommendations finished on 188000/330575 queries. users per second: 23173.2"
                    }, 
                    "metadata": {}
                }, 
                {
                    "output_type": "display_data", 
                    "data": {
                        "text/html": "<pre>recommendations finished on 189000/330575 queries. users per second: 23238.4</pre>", 
                        "text/plain": "recommendations finished on 189000/330575 queries. users per second: 23238.4"
                    }, 
                    "metadata": {}
                }, 
                {
                    "output_type": "display_data", 
                    "data": {
                        "text/html": "<pre>recommendations finished on 190000/330575 queries. users per second: 23354.3</pre>", 
                        "text/plain": "recommendations finished on 190000/330575 queries. users per second: 23354.3"
                    }, 
                    "metadata": {}
                }, 
                {
                    "output_type": "display_data", 
                    "data": {
                        "text/html": "<pre>recommendations finished on 191000/330575 queries. users per second: 23257.4</pre>", 
                        "text/plain": "recommendations finished on 191000/330575 queries. users per second: 23257.4"
                    }, 
                    "metadata": {}
                }, 
                {
                    "output_type": "display_data", 
                    "data": {
                        "text/html": "<pre>recommendations finished on 192000/330575 queries. users per second: 23267</pre>", 
                        "text/plain": "recommendations finished on 192000/330575 queries. users per second: 23267"
                    }, 
                    "metadata": {}
                }, 
                {
                    "output_type": "display_data", 
                    "data": {
                        "text/html": "<pre>recommendations finished on 193000/330575 queries. users per second: 23269.8</pre>", 
                        "text/plain": "recommendations finished on 193000/330575 queries. users per second: 23269.8"
                    }, 
                    "metadata": {}
                }, 
                {
                    "output_type": "display_data", 
                    "data": {
                        "text/html": "<pre>recommendations finished on 194000/330575 queries. users per second: 23280.8</pre>", 
                        "text/plain": "recommendations finished on 194000/330575 queries. users per second: 23280.8"
                    }, 
                    "metadata": {}
                }, 
                {
                    "output_type": "display_data", 
                    "data": {
                        "text/html": "<pre>recommendations finished on 195000/330575 queries. users per second: 23343.8</pre>", 
                        "text/plain": "recommendations finished on 195000/330575 queries. users per second: 23343.8"
                    }, 
                    "metadata": {}
                }, 
                {
                    "output_type": "display_data", 
                    "data": {
                        "text/html": "<pre>recommendations finished on 196000/330575 queries. users per second: 23349.5</pre>", 
                        "text/plain": "recommendations finished on 196000/330575 queries. users per second: 23349.5"
                    }, 
                    "metadata": {}
                }, 
                {
                    "output_type": "display_data", 
                    "data": {
                        "text/html": "<pre>recommendations finished on 197000/330575 queries. users per second: 23411.9</pre>", 
                        "text/plain": "recommendations finished on 197000/330575 queries. users per second: 23411.9"
                    }, 
                    "metadata": {}
                }, 
                {
                    "output_type": "display_data", 
                    "data": {
                        "text/html": "<pre>recommendations finished on 198000/330575 queries. users per second: 23479</pre>", 
                        "text/plain": "recommendations finished on 198000/330575 queries. users per second: 23479"
                    }, 
                    "metadata": {}
                }, 
                {
                    "output_type": "display_data", 
                    "data": {
                        "text/html": "<pre>recommendations finished on 199000/330575 queries. users per second: 23542.8</pre>", 
                        "text/plain": "recommendations finished on 199000/330575 queries. users per second: 23542.8"
                    }, 
                    "metadata": {}
                }, 
                {
                    "output_type": "display_data", 
                    "data": {
                        "text/html": "<pre>recommendations finished on 200000/330575 queries. users per second: 23495.6</pre>", 
                        "text/plain": "recommendations finished on 200000/330575 queries. users per second: 23495.6"
                    }, 
                    "metadata": {}
                }, 
                {
                    "output_type": "display_data", 
                    "data": {
                        "text/html": "<pre>recommendations finished on 201000/330575 queries. users per second: 23499.1</pre>", 
                        "text/plain": "recommendations finished on 201000/330575 queries. users per second: 23499.1"
                    }, 
                    "metadata": {}
                }, 
                {
                    "output_type": "display_data", 
                    "data": {
                        "text/html": "<pre>recommendations finished on 202000/330575 queries. users per second: 23506.5</pre>", 
                        "text/plain": "recommendations finished on 202000/330575 queries. users per second: 23506.5"
                    }, 
                    "metadata": {}
                }, 
                {
                    "output_type": "display_data", 
                    "data": {
                        "text/html": "<pre>recommendations finished on 203000/330575 queries. users per second: 23570.4</pre>", 
                        "text/plain": "recommendations finished on 203000/330575 queries. users per second: 23570.4"
                    }, 
                    "metadata": {}
                }, 
                {
                    "output_type": "display_data", 
                    "data": {
                        "text/html": "<pre>recommendations finished on 204000/330575 queries. users per second: 23575.3</pre>", 
                        "text/plain": "recommendations finished on 204000/330575 queries. users per second: 23575.3"
                    }, 
                    "metadata": {}
                }, 
                {
                    "output_type": "display_data", 
                    "data": {
                        "text/html": "<pre>recommendations finished on 205000/330575 queries. users per second: 23686</pre>", 
                        "text/plain": "recommendations finished on 205000/330575 queries. users per second: 23686"
                    }, 
                    "metadata": {}
                }, 
                {
                    "output_type": "display_data", 
                    "data": {
                        "text/html": "<pre>recommendations finished on 206000/330575 queries. users per second: 23749.8</pre>", 
                        "text/plain": "recommendations finished on 206000/330575 queries. users per second: 23749.8"
                    }, 
                    "metadata": {}
                }, 
                {
                    "output_type": "display_data", 
                    "data": {
                        "text/html": "<pre>recommendations finished on 207000/330575 queries. users per second: 23811.1</pre>", 
                        "text/plain": "recommendations finished on 207000/330575 queries. users per second: 23811.1"
                    }, 
                    "metadata": {}
                }, 
                {
                    "output_type": "display_data", 
                    "data": {
                        "text/html": "<pre>recommendations finished on 208000/330575 queries. users per second: 23870</pre>", 
                        "text/plain": "recommendations finished on 208000/330575 queries. users per second: 23870"
                    }, 
                    "metadata": {}
                }, 
                {
                    "output_type": "display_data", 
                    "data": {
                        "text/html": "<pre>recommendations finished on 209000/330575 queries. users per second: 23927.6</pre>", 
                        "text/plain": "recommendations finished on 209000/330575 queries. users per second: 23927.6"
                    }, 
                    "metadata": {}
                }, 
                {
                    "output_type": "display_data", 
                    "data": {
                        "text/html": "<pre>recommendations finished on 210000/330575 queries. users per second: 23987.1</pre>", 
                        "text/plain": "recommendations finished on 210000/330575 queries. users per second: 23987.1"
                    }, 
                    "metadata": {}
                }, 
                {
                    "output_type": "display_data", 
                    "data": {
                        "text/html": "<pre>recommendations finished on 211000/330575 queries. users per second: 23997.4</pre>", 
                        "text/plain": "recommendations finished on 211000/330575 queries. users per second: 23997.4"
                    }, 
                    "metadata": {}
                }, 
                {
                    "output_type": "display_data", 
                    "data": {
                        "text/html": "<pre>recommendations finished on 212000/330575 queries. users per second: 24055.4</pre>", 
                        "text/plain": "recommendations finished on 212000/330575 queries. users per second: 24055.4"
                    }, 
                    "metadata": {}
                }, 
                {
                    "output_type": "display_data", 
                    "data": {
                        "text/html": "<pre>recommendations finished on 213000/330575 queries. users per second: 24110.3</pre>", 
                        "text/plain": "recommendations finished on 213000/330575 queries. users per second: 24110.3"
                    }, 
                    "metadata": {}
                }, 
                {
                    "output_type": "display_data", 
                    "data": {
                        "text/html": "<pre>recommendations finished on 214000/330575 queries. users per second: 23904.3</pre>", 
                        "text/plain": "recommendations finished on 214000/330575 queries. users per second: 23904.3"
                    }, 
                    "metadata": {}
                }, 
                {
                    "output_type": "display_data", 
                    "data": {
                        "text/html": "<pre>recommendations finished on 215000/330575 queries. users per second: 23957.9</pre>", 
                        "text/plain": "recommendations finished on 215000/330575 queries. users per second: 23957.9"
                    }, 
                    "metadata": {}
                }, 
                {
                    "output_type": "display_data", 
                    "data": {
                        "text/html": "<pre>recommendations finished on 216000/330575 queries. users per second: 23861.6</pre>", 
                        "text/plain": "recommendations finished on 216000/330575 queries. users per second: 23861.6"
                    }, 
                    "metadata": {}
                }, 
                {
                    "output_type": "display_data", 
                    "data": {
                        "text/html": "<pre>recommendations finished on 217000/330575 queries. users per second: 23861.2</pre>", 
                        "text/plain": "recommendations finished on 217000/330575 queries. users per second: 23861.2"
                    }, 
                    "metadata": {}
                }, 
                {
                    "output_type": "display_data", 
                    "data": {
                        "text/html": "<pre>recommendations finished on 218000/330575 queries. users per second: 23866.8</pre>", 
                        "text/plain": "recommendations finished on 218000/330575 queries. users per second: 23866.8"
                    }, 
                    "metadata": {}
                }, 
                {
                    "output_type": "display_data", 
                    "data": {
                        "text/html": "<pre>recommendations finished on 219000/330575 queries. users per second: 23874.7</pre>", 
                        "text/plain": "recommendations finished on 219000/330575 queries. users per second: 23874.7"
                    }, 
                    "metadata": {}
                }, 
                {
                    "output_type": "display_data", 
                    "data": {
                        "text/html": "<pre>recommendations finished on 220000/330575 queries. users per second: 23928</pre>", 
                        "text/plain": "recommendations finished on 220000/330575 queries. users per second: 23928"
                    }, 
                    "metadata": {}
                }, 
                {
                    "output_type": "display_data", 
                    "data": {
                        "text/html": "<pre>recommendations finished on 221000/330575 queries. users per second: 23986.9</pre>", 
                        "text/plain": "recommendations finished on 221000/330575 queries. users per second: 23986.9"
                    }, 
                    "metadata": {}
                }, 
                {
                    "output_type": "display_data", 
                    "data": {
                        "text/html": "<pre>recommendations finished on 222000/330575 queries. users per second: 24039.6</pre>", 
                        "text/plain": "recommendations finished on 222000/330575 queries. users per second: 24039.6"
                    }, 
                    "metadata": {}
                }, 
                {
                    "output_type": "display_data", 
                    "data": {
                        "text/html": "<pre>recommendations finished on 223000/330575 queries. users per second: 24050.5</pre>", 
                        "text/plain": "recommendations finished on 223000/330575 queries. users per second: 24050.5"
                    }, 
                    "metadata": {}
                }, 
                {
                    "output_type": "display_data", 
                    "data": {
                        "text/html": "<pre>recommendations finished on 224000/330575 queries. users per second: 24098.5</pre>", 
                        "text/plain": "recommendations finished on 224000/330575 queries. users per second: 24098.5"
                    }, 
                    "metadata": {}
                }, 
                {
                    "output_type": "display_data", 
                    "data": {
                        "text/html": "<pre>recommendations finished on 225000/330575 queries. users per second: 24109</pre>", 
                        "text/plain": "recommendations finished on 225000/330575 queries. users per second: 24109"
                    }, 
                    "metadata": {}
                }, 
                {
                    "output_type": "display_data", 
                    "data": {
                        "text/html": "<pre>recommendations finished on 226000/330575 queries. users per second: 24158.8</pre>", 
                        "text/plain": "recommendations finished on 226000/330575 queries. users per second: 24158.8"
                    }, 
                    "metadata": {}
                }, 
                {
                    "output_type": "display_data", 
                    "data": {
                        "text/html": "<pre>recommendations finished on 227000/330575 queries. users per second: 24212.4</pre>", 
                        "text/plain": "recommendations finished on 227000/330575 queries. users per second: 24212.4"
                    }, 
                    "metadata": {}
                }, 
                {
                    "output_type": "display_data", 
                    "data": {
                        "text/html": "<pre>recommendations finished on 228000/330575 queries. users per second: 24267.1</pre>", 
                        "text/plain": "recommendations finished on 228000/330575 queries. users per second: 24267.1"
                    }, 
                    "metadata": {}
                }, 
                {
                    "output_type": "display_data", 
                    "data": {
                        "text/html": "<pre>recommendations finished on 229000/330575 queries. users per second: 24275.7</pre>", 
                        "text/plain": "recommendations finished on 229000/330575 queries. users per second: 24275.7"
                    }, 
                    "metadata": {}
                }, 
                {
                    "output_type": "display_data", 
                    "data": {
                        "text/html": "<pre>recommendations finished on 230000/330575 queries. users per second: 24325.4</pre>", 
                        "text/plain": "recommendations finished on 230000/330575 queries. users per second: 24325.4"
                    }, 
                    "metadata": {}
                }, 
                {
                    "output_type": "display_data", 
                    "data": {
                        "text/html": "<pre>recommendations finished on 231000/330575 queries. users per second: 24336.2</pre>", 
                        "text/plain": "recommendations finished on 231000/330575 queries. users per second: 24336.2"
                    }, 
                    "metadata": {}
                }, 
                {
                    "output_type": "display_data", 
                    "data": {
                        "text/html": "<pre>recommendations finished on 232000/330575 queries. users per second: 24383.7</pre>", 
                        "text/plain": "recommendations finished on 232000/330575 queries. users per second: 24383.7"
                    }, 
                    "metadata": {}
                }, 
                {
                    "output_type": "display_data", 
                    "data": {
                        "text/html": "<pre>recommendations finished on 233000/330575 queries. users per second: 24434.6</pre>", 
                        "text/plain": "recommendations finished on 233000/330575 queries. users per second: 24434.6"
                    }, 
                    "metadata": {}
                }, 
                {
                    "output_type": "display_data", 
                    "data": {
                        "text/html": "<pre>recommendations finished on 234000/330575 queries. users per second: 24394.6</pre>", 
                        "text/plain": "recommendations finished on 234000/330575 queries. users per second: 24394.6"
                    }, 
                    "metadata": {}
                }, 
                {
                    "output_type": "display_data", 
                    "data": {
                        "text/html": "<pre>recommendations finished on 235000/330575 queries. users per second: 24295.1</pre>", 
                        "text/plain": "recommendations finished on 235000/330575 queries. users per second: 24295.1"
                    }, 
                    "metadata": {}
                }, 
                {
                    "output_type": "display_data", 
                    "data": {
                        "text/html": "<pre>recommendations finished on 236000/330575 queries. users per second: 24297.7</pre>", 
                        "text/plain": "recommendations finished on 236000/330575 queries. users per second: 24297.7"
                    }, 
                    "metadata": {}
                }, 
                {
                    "output_type": "display_data", 
                    "data": {
                        "text/html": "<pre>recommendations finished on 237000/330575 queries. users per second: 24300.9</pre>", 
                        "text/plain": "recommendations finished on 237000/330575 queries. users per second: 24300.9"
                    }, 
                    "metadata": {}
                }, 
                {
                    "output_type": "display_data", 
                    "data": {
                        "text/html": "<pre>recommendations finished on 238000/330575 queries. users per second: 24398.6</pre>", 
                        "text/plain": "recommendations finished on 238000/330575 queries. users per second: 24398.6"
                    }, 
                    "metadata": {}
                }, 
                {
                    "output_type": "display_data", 
                    "data": {
                        "text/html": "<pre>recommendations finished on 239000/330575 queries. users per second: 24307.2</pre>", 
                        "text/plain": "recommendations finished on 239000/330575 queries. users per second: 24307.2"
                    }, 
                    "metadata": {}
                }, 
                {
                    "output_type": "display_data", 
                    "data": {
                        "text/html": "<pre>recommendations finished on 240000/330575 queries. users per second: 24308.2</pre>", 
                        "text/plain": "recommendations finished on 240000/330575 queries. users per second: 24308.2"
                    }, 
                    "metadata": {}
                }, 
                {
                    "output_type": "display_data", 
                    "data": {
                        "text/html": "<pre>recommendations finished on 241000/330575 queries. users per second: 24312.1</pre>", 
                        "text/plain": "recommendations finished on 241000/330575 queries. users per second: 24312.1"
                    }, 
                    "metadata": {}
                }, 
                {
                    "output_type": "display_data", 
                    "data": {
                        "text/html": "<pre>recommendations finished on 242000/330575 queries. users per second: 24313.3</pre>", 
                        "text/plain": "recommendations finished on 242000/330575 queries. users per second: 24313.3"
                    }, 
                    "metadata": {}
                }, 
                {
                    "output_type": "display_data", 
                    "data": {
                        "text/html": "<pre>recommendations finished on 243000/330575 queries. users per second: 24316.6</pre>", 
                        "text/plain": "recommendations finished on 243000/330575 queries. users per second: 24316.6"
                    }, 
                    "metadata": {}
                }, 
                {
                    "output_type": "display_data", 
                    "data": {
                        "text/html": "<pre>recommendations finished on 244000/330575 queries. users per second: 24318.4</pre>", 
                        "text/plain": "recommendations finished on 244000/330575 queries. users per second: 24318.4"
                    }, 
                    "metadata": {}
                }, 
                {
                    "output_type": "display_data", 
                    "data": {
                        "text/html": "<pre>recommendations finished on 245000/330575 queries. users per second: 24409.3</pre>", 
                        "text/plain": "recommendations finished on 245000/330575 queries. users per second: 24409.3"
                    }, 
                    "metadata": {}
                }, 
                {
                    "output_type": "display_data", 
                    "data": {
                        "text/html": "<pre>recommendations finished on 246000/330575 queries. users per second: 24371.2</pre>", 
                        "text/plain": "recommendations finished on 246000/330575 queries. users per second: 24371.2"
                    }, 
                    "metadata": {}
                }, 
                {
                    "output_type": "display_data", 
                    "data": {
                        "text/html": "<pre>recommendations finished on 247000/330575 queries. users per second: 24376.3</pre>", 
                        "text/plain": "recommendations finished on 247000/330575 queries. users per second: 24376.3"
                    }, 
                    "metadata": {}
                }, 
                {
                    "output_type": "display_data", 
                    "data": {
                        "text/html": "<pre>recommendations finished on 248000/330575 queries. users per second: 24379.7</pre>", 
                        "text/plain": "recommendations finished on 248000/330575 queries. users per second: 24379.7"
                    }, 
                    "metadata": {}
                }, 
                {
                    "output_type": "display_data", 
                    "data": {
                        "text/html": "<pre>recommendations finished on 249000/330575 queries. users per second: 24429.5</pre>", 
                        "text/plain": "recommendations finished on 249000/330575 queries. users per second: 24429.5"
                    }, 
                    "metadata": {}
                }, 
                {
                    "output_type": "display_data", 
                    "data": {
                        "text/html": "<pre>recommendations finished on 250000/330575 queries. users per second: 24384.7</pre>", 
                        "text/plain": "recommendations finished on 250000/330575 queries. users per second: 24384.7"
                    }, 
                    "metadata": {}
                }, 
                {
                    "output_type": "display_data", 
                    "data": {
                        "text/html": "<pre>recommendations finished on 251000/330575 queries. users per second: 24434.4</pre>", 
                        "text/plain": "recommendations finished on 251000/330575 queries. users per second: 24434.4"
                    }, 
                    "metadata": {}
                }, 
                {
                    "output_type": "display_data", 
                    "data": {
                        "text/html": "<pre>recommendations finished on 252000/330575 queries. users per second: 24436.2</pre>", 
                        "text/plain": "recommendations finished on 252000/330575 queries. users per second: 24436.2"
                    }, 
                    "metadata": {}
                }, 
                {
                    "output_type": "display_data", 
                    "data": {
                        "text/html": "<pre>recommendations finished on 253000/330575 queries. users per second: 24438.5</pre>", 
                        "text/plain": "recommendations finished on 253000/330575 queries. users per second: 24438.5"
                    }, 
                    "metadata": {}
                }, 
                {
                    "output_type": "display_data", 
                    "data": {
                        "text/html": "<pre>recommendations finished on 254000/330575 queries. users per second: 24530.5</pre>", 
                        "text/plain": "recommendations finished on 254000/330575 queries. users per second: 24530.5"
                    }, 
                    "metadata": {}
                }, 
                {
                    "output_type": "display_data", 
                    "data": {
                        "text/html": "<pre>recommendations finished on 255000/330575 queries. users per second: 24534.8</pre>", 
                        "text/plain": "recommendations finished on 255000/330575 queries. users per second: 24534.8"
                    }, 
                    "metadata": {}
                }, 
                {
                    "output_type": "display_data", 
                    "data": {
                        "text/html": "<pre>recommendations finished on 256000/330575 queries. users per second: 24492.7</pre>", 
                        "text/plain": "recommendations finished on 256000/330575 queries. users per second: 24492.7"
                    }, 
                    "metadata": {}
                }, 
                {
                    "output_type": "display_data", 
                    "data": {
                        "text/html": "<pre>recommendations finished on 257000/330575 queries. users per second: 24537.6</pre>", 
                        "text/plain": "recommendations finished on 257000/330575 queries. users per second: 24537.6"
                    }, 
                    "metadata": {}
                }, 
                {
                    "output_type": "display_data", 
                    "data": {
                        "text/html": "<pre>recommendations finished on 258000/330575 queries. users per second: 24623.1</pre>", 
                        "text/plain": "recommendations finished on 258000/330575 queries. users per second: 24623.1"
                    }, 
                    "metadata": {}
                }, 
                {
                    "output_type": "display_data", 
                    "data": {
                        "text/html": "<pre>recommendations finished on 259000/330575 queries. users per second: 24634.2</pre>", 
                        "text/plain": "recommendations finished on 259000/330575 queries. users per second: 24634.2"
                    }, 
                    "metadata": {}
                }, 
                {
                    "output_type": "display_data", 
                    "data": {
                        "text/html": "<pre>recommendations finished on 260000/330575 queries. users per second: 24638.4</pre>", 
                        "text/plain": "recommendations finished on 260000/330575 queries. users per second: 24638.4"
                    }, 
                    "metadata": {}
                }, 
                {
                    "output_type": "display_data", 
                    "data": {
                        "text/html": "<pre>recommendations finished on 261000/330575 queries. users per second: 24680.2</pre>", 
                        "text/plain": "recommendations finished on 261000/330575 queries. users per second: 24680.2"
                    }, 
                    "metadata": {}
                }, 
                {
                    "output_type": "display_data", 
                    "data": {
                        "text/html": "<pre>recommendations finished on 262000/330575 queries. users per second: 24682.1</pre>", 
                        "text/plain": "recommendations finished on 262000/330575 queries. users per second: 24682.1"
                    }, 
                    "metadata": {}
                }, 
                {
                    "output_type": "display_data", 
                    "data": {
                        "text/html": "<pre>recommendations finished on 263000/330575 queries. users per second: 24683.3</pre>", 
                        "text/plain": "recommendations finished on 263000/330575 queries. users per second: 24683.3"
                    }, 
                    "metadata": {}
                }, 
                {
                    "output_type": "display_data", 
                    "data": {
                        "text/html": "<pre>recommendations finished on 264000/330575 queries. users per second: 24685.1</pre>", 
                        "text/plain": "recommendations finished on 264000/330575 queries. users per second: 24685.1"
                    }, 
                    "metadata": {}
                }, 
                {
                    "output_type": "display_data", 
                    "data": {
                        "text/html": "<pre>recommendations finished on 265000/330575 queries. users per second: 24692.1</pre>", 
                        "text/plain": "recommendations finished on 265000/330575 queries. users per second: 24692.1"
                    }, 
                    "metadata": {}
                }, 
                {
                    "output_type": "display_data", 
                    "data": {
                        "text/html": "<pre>recommendations finished on 266000/330575 queries. users per second: 24687</pre>", 
                        "text/plain": "recommendations finished on 266000/330575 queries. users per second: 24687"
                    }, 
                    "metadata": {}
                }, 
                {
                    "output_type": "display_data", 
                    "data": {
                        "text/html": "<pre>recommendations finished on 267000/330575 queries. users per second: 24596.7</pre>", 
                        "text/plain": "recommendations finished on 267000/330575 queries. users per second: 24596.7"
                    }, 
                    "metadata": {}
                }, 
                {
                    "output_type": "display_data", 
                    "data": {
                        "text/html": "<pre>recommendations finished on 268000/330575 queries. users per second: 24553.9</pre>", 
                        "text/plain": "recommendations finished on 268000/330575 queries. users per second: 24553.9"
                    }, 
                    "metadata": {}
                }, 
                {
                    "output_type": "display_data", 
                    "data": {
                        "text/html": "<pre>recommendations finished on 269000/330575 queries. users per second: 24516.4</pre>", 
                        "text/plain": "recommendations finished on 269000/330575 queries. users per second: 24516.4"
                    }, 
                    "metadata": {}
                }, 
                {
                    "output_type": "display_data", 
                    "data": {
                        "text/html": "<pre>recommendations finished on 270000/330575 queries. users per second: 24517</pre>", 
                        "text/plain": "recommendations finished on 270000/330575 queries. users per second: 24517"
                    }, 
                    "metadata": {}
                }, 
                {
                    "output_type": "display_data", 
                    "data": {
                        "text/html": "<pre>recommendations finished on 271000/330575 queries. users per second: 24558.7</pre>", 
                        "text/plain": "recommendations finished on 271000/330575 queries. users per second: 24558.7"
                    }, 
                    "metadata": {}
                }, 
                {
                    "output_type": "display_data", 
                    "data": {
                        "text/html": "<pre>recommendations finished on 272000/330575 queries. users per second: 24564.4</pre>", 
                        "text/plain": "recommendations finished on 272000/330575 queries. users per second: 24564.4"
                    }, 
                    "metadata": {}
                }, 
                {
                    "output_type": "display_data", 
                    "data": {
                        "text/html": "<pre>recommendations finished on 273000/330575 queries. users per second: 24610.1</pre>", 
                        "text/plain": "recommendations finished on 273000/330575 queries. users per second: 24610.1"
                    }, 
                    "metadata": {}
                }, 
                {
                    "output_type": "display_data", 
                    "data": {
                        "text/html": "<pre>recommendations finished on 274000/330575 queries. users per second: 24654.3</pre>", 
                        "text/plain": "recommendations finished on 274000/330575 queries. users per second: 24654.3"
                    }, 
                    "metadata": {}
                }, 
                {
                    "output_type": "display_data", 
                    "data": {
                        "text/html": "<pre>recommendations finished on 275000/330575 queries. users per second: 24657.4</pre>", 
                        "text/plain": "recommendations finished on 275000/330575 queries. users per second: 24657.4"
                    }, 
                    "metadata": {}
                }, 
                {
                    "output_type": "display_data", 
                    "data": {
                        "text/html": "<pre>recommendations finished on 276000/330575 queries. users per second: 24659.5</pre>", 
                        "text/plain": "recommendations finished on 276000/330575 queries. users per second: 24659.5"
                    }, 
                    "metadata": {}
                }, 
                {
                    "output_type": "display_data", 
                    "data": {
                        "text/html": "<pre>recommendations finished on 277000/330575 queries. users per second: 24661</pre>", 
                        "text/plain": "recommendations finished on 277000/330575 queries. users per second: 24661"
                    }, 
                    "metadata": {}
                }, 
                {
                    "output_type": "display_data", 
                    "data": {
                        "text/html": "<pre>recommendations finished on 278000/330575 queries. users per second: 24660.8</pre>", 
                        "text/plain": "recommendations finished on 278000/330575 queries. users per second: 24660.8"
                    }, 
                    "metadata": {}
                }, 
                {
                    "output_type": "display_data", 
                    "data": {
                        "text/html": "<pre>recommendations finished on 279000/330575 queries. users per second: 24696.5</pre>", 
                        "text/plain": "recommendations finished on 279000/330575 queries. users per second: 24696.5"
                    }, 
                    "metadata": {}
                }, 
                {
                    "output_type": "display_data", 
                    "data": {
                        "text/html": "<pre>recommendations finished on 280000/330575 queries. users per second: 24662.6</pre>", 
                        "text/plain": "recommendations finished on 280000/330575 queries. users per second: 24662.6"
                    }, 
                    "metadata": {}
                }, 
                {
                    "output_type": "display_data", 
                    "data": {
                        "text/html": "<pre>recommendations finished on 281000/330575 queries. users per second: 24661.1</pre>", 
                        "text/plain": "recommendations finished on 281000/330575 queries. users per second: 24661.1"
                    }, 
                    "metadata": {}
                }, 
                {
                    "output_type": "display_data", 
                    "data": {
                        "text/html": "<pre>recommendations finished on 282000/330575 queries. users per second: 24660.7</pre>", 
                        "text/plain": "recommendations finished on 282000/330575 queries. users per second: 24660.7"
                    }, 
                    "metadata": {}
                }, 
                {
                    "output_type": "display_data", 
                    "data": {
                        "text/html": "<pre>recommendations finished on 283000/330575 queries. users per second: 24625.1</pre>", 
                        "text/plain": "recommendations finished on 283000/330575 queries. users per second: 24625.1"
                    }, 
                    "metadata": {}
                }, 
                {
                    "output_type": "display_data", 
                    "data": {
                        "text/html": "<pre>recommendations finished on 284000/330575 queries. users per second: 24663.2</pre>", 
                        "text/plain": "recommendations finished on 284000/330575 queries. users per second: 24663.2"
                    }, 
                    "metadata": {}
                }, 
                {
                    "output_type": "display_data", 
                    "data": {
                        "text/html": "<pre>recommendations finished on 285000/330575 queries. users per second: 24627.2</pre>", 
                        "text/plain": "recommendations finished on 285000/330575 queries. users per second: 24627.2"
                    }, 
                    "metadata": {}
                }, 
                {
                    "output_type": "display_data", 
                    "data": {
                        "text/html": "<pre>recommendations finished on 286000/330575 queries. users per second: 24666.9</pre>", 
                        "text/plain": "recommendations finished on 286000/330575 queries. users per second: 24666.9"
                    }, 
                    "metadata": {}
                }, 
                {
                    "output_type": "display_data", 
                    "data": {
                        "text/html": "<pre>recommendations finished on 287000/330575 queries. users per second: 24670.1</pre>", 
                        "text/plain": "recommendations finished on 287000/330575 queries. users per second: 24670.1"
                    }, 
                    "metadata": {}
                }, 
                {
                    "output_type": "display_data", 
                    "data": {
                        "text/html": "<pre>recommendations finished on 288000/330575 queries. users per second: 24673.7</pre>", 
                        "text/plain": "recommendations finished on 288000/330575 queries. users per second: 24673.7"
                    }, 
                    "metadata": {}
                }, 
                {
                    "output_type": "display_data", 
                    "data": {
                        "text/html": "<pre>recommendations finished on 289000/330575 queries. users per second: 24711.4</pre>", 
                        "text/plain": "recommendations finished on 289000/330575 queries. users per second: 24711.4"
                    }, 
                    "metadata": {}
                }, 
                {
                    "output_type": "display_data", 
                    "data": {
                        "text/html": "<pre>recommendations finished on 290000/330575 queries. users per second: 24713.2</pre>", 
                        "text/plain": "recommendations finished on 290000/330575 queries. users per second: 24713.2"
                    }, 
                    "metadata": {}
                }, 
                {
                    "output_type": "display_data", 
                    "data": {
                        "text/html": "<pre>recommendations finished on 291000/330575 queries. users per second: 24753.9</pre>", 
                        "text/plain": "recommendations finished on 291000/330575 queries. users per second: 24753.9"
                    }, 
                    "metadata": {}
                }, 
                {
                    "output_type": "display_data", 
                    "data": {
                        "text/html": "<pre>recommendations finished on 292000/330575 queries. users per second: 24760.4</pre>", 
                        "text/plain": "recommendations finished on 292000/330575 queries. users per second: 24760.4"
                    }, 
                    "metadata": {}
                }, 
                {
                    "output_type": "display_data", 
                    "data": {
                        "text/html": "<pre>recommendations finished on 293000/330575 queries. users per second: 24799.5</pre>", 
                        "text/plain": "recommendations finished on 293000/330575 queries. users per second: 24799.5"
                    }, 
                    "metadata": {}
                }, 
                {
                    "output_type": "display_data", 
                    "data": {
                        "text/html": "<pre>recommendations finished on 294000/330575 queries. users per second: 24840.4</pre>", 
                        "text/plain": "recommendations finished on 294000/330575 queries. users per second: 24840.4"
                    }, 
                    "metadata": {}
                }, 
                {
                    "output_type": "display_data", 
                    "data": {
                        "text/html": "<pre>recommendations finished on 295000/330575 queries. users per second: 24806.5</pre>", 
                        "text/plain": "recommendations finished on 295000/330575 queries. users per second: 24806.5"
                    }, 
                    "metadata": {}
                }, 
                {
                    "output_type": "display_data", 
                    "data": {
                        "text/html": "<pre>recommendations finished on 296000/330575 queries. users per second: 24841.5</pre>", 
                        "text/plain": "recommendations finished on 296000/330575 queries. users per second: 24841.5"
                    }, 
                    "metadata": {}
                }, 
                {
                    "output_type": "display_data", 
                    "data": {
                        "text/html": "<pre>recommendations finished on 297000/330575 queries. users per second: 24875.5</pre>", 
                        "text/plain": "recommendations finished on 297000/330575 queries. users per second: 24875.5"
                    }, 
                    "metadata": {}
                }, 
                {
                    "output_type": "display_data", 
                    "data": {
                        "text/html": "<pre>recommendations finished on 298000/330575 queries. users per second: 24885.3</pre>", 
                        "text/plain": "recommendations finished on 298000/330575 queries. users per second: 24885.3"
                    }, 
                    "metadata": {}
                }, 
                {
                    "output_type": "display_data", 
                    "data": {
                        "text/html": "<pre>recommendations finished on 299000/330575 queries. users per second: 24849.9</pre>", 
                        "text/plain": "recommendations finished on 299000/330575 queries. users per second: 24849.9"
                    }, 
                    "metadata": {}
                }, 
                {
                    "output_type": "display_data", 
                    "data": {
                        "text/html": "<pre>recommendations finished on 300000/330575 queries. users per second: 24848.5</pre>", 
                        "text/plain": "recommendations finished on 300000/330575 queries. users per second: 24848.5"
                    }, 
                    "metadata": {}
                }, 
                {
                    "output_type": "display_data", 
                    "data": {
                        "text/html": "<pre>recommendations finished on 301000/330575 queries. users per second: 24887</pre>", 
                        "text/plain": "recommendations finished on 301000/330575 queries. users per second: 24887"
                    }, 
                    "metadata": {}
                }, 
                {
                    "output_type": "display_data", 
                    "data": {
                        "text/html": "<pre>recommendations finished on 302000/330575 queries. users per second: 24892.8</pre>", 
                        "text/plain": "recommendations finished on 302000/330575 queries. users per second: 24892.8"
                    }, 
                    "metadata": {}
                }, 
                {
                    "output_type": "display_data", 
                    "data": {
                        "text/html": "<pre>recommendations finished on 303000/330575 queries. users per second: 24962.3</pre>", 
                        "text/plain": "recommendations finished on 303000/330575 queries. users per second: 24962.3"
                    }, 
                    "metadata": {}
                }, 
                {
                    "output_type": "display_data", 
                    "data": {
                        "text/html": "<pre>recommendations finished on 304000/330575 queries. users per second: 24970.6</pre>", 
                        "text/plain": "recommendations finished on 304000/330575 queries. users per second: 24970.6"
                    }, 
                    "metadata": {}
                }, 
                {
                    "output_type": "display_data", 
                    "data": {
                        "text/html": "<pre>recommendations finished on 305000/330575 queries. users per second: 24973</pre>", 
                        "text/plain": "recommendations finished on 305000/330575 queries. users per second: 24973"
                    }, 
                    "metadata": {}
                }, 
                {
                    "output_type": "display_data", 
                    "data": {
                        "text/html": "<pre>recommendations finished on 306000/330575 queries. users per second: 25010.4</pre>", 
                        "text/plain": "recommendations finished on 306000/330575 queries. users per second: 25010.4"
                    }, 
                    "metadata": {}
                }, 
                {
                    "output_type": "display_data", 
                    "data": {
                        "text/html": "<pre>recommendations finished on 307000/330575 queries. users per second: 25015.3</pre>", 
                        "text/plain": "recommendations finished on 307000/330575 queries. users per second: 25015.3"
                    }, 
                    "metadata": {}
                }, 
                {
                    "output_type": "display_data", 
                    "data": {
                        "text/html": "<pre>recommendations finished on 308000/330575 queries. users per second: 25015.7</pre>", 
                        "text/plain": "recommendations finished on 308000/330575 queries. users per second: 25015.7"
                    }, 
                    "metadata": {}
                }, 
                {
                    "output_type": "display_data", 
                    "data": {
                        "text/html": "<pre>recommendations finished on 309000/330575 queries. users per second: 25055.3</pre>", 
                        "text/plain": "recommendations finished on 309000/330575 queries. users per second: 25055.3"
                    }, 
                    "metadata": {}
                }, 
                {
                    "output_type": "display_data", 
                    "data": {
                        "text/html": "<pre>recommendations finished on 310000/330575 queries. users per second: 25088.4</pre>", 
                        "text/plain": "recommendations finished on 310000/330575 queries. users per second: 25088.4"
                    }, 
                    "metadata": {}
                }, 
                {
                    "output_type": "display_data", 
                    "data": {
                        "text/html": "<pre>recommendations finished on 311000/330575 queries. users per second: 25092</pre>", 
                        "text/plain": "recommendations finished on 311000/330575 queries. users per second: 25092"
                    }, 
                    "metadata": {}
                }, 
                {
                    "output_type": "display_data", 
                    "data": {
                        "text/html": "<pre>recommendations finished on 312000/330575 queries. users per second: 25094.3</pre>", 
                        "text/plain": "recommendations finished on 312000/330575 queries. users per second: 25094.3"
                    }, 
                    "metadata": {}
                }, 
                {
                    "output_type": "display_data", 
                    "data": {
                        "text/html": "<pre>recommendations finished on 313000/330575 queries. users per second: 25129.3</pre>", 
                        "text/plain": "recommendations finished on 313000/330575 queries. users per second: 25129.3"
                    }, 
                    "metadata": {}
                }, 
                {
                    "output_type": "display_data", 
                    "data": {
                        "text/html": "<pre>recommendations finished on 314000/330575 queries. users per second: 25133.1</pre>", 
                        "text/plain": "recommendations finished on 314000/330575 queries. users per second: 25133.1"
                    }, 
                    "metadata": {}
                }, 
                {
                    "output_type": "display_data", 
                    "data": {
                        "text/html": "<pre>recommendations finished on 315000/330575 queries. users per second: 25160.8</pre>", 
                        "text/plain": "recommendations finished on 315000/330575 queries. users per second: 25160.8"
                    }, 
                    "metadata": {}
                }, 
                {
                    "output_type": "display_data", 
                    "data": {
                        "text/html": "<pre>recommendations finished on 316000/330575 queries. users per second: 25172</pre>", 
                        "text/plain": "recommendations finished on 316000/330575 queries. users per second: 25172"
                    }, 
                    "metadata": {}
                }, 
                {
                    "output_type": "display_data", 
                    "data": {
                        "text/html": "<pre>recommendations finished on 317000/330575 queries. users per second: 25170.7</pre>", 
                        "text/plain": "recommendations finished on 317000/330575 queries. users per second: 25170.7"
                    }, 
                    "metadata": {}
                }, 
                {
                    "output_type": "display_data", 
                    "data": {
                        "text/html": "<pre>recommendations finished on 318000/330575 queries. users per second: 25129.1</pre>", 
                        "text/plain": "recommendations finished on 318000/330575 queries. users per second: 25129.1"
                    }, 
                    "metadata": {}
                }, 
                {
                    "output_type": "display_data", 
                    "data": {
                        "text/html": "<pre>recommendations finished on 319000/330575 queries. users per second: 25131.6</pre>", 
                        "text/plain": "recommendations finished on 319000/330575 queries. users per second: 25131.6"
                    }, 
                    "metadata": {}
                }, 
                {
                    "output_type": "display_data", 
                    "data": {
                        "text/html": "<pre>recommendations finished on 320000/330575 queries. users per second: 25133.2</pre>", 
                        "text/plain": "recommendations finished on 320000/330575 queries. users per second: 25133.2"
                    }, 
                    "metadata": {}
                }, 
                {
                    "output_type": "display_data", 
                    "data": {
                        "text/html": "<pre>recommendations finished on 321000/330575 queries. users per second: 25131.7</pre>", 
                        "text/plain": "recommendations finished on 321000/330575 queries. users per second: 25131.7"
                    }, 
                    "metadata": {}
                }, 
                {
                    "output_type": "display_data", 
                    "data": {
                        "text/html": "<pre>recommendations finished on 322000/330575 queries. users per second: 25131.4</pre>", 
                        "text/plain": "recommendations finished on 322000/330575 queries. users per second: 25131.4"
                    }, 
                    "metadata": {}
                }, 
                {
                    "output_type": "display_data", 
                    "data": {
                        "text/html": "<pre>recommendations finished on 323000/330575 queries. users per second: 25167.5</pre>", 
                        "text/plain": "recommendations finished on 323000/330575 queries. users per second: 25167.5"
                    }, 
                    "metadata": {}
                }, 
                {
                    "output_type": "display_data", 
                    "data": {
                        "text/html": "<pre>recommendations finished on 324000/330575 queries. users per second: 25169.5</pre>", 
                        "text/plain": "recommendations finished on 324000/330575 queries. users per second: 25169.5"
                    }, 
                    "metadata": {}
                }, 
                {
                    "output_type": "display_data", 
                    "data": {
                        "text/html": "<pre>recommendations finished on 325000/330575 queries. users per second: 25205.3</pre>", 
                        "text/plain": "recommendations finished on 325000/330575 queries. users per second: 25205.3"
                    }, 
                    "metadata": {}
                }, 
                {
                    "output_type": "display_data", 
                    "data": {
                        "text/html": "<pre>recommendations finished on 326000/330575 queries. users per second: 25207.9</pre>", 
                        "text/plain": "recommendations finished on 326000/330575 queries. users per second: 25207.9"
                    }, 
                    "metadata": {}
                }, 
                {
                    "output_type": "display_data", 
                    "data": {
                        "text/html": "<pre>recommendations finished on 327000/330575 queries. users per second: 25242.3</pre>", 
                        "text/plain": "recommendations finished on 327000/330575 queries. users per second: 25242.3"
                    }, 
                    "metadata": {}
                }, 
                {
                    "output_type": "display_data", 
                    "data": {
                        "text/html": "<pre>recommendations finished on 328000/330575 queries. users per second: 25272.8</pre>", 
                        "text/plain": "recommendations finished on 328000/330575 queries. users per second: 25272.8"
                    }, 
                    "metadata": {}
                }, 
                {
                    "output_type": "display_data", 
                    "data": {
                        "text/html": "<pre>recommendations finished on 329000/330575 queries. users per second: 25281.7</pre>", 
                        "text/plain": "recommendations finished on 329000/330575 queries. users per second: 25281.7"
                    }, 
                    "metadata": {}
                }, 
                {
                    "output_type": "display_data", 
                    "data": {
                        "text/html": "<pre>recommendations finished on 330000/330575 queries. users per second: 25275.7</pre>", 
                        "text/plain": "recommendations finished on 330000/330575 queries. users per second: 25275.7"
                    }, 
                    "metadata": {}
                }, 
                {
                    "output_type": "stream", 
                    "name": "stdout", 
                    "text": "+------------+-----------+--------------------+------+\n| customerId | productId |       score        | rank |\n+------------+-----------+--------------------+------+\n|   27270    |   22423U  | 2.3028322440087146 |  1   |\n|   27270    |   20725N  | 2.0897097625329817 |  2   |\n|   27270    |   47566Y  | 2.055690072639225  |  3   |\n|   27270    |   21196B  |        2.0         |  4   |\n|   27270    |  81953BF  |        2.0         |  5   |\n|   27270    |   22720A  | 1.9102564102564104 |  6   |\n|   27270    |   21212D  | 1.8311345646437995 |  7   |\n|   27270    |   23442T  |        1.75        |  8   |\n|   27270    |   22960K  | 1.7155172413793103 |  9   |\n|   27270    |   47469B  | 1.7142857142857142 |  10  |\n|   27270    |   22423U  | 2.3028322440087146 |  1   |\n|   27270    |   20725N  | 2.0897097625329817 |  2   |\n|   27270    |   47566Y  | 2.055690072639225  |  3   |\n|   27270    |   21196B  |        2.0         |  4   |\n|   27270    |  81953BF  |        2.0         |  5   |\n|   27270    |   22720A  | 1.9102564102564104 |  6   |\n|   27270    |   21212D  | 1.8311345646437995 |  7   |\n|   27270    |   23442T  |        1.75        |  8   |\n|   27270    |   22960K  | 1.7155172413793103 |  9   |\n|   27270    |   47469B  | 1.7142857142857142 |  10  |\n|   27270    |   22423U  | 2.3028322440087146 |  1   |\n|   27270    |   20725N  | 2.0897097625329817 |  2   |\n|   27270    |   47566Y  | 2.055690072639225  |  3   |\n|   27270    |   21196B  |        2.0         |  4   |\n|   27270    |  81953BF  |        2.0         |  5   |\n|   27270    |   22720A  | 1.9102564102564104 |  6   |\n|   27270    |   21212D  | 1.8311345646437995 |  7   |\n|   27270    |   23442T  |        1.75        |  8   |\n|   27270    |   22960K  | 1.7155172413793103 |  9   |\n|   27270    |   47469B  | 1.7142857142857142 |  10  |\n+------------+-----------+--------------------+------+\n[3305750 rows x 4 columns]\n\n"
                }
            ], 
            "source": "# Get recommendations for a list of users to recommend (from customers file)\n# Printed below is head / top 30 rows for first 3 customers with 10 recommendations each\n\npopularity_recomm = popularity_model.recommend(users=users_to_recommend, k=n_rec)\npopularity_recomm.print_rows(n_display)"
        }, 
        {
            "source": "#### Define a `model` function for model selection", 
            "cell_type": "markdown", 
            "metadata": {}
        }, 
        {
            "execution_count": 34, 
            "cell_type": "code", 
            "metadata": {}, 
            "outputs": [], 
            "source": "# Since turicreate is very accessible library, we can define a model selection function as below\n\ndef model(train_data, name, user_id, item_id, target, users_to_recommend, n_rec, n_display):\n    if name == 'popularity':\n        model = tc.popularity_recommender.create(train_data, \n                                                    user_id=user_id, \n                                                    item_id=item_id, \n                                                    target=target)\n    elif name == 'cosine':\n        model = tc.item_similarity_recommender.create(train_data, \n                                                    user_id=user_id, \n                                                    item_id=item_id, \n                                                    target=target, \n                                                    similarity_type='cosine')\n    elif name == 'pearson':\n        model = tc.item_similarity_recommender.create(train_data, \n                                                    user_id=user_id, \n                                                    item_id=item_id, \n                                                    target=target, \n                                                    similarity_type='pearson')\n        \n    recom = model.recommend(users=users_to_recommend, k=n_rec)\n    recom.print_rows(n_display)\n    return model"
        }, 
        {
            "execution_count": 35, 
            "cell_type": "code", 
            "metadata": {}, 
            "outputs": [], 
            "source": "# variables to define field names\n# constant variables include:\nuser_id = 'customerId'\nitem_id = 'productId'\nusers_to_recommend = list(customers[user_id])\nn_rec = 10 # number of items to recommend\nn_display = 30 # to print the head / first few rows in a defined dataset"
        }, 
        {
            "source": "#### Using purchase dummy", 
            "cell_type": "markdown", 
            "metadata": {}
        }, 
        {
            "execution_count": 36, 
            "cell_type": "code", 
            "metadata": {}, 
            "outputs": [
                {
                    "output_type": "display_data", 
                    "data": {
                        "text/html": "<pre>Warning: Ignoring columns purchase_count;</pre>", 
                        "text/plain": "Warning: Ignoring columns purchase_count;"
                    }, 
                    "metadata": {}
                }, 
                {
                    "output_type": "display_data", 
                    "data": {
                        "text/html": "<pre>    To use these columns in scoring predictions, use a model that allows the use of additional features.</pre>", 
                        "text/plain": "    To use these columns in scoring predictions, use a model that allows the use of additional features."
                    }, 
                    "metadata": {}
                }, 
                {
                    "output_type": "display_data", 
                    "data": {
                        "text/html": "<pre>Preparing data set.</pre>", 
                        "text/plain": "Preparing data set."
                    }, 
                    "metadata": {}
                }, 
                {
                    "output_type": "display_data", 
                    "data": {
                        "text/html": "<pre>    Data has 216824 observations with 968 users and 3757 items.</pre>", 
                        "text/plain": "    Data has 216824 observations with 968 users and 3757 items."
                    }, 
                    "metadata": {}
                }, 
                {
                    "output_type": "display_data", 
                    "data": {
                        "text/html": "<pre>    Data prepared in: 0.823152s</pre>", 
                        "text/plain": "    Data prepared in: 0.823152s"
                    }, 
                    "metadata": {}
                }, 
                {
                    "output_type": "display_data", 
                    "data": {
                        "text/html": "<pre>216824 observations to process; with 3757 unique items.</pre>", 
                        "text/plain": "216824 observations to process; with 3757 unique items."
                    }, 
                    "metadata": {}
                }, 
                {
                    "output_type": "stream", 
                    "name": "stdout", 
                    "text": "+------------+-----------+-------+------+\n| customerId | productId | score | rank |\n+------------+-----------+-------+------+\n|   127269   |  90129AJ  |  1.0  |  1   |\n|   127269   |   21002B  |  1.0  |  2   |\n|   127269   |   21936G  |  1.0  |  3   |\n|   127269   |   22554P  |  1.0  |  4   |\n|   127269   |   22319Q  |  1.0  |  5   |\n|   127269   |   22470E  |  1.0  |  6   |\n|   127269   |   90174N  |  1.0  |  7   |\n|   127269   |   22666I  |  1.0  |  8   |\n|   127269   |   22413V  |  1.0  |  9   |\n|   127269   |   22294U  |  1.0  |  10  |\n|   227268   |  90129AJ  |  1.0  |  1   |\n|   227268   |   21002B  |  1.0  |  2   |\n|   227268   |   21936G  |  1.0  |  3   |\n|   227268   |   22554P  |  1.0  |  4   |\n|   227268   |   22319Q  |  1.0  |  5   |\n|   227268   |   22470E  |  1.0  |  6   |\n|   227268   |   90174N  |  1.0  |  7   |\n|   227268   |   22666I  |  1.0  |  8   |\n|   227268   |   22413V  |  1.0  |  9   |\n|   227268   |   22294U  |  1.0  |  10  |\n|   327267   |  90129AJ  |  1.0  |  1   |\n|   327267   |   21002B  |  1.0  |  2   |\n|   327267   |   21936G  |  1.0  |  3   |\n|   327267   |   22554P  |  1.0  |  4   |\n|   327267   |   22319Q  |  1.0  |  5   |\n|   327267   |   22470E  |  1.0  |  6   |\n|   327267   |   90174N  |  1.0  |  7   |\n|   327267   |   22666I  |  1.0  |  8   |\n|   327267   |   22413V  |  1.0  |  9   |\n|   327267   |   22294U  |  1.0  |  10  |\n+------------+-----------+-------+------+\n[6280 rows x 4 columns]\n\n"
                }
            ], 
            "source": "# these variables will change accordingly\nname = 'popularity'\ntarget = 'purchase_dummy'\npop_dummy = model(train_data_dummy, name, user_id, item_id, target, users_to_recommend, n_rec, n_display)"
        }, 
        {
            "source": "#### Using normalized purchase count", 
            "cell_type": "markdown", 
            "metadata": {}
        }, 
        {
            "execution_count": 37, 
            "cell_type": "code", 
            "metadata": {}, 
            "outputs": [
                {
                    "output_type": "display_data", 
                    "data": {
                        "text/html": "<pre>Preparing data set.</pre>", 
                        "text/plain": "Preparing data set."
                    }, 
                    "metadata": {}
                }, 
                {
                    "output_type": "display_data", 
                    "data": {
                        "text/html": "<pre>    Data has 205580 observations with 971 users and 2494 items.</pre>", 
                        "text/plain": "    Data has 205580 observations with 971 users and 2494 items."
                    }, 
                    "metadata": {}
                }, 
                {
                    "output_type": "display_data", 
                    "data": {
                        "text/html": "<pre>    Data prepared in: 0.672039s</pre>", 
                        "text/plain": "    Data prepared in: 0.672039s"
                    }, 
                    "metadata": {}
                }, 
                {
                    "output_type": "display_data", 
                    "data": {
                        "text/html": "<pre>205580 observations to process; with 2494 unique items.</pre>", 
                        "text/plain": "205580 observations to process; with 2494 unique items."
                    }, 
                    "metadata": {}
                }, 
                {
                    "output_type": "stream", 
                    "name": "stdout", 
                    "text": "+------------+-----------+--------------------+------+\n| customerId | productId |       score        | rank |\n+------------+-----------+--------------------+------+\n|   127269   |   85089Y  |        1.0         |  1   |\n|   127269   |  90065AP  |        0.5         |  2   |\n|   127269   |   85189T  |        0.5         |  3   |\n|   127269   |   84548X  |        0.5         |  4   |\n|   127269   |   21816Y  |        0.4         |  5   |\n|   127269   |  81950BS  |        0.4         |  6   |\n|   127269   |   21018J  | 0.3333333333333333 |  7   |\n|   127269   |  84800SH  | 0.3333333333333333 |  8   |\n|   127269   |   84358Q  | 0.3333333333333333 |  9   |\n|   127269   |  85129CV  | 0.3333333333333333 |  10  |\n|   227268   |   85089Y  |        1.0         |  1   |\n|   227268   |  90065AP  |        0.5         |  2   |\n|   227268   |   85189T  |        0.5         |  3   |\n|   227268   |   84548X  |        0.5         |  4   |\n|   227268   |   21816Y  |        0.4         |  5   |\n|   227268   |  81950BS  |        0.4         |  6   |\n|   227268   |   21018J  | 0.3333333333333333 |  7   |\n|   227268   |  84800SH  | 0.3333333333333333 |  8   |\n|   227268   |   84358Q  | 0.3333333333333333 |  9   |\n|   227268   |  85129CV  | 0.3333333333333333 |  10  |\n|   327267   |   85089Y  |        1.0         |  1   |\n|   327267   |  90065AP  |        0.5         |  2   |\n|   327267   |   85189T  |        0.5         |  3   |\n|   327267   |   84548X  |        0.5         |  4   |\n|   327267   |   21816Y  |        0.4         |  5   |\n|   327267   |  81950BS  |        0.4         |  6   |\n|   327267   |   21018J  | 0.3333333333333333 |  7   |\n|   327267   |  84800SH  | 0.3333333333333333 |  8   |\n|   327267   |   84358Q  | 0.3333333333333333 |  9   |\n|   327267   |  85129CV  | 0.3333333333333333 |  10  |\n+------------+-----------+--------------------+------+\n[6280 rows x 4 columns]\n\n"
                }
            ], 
            "source": "name = 'popularity'\ntarget = 'scaled_purchase_freq'\npop_norm = model(train_data_norm, name, user_id, item_id, target, users_to_recommend, n_rec, n_display)"
        }, 
        {
            "source": "#### Notes\n* Once we created the model, we predicted the recommendation items using scores by popularity. As you can tell for each model results above, the rows show the first 30 records from 1000 users with 10 recommendations. These 30 records include 3 users and their recommended items, along with score and descending ranks. \n* In the result, although different models have different recommendation list, each user is recommended the same list of 10 items. This is because popularity is calculated by taking the most popular items across all users.\n* If a grouping example below, products 132, 248, 37, and 34 are the most popular (best-selling) across customers. Using their purchase counts divided by the number of customers, we see that these products are at least bought 3 times on average in the training set of transactions (same as the first popularity measure on `purchase_count` variable)", 
            "cell_type": "markdown", 
            "metadata": {}
        }, 
        {
            "execution_count": 38, 
            "cell_type": "code", 
            "metadata": {}, 
            "outputs": [
                {
                    "execution_count": 38, 
                    "metadata": {}, 
                    "data": {
                        "text/plain": "productId\n85123AY    2.375000\n22423U     2.302832\n85099BJ    2.295154\n20725N     2.089710\n47566Y     2.055690\n21196B     2.000000\n81953BF    2.000000\n22720A     1.910256\n21212D     1.831135\n22197J     1.827930\n84879M     1.805195\n23298Q     1.793510\n22383K     1.789894\n22386V     1.752161\n23442T     1.750000\n20727V     1.716667\n22960K     1.715517\n47469B     1.714286\n22469S     1.712766\n23203B     1.710227\nName: purchase_count, dtype: float64"
                    }, 
                    "output_type": "execute_result"
                }
            ], 
            "source": "train.groupby(by=item_id)['purchase_count'].mean().sort_values(ascending=False).head(20)"
        }, 
        {
            "source": "## 6. Collaborative Filtering Model\n\n* In collaborative filtering, we would recommend items based on how similar users purchase items. For instance, if customer 1 and customer 2 bought similar items, e.g. 1 bought X, Y, Z and 2 bought X, Y, we would recommend an item Z to customer 2.\n\n* To define similarity across users, we use the following steps:\n    1. Create a user-item matrix, where index values represent unique customer IDs and column values represent unique product IDs\n    \n    2. Create an item-to-item similarity matrix. The idea is to calculate how similar a product is to another product. There are a number of ways of calculating this. In steps 6.1 and 6.2, we use cosine and pearson similarity measure, respectively.  \n    \n        * To calculate similarity between products X and Y, look at all customers who have rated both these items. For example, both X and Y have been rated by customers 1 and 2. \n        * We then create two item-vectors, v1 for item X and v2 for item Y, in the user-space of (1, 2) and then find the `cosine` or `pearson` angle/distance between these vectors. A zero angle or overlapping vectors with cosine value of 1 means total similarity (or per user, across all items, there is same rating) and an angle of 90 degree would mean cosine of 0 or no similarity.\n        \n    3. For each customer, we then predict his likelihood to buy a product (or his purchase counts) for products that he had not bought. \n    \n        * For our example, we will calculate rating for user 2 in the case of item Z (target item). To calculate this we weigh the just-calculated similarity-measure between the target item and other items that customer has already bought. The weighing factor is the purchase counts given by the user to items already bought by him. \n        * We then scale this weighted sum with the sum of similarity-measures so that the calculated rating remains within a predefined limits. Thus, the predicted rating for item Z for user 2 would be calculated using similarity measures.\n\n* While I wrote python scripts for all the process including finding similarity using python scripts (which can be found in `scripts` folder, we can use `turicreate` library for now to capture different measures like using `cosine` and `pearson` distance, and evaluate the best model.", 
            "cell_type": "markdown", 
            "metadata": {}
        }, 
        {
            "source": "### 6.1. `Cosine` similarity\n* Similarity is the cosine of the angle between the 2 vectors of the item vectors of A and B\n* It is defined by the following formula\n![](https://encrypted-tbn0.gstatic.com/images?q=tbn:ANd9GcTnRHSAx1c084UXF2wIHYwaHJLmq2qKtNk_YIv3RjHUO00xwlkt)\n* Closer the vectors, smaller will be the angle and larger the cosine", 
            "cell_type": "markdown", 
            "metadata": {}
        }, 
        {
            "source": "#### Using purchase count", 
            "cell_type": "markdown", 
            "metadata": {}
        }, 
        {
            "execution_count": 39, 
            "cell_type": "code", 
            "metadata": {}, 
            "outputs": [
                {
                    "output_type": "display_data", 
                    "data": {
                        "text/html": "<pre>Preparing data set.</pre>", 
                        "text/plain": "Preparing data set."
                    }, 
                    "metadata": {}
                }, 
                {
                    "output_type": "display_data", 
                    "data": {
                        "text/html": "<pre>    Data has 216824 observations with 971 users and 3766 items.</pre>", 
                        "text/plain": "    Data has 216824 observations with 971 users and 3766 items."
                    }, 
                    "metadata": {}
                }, 
                {
                    "output_type": "display_data", 
                    "data": {
                        "text/html": "<pre>    Data prepared in: 0.522481s</pre>", 
                        "text/plain": "    Data prepared in: 0.522481s"
                    }, 
                    "metadata": {}
                }, 
                {
                    "output_type": "display_data", 
                    "data": {
                        "text/html": "<pre>Training model from provided data.</pre>", 
                        "text/plain": "Training model from provided data."
                    }, 
                    "metadata": {}
                }, 
                {
                    "output_type": "display_data", 
                    "data": {
                        "text/html": "<pre>Gathering per-item and per-user statistics.</pre>", 
                        "text/plain": "Gathering per-item and per-user statistics."
                    }, 
                    "metadata": {}
                }, 
                {
                    "output_type": "display_data", 
                    "data": {
                        "text/html": "<pre>+--------------------------------+------------+</pre>", 
                        "text/plain": "+--------------------------------+------------+"
                    }, 
                    "metadata": {}
                }, 
                {
                    "output_type": "display_data", 
                    "data": {
                        "text/html": "<pre>| Elapsed Time (Item Statistics) | % Complete |</pre>", 
                        "text/plain": "| Elapsed Time (Item Statistics) | % Complete |"
                    }, 
                    "metadata": {}
                }, 
                {
                    "output_type": "display_data", 
                    "data": {
                        "text/html": "<pre>+--------------------------------+------------+</pre>", 
                        "text/plain": "+--------------------------------+------------+"
                    }, 
                    "metadata": {}
                }, 
                {
                    "output_type": "display_data", 
                    "data": {
                        "text/html": "<pre>| 696.022ms                      | 100        |</pre>", 
                        "text/plain": "| 696.022ms                      | 100        |"
                    }, 
                    "metadata": {}
                }, 
                {
                    "output_type": "display_data", 
                    "data": {
                        "text/html": "<pre>+--------------------------------+------------+</pre>", 
                        "text/plain": "+--------------------------------+------------+"
                    }, 
                    "metadata": {}
                }, 
                {
                    "output_type": "display_data", 
                    "data": {
                        "text/html": "<pre>Setting up lookup tables.</pre>", 
                        "text/plain": "Setting up lookup tables."
                    }, 
                    "metadata": {}
                }, 
                {
                    "output_type": "display_data", 
                    "data": {
                        "text/html": "<pre>Processing data in one pass using dense lookup tables.</pre>", 
                        "text/plain": "Processing data in one pass using dense lookup tables."
                    }, 
                    "metadata": {}
                }, 
                {
                    "output_type": "display_data", 
                    "data": {
                        "text/html": "<pre>+-------------------------------------+------------------+-----------------+</pre>", 
                        "text/plain": "+-------------------------------------+------------------+-----------------+"
                    }, 
                    "metadata": {}
                }, 
                {
                    "output_type": "display_data", 
                    "data": {
                        "text/html": "<pre>| Elapsed Time (Constructing Lookups) | Total % Complete | Items Processed |</pre>", 
                        "text/plain": "| Elapsed Time (Constructing Lookups) | Total % Complete | Items Processed |"
                    }, 
                    "metadata": {}
                }, 
                {
                    "output_type": "display_data", 
                    "data": {
                        "text/html": "<pre>+-------------------------------------+------------------+-----------------+</pre>", 
                        "text/plain": "+-------------------------------------+------------------+-----------------+"
                    }, 
                    "metadata": {}
                }, 
                {
                    "output_type": "display_data", 
                    "data": {
                        "text/html": "<pre>| 746.96ms                            | 0                | 4               |</pre>", 
                        "text/plain": "| 746.96ms                            | 0                | 4               |"
                    }, 
                    "metadata": {}
                }, 
                {
                    "output_type": "display_data", 
                    "data": {
                        "text/html": "<pre>| 2.65s                               | 100              | 3766            |</pre>", 
                        "text/plain": "| 2.65s                               | 100              | 3766            |"
                    }, 
                    "metadata": {}
                }, 
                {
                    "output_type": "display_data", 
                    "data": {
                        "text/html": "<pre>+-------------------------------------+------------------+-----------------+</pre>", 
                        "text/plain": "+-------------------------------------+------------------+-----------------+"
                    }, 
                    "metadata": {}
                }, 
                {
                    "output_type": "display_data", 
                    "data": {
                        "text/html": "<pre>Finalizing lookup tables.</pre>", 
                        "text/plain": "Finalizing lookup tables."
                    }, 
                    "metadata": {}
                }, 
                {
                    "output_type": "display_data", 
                    "data": {
                        "text/html": "<pre>Generating candidate set for working with new users.</pre>", 
                        "text/plain": "Generating candidate set for working with new users."
                    }, 
                    "metadata": {}
                }, 
                {
                    "output_type": "display_data", 
                    "data": {
                        "text/html": "<pre>Finished training in 3.89466s</pre>", 
                        "text/plain": "Finished training in 3.89466s"
                    }, 
                    "metadata": {}
                }, 
                {
                    "output_type": "stream", 
                    "name": "stdout", 
                    "text": "+------------+-----------+---------------------+------+\n| customerId | productId |        score        | rank |\n+------------+-----------+---------------------+------+\n|   127269   |   22697A  |  0.2666719377040863 |  1   |\n|   127269   |  85099BJ  |  0.2614979660511017 |  2   |\n|   127269   |   22423U  |  0.2530737316608429 |  3   |\n|   127269   |   22457C  |  0.2528485453128815 |  4   |\n|   127269   |   20725N  |  0.2515132999420166 |  5   |\n|   127269   |  85123AY  |  0.2514491057395935 |  6   |\n|   127269   |   22197J  | 0.25118351221084595 |  7   |\n|   127269   |   47566Y  | 0.24870201587677002 |  8   |\n|   127269   |   21212D  | 0.24528229594230652 |  9   |\n|   127269   |   22993E  | 0.24370922207832335 |  10  |\n|   227268   |   22697A  |  0.2666719377040863 |  1   |\n|   227268   |  85099BJ  |  0.2614979660511017 |  2   |\n|   227268   |   22423U  |  0.2530737316608429 |  3   |\n|   227268   |   22457C  |  0.2528485453128815 |  4   |\n|   227268   |   20725N  |  0.2515132999420166 |  5   |\n|   227268   |  85123AY  |  0.2514491057395935 |  6   |\n|   227268   |   22197J  | 0.25118351221084595 |  7   |\n|   227268   |   47566Y  | 0.24870201587677002 |  8   |\n|   227268   |   21212D  | 0.24528229594230652 |  9   |\n|   227268   |   22993E  | 0.24370922207832335 |  10  |\n|   327267   |   22697A  |  0.2666719377040863 |  1   |\n|   327267   |  85099BJ  |  0.2614979660511017 |  2   |\n|   327267   |   22423U  |  0.2530737316608429 |  3   |\n|   327267   |   22457C  |  0.2528485453128815 |  4   |\n|   327267   |   20725N  |  0.2515132999420166 |  5   |\n|   327267   |  85123AY  |  0.2514491057395935 |  6   |\n|   327267   |   22197J  | 0.25118351221084595 |  7   |\n|   327267   |   47566Y  | 0.24870201587677002 |  8   |\n|   327267   |   21212D  | 0.24528229594230652 |  9   |\n|   327267   |   22993E  | 0.24370922207832335 |  10  |\n+------------+-----------+---------------------+------+\n[6280 rows x 4 columns]\n\n"
                }
            ], 
            "source": "# these variables will change accordingly\nname = 'cosine'\ntarget = 'purchase_count'\ncos = model(train_data, name, user_id, item_id, target, users_to_recommend, n_rec, n_display)"
        }, 
        {
            "source": "#### Using purchase dummy", 
            "cell_type": "markdown", 
            "metadata": {}
        }, 
        {
            "execution_count": 40, 
            "cell_type": "code", 
            "metadata": {}, 
            "outputs": [
                {
                    "output_type": "display_data", 
                    "data": {
                        "text/html": "<pre>Warning: Ignoring columns purchase_count;</pre>", 
                        "text/plain": "Warning: Ignoring columns purchase_count;"
                    }, 
                    "metadata": {}
                }, 
                {
                    "output_type": "display_data", 
                    "data": {
                        "text/html": "<pre>    To use these columns in scoring predictions, use a model that allows the use of additional features.</pre>", 
                        "text/plain": "    To use these columns in scoring predictions, use a model that allows the use of additional features."
                    }, 
                    "metadata": {}
                }, 
                {
                    "output_type": "display_data", 
                    "data": {
                        "text/html": "<pre>Preparing data set.</pre>", 
                        "text/plain": "Preparing data set."
                    }, 
                    "metadata": {}
                }, 
                {
                    "output_type": "display_data", 
                    "data": {
                        "text/html": "<pre>    Data has 216824 observations with 968 users and 3757 items.</pre>", 
                        "text/plain": "    Data has 216824 observations with 968 users and 3757 items."
                    }, 
                    "metadata": {}
                }, 
                {
                    "output_type": "display_data", 
                    "data": {
                        "text/html": "<pre>    Data prepared in: 0.627002s</pre>", 
                        "text/plain": "    Data prepared in: 0.627002s"
                    }, 
                    "metadata": {}
                }, 
                {
                    "output_type": "display_data", 
                    "data": {
                        "text/html": "<pre>Training model from provided data.</pre>", 
                        "text/plain": "Training model from provided data."
                    }, 
                    "metadata": {}
                }, 
                {
                    "output_type": "display_data", 
                    "data": {
                        "text/html": "<pre>Gathering per-item and per-user statistics.</pre>", 
                        "text/plain": "Gathering per-item and per-user statistics."
                    }, 
                    "metadata": {}
                }, 
                {
                    "output_type": "display_data", 
                    "data": {
                        "text/html": "<pre>+--------------------------------+------------+</pre>", 
                        "text/plain": "+--------------------------------+------------+"
                    }, 
                    "metadata": {}
                }, 
                {
                    "output_type": "display_data", 
                    "data": {
                        "text/html": "<pre>| Elapsed Time (Item Statistics) | % Complete |</pre>", 
                        "text/plain": "| Elapsed Time (Item Statistics) | % Complete |"
                    }, 
                    "metadata": {}
                }, 
                {
                    "output_type": "display_data", 
                    "data": {
                        "text/html": "<pre>+--------------------------------+------------+</pre>", 
                        "text/plain": "+--------------------------------+------------+"
                    }, 
                    "metadata": {}
                }, 
                {
                    "output_type": "display_data", 
                    "data": {
                        "text/html": "<pre>| 473.76ms                       | 100        |</pre>", 
                        "text/plain": "| 473.76ms                       | 100        |"
                    }, 
                    "metadata": {}
                }, 
                {
                    "output_type": "display_data", 
                    "data": {
                        "text/html": "<pre>+--------------------------------+------------+</pre>", 
                        "text/plain": "+--------------------------------+------------+"
                    }, 
                    "metadata": {}
                }, 
                {
                    "output_type": "display_data", 
                    "data": {
                        "text/html": "<pre>Setting up lookup tables.</pre>", 
                        "text/plain": "Setting up lookup tables."
                    }, 
                    "metadata": {}
                }, 
                {
                    "output_type": "display_data", 
                    "data": {
                        "text/html": "<pre>Processing data in one pass using dense lookup tables.</pre>", 
                        "text/plain": "Processing data in one pass using dense lookup tables."
                    }, 
                    "metadata": {}
                }, 
                {
                    "output_type": "display_data", 
                    "data": {
                        "text/html": "<pre>+-------------------------------------+------------------+-----------------+</pre>", 
                        "text/plain": "+-------------------------------------+------------------+-----------------+"
                    }, 
                    "metadata": {}
                }, 
                {
                    "output_type": "display_data", 
                    "data": {
                        "text/html": "<pre>| Elapsed Time (Constructing Lookups) | Total % Complete | Items Processed |</pre>", 
                        "text/plain": "| Elapsed Time (Constructing Lookups) | Total % Complete | Items Processed |"
                    }, 
                    "metadata": {}
                }, 
                {
                    "output_type": "display_data", 
                    "data": {
                        "text/html": "<pre>+-------------------------------------+------------------+-----------------+</pre>", 
                        "text/plain": "+-------------------------------------+------------------+-----------------+"
                    }, 
                    "metadata": {}
                }, 
                {
                    "output_type": "display_data", 
                    "data": {
                        "text/html": "<pre>| 512.254ms                           | 0                | 4               |</pre>", 
                        "text/plain": "| 512.254ms                           | 0                | 4               |"
                    }, 
                    "metadata": {}
                }, 
                {
                    "output_type": "display_data", 
                    "data": {
                        "text/html": "<pre>| 2.83s                               | 100              | 3757            |</pre>", 
                        "text/plain": "| 2.83s                               | 100              | 3757            |"
                    }, 
                    "metadata": {}
                }, 
                {
                    "output_type": "display_data", 
                    "data": {
                        "text/html": "<pre>+-------------------------------------+------------------+-----------------+</pre>", 
                        "text/plain": "+-------------------------------------+------------------+-----------------+"
                    }, 
                    "metadata": {}
                }, 
                {
                    "output_type": "display_data", 
                    "data": {
                        "text/html": "<pre>Finalizing lookup tables.</pre>", 
                        "text/plain": "Finalizing lookup tables."
                    }, 
                    "metadata": {}
                }, 
                {
                    "output_type": "display_data", 
                    "data": {
                        "text/html": "<pre>Generating candidate set for working with new users.</pre>", 
                        "text/plain": "Generating candidate set for working with new users."
                    }, 
                    "metadata": {}
                }, 
                {
                    "output_type": "display_data", 
                    "data": {
                        "text/html": "<pre>Finished training in 3.09342s</pre>", 
                        "text/plain": "Finished training in 3.09342s"
                    }, 
                    "metadata": {}
                }, 
                {
                    "output_type": "stream", 
                    "name": "stdout", 
                    "text": "+------------+-----------+-------+------+\n| customerId | productId | score | rank |\n+------------+-----------+-------+------+\n|   127269   |  90129AJ  |  0.0  |  1   |\n|   127269   |   21002B  |  0.0  |  2   |\n|   127269   |   21936G  |  0.0  |  3   |\n|   127269   |   22554P  |  0.0  |  4   |\n|   127269   |   22319Q  |  0.0  |  5   |\n|   127269   |   22470E  |  0.0  |  6   |\n|   127269   |   90174N  |  0.0  |  7   |\n|   127269   |   22666I  |  0.0  |  8   |\n|   127269   |   22413V  |  0.0  |  9   |\n|   127269   |   22294U  |  0.0  |  10  |\n|   227268   |  90129AJ  |  0.0  |  1   |\n|   227268   |   21002B  |  0.0  |  2   |\n|   227268   |   21936G  |  0.0  |  3   |\n|   227268   |   22554P  |  0.0  |  4   |\n|   227268   |   22319Q  |  0.0  |  5   |\n|   227268   |   22470E  |  0.0  |  6   |\n|   227268   |   90174N  |  0.0  |  7   |\n|   227268   |   22666I  |  0.0  |  8   |\n|   227268   |   22413V  |  0.0  |  9   |\n|   227268   |   22294U  |  0.0  |  10  |\n|   327267   |  90129AJ  |  0.0  |  1   |\n|   327267   |   21002B  |  0.0  |  2   |\n|   327267   |   21936G  |  0.0  |  3   |\n|   327267   |   22554P  |  0.0  |  4   |\n|   327267   |   22319Q  |  0.0  |  5   |\n|   327267   |   22470E  |  0.0  |  6   |\n|   327267   |   90174N  |  0.0  |  7   |\n|   327267   |   22666I  |  0.0  |  8   |\n|   327267   |   22413V  |  0.0  |  9   |\n|   327267   |   22294U  |  0.0  |  10  |\n+------------+-----------+-------+------+\n[6280 rows x 4 columns]\n\n"
                }
            ], 
            "source": "# these variables will change accordingly\nname = 'cosine'\ntarget = 'purchase_dummy'\ncos_dummy = model(train_data_dummy, name, user_id, item_id, target, users_to_recommend, n_rec, n_display)"
        }, 
        {
            "source": "#### Using normalized purchase count", 
            "cell_type": "markdown", 
            "metadata": {}
        }, 
        {
            "execution_count": 41, 
            "cell_type": "code", 
            "metadata": {}, 
            "outputs": [
                {
                    "output_type": "display_data", 
                    "data": {
                        "text/html": "<pre>Preparing data set.</pre>", 
                        "text/plain": "Preparing data set."
                    }, 
                    "metadata": {}
                }, 
                {
                    "output_type": "display_data", 
                    "data": {
                        "text/html": "<pre>    Data has 205580 observations with 971 users and 2494 items.</pre>", 
                        "text/plain": "    Data has 205580 observations with 971 users and 2494 items."
                    }, 
                    "metadata": {}
                }, 
                {
                    "output_type": "display_data", 
                    "data": {
                        "text/html": "<pre>    Data prepared in: 0.65724s</pre>", 
                        "text/plain": "    Data prepared in: 0.65724s"
                    }, 
                    "metadata": {}
                }, 
                {
                    "output_type": "display_data", 
                    "data": {
                        "text/html": "<pre>Training model from provided data.</pre>", 
                        "text/plain": "Training model from provided data."
                    }, 
                    "metadata": {}
                }, 
                {
                    "output_type": "display_data", 
                    "data": {
                        "text/html": "<pre>Gathering per-item and per-user statistics.</pre>", 
                        "text/plain": "Gathering per-item and per-user statistics."
                    }, 
                    "metadata": {}
                }, 
                {
                    "output_type": "display_data", 
                    "data": {
                        "text/html": "<pre>+--------------------------------+------------+</pre>", 
                        "text/plain": "+--------------------------------+------------+"
                    }, 
                    "metadata": {}
                }, 
                {
                    "output_type": "display_data", 
                    "data": {
                        "text/html": "<pre>| Elapsed Time (Item Statistics) | % Complete |</pre>", 
                        "text/plain": "| Elapsed Time (Item Statistics) | % Complete |"
                    }, 
                    "metadata": {}
                }, 
                {
                    "output_type": "display_data", 
                    "data": {
                        "text/html": "<pre>+--------------------------------+------------+</pre>", 
                        "text/plain": "+--------------------------------+------------+"
                    }, 
                    "metadata": {}
                }, 
                {
                    "output_type": "display_data", 
                    "data": {
                        "text/html": "<pre>| 561.858ms                      | 100        |</pre>", 
                        "text/plain": "| 561.858ms                      | 100        |"
                    }, 
                    "metadata": {}
                }, 
                {
                    "output_type": "display_data", 
                    "data": {
                        "text/html": "<pre>+--------------------------------+------------+</pre>", 
                        "text/plain": "+--------------------------------+------------+"
                    }, 
                    "metadata": {}
                }, 
                {
                    "output_type": "display_data", 
                    "data": {
                        "text/html": "<pre>Setting up lookup tables.</pre>", 
                        "text/plain": "Setting up lookup tables."
                    }, 
                    "metadata": {}
                }, 
                {
                    "output_type": "display_data", 
                    "data": {
                        "text/html": "<pre>Processing data in one pass using dense lookup tables.</pre>", 
                        "text/plain": "Processing data in one pass using dense lookup tables."
                    }, 
                    "metadata": {}
                }, 
                {
                    "output_type": "display_data", 
                    "data": {
                        "text/html": "<pre>+-------------------------------------+------------------+-----------------+</pre>", 
                        "text/plain": "+-------------------------------------+------------------+-----------------+"
                    }, 
                    "metadata": {}
                }, 
                {
                    "output_type": "display_data", 
                    "data": {
                        "text/html": "<pre>| Elapsed Time (Constructing Lookups) | Total % Complete | Items Processed |</pre>", 
                        "text/plain": "| Elapsed Time (Constructing Lookups) | Total % Complete | Items Processed |"
                    }, 
                    "metadata": {}
                }, 
                {
                    "output_type": "display_data", 
                    "data": {
                        "text/html": "<pre>+-------------------------------------+------------------+-----------------+</pre>", 
                        "text/plain": "+-------------------------------------+------------------+-----------------+"
                    }, 
                    "metadata": {}
                }, 
                {
                    "output_type": "display_data", 
                    "data": {
                        "text/html": "<pre>| 590.215ms                           | 0                | 0               |</pre>", 
                        "text/plain": "| 590.215ms                           | 0                | 0               |"
                    }, 
                    "metadata": {}
                }, 
                {
                    "output_type": "display_data", 
                    "data": {
                        "text/html": "<pre>| 1.87s                               | 100              | 2494            |</pre>", 
                        "text/plain": "| 1.87s                               | 100              | 2494            |"
                    }, 
                    "metadata": {}
                }, 
                {
                    "output_type": "display_data", 
                    "data": {
                        "text/html": "<pre>+-------------------------------------+------------------+-----------------+</pre>", 
                        "text/plain": "+-------------------------------------+------------------+-----------------+"
                    }, 
                    "metadata": {}
                }, 
                {
                    "output_type": "display_data", 
                    "data": {
                        "text/html": "<pre>Finalizing lookup tables.</pre>", 
                        "text/plain": "Finalizing lookup tables."
                    }, 
                    "metadata": {}
                }, 
                {
                    "output_type": "display_data", 
                    "data": {
                        "text/html": "<pre>Generating candidate set for working with new users.</pre>", 
                        "text/plain": "Generating candidate set for working with new users."
                    }, 
                    "metadata": {}
                }, 
                {
                    "output_type": "display_data", 
                    "data": {
                        "text/html": "<pre>Finished training in 2.0984s</pre>", 
                        "text/plain": "Finished training in 2.0984s"
                    }, 
                    "metadata": {}
                }, 
                {
                    "output_type": "stream", 
                    "name": "stdout", 
                    "text": "+------------+-----------+----------------------+------+\n| customerId | productId |        score         | rank |\n+------------+-----------+----------------------+------+\n|   127269   |  85099BJ  | 0.050750924348831175 |  1   |\n|   127269   |  85123AY  | 0.04938005089759827  |  2   |\n|   127269   |   20725N  | 0.048133057355880735 |  3   |\n|   127269   |   22423U  |  0.0472015392780304  |  4   |\n|   127269   |   22383K  | 0.04320173144340515  |  5   |\n|   127269   |   47566Y  | 0.041882468461990355 |  6   |\n|   127269   |   22384W  | 0.041559535264968875 |  7   |\n|   127269   |   22666I  | 0.04081364035606384  |  8   |\n|   127269   |   22457C  | 0.03898935437202453  |  9   |\n|   127269   |   22720A  | 0.03837816834449768  |  10  |\n|   227268   |  85099BJ  | 0.050750924348831175 |  1   |\n|   227268   |  85123AY  | 0.04938005089759827  |  2   |\n|   227268   |   20725N  | 0.048133057355880735 |  3   |\n|   227268   |   22423U  |  0.0472015392780304  |  4   |\n|   227268   |   22383K  | 0.04320173144340515  |  5   |\n|   227268   |   47566Y  | 0.041882468461990355 |  6   |\n|   227268   |   22384W  | 0.041559535264968875 |  7   |\n|   227268   |   22666I  | 0.04081364035606384  |  8   |\n|   227268   |   22457C  | 0.03898935437202453  |  9   |\n|   227268   |   22720A  | 0.03837816834449768  |  10  |\n|   327267   |  85099BJ  | 0.050750924348831175 |  1   |\n|   327267   |  85123AY  | 0.04938005089759827  |  2   |\n|   327267   |   20725N  | 0.048133057355880735 |  3   |\n|   327267   |   22423U  |  0.0472015392780304  |  4   |\n|   327267   |   22383K  | 0.04320173144340515  |  5   |\n|   327267   |   47566Y  | 0.041882468461990355 |  6   |\n|   327267   |   22384W  | 0.041559535264968875 |  7   |\n|   327267   |   22666I  | 0.04081364035606384  |  8   |\n|   327267   |   22457C  | 0.03898935437202453  |  9   |\n|   327267   |   22720A  | 0.03837816834449768  |  10  |\n+------------+-----------+----------------------+------+\n[6280 rows x 4 columns]\n\n"
                }
            ], 
            "source": "name = 'cosine'\ntarget = 'scaled_purchase_freq'\ncos_norm = model(train_data_norm, name, user_id, item_id, target, users_to_recommend, n_rec, n_display)"
        }, 
        {
            "source": "### 6.2. `Pearson` similarity\n* Similarity is the pearson coefficient between the two vectors.\n* It is defined by the following formula\n![](http://critical-numbers.group.shef.ac.uk/glossary/images/correlationKT1.png)", 
            "cell_type": "markdown", 
            "metadata": {}
        }, 
        {
            "source": "#### Using purchase count", 
            "cell_type": "markdown", 
            "metadata": {}
        }, 
        {
            "execution_count": 36, 
            "cell_type": "code", 
            "metadata": {}, 
            "outputs": [
                {
                    "output_type": "display_data", 
                    "data": {
                        "text/html": "<pre>Preparing data set.</pre>", 
                        "text/plain": "Preparing data set."
                    }, 
                    "metadata": {}
                }, 
                {
                    "output_type": "display_data", 
                    "data": {
                        "text/html": "<pre>    Data has 216824 observations with 970 users and 3768 items.</pre>", 
                        "text/plain": "    Data has 216824 observations with 970 users and 3768 items."
                    }, 
                    "metadata": {}
                }, 
                {
                    "output_type": "display_data", 
                    "data": {
                        "text/html": "<pre>    Data prepared in: 0.85169s</pre>", 
                        "text/plain": "    Data prepared in: 0.85169s"
                    }, 
                    "metadata": {}
                }, 
                {
                    "output_type": "display_data", 
                    "data": {
                        "text/html": "<pre>Training model from provided data.</pre>", 
                        "text/plain": "Training model from provided data."
                    }, 
                    "metadata": {}
                }, 
                {
                    "output_type": "display_data", 
                    "data": {
                        "text/html": "<pre>Gathering per-item and per-user statistics.</pre>", 
                        "text/plain": "Gathering per-item and per-user statistics."
                    }, 
                    "metadata": {}
                }, 
                {
                    "output_type": "display_data", 
                    "data": {
                        "text/html": "<pre>+--------------------------------+------------+</pre>", 
                        "text/plain": "+--------------------------------+------------+"
                    }, 
                    "metadata": {}
                }, 
                {
                    "output_type": "display_data", 
                    "data": {
                        "text/html": "<pre>| Elapsed Time (Item Statistics) | % Complete |</pre>", 
                        "text/plain": "| Elapsed Time (Item Statistics) | % Complete |"
                    }, 
                    "metadata": {}
                }, 
                {
                    "output_type": "display_data", 
                    "data": {
                        "text/html": "<pre>+--------------------------------+------------+</pre>", 
                        "text/plain": "+--------------------------------+------------+"
                    }, 
                    "metadata": {}
                }, 
                {
                    "output_type": "display_data", 
                    "data": {
                        "text/html": "<pre>| 394.164ms                      | 100        |</pre>", 
                        "text/plain": "| 394.164ms                      | 100        |"
                    }, 
                    "metadata": {}
                }, 
                {
                    "output_type": "display_data", 
                    "data": {
                        "text/html": "<pre>+--------------------------------+------------+</pre>", 
                        "text/plain": "+--------------------------------+------------+"
                    }, 
                    "metadata": {}
                }, 
                {
                    "output_type": "display_data", 
                    "data": {
                        "text/html": "<pre>Setting up lookup tables.</pre>", 
                        "text/plain": "Setting up lookup tables."
                    }, 
                    "metadata": {}
                }, 
                {
                    "output_type": "display_data", 
                    "data": {
                        "text/html": "<pre>Processing data in one pass using dense lookup tables.</pre>", 
                        "text/plain": "Processing data in one pass using dense lookup tables."
                    }, 
                    "metadata": {}
                }, 
                {
                    "output_type": "display_data", 
                    "data": {
                        "text/html": "<pre>+-------------------------------------+------------------+-----------------+</pre>", 
                        "text/plain": "+-------------------------------------+------------------+-----------------+"
                    }, 
                    "metadata": {}
                }, 
                {
                    "output_type": "display_data", 
                    "data": {
                        "text/html": "<pre>| Elapsed Time (Constructing Lookups) | Total % Complete | Items Processed |</pre>", 
                        "text/plain": "| Elapsed Time (Constructing Lookups) | Total % Complete | Items Processed |"
                    }, 
                    "metadata": {}
                }, 
                {
                    "output_type": "display_data", 
                    "data": {
                        "text/html": "<pre>+-------------------------------------+------------------+-----------------+</pre>", 
                        "text/plain": "+-------------------------------------+------------------+-----------------+"
                    }, 
                    "metadata": {}
                }, 
                {
                    "output_type": "display_data", 
                    "data": {
                        "text/html": "<pre>| 443.483ms                           | 0                | 6               |</pre>", 
                        "text/plain": "| 443.483ms                           | 0                | 6               |"
                    }, 
                    "metadata": {}
                }, 
                {
                    "output_type": "display_data", 
                    "data": {
                        "text/html": "<pre>| 3.47s                               | 16.5             | 623             |</pre>", 
                        "text/plain": "| 3.47s                               | 16.5             | 623             |"
                    }, 
                    "metadata": {}
                }, 
                {
                    "output_type": "display_data", 
                    "data": {
                        "text/html": "<pre>| 6.49s                               | 20.5             | 772             |</pre>", 
                        "text/plain": "| 6.49s                               | 20.5             | 772             |"
                    }, 
                    "metadata": {}
                }, 
                {
                    "output_type": "display_data", 
                    "data": {
                        "text/html": "<pre>| 9.45s                               | 25.75            | 979             |</pre>", 
                        "text/plain": "| 9.45s                               | 25.75            | 979             |"
                    }, 
                    "metadata": {}
                }, 
                {
                    "output_type": "display_data", 
                    "data": {
                        "text/html": "<pre>| 12.51s                              | 31               | 1170            |</pre>", 
                        "text/plain": "| 12.51s                              | 31               | 1170            |"
                    }, 
                    "metadata": {}
                }, 
                {
                    "output_type": "display_data", 
                    "data": {
                        "text/html": "<pre>| 15.47s                              | 34.75            | 1317            |</pre>", 
                        "text/plain": "| 15.47s                              | 34.75            | 1317            |"
                    }, 
                    "metadata": {}
                }, 
                {
                    "output_type": "display_data", 
                    "data": {
                        "text/html": "<pre>| 18.51s                              | 39.75            | 1501            |</pre>", 
                        "text/plain": "| 18.51s                              | 39.75            | 1501            |"
                    }, 
                    "metadata": {}
                }, 
                {
                    "output_type": "display_data", 
                    "data": {
                        "text/html": "<pre>| 21.45s                              | 45.5             | 1717            |</pre>", 
                        "text/plain": "| 21.45s                              | 45.5             | 1717            |"
                    }, 
                    "metadata": {}
                }, 
                {
                    "output_type": "display_data", 
                    "data": {
                        "text/html": "<pre>| 24.47s                              | 51.5             | 1940            |</pre>", 
                        "text/plain": "| 24.47s                              | 51.5             | 1940            |"
                    }, 
                    "metadata": {}
                }, 
                {
                    "output_type": "display_data", 
                    "data": {
                        "text/html": "<pre>| 27.51s                              | 57               | 2148            |</pre>", 
                        "text/plain": "| 27.51s                              | 57               | 2148            |"
                    }, 
                    "metadata": {}
                }, 
                {
                    "output_type": "display_data", 
                    "data": {
                        "text/html": "<pre>| 30.47s                              | 64.5             | 2437            |</pre>", 
                        "text/plain": "| 30.47s                              | 64.5             | 2437            |"
                    }, 
                    "metadata": {}
                }, 
                {
                    "output_type": "display_data", 
                    "data": {
                        "text/html": "<pre>| 33.45s                              | 70.5             | 2662            |</pre>", 
                        "text/plain": "| 33.45s                              | 70.5             | 2662            |"
                    }, 
                    "metadata": {}
                }, 
                {
                    "output_type": "display_data", 
                    "data": {
                        "text/html": "<pre>| 36.47s                              | 74.5             | 2814            |</pre>", 
                        "text/plain": "| 36.47s                              | 74.5             | 2814            |"
                    }, 
                    "metadata": {}
                }, 
                {
                    "output_type": "display_data", 
                    "data": {
                        "text/html": "<pre>| 39.51s                              | 80.25            | 3026            |</pre>", 
                        "text/plain": "| 39.51s                              | 80.25            | 3026            |"
                    }, 
                    "metadata": {}
                }, 
                {
                    "output_type": "display_data", 
                    "data": {
                        "text/html": "<pre>| 42.55s                              | 87.75            | 3315            |</pre>", 
                        "text/plain": "| 42.55s                              | 87.75            | 3315            |"
                    }, 
                    "metadata": {}
                }, 
                {
                    "output_type": "display_data", 
                    "data": {
                        "text/html": "<pre>| 45.49s                              | 94.75            | 3578            |</pre>", 
                        "text/plain": "| 45.49s                              | 94.75            | 3578            |"
                    }, 
                    "metadata": {}
                }, 
                {
                    "output_type": "display_data", 
                    "data": {
                        "text/html": "<pre>| 48.11s                              | 100              | 3768            |</pre>", 
                        "text/plain": "| 48.11s                              | 100              | 3768            |"
                    }, 
                    "metadata": {}
                }, 
                {
                    "output_type": "display_data", 
                    "data": {
                        "text/html": "<pre>+-------------------------------------+------------------+-----------------+</pre>", 
                        "text/plain": "+-------------------------------------+------------------+-----------------+"
                    }, 
                    "metadata": {}
                }, 
                {
                    "output_type": "display_data", 
                    "data": {
                        "text/html": "<pre>Finalizing lookup tables.</pre>", 
                        "text/plain": "Finalizing lookup tables."
                    }, 
                    "metadata": {}
                }, 
                {
                    "output_type": "display_data", 
                    "data": {
                        "text/html": "<pre>Generating candidate set for working with new users.</pre>", 
                        "text/plain": "Generating candidate set for working with new users."
                    }, 
                    "metadata": {}
                }, 
                {
                    "output_type": "display_data", 
                    "data": {
                        "text/html": "<pre>Finished training in 48.3525s</pre>", 
                        "text/plain": "Finished training in 48.3525s"
                    }, 
                    "metadata": {}
                }, 
                {
                    "output_type": "stream", 
                    "name": "stdout", 
                    "text": "+------------+-----------+--------------------+------+\n| customerId | productId |       score        | rank |\n+------------+-----------+--------------------+------+\n|   127269   |   22423U  | 2.1809142635826353 |  1   |\n|   127269   |  85123AY  | 2.1560581272728045 |  2   |\n|   127269   |  85099BJ  | 2.082096195072575  |  3   |\n|   127269   |   47566Y  | 1.9011910185267653 |  4   |\n|   127269   |   20725N  | 1.8988365006292023 |  5   |\n|   127269   |   22720A  | 1.8099884153363717 |  6   |\n|   127269   |   84879M  | 1.7793387008220598 |  7   |\n|   127269   |   22386V  | 1.7033959348635246 |  8   |\n|   127269   |   21212D  | 1.6858641899865248 |  9   |\n|   127269   |   22960K  | 1.666681425901662  |  10  |\n|   227268   |   22423U  | 2.1809142635826353 |  1   |\n|   227268   |  85123AY  | 2.1560581272728045 |  2   |\n|   227268   |  85099BJ  | 2.082096195072575  |  3   |\n|   227268   |   47566Y  | 1.9011910185267653 |  4   |\n|   227268   |   20725N  | 1.8988365006292023 |  5   |\n|   227268   |   22720A  | 1.8099884153363717 |  6   |\n|   227268   |   84879M  | 1.7793387008220598 |  7   |\n|   227268   |   22386V  | 1.7033959348635246 |  8   |\n|   227268   |   21212D  | 1.6858641899865248 |  9   |\n|   227268   |   22960K  | 1.666681425901662  |  10  |\n|   327267   |   22423U  | 2.1809142635826353 |  1   |\n|   327267   |  85123AY  | 2.1560581272728045 |  2   |\n|   327267   |  85099BJ  | 2.082096195072575  |  3   |\n|   327267   |   47566Y  | 1.9011910185267653 |  4   |\n|   327267   |   20725N  | 1.8988365006292023 |  5   |\n|   327267   |   22720A  | 1.8099884153363717 |  6   |\n|   327267   |   84879M  | 1.7793387008220598 |  7   |\n|   327267   |   22386V  | 1.7033959348635246 |  8   |\n|   327267   |   21212D  | 1.6858641899865248 |  9   |\n|   327267   |   22960K  | 1.666681425901662  |  10  |\n+------------+-----------+--------------------+------+\n[6280 rows x 4 columns]\n\n"
                }
            ], 
            "source": "# these variables will change accordingly\nname = 'pearson'\ntarget = 'purchase_count'\npear = model(train_data, name, user_id, item_id, target, users_to_recommend, n_rec, n_display)"
        }, 
        {
            "source": "#### Using purchase dummy", 
            "cell_type": "markdown", 
            "metadata": {}
        }, 
        {
            "execution_count": 37, 
            "cell_type": "code", 
            "metadata": {}, 
            "outputs": [
                {
                    "output_type": "display_data", 
                    "data": {
                        "text/html": "<pre>Warning: Ignoring columns purchase_count;</pre>", 
                        "text/plain": "Warning: Ignoring columns purchase_count;"
                    }, 
                    "metadata": {}
                }, 
                {
                    "output_type": "display_data", 
                    "data": {
                        "text/html": "<pre>    To use these columns in scoring predictions, use a model that allows the use of additional features.</pre>", 
                        "text/plain": "    To use these columns in scoring predictions, use a model that allows the use of additional features."
                    }, 
                    "metadata": {}
                }, 
                {
                    "output_type": "display_data", 
                    "data": {
                        "text/html": "<pre>Preparing data set.</pre>", 
                        "text/plain": "Preparing data set."
                    }, 
                    "metadata": {}
                }, 
                {
                    "output_type": "display_data", 
                    "data": {
                        "text/html": "<pre>    Data has 216824 observations with 970 users and 3765 items.</pre>", 
                        "text/plain": "    Data has 216824 observations with 970 users and 3765 items."
                    }, 
                    "metadata": {}
                }, 
                {
                    "output_type": "display_data", 
                    "data": {
                        "text/html": "<pre>    Data prepared in: 0.845102s</pre>", 
                        "text/plain": "    Data prepared in: 0.845102s"
                    }, 
                    "metadata": {}
                }, 
                {
                    "output_type": "display_data", 
                    "data": {
                        "text/html": "<pre>Training model from provided data.</pre>", 
                        "text/plain": "Training model from provided data."
                    }, 
                    "metadata": {}
                }, 
                {
                    "output_type": "display_data", 
                    "data": {
                        "text/html": "<pre>Gathering per-item and per-user statistics.</pre>", 
                        "text/plain": "Gathering per-item and per-user statistics."
                    }, 
                    "metadata": {}
                }, 
                {
                    "output_type": "display_data", 
                    "data": {
                        "text/html": "<pre>+--------------------------------+------------+</pre>", 
                        "text/plain": "+--------------------------------+------------+"
                    }, 
                    "metadata": {}
                }, 
                {
                    "output_type": "display_data", 
                    "data": {
                        "text/html": "<pre>| Elapsed Time (Item Statistics) | % Complete |</pre>", 
                        "text/plain": "| Elapsed Time (Item Statistics) | % Complete |"
                    }, 
                    "metadata": {}
                }, 
                {
                    "output_type": "display_data", 
                    "data": {
                        "text/html": "<pre>+--------------------------------+------------+</pre>", 
                        "text/plain": "+--------------------------------+------------+"
                    }, 
                    "metadata": {}
                }, 
                {
                    "output_type": "display_data", 
                    "data": {
                        "text/html": "<pre>| 374.007ms                      | 100        |</pre>", 
                        "text/plain": "| 374.007ms                      | 100        |"
                    }, 
                    "metadata": {}
                }, 
                {
                    "output_type": "display_data", 
                    "data": {
                        "text/html": "<pre>+--------------------------------+------------+</pre>", 
                        "text/plain": "+--------------------------------+------------+"
                    }, 
                    "metadata": {}
                }, 
                {
                    "output_type": "display_data", 
                    "data": {
                        "text/html": "<pre>Setting up lookup tables.</pre>", 
                        "text/plain": "Setting up lookup tables."
                    }, 
                    "metadata": {}
                }, 
                {
                    "output_type": "display_data", 
                    "data": {
                        "text/html": "<pre>Processing data in one pass using dense lookup tables.</pre>", 
                        "text/plain": "Processing data in one pass using dense lookup tables."
                    }, 
                    "metadata": {}
                }, 
                {
                    "output_type": "display_data", 
                    "data": {
                        "text/html": "<pre>+-------------------------------------+------------------+-----------------+</pre>", 
                        "text/plain": "+-------------------------------------+------------------+-----------------+"
                    }, 
                    "metadata": {}
                }, 
                {
                    "output_type": "display_data", 
                    "data": {
                        "text/html": "<pre>| Elapsed Time (Constructing Lookups) | Total % Complete | Items Processed |</pre>", 
                        "text/plain": "| Elapsed Time (Constructing Lookups) | Total % Complete | Items Processed |"
                    }, 
                    "metadata": {}
                }, 
                {
                    "output_type": "display_data", 
                    "data": {
                        "text/html": "<pre>+-------------------------------------+------------------+-----------------+</pre>", 
                        "text/plain": "+-------------------------------------+------------------+-----------------+"
                    }, 
                    "metadata": {}
                }, 
                {
                    "output_type": "display_data", 
                    "data": {
                        "text/html": "<pre>| 431.159ms                           | 0.25             | 17              |</pre>", 
                        "text/plain": "| 431.159ms                           | 0.25             | 17              |"
                    }, 
                    "metadata": {}
                }, 
                {
                    "output_type": "display_data", 
                    "data": {
                        "text/html": "<pre>| 3.53s                               | 14               | 533             |</pre>", 
                        "text/plain": "| 3.53s                               | 14               | 533             |"
                    }, 
                    "metadata": {}
                }, 
                {
                    "output_type": "display_data", 
                    "data": {
                        "text/html": "<pre>| 6.49s                               | 17.5             | 666             |</pre>", 
                        "text/plain": "| 6.49s                               | 17.5             | 666             |"
                    }, 
                    "metadata": {}
                }, 
                {
                    "output_type": "display_data", 
                    "data": {
                        "text/html": "<pre>| 9.43s                               | 24.75            | 935             |</pre>", 
                        "text/plain": "| 9.43s                               | 24.75            | 935             |"
                    }, 
                    "metadata": {}
                }, 
                {
                    "output_type": "display_data", 
                    "data": {
                        "text/html": "<pre>| 12.43s                              | 29               | 1099            |</pre>", 
                        "text/plain": "| 12.43s                              | 29               | 1099            |"
                    }, 
                    "metadata": {}
                }, 
                {
                    "output_type": "display_data", 
                    "data": {
                        "text/html": "<pre>| 15.43s                              | 35.5             | 1342            |</pre>", 
                        "text/plain": "| 15.43s                              | 35.5             | 1342            |"
                    }, 
                    "metadata": {}
                }, 
                {
                    "output_type": "display_data", 
                    "data": {
                        "text/html": "<pre>| 18.49s                              | 39               | 1474            |</pre>", 
                        "text/plain": "| 18.49s                              | 39               | 1474            |"
                    }, 
                    "metadata": {}
                }, 
                {
                    "output_type": "display_data", 
                    "data": {
                        "text/html": "<pre>| 21.63s                              | 48.25            | 1819            |</pre>", 
                        "text/plain": "| 21.63s                              | 48.25            | 1819            |"
                    }, 
                    "metadata": {}
                }, 
                {
                    "output_type": "display_data", 
                    "data": {
                        "text/html": "<pre>| 24.53s                              | 51.25            | 1938            |</pre>", 
                        "text/plain": "| 24.53s                              | 51.25            | 1938            |"
                    }, 
                    "metadata": {}
                }, 
                {
                    "output_type": "display_data", 
                    "data": {
                        "text/html": "<pre>| 27.55s                              | 56.25            | 2124            |</pre>", 
                        "text/plain": "| 27.55s                              | 56.25            | 2124            |"
                    }, 
                    "metadata": {}
                }, 
                {
                    "output_type": "display_data", 
                    "data": {
                        "text/html": "<pre>| 30.45s                              | 62.75            | 2367            |</pre>", 
                        "text/plain": "| 30.45s                              | 62.75            | 2367            |"
                    }, 
                    "metadata": {}
                }, 
                {
                    "output_type": "display_data", 
                    "data": {
                        "text/html": "<pre>| 33.49s                              | 69.25            | 2609            |</pre>", 
                        "text/plain": "| 33.49s                              | 69.25            | 2609            |"
                    }, 
                    "metadata": {}
                }, 
                {
                    "output_type": "display_data", 
                    "data": {
                        "text/html": "<pre>| 36.45s                              | 76.25            | 2875            |</pre>", 
                        "text/plain": "| 36.45s                              | 76.25            | 2875            |"
                    }, 
                    "metadata": {}
                }, 
                {
                    "output_type": "display_data", 
                    "data": {
                        "text/html": "<pre>| 39.81s                              | 82.25            | 3104            |</pre>", 
                        "text/plain": "| 39.81s                              | 82.25            | 3104            |"
                    }, 
                    "metadata": {}
                }, 
                {
                    "output_type": "display_data", 
                    "data": {
                        "text/html": "<pre>| 42.53s                              | 88.5             | 3340            |</pre>", 
                        "text/plain": "| 42.53s                              | 88.5             | 3340            |"
                    }, 
                    "metadata": {}
                }, 
                {
                    "output_type": "display_data", 
                    "data": {
                        "text/html": "<pre>| 45.47s                              | 99.5             | 3746            |</pre>", 
                        "text/plain": "| 45.47s                              | 99.5             | 3746            |"
                    }, 
                    "metadata": {}
                }, 
                {
                    "output_type": "display_data", 
                    "data": {
                        "text/html": "<pre>| 46.09s                              | 100              | 3765            |</pre>", 
                        "text/plain": "| 46.09s                              | 100              | 3765            |"
                    }, 
                    "metadata": {}
                }, 
                {
                    "output_type": "display_data", 
                    "data": {
                        "text/html": "<pre>+-------------------------------------+------------------+-----------------+</pre>", 
                        "text/plain": "+-------------------------------------+------------------+-----------------+"
                    }, 
                    "metadata": {}
                }, 
                {
                    "output_type": "display_data", 
                    "data": {
                        "text/html": "<pre>Finalizing lookup tables.</pre>", 
                        "text/plain": "Finalizing lookup tables."
                    }, 
                    "metadata": {}
                }, 
                {
                    "output_type": "display_data", 
                    "data": {
                        "text/html": "<pre>Generating candidate set for working with new users.</pre>", 
                        "text/plain": "Generating candidate set for working with new users."
                    }, 
                    "metadata": {}
                }, 
                {
                    "output_type": "display_data", 
                    "data": {
                        "text/html": "<pre>Finished training in 46.3728s</pre>", 
                        "text/plain": "Finished training in 46.3728s"
                    }, 
                    "metadata": {}
                }, 
                {
                    "output_type": "stream", 
                    "name": "stdout", 
                    "text": "+------------+-----------+-------+------+\n| customerId | productId | score | rank |\n+------------+-----------+-------+------+\n|   127269   |   22385P  |  0.0  |  1   |\n|   127269   |   21154F  |  0.0  |  2   |\n|   127269   |   22746G  |  0.0  |  3   |\n|   127269   |   35953W  |  0.0  |  4   |\n|   127269   |   21485W  |  0.0  |  5   |\n|   127269   |   22089I  |  0.0  |  6   |\n|   127269   |   22739W  |  0.0  |  7   |\n|   127269   |   21843C  |  0.0  |  8   |\n|   127269   |   23085W  |  0.0  |  9   |\n|   127269   |   23296Z  |  0.0  |  10  |\n|   227268   |   22385P  |  0.0  |  1   |\n|   227268   |   21154F  |  0.0  |  2   |\n|   227268   |   22746G  |  0.0  |  3   |\n|   227268   |   35953W  |  0.0  |  4   |\n|   227268   |   21485W  |  0.0  |  5   |\n|   227268   |   22089I  |  0.0  |  6   |\n|   227268   |   22739W  |  0.0  |  7   |\n|   227268   |   21843C  |  0.0  |  8   |\n|   227268   |   23085W  |  0.0  |  9   |\n|   227268   |   23296Z  |  0.0  |  10  |\n|   327267   |   22385P  |  0.0  |  1   |\n|   327267   |   21154F  |  0.0  |  2   |\n|   327267   |   22746G  |  0.0  |  3   |\n|   327267   |   35953W  |  0.0  |  4   |\n|   327267   |   21485W  |  0.0  |  5   |\n|   327267   |   22089I  |  0.0  |  6   |\n|   327267   |   22739W  |  0.0  |  7   |\n|   327267   |   21843C  |  0.0  |  8   |\n|   327267   |   23085W  |  0.0  |  9   |\n|   327267   |   23296Z  |  0.0  |  10  |\n+------------+-----------+-------+------+\n[6280 rows x 4 columns]\n\n"
                }
            ], 
            "source": "# these variables will change accordingly\nname = 'pearson'\ntarget = 'purchase_dummy'\npear_dummy = model(train_data_dummy, name, user_id, item_id, target, users_to_recommend, n_rec, n_display)"
        }, 
        {
            "source": "#### Using normalized purchase count", 
            "cell_type": "markdown", 
            "metadata": {}
        }, 
        {
            "execution_count": 38, 
            "cell_type": "code", 
            "metadata": {}, 
            "outputs": [
                {
                    "output_type": "display_data", 
                    "data": {
                        "text/html": "<pre>Preparing data set.</pre>", 
                        "text/plain": "Preparing data set."
                    }, 
                    "metadata": {}
                }, 
                {
                    "output_type": "display_data", 
                    "data": {
                        "text/html": "<pre>    Data has 205580 observations with 968 users and 2494 items.</pre>", 
                        "text/plain": "    Data has 205580 observations with 968 users and 2494 items."
                    }, 
                    "metadata": {}
                }, 
                {
                    "output_type": "display_data", 
                    "data": {
                        "text/html": "<pre>    Data prepared in: 0.84517s</pre>", 
                        "text/plain": "    Data prepared in: 0.84517s"
                    }, 
                    "metadata": {}
                }, 
                {
                    "output_type": "display_data", 
                    "data": {
                        "text/html": "<pre>Training model from provided data.</pre>", 
                        "text/plain": "Training model from provided data."
                    }, 
                    "metadata": {}
                }, 
                {
                    "output_type": "display_data", 
                    "data": {
                        "text/html": "<pre>Gathering per-item and per-user statistics.</pre>", 
                        "text/plain": "Gathering per-item and per-user statistics."
                    }, 
                    "metadata": {}
                }, 
                {
                    "output_type": "display_data", 
                    "data": {
                        "text/html": "<pre>+--------------------------------+------------+</pre>", 
                        "text/plain": "+--------------------------------+------------+"
                    }, 
                    "metadata": {}
                }, 
                {
                    "output_type": "display_data", 
                    "data": {
                        "text/html": "<pre>| Elapsed Time (Item Statistics) | % Complete |</pre>", 
                        "text/plain": "| Elapsed Time (Item Statistics) | % Complete |"
                    }, 
                    "metadata": {}
                }, 
                {
                    "output_type": "display_data", 
                    "data": {
                        "text/html": "<pre>+--------------------------------+------------+</pre>", 
                        "text/plain": "+--------------------------------+------------+"
                    }, 
                    "metadata": {}
                }, 
                {
                    "output_type": "display_data", 
                    "data": {
                        "text/html": "<pre>| 648.873ms                      | 100        |</pre>", 
                        "text/plain": "| 648.873ms                      | 100        |"
                    }, 
                    "metadata": {}
                }, 
                {
                    "output_type": "display_data", 
                    "data": {
                        "text/html": "<pre>+--------------------------------+------------+</pre>", 
                        "text/plain": "+--------------------------------+------------+"
                    }, 
                    "metadata": {}
                }, 
                {
                    "output_type": "display_data", 
                    "data": {
                        "text/html": "<pre>Setting up lookup tables.</pre>", 
                        "text/plain": "Setting up lookup tables."
                    }, 
                    "metadata": {}
                }, 
                {
                    "output_type": "display_data", 
                    "data": {
                        "text/html": "<pre>Processing data in one pass using dense lookup tables.</pre>", 
                        "text/plain": "Processing data in one pass using dense lookup tables."
                    }, 
                    "metadata": {}
                }, 
                {
                    "output_type": "display_data", 
                    "data": {
                        "text/html": "<pre>+-------------------------------------+------------------+-----------------+</pre>", 
                        "text/plain": "+-------------------------------------+------------------+-----------------+"
                    }, 
                    "metadata": {}
                }, 
                {
                    "output_type": "display_data", 
                    "data": {
                        "text/html": "<pre>| Elapsed Time (Constructing Lookups) | Total % Complete | Items Processed |</pre>", 
                        "text/plain": "| Elapsed Time (Constructing Lookups) | Total % Complete | Items Processed |"
                    }, 
                    "metadata": {}
                }, 
                {
                    "output_type": "display_data", 
                    "data": {
                        "text/html": "<pre>+-------------------------------------+------------------+-----------------+</pre>", 
                        "text/plain": "+-------------------------------------+------------------+-----------------+"
                    }, 
                    "metadata": {}
                }, 
                {
                    "output_type": "display_data", 
                    "data": {
                        "text/html": "<pre>| 666.184ms                           | 0                | 4               |</pre>", 
                        "text/plain": "| 666.184ms                           | 0                | 4               |"
                    }, 
                    "metadata": {}
                }, 
                {
                    "output_type": "display_data", 
                    "data": {
                        "text/html": "<pre>| 3.72s                               | 15.75            | 396             |</pre>", 
                        "text/plain": "| 3.72s                               | 15.75            | 396             |"
                    }, 
                    "metadata": {}
                }, 
                {
                    "output_type": "display_data", 
                    "data": {
                        "text/html": "<pre>| 6.70s                               | 23               | 574             |</pre>", 
                        "text/plain": "| 6.70s                               | 23               | 574             |"
                    }, 
                    "metadata": {}
                }, 
                {
                    "output_type": "display_data", 
                    "data": {
                        "text/html": "<pre>| 9.74s                               | 30               | 752             |</pre>", 
                        "text/plain": "| 9.74s                               | 30               | 752             |"
                    }, 
                    "metadata": {}
                }, 
                {
                    "output_type": "display_data", 
                    "data": {
                        "text/html": "<pre>| 12.74s                              | 37.25            | 930             |</pre>", 
                        "text/plain": "| 12.74s                              | 37.25            | 930             |"
                    }, 
                    "metadata": {}
                }, 
                {
                    "output_type": "display_data", 
                    "data": {
                        "text/html": "<pre>| 15.69s                              | 42.5             | 1064            |</pre>", 
                        "text/plain": "| 15.69s                              | 42.5             | 1064            |"
                    }, 
                    "metadata": {}
                }, 
                {
                    "output_type": "display_data", 
                    "data": {
                        "text/html": "<pre>| 18.68s                              | 49               | 1226            |</pre>", 
                        "text/plain": "| 18.68s                              | 49               | 1226            |"
                    }, 
                    "metadata": {}
                }, 
                {
                    "output_type": "display_data", 
                    "data": {
                        "text/html": "<pre>| 21.68s                              | 55.25            | 1380            |</pre>", 
                        "text/plain": "| 21.68s                              | 55.25            | 1380            |"
                    }, 
                    "metadata": {}
                }, 
                {
                    "output_type": "display_data", 
                    "data": {
                        "text/html": "<pre>| 24.67s                              | 60.5             | 1510            |</pre>", 
                        "text/plain": "| 24.67s                              | 60.5             | 1510            |"
                    }, 
                    "metadata": {}
                }, 
                {
                    "output_type": "display_data", 
                    "data": {
                        "text/html": "<pre>| 27.67s                              | 69.5             | 1733            |</pre>", 
                        "text/plain": "| 27.67s                              | 69.5             | 1733            |"
                    }, 
                    "metadata": {}
                }, 
                {
                    "output_type": "display_data", 
                    "data": {
                        "text/html": "<pre>| 30.69s                              | 75.25            | 1879            |</pre>", 
                        "text/plain": "| 30.69s                              | 75.25            | 1879            |"
                    }, 
                    "metadata": {}
                }, 
                {
                    "output_type": "display_data", 
                    "data": {
                        "text/html": "<pre>| 33.68s                              | 80.75            | 2016            |</pre>", 
                        "text/plain": "| 33.68s                              | 80.75            | 2016            |"
                    }, 
                    "metadata": {}
                }, 
                {
                    "output_type": "display_data", 
                    "data": {
                        "text/html": "<pre>| 36.71s                              | 89.75            | 2240            |</pre>", 
                        "text/plain": "| 36.71s                              | 89.75            | 2240            |"
                    }, 
                    "metadata": {}
                }, 
                {
                    "output_type": "display_data", 
                    "data": {
                        "text/html": "<pre>| 39.69s                              | 99.75            | 2490            |</pre>", 
                        "text/plain": "| 39.69s                              | 99.75            | 2490            |"
                    }, 
                    "metadata": {}
                }, 
                {
                    "output_type": "display_data", 
                    "data": {
                        "text/html": "<pre>| 40.64s                              | 100              | 2494            |</pre>", 
                        "text/plain": "| 40.64s                              | 100              | 2494            |"
                    }, 
                    "metadata": {}
                }, 
                {
                    "output_type": "display_data", 
                    "data": {
                        "text/html": "<pre>+-------------------------------------+------------------+-----------------+</pre>", 
                        "text/plain": "+-------------------------------------+------------------+-----------------+"
                    }, 
                    "metadata": {}
                }, 
                {
                    "output_type": "display_data", 
                    "data": {
                        "text/html": "<pre>Finalizing lookup tables.</pre>", 
                        "text/plain": "Finalizing lookup tables."
                    }, 
                    "metadata": {}
                }, 
                {
                    "output_type": "display_data", 
                    "data": {
                        "text/html": "<pre>Generating candidate set for working with new users.</pre>", 
                        "text/plain": "Generating candidate set for working with new users."
                    }, 
                    "metadata": {}
                }, 
                {
                    "output_type": "display_data", 
                    "data": {
                        "text/html": "<pre>Finished training in 40.8697s</pre>", 
                        "text/plain": "Finished training in 40.8697s"
                    }, 
                    "metadata": {}
                }, 
                {
                    "output_type": "stream", 
                    "name": "stdout", 
                    "text": "+------------+-----------+---------------------+------+\n| customerId | productId |        score        | rank |\n+------------+-----------+---------------------+------+\n|   127269   |   85089Y  |         1.0         |  1   |\n|   127269   |   85189T  |         0.5         |  2   |\n|   127269   |   23442T  |         0.5         |  3   |\n|   127269   |   21196B  |         0.5         |  4   |\n|   127269   |   84548X  |         0.5         |  5   |\n|   127269   |   21816Y  |         0.5         |  6   |\n|   127269   |  90065AP  | 0.33333333333333337 |  7   |\n|   127269   |   21392H  | 0.33333333333333337 |  8   |\n|   127269   |  84751BL  | 0.33333333333333337 |  9   |\n|   127269   |   85146G  |  0.3333333333333333 |  10  |\n|   227268   |   85089Y  |         1.0         |  1   |\n|   227268   |   85189T  |         0.5         |  2   |\n|   227268   |   23442T  |         0.5         |  3   |\n|   227268   |   21196B  |         0.5         |  4   |\n|   227268   |   84548X  |         0.5         |  5   |\n|   227268   |   21816Y  |         0.5         |  6   |\n|   227268   |  90065AP  | 0.33333333333333337 |  7   |\n|   227268   |   21392H  | 0.33333333333333337 |  8   |\n|   227268   |  84751BL  | 0.33333333333333337 |  9   |\n|   227268   |   85146G  |  0.3333333333333333 |  10  |\n|   327267   |   85089Y  |         1.0         |  1   |\n|   327267   |   85189T  |         0.5         |  2   |\n|   327267   |   23442T  |         0.5         |  3   |\n|   327267   |   21196B  |         0.5         |  4   |\n|   327267   |   84548X  |         0.5         |  5   |\n|   327267   |   21816Y  |         0.5         |  6   |\n|   327267   |  90065AP  | 0.33333333333333337 |  7   |\n|   327267   |   21392H  | 0.33333333333333337 |  8   |\n|   327267   |  84751BL  | 0.33333333333333337 |  9   |\n|   327267   |   85146G  |  0.3333333333333333 |  10  |\n+------------+-----------+---------------------+------+\n[6280 rows x 4 columns]\n\n"
                }
            ], 
            "source": "name = 'pearson'\ntarget = 'scaled_purchase_freq'\npear_norm = model(train_data_norm, name, user_id, item_id, target, users_to_recommend, n_rec, n_display)"
        }, 
        {
            "source": "#### Note\n* In collaborative filtering above, we used two approaches: cosine and pearson distance. We also got to apply them to three training datasets with normal counts, dummy, or normalized counts of items purchase.\n* We can see that the recommendations are different for each user. This suggests that personalization does exist. \n* But how good is this model compared to the baseline, and to each other? We need some means of evaluating a recommendation engine. Lets focus on that in the next section.", 
            "cell_type": "markdown", 
            "metadata": {}
        }, 
        {
            "source": "## 7. Model Evaluation\nFor evaluating recommendation engines, we can use the concept of precision-recall.\n\n* RMSE (Root Mean Squared Errors)\n    * Measures the error of predicted values\n    * Lesser the RMSE value, better the recommendations\n* Recall\n    * What percentage of products that a user buys are actually recommended?\n    * If a customer buys 5 products and the recommendation decided to show 3 of them, then the recall is 0.6\n* Precision\n    * Out of all the recommended items, how many the user actually liked?\n    * If 5 products were recommended to the customer out of which he buys 4 of them, then precision is 0.8\n    \n* Why are both recall and precision important?\n    * Consider a case where we recommend all products, so our customers will surely cover the items that they liked and bought. In this case, we have 100% recall! Does this mean our model is good?\n    * We have to consider precision. If we recommend 300 items but user likes and buys only 3 of them, then precision is 0.1%! This very low precision indicates that the model is not great, despite their excellent recall.\n    * So our aim has to be optimizing both recall and precision (to be close to 1 as possible).\n\nLets compare all the models we have built based on precision-recall characteristics:", 
            "cell_type": "markdown", 
            "metadata": {}
        }, 
        {
            "execution_count": 39, 
            "cell_type": "code", 
            "metadata": {}, 
            "outputs": [], 
            "source": "# create initial callable variables\n\nmodels_w_counts = [popularity_model, cos, pear]\nmodels_w_dummy = [pop_dummy, cos_dummy, pear_dummy]\nmodels_w_norm = [pop_norm, cos_norm, pear_norm]\n\nnames_w_counts = ['Popularity Model on Purchase Counts', 'Cosine Similarity on Purchase Counts', 'Pearson Similarity on Purchase Counts']\nnames_w_dummy = ['Popularity Model on Purchase Dummy', 'Cosine Similarity on Purchase Dummy', 'Pearson Similarity on Purchase Dummy']\nnames_w_norm = ['Popularity Model on Scaled Purchase Counts', 'Cosine Similarity on Scaled Purchase Counts', 'Pearson Similarity on Scaled Purchase Counts']"
        }, 
        {
            "source": "#### Models on purchase counts", 
            "cell_type": "markdown", 
            "metadata": {}
        }, 
        {
            "execution_count": 40, 
            "cell_type": "code", 
            "metadata": {
                "scrolled": false
            }, 
            "outputs": [
                {
                    "output_type": "stream", 
                    "name": "stdout", 
                    "text": "PROGRESS: Evaluate model Popularity Model on Purchase Counts\n\nPrecision and recall summary statistics by cutoff\n+--------+---------------------+----------------------+\n| cutoff |    mean_precision   |     mean_recall      |\n+--------+---------------------+----------------------+\n|   1    |  0.3400211193241814 | 0.00709670566536427  |\n|   2    | 0.31573389651531236 | 0.012485094107829919 |\n|   3    |  0.2932066173882432 | 0.016527011110843037 |\n|   4    | 0.28326293558606114 | 0.02138322476346206  |\n|   5    | 0.27053854276663186 | 0.025556634139892703 |\n|   6    | 0.25642379443857805 | 0.02868971780158148  |\n|   7    | 0.24860461608085696 | 0.032857483731719726 |\n|   8    | 0.24142027455121456 | 0.03566031695814584  |\n|   9    |  0.2361844420978529 | 0.03942342485796968  |\n|   10   | 0.23189017951425542 | 0.04305772010140779  |\n+--------+---------------------+----------------------+\n[10 rows x 3 columns]\n\n"
                }, 
                {
                    "output_type": "display_data", 
                    "data": {
                        "text/html": "<pre>Using default 16 lambda workers.</pre>", 
                        "text/plain": "Using default 16 lambda workers."
                    }, 
                    "metadata": {}
                }, 
                {
                    "output_type": "display_data", 
                    "data": {
                        "text/html": "<pre>To maximize the degree of parallelism, add the following code to the beginning of the program:</pre>", 
                        "text/plain": "To maximize the degree of parallelism, add the following code to the beginning of the program:"
                    }, 
                    "metadata": {}
                }, 
                {
                    "output_type": "display_data", 
                    "data": {
                        "text/html": "<pre>\"turicreate.config.set_runtime_config('TURI_DEFAULT_NUM_PYLAMBDA_WORKERS', 56)\"</pre>", 
                        "text/plain": "\"turicreate.config.set_runtime_config('TURI_DEFAULT_NUM_PYLAMBDA_WORKERS', 56)\""
                    }, 
                    "metadata": {}
                }, 
                {
                    "output_type": "display_data", 
                    "data": {
                        "text/html": "<pre>Note that increasing the degree of parallelism also increases the memory footprint.</pre>", 
                        "text/plain": "Note that increasing the degree of parallelism also increases the memory footprint."
                    }, 
                    "metadata": {}
                }, 
                {
                    "output_type": "stream", 
                    "name": "stdout", 
                    "text": "\nOverall RMSE: 0.5276032646172661\n\nPer User RMSE (best)\n+------------+----------------------+-------+\n| customerId |         rmse         | count |\n+------------+----------------------+-------+\n|   442845   | 0.019641855032959583 |   2   |\n+------------+----------------------+-------+\n[1 rows x 3 columns]\n\n\nPer User RMSE (worst)\n+------------+--------------------+-------+\n| customerId |        rmse        | count |\n+------------+--------------------+-------+\n|   219177   | 1.3376068376068377 |   1   |\n+------------+--------------------+-------+\n[1 rows x 3 columns]\n\n\nPer Item RMSE (best)\n+-----------+------+-------+\n| productId | rmse | count |\n+-----------+------+-------+\n|   51008P  | 0.0  |   5   |\n+-----------+------+-------+\n[1 rows x 3 columns]\n\n\nPer Item RMSE (worst)\n+-----------+------+-------+\n| productId | rmse | count |\n+-----------+------+-------+\n|   23442T  | 2.75 |   1   |\n+-----------+------+-------+\n[1 rows x 3 columns]\n\nPROGRESS: Evaluate model Cosine Similarity on Purchase Counts\n\nPrecision and recall summary statistics by cutoff\n+--------+---------------------+----------------------+\n| cutoff |    mean_precision   |     mean_recall      |\n+--------+---------------------+----------------------+\n|   1    | 0.34213305174234426 | 0.006725778773207184 |\n|   2    | 0.31203801478352705 | 0.011789744100493873 |\n|   3    | 0.29426258359732516 | 0.015918662677003374 |\n|   4    | 0.28247096092925056 | 0.021054544445181896 |\n|   5    | 0.27180570221752903 | 0.02423544692847392  |\n|   6    | 0.26328757479760656 | 0.02833484660833144  |\n|   7    |  0.2581083119625888 | 0.03241760970421119  |\n|   8    |  0.2552798310454068 | 0.036692179251212875 |\n|   9    | 0.24944268450076268 | 0.040048163021790324 |\n|   10   | 0.24519535374867985 | 0.04414147734258408  |\n+--------+---------------------+----------------------+\n[10 rows x 3 columns]\n\n\nOverall RMSE: 1.3044969040820806\n\nPer User RMSE (best)\n+------------+---------------------+-------+\n| customerId |         rmse        | count |\n+------------+---------------------+-------+\n|   471915   | 0.44918546080589294 |   1   |\n+------------+---------------------+-------+\n[1 rows x 3 columns]\n\n\nPer User RMSE (worst)\n+------------+--------------------+-------+\n| customerId |        rmse        | count |\n+------------+--------------------+-------+\n|   419976   | 1.8763124242908542 |  118  |\n+------------+--------------------+-------+\n[1 rows x 3 columns]\n\n\nPer Item RMSE (best)\n+-----------+--------------------+-------+\n| productId |        rmse        | count |\n+-----------+--------------------+-------+\n|   85095S  | 0.9591269217195878 |   7   |\n+-----------+--------------------+-------+\n[1 rows x 3 columns]\n\n\nPer Item RMSE (worst)\n+-----------+-------------------+-------+\n| productId |        rmse       | count |\n+-----------+-------------------+-------+\n|   23442T  | 3.997831468488656 |   1   |\n+-----------+-------------------+-------+\n[1 rows x 3 columns]\n\nPROGRESS: Evaluate model Pearson Similarity on Purchase Counts\n\nPrecision and recall summary statistics by cutoff\n+--------+---------------------+----------------------+\n| cutoff |    mean_precision   |     mean_recall      |\n+--------+---------------------+----------------------+\n|   1    | 0.34002111932418155 | 0.007096705665364283 |\n|   2    |  0.3157338965153114 | 0.012485094107829898 |\n|   3    | 0.29391059486096455 | 0.01656178234682828  |\n|   4    |  0.2845828933474124 | 0.020334022090637494 |\n|   5    | 0.27074973600844837 | 0.02440180795393138  |\n|   6    |  0.2588877155931005 | 0.02768348668641182  |\n|   7    | 0.25056569618343627 | 0.031939718415642575 |\n|   8    | 0.24432418162618805 | 0.034844999719133886 |\n|   9    | 0.23700574914936048 | 0.037742566824185475 |\n|   10   | 0.23210137275607196 | 0.04121998203304565  |\n+--------+---------------------+----------------------+\n[10 rows x 3 columns]\n\n\nOverall RMSE: 0.5277625785229336\n\nPer User RMSE (best)\n+------------+----------------------+-------+\n| customerId |         rmse         | count |\n+------------+----------------------+-------+\n|   442845   | 0.017305318045212955 |   2   |\n+------------+----------------------+-------+\n[1 rows x 3 columns]\n\n\nPer User RMSE (worst)\n+------------+-------------------+-------+\n| customerId |        rmse       | count |\n+------------+-------------------+-------+\n|   219177   | 1.337606837606836 |   1   |\n+------------+-------------------+-------+\n[1 rows x 3 columns]\n\n\nPer Item RMSE (best)\n+-----------+------+-------+\n| productId | rmse | count |\n+-----------+------+-------+\n|   51008P  | 0.0  |   5   |\n+-----------+------+-------+\n[1 rows x 3 columns]\n\n\nPer Item RMSE (worst)\n+-----------+--------------------+-------+\n| productId |        rmse        | count |\n+-----------+--------------------+-------+\n|   23442T  | 2.7499303862160325 |   1   |\n+-----------+--------------------+-------+\n[1 rows x 3 columns]\n\n"
                }
            ], 
            "source": "eval_counts = tc.recommender.util.compare_models(test_data, models_w_counts, model_names=names_w_counts)"
        }, 
        {
            "source": "#### Models on purchase dummy", 
            "cell_type": "markdown", 
            "metadata": {}
        }, 
        {
            "execution_count": 41, 
            "cell_type": "code", 
            "metadata": {
                "scrolled": false
            }, 
            "outputs": [
                {
                    "output_type": "stream", 
                    "name": "stdout", 
                    "text": "PROGRESS: Evaluate model Popularity Model on Purchase Dummy\n\nPrecision and recall summary statistics by cutoff\n+--------+-----------------------+------------------------+\n| cutoff |     mean_precision    |      mean_recall       |\n+--------+-----------------------+------------------------+\n|   1    | 0.0063492063492063475 | 0.00013254765446349848 |\n|   2    |  0.005291005291005293 | 0.00029388954098698327 |\n|   3    |  0.00493827160493828  | 0.0003256960256741486  |\n|   4    |  0.003703703703703706 | 0.0003256960256741486  |\n|   5    | 0.0050793650793650785 | 0.0004270981869629655  |\n|   6    |  0.005291005291005298 | 0.0005701913787454441  |\n|   7    |  0.005442176870748298 | 0.0007106153715857964  |\n|   8    |  0.005687830687830688 | 0.0008170054247531063  |\n|   9    |  0.005878894767783658 | 0.0009339859348127636  |\n|   10   |  0.00582010582010582  | 0.0010460911659635713  |\n+--------+-----------------------+------------------------+\n[10 rows x 3 columns]\n\n\nOverall RMSE: 0.0\n\nPer User RMSE (best)\n+------------+------+-------+\n| customerId | rmse | count |\n+------------+------+-------+\n|   263628   | 0.0  |   16  |\n+------------+------+-------+\n[1 rows x 3 columns]\n\n\nPer User RMSE (worst)\n+------------+------+-------+\n| customerId | rmse | count |\n+------------+------+-------+\n|   201888   | 0.0  |   6   |\n+------------+------+-------+\n[1 rows x 3 columns]\n\n\nPer Item RMSE (best)\n+-----------+------+-------+\n| productId | rmse | count |\n+-----------+------+-------+\n|  17084NU  | 0.0  |   16  |\n+-----------+------+-------+\n[1 rows x 3 columns]\n\n\nPer Item RMSE (worst)\n+-----------+------+-------+\n| productId | rmse | count |\n+-----------+------+-------+\n|   21906V  | 0.0  |   17  |\n+-----------+------+-------+\n[1 rows x 3 columns]\n\nPROGRESS: Evaluate model Cosine Similarity on Purchase Dummy\n\nPrecision and recall summary statistics by cutoff\n+--------+---------------------+-----------------------+\n| cutoff |    mean_precision   |      mean_recall      |\n+--------+---------------------+-----------------------+\n|   1    |  0.3047619047619049 | 0.0068230655660860545 |\n|   2    |  0.2994708994708991 |  0.01227093646169917  |\n|   3    |  0.2857142857142858 |  0.016946923262538126 |\n|   4    | 0.27751322751322793 |  0.021222782319601053 |\n|   5    | 0.26941798941798945 |  0.024718153916977858 |\n|   6    |  0.2661375661375663 |  0.028822295546260656 |\n|   7    | 0.26107331821617547 |  0.03329024455434852  |\n|   8    | 0.25595238095238065 |  0.03710392494404684  |\n|   9    |  0.2517342739564962 |   0.0411233159781517  |\n|   10   | 0.24888888888888855 |  0.04581226617815202  |\n+--------+---------------------+-----------------------+\n[10 rows x 3 columns]\n\n\nOverall RMSE: 0.974710932070345\n\nPer User RMSE (best)\n+------------+--------------------+-------+\n| customerId |        rmse        | count |\n+------------+--------------------+-------+\n|   471915   | 0.4079648554325104 |   1   |\n+------------+--------------------+-------+\n[1 rows x 3 columns]\n\n\nPer User RMSE (worst)\n+------------+------+-------+\n| customerId | rmse | count |\n+------------+------+-------+\n|   578025   | 1.0  |   2   |\n+------------+------+-------+\n[1 rows x 3 columns]\n\n\nPer Item RMSE (best)\n+-----------+--------------------+-------+\n| productId |        rmse        | count |\n+-----------+--------------------+-------+\n|  85123AY  | 0.7149220881650385 |  122  |\n+-----------+--------------------+-------+\n[1 rows x 3 columns]\n\n\nPer Item RMSE (worst)\n+-----------+------+-------+\n| productId | rmse | count |\n+-----------+------+-------+\n|  72024UF  | 1.0  |   1   |\n+-----------+------+-------+\n[1 rows x 3 columns]\n\nPROGRESS: Evaluate model Pearson Similarity on Purchase Dummy\n\nPrecision and recall summary statistics by cutoff\n+--------+-----------------------+------------------------+\n| cutoff |     mean_precision    |      mean_recall       |\n+--------+-----------------------+------------------------+\n|   1    |  0.006349206349206356 | 0.0001325476544634985  |\n|   2    |  0.005291005291005293 | 0.0002938895409869831  |\n|   3    |  0.004938271604938273 | 0.0003256960256741486  |\n|   4    | 0.0037037037037037043 | 0.0003256960256741486  |\n|   5    |  0.005079365079365072 | 0.00042709818696296507 |\n|   6    |  0.005291005291005285 | 0.0005701913787454435  |\n|   7    |  0.005442176870748299 | 0.0007106153715857961  |\n|   8    | 0.0056878306878306965 | 0.0008170054247531059  |\n|   9    |  0.005878894767783659 | 0.0009339859348127627  |\n|   10   |  0.005820105820105817 | 0.0010460911659635676  |\n+--------+-----------------------+------------------------+\n[10 rows x 3 columns]\n\n\nOverall RMSE: 1.0\n\nPer User RMSE (best)\n+------------+------+-------+\n| customerId | rmse | count |\n+------------+------+-------+\n|   263628   | 1.0  |   16  |\n+------------+------+-------+\n[1 rows x 3 columns]\n\n\nPer User RMSE (worst)\n+------------+------+-------+\n| customerId | rmse | count |\n+------------+------+-------+\n|   201888   | 1.0  |   6   |\n+------------+------+-------+\n[1 rows x 3 columns]\n\n\nPer Item RMSE (best)\n+-----------+------+-------+\n| productId | rmse | count |\n+-----------+------+-------+\n|  17084NU  | 1.0  |   16  |\n+-----------+------+-------+\n[1 rows x 3 columns]\n\n\nPer Item RMSE (worst)\n+-----------+------+-------+\n| productId | rmse | count |\n+-----------+------+-------+\n|   21906V  | 1.0  |   17  |\n+-----------+------+-------+\n[1 rows x 3 columns]\n\n"
                }
            ], 
            "source": "eval_dummy = tc.recommender.util.compare_models(test_data_dummy, models_w_dummy, model_names=names_w_dummy)"
        }, 
        {
            "source": "#### Models on normalized purchase frequency", 
            "cell_type": "markdown", 
            "metadata": {}
        }, 
        {
            "execution_count": 42, 
            "cell_type": "code", 
            "metadata": {
                "scrolled": false
            }, 
            "outputs": [
                {
                    "output_type": "stream", 
                    "name": "stdout", 
                    "text": "PROGRESS: Evaluate model Popularity Model on Scaled Purchase Counts\n\nPrecision and recall summary statistics by cutoff\n+--------+-----------------------+------------------------+\n| cutoff |     mean_precision    |      mean_recall       |\n+--------+-----------------------+------------------------+\n|   1    |  0.002103049421661412 | 2.5192779530318973e-05 |\n|   2    |  0.001051524710830706 | 2.5192779530318973e-05 |\n|   3    | 0.0007010164738871369 | 2.5192779530318973e-05 |\n|   4    | 0.0013144058885383803 | 8.394557534008266e-05  |\n|   5    | 0.0012618296529968466 | 9.386561978188175e-05  |\n|   6    | 0.0015772870662460587 | 0.00015460710402494357 |\n|   7    | 0.0016523959741625363 | 0.00017592834240123443 |\n|   8    | 0.0014458464773922184 | 0.00017592834240123445 |\n|   9    | 0.0015188690267554635 | 0.00019846101477617793 |\n|   10   | 0.0015772870662460572 | 0.00022455836246152588 |\n+--------+-----------------------+------------------------+\n[10 rows x 3 columns]\n\n\nOverall RMSE: 0.20969580322050235\n\nPer User RMSE (best)\n+------------+----------------------+-------+\n| customerId |         rmse         | count |\n+------------+----------------------+-------+\n|   442845   | 0.024390243902439025 |   1   |\n+------------+----------------------+-------+\n[1 rows x 3 columns]\n\n\nPer User RMSE (worst)\n+------------+--------------------+-------+\n| customerId |        rmse        | count |\n+------------+--------------------+-------+\n|   332856   | 0.4541984041032327 |   5   |\n+------------+--------------------+-------+\n[1 rows x 3 columns]\n\n\nPer Item RMSE (best)\n+-----------+----------------------+-------+\n| productId |         rmse         | count |\n+-----------+----------------------+-------+\n|   21913C  | 0.014285714285714285 |   16  |\n+-----------+----------------------+-------+\n[1 rows x 3 columns]\n\n\nPer Item RMSE (worst)\n+-----------+------+-------+\n| productId | rmse | count |\n+-----------+------+-------+\n|   85089Y  | 1.0  |   2   |\n+-----------+------+-------+\n[1 rows x 3 columns]\n\nPROGRESS: Evaluate model Cosine Similarity on Scaled Purchase Counts\n\nPrecision and recall summary statistics by cutoff\n+--------+---------------------+----------------------+\n| cutoff |    mean_precision   |     mean_recall      |\n+--------+---------------------+----------------------+\n|   1    |  0.3385909568874866 | 0.005281081574371391 |\n|   2    |  0.3065194532071502 | 0.00947780338513747  |\n|   3    |  0.2839116719242902 | 0.013239924925030538 |\n|   4    | 0.27103049421661374 | 0.01652760884884897  |\n|   5    |  0.2620399579390119 | 0.01976608831962491  |\n|   6    | 0.25639677532421984 | 0.023653082864321648 |\n|   7    |  0.2532672374943668 | 0.02756558822626918  |\n|   8    | 0.24553101997896945 | 0.030489017250416025 |\n|   9    | 0.23986447014838194 | 0.03347645590302063  |\n|   10   | 0.23491062039957963 | 0.03706413112135319  |\n+--------+---------------------+----------------------+\n[10 rows x 3 columns]\n\n\nOverall RMSE: 0.22415500607525463\n\nPer User RMSE (best)\n+------------+------+-------+\n| customerId | rmse | count |\n+------------+------+-------+\n|   258147   | 0.0  |   8   |\n+------------+------+-------+\n[1 rows x 3 columns]\n\n\nPer User RMSE (worst)\n+------------+--------------------+-------+\n| customerId |        rmse        | count |\n+------------+--------------------+-------+\n|   332856   | 0.4472135954999579 |   5   |\n+------------+--------------------+-------+\n[1 rows x 3 columns]\n\n\nPer Item RMSE (best)\n+-----------+------+-------+\n| productId | rmse | count |\n+-----------+------+-------+\n|   72133F  | 0.0  |   1   |\n+-----------+------+-------+\n[1 rows x 3 columns]\n\n\nPer Item RMSE (worst)\n+-----------+------+-------+\n| productId | rmse | count |\n+-----------+------+-------+\n|  35833PG  | 1.0  |   1   |\n+-----------+------+-------+\n[1 rows x 3 columns]\n\nPROGRESS: Evaluate model Pearson Similarity on Scaled Purchase Counts\n\nPrecision and recall summary statistics by cutoff\n+--------+-----------------------+------------------------+\n| cutoff |     mean_precision    |      mean_recall       |\n+--------+-----------------------+------------------------+\n|   1    | 0.0021030494216614116 | 2.519277953031896e-05  |\n|   2    |  0.002103049421661412 | 5.0598167711732305e-05 |\n|   3    | 0.0014020329477742743 | 5.0598167711732305e-05 |\n|   4    | 0.0018401682439537332 | 0.00010532750380824897 |\n|   5    | 0.0014721345951629874 | 0.00010532750380824897 |\n|   6    | 0.0015772870662460572 | 0.00015460710402494336 |\n|   7    | 0.0016523959741625359 | 0.00017704529978615559 |\n|   8    | 0.0015772870662460576 | 0.00019144974787972685 |\n|   9    |  0.001518869026755464 | 0.00021986933465893528 |\n|   10   |  0.001577287066246058 | 0.00024119057303522578 |\n+--------+-----------------------+------------------------+\n[10 rows x 3 columns]\n\n\nOverall RMSE: 0.20958112296374645\n\nPer User RMSE (best)\n+------------+----------------------+-------+\n| customerId |         rmse         | count |\n+------------+----------------------+-------+\n|   442845   | 0.016930156364673533 |   1   |\n+------------+----------------------+-------+\n[1 rows x 3 columns]\n\n\nPer User RMSE (worst)\n+------------+--------------------+-------+\n| customerId |        rmse        | count |\n+------------+--------------------+-------+\n|   332856   | 0.4541612214195094 |   5   |\n+------------+--------------------+-------+\n[1 rows x 3 columns]\n\n\nPer Item RMSE (best)\n+-----------+----------------------+-------+\n| productId |         rmse         | count |\n+-----------+----------------------+-------+\n|   21913C  | 0.014287992301084457 |   16  |\n+-----------+----------------------+-------+\n[1 rows x 3 columns]\n\n\nPer Item RMSE (worst)\n+-----------+------+-------+\n| productId | rmse | count |\n+-----------+------+-------+\n|   85089Y  | 1.0  |   2   |\n+-----------+------+-------+\n[1 rows x 3 columns]\n\n"
                }
            ], 
            "source": "eval_norm = tc.recommender.util.compare_models(test_data_norm, models_w_norm, model_names=names_w_norm)"
        }, 
        {
            "source": "## 8. Model Selection\n### 8.1. Evaluation summary\n* Based on RMSE\n\n\n    1. Popularity on purchase counts: 1.1111750034210488\n    2. Cosine similarity on purchase counts: 1.9230643981653215\n    3. Pearson similarity on purchase counts: 1.9231102838192284\n    \n    4. Popularity on purchase dummy: 0.9697374361161925\n    5. Cosine similarity on purchase dummy: 0.9697509978436404\n    6. Pearson similarity on purchase dummy: 0.9697745320187097\n    \n    7. Popularity on scaled purchase counts: 0.16230660626840343\n    8. Cosine similarity on scaled purchase counts: 0.16229800354111104\n    9. Pearson similarity on scaled purchase counts: 0.1622982668334026\n    \n* Based on Precision and Recall\n![](../images/model_comparisons.png)\n", 
            "cell_type": "markdown", 
            "metadata": {}
        }, 
        {
            "source": "#### Notes\n\n* Popularity v. Collaborative Filtering: We can see that the collaborative filtering algorithms work better than popularity model for purchase counts. Indeed, popularity model doesn\u2019t give any personalizations as it only gives the same list of recommended items to every user.\n* Precision and recall: Looking at the summary above, we see that the precision and recall for Purchase Counts > Purchase Dummy > Normalized Purchase Counts. However, because the recommendation scores for the normalized purchase data is zero and constant, we choose the dummy. In fact, the RMSE isn\u2019t much different between models on the dummy and those on the normalized data.\n* RMSE: Since RMSE is higher using pearson distance thancosine, we would choose model the smaller mean squared errors, which in this case would be cosine.\nTherefore, we select the Cosine similarity on Purchase Dummy approach as our final model.", 
            "cell_type": "markdown", 
            "metadata": {}
        }, 
        {
            "source": "## 8. Final Output\n* In this step, we would like to manipulate format for recommendation output to one we can export to csv, and also a function that will return recommendation list given a customer ID.\n* We need to first rerun the model using the whole dataset, as we came to a final model using train data and evaluated with test set.", 
            "cell_type": "markdown", 
            "metadata": {}
        }, 
        {
            "execution_count": 43, 
            "cell_type": "code", 
            "metadata": {}, 
            "outputs": [
                {
                    "output_type": "display_data", 
                    "data": {
                        "text/html": "<pre>Preparing data set.</pre>", 
                        "text/plain": "Preparing data set."
                    }, 
                    "metadata": {}
                }, 
                {
                    "output_type": "display_data", 
                    "data": {
                        "text/html": "<pre>    Data has 271031 observations with 972 users and 3810 items.</pre>", 
                        "text/plain": "    Data has 271031 observations with 972 users and 3810 items."
                    }, 
                    "metadata": {}
                }, 
                {
                    "output_type": "display_data", 
                    "data": {
                        "text/html": "<pre>    Data prepared in: 0.814579s</pre>", 
                        "text/plain": "    Data prepared in: 0.814579s"
                    }, 
                    "metadata": {}
                }, 
                {
                    "output_type": "display_data", 
                    "data": {
                        "text/html": "<pre>Training model from provided data.</pre>", 
                        "text/plain": "Training model from provided data."
                    }, 
                    "metadata": {}
                }, 
                {
                    "output_type": "display_data", 
                    "data": {
                        "text/html": "<pre>Gathering per-item and per-user statistics.</pre>", 
                        "text/plain": "Gathering per-item and per-user statistics."
                    }, 
                    "metadata": {}
                }, 
                {
                    "output_type": "display_data", 
                    "data": {
                        "text/html": "<pre>+--------------------------------+------------+</pre>", 
                        "text/plain": "+--------------------------------+------------+"
                    }, 
                    "metadata": {}
                }, 
                {
                    "output_type": "display_data", 
                    "data": {
                        "text/html": "<pre>| Elapsed Time (Item Statistics) | % Complete |</pre>", 
                        "text/plain": "| Elapsed Time (Item Statistics) | % Complete |"
                    }, 
                    "metadata": {}
                }, 
                {
                    "output_type": "display_data", 
                    "data": {
                        "text/html": "<pre>+--------------------------------+------------+</pre>", 
                        "text/plain": "+--------------------------------+------------+"
                    }, 
                    "metadata": {}
                }, 
                {
                    "output_type": "display_data", 
                    "data": {
                        "text/html": "<pre>| 537.68ms                       | 100        |</pre>", 
                        "text/plain": "| 537.68ms                       | 100        |"
                    }, 
                    "metadata": {}
                }, 
                {
                    "output_type": "display_data", 
                    "data": {
                        "text/html": "<pre>+--------------------------------+------------+</pre>", 
                        "text/plain": "+--------------------------------+------------+"
                    }, 
                    "metadata": {}
                }, 
                {
                    "output_type": "display_data", 
                    "data": {
                        "text/html": "<pre>Setting up lookup tables.</pre>", 
                        "text/plain": "Setting up lookup tables."
                    }, 
                    "metadata": {}
                }, 
                {
                    "output_type": "display_data", 
                    "data": {
                        "text/html": "<pre>Processing data in one pass using dense lookup tables.</pre>", 
                        "text/plain": "Processing data in one pass using dense lookup tables."
                    }, 
                    "metadata": {}
                }, 
                {
                    "output_type": "display_data", 
                    "data": {
                        "text/html": "<pre>+-------------------------------------+------------------+-----------------+</pre>", 
                        "text/plain": "+-------------------------------------+------------------+-----------------+"
                    }, 
                    "metadata": {}
                }, 
                {
                    "output_type": "display_data", 
                    "data": {
                        "text/html": "<pre>| Elapsed Time (Constructing Lookups) | Total % Complete | Items Processed |</pre>", 
                        "text/plain": "| Elapsed Time (Constructing Lookups) | Total % Complete | Items Processed |"
                    }, 
                    "metadata": {}
                }, 
                {
                    "output_type": "display_data", 
                    "data": {
                        "text/html": "<pre>+-------------------------------------+------------------+-----------------+</pre>", 
                        "text/plain": "+-------------------------------------+------------------+-----------------+"
                    }, 
                    "metadata": {}
                }, 
                {
                    "output_type": "display_data", 
                    "data": {
                        "text/html": "<pre>| 597.608ms                           | 0.5              | 23              |</pre>", 
                        "text/plain": "| 597.608ms                           | 0.5              | 23              |"
                    }, 
                    "metadata": {}
                }, 
                {
                    "output_type": "display_data", 
                    "data": {
                        "text/html": "<pre>| 2.57s                               | 100              | 3810            |</pre>", 
                        "text/plain": "| 2.57s                               | 100              | 3810            |"
                    }, 
                    "metadata": {}
                }, 
                {
                    "output_type": "display_data", 
                    "data": {
                        "text/html": "<pre>+-------------------------------------+------------------+-----------------+</pre>", 
                        "text/plain": "+-------------------------------------+------------------+-----------------+"
                    }, 
                    "metadata": {}
                }, 
                {
                    "output_type": "display_data", 
                    "data": {
                        "text/html": "<pre>Finalizing lookup tables.</pre>", 
                        "text/plain": "Finalizing lookup tables."
                    }, 
                    "metadata": {}
                }, 
                {
                    "output_type": "display_data", 
                    "data": {
                        "text/html": "<pre>Generating candidate set for working with new users.</pre>", 
                        "text/plain": "Generating candidate set for working with new users."
                    }, 
                    "metadata": {}
                }, 
                {
                    "output_type": "display_data", 
                    "data": {
                        "text/html": "<pre>Finished training in 2.83747s</pre>", 
                        "text/plain": "Finished training in 2.83747s"
                    }, 
                    "metadata": {}
                }, 
                {
                    "output_type": "stream", 
                    "name": "stdout", 
                    "text": "+------------+-----------+---------------------+------+\n| customerId | productId |        score        | rank |\n+------------+-----------+---------------------+------+\n|   127269   |   20725N  | 0.33143950343132017 |  1   |\n|   127269   |  85099BJ  |  0.3211128902435303 |  2   |\n|   127269   |   22697A  |  0.3145043194293976 |  3   |\n|   127269   |   20726C  |  0.3144213151931763 |  4   |\n|   127269   |  85123AY  | 0.30583531856536866 |  5   |\n|   127269   |   22423U  | 0.30275015115737913 |  6   |\n|   127269   |   20719E  | 0.30248897910118105 |  7   |\n|   127269   |   21212D  | 0.30203301191329956 |  8   |\n|   127269   |   22383K  |  0.3003305244445801 |  9   |\n|   127269   |   22411U  |  0.2998951661586762 |  10  |\n|   227268   |   20725N  | 0.33143950343132017 |  1   |\n|   227268   |  85099BJ  |  0.3211128902435303 |  2   |\n|   227268   |   22697A  |  0.3145043194293976 |  3   |\n|   227268   |   20726C  |  0.3144213151931763 |  4   |\n|   227268   |  85123AY  | 0.30583531856536866 |  5   |\n|   227268   |   22423U  | 0.30275015115737913 |  6   |\n|   227268   |   20719E  | 0.30248897910118105 |  7   |\n|   227268   |   21212D  | 0.30203301191329956 |  8   |\n|   227268   |   22383K  |  0.3003305244445801 |  9   |\n|   227268   |   22411U  |  0.2998951661586762 |  10  |\n|   327267   |   20725N  | 0.33143950343132017 |  1   |\n|   327267   |  85099BJ  |  0.3211128902435303 |  2   |\n|   327267   |   22697A  |  0.3145043194293976 |  3   |\n|   327267   |   20726C  |  0.3144213151931763 |  4   |\n|   327267   |  85123AY  | 0.30583531856536866 |  5   |\n|   327267   |   22423U  | 0.30275015115737913 |  6   |\n|   327267   |   20719E  | 0.30248897910118105 |  7   |\n|   327267   |   21212D  | 0.30203301191329956 |  8   |\n|   327267   |   22383K  |  0.3003305244445801 |  9   |\n|   327267   |   22411U  |  0.2998951661586762 |  10  |\n+------------+-----------+---------------------+------+\n[6280 rows x 4 columns]\n\n"
                }
            ], 
            "source": "users_to_recommend = list(customers[user_id])\n\nfinal_model = tc.item_similarity_recommender.create(tc.SFrame(data), \n                                            user_id=user_id, \n                                            item_id=item_id, \n                                            target='purchase_count', \n                                            similarity_type='cosine')\n\nrecom = final_model.recommend(users=users_to_recommend, k=n_rec)\nrecom.print_rows(n_display)"
        }, 
        {
            "source": "### 8.1. CSV output file", 
            "cell_type": "markdown", 
            "metadata": {}
        }, 
        {
            "execution_count": 44, 
            "cell_type": "code", 
            "metadata": {}, 
            "outputs": [
                {
                    "output_type": "stream", 
                    "name": "stdout", 
                    "text": "(6280, 4)\n"
                }, 
                {
                    "execution_count": 44, 
                    "metadata": {}, 
                    "data": {
                        "text/html": "<div>\n<style scoped>\n    .dataframe tbody tr th:only-of-type {\n        vertical-align: middle;\n    }\n\n    .dataframe tbody tr th {\n        vertical-align: top;\n    }\n\n    .dataframe thead th {\n        text-align: right;\n    }\n</style>\n<table border=\"1\" class=\"dataframe\">\n  <thead>\n    <tr style=\"text-align: right;\">\n      <th></th>\n      <th>customerId</th>\n      <th>productId</th>\n      <th>score</th>\n      <th>rank</th>\n    </tr>\n  </thead>\n  <tbody>\n    <tr>\n      <th>0</th>\n      <td>127269</td>\n      <td>20725N</td>\n      <td>0.331440</td>\n      <td>1</td>\n    </tr>\n    <tr>\n      <th>1</th>\n      <td>127269</td>\n      <td>85099BJ</td>\n      <td>0.321113</td>\n      <td>2</td>\n    </tr>\n    <tr>\n      <th>2</th>\n      <td>127269</td>\n      <td>22697A</td>\n      <td>0.314504</td>\n      <td>3</td>\n    </tr>\n    <tr>\n      <th>3</th>\n      <td>127269</td>\n      <td>20726C</td>\n      <td>0.314421</td>\n      <td>4</td>\n    </tr>\n    <tr>\n      <th>4</th>\n      <td>127269</td>\n      <td>85123AY</td>\n      <td>0.305835</td>\n      <td>5</td>\n    </tr>\n    <tr>\n      <th>5</th>\n      <td>127269</td>\n      <td>22423U</td>\n      <td>0.302750</td>\n      <td>6</td>\n    </tr>\n    <tr>\n      <th>6</th>\n      <td>127269</td>\n      <td>20719E</td>\n      <td>0.302489</td>\n      <td>7</td>\n    </tr>\n    <tr>\n      <th>7</th>\n      <td>127269</td>\n      <td>21212D</td>\n      <td>0.302033</td>\n      <td>8</td>\n    </tr>\n    <tr>\n      <th>8</th>\n      <td>127269</td>\n      <td>22383K</td>\n      <td>0.300331</td>\n      <td>9</td>\n    </tr>\n    <tr>\n      <th>9</th>\n      <td>127269</td>\n      <td>22411U</td>\n      <td>0.299895</td>\n      <td>10</td>\n    </tr>\n  </tbody>\n</table>\n</div>", 
                        "text/plain": "   customerId productId     score  rank\n0      127269    20725N  0.331440     1\n1      127269   85099BJ  0.321113     2\n2      127269    22697A  0.314504     3\n3      127269    20726C  0.314421     4\n4      127269   85123AY  0.305835     5\n5      127269    22423U  0.302750     6\n6      127269    20719E  0.302489     7\n7      127269    21212D  0.302033     8\n8      127269    22383K  0.300331     9\n9      127269    22411U  0.299895    10"
                    }, 
                    "output_type": "execute_result"
                }
            ], 
            "source": "df_rec = recom.to_dataframe()\nprint(df_rec.shape)\ndf_rec.head(10)"
        }, 
        {
            "execution_count": 52, 
            "cell_type": "code", 
            "metadata": {}, 
            "outputs": [], 
            "source": "# df_rec1 = df_rec.to_dataframe()\nimport json\ndf2_unique = df_rec.drop_duplicates(subset='customerId')\nfinal_recom = df2_unique.filter(['customerId',str('productId')])\nfinal_recom = final_recom.rename(columns={'customerId': 'CustomerID', 'productId':'Items'})\nfinal_recom['Items'] = final_recom['Items'].apply(lambda x: \"'\" + str(x) + \"'\")\nfinal_recom['Items'] = '[' + final_recom['Items'].astype(str) + ']'"
        }, 
        {
            "execution_count": 58, 
            "cell_type": "code", 
            "metadata": {
                "scrolled": true
            }, 
            "outputs": [
                {
                    "execution_count": 58, 
                    "metadata": {}, 
                    "data": {
                        "text/plain": "{'asset_id': 'c55f8ed8-9251-43fc-ab00-638411059644',\n 'bucket_name': 'recommendationsystemforpurchaseda-donotdelete-pr-l0bytgn7jogfsi',\n 'file_name': 'recommended_purchase.csv',\n 'message': 'File saved to project storage.'}"
                    }, 
                    "output_type": "execute_result"
                }
            ], 
            "source": "project.save_data(data=final_recom.to_csv(index=False,sep=','),file_name='recommended_purchase.csv',overwrite=True)"
        }, 
        {
            "execution_count": 54, 
            "cell_type": "code", 
            "metadata": {}, 
            "outputs": [
                {
                    "output_type": "stream", 
                    "name": "stdout", 
                    "text": "(628, 2)\n"
                }, 
                {
                    "execution_count": 54, 
                    "metadata": {}, 
                    "data": {
                        "text/html": "<div>\n<style scoped>\n    .dataframe tbody tr th:only-of-type {\n        vertical-align: middle;\n    }\n\n    .dataframe tbody tr th {\n        vertical-align: top;\n    }\n\n    .dataframe thead th {\n        text-align: right;\n    }\n</style>\n<table border=\"1\" class=\"dataframe\">\n  <thead>\n    <tr style=\"text-align: right;\">\n      <th></th>\n      <th>CustomerID</th>\n      <th>Items</th>\n    </tr>\n  </thead>\n  <tbody>\n    <tr>\n      <th>0</th>\n      <td>127269</td>\n      <td>['20725N']</td>\n    </tr>\n    <tr>\n      <th>10</th>\n      <td>227268</td>\n      <td>['20725N']</td>\n    </tr>\n    <tr>\n      <th>20</th>\n      <td>327267</td>\n      <td>['20725N']</td>\n    </tr>\n    <tr>\n      <th>30</th>\n      <td>162738</td>\n      <td>['20725N']</td>\n    </tr>\n    <tr>\n      <th>40</th>\n      <td>252747</td>\n      <td>['20725N']</td>\n    </tr>\n    <tr>\n      <th>50</th>\n      <td>347247</td>\n      <td>['20725N']</td>\n    </tr>\n    <tr>\n      <th>60</th>\n      <td>442755</td>\n      <td>['20725N']</td>\n    </tr>\n    <tr>\n      <th>70</th>\n      <td>342756</td>\n      <td>['20725N']</td>\n    </tr>\n    <tr>\n      <th>80</th>\n      <td>57240</td>\n      <td>['20725N']</td>\n    </tr>\n    <tr>\n      <th>90</th>\n      <td>357237</td>\n      <td>['20725N']</td>\n    </tr>\n    <tr>\n      <th>100</th>\n      <td>531765</td>\n      <td>['20725N']</td>\n    </tr>\n    <tr>\n      <th>110</th>\n      <td>131769</td>\n      <td>['20725N']</td>\n    </tr>\n    <tr>\n      <th>120</th>\n      <td>31770</td>\n      <td>['20725N']</td>\n    </tr>\n    <tr>\n      <th>130</th>\n      <td>78219</td>\n      <td>['20725N']</td>\n    </tr>\n    <tr>\n      <th>140</th>\n      <td>511785</td>\n      <td>['20725N']</td>\n    </tr>\n    <tr>\n      <th>150</th>\n      <td>108189</td>\n      <td>['20725N']</td>\n    </tr>\n    <tr>\n      <th>160</th>\n      <td>171828</td>\n      <td>['20725N']</td>\n    </tr>\n    <tr>\n      <th>170</th>\n      <td>530865</td>\n      <td>['20725N']</td>\n    </tr>\n    <tr>\n      <th>180</th>\n      <td>269127</td>\n      <td>['20725N']</td>\n    </tr>\n    <tr>\n      <th>190</th>\n      <td>510885</td>\n      <td>['20725N']</td>\n    </tr>\n  </tbody>\n</table>\n</div>", 
                        "text/plain": "     CustomerID       Items\n0        127269  ['20725N']\n10       227268  ['20725N']\n20       327267  ['20725N']\n30       162738  ['20725N']\n40       252747  ['20725N']\n50       347247  ['20725N']\n60       442755  ['20725N']\n70       342756  ['20725N']\n80        57240  ['20725N']\n90       357237  ['20725N']\n100      531765  ['20725N']\n110      131769  ['20725N']\n120       31770  ['20725N']\n130       78219  ['20725N']\n140      511785  ['20725N']\n150      108189  ['20725N']\n160      171828  ['20725N']\n170      530865  ['20725N']\n180      269127  ['20725N']\n190      510885  ['20725N']"
                    }, 
                    "output_type": "execute_result"
                }
            ], 
            "source": "print(final_recom.shape)\nfinal_recom.head(20)"
        }, 
        {
            "execution_count": 46, 
            "cell_type": "code", 
            "metadata": {}, 
            "outputs": [], 
            "source": "df_rec['recommendedProducts'] = df_rec.groupby([user_id])[item_id].transform(lambda x: '|'.join(x.astype(str)))\ndf_output = df_rec[['customerId', 'recommendedProducts']].drop_duplicates().sort_values('customerId').set_index('customerId')"
        }, 
        {
            "source": "#### Define a function to create a desired output", 
            "cell_type": "markdown", 
            "metadata": {}
        }, 
        {
            "execution_count": 47, 
            "cell_type": "code", 
            "metadata": {}, 
            "outputs": [], 
            "source": "def create_output(model, users_to_recommend, n_rec, print_csv=True):\n    recomendation = model.recommend(users=users_to_recommend, k=n_rec)\n    df_rec = recomendation.to_dataframe()\n    df_rec['recommendedProducts'] = df_rec.groupby([user_id])[item_id] \\\n        .transform(lambda x: '|'.join(x.astype(str)))\n    df_output = df_rec[['customerId', 'recommendedProducts']].drop_duplicates() \\\n        .sort_values('customerId').set_index('customerId')\n    if print_csv:\n        df_output.to_csv('recommendation_output.csv')\n    return df_output"
        }, 
        {
            "execution_count": 48, 
            "cell_type": "code", 
            "metadata": {}, 
            "outputs": [
                {
                    "output_type": "stream", 
                    "name": "stdout", 
                    "text": "(628, 1)\n"
                }, 
                {
                    "execution_count": 48, 
                    "metadata": {}, 
                    "data": {
                        "text/html": "<div>\n<style scoped>\n    .dataframe tbody tr th:only-of-type {\n        vertical-align: middle;\n    }\n\n    .dataframe tbody tr th {\n        vertical-align: top;\n    }\n\n    .dataframe thead th {\n        text-align: right;\n    }\n</style>\n<table border=\"1\" class=\"dataframe\">\n  <thead>\n    <tr style=\"text-align: right;\">\n      <th></th>\n      <th>recommendedProducts</th>\n    </tr>\n    <tr>\n      <th>customerId</th>\n      <th></th>\n    </tr>\n  </thead>\n  <tbody>\n    <tr>\n      <th>1890</th>\n      <td>85089Y|85189T|23442T|21196B|84548X|21816Y|9006...</td>\n    </tr>\n    <tr>\n      <th>2700</th>\n      <td>85089Y|85189T|23442T|21196B|84548X|21816Y|9006...</td>\n    </tr>\n    <tr>\n      <th>3600</th>\n      <td>85089Y|85189T|23442T|21196B|84548X|21816Y|9006...</td>\n    </tr>\n    <tr>\n      <th>3690</th>\n      <td>85089Y|85189T|23442T|21196B|84548X|21816Y|9006...</td>\n    </tr>\n    <tr>\n      <th>4500</th>\n      <td>85089Y|85189T|23442T|21196B|84548X|21816Y|9006...</td>\n    </tr>\n    <tr>\n      <th>5490</th>\n      <td>85089Y|85189T|23442T|21196B|84548X|21816Y|9006...</td>\n    </tr>\n    <tr>\n      <th>8190</th>\n      <td>85089Y|85189T|23442T|21196B|84548X|21816Y|9006...</td>\n    </tr>\n    <tr>\n      <th>9090</th>\n      <td>85089Y|85189T|23442T|21196B|84548X|21816Y|9006...</td>\n    </tr>\n    <tr>\n      <th>13680</th>\n      <td>85089Y|85189T|23442T|21196B|84548X|21816Y|9006...</td>\n    </tr>\n    <tr>\n      <th>14490</th>\n      <td>85089Y|85189T|23442T|21196B|84548X|21816Y|9006...</td>\n    </tr>\n    <tr>\n      <th>14580</th>\n      <td>85089Y|85189T|23442T|21196B|84548X|21816Y|9006...</td>\n    </tr>\n    <tr>\n      <th>15390</th>\n      <td>85089Y|85189T|23442T|21196B|84548X|21816Y|9006...</td>\n    </tr>\n  </tbody>\n</table>\n</div>", 
                        "text/plain": "                                          recommendedProducts\ncustomerId                                                   \n1890        85089Y|85189T|23442T|21196B|84548X|21816Y|9006...\n2700        85089Y|85189T|23442T|21196B|84548X|21816Y|9006...\n3600        85089Y|85189T|23442T|21196B|84548X|21816Y|9006...\n3690        85089Y|85189T|23442T|21196B|84548X|21816Y|9006...\n4500        85089Y|85189T|23442T|21196B|84548X|21816Y|9006...\n5490        85089Y|85189T|23442T|21196B|84548X|21816Y|9006...\n8190        85089Y|85189T|23442T|21196B|84548X|21816Y|9006...\n9090        85089Y|85189T|23442T|21196B|84548X|21816Y|9006...\n13680       85089Y|85189T|23442T|21196B|84548X|21816Y|9006...\n14490       85089Y|85189T|23442T|21196B|84548X|21816Y|9006...\n14580       85089Y|85189T|23442T|21196B|84548X|21816Y|9006...\n15390       85089Y|85189T|23442T|21196B|84548X|21816Y|9006..."
                    }, 
                    "output_type": "execute_result"
                }
            ], 
            "source": "df_output = create_output(pear_norm, users_to_recommend, n_rec, print_csv=True)\nrec_output=df_output.drop_duplicates()\nproject.save_data(data=rec_output.to_csv(index=False),file_name='recommendation_output.csv',overwrite=True)\nprint(df_output.shape)\ndf_output.head(12)"
        }, 
        {
            "source": "### 8.2. Customer recommendation function", 
            "cell_type": "markdown", 
            "metadata": {}
        }, 
        {
            "execution_count": 49, 
            "cell_type": "code", 
            "metadata": {}, 
            "outputs": [], 
            "source": "def customer_recomendation(customer_id):\n    if customer_id not in df_output.index:\n        print('Customer not found.')\n        return customer_id\n    return df_output.loc[customer_id]"
        }, 
        {
            "execution_count": 50, 
            "cell_type": "code", 
            "metadata": {}, 
            "outputs": [
                {
                    "execution_count": 50, 
                    "metadata": {}, 
                    "data": {
                        "text/plain": "recommendedProducts    85089Y|85189T|23442T|21196B|84548X|21816Y|9006...\nName: 19980, dtype: object"
                    }, 
                    "output_type": "execute_result"
                }
            ], 
            "source": "customer_recomendation(19980)"
        }, 
        {
            "execution_count": 51, 
            "cell_type": "code", 
            "metadata": {}, 
            "outputs": [
                {
                    "execution_count": 51, 
                    "metadata": {}, 
                    "data": {
                        "text/plain": "recommendedProducts    85089Y|85189T|23442T|21196B|84548X|21816Y|9006...\nName: 15390, dtype: object"
                    }, 
                    "output_type": "execute_result"
                }
            ], 
            "source": "customer_recomendation(15390)"
        }, 
        {
            "source": "## Summary\nIn this exercise, we were able to traverse a step-by-step process for making recommendations to customers. We used Collaborative Filtering approaches with `cosine` and `pearson` measure and compare the models with our baseline popularity model. We also prepared three sets of data that include regular buying count, buying dummy, as well as normalized purchase frequency as our target variable. Using RMSE, precision and recall, we evaluated our models and observed the impact of personalization. Finally, we selected the Cosine approach in dummy purchase data. ", 
            "cell_type": "markdown", 
            "metadata": {
                "collapsed": true
            }
        }, 
        {
            "execution_count": null, 
            "cell_type": "code", 
            "metadata": {}, 
            "outputs": [], 
            "source": ""
        }
    ], 
    "metadata": {
        "kernelspec": {
            "display_name": "Python 3.5", 
            "name": "python3", 
            "language": "python"
        }, 
        "language_info": {
            "mimetype": "text/x-python", 
            "nbconvert_exporter": "python", 
            "version": "3.5.5", 
            "name": "python", 
            "file_extension": ".py", 
            "pygments_lexer": "ipython3", 
            "codemirror_mode": {
                "version": 3, 
                "name": "ipython"
            }
        }
    }, 
    "nbformat": 4
}