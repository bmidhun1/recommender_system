{
    "nbformat_minor": 2, 
    "cells": [
        {
            "execution_count": 3, 
            "cell_type": "code", 
            "metadata": {}, 
            "outputs": [], 
            "source": "#The project token is an authorization token that is used to access project resources like data sources, connections, and used by platform APIs. It is a hidden cell!"
        }, 
        {
            "execution_count": 4, 
            "cell_type": "code", 
            "metadata": {}, 
            "outputs": [], 
            "source": "# The code was removed by Watson Studio for sharing."
        }, 
        {
            "execution_count": 5, 
            "cell_type": "code", 
            "metadata": {}, 
            "outputs": [
                {
                    "output_type": "stream", 
                    "name": "stdout", 
                    "text": "Collecting turicreate\n\u001b[?25l  Downloading https://files.pythonhosted.org/packages/98/85/222a4ab94b1908b32bf9ea21226656b946960cab7a359949aaacea580d39/turicreate-5.6-cp35-cp35m-manylinux1_x86_64.whl (86.1MB)\n\u001b[K    100% |\u2588\u2588\u2588\u2588\u2588\u2588\u2588\u2588\u2588\u2588\u2588\u2588\u2588\u2588\u2588\u2588\u2588\u2588\u2588\u2588\u2588\u2588\u2588\u2588\u2588\u2588\u2588\u2588\u2588\u2588\u2588\u2588| 86.1MB 385kB/s eta 0:00:01\n\u001b[?25hRequirement already satisfied: requests>=2.9.1 in /opt/conda/envs/DSX-Python35/lib/python3.5/site-packages (from turicreate) (2.18.4)\nCollecting resampy==0.2.1 (from turicreate)\n\u001b[?25l  Downloading https://files.pythonhosted.org/packages/14/b6/66a06d85474190b50aee1a6c09cdc95bb405ac47338b27e9b21409da1760/resampy-0.2.1.tar.gz (322kB)\n\u001b[K    100% |\u2588\u2588\u2588\u2588\u2588\u2588\u2588\u2588\u2588\u2588\u2588\u2588\u2588\u2588\u2588\u2588\u2588\u2588\u2588\u2588\u2588\u2588\u2588\u2588\u2588\u2588\u2588\u2588\u2588\u2588\u2588\u2588| 327kB 30.4MB/s ta 0:00:01\n\u001b[?25hRequirement already satisfied: scipy>=0.14.0 in /opt/conda/envs/DSX-Python35/lib/python3.5/site-packages (from turicreate) (1.0.0)\nCollecting mxnet<1.2.0,>=1.1.0 (from turicreate)\n\u001b[?25l  Downloading https://files.pythonhosted.org/packages/96/98/c9877e100c3d1ac92263bfaba7bb8a49294e099046592040a2ff8620ac61/mxnet-1.1.0.post0-py2.py3-none-manylinux1_x86_64.whl (23.8MB)\n\u001b[K    100% |\u2588\u2588\u2588\u2588\u2588\u2588\u2588\u2588\u2588\u2588\u2588\u2588\u2588\u2588\u2588\u2588\u2588\u2588\u2588\u2588\u2588\u2588\u2588\u2588\u2588\u2588\u2588\u2588\u2588\u2588\u2588\u2588| 23.8MB 1.4MB/s eta 0:00:01\n\u001b[?25hRequirement already satisfied: six>=1.10.0 in /opt/conda/envs/DSX-Python35/lib/python3.5/site-packages (from turicreate) (1.11.0)\nCollecting prettytable==0.7.2 (from turicreate)\n  Downloading https://files.pythonhosted.org/packages/ef/30/4b0746848746ed5941f052479e7c23d2b56d174b82f4fd34a25e389831f5/prettytable-0.7.2.tar.bz2\nRequirement already satisfied: numpy in /opt/conda/envs/DSX-Python35/lib/python3.5/site-packages (from turicreate) (1.13.3)\nRequirement already satisfied: pillow>=3.3.0 in /opt/conda/envs/DSX-Python35/lib/python3.5/site-packages (from turicreate) (4.2.1)\nRequirement already satisfied: decorator>=4.0.9 in /opt/conda/envs/DSX-Python35/lib/python3.5/site-packages (from turicreate) (4.1.2)\nCollecting coremltools==2.1.0 (from turicreate)\n\u001b[?25l  Downloading https://files.pythonhosted.org/packages/24/70/d3af1248bec195c33d95fb1778e887cd5317bf8eb238e847afe6237cd30f/coremltools-2.1.0-cp35-none-manylinux1_x86_64.whl (2.7MB)\n\u001b[K    100% |\u2588\u2588\u2588\u2588\u2588\u2588\u2588\u2588\u2588\u2588\u2588\u2588\u2588\u2588\u2588\u2588\u2588\u2588\u2588\u2588\u2588\u2588\u2588\u2588\u2588\u2588\u2588\u2588\u2588\u2588\u2588\u2588| 2.7MB 10.6MB/s ta 0:00:01\n\u001b[?25hRequirement already satisfied: pandas>=0.19.0 in /opt/conda/envs/DSX-Python35/lib/python3.5/site-packages (from turicreate) (0.21.0)\nRequirement already satisfied: chardet<3.1.0,>=3.0.2 in /opt/conda/envs/DSX-Python35/lib/python3.5/site-packages (from requests>=2.9.1->turicreate) (3.0.4)\nRequirement already satisfied: idna<2.7,>=2.5 in /opt/conda/envs/DSX-Python35/lib/python3.5/site-packages (from requests>=2.9.1->turicreate) (2.6)\nRequirement already satisfied: urllib3<1.23,>=1.21.1 in /opt/conda/envs/DSX-Python35/lib/python3.5/site-packages (from requests>=2.9.1->turicreate) (1.22)\nRequirement already satisfied: certifi>=2017.4.17 in /opt/conda/envs/DSX-Python35/lib/python3.5/site-packages (from requests>=2.9.1->turicreate) (2019.6.16)\nRequirement already satisfied: numba>=0.32 in /opt/conda/envs/DSX-Python35/lib/python3.5/site-packages (from resampy==0.2.1->turicreate) (0.35.0+10.g143f70e90)\nCollecting graphviz<0.9.0,>=0.8.1 (from mxnet<1.2.0,>=1.1.0->turicreate)\n  Downloading https://files.pythonhosted.org/packages/53/39/4ab213673844e0c004bed8a0781a0721a3f6bb23eb8854ee75c236428892/graphviz-0.8.4-py2.py3-none-any.whl\nRequirement already satisfied: olefile in /opt/conda/envs/DSX-Python35/lib/python3.5/site-packages (from pillow>=3.3.0->turicreate) (0.44)\nRequirement already satisfied: protobuf>=3.1.0 in /opt/conda/envs/DSX-Python35/lib/python3.5/site-packages (from coremltools==2.1.0->turicreate) (3.4.1)\nRequirement already satisfied: python-dateutil>=2 in /opt/conda/envs/DSX-Python35/lib/python3.5/site-packages (from pandas>=0.19.0->turicreate) (2.6.1)\nRequirement already satisfied: pytz>=2011k in /opt/conda/envs/DSX-Python35/lib/python3.5/site-packages (from pandas>=0.19.0->turicreate) (2018.3)\nRequirement already satisfied: llvmlite in /opt/conda/envs/DSX-Python35/lib/python3.5/site-packages (from numba>=0.32->resampy==0.2.1->turicreate) (0.20.0)\nRequirement already satisfied: setuptools in /opt/conda/envs/DSX-Python35/lib/python3.5/site-packages (from protobuf>=3.1.0->coremltools==2.1.0->turicreate) (36.5.0.post20170921)\nBuilding wheels for collected packages: resampy, prettytable\n  Running setup.py bdist_wheel for resampy ... \u001b[?25ldone\n\u001b[?25h  Stored in directory: /home/dsxuser/.cache/pip/wheels/ff/4f/ed/2e6c676c23efe5394bb40ade50662e90eb46e29b48324c5f9b\n  Running setup.py bdist_wheel for prettytable ... \u001b[?25ldone\n\u001b[?25h  Stored in directory: /home/dsxuser/.cache/pip/wheels/80/34/1c/3967380d9676d162cb59513bd9dc862d0584e045a162095606\nSuccessfully built resampy prettytable\n\u001b[31mtensorflow 1.3.0 requires tensorflow-tensorboard<0.2.0,>=0.1.0, which is not installed.\u001b[0m\nInstalling collected packages: resampy, graphviz, mxnet, prettytable, coremltools, turicreate\nSuccessfully installed coremltools-2.1.0 graphviz-0.8.4 mxnet-1.1.0.post0 prettytable-0.7.2 resampy-0.2.1 turicreate-5.6\n"
                }
            ], 
            "source": "!pip install turicreate"
        }, 
        {
            "execution_count": 6, 
            "cell_type": "code", 
            "metadata": {}, 
            "outputs": [], 
            "source": "%load_ext autoreload\n%autoreload 2\n\nimport pandas as pd\nimport numpy as np\nimport time\nimport turicreate as tc\nfrom sklearn.model_selection import train_test_split\n\nimport sys\nsys.path.append(\"..\")"
        }, 
        {
            "execution_count": 7, 
            "cell_type": "code", 
            "metadata": {}, 
            "outputs": [], 
            "source": "#Insert TRAINING data in this cell using \"Insert to code\" on the right\n#df_data_1 = pd.read_csv(body)\n#df_data_1.head()"
        }, 
        {
            "execution_count": 9, 
            "cell_type": "code", 
            "metadata": {}, 
            "outputs": [
                {
                    "execution_count": 9, 
                    "metadata": {}, 
                    "data": {
                        "text/html": "<div>\n<style scoped>\n    .dataframe tbody tr th:only-of-type {\n        vertical-align: middle;\n    }\n\n    .dataframe tbody tr th {\n        vertical-align: top;\n    }\n\n    .dataframe thead th {\n        text-align: right;\n    }\n</style>\n<table border=\"1\" class=\"dataframe\">\n  <thead>\n    <tr style=\"text-align: right;\">\n      <th></th>\n      <th>CustomerID</th>\n      <th>InvoiceNo</th>\n      <th>Quantity</th>\n      <th>InvoiceDate</th>\n      <th>UnitPrice</th>\n      <th>Country</th>\n      <th>StockCode</th>\n    </tr>\n  </thead>\n  <tbody>\n    <tr>\n      <th>0</th>\n      <td>27270</td>\n      <td>27270</td>\n      <td>7</td>\n      <td>01/12/10 8:26</td>\n      <td>2.55</td>\n      <td>PX</td>\n      <td>85123AY</td>\n    </tr>\n    <tr>\n      <th>1</th>\n      <td>27270</td>\n      <td>27270</td>\n      <td>7</td>\n      <td>01/12/10 8:26</td>\n      <td>3.39</td>\n      <td>PX</td>\n      <td>71053R</td>\n    </tr>\n    <tr>\n      <th>2</th>\n      <td>27270</td>\n      <td>27270</td>\n      <td>9</td>\n      <td>01/12/10 8:26</td>\n      <td>2.75</td>\n      <td>PX</td>\n      <td>84406BH</td>\n    </tr>\n    <tr>\n      <th>3</th>\n      <td>27270</td>\n      <td>27270</td>\n      <td>7</td>\n      <td>01/12/10 8:26</td>\n      <td>3.39</td>\n      <td>PX</td>\n      <td>84029GV</td>\n    </tr>\n    <tr>\n      <th>4</th>\n      <td>27270</td>\n      <td>27270</td>\n      <td>7</td>\n      <td>01/12/10 8:26</td>\n      <td>3.39</td>\n      <td>PX</td>\n      <td>84029EX</td>\n    </tr>\n  </tbody>\n</table>\n</div>", 
                        "text/plain": "   CustomerID  InvoiceNo  Quantity    InvoiceDate  UnitPrice Country StockCode\n0       27270      27270         7  01/12/10 8:26       2.55      PX   85123AY\n1       27270      27270         7  01/12/10 8:26       3.39      PX    71053R\n2       27270      27270         9  01/12/10 8:26       2.75      PX   84406BH\n3       27270      27270         7  01/12/10 8:26       3.39      PX   84029GV\n4       27270      27270         7  01/12/10 8:26       3.39      PX   84029EX"
                    }, 
                    "output_type": "execute_result"
                }
            ], 
            "source": "# The code was removed by Watson Studio for sharing."
        }, 
        {
            "execution_count": 10, 
            "cell_type": "code", 
            "metadata": {}, 
            "outputs": [
                {
                    "execution_count": 10, 
                    "metadata": {}, 
                    "data": {
                        "text/html": "<div>\n<style scoped>\n    .dataframe tbody tr th:only-of-type {\n        vertical-align: middle;\n    }\n\n    .dataframe tbody tr th {\n        vertical-align: top;\n    }\n\n    .dataframe thead th {\n        text-align: right;\n    }\n</style>\n<table border=\"1\" class=\"dataframe\">\n  <thead>\n    <tr style=\"text-align: right;\">\n      <th></th>\n      <th>customerId</th>\n      <th>products</th>\n    </tr>\n  </thead>\n  <tbody>\n    <tr>\n      <th>0</th>\n      <td>27270</td>\n      <td>85123AY</td>\n    </tr>\n    <tr>\n      <th>1</th>\n      <td>27270</td>\n      <td>71053R</td>\n    </tr>\n    <tr>\n      <th>2</th>\n      <td>27270</td>\n      <td>84406BH</td>\n    </tr>\n    <tr>\n      <th>3</th>\n      <td>27270</td>\n      <td>84029GV</td>\n    </tr>\n    <tr>\n      <th>4</th>\n      <td>27270</td>\n      <td>84029EX</td>\n    </tr>\n  </tbody>\n</table>\n</div>", 
                        "text/plain": "   customerId products\n0       27270  85123AY\n1       27270   71053R\n2       27270  84406BH\n3       27270  84029GV\n4       27270  84029EX"
                    }, 
                    "output_type": "execute_result"
                }
            ], 
            "source": "transactions = df_data_1[['CustomerID','StockCode']]\ntransactions = transactions.rename(columns={'CustomerID': 'customerId', 'StockCode':'products'})\ntransactions.head()"
        }, 
        {
            "execution_count": null, 
            "cell_type": "code", 
            "metadata": {}, 
            "outputs": [], 
            "source": "#Insert TESTING data in this cell using \"Insert to code\" on the right\n#df_data_2 = pd.read_csv(body)\n#df_data_2.head()"
        }, 
        {
            "execution_count": 12, 
            "cell_type": "code", 
            "metadata": {}, 
            "outputs": [
                {
                    "execution_count": 12, 
                    "metadata": {}, 
                    "data": {
                        "text/html": "<div>\n<style scoped>\n    .dataframe tbody tr th:only-of-type {\n        vertical-align: middle;\n    }\n\n    .dataframe tbody tr th {\n        vertical-align: top;\n    }\n\n    .dataframe thead th {\n        text-align: right;\n    }\n</style>\n<table border=\"1\" class=\"dataframe\">\n  <thead>\n    <tr style=\"text-align: right;\">\n      <th></th>\n      <th>customerId</th>\n    </tr>\n  </thead>\n  <tbody>\n    <tr>\n      <th>0</th>\n      <td>127269</td>\n    </tr>\n    <tr>\n      <th>1</th>\n      <td>227268</td>\n    </tr>\n    <tr>\n      <th>6</th>\n      <td>327267</td>\n    </tr>\n    <tr>\n      <th>7</th>\n      <td>162738</td>\n    </tr>\n    <tr>\n      <th>16</th>\n      <td>252747</td>\n    </tr>\n  </tbody>\n</table>\n</div>", 
                        "text/plain": "    customerId\n0       127269\n1       227268\n6       327267\n7       162738\n16      252747"
                    }, 
                    "output_type": "execute_result"
                }
            ], 
            "source": "customers=df_data_2[['CustomerID']]\ncustomers=customers.drop_duplicates('CustomerID')\ncustomers = customers.rename(columns={'CustomerID': 'customerId'})\ncustomers.head()"
        }, 
        {
            "execution_count": 13, 
            "cell_type": "code", 
            "metadata": {}, 
            "outputs": [
                {
                    "output_type": "stream", 
                    "name": "stdout", 
                    "text": "(628, 1)\n"
                }, 
                {
                    "execution_count": 13, 
                    "metadata": {}, 
                    "data": {
                        "text/html": "<div>\n<style scoped>\n    .dataframe tbody tr th:only-of-type {\n        vertical-align: middle;\n    }\n\n    .dataframe tbody tr th {\n        vertical-align: top;\n    }\n\n    .dataframe thead th {\n        text-align: right;\n    }\n</style>\n<table border=\"1\" class=\"dataframe\">\n  <thead>\n    <tr style=\"text-align: right;\">\n      <th></th>\n      <th>customerId</th>\n    </tr>\n  </thead>\n  <tbody>\n    <tr>\n      <th>0</th>\n      <td>127269</td>\n    </tr>\n    <tr>\n      <th>1</th>\n      <td>227268</td>\n    </tr>\n    <tr>\n      <th>6</th>\n      <td>327267</td>\n    </tr>\n    <tr>\n      <th>7</th>\n      <td>162738</td>\n    </tr>\n    <tr>\n      <th>16</th>\n      <td>252747</td>\n    </tr>\n  </tbody>\n</table>\n</div>", 
                        "text/plain": "    customerId\n0       127269\n1       227268\n6       327267\n7       162738\n16      252747"
                    }, 
                    "output_type": "execute_result"
                }
            ], 
            "source": "print(customers.shape)\ncustomers.head()"
        }, 
        {
            "execution_count": 14, 
            "cell_type": "code", 
            "metadata": {}, 
            "outputs": [
                {
                    "output_type": "stream", 
                    "name": "stdout", 
                    "text": "(330575, 2)\n"
                }, 
                {
                    "execution_count": 14, 
                    "metadata": {}, 
                    "data": {
                        "text/html": "<div>\n<style scoped>\n    .dataframe tbody tr th:only-of-type {\n        vertical-align: middle;\n    }\n\n    .dataframe tbody tr th {\n        vertical-align: top;\n    }\n\n    .dataframe thead th {\n        text-align: right;\n    }\n</style>\n<table border=\"1\" class=\"dataframe\">\n  <thead>\n    <tr style=\"text-align: right;\">\n      <th></th>\n      <th>customerId</th>\n      <th>products</th>\n    </tr>\n  </thead>\n  <tbody>\n    <tr>\n      <th>0</th>\n      <td>27270</td>\n      <td>85123AY</td>\n    </tr>\n    <tr>\n      <th>1</th>\n      <td>27270</td>\n      <td>71053R</td>\n    </tr>\n    <tr>\n      <th>2</th>\n      <td>27270</td>\n      <td>84406BH</td>\n    </tr>\n    <tr>\n      <th>3</th>\n      <td>27270</td>\n      <td>84029GV</td>\n    </tr>\n    <tr>\n      <th>4</th>\n      <td>27270</td>\n      <td>84029EX</td>\n    </tr>\n  </tbody>\n</table>\n</div>", 
                        "text/plain": "   customerId products\n0       27270  85123AY\n1       27270   71053R\n2       27270  84406BH\n3       27270  84029GV\n4       27270  84029EX"
                    }, 
                    "output_type": "execute_result"
                }
            ], 
            "source": "print(transactions.shape)\ntransactions.head()"
        }, 
        {
            "source": "## 3. Data preparation\n* Our goal here is to break down each list of items in the `products` column into rows and count the number of products bought by a user", 
            "cell_type": "markdown", 
            "metadata": {}
        }, 
        {
            "execution_count": 15, 
            "cell_type": "code", 
            "metadata": {}, 
            "outputs": [
                {
                    "execution_count": 15, 
                    "metadata": {}, 
                    "data": {
                        "text/html": "<div>\n<style scoped>\n    .dataframe tbody tr th:only-of-type {\n        vertical-align: middle;\n    }\n\n    .dataframe tbody tr th {\n        vertical-align: top;\n    }\n\n    .dataframe thead th {\n        text-align: right;\n    }\n</style>\n<table border=\"1\" class=\"dataframe\">\n  <thead>\n    <tr style=\"text-align: right;\">\n      <th></th>\n      <th>customerId</th>\n      <th>0</th>\n    </tr>\n  </thead>\n  <tbody>\n    <tr>\n      <th>0</th>\n      <td>27270</td>\n      <td>85123AY</td>\n    </tr>\n    <tr>\n      <th>1</th>\n      <td>27270</td>\n      <td>71053R</td>\n    </tr>\n    <tr>\n      <th>2</th>\n      <td>27270</td>\n      <td>84406BH</td>\n    </tr>\n    <tr>\n      <th>3</th>\n      <td>27270</td>\n      <td>84029GV</td>\n    </tr>\n    <tr>\n      <th>4</th>\n      <td>27270</td>\n      <td>84029EX</td>\n    </tr>\n    <tr>\n      <th>5</th>\n      <td>27270</td>\n      <td>22752G</td>\n    </tr>\n    <tr>\n      <th>6</th>\n      <td>27270</td>\n      <td>21730R</td>\n    </tr>\n    <tr>\n      <th>7</th>\n      <td>427266</td>\n      <td>21756Q</td>\n    </tr>\n    <tr>\n      <th>8</th>\n      <td>462735</td>\n      <td>22728B</td>\n    </tr>\n    <tr>\n      <th>9</th>\n      <td>462735</td>\n      <td>22727B</td>\n    </tr>\n  </tbody>\n</table>\n</div>", 
                        "text/plain": "   customerId        0\n0       27270  85123AY\n1       27270   71053R\n2       27270  84406BH\n3       27270  84029GV\n4       27270  84029EX\n5       27270   22752G\n6       27270   21730R\n7      427266   21756Q\n8      462735   22728B\n9      462735   22727B"
                    }, 
                    "output_type": "execute_result"
                }
            ], 
            "source": "# example 1: split product items\ntransactions['products'] = transactions['products'].apply(lambda x: [i for i in x.split('|')])\ntransactions.head(10).set_index('customerId')['products'].apply(pd.Series).reset_index()"
        }, 
        {
            "execution_count": 16, 
            "cell_type": "code", 
            "metadata": {}, 
            "outputs": [
                {
                    "execution_count": 16, 
                    "metadata": {}, 
                    "data": {
                        "text/html": "<div>\n<style scoped>\n    .dataframe tbody tr th:only-of-type {\n        vertical-align: middle;\n    }\n\n    .dataframe tbody tr th {\n        vertical-align: top;\n    }\n\n    .dataframe thead th {\n        text-align: right;\n    }\n</style>\n<table border=\"1\" class=\"dataframe\">\n  <thead>\n    <tr style=\"text-align: right;\">\n      <th></th>\n      <th>customerId</th>\n      <th>productId</th>\n      <th>purchase_count</th>\n    </tr>\n  </thead>\n  <tbody>\n    <tr>\n      <th>0</th>\n      <td>27270</td>\n      <td>71053R</td>\n      <td>1</td>\n    </tr>\n    <tr>\n      <th>1</th>\n      <td>27270</td>\n      <td>85123AY</td>\n      <td>1</td>\n    </tr>\n  </tbody>\n</table>\n</div>", 
                        "text/plain": "   customerId productId  purchase_count\n0       27270    71053R               1\n1       27270   85123AY               1"
                    }, 
                    "output_type": "execute_result"
                }
            ], 
            "source": "# example 2: organize a given table into a dataframe with customerId, single productId, and purchase count\npd.melt(transactions.head(2).set_index('customerId')['products'].apply(pd.Series).reset_index(), \n             id_vars=['customerId'],\n             value_name='products') \\\n    .dropna().drop(['variable'], axis=1) \\\n    .groupby(['customerId', 'products']) \\\n    .agg({'products': 'count'}) \\\n    .rename(columns={'products': 'purchase_count'}) \\\n    .reset_index() \\\n    .rename(columns={'products': 'productId'})"
        }, 
        {
            "source": "### 3.1. Create data with user, item, and target field\n* This table will be an input for our modeling later\n    * In this case, our user is `customerId`, `productId`, and `purchase_count`", 
            "cell_type": "markdown", 
            "metadata": {}
        }, 
        {
            "execution_count": 17, 
            "cell_type": "code", 
            "metadata": {}, 
            "outputs": [
                {
                    "output_type": "stream", 
                    "name": "stdout", 
                    "text": "Execution time: 1.1 minutes\n"
                }
            ], 
            "source": "s=time.time()\n\ndata = pd.melt(transactions.set_index('customerId')['products'].apply(pd.Series).reset_index(), \n             id_vars=['customerId'],\n             value_name='products') \\\n    .dropna().drop(['variable'], axis=1) \\\n    .groupby(['customerId', 'products']) \\\n    .agg({'products': 'count'}) \\\n    .rename(columns={'products': 'purchase_count'}) \\\n    .reset_index() \\\n    .rename(columns={'products': 'productId'})\n# data['productId'] = data['productId'].astype(np.int64)\n\nprint(\"Execution time:\", round((time.time()-s)/60,2), \"minutes\")"
        }, 
        {
            "execution_count": 18, 
            "cell_type": "code", 
            "metadata": {}, 
            "outputs": [
                {
                    "output_type": "stream", 
                    "name": "stdout", 
                    "text": "(271031, 3)\n"
                }, 
                {
                    "execution_count": 18, 
                    "metadata": {}, 
                    "data": {
                        "text/html": "<div>\n<style scoped>\n    .dataframe tbody tr th:only-of-type {\n        vertical-align: middle;\n    }\n\n    .dataframe tbody tr th {\n        vertical-align: top;\n    }\n\n    .dataframe thead th {\n        text-align: right;\n    }\n</style>\n<table border=\"1\" class=\"dataframe\">\n  <thead>\n    <tr style=\"text-align: right;\">\n      <th></th>\n      <th>customerId</th>\n      <th>productId</th>\n      <th>purchase_count</th>\n    </tr>\n  </thead>\n  <tbody>\n    <tr>\n      <th>0</th>\n      <td>0</td>\n      <td>15056BLH</td>\n      <td>1</td>\n    </tr>\n    <tr>\n      <th>1</th>\n      <td>0</td>\n      <td>15056ND</td>\n      <td>1</td>\n    </tr>\n    <tr>\n      <th>2</th>\n      <td>0</td>\n      <td>15058CH</td>\n      <td>1</td>\n    </tr>\n    <tr>\n      <th>3</th>\n      <td>0</td>\n      <td>15060BB</td>\n      <td>1</td>\n    </tr>\n    <tr>\n      <th>4</th>\n      <td>0</td>\n      <td>16218Y</td>\n      <td>1</td>\n    </tr>\n    <tr>\n      <th>5</th>\n      <td>0</td>\n      <td>16235A</td>\n      <td>1</td>\n    </tr>\n    <tr>\n      <th>6</th>\n      <td>0</td>\n      <td>16236S</td>\n      <td>1</td>\n    </tr>\n    <tr>\n      <th>7</th>\n      <td>0</td>\n      <td>17091JD</td>\n      <td>1</td>\n    </tr>\n    <tr>\n      <th>8</th>\n      <td>0</td>\n      <td>20674R</td>\n      <td>1</td>\n    </tr>\n    <tr>\n      <th>9</th>\n      <td>0</td>\n      <td>20675E</td>\n      <td>1</td>\n    </tr>\n    <tr>\n      <th>10</th>\n      <td>0</td>\n      <td>20677D</td>\n      <td>1</td>\n    </tr>\n    <tr>\n      <th>11</th>\n      <td>0</td>\n      <td>20712E</td>\n      <td>1</td>\n    </tr>\n    <tr>\n      <th>12</th>\n      <td>0</td>\n      <td>20719E</td>\n      <td>2</td>\n    </tr>\n    <tr>\n      <th>13</th>\n      <td>0</td>\n      <td>20725N</td>\n      <td>1</td>\n    </tr>\n    <tr>\n      <th>14</th>\n      <td>0</td>\n      <td>20726C</td>\n      <td>3</td>\n    </tr>\n    <tr>\n      <th>15</th>\n      <td>0</td>\n      <td>20727V</td>\n      <td>1</td>\n    </tr>\n    <tr>\n      <th>16</th>\n      <td>0</td>\n      <td>20728Z</td>\n      <td>2</td>\n    </tr>\n    <tr>\n      <th>17</th>\n      <td>0</td>\n      <td>20801C</td>\n      <td>1</td>\n    </tr>\n    <tr>\n      <th>18</th>\n      <td>0</td>\n      <td>20829J</td>\n      <td>1</td>\n    </tr>\n    <tr>\n      <th>19</th>\n      <td>0</td>\n      <td>20838A</td>\n      <td>1</td>\n    </tr>\n  </tbody>\n</table>\n</div>", 
                        "text/plain": "    customerId productId  purchase_count\n0            0  15056BLH               1\n1            0   15056ND               1\n2            0   15058CH               1\n3            0   15060BB               1\n4            0    16218Y               1\n5            0    16235A               1\n6            0    16236S               1\n7            0   17091JD               1\n8            0    20674R               1\n9            0    20675E               1\n10           0    20677D               1\n11           0    20712E               1\n12           0    20719E               2\n13           0    20725N               1\n14           0    20726C               3\n15           0    20727V               1\n16           0    20728Z               2\n17           0    20801C               1\n18           0    20829J               1\n19           0    20838A               1"
                    }, 
                    "output_type": "execute_result"
                }
            ], 
            "source": "print(data.shape)\ndata.head(20)"
        }, 
        {
            "source": "### 3.2. Create dummy\n* Dummy for marking whether a customer bought that item or not.\n* If one buys an item, then `purchase_dummy` are marked as 1\n* Why create a dummy instead of normalizing it, you ask?\n    * Normalizing the purchase count, say by each user, would not work because customers may have different buying frequency don't have the same taste\n    * However, we can normalize items by purchase frequency across all users, which is done in section 3.3. below.", 
            "cell_type": "markdown", 
            "metadata": {}
        }, 
        {
            "execution_count": 19, 
            "cell_type": "code", 
            "metadata": {}, 
            "outputs": [], 
            "source": "def create_data_dummy(data):\n    data_dummy = data.copy()\n    data_dummy['purchase_dummy'] = 1\n    return data_dummy"
        }, 
        {
            "execution_count": 20, 
            "cell_type": "code", 
            "metadata": {}, 
            "outputs": [], 
            "source": "data_dummy = create_data_dummy(data)"
        }, 
        {
            "source": "### 3.3. Normalize item values across users\n* To do this, we normalize purchase frequency of each item across users by first creating a user-item matrix as follows", 
            "cell_type": "markdown", 
            "metadata": {}
        }, 
        {
            "execution_count": 21, 
            "cell_type": "code", 
            "metadata": {}, 
            "outputs": [
                {
                    "execution_count": 21, 
                    "metadata": {}, 
                    "data": {
                        "text/html": "<div>\n<style scoped>\n    .dataframe tbody tr th:only-of-type {\n        vertical-align: middle;\n    }\n\n    .dataframe tbody tr th {\n        vertical-align: top;\n    }\n\n    .dataframe thead th {\n        text-align: right;\n    }\n</style>\n<table border=\"1\" class=\"dataframe\">\n  <thead>\n    <tr style=\"text-align: right;\">\n      <th>productId</th>\n      <th>10002F</th>\n      <th>10080Q</th>\n      <th>10120M</th>\n      <th>10123CU</th>\n      <th>10124AW</th>\n      <th>10124GF</th>\n      <th>10125J</th>\n      <th>10133M</th>\n      <th>10135P</th>\n      <th>11001M</th>\n      <th>...</th>\n      <th>90214OZ</th>\n      <th>90214PB</th>\n      <th>90214RZ</th>\n      <th>90214SF</th>\n      <th>90214TT</th>\n      <th>90214UO</th>\n      <th>90214VD</th>\n      <th>90214WH</th>\n      <th>90214YL</th>\n      <th>90214ZJ</th>\n    </tr>\n    <tr>\n      <th>customerId</th>\n      <th></th>\n      <th></th>\n      <th></th>\n      <th></th>\n      <th></th>\n      <th></th>\n      <th></th>\n      <th></th>\n      <th></th>\n      <th></th>\n      <th></th>\n      <th></th>\n      <th></th>\n      <th></th>\n      <th></th>\n      <th></th>\n      <th></th>\n      <th></th>\n      <th></th>\n      <th></th>\n      <th></th>\n    </tr>\n  </thead>\n  <tbody>\n    <tr>\n      <th>0</th>\n      <td>NaN</td>\n      <td>NaN</td>\n      <td>NaN</td>\n      <td>NaN</td>\n      <td>NaN</td>\n      <td>NaN</td>\n      <td>NaN</td>\n      <td>NaN</td>\n      <td>NaN</td>\n      <td>NaN</td>\n      <td>...</td>\n      <td>NaN</td>\n      <td>NaN</td>\n      <td>NaN</td>\n      <td>NaN</td>\n      <td>NaN</td>\n      <td>NaN</td>\n      <td>NaN</td>\n      <td>NaN</td>\n      <td>NaN</td>\n      <td>NaN</td>\n    </tr>\n    <tr>\n      <th>900</th>\n      <td>NaN</td>\n      <td>NaN</td>\n      <td>NaN</td>\n      <td>NaN</td>\n      <td>NaN</td>\n      <td>NaN</td>\n      <td>NaN</td>\n      <td>NaN</td>\n      <td>2.0</td>\n      <td>1.0</td>\n      <td>...</td>\n      <td>NaN</td>\n      <td>NaN</td>\n      <td>NaN</td>\n      <td>NaN</td>\n      <td>NaN</td>\n      <td>NaN</td>\n      <td>NaN</td>\n      <td>NaN</td>\n      <td>NaN</td>\n      <td>NaN</td>\n    </tr>\n    <tr>\n      <th>1800</th>\n      <td>NaN</td>\n      <td>NaN</td>\n      <td>NaN</td>\n      <td>NaN</td>\n      <td>NaN</td>\n      <td>NaN</td>\n      <td>NaN</td>\n      <td>NaN</td>\n      <td>NaN</td>\n      <td>NaN</td>\n      <td>...</td>\n      <td>NaN</td>\n      <td>NaN</td>\n      <td>NaN</td>\n      <td>NaN</td>\n      <td>NaN</td>\n      <td>NaN</td>\n      <td>NaN</td>\n      <td>NaN</td>\n      <td>NaN</td>\n      <td>NaN</td>\n    </tr>\n    <tr>\n      <th>2790</th>\n      <td>NaN</td>\n      <td>NaN</td>\n      <td>NaN</td>\n      <td>NaN</td>\n      <td>NaN</td>\n      <td>NaN</td>\n      <td>NaN</td>\n      <td>NaN</td>\n      <td>NaN</td>\n      <td>NaN</td>\n      <td>...</td>\n      <td>NaN</td>\n      <td>NaN</td>\n      <td>NaN</td>\n      <td>NaN</td>\n      <td>NaN</td>\n      <td>NaN</td>\n      <td>NaN</td>\n      <td>NaN</td>\n      <td>NaN</td>\n      <td>NaN</td>\n    </tr>\n    <tr>\n      <th>4590</th>\n      <td>NaN</td>\n      <td>NaN</td>\n      <td>NaN</td>\n      <td>NaN</td>\n      <td>NaN</td>\n      <td>NaN</td>\n      <td>NaN</td>\n      <td>NaN</td>\n      <td>NaN</td>\n      <td>NaN</td>\n      <td>...</td>\n      <td>NaN</td>\n      <td>NaN</td>\n      <td>NaN</td>\n      <td>NaN</td>\n      <td>NaN</td>\n      <td>NaN</td>\n      <td>NaN</td>\n      <td>NaN</td>\n      <td>NaN</td>\n      <td>NaN</td>\n    </tr>\n    <tr>\n      <th>5400</th>\n      <td>NaN</td>\n      <td>NaN</td>\n      <td>NaN</td>\n      <td>NaN</td>\n      <td>NaN</td>\n      <td>NaN</td>\n      <td>NaN</td>\n      <td>NaN</td>\n      <td>NaN</td>\n      <td>NaN</td>\n      <td>...</td>\n      <td>NaN</td>\n      <td>NaN</td>\n      <td>NaN</td>\n      <td>NaN</td>\n      <td>NaN</td>\n      <td>NaN</td>\n      <td>NaN</td>\n      <td>NaN</td>\n      <td>NaN</td>\n      <td>NaN</td>\n    </tr>\n    <tr>\n      <th>6300</th>\n      <td>NaN</td>\n      <td>NaN</td>\n      <td>NaN</td>\n      <td>NaN</td>\n      <td>NaN</td>\n      <td>NaN</td>\n      <td>NaN</td>\n      <td>1.0</td>\n      <td>NaN</td>\n      <td>NaN</td>\n      <td>...</td>\n      <td>NaN</td>\n      <td>NaN</td>\n      <td>NaN</td>\n      <td>NaN</td>\n      <td>NaN</td>\n      <td>NaN</td>\n      <td>NaN</td>\n      <td>NaN</td>\n      <td>NaN</td>\n      <td>NaN</td>\n    </tr>\n    <tr>\n      <th>6390</th>\n      <td>NaN</td>\n      <td>NaN</td>\n      <td>NaN</td>\n      <td>NaN</td>\n      <td>NaN</td>\n      <td>NaN</td>\n      <td>NaN</td>\n      <td>NaN</td>\n      <td>NaN</td>\n      <td>NaN</td>\n      <td>...</td>\n      <td>NaN</td>\n      <td>NaN</td>\n      <td>NaN</td>\n      <td>NaN</td>\n      <td>NaN</td>\n      <td>NaN</td>\n      <td>NaN</td>\n      <td>NaN</td>\n      <td>NaN</td>\n      <td>NaN</td>\n    </tr>\n    <tr>\n      <th>7200</th>\n      <td>NaN</td>\n      <td>NaN</td>\n      <td>NaN</td>\n      <td>NaN</td>\n      <td>NaN</td>\n      <td>NaN</td>\n      <td>NaN</td>\n      <td>NaN</td>\n      <td>NaN</td>\n      <td>NaN</td>\n      <td>...</td>\n      <td>NaN</td>\n      <td>NaN</td>\n      <td>NaN</td>\n      <td>NaN</td>\n      <td>NaN</td>\n      <td>NaN</td>\n      <td>NaN</td>\n      <td>NaN</td>\n      <td>NaN</td>\n      <td>NaN</td>\n    </tr>\n    <tr>\n      <th>7290</th>\n      <td>NaN</td>\n      <td>NaN</td>\n      <td>NaN</td>\n      <td>NaN</td>\n      <td>NaN</td>\n      <td>NaN</td>\n      <td>NaN</td>\n      <td>2.0</td>\n      <td>NaN</td>\n      <td>NaN</td>\n      <td>...</td>\n      <td>NaN</td>\n      <td>NaN</td>\n      <td>NaN</td>\n      <td>NaN</td>\n      <td>NaN</td>\n      <td>NaN</td>\n      <td>NaN</td>\n      <td>NaN</td>\n      <td>NaN</td>\n      <td>NaN</td>\n    </tr>\n    <tr>\n      <th>8100</th>\n      <td>NaN</td>\n      <td>NaN</td>\n      <td>NaN</td>\n      <td>NaN</td>\n      <td>NaN</td>\n      <td>NaN</td>\n      <td>NaN</td>\n      <td>1.0</td>\n      <td>NaN</td>\n      <td>1.0</td>\n      <td>...</td>\n      <td>NaN</td>\n      <td>NaN</td>\n      <td>NaN</td>\n      <td>NaN</td>\n      <td>NaN</td>\n      <td>NaN</td>\n      <td>NaN</td>\n      <td>NaN</td>\n      <td>NaN</td>\n      <td>NaN</td>\n    </tr>\n    <tr>\n      <th>9990</th>\n      <td>NaN</td>\n      <td>NaN</td>\n      <td>NaN</td>\n      <td>NaN</td>\n      <td>NaN</td>\n      <td>NaN</td>\n      <td>NaN</td>\n      <td>1.0</td>\n      <td>2.0</td>\n      <td>NaN</td>\n      <td>...</td>\n      <td>NaN</td>\n      <td>NaN</td>\n      <td>1.0</td>\n      <td>1.0</td>\n      <td>NaN</td>\n      <td>NaN</td>\n      <td>1.0</td>\n      <td>NaN</td>\n      <td>NaN</td>\n      <td>NaN</td>\n    </tr>\n    <tr>\n      <th>10890</th>\n      <td>NaN</td>\n      <td>NaN</td>\n      <td>NaN</td>\n      <td>1.0</td>\n      <td>NaN</td>\n      <td>NaN</td>\n      <td>NaN</td>\n      <td>1.0</td>\n      <td>NaN</td>\n      <td>1.0</td>\n      <td>...</td>\n      <td>NaN</td>\n      <td>NaN</td>\n      <td>NaN</td>\n      <td>NaN</td>\n      <td>NaN</td>\n      <td>NaN</td>\n      <td>NaN</td>\n      <td>NaN</td>\n      <td>NaN</td>\n      <td>NaN</td>\n    </tr>\n    <tr>\n      <th>11790</th>\n      <td>NaN</td>\n      <td>NaN</td>\n      <td>NaN</td>\n      <td>NaN</td>\n      <td>NaN</td>\n      <td>NaN</td>\n      <td>NaN</td>\n      <td>NaN</td>\n      <td>1.0</td>\n      <td>1.0</td>\n      <td>...</td>\n      <td>NaN</td>\n      <td>NaN</td>\n      <td>NaN</td>\n      <td>1.0</td>\n      <td>NaN</td>\n      <td>NaN</td>\n      <td>NaN</td>\n      <td>NaN</td>\n      <td>NaN</td>\n      <td>NaN</td>\n    </tr>\n    <tr>\n      <th>11880</th>\n      <td>NaN</td>\n      <td>NaN</td>\n      <td>NaN</td>\n      <td>NaN</td>\n      <td>NaN</td>\n      <td>NaN</td>\n      <td>NaN</td>\n      <td>NaN</td>\n      <td>NaN</td>\n      <td>NaN</td>\n      <td>...</td>\n      <td>NaN</td>\n      <td>NaN</td>\n      <td>NaN</td>\n      <td>NaN</td>\n      <td>NaN</td>\n      <td>NaN</td>\n      <td>NaN</td>\n      <td>NaN</td>\n      <td>NaN</td>\n      <td>NaN</td>\n    </tr>\n    <tr>\n      <th>12690</th>\n      <td>NaN</td>\n      <td>NaN</td>\n      <td>NaN</td>\n      <td>NaN</td>\n      <td>NaN</td>\n      <td>NaN</td>\n      <td>NaN</td>\n      <td>NaN</td>\n      <td>NaN</td>\n      <td>NaN</td>\n      <td>...</td>\n      <td>NaN</td>\n      <td>NaN</td>\n      <td>NaN</td>\n      <td>NaN</td>\n      <td>NaN</td>\n      <td>NaN</td>\n      <td>NaN</td>\n      <td>NaN</td>\n      <td>NaN</td>\n      <td>NaN</td>\n    </tr>\n    <tr>\n      <th>12780</th>\n      <td>NaN</td>\n      <td>NaN</td>\n      <td>NaN</td>\n      <td>NaN</td>\n      <td>NaN</td>\n      <td>NaN</td>\n      <td>NaN</td>\n      <td>1.0</td>\n      <td>NaN</td>\n      <td>NaN</td>\n      <td>...</td>\n      <td>NaN</td>\n      <td>NaN</td>\n      <td>NaN</td>\n      <td>NaN</td>\n      <td>NaN</td>\n      <td>NaN</td>\n      <td>NaN</td>\n      <td>NaN</td>\n      <td>NaN</td>\n      <td>NaN</td>\n    </tr>\n    <tr>\n      <th>13590</th>\n      <td>NaN</td>\n      <td>NaN</td>\n      <td>NaN</td>\n      <td>NaN</td>\n      <td>NaN</td>\n      <td>NaN</td>\n      <td>NaN</td>\n      <td>NaN</td>\n      <td>NaN</td>\n      <td>NaN</td>\n      <td>...</td>\n      <td>NaN</td>\n      <td>NaN</td>\n      <td>NaN</td>\n      <td>NaN</td>\n      <td>NaN</td>\n      <td>NaN</td>\n      <td>NaN</td>\n      <td>NaN</td>\n      <td>NaN</td>\n      <td>NaN</td>\n    </tr>\n    <tr>\n      <th>15480</th>\n      <td>NaN</td>\n      <td>NaN</td>\n      <td>NaN</td>\n      <td>NaN</td>\n      <td>NaN</td>\n      <td>NaN</td>\n      <td>NaN</td>\n      <td>NaN</td>\n      <td>NaN</td>\n      <td>NaN</td>\n      <td>...</td>\n      <td>NaN</td>\n      <td>NaN</td>\n      <td>NaN</td>\n      <td>NaN</td>\n      <td>NaN</td>\n      <td>NaN</td>\n      <td>NaN</td>\n      <td>NaN</td>\n      <td>NaN</td>\n      <td>NaN</td>\n    </tr>\n    <tr>\n      <th>16290</th>\n      <td>NaN</td>\n      <td>NaN</td>\n      <td>NaN</td>\n      <td>NaN</td>\n      <td>NaN</td>\n      <td>NaN</td>\n      <td>NaN</td>\n      <td>NaN</td>\n      <td>NaN</td>\n      <td>1.0</td>\n      <td>...</td>\n      <td>NaN</td>\n      <td>NaN</td>\n      <td>NaN</td>\n      <td>NaN</td>\n      <td>NaN</td>\n      <td>NaN</td>\n      <td>NaN</td>\n      <td>NaN</td>\n      <td>NaN</td>\n      <td>NaN</td>\n    </tr>\n  </tbody>\n</table>\n<p>20 rows \u00d7 3810 columns</p>\n</div>", 
                        "text/plain": "productId   10002F  10080Q  10120M  10123CU  10124AW  10124GF  10125J  10133M  \\\ncustomerId                                                                      \n0              NaN     NaN     NaN      NaN      NaN      NaN     NaN     NaN   \n900            NaN     NaN     NaN      NaN      NaN      NaN     NaN     NaN   \n1800           NaN     NaN     NaN      NaN      NaN      NaN     NaN     NaN   \n2790           NaN     NaN     NaN      NaN      NaN      NaN     NaN     NaN   \n4590           NaN     NaN     NaN      NaN      NaN      NaN     NaN     NaN   \n5400           NaN     NaN     NaN      NaN      NaN      NaN     NaN     NaN   \n6300           NaN     NaN     NaN      NaN      NaN      NaN     NaN     1.0   \n6390           NaN     NaN     NaN      NaN      NaN      NaN     NaN     NaN   \n7200           NaN     NaN     NaN      NaN      NaN      NaN     NaN     NaN   \n7290           NaN     NaN     NaN      NaN      NaN      NaN     NaN     2.0   \n8100           NaN     NaN     NaN      NaN      NaN      NaN     NaN     1.0   \n9990           NaN     NaN     NaN      NaN      NaN      NaN     NaN     1.0   \n10890          NaN     NaN     NaN      1.0      NaN      NaN     NaN     1.0   \n11790          NaN     NaN     NaN      NaN      NaN      NaN     NaN     NaN   \n11880          NaN     NaN     NaN      NaN      NaN      NaN     NaN     NaN   \n12690          NaN     NaN     NaN      NaN      NaN      NaN     NaN     NaN   \n12780          NaN     NaN     NaN      NaN      NaN      NaN     NaN     1.0   \n13590          NaN     NaN     NaN      NaN      NaN      NaN     NaN     NaN   \n15480          NaN     NaN     NaN      NaN      NaN      NaN     NaN     NaN   \n16290          NaN     NaN     NaN      NaN      NaN      NaN     NaN     NaN   \n\nproductId   10135P  11001M   ...     90214OZ  90214PB  90214RZ  90214SF  \\\ncustomerId                   ...                                          \n0              NaN     NaN   ...         NaN      NaN      NaN      NaN   \n900            2.0     1.0   ...         NaN      NaN      NaN      NaN   \n1800           NaN     NaN   ...         NaN      NaN      NaN      NaN   \n2790           NaN     NaN   ...         NaN      NaN      NaN      NaN   \n4590           NaN     NaN   ...         NaN      NaN      NaN      NaN   \n5400           NaN     NaN   ...         NaN      NaN      NaN      NaN   \n6300           NaN     NaN   ...         NaN      NaN      NaN      NaN   \n6390           NaN     NaN   ...         NaN      NaN      NaN      NaN   \n7200           NaN     NaN   ...         NaN      NaN      NaN      NaN   \n7290           NaN     NaN   ...         NaN      NaN      NaN      NaN   \n8100           NaN     1.0   ...         NaN      NaN      NaN      NaN   \n9990           2.0     NaN   ...         NaN      NaN      1.0      1.0   \n10890          NaN     1.0   ...         NaN      NaN      NaN      NaN   \n11790          1.0     1.0   ...         NaN      NaN      NaN      1.0   \n11880          NaN     NaN   ...         NaN      NaN      NaN      NaN   \n12690          NaN     NaN   ...         NaN      NaN      NaN      NaN   \n12780          NaN     NaN   ...         NaN      NaN      NaN      NaN   \n13590          NaN     NaN   ...         NaN      NaN      NaN      NaN   \n15480          NaN     NaN   ...         NaN      NaN      NaN      NaN   \n16290          NaN     1.0   ...         NaN      NaN      NaN      NaN   \n\nproductId   90214TT  90214UO  90214VD  90214WH  90214YL  90214ZJ  \ncustomerId                                                        \n0               NaN      NaN      NaN      NaN      NaN      NaN  \n900             NaN      NaN      NaN      NaN      NaN      NaN  \n1800            NaN      NaN      NaN      NaN      NaN      NaN  \n2790            NaN      NaN      NaN      NaN      NaN      NaN  \n4590            NaN      NaN      NaN      NaN      NaN      NaN  \n5400            NaN      NaN      NaN      NaN      NaN      NaN  \n6300            NaN      NaN      NaN      NaN      NaN      NaN  \n6390            NaN      NaN      NaN      NaN      NaN      NaN  \n7200            NaN      NaN      NaN      NaN      NaN      NaN  \n7290            NaN      NaN      NaN      NaN      NaN      NaN  \n8100            NaN      NaN      NaN      NaN      NaN      NaN  \n9990            NaN      NaN      1.0      NaN      NaN      NaN  \n10890           NaN      NaN      NaN      NaN      NaN      NaN  \n11790           NaN      NaN      NaN      NaN      NaN      NaN  \n11880           NaN      NaN      NaN      NaN      NaN      NaN  \n12690           NaN      NaN      NaN      NaN      NaN      NaN  \n12780           NaN      NaN      NaN      NaN      NaN      NaN  \n13590           NaN      NaN      NaN      NaN      NaN      NaN  \n15480           NaN      NaN      NaN      NaN      NaN      NaN  \n16290           NaN      NaN      NaN      NaN      NaN      NaN  \n\n[20 rows x 3810 columns]"
                    }, 
                    "output_type": "execute_result"
                }
            ], 
            "source": "df_matrix = pd.pivot_table(data, values='purchase_count', index='customerId', columns='productId')\ndf_matrix.head(20)"
        }, 
        {
            "execution_count": 22, 
            "cell_type": "code", 
            "metadata": {}, 
            "outputs": [
                {
                    "execution_count": 22, 
                    "metadata": {}, 
                    "data": {
                        "text/plain": "(972, 3810)"
                    }, 
                    "output_type": "execute_result"
                }
            ], 
            "source": "(df_matrix.shape)"
        }, 
        {
            "execution_count": 23, 
            "cell_type": "code", 
            "metadata": {}, 
            "outputs": [
                {
                    "output_type": "stream", 
                    "name": "stdout", 
                    "text": "(972, 3810)\n"
                }, 
                {
                    "execution_count": 23, 
                    "metadata": {}, 
                    "data": {
                        "text/html": "<div>\n<style scoped>\n    .dataframe tbody tr th:only-of-type {\n        vertical-align: middle;\n    }\n\n    .dataframe tbody tr th {\n        vertical-align: top;\n    }\n\n    .dataframe thead th {\n        text-align: right;\n    }\n</style>\n<table border=\"1\" class=\"dataframe\">\n  <thead>\n    <tr style=\"text-align: right;\">\n      <th>productId</th>\n      <th>10002F</th>\n      <th>10080Q</th>\n      <th>10120M</th>\n      <th>10123CU</th>\n      <th>10124AW</th>\n      <th>10124GF</th>\n      <th>10125J</th>\n      <th>10133M</th>\n      <th>10135P</th>\n      <th>11001M</th>\n      <th>...</th>\n      <th>90214OZ</th>\n      <th>90214PB</th>\n      <th>90214RZ</th>\n      <th>90214SF</th>\n      <th>90214TT</th>\n      <th>90214UO</th>\n      <th>90214VD</th>\n      <th>90214WH</th>\n      <th>90214YL</th>\n      <th>90214ZJ</th>\n    </tr>\n    <tr>\n      <th>customerId</th>\n      <th></th>\n      <th></th>\n      <th></th>\n      <th></th>\n      <th></th>\n      <th></th>\n      <th></th>\n      <th></th>\n      <th></th>\n      <th></th>\n      <th></th>\n      <th></th>\n      <th></th>\n      <th></th>\n      <th></th>\n      <th></th>\n      <th></th>\n      <th></th>\n      <th></th>\n      <th></th>\n      <th></th>\n    </tr>\n  </thead>\n  <tbody>\n    <tr>\n      <th>0</th>\n      <td>NaN</td>\n      <td>NaN</td>\n      <td>NaN</td>\n      <td>NaN</td>\n      <td>NaN</td>\n      <td>NaN</td>\n      <td>NaN</td>\n      <td>NaN</td>\n      <td>NaN</td>\n      <td>NaN</td>\n      <td>...</td>\n      <td>NaN</td>\n      <td>NaN</td>\n      <td>NaN</td>\n      <td>NaN</td>\n      <td>NaN</td>\n      <td>NaN</td>\n      <td>NaN</td>\n      <td>NaN</td>\n      <td>NaN</td>\n      <td>NaN</td>\n    </tr>\n    <tr>\n      <th>900</th>\n      <td>NaN</td>\n      <td>NaN</td>\n      <td>NaN</td>\n      <td>NaN</td>\n      <td>NaN</td>\n      <td>NaN</td>\n      <td>NaN</td>\n      <td>NaN</td>\n      <td>1.0</td>\n      <td>0.0</td>\n      <td>...</td>\n      <td>NaN</td>\n      <td>NaN</td>\n      <td>NaN</td>\n      <td>NaN</td>\n      <td>NaN</td>\n      <td>NaN</td>\n      <td>NaN</td>\n      <td>NaN</td>\n      <td>NaN</td>\n      <td>NaN</td>\n    </tr>\n    <tr>\n      <th>1800</th>\n      <td>NaN</td>\n      <td>NaN</td>\n      <td>NaN</td>\n      <td>NaN</td>\n      <td>NaN</td>\n      <td>NaN</td>\n      <td>NaN</td>\n      <td>NaN</td>\n      <td>NaN</td>\n      <td>NaN</td>\n      <td>...</td>\n      <td>NaN</td>\n      <td>NaN</td>\n      <td>NaN</td>\n      <td>NaN</td>\n      <td>NaN</td>\n      <td>NaN</td>\n      <td>NaN</td>\n      <td>NaN</td>\n      <td>NaN</td>\n      <td>NaN</td>\n    </tr>\n    <tr>\n      <th>2790</th>\n      <td>NaN</td>\n      <td>NaN</td>\n      <td>NaN</td>\n      <td>NaN</td>\n      <td>NaN</td>\n      <td>NaN</td>\n      <td>NaN</td>\n      <td>NaN</td>\n      <td>NaN</td>\n      <td>NaN</td>\n      <td>...</td>\n      <td>NaN</td>\n      <td>NaN</td>\n      <td>NaN</td>\n      <td>NaN</td>\n      <td>NaN</td>\n      <td>NaN</td>\n      <td>NaN</td>\n      <td>NaN</td>\n      <td>NaN</td>\n      <td>NaN</td>\n    </tr>\n    <tr>\n      <th>4590</th>\n      <td>NaN</td>\n      <td>NaN</td>\n      <td>NaN</td>\n      <td>NaN</td>\n      <td>NaN</td>\n      <td>NaN</td>\n      <td>NaN</td>\n      <td>NaN</td>\n      <td>NaN</td>\n      <td>NaN</td>\n      <td>...</td>\n      <td>NaN</td>\n      <td>NaN</td>\n      <td>NaN</td>\n      <td>NaN</td>\n      <td>NaN</td>\n      <td>NaN</td>\n      <td>NaN</td>\n      <td>NaN</td>\n      <td>NaN</td>\n      <td>NaN</td>\n    </tr>\n    <tr>\n      <th>5400</th>\n      <td>NaN</td>\n      <td>NaN</td>\n      <td>NaN</td>\n      <td>NaN</td>\n      <td>NaN</td>\n      <td>NaN</td>\n      <td>NaN</td>\n      <td>NaN</td>\n      <td>NaN</td>\n      <td>NaN</td>\n      <td>...</td>\n      <td>NaN</td>\n      <td>NaN</td>\n      <td>NaN</td>\n      <td>NaN</td>\n      <td>NaN</td>\n      <td>NaN</td>\n      <td>NaN</td>\n      <td>NaN</td>\n      <td>NaN</td>\n      <td>NaN</td>\n    </tr>\n    <tr>\n      <th>6300</th>\n      <td>NaN</td>\n      <td>NaN</td>\n      <td>NaN</td>\n      <td>NaN</td>\n      <td>NaN</td>\n      <td>NaN</td>\n      <td>NaN</td>\n      <td>0.0</td>\n      <td>NaN</td>\n      <td>NaN</td>\n      <td>...</td>\n      <td>NaN</td>\n      <td>NaN</td>\n      <td>NaN</td>\n      <td>NaN</td>\n      <td>NaN</td>\n      <td>NaN</td>\n      <td>NaN</td>\n      <td>NaN</td>\n      <td>NaN</td>\n      <td>NaN</td>\n    </tr>\n    <tr>\n      <th>6390</th>\n      <td>NaN</td>\n      <td>NaN</td>\n      <td>NaN</td>\n      <td>NaN</td>\n      <td>NaN</td>\n      <td>NaN</td>\n      <td>NaN</td>\n      <td>NaN</td>\n      <td>NaN</td>\n      <td>NaN</td>\n      <td>...</td>\n      <td>NaN</td>\n      <td>NaN</td>\n      <td>NaN</td>\n      <td>NaN</td>\n      <td>NaN</td>\n      <td>NaN</td>\n      <td>NaN</td>\n      <td>NaN</td>\n      <td>NaN</td>\n      <td>NaN</td>\n    </tr>\n    <tr>\n      <th>7200</th>\n      <td>NaN</td>\n      <td>NaN</td>\n      <td>NaN</td>\n      <td>NaN</td>\n      <td>NaN</td>\n      <td>NaN</td>\n      <td>NaN</td>\n      <td>NaN</td>\n      <td>NaN</td>\n      <td>NaN</td>\n      <td>...</td>\n      <td>NaN</td>\n      <td>NaN</td>\n      <td>NaN</td>\n      <td>NaN</td>\n      <td>NaN</td>\n      <td>NaN</td>\n      <td>NaN</td>\n      <td>NaN</td>\n      <td>NaN</td>\n      <td>NaN</td>\n    </tr>\n    <tr>\n      <th>7290</th>\n      <td>NaN</td>\n      <td>NaN</td>\n      <td>NaN</td>\n      <td>NaN</td>\n      <td>NaN</td>\n      <td>NaN</td>\n      <td>NaN</td>\n      <td>0.5</td>\n      <td>NaN</td>\n      <td>NaN</td>\n      <td>...</td>\n      <td>NaN</td>\n      <td>NaN</td>\n      <td>NaN</td>\n      <td>NaN</td>\n      <td>NaN</td>\n      <td>NaN</td>\n      <td>NaN</td>\n      <td>NaN</td>\n      <td>NaN</td>\n      <td>NaN</td>\n    </tr>\n    <tr>\n      <th>8100</th>\n      <td>NaN</td>\n      <td>NaN</td>\n      <td>NaN</td>\n      <td>NaN</td>\n      <td>NaN</td>\n      <td>NaN</td>\n      <td>NaN</td>\n      <td>0.0</td>\n      <td>NaN</td>\n      <td>0.0</td>\n      <td>...</td>\n      <td>NaN</td>\n      <td>NaN</td>\n      <td>NaN</td>\n      <td>NaN</td>\n      <td>NaN</td>\n      <td>NaN</td>\n      <td>NaN</td>\n      <td>NaN</td>\n      <td>NaN</td>\n      <td>NaN</td>\n    </tr>\n    <tr>\n      <th>9990</th>\n      <td>NaN</td>\n      <td>NaN</td>\n      <td>NaN</td>\n      <td>NaN</td>\n      <td>NaN</td>\n      <td>NaN</td>\n      <td>NaN</td>\n      <td>0.0</td>\n      <td>1.0</td>\n      <td>NaN</td>\n      <td>...</td>\n      <td>NaN</td>\n      <td>NaN</td>\n      <td>NaN</td>\n      <td>0.0</td>\n      <td>NaN</td>\n      <td>NaN</td>\n      <td>NaN</td>\n      <td>NaN</td>\n      <td>NaN</td>\n      <td>NaN</td>\n    </tr>\n    <tr>\n      <th>10890</th>\n      <td>NaN</td>\n      <td>NaN</td>\n      <td>NaN</td>\n      <td>NaN</td>\n      <td>NaN</td>\n      <td>NaN</td>\n      <td>NaN</td>\n      <td>0.0</td>\n      <td>NaN</td>\n      <td>0.0</td>\n      <td>...</td>\n      <td>NaN</td>\n      <td>NaN</td>\n      <td>NaN</td>\n      <td>NaN</td>\n      <td>NaN</td>\n      <td>NaN</td>\n      <td>NaN</td>\n      <td>NaN</td>\n      <td>NaN</td>\n      <td>NaN</td>\n    </tr>\n    <tr>\n      <th>11790</th>\n      <td>NaN</td>\n      <td>NaN</td>\n      <td>NaN</td>\n      <td>NaN</td>\n      <td>NaN</td>\n      <td>NaN</td>\n      <td>NaN</td>\n      <td>NaN</td>\n      <td>0.0</td>\n      <td>0.0</td>\n      <td>...</td>\n      <td>NaN</td>\n      <td>NaN</td>\n      <td>NaN</td>\n      <td>0.0</td>\n      <td>NaN</td>\n      <td>NaN</td>\n      <td>NaN</td>\n      <td>NaN</td>\n      <td>NaN</td>\n      <td>NaN</td>\n    </tr>\n    <tr>\n      <th>11880</th>\n      <td>NaN</td>\n      <td>NaN</td>\n      <td>NaN</td>\n      <td>NaN</td>\n      <td>NaN</td>\n      <td>NaN</td>\n      <td>NaN</td>\n      <td>NaN</td>\n      <td>NaN</td>\n      <td>NaN</td>\n      <td>...</td>\n      <td>NaN</td>\n      <td>NaN</td>\n      <td>NaN</td>\n      <td>NaN</td>\n      <td>NaN</td>\n      <td>NaN</td>\n      <td>NaN</td>\n      <td>NaN</td>\n      <td>NaN</td>\n      <td>NaN</td>\n    </tr>\n    <tr>\n      <th>12690</th>\n      <td>NaN</td>\n      <td>NaN</td>\n      <td>NaN</td>\n      <td>NaN</td>\n      <td>NaN</td>\n      <td>NaN</td>\n      <td>NaN</td>\n      <td>NaN</td>\n      <td>NaN</td>\n      <td>NaN</td>\n      <td>...</td>\n      <td>NaN</td>\n      <td>NaN</td>\n      <td>NaN</td>\n      <td>NaN</td>\n      <td>NaN</td>\n      <td>NaN</td>\n      <td>NaN</td>\n      <td>NaN</td>\n      <td>NaN</td>\n      <td>NaN</td>\n    </tr>\n    <tr>\n      <th>12780</th>\n      <td>NaN</td>\n      <td>NaN</td>\n      <td>NaN</td>\n      <td>NaN</td>\n      <td>NaN</td>\n      <td>NaN</td>\n      <td>NaN</td>\n      <td>0.0</td>\n      <td>NaN</td>\n      <td>NaN</td>\n      <td>...</td>\n      <td>NaN</td>\n      <td>NaN</td>\n      <td>NaN</td>\n      <td>NaN</td>\n      <td>NaN</td>\n      <td>NaN</td>\n      <td>NaN</td>\n      <td>NaN</td>\n      <td>NaN</td>\n      <td>NaN</td>\n    </tr>\n    <tr>\n      <th>13590</th>\n      <td>NaN</td>\n      <td>NaN</td>\n      <td>NaN</td>\n      <td>NaN</td>\n      <td>NaN</td>\n      <td>NaN</td>\n      <td>NaN</td>\n      <td>NaN</td>\n      <td>NaN</td>\n      <td>NaN</td>\n      <td>...</td>\n      <td>NaN</td>\n      <td>NaN</td>\n      <td>NaN</td>\n      <td>NaN</td>\n      <td>NaN</td>\n      <td>NaN</td>\n      <td>NaN</td>\n      <td>NaN</td>\n      <td>NaN</td>\n      <td>NaN</td>\n    </tr>\n    <tr>\n      <th>15480</th>\n      <td>NaN</td>\n      <td>NaN</td>\n      <td>NaN</td>\n      <td>NaN</td>\n      <td>NaN</td>\n      <td>NaN</td>\n      <td>NaN</td>\n      <td>NaN</td>\n      <td>NaN</td>\n      <td>NaN</td>\n      <td>...</td>\n      <td>NaN</td>\n      <td>NaN</td>\n      <td>NaN</td>\n      <td>NaN</td>\n      <td>NaN</td>\n      <td>NaN</td>\n      <td>NaN</td>\n      <td>NaN</td>\n      <td>NaN</td>\n      <td>NaN</td>\n    </tr>\n    <tr>\n      <th>16290</th>\n      <td>NaN</td>\n      <td>NaN</td>\n      <td>NaN</td>\n      <td>NaN</td>\n      <td>NaN</td>\n      <td>NaN</td>\n      <td>NaN</td>\n      <td>NaN</td>\n      <td>NaN</td>\n      <td>0.0</td>\n      <td>...</td>\n      <td>NaN</td>\n      <td>NaN</td>\n      <td>NaN</td>\n      <td>NaN</td>\n      <td>NaN</td>\n      <td>NaN</td>\n      <td>NaN</td>\n      <td>NaN</td>\n      <td>NaN</td>\n      <td>NaN</td>\n    </tr>\n  </tbody>\n</table>\n<p>20 rows \u00d7 3810 columns</p>\n</div>", 
                        "text/plain": "productId   10002F  10080Q  10120M  10123CU  10124AW  10124GF  10125J  10133M  \\\ncustomerId                                                                      \n0              NaN     NaN     NaN      NaN      NaN      NaN     NaN     NaN   \n900            NaN     NaN     NaN      NaN      NaN      NaN     NaN     NaN   \n1800           NaN     NaN     NaN      NaN      NaN      NaN     NaN     NaN   \n2790           NaN     NaN     NaN      NaN      NaN      NaN     NaN     NaN   \n4590           NaN     NaN     NaN      NaN      NaN      NaN     NaN     NaN   \n5400           NaN     NaN     NaN      NaN      NaN      NaN     NaN     NaN   \n6300           NaN     NaN     NaN      NaN      NaN      NaN     NaN     0.0   \n6390           NaN     NaN     NaN      NaN      NaN      NaN     NaN     NaN   \n7200           NaN     NaN     NaN      NaN      NaN      NaN     NaN     NaN   \n7290           NaN     NaN     NaN      NaN      NaN      NaN     NaN     0.5   \n8100           NaN     NaN     NaN      NaN      NaN      NaN     NaN     0.0   \n9990           NaN     NaN     NaN      NaN      NaN      NaN     NaN     0.0   \n10890          NaN     NaN     NaN      NaN      NaN      NaN     NaN     0.0   \n11790          NaN     NaN     NaN      NaN      NaN      NaN     NaN     NaN   \n11880          NaN     NaN     NaN      NaN      NaN      NaN     NaN     NaN   \n12690          NaN     NaN     NaN      NaN      NaN      NaN     NaN     NaN   \n12780          NaN     NaN     NaN      NaN      NaN      NaN     NaN     0.0   \n13590          NaN     NaN     NaN      NaN      NaN      NaN     NaN     NaN   \n15480          NaN     NaN     NaN      NaN      NaN      NaN     NaN     NaN   \n16290          NaN     NaN     NaN      NaN      NaN      NaN     NaN     NaN   \n\nproductId   10135P  11001M   ...     90214OZ  90214PB  90214RZ  90214SF  \\\ncustomerId                   ...                                          \n0              NaN     NaN   ...         NaN      NaN      NaN      NaN   \n900            1.0     0.0   ...         NaN      NaN      NaN      NaN   \n1800           NaN     NaN   ...         NaN      NaN      NaN      NaN   \n2790           NaN     NaN   ...         NaN      NaN      NaN      NaN   \n4590           NaN     NaN   ...         NaN      NaN      NaN      NaN   \n5400           NaN     NaN   ...         NaN      NaN      NaN      NaN   \n6300           NaN     NaN   ...         NaN      NaN      NaN      NaN   \n6390           NaN     NaN   ...         NaN      NaN      NaN      NaN   \n7200           NaN     NaN   ...         NaN      NaN      NaN      NaN   \n7290           NaN     NaN   ...         NaN      NaN      NaN      NaN   \n8100           NaN     0.0   ...         NaN      NaN      NaN      NaN   \n9990           1.0     NaN   ...         NaN      NaN      NaN      0.0   \n10890          NaN     0.0   ...         NaN      NaN      NaN      NaN   \n11790          0.0     0.0   ...         NaN      NaN      NaN      0.0   \n11880          NaN     NaN   ...         NaN      NaN      NaN      NaN   \n12690          NaN     NaN   ...         NaN      NaN      NaN      NaN   \n12780          NaN     NaN   ...         NaN      NaN      NaN      NaN   \n13590          NaN     NaN   ...         NaN      NaN      NaN      NaN   \n15480          NaN     NaN   ...         NaN      NaN      NaN      NaN   \n16290          NaN     0.0   ...         NaN      NaN      NaN      NaN   \n\nproductId   90214TT  90214UO  90214VD  90214WH  90214YL  90214ZJ  \ncustomerId                                                        \n0               NaN      NaN      NaN      NaN      NaN      NaN  \n900             NaN      NaN      NaN      NaN      NaN      NaN  \n1800            NaN      NaN      NaN      NaN      NaN      NaN  \n2790            NaN      NaN      NaN      NaN      NaN      NaN  \n4590            NaN      NaN      NaN      NaN      NaN      NaN  \n5400            NaN      NaN      NaN      NaN      NaN      NaN  \n6300            NaN      NaN      NaN      NaN      NaN      NaN  \n6390            NaN      NaN      NaN      NaN      NaN      NaN  \n7200            NaN      NaN      NaN      NaN      NaN      NaN  \n7290            NaN      NaN      NaN      NaN      NaN      NaN  \n8100            NaN      NaN      NaN      NaN      NaN      NaN  \n9990            NaN      NaN      NaN      NaN      NaN      NaN  \n10890           NaN      NaN      NaN      NaN      NaN      NaN  \n11790           NaN      NaN      NaN      NaN      NaN      NaN  \n11880           NaN      NaN      NaN      NaN      NaN      NaN  \n12690           NaN      NaN      NaN      NaN      NaN      NaN  \n12780           NaN      NaN      NaN      NaN      NaN      NaN  \n13590           NaN      NaN      NaN      NaN      NaN      NaN  \n15480           NaN      NaN      NaN      NaN      NaN      NaN  \n16290           NaN      NaN      NaN      NaN      NaN      NaN  \n\n[20 rows x 3810 columns]"
                    }, 
                    "output_type": "execute_result"
                }
            ], 
            "source": "df_matrix_norm = (df_matrix-df_matrix.min())/(df_matrix.max()-df_matrix.min())\nprint(df_matrix_norm.shape)\ndf_matrix_norm.head(20)"
        }, 
        {
            "execution_count": 24, 
            "cell_type": "code", 
            "metadata": {}, 
            "outputs": [
                {
                    "output_type": "stream", 
                    "name": "stdout", 
                    "text": "(256976, 3)\n"
                }, 
                {
                    "execution_count": 24, 
                    "metadata": {}, 
                    "data": {
                        "text/html": "<div>\n<style scoped>\n    .dataframe tbody tr th:only-of-type {\n        vertical-align: middle;\n    }\n\n    .dataframe tbody tr th {\n        vertical-align: top;\n    }\n\n    .dataframe thead th {\n        text-align: right;\n    }\n</style>\n<table border=\"1\" class=\"dataframe\">\n  <thead>\n    <tr style=\"text-align: right;\">\n      <th></th>\n      <th>customerId</th>\n      <th>productId</th>\n      <th>scaled_purchase_freq</th>\n    </tr>\n  </thead>\n  <tbody>\n    <tr>\n      <th>38</th>\n      <td>25470</td>\n      <td>10002F</td>\n      <td>0.0</td>\n    </tr>\n    <tr>\n      <th>99</th>\n      <td>50949</td>\n      <td>10002F</td>\n      <td>0.0</td>\n    </tr>\n    <tr>\n      <th>114</th>\n      <td>56340</td>\n      <td>10002F</td>\n      <td>0.0</td>\n    </tr>\n    <tr>\n      <th>132</th>\n      <td>64539</td>\n      <td>10002F</td>\n      <td>0.0</td>\n    </tr>\n    <tr>\n      <th>140</th>\n      <td>68229</td>\n      <td>10002F</td>\n      <td>0.0</td>\n    </tr>\n    <tr>\n      <th>197</th>\n      <td>104499</td>\n      <td>10002F</td>\n      <td>0.0</td>\n    </tr>\n    <tr>\n      <th>216</th>\n      <td>120879</td>\n      <td>10002F</td>\n      <td>0.0</td>\n    </tr>\n    <tr>\n      <th>264</th>\n      <td>141759</td>\n      <td>10002F</td>\n      <td>0.0</td>\n    </tr>\n    <tr>\n      <th>268</th>\n      <td>142758</td>\n      <td>10002F</td>\n      <td>0.0</td>\n    </tr>\n    <tr>\n      <th>288</th>\n      <td>153639</td>\n      <td>10002F</td>\n      <td>0.0</td>\n    </tr>\n    <tr>\n      <th>324</th>\n      <td>168228</td>\n      <td>10002F</td>\n      <td>0.0</td>\n    </tr>\n    <tr>\n      <th>351</th>\n      <td>180018</td>\n      <td>10002F</td>\n      <td>0.0</td>\n    </tr>\n    <tr>\n      <th>357</th>\n      <td>186318</td>\n      <td>10002F</td>\n      <td>0.0</td>\n    </tr>\n    <tr>\n      <th>362</th>\n      <td>190908</td>\n      <td>10002F</td>\n      <td>0.0</td>\n    </tr>\n    <tr>\n      <th>407</th>\n      <td>223668</td>\n      <td>10002F</td>\n      <td>0.0</td>\n    </tr>\n    <tr>\n      <th>409</th>\n      <td>224478</td>\n      <td>10002F</td>\n      <td>0.0</td>\n    </tr>\n    <tr>\n      <th>423</th>\n      <td>230868</td>\n      <td>10002F</td>\n      <td>0.0</td>\n    </tr>\n    <tr>\n      <th>425</th>\n      <td>231768</td>\n      <td>10002F</td>\n      <td>0.0</td>\n    </tr>\n    <tr>\n      <th>525</th>\n      <td>273627</td>\n      <td>10002F</td>\n      <td>1.0</td>\n    </tr>\n    <tr>\n      <th>540</th>\n      <td>279117</td>\n      <td>10002F</td>\n      <td>0.0</td>\n    </tr>\n  </tbody>\n</table>\n</div>", 
                        "text/plain": "     customerId productId  scaled_purchase_freq\n38        25470    10002F                   0.0\n99        50949    10002F                   0.0\n114       56340    10002F                   0.0\n132       64539    10002F                   0.0\n140       68229    10002F                   0.0\n197      104499    10002F                   0.0\n216      120879    10002F                   0.0\n264      141759    10002F                   0.0\n268      142758    10002F                   0.0\n288      153639    10002F                   0.0\n324      168228    10002F                   0.0\n351      180018    10002F                   0.0\n357      186318    10002F                   0.0\n362      190908    10002F                   0.0\n407      223668    10002F                   0.0\n409      224478    10002F                   0.0\n423      230868    10002F                   0.0\n425      231768    10002F                   0.0\n525      273627    10002F                   1.0\n540      279117    10002F                   0.0"
                    }, 
                    "output_type": "execute_result"
                }
            ], 
            "source": "# create a table for input to the modeling\n\nd = df_matrix_norm.reset_index()\nd.index.names = ['scaled_purchase_freq']\ndata_norm = pd.melt(d, id_vars=['customerId'], value_name='scaled_purchase_freq').dropna()\nprint(data_norm.shape)\ndata_norm.head(20)"
        }, 
        {
            "source": "#### Define a function for normalizing data", 
            "cell_type": "markdown", 
            "metadata": {}
        }, 
        {
            "execution_count": 25, 
            "cell_type": "code", 
            "metadata": {}, 
            "outputs": [], 
            "source": "def normalize_data(data):\n    df_matrix = pd.pivot_table(data, values='purchase_count', index='customerId', columns='productId')\n    df_matrix_norm = (df_matrix-df_matrix.min())/(df_matrix.max()-df_matrix.min())\n    d = df_matrix_norm.reset_index()\n    d.index.names = ['scaled_purchase_freq']\n    return pd.melt(d, id_vars=['customerId'], value_name='scaled_purchase_freq').dropna()"
        }, 
        {
            "source": "* We can normalize the their purchase history, from 0-1 (with 1 being the most number of purchase for an item and 0 being 0 purchase count for that item).", 
            "cell_type": "markdown", 
            "metadata": {}
        }, 
        {
            "source": "## 4. Split train and test set\n* Splitting the data into training and testing sets is an important part of evaluating predictive modeling, in this case a collaborative filtering model. Typically, we use a larger portion of the data for training and a smaller portion for testing. \n* We use 80:20 ratio for our train-test set size.\n* Our training portion will be used to develop a predictive model, while the other to evaluate the model's performance.\n* Now that we have three datasets with purchase counts, purchase dummy, and scaled purchase counts, we would like to split each.", 
            "cell_type": "markdown", 
            "metadata": {}
        }, 
        {
            "execution_count": 26, 
            "cell_type": "code", 
            "metadata": {}, 
            "outputs": [
                {
                    "output_type": "stream", 
                    "name": "stdout", 
                    "text": "(216824, 3) (54207, 3)\n"
                }
            ], 
            "source": "train, test = train_test_split(data, test_size = .2)\nprint(train.shape, test.shape)"
        }, 
        {
            "execution_count": 27, 
            "cell_type": "code", 
            "metadata": {}, 
            "outputs": [], 
            "source": "# Using turicreate library, we convert dataframe to SFrame - this will be useful in the modeling part\n\ntrain_data = tc.SFrame(train)\ntest_data = tc.SFrame(test)"
        }, 
        {
            "execution_count": 28, 
            "cell_type": "code", 
            "metadata": {}, 
            "outputs": [
                {
                    "execution_count": 28, 
                    "metadata": {}, 
                    "data": {
                        "text/html": "<div style=\"max-height:1000px;max-width:1500px;overflow:auto;\"><table frame=\"box\" rules=\"cols\">\n    <tr>\n        <th style=\"padding-left: 1em; padding-right: 1em; text-align: center\">customerId</th>\n        <th style=\"padding-left: 1em; padding-right: 1em; text-align: center\">productId</th>\n        <th style=\"padding-left: 1em; padding-right: 1em; text-align: center\">purchase_count</th>\n    </tr>\n    <tr>\n        <td style=\"padding-left: 1em; padding-right: 1em; text-align: center; vertical-align: top\">309987</td>\n        <td style=\"padding-left: 1em; padding-right: 1em; text-align: center; vertical-align: top\">22311Z</td>\n        <td style=\"padding-left: 1em; padding-right: 1em; text-align: center; vertical-align: top\">1</td>\n    </tr>\n    <tr>\n        <td style=\"padding-left: 1em; padding-right: 1em; text-align: center; vertical-align: top\">165528</td>\n        <td style=\"padding-left: 1em; padding-right: 1em; text-align: center; vertical-align: top\">22979P</td>\n        <td style=\"padding-left: 1em; padding-right: 1em; text-align: center; vertical-align: top\">2</td>\n    </tr>\n    <tr>\n        <td style=\"padding-left: 1em; padding-right: 1em; text-align: center; vertical-align: top\">338067</td>\n        <td style=\"padding-left: 1em; padding-right: 1em; text-align: center; vertical-align: top\">22998M</td>\n        <td style=\"padding-left: 1em; padding-right: 1em; text-align: center; vertical-align: top\">1</td>\n    </tr>\n    <tr>\n        <td style=\"padding-left: 1em; padding-right: 1em; text-align: center; vertical-align: top\">181818</td>\n        <td style=\"padding-left: 1em; padding-right: 1em; text-align: center; vertical-align: top\">22195J</td>\n        <td style=\"padding-left: 1em; padding-right: 1em; text-align: center; vertical-align: top\">1</td>\n    </tr>\n    <tr>\n        <td style=\"padding-left: 1em; padding-right: 1em; text-align: center; vertical-align: top\">186318</td>\n        <td style=\"padding-left: 1em; padding-right: 1em; text-align: center; vertical-align: top\">10135P</td>\n        <td style=\"padding-left: 1em; padding-right: 1em; text-align: center; vertical-align: top\">1</td>\n    </tr>\n    <tr>\n        <td style=\"padding-left: 1em; padding-right: 1em; text-align: center; vertical-align: top\">309987</td>\n        <td style=\"padding-left: 1em; padding-right: 1em; text-align: center; vertical-align: top\">35954V</td>\n        <td style=\"padding-left: 1em; padding-right: 1em; text-align: center; vertical-align: top\">1</td>\n    </tr>\n    <tr>\n        <td style=\"padding-left: 1em; padding-right: 1em; text-align: center; vertical-align: top\">513585</td>\n        <td style=\"padding-left: 1em; padding-right: 1em; text-align: center; vertical-align: top\">23296Z</td>\n        <td style=\"padding-left: 1em; padding-right: 1em; text-align: center; vertical-align: top\">1</td>\n    </tr>\n    <tr>\n        <td style=\"padding-left: 1em; padding-right: 1em; text-align: center; vertical-align: top\">286407</td>\n        <td style=\"padding-left: 1em; padding-right: 1em; text-align: center; vertical-align: top\">22666I</td>\n        <td style=\"padding-left: 1em; padding-right: 1em; text-align: center; vertical-align: top\">1</td>\n    </tr>\n    <tr>\n        <td style=\"padding-left: 1em; padding-right: 1em; text-align: center; vertical-align: top\">449046</td>\n        <td style=\"padding-left: 1em; padding-right: 1em; text-align: center; vertical-align: top\">23161A</td>\n        <td style=\"padding-left: 1em; padding-right: 1em; text-align: center; vertical-align: top\">1</td>\n    </tr>\n    <tr>\n        <td style=\"padding-left: 1em; padding-right: 1em; text-align: center; vertical-align: top\">296397</td>\n        <td style=\"padding-left: 1em; padding-right: 1em; text-align: center; vertical-align: top\">22551F</td>\n        <td style=\"padding-left: 1em; padding-right: 1em; text-align: center; vertical-align: top\">2</td>\n    </tr>\n</table>\n[216824 rows x 3 columns]<br/>Note: Only the head of the SFrame is printed.<br/>You can use print_rows(num_rows=m, num_columns=n) to print more rows and columns.\n</div>", 
                        "text/plain": "Columns:\n\tcustomerId\tint\n\tproductId\tstr\n\tpurchase_count\tint\n\nRows: 216824\n\nData:\n+------------+-----------+----------------+\n| customerId | productId | purchase_count |\n+------------+-----------+----------------+\n|   309987   |   22311Z  |       1        |\n|   165528   |   22979P  |       2        |\n|   338067   |   22998M  |       1        |\n|   181818   |   22195J  |       1        |\n|   186318   |   10135P  |       1        |\n|   309987   |   35954V  |       1        |\n|   513585   |   23296Z  |       1        |\n|   286407   |   22666I  |       1        |\n|   449046   |   23161A  |       1        |\n|   296397   |   22551F  |       2        |\n+------------+-----------+----------------+\n[216824 rows x 3 columns]\nNote: Only the head of the SFrame is printed.\nYou can use print_rows(num_rows=m, num_columns=n) to print more rows and columns."
                    }, 
                    "output_type": "execute_result"
                }
            ], 
            "source": "train_data"
        }, 
        {
            "execution_count": 29, 
            "cell_type": "code", 
            "metadata": {}, 
            "outputs": [
                {
                    "execution_count": 29, 
                    "metadata": {}, 
                    "data": {
                        "text/html": "<div style=\"max-height:1000px;max-width:1500px;overflow:auto;\"><table frame=\"box\" rules=\"cols\">\n    <tr>\n        <th style=\"padding-left: 1em; padding-right: 1em; text-align: center\">customerId</th>\n        <th style=\"padding-left: 1em; padding-right: 1em; text-align: center\">productId</th>\n        <th style=\"padding-left: 1em; padding-right: 1em; text-align: center\">purchase_count</th>\n    </tr>\n    <tr>\n        <td style=\"padding-left: 1em; padding-right: 1em; text-align: center; vertical-align: top\">77220</td>\n        <td style=\"padding-left: 1em; padding-right: 1em; text-align: center; vertical-align: top\">21239K</td>\n        <td style=\"padding-left: 1em; padding-right: 1em; text-align: center; vertical-align: top\">2</td>\n    </tr>\n    <tr>\n        <td style=\"padding-left: 1em; padding-right: 1em; text-align: center; vertical-align: top\">91809</td>\n        <td style=\"padding-left: 1em; padding-right: 1em; text-align: center; vertical-align: top\">21201F</td>\n        <td style=\"padding-left: 1em; padding-right: 1em; text-align: center; vertical-align: top\">1</td>\n    </tr>\n    <tr>\n        <td style=\"padding-left: 1em; padding-right: 1em; text-align: center; vertical-align: top\">45459</td>\n        <td style=\"padding-left: 1em; padding-right: 1em; text-align: center; vertical-align: top\">20973S</td>\n        <td style=\"padding-left: 1em; padding-right: 1em; text-align: center; vertical-align: top\">1</td>\n    </tr>\n    <tr>\n        <td style=\"padding-left: 1em; padding-right: 1em; text-align: center; vertical-align: top\">900</td>\n        <td style=\"padding-left: 1em; padding-right: 1em; text-align: center; vertical-align: top\">22642H</td>\n        <td style=\"padding-left: 1em; padding-right: 1em; text-align: center; vertical-align: top\">1</td>\n    </tr>\n    <tr>\n        <td style=\"padding-left: 1em; padding-right: 1em; text-align: center; vertical-align: top\">268227</td>\n        <td style=\"padding-left: 1em; padding-right: 1em; text-align: center; vertical-align: top\">22960K</td>\n        <td style=\"padding-left: 1em; padding-right: 1em; text-align: center; vertical-align: top\">2</td>\n    </tr>\n    <tr>\n        <td style=\"padding-left: 1em; padding-right: 1em; text-align: center; vertical-align: top\">191898</td>\n        <td style=\"padding-left: 1em; padding-right: 1em; text-align: center; vertical-align: top\">23169O</td>\n        <td style=\"padding-left: 1em; padding-right: 1em; text-align: center; vertical-align: top\">1</td>\n    </tr>\n    <tr>\n        <td style=\"padding-left: 1em; padding-right: 1em; text-align: center; vertical-align: top\">467325</td>\n        <td style=\"padding-left: 1em; padding-right: 1em; text-align: center; vertical-align: top\">48116K</td>\n        <td style=\"padding-left: 1em; padding-right: 1em; text-align: center; vertical-align: top\">1</td>\n    </tr>\n    <tr>\n        <td style=\"padding-left: 1em; padding-right: 1em; text-align: center; vertical-align: top\">519975</td>\n        <td style=\"padding-left: 1em; padding-right: 1em; text-align: center; vertical-align: top\">21380E</td>\n        <td style=\"padding-left: 1em; padding-right: 1em; text-align: center; vertical-align: top\">1</td>\n    </tr>\n    <tr>\n        <td style=\"padding-left: 1em; padding-right: 1em; text-align: center; vertical-align: top\">20880</td>\n        <td style=\"padding-left: 1em; padding-right: 1em; text-align: center; vertical-align: top\">23094W</td>\n        <td style=\"padding-left: 1em; padding-right: 1em; text-align: center; vertical-align: top\">1</td>\n    </tr>\n    <tr>\n        <td style=\"padding-left: 1em; padding-right: 1em; text-align: center; vertical-align: top\">281817</td>\n        <td style=\"padding-left: 1em; padding-right: 1em; text-align: center; vertical-align: top\">21034O</td>\n        <td style=\"padding-left: 1em; padding-right: 1em; text-align: center; vertical-align: top\">6</td>\n    </tr>\n</table>\n[54207 rows x 3 columns]<br/>Note: Only the head of the SFrame is printed.<br/>You can use print_rows(num_rows=m, num_columns=n) to print more rows and columns.\n</div>", 
                        "text/plain": "Columns:\n\tcustomerId\tint\n\tproductId\tstr\n\tpurchase_count\tint\n\nRows: 54207\n\nData:\n+------------+-----------+----------------+\n| customerId | productId | purchase_count |\n+------------+-----------+----------------+\n|   77220    |   21239K  |       2        |\n|   91809    |   21201F  |       1        |\n|   45459    |   20973S  |       1        |\n|    900     |   22642H  |       1        |\n|   268227   |   22960K  |       2        |\n|   191898   |   23169O  |       1        |\n|   467325   |   48116K  |       1        |\n|   519975   |   21380E  |       1        |\n|   20880    |   23094W  |       1        |\n|   281817   |   21034O  |       6        |\n+------------+-----------+----------------+\n[54207 rows x 3 columns]\nNote: Only the head of the SFrame is printed.\nYou can use print_rows(num_rows=m, num_columns=n) to print more rows and columns."
                    }, 
                    "output_type": "execute_result"
                }
            ], 
            "source": "test_data"
        }, 
        {
            "source": "#### Define a `split_data` function for splitting data to training and test set", 
            "cell_type": "markdown", 
            "metadata": {}
        }, 
        {
            "execution_count": 30, 
            "cell_type": "code", 
            "metadata": {}, 
            "outputs": [], 
            "source": "# We can define a function for this step as follows\n\ndef split_data(data):\n    '''\n    Splits dataset into training and test set.\n    \n    Args:\n        data (pandas.DataFrame)\n        \n    Returns\n        train_data (tc.SFrame)\n        test_data (tc.SFrame)\n    '''\n    train, test = train_test_split(data, test_size = .2)\n    train_data = tc.SFrame(train)\n    test_data = tc.SFrame(test)\n    return train_data, test_data"
        }, 
        {
            "execution_count": 31, 
            "cell_type": "code", 
            "metadata": {}, 
            "outputs": [], 
            "source": "# # lets try with both dummy table and scaled/normalized purchase table\n\ntrain_data_dummy, test_data_dummy = split_data(data_dummy)\ntrain_data_norm, test_data_norm = split_data(data_norm)"
        }, 
        {
            "source": "## 5. Baseline Model\nBefore running a more complicated approach such as collaborative filtering, we would like to use a baseline model to compare and evaluate models. Since baseline typically uses a very simple approach, techniques used beyond this approach should be chosen if they show relatively better accuracy and complexity.\n\n### 5.1. Using a Popularity model as a baseline\n* The popularity model takes the most popular items for recommendation. These items are products with the highest number of sells across customers.\n* We use `turicreate` library for running and evaluating both baseline and collaborative filtering models below\n* Training data is used for model selection\n\n#### Using purchase counts", 
            "cell_type": "markdown", 
            "metadata": {}
        }, 
        {
            "execution_count": 32, 
            "cell_type": "code", 
            "metadata": {}, 
            "outputs": [], 
            "source": "# variables to define field names\nuser_id = 'customerId'\nitem_id = 'productId'\ntarget = 'purchase_count'\nusers_to_recommend = list(transactions[user_id])\nn_rec = 10 # number of items to recommend\nn_display = 30"
        }, 
        {
            "execution_count": 33, 
            "cell_type": "code", 
            "metadata": {}, 
            "outputs": [
                {
                    "output_type": "display_data", 
                    "data": {
                        "text/html": "<pre>Preparing data set.</pre>", 
                        "text/plain": "Preparing data set."
                    }, 
                    "metadata": {}
                }, 
                {
                    "output_type": "display_data", 
                    "data": {
                        "text/html": "<pre>    Data has 216824 observations with 970 users and 3763 items.</pre>", 
                        "text/plain": "    Data has 216824 observations with 970 users and 3763 items."
                    }, 
                    "metadata": {}
                }, 
                {
                    "output_type": "display_data", 
                    "data": {
                        "text/html": "<pre>    Data prepared in: 9.38314s</pre>", 
                        "text/plain": "    Data prepared in: 9.38314s"
                    }, 
                    "metadata": {}
                }, 
                {
                    "output_type": "display_data", 
                    "data": {
                        "text/html": "<pre>216824 observations to process; with 3763 unique items.</pre>", 
                        "text/plain": "216824 observations to process; with 3763 unique items."
                    }, 
                    "metadata": {}
                }
            ], 
            "source": "popularity_model = tc.popularity_recommender.create(train_data, \n                                                    user_id=user_id, \n                                                    item_id=item_id, \n                                                    target=target)"
        }, 
        {
            "execution_count": 34, 
            "cell_type": "code", 
            "metadata": {}, 
            "outputs": [
                {
                    "output_type": "display_data", 
                    "data": {
                        "text/html": "<pre>recommendations finished on 1000/330575 queries. users per second: 246124</pre>", 
                        "text/plain": "recommendations finished on 1000/330575 queries. users per second: 246124"
                    }, 
                    "metadata": {}
                }, 
                {
                    "output_type": "display_data", 
                    "data": {
                        "text/html": "<pre>recommendations finished on 2000/330575 queries. users per second: 97224.2</pre>", 
                        "text/plain": "recommendations finished on 2000/330575 queries. users per second: 97224.2"
                    }, 
                    "metadata": {}
                }, 
                {
                    "output_type": "display_data", 
                    "data": {
                        "text/html": "<pre>recommendations finished on 3000/330575 queries. users per second: 51344.4</pre>", 
                        "text/plain": "recommendations finished on 3000/330575 queries. users per second: 51344.4"
                    }, 
                    "metadata": {}
                }, 
                {
                    "output_type": "display_data", 
                    "data": {
                        "text/html": "<pre>recommendations finished on 4000/330575 queries. users per second: 40915.7</pre>", 
                        "text/plain": "recommendations finished on 4000/330575 queries. users per second: 40915.7"
                    }, 
                    "metadata": {}
                }, 
                {
                    "output_type": "display_data", 
                    "data": {
                        "text/html": "<pre>recommendations finished on 5000/330575 queries. users per second: 35638.9</pre>", 
                        "text/plain": "recommendations finished on 5000/330575 queries. users per second: 35638.9"
                    }, 
                    "metadata": {}
                }, 
                {
                    "output_type": "display_data", 
                    "data": {
                        "text/html": "<pre>recommendations finished on 6000/330575 queries. users per second: 30088.5</pre>", 
                        "text/plain": "recommendations finished on 6000/330575 queries. users per second: 30088.5"
                    }, 
                    "metadata": {}
                }, 
                {
                    "output_type": "display_data", 
                    "data": {
                        "text/html": "<pre>recommendations finished on 7000/330575 queries. users per second: 27163.7</pre>", 
                        "text/plain": "recommendations finished on 7000/330575 queries. users per second: 27163.7"
                    }, 
                    "metadata": {}
                }, 
                {
                    "output_type": "display_data", 
                    "data": {
                        "text/html": "<pre>recommendations finished on 8000/330575 queries. users per second: 28449.7</pre>", 
                        "text/plain": "recommendations finished on 8000/330575 queries. users per second: 28449.7"
                    }, 
                    "metadata": {}
                }, 
                {
                    "output_type": "display_data", 
                    "data": {
                        "text/html": "<pre>recommendations finished on 9000/330575 queries. users per second: 27746.6</pre>", 
                        "text/plain": "recommendations finished on 9000/330575 queries. users per second: 27746.6"
                    }, 
                    "metadata": {}
                }, 
                {
                    "output_type": "display_data", 
                    "data": {
                        "text/html": "<pre>recommendations finished on 10000/330575 queries. users per second: 27739.5</pre>", 
                        "text/plain": "recommendations finished on 10000/330575 queries. users per second: 27739.5"
                    }, 
                    "metadata": {}
                }, 
                {
                    "output_type": "display_data", 
                    "data": {
                        "text/html": "<pre>recommendations finished on 11000/330575 queries. users per second: 27559.7</pre>", 
                        "text/plain": "recommendations finished on 11000/330575 queries. users per second: 27559.7"
                    }, 
                    "metadata": {}
                }, 
                {
                    "output_type": "display_data", 
                    "data": {
                        "text/html": "<pre>recommendations finished on 12000/330575 queries. users per second: 27214</pre>", 
                        "text/plain": "recommendations finished on 12000/330575 queries. users per second: 27214"
                    }, 
                    "metadata": {}
                }, 
                {
                    "output_type": "display_data", 
                    "data": {
                        "text/html": "<pre>recommendations finished on 13000/330575 queries. users per second: 26109.7</pre>", 
                        "text/plain": "recommendations finished on 13000/330575 queries. users per second: 26109.7"
                    }, 
                    "metadata": {}
                }, 
                {
                    "output_type": "display_data", 
                    "data": {
                        "text/html": "<pre>recommendations finished on 14000/330575 queries. users per second: 25912.9</pre>", 
                        "text/plain": "recommendations finished on 14000/330575 queries. users per second: 25912.9"
                    }, 
                    "metadata": {}
                }, 
                {
                    "output_type": "display_data", 
                    "data": {
                        "text/html": "<pre>recommendations finished on 15000/330575 queries. users per second: 25050.3</pre>", 
                        "text/plain": "recommendations finished on 15000/330575 queries. users per second: 25050.3"
                    }, 
                    "metadata": {}
                }, 
                {
                    "output_type": "display_data", 
                    "data": {
                        "text/html": "<pre>recommendations finished on 16000/330575 queries. users per second: 23577.2</pre>", 
                        "text/plain": "recommendations finished on 16000/330575 queries. users per second: 23577.2"
                    }, 
                    "metadata": {}
                }, 
                {
                    "output_type": "display_data", 
                    "data": {
                        "text/html": "<pre>recommendations finished on 17000/330575 queries. users per second: 22428.2</pre>", 
                        "text/plain": "recommendations finished on 17000/330575 queries. users per second: 22428.2"
                    }, 
                    "metadata": {}
                }, 
                {
                    "output_type": "display_data", 
                    "data": {
                        "text/html": "<pre>recommendations finished on 18000/330575 queries. users per second: 21936.7</pre>", 
                        "text/plain": "recommendations finished on 18000/330575 queries. users per second: 21936.7"
                    }, 
                    "metadata": {}
                }, 
                {
                    "output_type": "display_data", 
                    "data": {
                        "text/html": "<pre>recommendations finished on 19000/330575 queries. users per second: 21139.4</pre>", 
                        "text/plain": "recommendations finished on 19000/330575 queries. users per second: 21139.4"
                    }, 
                    "metadata": {}
                }, 
                {
                    "output_type": "display_data", 
                    "data": {
                        "text/html": "<pre>recommendations finished on 20000/330575 queries. users per second: 20455.2</pre>", 
                        "text/plain": "recommendations finished on 20000/330575 queries. users per second: 20455.2"
                    }, 
                    "metadata": {}
                }, 
                {
                    "output_type": "display_data", 
                    "data": {
                        "text/html": "<pre>recommendations finished on 21000/330575 queries. users per second: 20630.8</pre>", 
                        "text/plain": "recommendations finished on 21000/330575 queries. users per second: 20630.8"
                    }, 
                    "metadata": {}
                }, 
                {
                    "output_type": "display_data", 
                    "data": {
                        "text/html": "<pre>recommendations finished on 22000/330575 queries. users per second: 20387.9</pre>", 
                        "text/plain": "recommendations finished on 22000/330575 queries. users per second: 20387.9"
                    }, 
                    "metadata": {}
                }, 
                {
                    "output_type": "display_data", 
                    "data": {
                        "text/html": "<pre>recommendations finished on 23000/330575 queries. users per second: 20199.8</pre>", 
                        "text/plain": "recommendations finished on 23000/330575 queries. users per second: 20199.8"
                    }, 
                    "metadata": {}
                }, 
                {
                    "output_type": "display_data", 
                    "data": {
                        "text/html": "<pre>recommendations finished on 24000/330575 queries. users per second: 20368.5</pre>", 
                        "text/plain": "recommendations finished on 24000/330575 queries. users per second: 20368.5"
                    }, 
                    "metadata": {}
                }, 
                {
                    "output_type": "display_data", 
                    "data": {
                        "text/html": "<pre>recommendations finished on 25000/330575 queries. users per second: 20486.8</pre>", 
                        "text/plain": "recommendations finished on 25000/330575 queries. users per second: 20486.8"
                    }, 
                    "metadata": {}
                }, 
                {
                    "output_type": "display_data", 
                    "data": {
                        "text/html": "<pre>recommendations finished on 26000/330575 queries. users per second: 20344.3</pre>", 
                        "text/plain": "recommendations finished on 26000/330575 queries. users per second: 20344.3"
                    }, 
                    "metadata": {}
                }, 
                {
                    "output_type": "display_data", 
                    "data": {
                        "text/html": "<pre>recommendations finished on 27000/330575 queries. users per second: 20181.4</pre>", 
                        "text/plain": "recommendations finished on 27000/330575 queries. users per second: 20181.4"
                    }, 
                    "metadata": {}
                }, 
                {
                    "output_type": "display_data", 
                    "data": {
                        "text/html": "<pre>recommendations finished on 28000/330575 queries. users per second: 20016.1</pre>", 
                        "text/plain": "recommendations finished on 28000/330575 queries. users per second: 20016.1"
                    }, 
                    "metadata": {}
                }, 
                {
                    "output_type": "display_data", 
                    "data": {
                        "text/html": "<pre>recommendations finished on 29000/330575 queries. users per second: 19319.5</pre>", 
                        "text/plain": "recommendations finished on 29000/330575 queries. users per second: 19319.5"
                    }, 
                    "metadata": {}
                }, 
                {
                    "output_type": "display_data", 
                    "data": {
                        "text/html": "<pre>recommendations finished on 30000/330575 queries. users per second: 18517.4</pre>", 
                        "text/plain": "recommendations finished on 30000/330575 queries. users per second: 18517.4"
                    }, 
                    "metadata": {}
                }, 
                {
                    "output_type": "display_data", 
                    "data": {
                        "text/html": "<pre>recommendations finished on 31000/330575 queries. users per second: 18465.5</pre>", 
                        "text/plain": "recommendations finished on 31000/330575 queries. users per second: 18465.5"
                    }, 
                    "metadata": {}
                }, 
                {
                    "output_type": "display_data", 
                    "data": {
                        "text/html": "<pre>recommendations finished on 32000/330575 queries. users per second: 18378.8</pre>", 
                        "text/plain": "recommendations finished on 32000/330575 queries. users per second: 18378.8"
                    }, 
                    "metadata": {}
                }, 
                {
                    "output_type": "display_data", 
                    "data": {
                        "text/html": "<pre>recommendations finished on 33000/330575 queries. users per second: 17934</pre>", 
                        "text/plain": "recommendations finished on 33000/330575 queries. users per second: 17934"
                    }, 
                    "metadata": {}
                }, 
                {
                    "output_type": "display_data", 
                    "data": {
                        "text/html": "<pre>recommendations finished on 34000/330575 queries. users per second: 17723.5</pre>", 
                        "text/plain": "recommendations finished on 34000/330575 queries. users per second: 17723.5"
                    }, 
                    "metadata": {}
                }, 
                {
                    "output_type": "display_data", 
                    "data": {
                        "text/html": "<pre>recommendations finished on 35000/330575 queries. users per second: 16660.8</pre>", 
                        "text/plain": "recommendations finished on 35000/330575 queries. users per second: 16660.8"
                    }, 
                    "metadata": {}
                }, 
                {
                    "output_type": "display_data", 
                    "data": {
                        "text/html": "<pre>recommendations finished on 36000/330575 queries. users per second: 16216.7</pre>", 
                        "text/plain": "recommendations finished on 36000/330575 queries. users per second: 16216.7"
                    }, 
                    "metadata": {}
                }, 
                {
                    "output_type": "display_data", 
                    "data": {
                        "text/html": "<pre>recommendations finished on 37000/330575 queries. users per second: 16384.1</pre>", 
                        "text/plain": "recommendations finished on 37000/330575 queries. users per second: 16384.1"
                    }, 
                    "metadata": {}
                }, 
                {
                    "output_type": "display_data", 
                    "data": {
                        "text/html": "<pre>recommendations finished on 38000/330575 queries. users per second: 16535.6</pre>", 
                        "text/plain": "recommendations finished on 38000/330575 queries. users per second: 16535.6"
                    }, 
                    "metadata": {}
                }, 
                {
                    "output_type": "display_data", 
                    "data": {
                        "text/html": "<pre>recommendations finished on 39000/330575 queries. users per second: 16677</pre>", 
                        "text/plain": "recommendations finished on 39000/330575 queries. users per second: 16677"
                    }, 
                    "metadata": {}
                }, 
                {
                    "output_type": "display_data", 
                    "data": {
                        "text/html": "<pre>recommendations finished on 40000/330575 queries. users per second: 16812.5</pre>", 
                        "text/plain": "recommendations finished on 40000/330575 queries. users per second: 16812.5"
                    }, 
                    "metadata": {}
                }, 
                {
                    "output_type": "display_data", 
                    "data": {
                        "text/html": "<pre>recommendations finished on 41000/330575 queries. users per second: 16957.3</pre>", 
                        "text/plain": "recommendations finished on 41000/330575 queries. users per second: 16957.3"
                    }, 
                    "metadata": {}
                }, 
                {
                    "output_type": "display_data", 
                    "data": {
                        "text/html": "<pre>recommendations finished on 42000/330575 queries. users per second: 17088.1</pre>", 
                        "text/plain": "recommendations finished on 42000/330575 queries. users per second: 17088.1"
                    }, 
                    "metadata": {}
                }, 
                {
                    "output_type": "display_data", 
                    "data": {
                        "text/html": "<pre>recommendations finished on 43000/330575 queries. users per second: 17206.3</pre>", 
                        "text/plain": "recommendations finished on 43000/330575 queries. users per second: 17206.3"
                    }, 
                    "metadata": {}
                }, 
                {
                    "output_type": "display_data", 
                    "data": {
                        "text/html": "<pre>recommendations finished on 44000/330575 queries. users per second: 17334.9</pre>", 
                        "text/plain": "recommendations finished on 44000/330575 queries. users per second: 17334.9"
                    }, 
                    "metadata": {}
                }, 
                {
                    "output_type": "display_data", 
                    "data": {
                        "text/html": "<pre>recommendations finished on 45000/330575 queries. users per second: 17323.6</pre>", 
                        "text/plain": "recommendations finished on 45000/330575 queries. users per second: 17323.6"
                    }, 
                    "metadata": {}
                }, 
                {
                    "output_type": "display_data", 
                    "data": {
                        "text/html": "<pre>recommendations finished on 46000/330575 queries. users per second: 17296.3</pre>", 
                        "text/plain": "recommendations finished on 46000/330575 queries. users per second: 17296.3"
                    }, 
                    "metadata": {}
                }, 
                {
                    "output_type": "display_data", 
                    "data": {
                        "text/html": "<pre>recommendations finished on 47000/330575 queries. users per second: 17282.5</pre>", 
                        "text/plain": "recommendations finished on 47000/330575 queries. users per second: 17282.5"
                    }, 
                    "metadata": {}
                }, 
                {
                    "output_type": "display_data", 
                    "data": {
                        "text/html": "<pre>recommendations finished on 48000/330575 queries. users per second: 17275.3</pre>", 
                        "text/plain": "recommendations finished on 48000/330575 queries. users per second: 17275.3"
                    }, 
                    "metadata": {}
                }, 
                {
                    "output_type": "display_data", 
                    "data": {
                        "text/html": "<pre>recommendations finished on 49000/330575 queries. users per second: 17376.5</pre>", 
                        "text/plain": "recommendations finished on 49000/330575 queries. users per second: 17376.5"
                    }, 
                    "metadata": {}
                }, 
                {
                    "output_type": "display_data", 
                    "data": {
                        "text/html": "<pre>recommendations finished on 50000/330575 queries. users per second: 17021.8</pre>", 
                        "text/plain": "recommendations finished on 50000/330575 queries. users per second: 17021.8"
                    }, 
                    "metadata": {}
                }, 
                {
                    "output_type": "display_data", 
                    "data": {
                        "text/html": "<pre>recommendations finished on 51000/330575 queries. users per second: 17005.7</pre>", 
                        "text/plain": "recommendations finished on 51000/330575 queries. users per second: 17005.7"
                    }, 
                    "metadata": {}
                }, 
                {
                    "output_type": "display_data", 
                    "data": {
                        "text/html": "<pre>recommendations finished on 52000/330575 queries. users per second: 16785.3</pre>", 
                        "text/plain": "recommendations finished on 52000/330575 queries. users per second: 16785.3"
                    }, 
                    "metadata": {}
                }, 
                {
                    "output_type": "display_data", 
                    "data": {
                        "text/html": "<pre>recommendations finished on 53000/330575 queries. users per second: 16775.2</pre>", 
                        "text/plain": "recommendations finished on 53000/330575 queries. users per second: 16775.2"
                    }, 
                    "metadata": {}
                }, 
                {
                    "output_type": "display_data", 
                    "data": {
                        "text/html": "<pre>recommendations finished on 54000/330575 queries. users per second: 16875</pre>", 
                        "text/plain": "recommendations finished on 54000/330575 queries. users per second: 16875"
                    }, 
                    "metadata": {}
                }, 
                {
                    "output_type": "display_data", 
                    "data": {
                        "text/html": "<pre>recommendations finished on 55000/330575 queries. users per second: 16876.3</pre>", 
                        "text/plain": "recommendations finished on 55000/330575 queries. users per second: 16876.3"
                    }, 
                    "metadata": {}
                }, 
                {
                    "output_type": "display_data", 
                    "data": {
                        "text/html": "<pre>recommendations finished on 56000/330575 queries. users per second: 16873.7</pre>", 
                        "text/plain": "recommendations finished on 56000/330575 queries. users per second: 16873.7"
                    }, 
                    "metadata": {}
                }, 
                {
                    "output_type": "display_data", 
                    "data": {
                        "text/html": "<pre>recommendations finished on 57000/330575 queries. users per second: 16862.3</pre>", 
                        "text/plain": "recommendations finished on 57000/330575 queries. users per second: 16862.3"
                    }, 
                    "metadata": {}
                }, 
                {
                    "output_type": "display_data", 
                    "data": {
                        "text/html": "<pre>recommendations finished on 58000/330575 queries. users per second: 16955.5</pre>", 
                        "text/plain": "recommendations finished on 58000/330575 queries. users per second: 16955.5"
                    }, 
                    "metadata": {}
                }, 
                {
                    "output_type": "display_data", 
                    "data": {
                        "text/html": "<pre>recommendations finished on 59000/330575 queries. users per second: 16964.4</pre>", 
                        "text/plain": "recommendations finished on 59000/330575 queries. users per second: 16964.4"
                    }, 
                    "metadata": {}
                }, 
                {
                    "output_type": "display_data", 
                    "data": {
                        "text/html": "<pre>recommendations finished on 60000/330575 queries. users per second: 17052.7</pre>", 
                        "text/plain": "recommendations finished on 60000/330575 queries. users per second: 17052.7"
                    }, 
                    "metadata": {}
                }, 
                {
                    "output_type": "display_data", 
                    "data": {
                        "text/html": "<pre>recommendations finished on 61000/330575 queries. users per second: 17138.3</pre>", 
                        "text/plain": "recommendations finished on 61000/330575 queries. users per second: 17138.3"
                    }, 
                    "metadata": {}
                }, 
                {
                    "output_type": "display_data", 
                    "data": {
                        "text/html": "<pre>recommendations finished on 62000/330575 queries. users per second: 17224.5</pre>", 
                        "text/plain": "recommendations finished on 62000/330575 queries. users per second: 17224.5"
                    }, 
                    "metadata": {}
                }, 
                {
                    "output_type": "display_data", 
                    "data": {
                        "text/html": "<pre>recommendations finished on 63000/330575 queries. users per second: 17223.8</pre>", 
                        "text/plain": "recommendations finished on 63000/330575 queries. users per second: 17223.8"
                    }, 
                    "metadata": {}
                }, 
                {
                    "output_type": "display_data", 
                    "data": {
                        "text/html": "<pre>recommendations finished on 64000/330575 queries. users per second: 17374.2</pre>", 
                        "text/plain": "recommendations finished on 64000/330575 queries. users per second: 17374.2"
                    }, 
                    "metadata": {}
                }, 
                {
                    "output_type": "display_data", 
                    "data": {
                        "text/html": "<pre>recommendations finished on 65000/330575 queries. users per second: 17384.8</pre>", 
                        "text/plain": "recommendations finished on 65000/330575 queries. users per second: 17384.8"
                    }, 
                    "metadata": {}
                }, 
                {
                    "output_type": "display_data", 
                    "data": {
                        "text/html": "<pre>recommendations finished on 66000/330575 queries. users per second: 17557.7</pre>", 
                        "text/plain": "recommendations finished on 66000/330575 queries. users per second: 17557.7"
                    }, 
                    "metadata": {}
                }, 
                {
                    "output_type": "display_data", 
                    "data": {
                        "text/html": "<pre>recommendations finished on 67000/330575 queries. users per second: 17638.3</pre>", 
                        "text/plain": "recommendations finished on 67000/330575 queries. users per second: 17638.3"
                    }, 
                    "metadata": {}
                }, 
                {
                    "output_type": "display_data", 
                    "data": {
                        "text/html": "<pre>recommendations finished on 68000/330575 queries. users per second: 17706.8</pre>", 
                        "text/plain": "recommendations finished on 68000/330575 queries. users per second: 17706.8"
                    }, 
                    "metadata": {}
                }, 
                {
                    "output_type": "display_data", 
                    "data": {
                        "text/html": "<pre>recommendations finished on 69000/330575 queries. users per second: 17785.9</pre>", 
                        "text/plain": "recommendations finished on 69000/330575 queries. users per second: 17785.9"
                    }, 
                    "metadata": {}
                }, 
                {
                    "output_type": "display_data", 
                    "data": {
                        "text/html": "<pre>recommendations finished on 70000/330575 queries. users per second: 17778</pre>", 
                        "text/plain": "recommendations finished on 70000/330575 queries. users per second: 17778"
                    }, 
                    "metadata": {}
                }, 
                {
                    "output_type": "display_data", 
                    "data": {
                        "text/html": "<pre>recommendations finished on 71000/330575 queries. users per second: 17927.4</pre>", 
                        "text/plain": "recommendations finished on 71000/330575 queries. users per second: 17927.4"
                    }, 
                    "metadata": {}
                }, 
                {
                    "output_type": "display_data", 
                    "data": {
                        "text/html": "<pre>recommendations finished on 72000/330575 queries. users per second: 17922.2</pre>", 
                        "text/plain": "recommendations finished on 72000/330575 queries. users per second: 17922.2"
                    }, 
                    "metadata": {}
                }, 
                {
                    "output_type": "display_data", 
                    "data": {
                        "text/html": "<pre>recommendations finished on 73000/330575 queries. users per second: 18050.6</pre>", 
                        "text/plain": "recommendations finished on 73000/330575 queries. users per second: 18050.6"
                    }, 
                    "metadata": {}
                }, 
                {
                    "output_type": "display_data", 
                    "data": {
                        "text/html": "<pre>recommendations finished on 74000/330575 queries. users per second: 18059.5</pre>", 
                        "text/plain": "recommendations finished on 74000/330575 queries. users per second: 18059.5"
                    }, 
                    "metadata": {}
                }, 
                {
                    "output_type": "display_data", 
                    "data": {
                        "text/html": "<pre>recommendations finished on 75000/330575 queries. users per second: 18127</pre>", 
                        "text/plain": "recommendations finished on 75000/330575 queries. users per second: 18127"
                    }, 
                    "metadata": {}
                }, 
                {
                    "output_type": "display_data", 
                    "data": {
                        "text/html": "<pre>recommendations finished on 76000/330575 queries. users per second: 18016.4</pre>", 
                        "text/plain": "recommendations finished on 76000/330575 queries. users per second: 18016.4"
                    }, 
                    "metadata": {}
                }, 
                {
                    "output_type": "display_data", 
                    "data": {
                        "text/html": "<pre>recommendations finished on 77000/330575 queries. users per second: 17999.2</pre>", 
                        "text/plain": "recommendations finished on 77000/330575 queries. users per second: 17999.2"
                    }, 
                    "metadata": {}
                }, 
                {
                    "output_type": "display_data", 
                    "data": {
                        "text/html": "<pre>recommendations finished on 78000/330575 queries. users per second: 17898.7</pre>", 
                        "text/plain": "recommendations finished on 78000/330575 queries. users per second: 17898.7"
                    }, 
                    "metadata": {}
                }, 
                {
                    "output_type": "display_data", 
                    "data": {
                        "text/html": "<pre>recommendations finished on 79000/330575 queries. users per second: 17961.2</pre>", 
                        "text/plain": "recommendations finished on 79000/330575 queries. users per second: 17961.2"
                    }, 
                    "metadata": {}
                }, 
                {
                    "output_type": "display_data", 
                    "data": {
                        "text/html": "<pre>recommendations finished on 80000/330575 queries. users per second: 18023.4</pre>", 
                        "text/plain": "recommendations finished on 80000/330575 queries. users per second: 18023.4"
                    }, 
                    "metadata": {}
                }, 
                {
                    "output_type": "display_data", 
                    "data": {
                        "text/html": "<pre>recommendations finished on 81000/330575 queries. users per second: 18079.6</pre>", 
                        "text/plain": "recommendations finished on 81000/330575 queries. users per second: 18079.6"
                    }, 
                    "metadata": {}
                }, 
                {
                    "output_type": "display_data", 
                    "data": {
                        "text/html": "<pre>recommendations finished on 82000/330575 queries. users per second: 18067.3</pre>", 
                        "text/plain": "recommendations finished on 82000/330575 queries. users per second: 18067.3"
                    }, 
                    "metadata": {}
                }, 
                {
                    "output_type": "display_data", 
                    "data": {
                        "text/html": "<pre>recommendations finished on 83000/330575 queries. users per second: 18118.4</pre>", 
                        "text/plain": "recommendations finished on 83000/330575 queries. users per second: 18118.4"
                    }, 
                    "metadata": {}
                }, 
                {
                    "output_type": "display_data", 
                    "data": {
                        "text/html": "<pre>recommendations finished on 84000/330575 queries. users per second: 18180.3</pre>", 
                        "text/plain": "recommendations finished on 84000/330575 queries. users per second: 18180.3"
                    }, 
                    "metadata": {}
                }, 
                {
                    "output_type": "display_data", 
                    "data": {
                        "text/html": "<pre>recommendations finished on 85000/330575 queries. users per second: 18240.8</pre>", 
                        "text/plain": "recommendations finished on 85000/330575 queries. users per second: 18240.8"
                    }, 
                    "metadata": {}
                }, 
                {
                    "output_type": "display_data", 
                    "data": {
                        "text/html": "<pre>recommendations finished on 86000/330575 queries. users per second: 18226.3</pre>", 
                        "text/plain": "recommendations finished on 86000/330575 queries. users per second: 18226.3"
                    }, 
                    "metadata": {}
                }, 
                {
                    "output_type": "display_data", 
                    "data": {
                        "text/html": "<pre>recommendations finished on 87000/330575 queries. users per second: 18282.7</pre>", 
                        "text/plain": "recommendations finished on 87000/330575 queries. users per second: 18282.7"
                    }, 
                    "metadata": {}
                }, 
                {
                    "output_type": "display_data", 
                    "data": {
                        "text/html": "<pre>recommendations finished on 88000/330575 queries. users per second: 18340.6</pre>", 
                        "text/plain": "recommendations finished on 88000/330575 queries. users per second: 18340.6"
                    }, 
                    "metadata": {}
                }, 
                {
                    "output_type": "display_data", 
                    "data": {
                        "text/html": "<pre>recommendations finished on 89000/330575 queries. users per second: 18386.1</pre>", 
                        "text/plain": "recommendations finished on 89000/330575 queries. users per second: 18386.1"
                    }, 
                    "metadata": {}
                }, 
                {
                    "output_type": "display_data", 
                    "data": {
                        "text/html": "<pre>recommendations finished on 90000/330575 queries. users per second: 18450.9</pre>", 
                        "text/plain": "recommendations finished on 90000/330575 queries. users per second: 18450.9"
                    }, 
                    "metadata": {}
                }, 
                {
                    "output_type": "display_data", 
                    "data": {
                        "text/html": "<pre>recommendations finished on 91000/330575 queries. users per second: 18502.9</pre>", 
                        "text/plain": "recommendations finished on 91000/330575 queries. users per second: 18502.9"
                    }, 
                    "metadata": {}
                }, 
                {
                    "output_type": "display_data", 
                    "data": {
                        "text/html": "<pre>recommendations finished on 92000/330575 queries. users per second: 18554.9</pre>", 
                        "text/plain": "recommendations finished on 92000/330575 queries. users per second: 18554.9"
                    }, 
                    "metadata": {}
                }, 
                {
                    "output_type": "display_data", 
                    "data": {
                        "text/html": "<pre>recommendations finished on 93000/330575 queries. users per second: 18608.4</pre>", 
                        "text/plain": "recommendations finished on 93000/330575 queries. users per second: 18608.4"
                    }, 
                    "metadata": {}
                }, 
                {
                    "output_type": "display_data", 
                    "data": {
                        "text/html": "<pre>recommendations finished on 94000/330575 queries. users per second: 18657.4</pre>", 
                        "text/plain": "recommendations finished on 94000/330575 queries. users per second: 18657.4"
                    }, 
                    "metadata": {}
                }, 
                {
                    "output_type": "display_data", 
                    "data": {
                        "text/html": "<pre>recommendations finished on 95000/330575 queries. users per second: 18633</pre>", 
                        "text/plain": "recommendations finished on 95000/330575 queries. users per second: 18633"
                    }, 
                    "metadata": {}
                }, 
                {
                    "output_type": "display_data", 
                    "data": {
                        "text/html": "<pre>recommendations finished on 96000/330575 queries. users per second: 18540.7</pre>", 
                        "text/plain": "recommendations finished on 96000/330575 queries. users per second: 18540.7"
                    }, 
                    "metadata": {}
                }, 
                {
                    "output_type": "display_data", 
                    "data": {
                        "text/html": "<pre>recommendations finished on 97000/330575 queries. users per second: 18657.2</pre>", 
                        "text/plain": "recommendations finished on 97000/330575 queries. users per second: 18657.2"
                    }, 
                    "metadata": {}
                }, 
                {
                    "output_type": "display_data", 
                    "data": {
                        "text/html": "<pre>recommendations finished on 98000/330575 queries. users per second: 18638</pre>", 
                        "text/plain": "recommendations finished on 98000/330575 queries. users per second: 18638"
                    }, 
                    "metadata": {}
                }, 
                {
                    "output_type": "display_data", 
                    "data": {
                        "text/html": "<pre>recommendations finished on 99000/330575 queries. users per second: 18685.5</pre>", 
                        "text/plain": "recommendations finished on 99000/330575 queries. users per second: 18685.5"
                    }, 
                    "metadata": {}
                }, 
                {
                    "output_type": "display_data", 
                    "data": {
                        "text/html": "<pre>recommendations finished on 100000/330575 queries. users per second: 18800.5</pre>", 
                        "text/plain": "recommendations finished on 100000/330575 queries. users per second: 18800.5"
                    }, 
                    "metadata": {}
                }, 
                {
                    "output_type": "display_data", 
                    "data": {
                        "text/html": "<pre>recommendations finished on 101000/330575 queries. users per second: 18849.2</pre>", 
                        "text/plain": "recommendations finished on 101000/330575 queries. users per second: 18849.2"
                    }, 
                    "metadata": {}
                }, 
                {
                    "output_type": "display_data", 
                    "data": {
                        "text/html": "<pre>recommendations finished on 102000/330575 queries. users per second: 18959.9</pre>", 
                        "text/plain": "recommendations finished on 102000/330575 queries. users per second: 18959.9"
                    }, 
                    "metadata": {}
                }, 
                {
                    "output_type": "display_data", 
                    "data": {
                        "text/html": "<pre>recommendations finished on 103000/330575 queries. users per second: 19010.9</pre>", 
                        "text/plain": "recommendations finished on 103000/330575 queries. users per second: 19010.9"
                    }, 
                    "metadata": {}
                }, 
                {
                    "output_type": "display_data", 
                    "data": {
                        "text/html": "<pre>recommendations finished on 104000/330575 queries. users per second: 19175.5</pre>", 
                        "text/plain": "recommendations finished on 104000/330575 queries. users per second: 19175.5"
                    }, 
                    "metadata": {}
                }, 
                {
                    "output_type": "display_data", 
                    "data": {
                        "text/html": "<pre>recommendations finished on 105000/330575 queries. users per second: 19232.6</pre>", 
                        "text/plain": "recommendations finished on 105000/330575 queries. users per second: 19232.6"
                    }, 
                    "metadata": {}
                }, 
                {
                    "output_type": "display_data", 
                    "data": {
                        "text/html": "<pre>recommendations finished on 106000/330575 queries. users per second: 19275.4</pre>", 
                        "text/plain": "recommendations finished on 106000/330575 queries. users per second: 19275.4"
                    }, 
                    "metadata": {}
                }, 
                {
                    "output_type": "display_data", 
                    "data": {
                        "text/html": "<pre>recommendations finished on 107000/330575 queries. users per second: 19381.6</pre>", 
                        "text/plain": "recommendations finished on 107000/330575 queries. users per second: 19381.6"
                    }, 
                    "metadata": {}
                }, 
                {
                    "output_type": "display_data", 
                    "data": {
                        "text/html": "<pre>recommendations finished on 108000/330575 queries. users per second: 19485.6</pre>", 
                        "text/plain": "recommendations finished on 108000/330575 queries. users per second: 19485.6"
                    }, 
                    "metadata": {}
                }, 
                {
                    "output_type": "display_data", 
                    "data": {
                        "text/html": "<pre>recommendations finished on 109000/330575 queries. users per second: 19535.4</pre>", 
                        "text/plain": "recommendations finished on 109000/330575 queries. users per second: 19535.4"
                    }, 
                    "metadata": {}
                }, 
                {
                    "output_type": "display_data", 
                    "data": {
                        "text/html": "<pre>recommendations finished on 110000/330575 queries. users per second: 19574.9</pre>", 
                        "text/plain": "recommendations finished on 110000/330575 queries. users per second: 19574.9"
                    }, 
                    "metadata": {}
                }, 
                {
                    "output_type": "display_data", 
                    "data": {
                        "text/html": "<pre>recommendations finished on 111000/330575 queries. users per second: 19617.8</pre>", 
                        "text/plain": "recommendations finished on 111000/330575 queries. users per second: 19617.8"
                    }, 
                    "metadata": {}
                }, 
                {
                    "output_type": "display_data", 
                    "data": {
                        "text/html": "<pre>recommendations finished on 112000/330575 queries. users per second: 19519.1</pre>", 
                        "text/plain": "recommendations finished on 112000/330575 queries. users per second: 19519.1"
                    }, 
                    "metadata": {}
                }, 
                {
                    "output_type": "display_data", 
                    "data": {
                        "text/html": "<pre>recommendations finished on 113000/330575 queries. users per second: 19551.5</pre>", 
                        "text/plain": "recommendations finished on 113000/330575 queries. users per second: 19551.5"
                    }, 
                    "metadata": {}
                }, 
                {
                    "output_type": "display_data", 
                    "data": {
                        "text/html": "<pre>recommendations finished on 114000/330575 queries. users per second: 19525.7</pre>", 
                        "text/plain": "recommendations finished on 114000/330575 queries. users per second: 19525.7"
                    }, 
                    "metadata": {}
                }, 
                {
                    "output_type": "display_data", 
                    "data": {
                        "text/html": "<pre>recommendations finished on 115000/330575 queries. users per second: 19558.9</pre>", 
                        "text/plain": "recommendations finished on 115000/330575 queries. users per second: 19558.9"
                    }, 
                    "metadata": {}
                }, 
                {
                    "output_type": "display_data", 
                    "data": {
                        "text/html": "<pre>recommendations finished on 116000/330575 queries. users per second: 19594.4</pre>", 
                        "text/plain": "recommendations finished on 116000/330575 queries. users per second: 19594.4"
                    }, 
                    "metadata": {}
                }, 
                {
                    "output_type": "display_data", 
                    "data": {
                        "text/html": "<pre>recommendations finished on 117000/330575 queries. users per second: 19567.9</pre>", 
                        "text/plain": "recommendations finished on 117000/330575 queries. users per second: 19567.9"
                    }, 
                    "metadata": {}
                }, 
                {
                    "output_type": "display_data", 
                    "data": {
                        "text/html": "<pre>recommendations finished on 118000/330575 queries. users per second: 19605.4</pre>", 
                        "text/plain": "recommendations finished on 118000/330575 queries. users per second: 19605.4"
                    }, 
                    "metadata": {}
                }, 
                {
                    "output_type": "display_data", 
                    "data": {
                        "text/html": "<pre>recommendations finished on 119000/330575 queries. users per second: 19643.2</pre>", 
                        "text/plain": "recommendations finished on 119000/330575 queries. users per second: 19643.2"
                    }, 
                    "metadata": {}
                }, 
                {
                    "output_type": "display_data", 
                    "data": {
                        "text/html": "<pre>recommendations finished on 120000/330575 queries. users per second: 19679.2</pre>", 
                        "text/plain": "recommendations finished on 120000/330575 queries. users per second: 19679.2"
                    }, 
                    "metadata": {}
                }, 
                {
                    "output_type": "display_data", 
                    "data": {
                        "text/html": "<pre>recommendations finished on 121000/330575 queries. users per second: 19713.2</pre>", 
                        "text/plain": "recommendations finished on 121000/330575 queries. users per second: 19713.2"
                    }, 
                    "metadata": {}
                }, 
                {
                    "output_type": "display_data", 
                    "data": {
                        "text/html": "<pre>recommendations finished on 122000/330575 queries. users per second: 19807.6</pre>", 
                        "text/plain": "recommendations finished on 122000/330575 queries. users per second: 19807.6"
                    }, 
                    "metadata": {}
                }, 
                {
                    "output_type": "display_data", 
                    "data": {
                        "text/html": "<pre>recommendations finished on 123000/330575 queries. users per second: 19843.2</pre>", 
                        "text/plain": "recommendations finished on 123000/330575 queries. users per second: 19843.2"
                    }, 
                    "metadata": {}
                }, 
                {
                    "output_type": "display_data", 
                    "data": {
                        "text/html": "<pre>recommendations finished on 124000/330575 queries. users per second: 19869.6</pre>", 
                        "text/plain": "recommendations finished on 124000/330575 queries. users per second: 19869.6"
                    }, 
                    "metadata": {}
                }, 
                {
                    "output_type": "display_data", 
                    "data": {
                        "text/html": "<pre>recommendations finished on 125000/330575 queries. users per second: 19848.3</pre>", 
                        "text/plain": "recommendations finished on 125000/330575 queries. users per second: 19848.3"
                    }, 
                    "metadata": {}
                }, 
                {
                    "output_type": "display_data", 
                    "data": {
                        "text/html": "<pre>recommendations finished on 126000/330575 queries. users per second: 19936.7</pre>", 
                        "text/plain": "recommendations finished on 126000/330575 queries. users per second: 19936.7"
                    }, 
                    "metadata": {}
                }, 
                {
                    "output_type": "display_data", 
                    "data": {
                        "text/html": "<pre>recommendations finished on 127000/330575 queries. users per second: 19974.4</pre>", 
                        "text/plain": "recommendations finished on 127000/330575 queries. users per second: 19974.4"
                    }, 
                    "metadata": {}
                }, 
                {
                    "output_type": "display_data", 
                    "data": {
                        "text/html": "<pre>recommendations finished on 128000/330575 queries. users per second: 20006.7</pre>", 
                        "text/plain": "recommendations finished on 128000/330575 queries. users per second: 20006.7"
                    }, 
                    "metadata": {}
                }, 
                {
                    "output_type": "display_data", 
                    "data": {
                        "text/html": "<pre>recommendations finished on 129000/330575 queries. users per second: 20096.4</pre>", 
                        "text/plain": "recommendations finished on 129000/330575 queries. users per second: 20096.4"
                    }, 
                    "metadata": {}
                }, 
                {
                    "output_type": "display_data", 
                    "data": {
                        "text/html": "<pre>recommendations finished on 130000/330575 queries. users per second: 20128.1</pre>", 
                        "text/plain": "recommendations finished on 130000/330575 queries. users per second: 20128.1"
                    }, 
                    "metadata": {}
                }, 
                {
                    "output_type": "display_data", 
                    "data": {
                        "text/html": "<pre>recommendations finished on 131000/330575 queries. users per second: 20093</pre>", 
                        "text/plain": "recommendations finished on 131000/330575 queries. users per second: 20093"
                    }, 
                    "metadata": {}
                }, 
                {
                    "output_type": "display_data", 
                    "data": {
                        "text/html": "<pre>recommendations finished on 132000/330575 queries. users per second: 20182.4</pre>", 
                        "text/plain": "recommendations finished on 132000/330575 queries. users per second: 20182.4"
                    }, 
                    "metadata": {}
                }, 
                {
                    "output_type": "display_data", 
                    "data": {
                        "text/html": "<pre>recommendations finished on 133000/330575 queries. users per second: 20216.5</pre>", 
                        "text/plain": "recommendations finished on 133000/330575 queries. users per second: 20216.5"
                    }, 
                    "metadata": {}
                }, 
                {
                    "output_type": "display_data", 
                    "data": {
                        "text/html": "<pre>recommendations finished on 134000/330575 queries. users per second: 20304.2</pre>", 
                        "text/plain": "recommendations finished on 134000/330575 queries. users per second: 20304.2"
                    }, 
                    "metadata": {}
                }, 
                {
                    "output_type": "display_data", 
                    "data": {
                        "text/html": "<pre>recommendations finished on 135000/330575 queries. users per second: 20334.7</pre>", 
                        "text/plain": "recommendations finished on 135000/330575 queries. users per second: 20334.7"
                    }, 
                    "metadata": {}
                }, 
                {
                    "output_type": "display_data", 
                    "data": {
                        "text/html": "<pre>recommendations finished on 136000/330575 queries. users per second: 20359.9</pre>", 
                        "text/plain": "recommendations finished on 136000/330575 queries. users per second: 20359.9"
                    }, 
                    "metadata": {}
                }, 
                {
                    "output_type": "display_data", 
                    "data": {
                        "text/html": "<pre>recommendations finished on 137000/330575 queries. users per second: 20385</pre>", 
                        "text/plain": "recommendations finished on 137000/330575 queries. users per second: 20385"
                    }, 
                    "metadata": {}
                }, 
                {
                    "output_type": "display_data", 
                    "data": {
                        "text/html": "<pre>recommendations finished on 138000/330575 queries. users per second: 20418.2</pre>", 
                        "text/plain": "recommendations finished on 138000/330575 queries. users per second: 20418.2"
                    }, 
                    "metadata": {}
                }, 
                {
                    "output_type": "display_data", 
                    "data": {
                        "text/html": "<pre>recommendations finished on 139000/330575 queries. users per second: 20380.9</pre>", 
                        "text/plain": "recommendations finished on 139000/330575 queries. users per second: 20380.9"
                    }, 
                    "metadata": {}
                }, 
                {
                    "output_type": "display_data", 
                    "data": {
                        "text/html": "<pre>recommendations finished on 140000/330575 queries. users per second: 20411.4</pre>", 
                        "text/plain": "recommendations finished on 140000/330575 queries. users per second: 20411.4"
                    }, 
                    "metadata": {}
                }, 
                {
                    "output_type": "display_data", 
                    "data": {
                        "text/html": "<pre>recommendations finished on 141000/330575 queries. users per second: 20319.7</pre>", 
                        "text/plain": "recommendations finished on 141000/330575 queries. users per second: 20319.7"
                    }, 
                    "metadata": {}
                }, 
                {
                    "output_type": "display_data", 
                    "data": {
                        "text/html": "<pre>recommendations finished on 142000/330575 queries. users per second: 20285.5</pre>", 
                        "text/plain": "recommendations finished on 142000/330575 queries. users per second: 20285.5"
                    }, 
                    "metadata": {}
                }, 
                {
                    "output_type": "display_data", 
                    "data": {
                        "text/html": "<pre>recommendations finished on 143000/330575 queries. users per second: 20258.9</pre>", 
                        "text/plain": "recommendations finished on 143000/330575 queries. users per second: 20258.9"
                    }, 
                    "metadata": {}
                }, 
                {
                    "output_type": "display_data", 
                    "data": {
                        "text/html": "<pre>recommendations finished on 144000/330575 queries. users per second: 20281.6</pre>", 
                        "text/plain": "recommendations finished on 144000/330575 queries. users per second: 20281.6"
                    }, 
                    "metadata": {}
                }, 
                {
                    "output_type": "display_data", 
                    "data": {
                        "text/html": "<pre>recommendations finished on 145000/330575 queries. users per second: 20250.1</pre>", 
                        "text/plain": "recommendations finished on 145000/330575 queries. users per second: 20250.1"
                    }, 
                    "metadata": {}
                }, 
                {
                    "output_type": "display_data", 
                    "data": {
                        "text/html": "<pre>recommendations finished on 146000/330575 queries. users per second: 20228.2</pre>", 
                        "text/plain": "recommendations finished on 146000/330575 queries. users per second: 20228.2"
                    }, 
                    "metadata": {}
                }, 
                {
                    "output_type": "display_data", 
                    "data": {
                        "text/html": "<pre>recommendations finished on 147000/330575 queries. users per second: 20244.6</pre>", 
                        "text/plain": "recommendations finished on 147000/330575 queries. users per second: 20244.6"
                    }, 
                    "metadata": {}
                }, 
                {
                    "output_type": "display_data", 
                    "data": {
                        "text/html": "<pre>recommendations finished on 148000/330575 queries. users per second: 20222.3</pre>", 
                        "text/plain": "recommendations finished on 148000/330575 queries. users per second: 20222.3"
                    }, 
                    "metadata": {}
                }, 
                {
                    "output_type": "display_data", 
                    "data": {
                        "text/html": "<pre>recommendations finished on 149000/330575 queries. users per second: 20246.2</pre>", 
                        "text/plain": "recommendations finished on 149000/330575 queries. users per second: 20246.2"
                    }, 
                    "metadata": {}
                }, 
                {
                    "output_type": "display_data", 
                    "data": {
                        "text/html": "<pre>recommendations finished on 150000/330575 queries. users per second: 20324.8</pre>", 
                        "text/plain": "recommendations finished on 150000/330575 queries. users per second: 20324.8"
                    }, 
                    "metadata": {}
                }, 
                {
                    "output_type": "display_data", 
                    "data": {
                        "text/html": "<pre>recommendations finished on 151000/330575 queries. users per second: 20302.4</pre>", 
                        "text/plain": "recommendations finished on 151000/330575 queries. users per second: 20302.4"
                    }, 
                    "metadata": {}
                }, 
                {
                    "output_type": "display_data", 
                    "data": {
                        "text/html": "<pre>recommendations finished on 152000/330575 queries. users per second: 20376.4</pre>", 
                        "text/plain": "recommendations finished on 152000/330575 queries. users per second: 20376.4"
                    }, 
                    "metadata": {}
                }, 
                {
                    "output_type": "display_data", 
                    "data": {
                        "text/html": "<pre>recommendations finished on 153000/330575 queries. users per second: 20404.4</pre>", 
                        "text/plain": "recommendations finished on 153000/330575 queries. users per second: 20404.4"
                    }, 
                    "metadata": {}
                }, 
                {
                    "output_type": "display_data", 
                    "data": {
                        "text/html": "<pre>recommendations finished on 154000/330575 queries. users per second: 20480</pre>", 
                        "text/plain": "recommendations finished on 154000/330575 queries. users per second: 20480"
                    }, 
                    "metadata": {}
                }, 
                {
                    "output_type": "display_data", 
                    "data": {
                        "text/html": "<pre>recommendations finished on 155000/330575 queries. users per second: 20504.5</pre>", 
                        "text/plain": "recommendations finished on 155000/330575 queries. users per second: 20504.5"
                    }, 
                    "metadata": {}
                }, 
                {
                    "output_type": "display_data", 
                    "data": {
                        "text/html": "<pre>recommendations finished on 156000/330575 queries. users per second: 20572.5</pre>", 
                        "text/plain": "recommendations finished on 156000/330575 queries. users per second: 20572.5"
                    }, 
                    "metadata": {}
                }, 
                {
                    "output_type": "display_data", 
                    "data": {
                        "text/html": "<pre>recommendations finished on 157000/330575 queries. users per second: 20501.4</pre>", 
                        "text/plain": "recommendations finished on 157000/330575 queries. users per second: 20501.4"
                    }, 
                    "metadata": {}
                }, 
                {
                    "output_type": "display_data", 
                    "data": {
                        "text/html": "<pre>recommendations finished on 158000/330575 queries. users per second: 20472.8</pre>", 
                        "text/plain": "recommendations finished on 158000/330575 queries. users per second: 20472.8"
                    }, 
                    "metadata": {}
                }, 
                {
                    "output_type": "display_data", 
                    "data": {
                        "text/html": "<pre>recommendations finished on 159000/330575 queries. users per second: 20548.4</pre>", 
                        "text/plain": "recommendations finished on 159000/330575 queries. users per second: 20548.4"
                    }, 
                    "metadata": {}
                }, 
                {
                    "output_type": "display_data", 
                    "data": {
                        "text/html": "<pre>recommendations finished on 160000/330575 queries. users per second: 20621.4</pre>", 
                        "text/plain": "recommendations finished on 160000/330575 queries. users per second: 20621.4"
                    }, 
                    "metadata": {}
                }, 
                {
                    "output_type": "display_data", 
                    "data": {
                        "text/html": "<pre>recommendations finished on 161000/330575 queries. users per second: 20641.7</pre>", 
                        "text/plain": "recommendations finished on 161000/330575 queries. users per second: 20641.7"
                    }, 
                    "metadata": {}
                }, 
                {
                    "output_type": "display_data", 
                    "data": {
                        "text/html": "<pre>recommendations finished on 162000/330575 queries. users per second: 20667.6</pre>", 
                        "text/plain": "recommendations finished on 162000/330575 queries. users per second: 20667.6"
                    }, 
                    "metadata": {}
                }, 
                {
                    "output_type": "display_data", 
                    "data": {
                        "text/html": "<pre>recommendations finished on 163000/330575 queries. users per second: 20724.3</pre>", 
                        "text/plain": "recommendations finished on 163000/330575 queries. users per second: 20724.3"
                    }, 
                    "metadata": {}
                }, 
                {
                    "output_type": "display_data", 
                    "data": {
                        "text/html": "<pre>recommendations finished on 164000/330575 queries. users per second: 20762.6</pre>", 
                        "text/plain": "recommendations finished on 164000/330575 queries. users per second: 20762.6"
                    }, 
                    "metadata": {}
                }, 
                {
                    "output_type": "display_data", 
                    "data": {
                        "text/html": "<pre>recommendations finished on 165000/330575 queries. users per second: 20784.7</pre>", 
                        "text/plain": "recommendations finished on 165000/330575 queries. users per second: 20784.7"
                    }, 
                    "metadata": {}
                }, 
                {
                    "output_type": "display_data", 
                    "data": {
                        "text/html": "<pre>recommendations finished on 166000/330575 queries. users per second: 20805.6</pre>", 
                        "text/plain": "recommendations finished on 166000/330575 queries. users per second: 20805.6"
                    }, 
                    "metadata": {}
                }, 
                {
                    "output_type": "display_data", 
                    "data": {
                        "text/html": "<pre>recommendations finished on 167000/330575 queries. users per second: 20925.2</pre>", 
                        "text/plain": "recommendations finished on 167000/330575 queries. users per second: 20925.2"
                    }, 
                    "metadata": {}
                }, 
                {
                    "output_type": "display_data", 
                    "data": {
                        "text/html": "<pre>recommendations finished on 168000/330575 queries. users per second: 20999.8</pre>", 
                        "text/plain": "recommendations finished on 168000/330575 queries. users per second: 20999.8"
                    }, 
                    "metadata": {}
                }, 
                {
                    "output_type": "display_data", 
                    "data": {
                        "text/html": "<pre>recommendations finished on 169000/330575 queries. users per second: 21026.2</pre>", 
                        "text/plain": "recommendations finished on 169000/330575 queries. users per second: 21026.2"
                    }, 
                    "metadata": {}
                }, 
                {
                    "output_type": "display_data", 
                    "data": {
                        "text/html": "<pre>recommendations finished on 170000/330575 queries. users per second: 21091.9</pre>", 
                        "text/plain": "recommendations finished on 170000/330575 queries. users per second: 21091.9"
                    }, 
                    "metadata": {}
                }, 
                {
                    "output_type": "display_data", 
                    "data": {
                        "text/html": "<pre>recommendations finished on 171000/330575 queries. users per second: 20962.1</pre>", 
                        "text/plain": "recommendations finished on 171000/330575 queries. users per second: 20962.1"
                    }, 
                    "metadata": {}
                }, 
                {
                    "output_type": "display_data", 
                    "data": {
                        "text/html": "<pre>recommendations finished on 172000/330575 queries. users per second: 20980.8</pre>", 
                        "text/plain": "recommendations finished on 172000/330575 queries. users per second: 20980.8"
                    }, 
                    "metadata": {}
                }, 
                {
                    "output_type": "display_data", 
                    "data": {
                        "text/html": "<pre>recommendations finished on 173000/330575 queries. users per second: 21050.1</pre>", 
                        "text/plain": "recommendations finished on 173000/330575 queries. users per second: 21050.1"
                    }, 
                    "metadata": {}
                }, 
                {
                    "output_type": "display_data", 
                    "data": {
                        "text/html": "<pre>recommendations finished on 174000/330575 queries. users per second: 21068.2</pre>", 
                        "text/plain": "recommendations finished on 174000/330575 queries. users per second: 21068.2"
                    }, 
                    "metadata": {}
                }, 
                {
                    "output_type": "display_data", 
                    "data": {
                        "text/html": "<pre>recommendations finished on 175000/330575 queries. users per second: 21138.8</pre>", 
                        "text/plain": "recommendations finished on 175000/330575 queries. users per second: 21138.8"
                    }, 
                    "metadata": {}
                }, 
                {
                    "output_type": "display_data", 
                    "data": {
                        "text/html": "<pre>recommendations finished on 176000/330575 queries. users per second: 21108.6</pre>", 
                        "text/plain": "recommendations finished on 176000/330575 queries. users per second: 21108.6"
                    }, 
                    "metadata": {}
                }, 
                {
                    "output_type": "display_data", 
                    "data": {
                        "text/html": "<pre>recommendations finished on 177000/330575 queries. users per second: 21073.7</pre>", 
                        "text/plain": "recommendations finished on 177000/330575 queries. users per second: 21073.7"
                    }, 
                    "metadata": {}
                }, 
                {
                    "output_type": "display_data", 
                    "data": {
                        "text/html": "<pre>recommendations finished on 178000/330575 queries. users per second: 21184.8</pre>", 
                        "text/plain": "recommendations finished on 178000/330575 queries. users per second: 21184.8"
                    }, 
                    "metadata": {}
                }, 
                {
                    "output_type": "display_data", 
                    "data": {
                        "text/html": "<pre>recommendations finished on 179000/330575 queries. users per second: 21162.7</pre>", 
                        "text/plain": "recommendations finished on 179000/330575 queries. users per second: 21162.7"
                    }, 
                    "metadata": {}
                }, 
                {
                    "output_type": "display_data", 
                    "data": {
                        "text/html": "<pre>recommendations finished on 180000/330575 queries. users per second: 21229.7</pre>", 
                        "text/plain": "recommendations finished on 180000/330575 queries. users per second: 21229.7"
                    }, 
                    "metadata": {}
                }, 
                {
                    "output_type": "display_data", 
                    "data": {
                        "text/html": "<pre>recommendations finished on 181000/330575 queries. users per second: 21196.5</pre>", 
                        "text/plain": "recommendations finished on 181000/330575 queries. users per second: 21196.5"
                    }, 
                    "metadata": {}
                }, 
                {
                    "output_type": "display_data", 
                    "data": {
                        "text/html": "<pre>recommendations finished on 182000/330575 queries. users per second: 21169.1</pre>", 
                        "text/plain": "recommendations finished on 182000/330575 queries. users per second: 21169.1"
                    }, 
                    "metadata": {}
                }, 
                {
                    "output_type": "display_data", 
                    "data": {
                        "text/html": "<pre>recommendations finished on 183000/330575 queries. users per second: 21230.4</pre>", 
                        "text/plain": "recommendations finished on 183000/330575 queries. users per second: 21230.4"
                    }, 
                    "metadata": {}
                }, 
                {
                    "output_type": "display_data", 
                    "data": {
                        "text/html": "<pre>recommendations finished on 184000/330575 queries. users per second: 21301.7</pre>", 
                        "text/plain": "recommendations finished on 184000/330575 queries. users per second: 21301.7"
                    }, 
                    "metadata": {}
                }, 
                {
                    "output_type": "display_data", 
                    "data": {
                        "text/html": "<pre>recommendations finished on 185000/330575 queries. users per second: 21363.3</pre>", 
                        "text/plain": "recommendations finished on 185000/330575 queries. users per second: 21363.3"
                    }, 
                    "metadata": {}
                }, 
                {
                    "output_type": "display_data", 
                    "data": {
                        "text/html": "<pre>recommendations finished on 186000/330575 queries. users per second: 21419.6</pre>", 
                        "text/plain": "recommendations finished on 186000/330575 queries. users per second: 21419.6"
                    }, 
                    "metadata": {}
                }, 
                {
                    "output_type": "display_data", 
                    "data": {
                        "text/html": "<pre>recommendations finished on 187000/330575 queries. users per second: 21448.2</pre>", 
                        "text/plain": "recommendations finished on 187000/330575 queries. users per second: 21448.2"
                    }, 
                    "metadata": {}
                }, 
                {
                    "output_type": "display_data", 
                    "data": {
                        "text/html": "<pre>recommendations finished on 188000/330575 queries. users per second: 21462.6</pre>", 
                        "text/plain": "recommendations finished on 188000/330575 queries. users per second: 21462.6"
                    }, 
                    "metadata": {}
                }, 
                {
                    "output_type": "display_data", 
                    "data": {
                        "text/html": "<pre>recommendations finished on 189000/330575 queries. users per second: 21477.4</pre>", 
                        "text/plain": "recommendations finished on 189000/330575 queries. users per second: 21477.4"
                    }, 
                    "metadata": {}
                }, 
                {
                    "output_type": "display_data", 
                    "data": {
                        "text/html": "<pre>recommendations finished on 190000/330575 queries. users per second: 21450.1</pre>", 
                        "text/plain": "recommendations finished on 190000/330575 queries. users per second: 21450.1"
                    }, 
                    "metadata": {}
                }, 
                {
                    "output_type": "display_data", 
                    "data": {
                        "text/html": "<pre>recommendations finished on 191000/330575 queries. users per second: 21370.7</pre>", 
                        "text/plain": "recommendations finished on 191000/330575 queries. users per second: 21370.7"
                    }, 
                    "metadata": {}
                }, 
                {
                    "output_type": "display_data", 
                    "data": {
                        "text/html": "<pre>recommendations finished on 192000/330575 queries. users per second: 21339.3</pre>", 
                        "text/plain": "recommendations finished on 192000/330575 queries. users per second: 21339.3"
                    }, 
                    "metadata": {}
                }, 
                {
                    "output_type": "display_data", 
                    "data": {
                        "text/html": "<pre>recommendations finished on 193000/330575 queries. users per second: 21304.5</pre>", 
                        "text/plain": "recommendations finished on 193000/330575 queries. users per second: 21304.5"
                    }, 
                    "metadata": {}
                }, 
                {
                    "output_type": "display_data", 
                    "data": {
                        "text/html": "<pre>recommendations finished on 194000/330575 queries. users per second: 21269.8</pre>", 
                        "text/plain": "recommendations finished on 194000/330575 queries. users per second: 21269.8"
                    }, 
                    "metadata": {}
                }, 
                {
                    "output_type": "display_data", 
                    "data": {
                        "text/html": "<pre>recommendations finished on 195000/330575 queries. users per second: 21199.8</pre>", 
                        "text/plain": "recommendations finished on 195000/330575 queries. users per second: 21199.8"
                    }, 
                    "metadata": {}
                }, 
                {
                    "output_type": "display_data", 
                    "data": {
                        "text/html": "<pre>recommendations finished on 196000/330575 queries. users per second: 21118.7</pre>", 
                        "text/plain": "recommendations finished on 196000/330575 queries. users per second: 21118.7"
                    }, 
                    "metadata": {}
                }, 
                {
                    "output_type": "display_data", 
                    "data": {
                        "text/html": "<pre>recommendations finished on 197000/330575 queries. users per second: 21050.3</pre>", 
                        "text/plain": "recommendations finished on 197000/330575 queries. users per second: 21050.3"
                    }, 
                    "metadata": {}
                }, 
                {
                    "output_type": "display_data", 
                    "data": {
                        "text/html": "<pre>recommendations finished on 198000/330575 queries. users per second: 20972.6</pre>", 
                        "text/plain": "recommendations finished on 198000/330575 queries. users per second: 20972.6"
                    }, 
                    "metadata": {}
                }, 
                {
                    "output_type": "display_data", 
                    "data": {
                        "text/html": "<pre>recommendations finished on 199000/330575 queries. users per second: 20908.4</pre>", 
                        "text/plain": "recommendations finished on 199000/330575 queries. users per second: 20908.4"
                    }, 
                    "metadata": {}
                }, 
                {
                    "output_type": "display_data", 
                    "data": {
                        "text/html": "<pre>recommendations finished on 200000/330575 queries. users per second: 20836.1</pre>", 
                        "text/plain": "recommendations finished on 200000/330575 queries. users per second: 20836.1"
                    }, 
                    "metadata": {}
                }, 
                {
                    "output_type": "display_data", 
                    "data": {
                        "text/html": "<pre>recommendations finished on 201000/330575 queries. users per second: 20769.7</pre>", 
                        "text/plain": "recommendations finished on 201000/330575 queries. users per second: 20769.7"
                    }, 
                    "metadata": {}
                }, 
                {
                    "output_type": "display_data", 
                    "data": {
                        "text/html": "<pre>recommendations finished on 202000/330575 queries. users per second: 20701.9</pre>", 
                        "text/plain": "recommendations finished on 202000/330575 queries. users per second: 20701.9"
                    }, 
                    "metadata": {}
                }, 
                {
                    "output_type": "display_data", 
                    "data": {
                        "text/html": "<pre>recommendations finished on 203000/330575 queries. users per second: 20675.8</pre>", 
                        "text/plain": "recommendations finished on 203000/330575 queries. users per second: 20675.8"
                    }, 
                    "metadata": {}
                }, 
                {
                    "output_type": "display_data", 
                    "data": {
                        "text/html": "<pre>recommendations finished on 204000/330575 queries. users per second: 20651.3</pre>", 
                        "text/plain": "recommendations finished on 204000/330575 queries. users per second: 20651.3"
                    }, 
                    "metadata": {}
                }, 
                {
                    "output_type": "display_data", 
                    "data": {
                        "text/html": "<pre>recommendations finished on 205000/330575 queries. users per second: 20622.2</pre>", 
                        "text/plain": "recommendations finished on 205000/330575 queries. users per second: 20622.2"
                    }, 
                    "metadata": {}
                }, 
                {
                    "output_type": "display_data", 
                    "data": {
                        "text/html": "<pre>recommendations finished on 206000/330575 queries. users per second: 20435.9</pre>", 
                        "text/plain": "recommendations finished on 206000/330575 queries. users per second: 20435.9"
                    }, 
                    "metadata": {}
                }, 
                {
                    "output_type": "display_data", 
                    "data": {
                        "text/html": "<pre>recommendations finished on 207000/330575 queries. users per second: 20097.8</pre>", 
                        "text/plain": "recommendations finished on 207000/330575 queries. users per second: 20097.8"
                    }, 
                    "metadata": {}
                }, 
                {
                    "output_type": "display_data", 
                    "data": {
                        "text/html": "<pre>recommendations finished on 208000/330575 queries. users per second: 20003.8</pre>", 
                        "text/plain": "recommendations finished on 208000/330575 queries. users per second: 20003.8"
                    }, 
                    "metadata": {}
                }, 
                {
                    "output_type": "display_data", 
                    "data": {
                        "text/html": "<pre>recommendations finished on 209000/330575 queries. users per second: 20021.7</pre>", 
                        "text/plain": "recommendations finished on 209000/330575 queries. users per second: 20021.7"
                    }, 
                    "metadata": {}
                }, 
                {
                    "output_type": "display_data", 
                    "data": {
                        "text/html": "<pre>recommendations finished on 210000/330575 queries. users per second: 20039.9</pre>", 
                        "text/plain": "recommendations finished on 210000/330575 queries. users per second: 20039.9"
                    }, 
                    "metadata": {}
                }, 
                {
                    "output_type": "display_data", 
                    "data": {
                        "text/html": "<pre>recommendations finished on 211000/330575 queries. users per second: 20099.1</pre>", 
                        "text/plain": "recommendations finished on 211000/330575 queries. users per second: 20099.1"
                    }, 
                    "metadata": {}
                }, 
                {
                    "output_type": "display_data", 
                    "data": {
                        "text/html": "<pre>recommendations finished on 212000/330575 queries. users per second: 20041.4</pre>", 
                        "text/plain": "recommendations finished on 212000/330575 queries. users per second: 20041.4"
                    }, 
                    "metadata": {}
                }, 
                {
                    "output_type": "display_data", 
                    "data": {
                        "text/html": "<pre>recommendations finished on 213000/330575 queries. users per second: 20059.6</pre>", 
                        "text/plain": "recommendations finished on 213000/330575 queries. users per second: 20059.6"
                    }, 
                    "metadata": {}
                }, 
                {
                    "output_type": "display_data", 
                    "data": {
                        "text/html": "<pre>recommendations finished on 214000/330575 queries. users per second: 20073.5</pre>", 
                        "text/plain": "recommendations finished on 214000/330575 queries. users per second: 20073.5"
                    }, 
                    "metadata": {}
                }, 
                {
                    "output_type": "display_data", 
                    "data": {
                        "text/html": "<pre>recommendations finished on 215000/330575 queries. users per second: 20020.4</pre>", 
                        "text/plain": "recommendations finished on 215000/330575 queries. users per second: 20020.4"
                    }, 
                    "metadata": {}
                }, 
                {
                    "output_type": "display_data", 
                    "data": {
                        "text/html": "<pre>recommendations finished on 216000/330575 queries. users per second: 20077.8</pre>", 
                        "text/plain": "recommendations finished on 216000/330575 queries. users per second: 20077.8"
                    }, 
                    "metadata": {}
                }, 
                {
                    "output_type": "display_data", 
                    "data": {
                        "text/html": "<pre>recommendations finished on 217000/330575 queries. users per second: 20132.4</pre>", 
                        "text/plain": "recommendations finished on 217000/330575 queries. users per second: 20132.4"
                    }, 
                    "metadata": {}
                }, 
                {
                    "output_type": "display_data", 
                    "data": {
                        "text/html": "<pre>recommendations finished on 218000/330575 queries. users per second: 20114</pre>", 
                        "text/plain": "recommendations finished on 218000/330575 queries. users per second: 20114"
                    }, 
                    "metadata": {}
                }, 
                {
                    "output_type": "display_data", 
                    "data": {
                        "text/html": "<pre>recommendations finished on 219000/330575 queries. users per second: 20130.6</pre>", 
                        "text/plain": "recommendations finished on 219000/330575 queries. users per second: 20130.6"
                    }, 
                    "metadata": {}
                }, 
                {
                    "output_type": "display_data", 
                    "data": {
                        "text/html": "<pre>recommendations finished on 220000/330575 queries. users per second: 20215.7</pre>", 
                        "text/plain": "recommendations finished on 220000/330575 queries. users per second: 20215.7"
                    }, 
                    "metadata": {}
                }, 
                {
                    "output_type": "display_data", 
                    "data": {
                        "text/html": "<pre>recommendations finished on 221000/330575 queries. users per second: 20165.8</pre>", 
                        "text/plain": "recommendations finished on 221000/330575 queries. users per second: 20165.8"
                    }, 
                    "metadata": {}
                }, 
                {
                    "output_type": "display_data", 
                    "data": {
                        "text/html": "<pre>recommendations finished on 222000/330575 queries. users per second: 20149.8</pre>", 
                        "text/plain": "recommendations finished on 222000/330575 queries. users per second: 20149.8"
                    }, 
                    "metadata": {}
                }, 
                {
                    "output_type": "display_data", 
                    "data": {
                        "text/html": "<pre>recommendations finished on 223000/330575 queries. users per second: 20199.6</pre>", 
                        "text/plain": "recommendations finished on 223000/330575 queries. users per second: 20199.6"
                    }, 
                    "metadata": {}
                }, 
                {
                    "output_type": "display_data", 
                    "data": {
                        "text/html": "<pre>recommendations finished on 224000/330575 queries. users per second: 20216.7</pre>", 
                        "text/plain": "recommendations finished on 224000/330575 queries. users per second: 20216.7"
                    }, 
                    "metadata": {}
                }, 
                {
                    "output_type": "display_data", 
                    "data": {
                        "text/html": "<pre>recommendations finished on 225000/330575 queries. users per second: 20200.2</pre>", 
                        "text/plain": "recommendations finished on 225000/330575 queries. users per second: 20200.2"
                    }, 
                    "metadata": {}
                }, 
                {
                    "output_type": "display_data", 
                    "data": {
                        "text/html": "<pre>recommendations finished on 226000/330575 queries. users per second: 20181.2</pre>", 
                        "text/plain": "recommendations finished on 226000/330575 queries. users per second: 20181.2"
                    }, 
                    "metadata": {}
                }, 
                {
                    "output_type": "display_data", 
                    "data": {
                        "text/html": "<pre>recommendations finished on 227000/330575 queries. users per second: 20198.1</pre>", 
                        "text/plain": "recommendations finished on 227000/330575 queries. users per second: 20198.1"
                    }, 
                    "metadata": {}
                }, 
                {
                    "output_type": "display_data", 
                    "data": {
                        "text/html": "<pre>recommendations finished on 228000/330575 queries. users per second: 20214.5</pre>", 
                        "text/plain": "recommendations finished on 228000/330575 queries. users per second: 20214.5"
                    }, 
                    "metadata": {}
                }, 
                {
                    "output_type": "display_data", 
                    "data": {
                        "text/html": "<pre>recommendations finished on 229000/330575 queries. users per second: 20163</pre>", 
                        "text/plain": "recommendations finished on 229000/330575 queries. users per second: 20163"
                    }, 
                    "metadata": {}
                }, 
                {
                    "output_type": "display_data", 
                    "data": {
                        "text/html": "<pre>recommendations finished on 230000/330575 queries. users per second: 20246.1</pre>", 
                        "text/plain": "recommendations finished on 230000/330575 queries. users per second: 20246.1"
                    }, 
                    "metadata": {}
                }, 
                {
                    "output_type": "display_data", 
                    "data": {
                        "text/html": "<pre>recommendations finished on 231000/330575 queries. users per second: 20267.1</pre>", 
                        "text/plain": "recommendations finished on 231000/330575 queries. users per second: 20267.1"
                    }, 
                    "metadata": {}
                }, 
                {
                    "output_type": "display_data", 
                    "data": {
                        "text/html": "<pre>recommendations finished on 232000/330575 queries. users per second: 20283.7</pre>", 
                        "text/plain": "recommendations finished on 232000/330575 queries. users per second: 20283.7"
                    }, 
                    "metadata": {}
                }, 
                {
                    "output_type": "display_data", 
                    "data": {
                        "text/html": "<pre>recommendations finished on 233000/330575 queries. users per second: 20228.9</pre>", 
                        "text/plain": "recommendations finished on 233000/330575 queries. users per second: 20228.9"
                    }, 
                    "metadata": {}
                }, 
                {
                    "output_type": "display_data", 
                    "data": {
                        "text/html": "<pre>recommendations finished on 234000/330575 queries. users per second: 20309.8</pre>", 
                        "text/plain": "recommendations finished on 234000/330575 queries. users per second: 20309.8"
                    }, 
                    "metadata": {}
                }, 
                {
                    "output_type": "display_data", 
                    "data": {
                        "text/html": "<pre>recommendations finished on 235000/330575 queries. users per second: 20327.1</pre>", 
                        "text/plain": "recommendations finished on 235000/330575 queries. users per second: 20327.1"
                    }, 
                    "metadata": {}
                }, 
                {
                    "output_type": "display_data", 
                    "data": {
                        "text/html": "<pre>recommendations finished on 236000/330575 queries. users per second: 20301.9</pre>", 
                        "text/plain": "recommendations finished on 236000/330575 queries. users per second: 20301.9"
                    }, 
                    "metadata": {}
                }, 
                {
                    "output_type": "display_data", 
                    "data": {
                        "text/html": "<pre>recommendations finished on 237000/330575 queries. users per second: 20290.8</pre>", 
                        "text/plain": "recommendations finished on 237000/330575 queries. users per second: 20290.8"
                    }, 
                    "metadata": {}
                }, 
                {
                    "output_type": "display_data", 
                    "data": {
                        "text/html": "<pre>recommendations finished on 238000/330575 queries. users per second: 20206.5</pre>", 
                        "text/plain": "recommendations finished on 238000/330575 queries. users per second: 20206.5"
                    }, 
                    "metadata": {}
                }, 
                {
                    "output_type": "display_data", 
                    "data": {
                        "text/html": "<pre>recommendations finished on 239000/330575 queries. users per second: 20255.9</pre>", 
                        "text/plain": "recommendations finished on 239000/330575 queries. users per second: 20255.9"
                    }, 
                    "metadata": {}
                }, 
                {
                    "output_type": "display_data", 
                    "data": {
                        "text/html": "<pre>recommendations finished on 240000/330575 queries. users per second: 20205.8</pre>", 
                        "text/plain": "recommendations finished on 240000/330575 queries. users per second: 20205.8"
                    }, 
                    "metadata": {}
                }, 
                {
                    "output_type": "display_data", 
                    "data": {
                        "text/html": "<pre>recommendations finished on 241000/330575 queries. users per second: 20219.8</pre>", 
                        "text/plain": "recommendations finished on 241000/330575 queries. users per second: 20219.8"
                    }, 
                    "metadata": {}
                }, 
                {
                    "output_type": "display_data", 
                    "data": {
                        "text/html": "<pre>recommendations finished on 242000/330575 queries. users per second: 20267.1</pre>", 
                        "text/plain": "recommendations finished on 242000/330575 queries. users per second: 20267.1"
                    }, 
                    "metadata": {}
                }, 
                {
                    "output_type": "display_data", 
                    "data": {
                        "text/html": "<pre>recommendations finished on 243000/330575 queries. users per second: 20311.2</pre>", 
                        "text/plain": "recommendations finished on 243000/330575 queries. users per second: 20311.2"
                    }, 
                    "metadata": {}
                }, 
                {
                    "output_type": "display_data", 
                    "data": {
                        "text/html": "<pre>recommendations finished on 244000/330575 queries. users per second: 20266.7</pre>", 
                        "text/plain": "recommendations finished on 244000/330575 queries. users per second: 20266.7"
                    }, 
                    "metadata": {}
                }, 
                {
                    "output_type": "display_data", 
                    "data": {
                        "text/html": "<pre>recommendations finished on 245000/330575 queries. users per second: 20251.9</pre>", 
                        "text/plain": "recommendations finished on 245000/330575 queries. users per second: 20251.9"
                    }, 
                    "metadata": {}
                }, 
                {
                    "output_type": "display_data", 
                    "data": {
                        "text/html": "<pre>recommendations finished on 246000/330575 queries. users per second: 20262.8</pre>", 
                        "text/plain": "recommendations finished on 246000/330575 queries. users per second: 20262.8"
                    }, 
                    "metadata": {}
                }, 
                {
                    "output_type": "display_data", 
                    "data": {
                        "text/html": "<pre>recommendations finished on 247000/330575 queries. users per second: 20282.1</pre>", 
                        "text/plain": "recommendations finished on 247000/330575 queries. users per second: 20282.1"
                    }, 
                    "metadata": {}
                }, 
                {
                    "output_type": "display_data", 
                    "data": {
                        "text/html": "<pre>recommendations finished on 248000/330575 queries. users per second: 20263.4</pre>", 
                        "text/plain": "recommendations finished on 248000/330575 queries. users per second: 20263.4"
                    }, 
                    "metadata": {}
                }, 
                {
                    "output_type": "display_data", 
                    "data": {
                        "text/html": "<pre>recommendations finished on 249000/330575 queries. users per second: 20280.1</pre>", 
                        "text/plain": "recommendations finished on 249000/330575 queries. users per second: 20280.1"
                    }, 
                    "metadata": {}
                }, 
                {
                    "output_type": "display_data", 
                    "data": {
                        "text/html": "<pre>recommendations finished on 250000/330575 queries. users per second: 20357.1</pre>", 
                        "text/plain": "recommendations finished on 250000/330575 queries. users per second: 20357.1"
                    }, 
                    "metadata": {}
                }, 
                {
                    "output_type": "display_data", 
                    "data": {
                        "text/html": "<pre>recommendations finished on 251000/330575 queries. users per second: 20405.8</pre>", 
                        "text/plain": "recommendations finished on 251000/330575 queries. users per second: 20405.8"
                    }, 
                    "metadata": {}
                }, 
                {
                    "output_type": "display_data", 
                    "data": {
                        "text/html": "<pre>recommendations finished on 252000/330575 queries. users per second: 20452.6</pre>", 
                        "text/plain": "recommendations finished on 252000/330575 queries. users per second: 20452.6"
                    }, 
                    "metadata": {}
                }, 
                {
                    "output_type": "display_data", 
                    "data": {
                        "text/html": "<pre>recommendations finished on 253000/330575 queries. users per second: 20472.2</pre>", 
                        "text/plain": "recommendations finished on 253000/330575 queries. users per second: 20472.2"
                    }, 
                    "metadata": {}
                }, 
                {
                    "output_type": "display_data", 
                    "data": {
                        "text/html": "<pre>recommendations finished on 254000/330575 queries. users per second: 20487.3</pre>", 
                        "text/plain": "recommendations finished on 254000/330575 queries. users per second: 20487.3"
                    }, 
                    "metadata": {}
                }, 
                {
                    "output_type": "display_data", 
                    "data": {
                        "text/html": "<pre>recommendations finished on 255000/330575 queries. users per second: 20532.3</pre>", 
                        "text/plain": "recommendations finished on 255000/330575 queries. users per second: 20532.3"
                    }, 
                    "metadata": {}
                }, 
                {
                    "output_type": "display_data", 
                    "data": {
                        "text/html": "<pre>recommendations finished on 256000/330575 queries. users per second: 20575.5</pre>", 
                        "text/plain": "recommendations finished on 256000/330575 queries. users per second: 20575.5"
                    }, 
                    "metadata": {}
                }, 
                {
                    "output_type": "display_data", 
                    "data": {
                        "text/html": "<pre>recommendations finished on 257000/330575 queries. users per second: 20589.8</pre>", 
                        "text/plain": "recommendations finished on 257000/330575 queries. users per second: 20589.8"
                    }, 
                    "metadata": {}
                }, 
                {
                    "output_type": "display_data", 
                    "data": {
                        "text/html": "<pre>recommendations finished on 258000/330575 queries. users per second: 20609.1</pre>", 
                        "text/plain": "recommendations finished on 258000/330575 queries. users per second: 20609.1"
                    }, 
                    "metadata": {}
                }, 
                {
                    "output_type": "display_data", 
                    "data": {
                        "text/html": "<pre>recommendations finished on 259000/330575 queries. users per second: 20652.2</pre>", 
                        "text/plain": "recommendations finished on 259000/330575 queries. users per second: 20652.2"
                    }, 
                    "metadata": {}
                }, 
                {
                    "output_type": "display_data", 
                    "data": {
                        "text/html": "<pre>recommendations finished on 260000/330575 queries. users per second: 20636.8</pre>", 
                        "text/plain": "recommendations finished on 260000/330575 queries. users per second: 20636.8"
                    }, 
                    "metadata": {}
                }, 
                {
                    "output_type": "display_data", 
                    "data": {
                        "text/html": "<pre>recommendations finished on 261000/330575 queries. users per second: 20614.4</pre>", 
                        "text/plain": "recommendations finished on 261000/330575 queries. users per second: 20614.4"
                    }, 
                    "metadata": {}
                }, 
                {
                    "output_type": "display_data", 
                    "data": {
                        "text/html": "<pre>recommendations finished on 262000/330575 queries. users per second: 20600.6</pre>", 
                        "text/plain": "recommendations finished on 262000/330575 queries. users per second: 20600.6"
                    }, 
                    "metadata": {}
                }, 
                {
                    "output_type": "display_data", 
                    "data": {
                        "text/html": "<pre>recommendations finished on 263000/330575 queries. users per second: 20610.9</pre>", 
                        "text/plain": "recommendations finished on 263000/330575 queries. users per second: 20610.9"
                    }, 
                    "metadata": {}
                }, 
                {
                    "output_type": "display_data", 
                    "data": {
                        "text/html": "<pre>recommendations finished on 264000/330575 queries. users per second: 20596.6</pre>", 
                        "text/plain": "recommendations finished on 264000/330575 queries. users per second: 20596.6"
                    }, 
                    "metadata": {}
                }, 
                {
                    "output_type": "display_data", 
                    "data": {
                        "text/html": "<pre>recommendations finished on 265000/330575 queries. users per second: 20638.2</pre>", 
                        "text/plain": "recommendations finished on 265000/330575 queries. users per second: 20638.2"
                    }, 
                    "metadata": {}
                }, 
                {
                    "output_type": "display_data", 
                    "data": {
                        "text/html": "<pre>recommendations finished on 266000/330575 queries. users per second: 20651.9</pre>", 
                        "text/plain": "recommendations finished on 266000/330575 queries. users per second: 20651.9"
                    }, 
                    "metadata": {}
                }, 
                {
                    "output_type": "display_data", 
                    "data": {
                        "text/html": "<pre>recommendations finished on 267000/330575 queries. users per second: 20665.1</pre>", 
                        "text/plain": "recommendations finished on 267000/330575 queries. users per second: 20665.1"
                    }, 
                    "metadata": {}
                }, 
                {
                    "output_type": "display_data", 
                    "data": {
                        "text/html": "<pre>recommendations finished on 268000/330575 queries. users per second: 20677.6</pre>", 
                        "text/plain": "recommendations finished on 268000/330575 queries. users per second: 20677.6"
                    }, 
                    "metadata": {}
                }, 
                {
                    "output_type": "display_data", 
                    "data": {
                        "text/html": "<pre>recommendations finished on 269000/330575 queries. users per second: 20687.3</pre>", 
                        "text/plain": "recommendations finished on 269000/330575 queries. users per second: 20687.3"
                    }, 
                    "metadata": {}
                }, 
                {
                    "output_type": "display_data", 
                    "data": {
                        "text/html": "<pre>recommendations finished on 270000/330575 queries. users per second: 20705.5</pre>", 
                        "text/plain": "recommendations finished on 270000/330575 queries. users per second: 20705.5"
                    }, 
                    "metadata": {}
                }, 
                {
                    "output_type": "display_data", 
                    "data": {
                        "text/html": "<pre>recommendations finished on 271000/330575 queries. users per second: 20717.4</pre>", 
                        "text/plain": "recommendations finished on 271000/330575 queries. users per second: 20717.4"
                    }, 
                    "metadata": {}
                }, 
                {
                    "output_type": "display_data", 
                    "data": {
                        "text/html": "<pre>recommendations finished on 272000/330575 queries. users per second: 20732.7</pre>", 
                        "text/plain": "recommendations finished on 272000/330575 queries. users per second: 20732.7"
                    }, 
                    "metadata": {}
                }, 
                {
                    "output_type": "display_data", 
                    "data": {
                        "text/html": "<pre>recommendations finished on 273000/330575 queries. users per second: 20745.3</pre>", 
                        "text/plain": "recommendations finished on 273000/330575 queries. users per second: 20745.3"
                    }, 
                    "metadata": {}
                }, 
                {
                    "output_type": "display_data", 
                    "data": {
                        "text/html": "<pre>recommendations finished on 274000/330575 queries. users per second: 20761.1</pre>", 
                        "text/plain": "recommendations finished on 274000/330575 queries. users per second: 20761.1"
                    }, 
                    "metadata": {}
                }, 
                {
                    "output_type": "display_data", 
                    "data": {
                        "text/html": "<pre>recommendations finished on 275000/330575 queries. users per second: 20771.1</pre>", 
                        "text/plain": "recommendations finished on 275000/330575 queries. users per second: 20771.1"
                    }, 
                    "metadata": {}
                }, 
                {
                    "output_type": "display_data", 
                    "data": {
                        "text/html": "<pre>recommendations finished on 276000/330575 queries. users per second: 20780</pre>", 
                        "text/plain": "recommendations finished on 276000/330575 queries. users per second: 20780"
                    }, 
                    "metadata": {}
                }, 
                {
                    "output_type": "display_data", 
                    "data": {
                        "text/html": "<pre>recommendations finished on 277000/330575 queries. users per second: 20768.8</pre>", 
                        "text/plain": "recommendations finished on 277000/330575 queries. users per second: 20768.8"
                    }, 
                    "metadata": {}
                }, 
                {
                    "output_type": "display_data", 
                    "data": {
                        "text/html": "<pre>recommendations finished on 278000/330575 queries. users per second: 20808.9</pre>", 
                        "text/plain": "recommendations finished on 278000/330575 queries. users per second: 20808.9"
                    }, 
                    "metadata": {}
                }, 
                {
                    "output_type": "display_data", 
                    "data": {
                        "text/html": "<pre>recommendations finished on 279000/330575 queries. users per second: 20821</pre>", 
                        "text/plain": "recommendations finished on 279000/330575 queries. users per second: 20821"
                    }, 
                    "metadata": {}
                }, 
                {
                    "output_type": "display_data", 
                    "data": {
                        "text/html": "<pre>recommendations finished on 280000/330575 queries. users per second: 20831.8</pre>", 
                        "text/plain": "recommendations finished on 280000/330575 queries. users per second: 20831.8"
                    }, 
                    "metadata": {}
                }, 
                {
                    "output_type": "display_data", 
                    "data": {
                        "text/html": "<pre>recommendations finished on 281000/330575 queries. users per second: 20818.3</pre>", 
                        "text/plain": "recommendations finished on 281000/330575 queries. users per second: 20818.3"
                    }, 
                    "metadata": {}
                }, 
                {
                    "output_type": "display_data", 
                    "data": {
                        "text/html": "<pre>recommendations finished on 282000/330575 queries. users per second: 20857.3</pre>", 
                        "text/plain": "recommendations finished on 282000/330575 queries. users per second: 20857.3"
                    }, 
                    "metadata": {}
                }, 
                {
                    "output_type": "display_data", 
                    "data": {
                        "text/html": "<pre>recommendations finished on 283000/330575 queries. users per second: 20871</pre>", 
                        "text/plain": "recommendations finished on 283000/330575 queries. users per second: 20871"
                    }, 
                    "metadata": {}
                }, 
                {
                    "output_type": "display_data", 
                    "data": {
                        "text/html": "<pre>recommendations finished on 284000/330575 queries. users per second: 20884.3</pre>", 
                        "text/plain": "recommendations finished on 284000/330575 queries. users per second: 20884.3"
                    }, 
                    "metadata": {}
                }, 
                {
                    "output_type": "display_data", 
                    "data": {
                        "text/html": "<pre>recommendations finished on 285000/330575 queries. users per second: 20897.4</pre>", 
                        "text/plain": "recommendations finished on 285000/330575 queries. users per second: 20897.4"
                    }, 
                    "metadata": {}
                }, 
                {
                    "output_type": "display_data", 
                    "data": {
                        "text/html": "<pre>recommendations finished on 286000/330575 queries. users per second: 20908.7</pre>", 
                        "text/plain": "recommendations finished on 286000/330575 queries. users per second: 20908.7"
                    }, 
                    "metadata": {}
                }, 
                {
                    "output_type": "display_data", 
                    "data": {
                        "text/html": "<pre>recommendations finished on 287000/330575 queries. users per second: 20920.8</pre>", 
                        "text/plain": "recommendations finished on 287000/330575 queries. users per second: 20920.8"
                    }, 
                    "metadata": {}
                }, 
                {
                    "output_type": "display_data", 
                    "data": {
                        "text/html": "<pre>recommendations finished on 288000/330575 queries. users per second: 20929.9</pre>", 
                        "text/plain": "recommendations finished on 288000/330575 queries. users per second: 20929.9"
                    }, 
                    "metadata": {}
                }, 
                {
                    "output_type": "display_data", 
                    "data": {
                        "text/html": "<pre>recommendations finished on 289000/330575 queries. users per second: 20884.4</pre>", 
                        "text/plain": "recommendations finished on 289000/330575 queries. users per second: 20884.4"
                    }, 
                    "metadata": {}
                }, 
                {
                    "output_type": "display_data", 
                    "data": {
                        "text/html": "<pre>recommendations finished on 290000/330575 queries. users per second: 20895.8</pre>", 
                        "text/plain": "recommendations finished on 290000/330575 queries. users per second: 20895.8"
                    }, 
                    "metadata": {}
                }, 
                {
                    "output_type": "display_data", 
                    "data": {
                        "text/html": "<pre>recommendations finished on 291000/330575 queries. users per second: 20874.9</pre>", 
                        "text/plain": "recommendations finished on 291000/330575 queries. users per second: 20874.9"
                    }, 
                    "metadata": {}
                }, 
                {
                    "output_type": "display_data", 
                    "data": {
                        "text/html": "<pre>recommendations finished on 292000/330575 queries. users per second: 20830.8</pre>", 
                        "text/plain": "recommendations finished on 292000/330575 queries. users per second: 20830.8"
                    }, 
                    "metadata": {}
                }, 
                {
                    "output_type": "display_data", 
                    "data": {
                        "text/html": "<pre>recommendations finished on 293000/330575 queries. users per second: 20782.1</pre>", 
                        "text/plain": "recommendations finished on 293000/330575 queries. users per second: 20782.1"
                    }, 
                    "metadata": {}
                }, 
                {
                    "output_type": "display_data", 
                    "data": {
                        "text/html": "<pre>recommendations finished on 294000/330575 queries. users per second: 20764.5</pre>", 
                        "text/plain": "recommendations finished on 294000/330575 queries. users per second: 20764.5"
                    }, 
                    "metadata": {}
                }, 
                {
                    "output_type": "display_data", 
                    "data": {
                        "text/html": "<pre>recommendations finished on 295000/330575 queries. users per second: 20774.6</pre>", 
                        "text/plain": "recommendations finished on 295000/330575 queries. users per second: 20774.6"
                    }, 
                    "metadata": {}
                }, 
                {
                    "output_type": "display_data", 
                    "data": {
                        "text/html": "<pre>recommendations finished on 296000/330575 queries. users per second: 20729.9</pre>", 
                        "text/plain": "recommendations finished on 296000/330575 queries. users per second: 20729.9"
                    }, 
                    "metadata": {}
                }, 
                {
                    "output_type": "display_data", 
                    "data": {
                        "text/html": "<pre>recommendations finished on 297000/330575 queries. users per second: 20711</pre>", 
                        "text/plain": "recommendations finished on 297000/330575 queries. users per second: 20711"
                    }, 
                    "metadata": {}
                }, 
                {
                    "output_type": "display_data", 
                    "data": {
                        "text/html": "<pre>recommendations finished on 298000/330575 queries. users per second: 20640.2</pre>", 
                        "text/plain": "recommendations finished on 298000/330575 queries. users per second: 20640.2"
                    }, 
                    "metadata": {}
                }, 
                {
                    "output_type": "display_data", 
                    "data": {
                        "text/html": "<pre>recommendations finished on 299000/330575 queries. users per second: 20620.5</pre>", 
                        "text/plain": "recommendations finished on 299000/330575 queries. users per second: 20620.5"
                    }, 
                    "metadata": {}
                }, 
                {
                    "output_type": "display_data", 
                    "data": {
                        "text/html": "<pre>recommendations finished on 300000/330575 queries. users per second: 20607.4</pre>", 
                        "text/plain": "recommendations finished on 300000/330575 queries. users per second: 20607.4"
                    }, 
                    "metadata": {}
                }, 
                {
                    "output_type": "display_data", 
                    "data": {
                        "text/html": "<pre>recommendations finished on 301000/330575 queries. users per second: 20590.8</pre>", 
                        "text/plain": "recommendations finished on 301000/330575 queries. users per second: 20590.8"
                    }, 
                    "metadata": {}
                }, 
                {
                    "output_type": "display_data", 
                    "data": {
                        "text/html": "<pre>recommendations finished on 302000/330575 queries. users per second: 20599.9</pre>", 
                        "text/plain": "recommendations finished on 302000/330575 queries. users per second: 20599.9"
                    }, 
                    "metadata": {}
                }, 
                {
                    "output_type": "display_data", 
                    "data": {
                        "text/html": "<pre>recommendations finished on 303000/330575 queries. users per second: 20586.8</pre>", 
                        "text/plain": "recommendations finished on 303000/330575 queries. users per second: 20586.8"
                    }, 
                    "metadata": {}
                }, 
                {
                    "output_type": "display_data", 
                    "data": {
                        "text/html": "<pre>recommendations finished on 304000/330575 queries. users per second: 20599.5</pre>", 
                        "text/plain": "recommendations finished on 304000/330575 queries. users per second: 20599.5"
                    }, 
                    "metadata": {}
                }, 
                {
                    "output_type": "display_data", 
                    "data": {
                        "text/html": "<pre>recommendations finished on 305000/330575 queries. users per second: 20610.8</pre>", 
                        "text/plain": "recommendations finished on 305000/330575 queries. users per second: 20610.8"
                    }, 
                    "metadata": {}
                }, 
                {
                    "output_type": "display_data", 
                    "data": {
                        "text/html": "<pre>recommendations finished on 306000/330575 queries. users per second: 20595.6</pre>", 
                        "text/plain": "recommendations finished on 306000/330575 queries. users per second: 20595.6"
                    }, 
                    "metadata": {}
                }, 
                {
                    "output_type": "display_data", 
                    "data": {
                        "text/html": "<pre>recommendations finished on 307000/330575 queries. users per second: 20607.2</pre>", 
                        "text/plain": "recommendations finished on 307000/330575 queries. users per second: 20607.2"
                    }, 
                    "metadata": {}
                }, 
                {
                    "output_type": "display_data", 
                    "data": {
                        "text/html": "<pre>recommendations finished on 308000/330575 queries. users per second: 20641.7</pre>", 
                        "text/plain": "recommendations finished on 308000/330575 queries. users per second: 20641.7"
                    }, 
                    "metadata": {}
                }, 
                {
                    "output_type": "display_data", 
                    "data": {
                        "text/html": "<pre>recommendations finished on 309000/330575 queries. users per second: 20629.8</pre>", 
                        "text/plain": "recommendations finished on 309000/330575 queries. users per second: 20629.8"
                    }, 
                    "metadata": {}
                }, 
                {
                    "output_type": "display_data", 
                    "data": {
                        "text/html": "<pre>recommendations finished on 310000/330575 queries. users per second: 20612.5</pre>", 
                        "text/plain": "recommendations finished on 310000/330575 queries. users per second: 20612.5"
                    }, 
                    "metadata": {}
                }, 
                {
                    "output_type": "display_data", 
                    "data": {
                        "text/html": "<pre>recommendations finished on 311000/330575 queries. users per second: 20597.9</pre>", 
                        "text/plain": "recommendations finished on 311000/330575 queries. users per second: 20597.9"
                    }, 
                    "metadata": {}
                }, 
                {
                    "output_type": "display_data", 
                    "data": {
                        "text/html": "<pre>recommendations finished on 312000/330575 queries. users per second: 20580.1</pre>", 
                        "text/plain": "recommendations finished on 312000/330575 queries. users per second: 20580.1"
                    }, 
                    "metadata": {}
                }, 
                {
                    "output_type": "display_data", 
                    "data": {
                        "text/html": "<pre>recommendations finished on 313000/330575 queries. users per second: 20568.2</pre>", 
                        "text/plain": "recommendations finished on 313000/330575 queries. users per second: 20568.2"
                    }, 
                    "metadata": {}
                }, 
                {
                    "output_type": "display_data", 
                    "data": {
                        "text/html": "<pre>recommendations finished on 314000/330575 queries. users per second: 20551</pre>", 
                        "text/plain": "recommendations finished on 314000/330575 queries. users per second: 20551"
                    }, 
                    "metadata": {}
                }, 
                {
                    "output_type": "display_data", 
                    "data": {
                        "text/html": "<pre>recommendations finished on 315000/330575 queries. users per second: 20560.4</pre>", 
                        "text/plain": "recommendations finished on 315000/330575 queries. users per second: 20560.4"
                    }, 
                    "metadata": {}
                }, 
                {
                    "output_type": "display_data", 
                    "data": {
                        "text/html": "<pre>recommendations finished on 316000/330575 queries. users per second: 20519.1</pre>", 
                        "text/plain": "recommendations finished on 316000/330575 queries. users per second: 20519.1"
                    }, 
                    "metadata": {}
                }, 
                {
                    "output_type": "display_data", 
                    "data": {
                        "text/html": "<pre>recommendations finished on 317000/330575 queries. users per second: 20505.8</pre>", 
                        "text/plain": "recommendations finished on 317000/330575 queries. users per second: 20505.8"
                    }, 
                    "metadata": {}
                }, 
                {
                    "output_type": "display_data", 
                    "data": {
                        "text/html": "<pre>recommendations finished on 318000/330575 queries. users per second: 20515.1</pre>", 
                        "text/plain": "recommendations finished on 318000/330575 queries. users per second: 20515.1"
                    }, 
                    "metadata": {}
                }, 
                {
                    "output_type": "display_data", 
                    "data": {
                        "text/html": "<pre>recommendations finished on 319000/330575 queries. users per second: 20501</pre>", 
                        "text/plain": "recommendations finished on 319000/330575 queries. users per second: 20501"
                    }, 
                    "metadata": {}
                }, 
                {
                    "output_type": "display_data", 
                    "data": {
                        "text/html": "<pre>recommendations finished on 320000/330575 queries. users per second: 20460.8</pre>", 
                        "text/plain": "recommendations finished on 320000/330575 queries. users per second: 20460.8"
                    }, 
                    "metadata": {}
                }, 
                {
                    "output_type": "display_data", 
                    "data": {
                        "text/html": "<pre>recommendations finished on 321000/330575 queries. users per second: 20396.8</pre>", 
                        "text/plain": "recommendations finished on 321000/330575 queries. users per second: 20396.8"
                    }, 
                    "metadata": {}
                }, 
                {
                    "output_type": "display_data", 
                    "data": {
                        "text/html": "<pre>recommendations finished on 322000/330575 queries. users per second: 20356</pre>", 
                        "text/plain": "recommendations finished on 322000/330575 queries. users per second: 20356"
                    }, 
                    "metadata": {}
                }, 
                {
                    "output_type": "display_data", 
                    "data": {
                        "text/html": "<pre>recommendations finished on 323000/330575 queries. users per second: 20340.3</pre>", 
                        "text/plain": "recommendations finished on 323000/330575 queries. users per second: 20340.3"
                    }, 
                    "metadata": {}
                }, 
                {
                    "output_type": "display_data", 
                    "data": {
                        "text/html": "<pre>recommendations finished on 324000/330575 queries. users per second: 20327.3</pre>", 
                        "text/plain": "recommendations finished on 324000/330575 queries. users per second: 20327.3"
                    }, 
                    "metadata": {}
                }, 
                {
                    "output_type": "display_data", 
                    "data": {
                        "text/html": "<pre>recommendations finished on 325000/330575 queries. users per second: 20338.6</pre>", 
                        "text/plain": "recommendations finished on 325000/330575 queries. users per second: 20338.6"
                    }, 
                    "metadata": {}
                }, 
                {
                    "output_type": "display_data", 
                    "data": {
                        "text/html": "<pre>recommendations finished on 326000/330575 queries. users per second: 20327</pre>", 
                        "text/plain": "recommendations finished on 326000/330575 queries. users per second: 20327"
                    }, 
                    "metadata": {}
                }, 
                {
                    "output_type": "display_data", 
                    "data": {
                        "text/html": "<pre>recommendations finished on 327000/330575 queries. users per second: 20334.6</pre>", 
                        "text/plain": "recommendations finished on 327000/330575 queries. users per second: 20334.6"
                    }, 
                    "metadata": {}
                }, 
                {
                    "output_type": "display_data", 
                    "data": {
                        "text/html": "<pre>recommendations finished on 328000/330575 queries. users per second: 20323.8</pre>", 
                        "text/plain": "recommendations finished on 328000/330575 queries. users per second: 20323.8"
                    }, 
                    "metadata": {}
                }, 
                {
                    "output_type": "display_data", 
                    "data": {
                        "text/html": "<pre>recommendations finished on 329000/330575 queries. users per second: 20325.2</pre>", 
                        "text/plain": "recommendations finished on 329000/330575 queries. users per second: 20325.2"
                    }, 
                    "metadata": {}
                }, 
                {
                    "output_type": "display_data", 
                    "data": {
                        "text/html": "<pre>recommendations finished on 330000/330575 queries. users per second: 20322.6</pre>", 
                        "text/plain": "recommendations finished on 330000/330575 queries. users per second: 20322.6"
                    }, 
                    "metadata": {}
                }, 
                {
                    "output_type": "stream", 
                    "name": "stdout", 
                    "text": "+------------+-----------+--------------------+------+\n| customerId | productId |       score        | rank |\n+------------+-----------+--------------------+------+\n|   27270    |   20725N  | 1.9950372208436724 |  1   |\n|   27270    |   22720A  | 1.8172588832487309 |  2   |\n|   27270    |   21212D  | 1.7878787878787878 |  3   |\n|   27270    |   22383K  | 1.776243093922652  |  4   |\n|   27270    |   23442T  |        1.75        |  5   |\n|   27270    |   22960K  | 1.731638418079096  |  6   |\n|   27270    |   22457C  | 1.720626631853786  |  7   |\n|   27270    |   47469B  | 1.7142857142857142 |  8   |\n|   27270    |   22469S  | 1.7039106145251397 |  9   |\n|   27270    |   21931F  | 1.6968838526912182 |  10  |\n|   27270    |   20725N  | 1.9950372208436724 |  1   |\n|   27270    |   22720A  | 1.8172588832487309 |  2   |\n|   27270    |   21212D  | 1.7878787878787878 |  3   |\n|   27270    |   22383K  | 1.776243093922652  |  4   |\n|   27270    |   23442T  |        1.75        |  5   |\n|   27270    |   22960K  | 1.731638418079096  |  6   |\n|   27270    |   22457C  | 1.720626631853786  |  7   |\n|   27270    |   47469B  | 1.7142857142857142 |  8   |\n|   27270    |   22469S  | 1.7039106145251397 |  9   |\n|   27270    |   21931F  | 1.6968838526912182 |  10  |\n|   27270    |   20725N  | 1.9950372208436724 |  1   |\n|   27270    |   22720A  | 1.8172588832487309 |  2   |\n|   27270    |   21212D  | 1.7878787878787878 |  3   |\n|   27270    |   22383K  | 1.776243093922652  |  4   |\n|   27270    |   23442T  |        1.75        |  5   |\n|   27270    |   22960K  | 1.731638418079096  |  6   |\n|   27270    |   22457C  | 1.720626631853786  |  7   |\n|   27270    |   47469B  | 1.7142857142857142 |  8   |\n|   27270    |   22469S  | 1.7039106145251397 |  9   |\n|   27270    |   21931F  | 1.6968838526912182 |  10  |\n+------------+-----------+--------------------+------+\n[3305750 rows x 4 columns]\n\n"
                }
            ], 
            "source": "# Get recommendations for a list of users to recommend (from customers file)\n# Printed below is head / top 30 rows for first 3 customers with 10 recommendations each\n\npopularity_recomm = popularity_model.recommend(users=users_to_recommend, k=n_rec)\npopularity_recomm.print_rows(n_display)"
        }, 
        {
            "source": "#### Define a `model` function for model selection", 
            "cell_type": "markdown", 
            "metadata": {}
        }, 
        {
            "execution_count": 35, 
            "cell_type": "code", 
            "metadata": {}, 
            "outputs": [], 
            "source": "# Since turicreate is very accessible library, we can define a model selection function as below\n\ndef model(train_data, name, user_id, item_id, target, users_to_recommend, n_rec, n_display):\n    if name == 'popularity':\n        model = tc.popularity_recommender.create(train_data, \n                                                    user_id=user_id, \n                                                    item_id=item_id, \n                                                    target=target)\n    elif name == 'cosine':\n        model = tc.item_similarity_recommender.create(train_data, \n                                                    user_id=user_id, \n                                                    item_id=item_id, \n                                                    target=target, \n                                                    similarity_type='cosine')\n    elif name == 'pearson':\n        model = tc.item_similarity_recommender.create(train_data, \n                                                    user_id=user_id, \n                                                    item_id=item_id, \n                                                    target=target, \n                                                    similarity_type='pearson')\n        \n    recom = model.recommend(users=users_to_recommend, k=n_rec)\n    recom.print_rows(n_display)\n    return model"
        }, 
        {
            "execution_count": 36, 
            "cell_type": "code", 
            "metadata": {}, 
            "outputs": [], 
            "source": "# variables to define field names\n# constant variables include:\nuser_id = 'customerId'\nitem_id = 'productId'\nusers_to_recommend = list(customers[user_id])\nn_rec = 10 # number of items to recommend\nn_display = 30 # to print the head / first few rows in a defined dataset"
        }, 
        {
            "source": "#### Using purchase dummy", 
            "cell_type": "markdown", 
            "metadata": {}
        }, 
        {
            "execution_count": 37, 
            "cell_type": "code", 
            "metadata": {}, 
            "outputs": [
                {
                    "output_type": "display_data", 
                    "data": {
                        "text/html": "<pre>Warning: Ignoring columns purchase_count;</pre>", 
                        "text/plain": "Warning: Ignoring columns purchase_count;"
                    }, 
                    "metadata": {}
                }, 
                {
                    "output_type": "display_data", 
                    "data": {
                        "text/html": "<pre>    To use these columns in scoring predictions, use a model that allows the use of additional features.</pre>", 
                        "text/plain": "    To use these columns in scoring predictions, use a model that allows the use of additional features."
                    }, 
                    "metadata": {}
                }, 
                {
                    "output_type": "display_data", 
                    "data": {
                        "text/html": "<pre>Preparing data set.</pre>", 
                        "text/plain": "Preparing data set."
                    }, 
                    "metadata": {}
                }, 
                {
                    "output_type": "display_data", 
                    "data": {
                        "text/html": "<pre>    Data has 216824 observations with 971 users and 3755 items.</pre>", 
                        "text/plain": "    Data has 216824 observations with 971 users and 3755 items."
                    }, 
                    "metadata": {}
                }, 
                {
                    "output_type": "display_data", 
                    "data": {
                        "text/html": "<pre>    Data prepared in: 0.924944s</pre>", 
                        "text/plain": "    Data prepared in: 0.924944s"
                    }, 
                    "metadata": {}
                }, 
                {
                    "output_type": "display_data", 
                    "data": {
                        "text/html": "<pre>216824 observations to process; with 3755 unique items.</pre>", 
                        "text/plain": "216824 observations to process; with 3755 unique items."
                    }, 
                    "metadata": {}
                }, 
                {
                    "output_type": "stream", 
                    "name": "stdout", 
                    "text": "+------------+-----------+-------+------+\n| customerId | productId | score | rank |\n+------------+-----------+-------+------+\n|   127269   |   21784R  |  1.0  |  1   |\n|   127269   |   21172S  |  1.0  |  2   |\n|   127269   |   22386V  |  1.0  |  3   |\n|   127269   |   22120W  |  1.0  |  4   |\n|   127269   |   21990F  |  1.0  |  5   |\n|   127269   |   22063R  |  1.0  |  6   |\n|   127269   |   23204B  |  1.0  |  7   |\n|   127269   |   22655R  |  1.0  |  8   |\n|   127269   |   23359S  |  1.0  |  9   |\n|   127269   |   22890C  |  1.0  |  10  |\n|   227268   |   21784R  |  1.0  |  1   |\n|   227268   |   21172S  |  1.0  |  2   |\n|   227268   |   22386V  |  1.0  |  3   |\n|   227268   |   22120W  |  1.0  |  4   |\n|   227268   |   21990F  |  1.0  |  5   |\n|   227268   |   22063R  |  1.0  |  6   |\n|   227268   |   23204B  |  1.0  |  7   |\n|   227268   |   22655R  |  1.0  |  8   |\n|   227268   |   23359S  |  1.0  |  9   |\n|   227268   |   22890C  |  1.0  |  10  |\n|   327267   |   21784R  |  1.0  |  1   |\n|   327267   |   21172S  |  1.0  |  2   |\n|   327267   |   22386V  |  1.0  |  3   |\n|   327267   |   22120W  |  1.0  |  4   |\n|   327267   |   21990F  |  1.0  |  5   |\n|   327267   |   22063R  |  1.0  |  6   |\n|   327267   |   23204B  |  1.0  |  7   |\n|   327267   |   22655R  |  1.0  |  8   |\n|   327267   |   23359S  |  1.0  |  9   |\n|   327267   |   22890C  |  1.0  |  10  |\n+------------+-----------+-------+------+\n[6280 rows x 4 columns]\n\n"
                }
            ], 
            "source": "# these variables will change accordingly\nname = 'popularity'\ntarget = 'purchase_dummy'\npop_dummy = model(train_data_dummy, name, user_id, item_id, target, users_to_recommend, n_rec, n_display)"
        }, 
        {
            "source": "#### Using normalized purchase count", 
            "cell_type": "markdown", 
            "metadata": {}
        }, 
        {
            "execution_count": 38, 
            "cell_type": "code", 
            "metadata": {}, 
            "outputs": [
                {
                    "output_type": "display_data", 
                    "data": {
                        "text/html": "<pre>Preparing data set.</pre>", 
                        "text/plain": "Preparing data set."
                    }, 
                    "metadata": {}
                }, 
                {
                    "output_type": "display_data", 
                    "data": {
                        "text/html": "<pre>    Data has 205580 observations with 969 users and 2494 items.</pre>", 
                        "text/plain": "    Data has 205580 observations with 969 users and 2494 items."
                    }, 
                    "metadata": {}
                }, 
                {
                    "output_type": "display_data", 
                    "data": {
                        "text/html": "<pre>    Data prepared in: 1.06591s</pre>", 
                        "text/plain": "    Data prepared in: 1.06591s"
                    }, 
                    "metadata": {}
                }, 
                {
                    "output_type": "display_data", 
                    "data": {
                        "text/html": "<pre>205580 observations to process; with 2494 unique items.</pre>", 
                        "text/plain": "205580 observations to process; with 2494 unique items."
                    }, 
                    "metadata": {}
                }, 
                {
                    "output_type": "stream", 
                    "name": "stdout", 
                    "text": "+------------+-----------+--------------------+------+\n| customerId | productId |       score        | rank |\n+------------+-----------+--------------------+------+\n|   127269   |   85089Y  |        1.0         |  1   |\n|   127269   |   85189T  |        0.5         |  2   |\n|   127269   |   21392H  |        0.5         |  3   |\n|   127269   |   84548X  |        0.5         |  4   |\n|   127269   |  81950BS  |        0.4         |  5   |\n|   127269   |  90065AP  | 0.3333333333333333 |  6   |\n|   127269   |  72369AK  | 0.3333333333333333 |  7   |\n|   127269   |  90163AR  | 0.3333333333333333 |  8   |\n|   127269   |   20878T  | 0.3333333333333333 |  9   |\n|   127269   |   21816Y  | 0.3333333333333333 |  10  |\n|   227268   |   85089Y  |        1.0         |  1   |\n|   227268   |   85189T  |        0.5         |  2   |\n|   227268   |   21392H  |        0.5         |  3   |\n|   227268   |   84548X  |        0.5         |  4   |\n|   227268   |  81950BS  |        0.4         |  5   |\n|   227268   |  90065AP  | 0.3333333333333333 |  6   |\n|   227268   |  72369AK  | 0.3333333333333333 |  7   |\n|   227268   |  90163AR  | 0.3333333333333333 |  8   |\n|   227268   |   20878T  | 0.3333333333333333 |  9   |\n|   227268   |   21816Y  | 0.3333333333333333 |  10  |\n|   327267   |   85089Y  |        1.0         |  1   |\n|   327267   |   85189T  |        0.5         |  2   |\n|   327267   |   21392H  |        0.5         |  3   |\n|   327267   |   84548X  |        0.5         |  4   |\n|   327267   |  81950BS  |        0.4         |  5   |\n|   327267   |  90065AP  | 0.3333333333333333 |  6   |\n|   327267   |  72369AK  | 0.3333333333333333 |  7   |\n|   327267   |  90163AR  | 0.3333333333333333 |  8   |\n|   327267   |   20878T  | 0.3333333333333333 |  9   |\n|   327267   |   21816Y  | 0.3333333333333333 |  10  |\n+------------+-----------+--------------------+------+\n[6280 rows x 4 columns]\n\n"
                }
            ], 
            "source": "name = 'popularity'\ntarget = 'scaled_purchase_freq'\npop_norm = model(train_data_norm, name, user_id, item_id, target, users_to_recommend, n_rec, n_display)"
        }, 
        {
            "source": "#### Notes\n* Once we created the model, we predicted the recommendation items using scores by popularity. As you can tell for each model results above, the rows show the first 30 records from 1000 users with 10 recommendations. These 30 records include 3 users and their recommended items, along with score and descending ranks. \n* In the result, although different models have different recommendation list, each user is recommended the same list of 10 items. This is because popularity is calculated by taking the most popular items across all users.\n* If a grouping example below, products 132, 248, 37, and 34 are the most popular (best-selling) across customers. Using their purchase counts divided by the number of customers, we see that these products are at least bought 3 times on average in the training set of transactions (same as the first popularity measure on `purchase_count` variable)", 
            "cell_type": "markdown", 
            "metadata": {}
        }, 
        {
            "execution_count": 39, 
            "cell_type": "code", 
            "metadata": {}, 
            "outputs": [
                {
                    "execution_count": 39, 
                    "metadata": {}, 
                    "data": {
                        "text/plain": "productId\n85123AY    2.375796\n22423U     2.315673\n85099BJ    2.222222\n47566Y     2.030879\n20725N     1.995037\n22197J     1.840796\n84879M     1.825641\n22720A     1.817259\n21212D     1.787879\n22386V     1.782857\n22383K     1.776243\n20727V     1.775457\n23442T     1.750000\n22960K     1.731638\n23298Q     1.725434\n22457C     1.720627\n47469B     1.714286\n22469S     1.703911\n21931F     1.696884\n23203B     1.695652\nName: purchase_count, dtype: float64"
                    }, 
                    "output_type": "execute_result"
                }
            ], 
            "source": "train.groupby(by=item_id)['purchase_count'].mean().sort_values(ascending=False).head(20)"
        }, 
        {
            "source": "## 6. Collaborative Filtering Model\n\n* In collaborative filtering, we would recommend items based on how similar users purchase items. For instance, if customer 1 and customer 2 bought similar items, e.g. 1 bought X, Y, Z and 2 bought X, Y, we would recommend an item Z to customer 2.\n\n* To define similarity across users, we use the following steps:\n    1. Create a user-item matrix, where index values represent unique customer IDs and column values represent unique product IDs\n    \n    2. Create an item-to-item similarity matrix. The idea is to calculate how similar a product is to another product. There are a number of ways of calculating this. In steps 6.1 and 6.2, we use cosine and pearson similarity measure, respectively.  \n    \n        * To calculate similarity between products X and Y, look at all customers who have rated both these items. For example, both X and Y have been rated by customers 1 and 2. \n        * We then create two item-vectors, v1 for item X and v2 for item Y, in the user-space of (1, 2) and then find the `cosine` or `pearson` angle/distance between these vectors. A zero angle or overlapping vectors with cosine value of 1 means total similarity (or per user, across all items, there is same rating) and an angle of 90 degree would mean cosine of 0 or no similarity.\n        \n    3. For each customer, we then predict his likelihood to buy a product (or his purchase counts) for products that he had not bought. \n    \n        * For our example, we will calculate rating for user 2 in the case of item Z (target item). To calculate this we weigh the just-calculated similarity-measure between the target item and other items that customer has already bought. The weighing factor is the purchase counts given by the user to items already bought by him. \n        * We then scale this weighted sum with the sum of similarity-measures so that the calculated rating remains within a predefined limits. Thus, the predicted rating for item Z for user 2 would be calculated using similarity measures.\n\n* While I wrote python scripts for all the process including finding similarity using python scripts (which can be found in `scripts` folder, we can use `turicreate` library for now to capture different measures like using `cosine` and `pearson` distance, and evaluate the best model.", 
            "cell_type": "markdown", 
            "metadata": {}
        }, 
        {
            "source": "### 6.1. `Cosine` similarity\n* Similarity is the cosine of the angle between the 2 vectors of the item vectors of A and B\n* It is defined by the following formula\n![](https://encrypted-tbn0.gstatic.com/images?q=tbn:ANd9GcTnRHSAx1c084UXF2wIHYwaHJLmq2qKtNk_YIv3RjHUO00xwlkt)\n* Closer the vectors, smaller will be the angle and larger the cosine", 
            "cell_type": "markdown", 
            "metadata": {}
        }, 
        {
            "source": "#### Using purchase count", 
            "cell_type": "markdown", 
            "metadata": {}
        }, 
        {
            "execution_count": 40, 
            "cell_type": "code", 
            "metadata": {}, 
            "outputs": [
                {
                    "output_type": "display_data", 
                    "data": {
                        "text/html": "<pre>Preparing data set.</pre>", 
                        "text/plain": "Preparing data set."
                    }, 
                    "metadata": {}
                }, 
                {
                    "output_type": "display_data", 
                    "data": {
                        "text/html": "<pre>    Data has 216824 observations with 970 users and 3763 items.</pre>", 
                        "text/plain": "    Data has 216824 observations with 970 users and 3763 items."
                    }, 
                    "metadata": {}
                }, 
                {
                    "output_type": "display_data", 
                    "data": {
                        "text/html": "<pre>    Data prepared in: 0.825671s</pre>", 
                        "text/plain": "    Data prepared in: 0.825671s"
                    }, 
                    "metadata": {}
                }, 
                {
                    "output_type": "display_data", 
                    "data": {
                        "text/html": "<pre>Training model from provided data.</pre>", 
                        "text/plain": "Training model from provided data."
                    }, 
                    "metadata": {}
                }, 
                {
                    "output_type": "display_data", 
                    "data": {
                        "text/html": "<pre>Gathering per-item and per-user statistics.</pre>", 
                        "text/plain": "Gathering per-item and per-user statistics."
                    }, 
                    "metadata": {}
                }, 
                {
                    "output_type": "display_data", 
                    "data": {
                        "text/html": "<pre>+--------------------------------+------------+</pre>", 
                        "text/plain": "+--------------------------------+------------+"
                    }, 
                    "metadata": {}
                }, 
                {
                    "output_type": "display_data", 
                    "data": {
                        "text/html": "<pre>| Elapsed Time (Item Statistics) | % Complete |</pre>", 
                        "text/plain": "| Elapsed Time (Item Statistics) | % Complete |"
                    }, 
                    "metadata": {}
                }, 
                {
                    "output_type": "display_data", 
                    "data": {
                        "text/html": "<pre>+--------------------------------+------------+</pre>", 
                        "text/plain": "+--------------------------------+------------+"
                    }, 
                    "metadata": {}
                }, 
                {
                    "output_type": "display_data", 
                    "data": {
                        "text/html": "<pre>| 1.02s                          | 100        |</pre>", 
                        "text/plain": "| 1.02s                          | 100        |"
                    }, 
                    "metadata": {}
                }, 
                {
                    "output_type": "display_data", 
                    "data": {
                        "text/html": "<pre>+--------------------------------+------------+</pre>", 
                        "text/plain": "+--------------------------------+------------+"
                    }, 
                    "metadata": {}
                }, 
                {
                    "output_type": "display_data", 
                    "data": {
                        "text/html": "<pre>Setting up lookup tables.</pre>", 
                        "text/plain": "Setting up lookup tables."
                    }, 
                    "metadata": {}
                }, 
                {
                    "output_type": "display_data", 
                    "data": {
                        "text/html": "<pre>Processing data in one pass using dense lookup tables.</pre>", 
                        "text/plain": "Processing data in one pass using dense lookup tables."
                    }, 
                    "metadata": {}
                }, 
                {
                    "output_type": "display_data", 
                    "data": {
                        "text/html": "<pre>+-------------------------------------+------------------+-----------------+</pre>", 
                        "text/plain": "+-------------------------------------+------------------+-----------------+"
                    }, 
                    "metadata": {}
                }, 
                {
                    "output_type": "display_data", 
                    "data": {
                        "text/html": "<pre>| Elapsed Time (Constructing Lookups) | Total % Complete | Items Processed |</pre>", 
                        "text/plain": "| Elapsed Time (Constructing Lookups) | Total % Complete | Items Processed |"
                    }, 
                    "metadata": {}
                }, 
                {
                    "output_type": "display_data", 
                    "data": {
                        "text/html": "<pre>+-------------------------------------+------------------+-----------------+</pre>", 
                        "text/plain": "+-------------------------------------+------------------+-----------------+"
                    }, 
                    "metadata": {}
                }, 
                {
                    "output_type": "display_data", 
                    "data": {
                        "text/html": "<pre>| 1.07s                               | 0.25             | 11              |</pre>", 
                        "text/plain": "| 1.07s                               | 0.25             | 11              |"
                    }, 
                    "metadata": {}
                }, 
                {
                    "output_type": "display_data", 
                    "data": {
                        "text/html": "<pre>| 3.57s                               | 100              | 3763            |</pre>", 
                        "text/plain": "| 3.57s                               | 100              | 3763            |"
                    }, 
                    "metadata": {}
                }, 
                {
                    "output_type": "display_data", 
                    "data": {
                        "text/html": "<pre>+-------------------------------------+------------------+-----------------+</pre>", 
                        "text/plain": "+-------------------------------------+------------------+-----------------+"
                    }, 
                    "metadata": {}
                }, 
                {
                    "output_type": "display_data", 
                    "data": {
                        "text/html": "<pre>Finalizing lookup tables.</pre>", 
                        "text/plain": "Finalizing lookup tables."
                    }, 
                    "metadata": {}
                }, 
                {
                    "output_type": "display_data", 
                    "data": {
                        "text/html": "<pre>Generating candidate set for working with new users.</pre>", 
                        "text/plain": "Generating candidate set for working with new users."
                    }, 
                    "metadata": {}
                }, 
                {
                    "output_type": "display_data", 
                    "data": {
                        "text/html": "<pre>Finished training in 5.00959s</pre>", 
                        "text/plain": "Finished training in 5.00959s"
                    }, 
                    "metadata": {}
                }, 
                {
                    "output_type": "stream", 
                    "name": "stdout", 
                    "text": "+------------+-----------+---------------------+------+\n| customerId | productId |        score        | rank |\n+------------+-----------+---------------------+------+\n|   127269   |  85099BJ  | 0.26375010490417483 |  1   |\n|   127269   |  85123AY  |  0.2605388724803925 |  2   |\n|   127269   |   20725N  |  0.2558867108821869 |  3   |\n|   127269   |   22197J  |  0.2551298034191132 |  4   |\n|   127269   |   20727V  |  0.2542168581485748 |  5   |\n|   127269   |   22423U  | 0.25313607811927796 |  6   |\n|   127269   |   22666I  | 0.24959618091583252 |  7   |\n|   127269   |   22457C  | 0.24794233202934265 |  8   |\n|   127269   |   22993E  | 0.23976797103881836 |  9   |\n|   127269   |   20726C  | 0.23271764397621156 |  10  |\n|   227268   |  85099BJ  | 0.26375010490417483 |  1   |\n|   227268   |  85123AY  |  0.2605388724803925 |  2   |\n|   227268   |   20725N  |  0.2558867108821869 |  3   |\n|   227268   |   22197J  |  0.2551298034191132 |  4   |\n|   227268   |   20727V  |  0.2542168581485748 |  5   |\n|   227268   |   22423U  | 0.25313607811927796 |  6   |\n|   227268   |   22666I  | 0.24959618091583252 |  7   |\n|   227268   |   22457C  | 0.24794233202934265 |  8   |\n|   227268   |   22993E  | 0.23976797103881836 |  9   |\n|   227268   |   20726C  | 0.23271764397621156 |  10  |\n|   327267   |  85099BJ  | 0.26375010490417483 |  1   |\n|   327267   |  85123AY  |  0.2605388724803925 |  2   |\n|   327267   |   20725N  |  0.2558867108821869 |  3   |\n|   327267   |   22197J  |  0.2551298034191132 |  4   |\n|   327267   |   20727V  |  0.2542168581485748 |  5   |\n|   327267   |   22423U  | 0.25313607811927796 |  6   |\n|   327267   |   22666I  | 0.24959618091583252 |  7   |\n|   327267   |   22457C  | 0.24794233202934265 |  8   |\n|   327267   |   22993E  | 0.23976797103881836 |  9   |\n|   327267   |   20726C  | 0.23271764397621156 |  10  |\n+------------+-----------+---------------------+------+\n[6280 rows x 4 columns]\n\n"
                }
            ], 
            "source": "# these variables will change accordingly\nname = 'cosine'\ntarget = 'purchase_count'\ncos = model(train_data, name, user_id, item_id, target, users_to_recommend, n_rec, n_display)"
        }, 
        {
            "source": "#### Using purchase dummy", 
            "cell_type": "markdown", 
            "metadata": {}
        }, 
        {
            "execution_count": 41, 
            "cell_type": "code", 
            "metadata": {}, 
            "outputs": [
                {
                    "output_type": "display_data", 
                    "data": {
                        "text/html": "<pre>Warning: Ignoring columns purchase_count;</pre>", 
                        "text/plain": "Warning: Ignoring columns purchase_count;"
                    }, 
                    "metadata": {}
                }, 
                {
                    "output_type": "display_data", 
                    "data": {
                        "text/html": "<pre>    To use these columns in scoring predictions, use a model that allows the use of additional features.</pre>", 
                        "text/plain": "    To use these columns in scoring predictions, use a model that allows the use of additional features."
                    }, 
                    "metadata": {}
                }, 
                {
                    "output_type": "display_data", 
                    "data": {
                        "text/html": "<pre>Preparing data set.</pre>", 
                        "text/plain": "Preparing data set."
                    }, 
                    "metadata": {}
                }, 
                {
                    "output_type": "display_data", 
                    "data": {
                        "text/html": "<pre>    Data has 216824 observations with 971 users and 3755 items.</pre>", 
                        "text/plain": "    Data has 216824 observations with 971 users and 3755 items."
                    }, 
                    "metadata": {}
                }, 
                {
                    "output_type": "display_data", 
                    "data": {
                        "text/html": "<pre>    Data prepared in: 0.898173s</pre>", 
                        "text/plain": "    Data prepared in: 0.898173s"
                    }, 
                    "metadata": {}
                }, 
                {
                    "output_type": "display_data", 
                    "data": {
                        "text/html": "<pre>Training model from provided data.</pre>", 
                        "text/plain": "Training model from provided data."
                    }, 
                    "metadata": {}
                }, 
                {
                    "output_type": "display_data", 
                    "data": {
                        "text/html": "<pre>Gathering per-item and per-user statistics.</pre>", 
                        "text/plain": "Gathering per-item and per-user statistics."
                    }, 
                    "metadata": {}
                }, 
                {
                    "output_type": "display_data", 
                    "data": {
                        "text/html": "<pre>+--------------------------------+------------+</pre>", 
                        "text/plain": "+--------------------------------+------------+"
                    }, 
                    "metadata": {}
                }, 
                {
                    "output_type": "display_data", 
                    "data": {
                        "text/html": "<pre>| Elapsed Time (Item Statistics) | % Complete |</pre>", 
                        "text/plain": "| Elapsed Time (Item Statistics) | % Complete |"
                    }, 
                    "metadata": {}
                }, 
                {
                    "output_type": "display_data", 
                    "data": {
                        "text/html": "<pre>+--------------------------------+------------+</pre>", 
                        "text/plain": "+--------------------------------+------------+"
                    }, 
                    "metadata": {}
                }, 
                {
                    "output_type": "display_data", 
                    "data": {
                        "text/html": "<pre>| 525.748ms                      | 100        |</pre>", 
                        "text/plain": "| 525.748ms                      | 100        |"
                    }, 
                    "metadata": {}
                }, 
                {
                    "output_type": "display_data", 
                    "data": {
                        "text/html": "<pre>+--------------------------------+------------+</pre>", 
                        "text/plain": "+--------------------------------+------------+"
                    }, 
                    "metadata": {}
                }, 
                {
                    "output_type": "display_data", 
                    "data": {
                        "text/html": "<pre>Setting up lookup tables.</pre>", 
                        "text/plain": "Setting up lookup tables."
                    }, 
                    "metadata": {}
                }, 
                {
                    "output_type": "display_data", 
                    "data": {
                        "text/html": "<pre>Processing data in one pass using dense lookup tables.</pre>", 
                        "text/plain": "Processing data in one pass using dense lookup tables."
                    }, 
                    "metadata": {}
                }, 
                {
                    "output_type": "display_data", 
                    "data": {
                        "text/html": "<pre>+-------------------------------------+------------------+-----------------+</pre>", 
                        "text/plain": "+-------------------------------------+------------------+-----------------+"
                    }, 
                    "metadata": {}
                }, 
                {
                    "output_type": "display_data", 
                    "data": {
                        "text/html": "<pre>| Elapsed Time (Constructing Lookups) | Total % Complete | Items Processed |</pre>", 
                        "text/plain": "| Elapsed Time (Constructing Lookups) | Total % Complete | Items Processed |"
                    }, 
                    "metadata": {}
                }, 
                {
                    "output_type": "display_data", 
                    "data": {
                        "text/html": "<pre>+-------------------------------------+------------------+-----------------+</pre>", 
                        "text/plain": "+-------------------------------------+------------------+-----------------+"
                    }, 
                    "metadata": {}
                }, 
                {
                    "output_type": "display_data", 
                    "data": {
                        "text/html": "<pre>| 571.088ms                           | 0                | 1               |</pre>", 
                        "text/plain": "| 571.088ms                           | 0                | 1               |"
                    }, 
                    "metadata": {}
                }, 
                {
                    "output_type": "display_data", 
                    "data": {
                        "text/html": "<pre>| 2.82s                               | 100              | 3755            |</pre>", 
                        "text/plain": "| 2.82s                               | 100              | 3755            |"
                    }, 
                    "metadata": {}
                }, 
                {
                    "output_type": "display_data", 
                    "data": {
                        "text/html": "<pre>+-------------------------------------+------------------+-----------------+</pre>", 
                        "text/plain": "+-------------------------------------+------------------+-----------------+"
                    }, 
                    "metadata": {}
                }, 
                {
                    "output_type": "display_data", 
                    "data": {
                        "text/html": "<pre>Finalizing lookup tables.</pre>", 
                        "text/plain": "Finalizing lookup tables."
                    }, 
                    "metadata": {}
                }, 
                {
                    "output_type": "display_data", 
                    "data": {
                        "text/html": "<pre>Generating candidate set for working with new users.</pre>", 
                        "text/plain": "Generating candidate set for working with new users."
                    }, 
                    "metadata": {}
                }, 
                {
                    "output_type": "display_data", 
                    "data": {
                        "text/html": "<pre>Finished training in 3.38597s</pre>", 
                        "text/plain": "Finished training in 3.38597s"
                    }, 
                    "metadata": {}
                }, 
                {
                    "output_type": "stream", 
                    "name": "stdout", 
                    "text": "+------------+-----------+-------+------+\n| customerId | productId | score | rank |\n+------------+-----------+-------+------+\n|   127269   |   21784R  |  0.0  |  1   |\n|   127269   |   21172S  |  0.0  |  2   |\n|   127269   |   22386V  |  0.0  |  3   |\n|   127269   |   22120W  |  0.0  |  4   |\n|   127269   |   21990F  |  0.0  |  5   |\n|   127269   |   22063R  |  0.0  |  6   |\n|   127269   |   23204B  |  0.0  |  7   |\n|   127269   |   22655R  |  0.0  |  8   |\n|   127269   |   23359S  |  0.0  |  9   |\n|   127269   |   22890C  |  0.0  |  10  |\n|   227268   |   21784R  |  0.0  |  1   |\n|   227268   |   21172S  |  0.0  |  2   |\n|   227268   |   22386V  |  0.0  |  3   |\n|   227268   |   22120W  |  0.0  |  4   |\n|   227268   |   21990F  |  0.0  |  5   |\n|   227268   |   22063R  |  0.0  |  6   |\n|   227268   |   23204B  |  0.0  |  7   |\n|   227268   |   22655R  |  0.0  |  8   |\n|   227268   |   23359S  |  0.0  |  9   |\n|   227268   |   22890C  |  0.0  |  10  |\n|   327267   |   21784R  |  0.0  |  1   |\n|   327267   |   21172S  |  0.0  |  2   |\n|   327267   |   22386V  |  0.0  |  3   |\n|   327267   |   22120W  |  0.0  |  4   |\n|   327267   |   21990F  |  0.0  |  5   |\n|   327267   |   22063R  |  0.0  |  6   |\n|   327267   |   23204B  |  0.0  |  7   |\n|   327267   |   22655R  |  0.0  |  8   |\n|   327267   |   23359S  |  0.0  |  9   |\n|   327267   |   22890C  |  0.0  |  10  |\n+------------+-----------+-------+------+\n[6280 rows x 4 columns]\n\n"
                }
            ], 
            "source": "# these variables will change accordingly\nname = 'cosine'\ntarget = 'purchase_dummy'\ncos_dummy = model(train_data_dummy, name, user_id, item_id, target, users_to_recommend, n_rec, n_display)"
        }, 
        {
            "source": "#### Using normalized purchase count", 
            "cell_type": "markdown", 
            "metadata": {}
        }, 
        {
            "execution_count": null, 
            "cell_type": "code", 
            "metadata": {}, 
            "outputs": [
                {
                    "output_type": "display_data", 
                    "data": {
                        "text/html": "<pre>Preparing data set.</pre>", 
                        "text/plain": "Preparing data set."
                    }, 
                    "metadata": {}
                }
            ], 
            "source": "name = 'cosine'\ntarget = 'scaled_purchase_freq'\ncos_norm = model(train_data_norm, name, user_id, item_id, target, users_to_recommend, n_rec, n_display)"
        }, 
        {
            "source": "### 6.2. `Pearson` similarity\n* Similarity is the pearson coefficient between the two vectors.\n* It is defined by the following formula\n![](http://critical-numbers.group.shef.ac.uk/glossary/images/correlationKT1.png)", 
            "cell_type": "markdown", 
            "metadata": {}
        }, 
        {
            "source": "#### Using purchase count", 
            "cell_type": "markdown", 
            "metadata": {}
        }, 
        {
            "execution_count": null, 
            "cell_type": "code", 
            "metadata": {}, 
            "outputs": [], 
            "source": "# these variables will change accordingly\nname = 'pearson'\ntarget = 'purchase_count'\npear = model(train_data, name, user_id, item_id, target, users_to_recommend, n_rec, n_display)"
        }, 
        {
            "source": "#### Using purchase dummy", 
            "cell_type": "markdown", 
            "metadata": {}
        }, 
        {
            "execution_count": null, 
            "cell_type": "code", 
            "metadata": {}, 
            "outputs": [], 
            "source": "# these variables will change accordingly\nname = 'pearson'\ntarget = 'purchase_dummy'\npear_dummy = model(train_data_dummy, name, user_id, item_id, target, users_to_recommend, n_rec, n_display)"
        }, 
        {
            "source": "#### Using normalized purchase count", 
            "cell_type": "markdown", 
            "metadata": {}
        }, 
        {
            "execution_count": null, 
            "cell_type": "code", 
            "metadata": {}, 
            "outputs": [], 
            "source": "name = 'pearson'\ntarget = 'scaled_purchase_freq'\npear_norm = model(train_data_norm, name, user_id, item_id, target, users_to_recommend, n_rec, n_display)"
        }, 
        {
            "source": "#### Note\n* In collaborative filtering above, we used two approaches: cosine and pearson distance. We also got to apply them to three training datasets with normal counts, dummy, or normalized counts of items purchase.\n* We can see that the recommendations are different for each user. This suggests that personalization does exist. \n* But how good is this model compared to the baseline, and to each other? We need some means of evaluating a recommendation engine. Lets focus on that in the next section.", 
            "cell_type": "markdown", 
            "metadata": {}
        }, 
        {
            "source": "## 7. Model Evaluation\nFor evaluating recommendation engines, we can use the concept of precision-recall.\n\n* RMSE (Root Mean Squared Errors)\n    * Measures the error of predicted values\n    * Lesser the RMSE value, better the recommendations\n* Recall\n    * What percentage of products that a user buys are actually recommended?\n    * If a customer buys 5 products and the recommendation decided to show 3 of them, then the recall is 0.6\n* Precision\n    * Out of all the recommended items, how many the user actually liked?\n    * If 5 products were recommended to the customer out of which he buys 4 of them, then precision is 0.8\n    \n* Why are both recall and precision important?\n    * Consider a case where we recommend all products, so our customers will surely cover the items that they liked and bought. In this case, we have 100% recall! Does this mean our model is good?\n    * We have to consider precision. If we recommend 300 items but user likes and buys only 3 of them, then precision is 0.1%! This very low precision indicates that the model is not great, despite their excellent recall.\n    * So our aim has to be optimizing both recall and precision (to be close to 1 as possible).\n\nLets compare all the models we have built based on precision-recall characteristics:", 
            "cell_type": "markdown", 
            "metadata": {}
        }, 
        {
            "execution_count": null, 
            "cell_type": "code", 
            "metadata": {}, 
            "outputs": [], 
            "source": "# create initial callable variables\n\nmodels_w_counts = [popularity_model, cos, pear]\nmodels_w_dummy = [pop_dummy, cos_dummy, pear_dummy]\nmodels_w_norm = [pop_norm, cos_norm, pear_norm]\n\nnames_w_counts = ['Popularity Model on Purchase Counts', 'Cosine Similarity on Purchase Counts', 'Pearson Similarity on Purchase Counts']\nnames_w_dummy = ['Popularity Model on Purchase Dummy', 'Cosine Similarity on Purchase Dummy', 'Pearson Similarity on Purchase Dummy']\nnames_w_norm = ['Popularity Model on Scaled Purchase Counts', 'Cosine Similarity on Scaled Purchase Counts', 'Pearson Similarity on Scaled Purchase Counts']"
        }, 
        {
            "source": "#### Models on purchase counts", 
            "cell_type": "markdown", 
            "metadata": {}
        }, 
        {
            "execution_count": null, 
            "cell_type": "code", 
            "metadata": {
                "scrolled": false
            }, 
            "outputs": [], 
            "source": "eval_counts = tc.recommender.util.compare_models(test_data, models_w_counts, model_names=names_w_counts)"
        }, 
        {
            "source": "#### Models on purchase dummy", 
            "cell_type": "markdown", 
            "metadata": {}
        }, 
        {
            "execution_count": null, 
            "cell_type": "code", 
            "metadata": {
                "scrolled": false
            }, 
            "outputs": [], 
            "source": "eval_dummy = tc.recommender.util.compare_models(test_data_dummy, models_w_dummy, model_names=names_w_dummy)"
        }, 
        {
            "source": "#### Models on normalized purchase frequency", 
            "cell_type": "markdown", 
            "metadata": {}
        }, 
        {
            "execution_count": null, 
            "cell_type": "code", 
            "metadata": {
                "scrolled": false
            }, 
            "outputs": [], 
            "source": "eval_norm = tc.recommender.util.compare_models(test_data_norm, models_w_norm, model_names=names_w_norm)"
        }, 
        {
            "source": "## 8. Model Selection\n### 8.1. Evaluation summary\n* Based on RMSE\n\n\n    1. Popularity on purchase counts: 1.1111750034210488\n    2. Cosine similarity on purchase counts: 1.9230643981653215\n    3. Pearson similarity on purchase counts: 1.9231102838192284\n    \n    4. Popularity on purchase dummy: 0.9697374361161925\n    5. Cosine similarity on purchase dummy: 0.9697509978436404\n    6. Pearson similarity on purchase dummy: 0.9697745320187097\n    \n    7. Popularity on scaled purchase counts: 0.16230660626840343\n    8. Cosine similarity on scaled purchase counts: 0.16229800354111104\n    9. Pearson similarity on scaled purchase counts: 0.1622982668334026\n    \n* Based on Precision and Recall\n![](../images/model_comparisons.png)\n", 
            "cell_type": "markdown", 
            "metadata": {}
        }, 
        {
            "source": "#### Notes\n\n* Popularity v. Collaborative Filtering: We can see that the collaborative filtering algorithms work better than popularity model for purchase counts. Indeed, popularity model doesn\u2019t give any personalizations as it only gives the same list of recommended items to every user.\n* Precision and recall: Looking at the summary above, we see that the precision and recall for Purchase Counts > Purchase Dummy > Normalized Purchase Counts. However, because the recommendation scores for the normalized purchase data is zero and constant, we choose the dummy. In fact, the RMSE isn\u2019t much different between models on the dummy and those on the normalized data.\n* RMSE: Since RMSE is higher using pearson distance thancosine, we would choose model the smaller mean squared errors, which in this case would be cosine.\nTherefore, we select the Cosine similarity on Purchase Dummy approach as our final model.", 
            "cell_type": "markdown", 
            "metadata": {}
        }, 
        {
            "source": "## 8. Final Output\n* In this step, we would like to manipulate format for recommendation output to one we can export to csv, and also a function that will return recommendation list given a customer ID.\n* We need to first rerun the model using the whole dataset, as we came to a final model using train data and evaluated with test set.", 
            "cell_type": "markdown", 
            "metadata": {}
        }, 
        {
            "execution_count": null, 
            "cell_type": "code", 
            "metadata": {}, 
            "outputs": [], 
            "source": "users_to_recommend = list(customers[user_id])\n\nfinal_model = tc.item_similarity_recommender.create(tc.SFrame(data), \n                                            user_id=user_id, \n                                            item_id=item_id, \n                                            target='purchase_count', \n                                            similarity_type='cosine')\n\nrecom = final_model.recommend(users=users_to_recommend, k=n_rec)\nrecom.print_rows(n_display)"
        }, 
        {
            "source": "### 8.1. CSV output file", 
            "cell_type": "markdown", 
            "metadata": {}
        }, 
        {
            "execution_count": null, 
            "cell_type": "code", 
            "metadata": {}, 
            "outputs": [], 
            "source": "df_rec = recom.to_dataframe()\nprint(df_rec.shape)\ndf_rec.head(10)"
        }, 
        {
            "execution_count": null, 
            "cell_type": "code", 
            "metadata": {}, 
            "outputs": [], 
            "source": "# df_rec1 = df_rec.to_dataframe()\nimport json\ndf2_unique = df_rec.drop_duplicates(subset='customerId')\nfinal_recom = df2_unique.filter(['customerId',str('productId')])\nfinal_recom = final_recom.rename(columns={'customerId': 'CustomerID', 'productId':'Items'})\nfinal_recom['Items'] = final_recom['Items'].apply(lambda x: \"'\" + str(x) + \"'\")\nfinal_recom['Items'] = '[' + final_recom['Items'].astype(str) + ']'"
        }, 
        {
            "execution_count": null, 
            "cell_type": "code", 
            "metadata": {
                "scrolled": true
            }, 
            "outputs": [], 
            "source": "project.save_data(data=final_recom.to_csv(index=False,sep=','),file_name='recommended_purchase.csv',overwrite=True)"
        }, 
        {
            "execution_count": null, 
            "cell_type": "code", 
            "metadata": {}, 
            "outputs": [], 
            "source": "print(final_recom.shape)\nfinal_recom.head(20)"
        }, 
        {
            "execution_count": null, 
            "cell_type": "code", 
            "metadata": {}, 
            "outputs": [], 
            "source": "df_rec['recommendedProducts'] = df_rec.groupby([user_id])[item_id].transform(lambda x: '|'.join(x.astype(str)))\ndf_output = df_rec[['customerId', 'recommendedProducts']].drop_duplicates().sort_values('customerId').set_index('customerId')"
        }, 
        {
            "source": "#### Define a function to create a desired output", 
            "cell_type": "markdown", 
            "metadata": {}
        }, 
        {
            "execution_count": null, 
            "cell_type": "code", 
            "metadata": {}, 
            "outputs": [], 
            "source": "def create_output(model, users_to_recommend, n_rec, print_csv=True):\n    recomendation = model.recommend(users=users_to_recommend, k=n_rec)\n    df_rec = recomendation.to_dataframe()\n    df_rec['recommendedProducts'] = df_rec.groupby([user_id])[item_id] \\\n        .transform(lambda x: '|'.join(x.astype(str)))\n    df_output = df_rec[['customerId', 'recommendedProducts']].drop_duplicates() \\\n        .sort_values('customerId').set_index('customerId')\n    if print_csv:\n        df_output.to_csv('recommendation_output.csv')\n    return df_output"
        }, 
        {
            "execution_count": null, 
            "cell_type": "code", 
            "metadata": {}, 
            "outputs": [], 
            "source": "df_output = create_output(pear_norm, users_to_recommend, n_rec, print_csv=True)\nrec_output=df_output.drop_duplicates()\nproject.save_data(data=rec_output.to_csv(index=False),file_name='recommendation_output.csv',overwrite=True)\nprint(df_output.shape)\ndf_output.head(12)"
        }, 
        {
            "source": "### 8.2. Customer recommendation function", 
            "cell_type": "markdown", 
            "metadata": {}
        }, 
        {
            "execution_count": null, 
            "cell_type": "code", 
            "metadata": {}, 
            "outputs": [], 
            "source": "def customer_recomendation(customer_id):\n    if customer_id not in df_output.index:\n        print('Customer not found.')\n        return customer_id\n    return df_output.loc[customer_id]"
        }, 
        {
            "execution_count": null, 
            "cell_type": "code", 
            "metadata": {}, 
            "outputs": [], 
            "source": "customer_recomendation(19980)"
        }, 
        {
            "execution_count": null, 
            "cell_type": "code", 
            "metadata": {}, 
            "outputs": [], 
            "source": "customer_recomendation(15390)"
        }, 
        {
            "source": "## Summary\nIn this exercise, we were able to traverse a step-by-step process for making recommendations to customers. We used Collaborative Filtering approaches with `cosine` and `pearson` measure and compare the models with our baseline popularity model. We also prepared three sets of data that include regular buying count, buying dummy, as well as normalized purchase frequency as our target variable. Using RMSE, precision and recall, we evaluated our models and observed the impact of personalization. Finally, we selected the Cosine approach in dummy purchase data. ", 
            "cell_type": "markdown", 
            "metadata": {
                "collapsed": true
            }
        }, 
        {
            "execution_count": null, 
            "cell_type": "code", 
            "metadata": {}, 
            "outputs": [], 
            "source": ""
        }
    ], 
    "metadata": {
        "kernelspec": {
            "display_name": "Python 3.5", 
            "name": "python3", 
            "language": "python"
        }, 
        "language_info": {
            "mimetype": "text/x-python", 
            "nbconvert_exporter": "python", 
            "version": "3.5.5", 
            "name": "python", 
            "file_extension": ".py", 
            "pygments_lexer": "ipython3", 
            "codemirror_mode": {
                "version": 3, 
                "name": "ipython"
            }
        }
    }, 
    "nbformat": 4
}