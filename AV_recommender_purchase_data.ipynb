{
    "nbformat_minor": 2, 
    "cells": [
        {
            "execution_count": 1, 
            "cell_type": "code", 
            "metadata": {}, 
            "outputs": [], 
            "source": "# The code was removed by Watson Studio for sharing."
        }, 
        {
            "execution_count": 2, 
            "cell_type": "code", 
            "metadata": {}, 
            "outputs": [
                {
                    "output_type": "stream", 
                    "name": "stdout", 
                    "text": "Collecting turicreate\n\u001b[?25l  Downloading https://files.pythonhosted.org/packages/98/85/222a4ab94b1908b32bf9ea21226656b946960cab7a359949aaacea580d39/turicreate-5.6-cp35-cp35m-manylinux1_x86_64.whl (86.1MB)\n\u001b[K    100% |\u2588\u2588\u2588\u2588\u2588\u2588\u2588\u2588\u2588\u2588\u2588\u2588\u2588\u2588\u2588\u2588\u2588\u2588\u2588\u2588\u2588\u2588\u2588\u2588\u2588\u2588\u2588\u2588\u2588\u2588\u2588\u2588| 86.1MB 399kB/s eta 0:00:01\n\u001b[?25hCollecting prettytable==0.7.2 (from turicreate)\n  Downloading https://files.pythonhosted.org/packages/ef/30/4b0746848746ed5941f052479e7c23d2b56d174b82f4fd34a25e389831f5/prettytable-0.7.2.tar.bz2\nRequirement already satisfied: pillow>=3.3.0 in /opt/conda/envs/DSX-Python35/lib/python3.5/site-packages (from turicreate) (4.2.1)\nRequirement already satisfied: pandas>=0.19.0 in /opt/conda/envs/DSX-Python35/lib/python3.5/site-packages (from turicreate) (0.21.0)\nRequirement already satisfied: requests>=2.9.1 in /opt/conda/envs/DSX-Python35/lib/python3.5/site-packages (from turicreate) (2.18.4)\nCollecting resampy==0.2.1 (from turicreate)\n\u001b[?25l  Downloading https://files.pythonhosted.org/packages/14/b6/66a06d85474190b50aee1a6c09cdc95bb405ac47338b27e9b21409da1760/resampy-0.2.1.tar.gz (322kB)\n\u001b[K    100% |\u2588\u2588\u2588\u2588\u2588\u2588\u2588\u2588\u2588\u2588\u2588\u2588\u2588\u2588\u2588\u2588\u2588\u2588\u2588\u2588\u2588\u2588\u2588\u2588\u2588\u2588\u2588\u2588\u2588\u2588\u2588\u2588| 327kB 29.7MB/s ta 0:00:01\n\u001b[?25hRequirement already satisfied: decorator>=4.0.9 in /opt/conda/envs/DSX-Python35/lib/python3.5/site-packages (from turicreate) (4.1.2)\nCollecting coremltools==2.1.0 (from turicreate)\n\u001b[?25l  Downloading https://files.pythonhosted.org/packages/24/70/d3af1248bec195c33d95fb1778e887cd5317bf8eb238e847afe6237cd30f/coremltools-2.1.0-cp35-none-manylinux1_x86_64.whl (2.7MB)\n\u001b[K    100% |\u2588\u2588\u2588\u2588\u2588\u2588\u2588\u2588\u2588\u2588\u2588\u2588\u2588\u2588\u2588\u2588\u2588\u2588\u2588\u2588\u2588\u2588\u2588\u2588\u2588\u2588\u2588\u2588\u2588\u2588\u2588\u2588| 2.7MB 11.3MB/s ta 0:00:01 |\u2588\u2588\u2588\u2588\u2588\u2588\u2588\u2588\u2588\u2588\u2588\u2588\u2588\u2588\u2588\u2588\u2588\u2588\u2588\u2588\u2588\u2588\u2588\u2588\u2588\u258b      | 2.2MB 57.6MB/s eta 0:00:01\n\u001b[?25hRequirement already satisfied: scipy>=0.14.0 in /opt/conda/envs/DSX-Python35/lib/python3.5/site-packages (from turicreate) (1.0.0)\nRequirement already satisfied: six>=1.10.0 in /opt/conda/envs/DSX-Python35/lib/python3.5/site-packages (from turicreate) (1.11.0)\nCollecting mxnet<1.2.0,>=1.1.0 (from turicreate)\n\u001b[?25l  Downloading https://files.pythonhosted.org/packages/96/98/c9877e100c3d1ac92263bfaba7bb8a49294e099046592040a2ff8620ac61/mxnet-1.1.0.post0-py2.py3-none-manylinux1_x86_64.whl (23.8MB)\n\u001b[K    100% |\u2588\u2588\u2588\u2588\u2588\u2588\u2588\u2588\u2588\u2588\u2588\u2588\u2588\u2588\u2588\u2588\u2588\u2588\u2588\u2588\u2588\u2588\u2588\u2588\u2588\u2588\u2588\u2588\u2588\u2588\u2588\u2588| 23.8MB 1.5MB/s eta 0:00:01\n\u001b[?25hRequirement already satisfied: numpy in /opt/conda/envs/DSX-Python35/lib/python3.5/site-packages (from turicreate) (1.13.3)\nRequirement already satisfied: olefile in /opt/conda/envs/DSX-Python35/lib/python3.5/site-packages (from pillow>=3.3.0->turicreate) (0.44)\nRequirement already satisfied: python-dateutil>=2 in /opt/conda/envs/DSX-Python35/lib/python3.5/site-packages (from pandas>=0.19.0->turicreate) (2.6.1)\nRequirement already satisfied: pytz>=2011k in /opt/conda/envs/DSX-Python35/lib/python3.5/site-packages (from pandas>=0.19.0->turicreate) (2018.3)\nRequirement already satisfied: chardet<3.1.0,>=3.0.2 in /opt/conda/envs/DSX-Python35/lib/python3.5/site-packages (from requests>=2.9.1->turicreate) (3.0.4)\nRequirement already satisfied: idna<2.7,>=2.5 in /opt/conda/envs/DSX-Python35/lib/python3.5/site-packages (from requests>=2.9.1->turicreate) (2.6)\nRequirement already satisfied: urllib3<1.23,>=1.21.1 in /opt/conda/envs/DSX-Python35/lib/python3.5/site-packages (from requests>=2.9.1->turicreate) (1.22)\nRequirement already satisfied: certifi>=2017.4.17 in /opt/conda/envs/DSX-Python35/lib/python3.5/site-packages (from requests>=2.9.1->turicreate) (2019.6.16)\nRequirement already satisfied: numba>=0.32 in /opt/conda/envs/DSX-Python35/lib/python3.5/site-packages (from resampy==0.2.1->turicreate) (0.35.0+10.g143f70e90)\nRequirement already satisfied: protobuf>=3.1.0 in /opt/conda/envs/DSX-Python35/lib/python3.5/site-packages (from coremltools==2.1.0->turicreate) (3.4.1)\nCollecting graphviz<0.9.0,>=0.8.1 (from mxnet<1.2.0,>=1.1.0->turicreate)\n  Downloading https://files.pythonhosted.org/packages/53/39/4ab213673844e0c004bed8a0781a0721a3f6bb23eb8854ee75c236428892/graphviz-0.8.4-py2.py3-none-any.whl\nRequirement already satisfied: llvmlite in /opt/conda/envs/DSX-Python35/lib/python3.5/site-packages (from numba>=0.32->resampy==0.2.1->turicreate) (0.20.0)\nRequirement already satisfied: setuptools in /opt/conda/envs/DSX-Python35/lib/python3.5/site-packages (from protobuf>=3.1.0->coremltools==2.1.0->turicreate) (36.5.0.post20170921)\nBuilding wheels for collected packages: prettytable, resampy\n  Running setup.py bdist_wheel for prettytable ... \u001b[?25ldone\n\u001b[?25h  Stored in directory: /home/dsxuser/.cache/pip/wheels/80/34/1c/3967380d9676d162cb59513bd9dc862d0584e045a162095606\n  Running setup.py bdist_wheel for resampy ... \u001b[?25ldone\n\u001b[?25h  Stored in directory: /home/dsxuser/.cache/pip/wheels/ff/4f/ed/2e6c676c23efe5394bb40ade50662e90eb46e29b48324c5f9b\nSuccessfully built prettytable resampy\n\u001b[31mtensorflow 1.3.0 requires tensorflow-tensorboard<0.2.0,>=0.1.0, which is not installed.\u001b[0m\nInstalling collected packages: prettytable, resampy, coremltools, graphviz, mxnet, turicreate\nSuccessfully installed coremltools-2.1.0 graphviz-0.8.4 mxnet-1.1.0.post0 prettytable-0.7.2 resampy-0.2.1 turicreate-5.6\n"
                }
            ], 
            "source": "!pip install turicreate"
        }, 
        {
            "execution_count": 3, 
            "cell_type": "code", 
            "metadata": {}, 
            "outputs": [], 
            "source": "%load_ext autoreload\n%autoreload 2\n\nimport pandas as pd\nimport numpy as np\nimport time\nimport turicreate as tc\nfrom sklearn.model_selection import train_test_split\n\nimport sys\nsys.path.append(\"..\")"
        }, 
        {
            "execution_count": 4, 
            "cell_type": "code", 
            "metadata": {}, 
            "outputs": [
                {
                    "execution_count": 4, 
                    "metadata": {}, 
                    "data": {
                        "text/html": "<div>\n<style scoped>\n    .dataframe tbody tr th:only-of-type {\n        vertical-align: middle;\n    }\n\n    .dataframe tbody tr th {\n        vertical-align: top;\n    }\n\n    .dataframe thead th {\n        text-align: right;\n    }\n</style>\n<table border=\"1\" class=\"dataframe\">\n  <thead>\n    <tr style=\"text-align: right;\">\n      <th></th>\n      <th>CustomerID</th>\n      <th>InvoiceNo</th>\n      <th>Quantity</th>\n      <th>InvoiceDate</th>\n      <th>UnitPrice</th>\n      <th>Country</th>\n      <th>StockCode</th>\n    </tr>\n  </thead>\n  <tbody>\n    <tr>\n      <th>0</th>\n      <td>27270</td>\n      <td>27270</td>\n      <td>7</td>\n      <td>01/12/10 8:26</td>\n      <td>2.55</td>\n      <td>PX</td>\n      <td>85123AY</td>\n    </tr>\n    <tr>\n      <th>1</th>\n      <td>27270</td>\n      <td>27270</td>\n      <td>7</td>\n      <td>01/12/10 8:26</td>\n      <td>3.39</td>\n      <td>PX</td>\n      <td>71053R</td>\n    </tr>\n    <tr>\n      <th>2</th>\n      <td>27270</td>\n      <td>27270</td>\n      <td>9</td>\n      <td>01/12/10 8:26</td>\n      <td>2.75</td>\n      <td>PX</td>\n      <td>84406BH</td>\n    </tr>\n    <tr>\n      <th>3</th>\n      <td>27270</td>\n      <td>27270</td>\n      <td>7</td>\n      <td>01/12/10 8:26</td>\n      <td>3.39</td>\n      <td>PX</td>\n      <td>84029GV</td>\n    </tr>\n    <tr>\n      <th>4</th>\n      <td>27270</td>\n      <td>27270</td>\n      <td>7</td>\n      <td>01/12/10 8:26</td>\n      <td>3.39</td>\n      <td>PX</td>\n      <td>84029EX</td>\n    </tr>\n  </tbody>\n</table>\n</div>", 
                        "text/plain": "   CustomerID  InvoiceNo  Quantity    InvoiceDate  UnitPrice Country StockCode\n0       27270      27270         7  01/12/10 8:26       2.55      PX   85123AY\n1       27270      27270         7  01/12/10 8:26       3.39      PX    71053R\n2       27270      27270         9  01/12/10 8:26       2.75      PX   84406BH\n3       27270      27270         7  01/12/10 8:26       3.39      PX   84029GV\n4       27270      27270         7  01/12/10 8:26       3.39      PX   84029EX"
                    }, 
                    "output_type": "execute_result"
                }
            ], 
            "source": "# The code was removed by Watson Studio for sharing."
        }, 
        {
            "execution_count": 5, 
            "cell_type": "code", 
            "metadata": {}, 
            "outputs": [
                {
                    "execution_count": 5, 
                    "metadata": {}, 
                    "data": {
                        "text/html": "<div>\n<style scoped>\n    .dataframe tbody tr th:only-of-type {\n        vertical-align: middle;\n    }\n\n    .dataframe tbody tr th {\n        vertical-align: top;\n    }\n\n    .dataframe thead th {\n        text-align: right;\n    }\n</style>\n<table border=\"1\" class=\"dataframe\">\n  <thead>\n    <tr style=\"text-align: right;\">\n      <th></th>\n      <th>customerId</th>\n      <th>products</th>\n    </tr>\n  </thead>\n  <tbody>\n    <tr>\n      <th>0</th>\n      <td>27270</td>\n      <td>85123AY</td>\n    </tr>\n    <tr>\n      <th>1</th>\n      <td>27270</td>\n      <td>71053R</td>\n    </tr>\n    <tr>\n      <th>2</th>\n      <td>27270</td>\n      <td>84406BH</td>\n    </tr>\n    <tr>\n      <th>3</th>\n      <td>27270</td>\n      <td>84029GV</td>\n    </tr>\n    <tr>\n      <th>4</th>\n      <td>27270</td>\n      <td>84029EX</td>\n    </tr>\n  </tbody>\n</table>\n</div>", 
                        "text/plain": "   customerId products\n0       27270  85123AY\n1       27270   71053R\n2       27270  84406BH\n3       27270  84029GV\n4       27270  84029EX"
                    }, 
                    "output_type": "execute_result"
                }
            ], 
            "source": "transactions = df_data_1[['CustomerID','StockCode']]\ntransactions = transactions.rename(columns={'CustomerID': 'customerId', 'StockCode':'products'})\ntransactions.head()"
        }, 
        {
            "execution_count": 6, 
            "cell_type": "code", 
            "metadata": {}, 
            "outputs": [
                {
                    "execution_count": 6, 
                    "metadata": {}, 
                    "data": {
                        "text/html": "<div>\n<style scoped>\n    .dataframe tbody tr th:only-of-type {\n        vertical-align: middle;\n    }\n\n    .dataframe tbody tr th {\n        vertical-align: top;\n    }\n\n    .dataframe thead th {\n        text-align: right;\n    }\n</style>\n<table border=\"1\" class=\"dataframe\">\n  <thead>\n    <tr style=\"text-align: right;\">\n      <th></th>\n      <th>Country</th>\n      <th>CustomerID</th>\n      <th>InvoiceDate</th>\n      <th>InvoiceNo</th>\n      <th>Quantity</th>\n      <th>StockCode</th>\n      <th>UnitPrice</th>\n    </tr>\n  </thead>\n  <tbody>\n    <tr>\n      <th>0</th>\n      <td>PX</td>\n      <td>127269</td>\n      <td>01/12/10 8:28</td>\n      <td>127269</td>\n      <td>7</td>\n      <td>22633V</td>\n      <td>1.85</td>\n    </tr>\n    <tr>\n      <th>1</th>\n      <td>PX</td>\n      <td>227268</td>\n      <td>01/12/10 8:34</td>\n      <td>227268</td>\n      <td>38</td>\n      <td>84879M</td>\n      <td>1.69</td>\n    </tr>\n    <tr>\n      <th>2</th>\n      <td>PX</td>\n      <td>227268</td>\n      <td>01/12/10 8:34</td>\n      <td>227268</td>\n      <td>7</td>\n      <td>22748P</td>\n      <td>2.10</td>\n    </tr>\n    <tr>\n      <th>3</th>\n      <td>PX</td>\n      <td>227268</td>\n      <td>01/12/10 8:34</td>\n      <td>227268</td>\n      <td>9</td>\n      <td>22749K</td>\n      <td>3.75</td>\n    </tr>\n    <tr>\n      <th>4</th>\n      <td>PX</td>\n      <td>227268</td>\n      <td>01/12/10 8:34</td>\n      <td>227268</td>\n      <td>2</td>\n      <td>22622G</td>\n      <td>9.95</td>\n    </tr>\n  </tbody>\n</table>\n</div>", 
                        "text/plain": "  Country  CustomerID    InvoiceDate  InvoiceNo  Quantity StockCode  UnitPrice\n0      PX      127269  01/12/10 8:28     127269         7    22633V       1.85\n1      PX      227268  01/12/10 8:34     227268        38    84879M       1.69\n2      PX      227268  01/12/10 8:34     227268         7    22748P       2.10\n3      PX      227268  01/12/10 8:34     227268         9    22749K       3.75\n4      PX      227268  01/12/10 8:34     227268         2    22622G       9.95"
                    }, 
                    "output_type": "execute_result"
                }
            ], 
            "source": "#Insert TEST data in this cell using \"Insert to code\" on the right\nbody = client_83b43f68eb9348f8a7795f9fdefa8efd.get_object(Bucket='recommendationsystemforpurchaseda-donotdelete-pr-l0bytgn7jogfsi',Key='test_J1hm2KQ.csv')['Body']\n# add missing __iter__ method, so pandas accepts body as file-like object\nif not hasattr(body, \"__iter__\"): body.__iter__ = types.MethodType( __iter__, body )\n\ndf_data_2 = pd.read_csv(body)\ndf_data_2.head()"
        }, 
        {
            "execution_count": 7, 
            "cell_type": "code", 
            "metadata": {}, 
            "outputs": [
                {
                    "execution_count": 7, 
                    "metadata": {}, 
                    "data": {
                        "text/html": "<div>\n<style scoped>\n    .dataframe tbody tr th:only-of-type {\n        vertical-align: middle;\n    }\n\n    .dataframe tbody tr th {\n        vertical-align: top;\n    }\n\n    .dataframe thead th {\n        text-align: right;\n    }\n</style>\n<table border=\"1\" class=\"dataframe\">\n  <thead>\n    <tr style=\"text-align: right;\">\n      <th></th>\n      <th>customerId</th>\n    </tr>\n  </thead>\n  <tbody>\n    <tr>\n      <th>0</th>\n      <td>127269</td>\n    </tr>\n    <tr>\n      <th>1</th>\n      <td>227268</td>\n    </tr>\n    <tr>\n      <th>6</th>\n      <td>327267</td>\n    </tr>\n    <tr>\n      <th>7</th>\n      <td>162738</td>\n    </tr>\n    <tr>\n      <th>16</th>\n      <td>252747</td>\n    </tr>\n  </tbody>\n</table>\n</div>", 
                        "text/plain": "    customerId\n0       127269\n1       227268\n6       327267\n7       162738\n16      252747"
                    }, 
                    "output_type": "execute_result"
                }
            ], 
            "source": "customers=df_data_2[['CustomerID']]\ncustomers=customers.drop_duplicates('CustomerID')\ncustomers = customers.rename(columns={'CustomerID': 'customerId'})\ncustomers.head()"
        }, 
        {
            "execution_count": 8, 
            "cell_type": "code", 
            "metadata": {}, 
            "outputs": [
                {
                    "output_type": "stream", 
                    "name": "stdout", 
                    "text": "(628, 1)\n"
                }, 
                {
                    "execution_count": 8, 
                    "metadata": {}, 
                    "data": {
                        "text/html": "<div>\n<style scoped>\n    .dataframe tbody tr th:only-of-type {\n        vertical-align: middle;\n    }\n\n    .dataframe tbody tr th {\n        vertical-align: top;\n    }\n\n    .dataframe thead th {\n        text-align: right;\n    }\n</style>\n<table border=\"1\" class=\"dataframe\">\n  <thead>\n    <tr style=\"text-align: right;\">\n      <th></th>\n      <th>customerId</th>\n    </tr>\n  </thead>\n  <tbody>\n    <tr>\n      <th>0</th>\n      <td>127269</td>\n    </tr>\n    <tr>\n      <th>1</th>\n      <td>227268</td>\n    </tr>\n    <tr>\n      <th>6</th>\n      <td>327267</td>\n    </tr>\n    <tr>\n      <th>7</th>\n      <td>162738</td>\n    </tr>\n    <tr>\n      <th>16</th>\n      <td>252747</td>\n    </tr>\n  </tbody>\n</table>\n</div>", 
                        "text/plain": "    customerId\n0       127269\n1       227268\n6       327267\n7       162738\n16      252747"
                    }, 
                    "output_type": "execute_result"
                }
            ], 
            "source": "print(customers.shape)\ncustomers.head()"
        }, 
        {
            "execution_count": 9, 
            "cell_type": "code", 
            "metadata": {}, 
            "outputs": [
                {
                    "output_type": "stream", 
                    "name": "stdout", 
                    "text": "(330575, 2)\n"
                }, 
                {
                    "execution_count": 9, 
                    "metadata": {}, 
                    "data": {
                        "text/html": "<div>\n<style scoped>\n    .dataframe tbody tr th:only-of-type {\n        vertical-align: middle;\n    }\n\n    .dataframe tbody tr th {\n        vertical-align: top;\n    }\n\n    .dataframe thead th {\n        text-align: right;\n    }\n</style>\n<table border=\"1\" class=\"dataframe\">\n  <thead>\n    <tr style=\"text-align: right;\">\n      <th></th>\n      <th>customerId</th>\n      <th>products</th>\n    </tr>\n  </thead>\n  <tbody>\n    <tr>\n      <th>0</th>\n      <td>27270</td>\n      <td>85123AY</td>\n    </tr>\n    <tr>\n      <th>1</th>\n      <td>27270</td>\n      <td>71053R</td>\n    </tr>\n    <tr>\n      <th>2</th>\n      <td>27270</td>\n      <td>84406BH</td>\n    </tr>\n    <tr>\n      <th>3</th>\n      <td>27270</td>\n      <td>84029GV</td>\n    </tr>\n    <tr>\n      <th>4</th>\n      <td>27270</td>\n      <td>84029EX</td>\n    </tr>\n  </tbody>\n</table>\n</div>", 
                        "text/plain": "   customerId products\n0       27270  85123AY\n1       27270   71053R\n2       27270  84406BH\n3       27270  84029GV\n4       27270  84029EX"
                    }, 
                    "output_type": "execute_result"
                }
            ], 
            "source": "print(transactions.shape)\ntransactions.head()"
        }, 
        {
            "source": "## 3. Data preparation\n* Our goal here is to break down each list of items in the `products` column into rows and count the number of products bought by a user", 
            "cell_type": "markdown", 
            "metadata": {}
        }, 
        {
            "execution_count": 10, 
            "cell_type": "code", 
            "metadata": {}, 
            "outputs": [
                {
                    "execution_count": 10, 
                    "metadata": {}, 
                    "data": {
                        "text/html": "<div>\n<style scoped>\n    .dataframe tbody tr th:only-of-type {\n        vertical-align: middle;\n    }\n\n    .dataframe tbody tr th {\n        vertical-align: top;\n    }\n\n    .dataframe thead th {\n        text-align: right;\n    }\n</style>\n<table border=\"1\" class=\"dataframe\">\n  <thead>\n    <tr style=\"text-align: right;\">\n      <th></th>\n      <th>customerId</th>\n      <th>0</th>\n    </tr>\n  </thead>\n  <tbody>\n    <tr>\n      <th>0</th>\n      <td>27270</td>\n      <td>85123AY</td>\n    </tr>\n    <tr>\n      <th>1</th>\n      <td>27270</td>\n      <td>71053R</td>\n    </tr>\n    <tr>\n      <th>2</th>\n      <td>27270</td>\n      <td>84406BH</td>\n    </tr>\n    <tr>\n      <th>3</th>\n      <td>27270</td>\n      <td>84029GV</td>\n    </tr>\n    <tr>\n      <th>4</th>\n      <td>27270</td>\n      <td>84029EX</td>\n    </tr>\n    <tr>\n      <th>5</th>\n      <td>27270</td>\n      <td>22752G</td>\n    </tr>\n    <tr>\n      <th>6</th>\n      <td>27270</td>\n      <td>21730R</td>\n    </tr>\n    <tr>\n      <th>7</th>\n      <td>427266</td>\n      <td>21756Q</td>\n    </tr>\n    <tr>\n      <th>8</th>\n      <td>462735</td>\n      <td>22728B</td>\n    </tr>\n    <tr>\n      <th>9</th>\n      <td>462735</td>\n      <td>22727B</td>\n    </tr>\n  </tbody>\n</table>\n</div>", 
                        "text/plain": "   customerId        0\n0       27270  85123AY\n1       27270   71053R\n2       27270  84406BH\n3       27270  84029GV\n4       27270  84029EX\n5       27270   22752G\n6       27270   21730R\n7      427266   21756Q\n8      462735   22728B\n9      462735   22727B"
                    }, 
                    "output_type": "execute_result"
                }
            ], 
            "source": "# example 1: split product items\ntransactions['products'] = transactions['products'].apply(lambda x: [i for i in x.split('|')])\ntransactions.head(10).set_index('customerId')['products'].apply(pd.Series).reset_index()"
        }, 
        {
            "execution_count": 11, 
            "cell_type": "code", 
            "metadata": {}, 
            "outputs": [
                {
                    "execution_count": 11, 
                    "metadata": {}, 
                    "data": {
                        "text/html": "<div>\n<style scoped>\n    .dataframe tbody tr th:only-of-type {\n        vertical-align: middle;\n    }\n\n    .dataframe tbody tr th {\n        vertical-align: top;\n    }\n\n    .dataframe thead th {\n        text-align: right;\n    }\n</style>\n<table border=\"1\" class=\"dataframe\">\n  <thead>\n    <tr style=\"text-align: right;\">\n      <th></th>\n      <th>customerId</th>\n      <th>productId</th>\n      <th>purchase_count</th>\n    </tr>\n  </thead>\n  <tbody>\n    <tr>\n      <th>0</th>\n      <td>27270</td>\n      <td>71053R</td>\n      <td>1</td>\n    </tr>\n    <tr>\n      <th>1</th>\n      <td>27270</td>\n      <td>85123AY</td>\n      <td>1</td>\n    </tr>\n  </tbody>\n</table>\n</div>", 
                        "text/plain": "   customerId productId  purchase_count\n0       27270    71053R               1\n1       27270   85123AY               1"
                    }, 
                    "output_type": "execute_result"
                }
            ], 
            "source": "# example 2: organize a given table into a dataframe with customerId, single productId, and purchase count\npd.melt(transactions.head(2).set_index('customerId')['products'].apply(pd.Series).reset_index(), \n             id_vars=['customerId'],\n             value_name='products') \\\n    .dropna().drop(['variable'], axis=1) \\\n    .groupby(['customerId', 'products']) \\\n    .agg({'products': 'count'}) \\\n    .rename(columns={'products': 'purchase_count'}) \\\n    .reset_index() \\\n    .rename(columns={'products': 'productId'})"
        }, 
        {
            "source": "### 3.1. Create data with user, item, and target field\n* This table will be an input for our modeling later\n    * In this case, our user is `customerId`, `productId`, and `purchase_count`", 
            "cell_type": "markdown", 
            "metadata": {}
        }, 
        {
            "execution_count": 12, 
            "cell_type": "code", 
            "metadata": {}, 
            "outputs": [
                {
                    "output_type": "stream", 
                    "name": "stdout", 
                    "text": "Execution time: 1.1 minutes\n"
                }
            ], 
            "source": "s=time.time()\n\ndata = pd.melt(transactions.set_index('customerId')['products'].apply(pd.Series).reset_index(), \n             id_vars=['customerId'],\n             value_name='products') \\\n    .dropna().drop(['variable'], axis=1) \\\n    .groupby(['customerId', 'products']) \\\n    .agg({'products': 'count'}) \\\n    .rename(columns={'products': 'purchase_count'}) \\\n    .reset_index() \\\n    .rename(columns={'products': 'productId'})\n# data['productId'] = data['productId'].astype(np.int64)\n\nprint(\"Execution time:\", round((time.time()-s)/60,2), \"minutes\")"
        }, 
        {
            "execution_count": 13, 
            "cell_type": "code", 
            "metadata": {}, 
            "outputs": [
                {
                    "output_type": "stream", 
                    "name": "stdout", 
                    "text": "(271031, 3)\n"
                }, 
                {
                    "execution_count": 13, 
                    "metadata": {}, 
                    "data": {
                        "text/html": "<div>\n<style scoped>\n    .dataframe tbody tr th:only-of-type {\n        vertical-align: middle;\n    }\n\n    .dataframe tbody tr th {\n        vertical-align: top;\n    }\n\n    .dataframe thead th {\n        text-align: right;\n    }\n</style>\n<table border=\"1\" class=\"dataframe\">\n  <thead>\n    <tr style=\"text-align: right;\">\n      <th></th>\n      <th>customerId</th>\n      <th>productId</th>\n      <th>purchase_count</th>\n    </tr>\n  </thead>\n  <tbody>\n    <tr>\n      <th>0</th>\n      <td>0</td>\n      <td>15056BLH</td>\n      <td>1</td>\n    </tr>\n    <tr>\n      <th>1</th>\n      <td>0</td>\n      <td>15056ND</td>\n      <td>1</td>\n    </tr>\n    <tr>\n      <th>2</th>\n      <td>0</td>\n      <td>15058CH</td>\n      <td>1</td>\n    </tr>\n    <tr>\n      <th>3</th>\n      <td>0</td>\n      <td>15060BB</td>\n      <td>1</td>\n    </tr>\n    <tr>\n      <th>4</th>\n      <td>0</td>\n      <td>16218Y</td>\n      <td>1</td>\n    </tr>\n    <tr>\n      <th>5</th>\n      <td>0</td>\n      <td>16235A</td>\n      <td>1</td>\n    </tr>\n    <tr>\n      <th>6</th>\n      <td>0</td>\n      <td>16236S</td>\n      <td>1</td>\n    </tr>\n    <tr>\n      <th>7</th>\n      <td>0</td>\n      <td>17091JD</td>\n      <td>1</td>\n    </tr>\n    <tr>\n      <th>8</th>\n      <td>0</td>\n      <td>20674R</td>\n      <td>1</td>\n    </tr>\n    <tr>\n      <th>9</th>\n      <td>0</td>\n      <td>20675E</td>\n      <td>1</td>\n    </tr>\n    <tr>\n      <th>10</th>\n      <td>0</td>\n      <td>20677D</td>\n      <td>1</td>\n    </tr>\n    <tr>\n      <th>11</th>\n      <td>0</td>\n      <td>20712E</td>\n      <td>1</td>\n    </tr>\n    <tr>\n      <th>12</th>\n      <td>0</td>\n      <td>20719E</td>\n      <td>2</td>\n    </tr>\n    <tr>\n      <th>13</th>\n      <td>0</td>\n      <td>20725N</td>\n      <td>1</td>\n    </tr>\n    <tr>\n      <th>14</th>\n      <td>0</td>\n      <td>20726C</td>\n      <td>3</td>\n    </tr>\n    <tr>\n      <th>15</th>\n      <td>0</td>\n      <td>20727V</td>\n      <td>1</td>\n    </tr>\n    <tr>\n      <th>16</th>\n      <td>0</td>\n      <td>20728Z</td>\n      <td>2</td>\n    </tr>\n    <tr>\n      <th>17</th>\n      <td>0</td>\n      <td>20801C</td>\n      <td>1</td>\n    </tr>\n    <tr>\n      <th>18</th>\n      <td>0</td>\n      <td>20829J</td>\n      <td>1</td>\n    </tr>\n    <tr>\n      <th>19</th>\n      <td>0</td>\n      <td>20838A</td>\n      <td>1</td>\n    </tr>\n  </tbody>\n</table>\n</div>", 
                        "text/plain": "    customerId productId  purchase_count\n0            0  15056BLH               1\n1            0   15056ND               1\n2            0   15058CH               1\n3            0   15060BB               1\n4            0    16218Y               1\n5            0    16235A               1\n6            0    16236S               1\n7            0   17091JD               1\n8            0    20674R               1\n9            0    20675E               1\n10           0    20677D               1\n11           0    20712E               1\n12           0    20719E               2\n13           0    20725N               1\n14           0    20726C               3\n15           0    20727V               1\n16           0    20728Z               2\n17           0    20801C               1\n18           0    20829J               1\n19           0    20838A               1"
                    }, 
                    "output_type": "execute_result"
                }
            ], 
            "source": "print(data.shape)\ndata.head(20)"
        }, 
        {
            "source": "### 3.2. Create dummy\n* Dummy for marking whether a customer bought that item or not.\n* If one buys an item, then `purchase_dummy` are marked as 1\n* Why create a dummy instead of normalizing it, you ask?\n    * Normalizing the purchase count, say by each user, would not work because customers may have different buying frequency don't have the same taste\n    * However, we can normalize items by purchase frequency across all users, which is done in section 3.3. below.", 
            "cell_type": "markdown", 
            "metadata": {}
        }, 
        {
            "execution_count": 14, 
            "cell_type": "code", 
            "metadata": {}, 
            "outputs": [], 
            "source": "def create_data_dummy(data):\n    data_dummy = data.copy()\n    data_dummy['purchase_dummy'] = 1\n    return data_dummy"
        }, 
        {
            "execution_count": 15, 
            "cell_type": "code", 
            "metadata": {}, 
            "outputs": [], 
            "source": "data_dummy = create_data_dummy(data)"
        }, 
        {
            "source": "### 3.3. Normalize item values across users\n* To do this, we normalize purchase frequency of each item across users by first creating a user-item matrix as follows", 
            "cell_type": "markdown", 
            "metadata": {}
        }, 
        {
            "execution_count": 16, 
            "cell_type": "code", 
            "metadata": {}, 
            "outputs": [
                {
                    "execution_count": 16, 
                    "metadata": {}, 
                    "data": {
                        "text/html": "<div>\n<style scoped>\n    .dataframe tbody tr th:only-of-type {\n        vertical-align: middle;\n    }\n\n    .dataframe tbody tr th {\n        vertical-align: top;\n    }\n\n    .dataframe thead th {\n        text-align: right;\n    }\n</style>\n<table border=\"1\" class=\"dataframe\">\n  <thead>\n    <tr style=\"text-align: right;\">\n      <th>productId</th>\n      <th>10002F</th>\n      <th>10080Q</th>\n      <th>10120M</th>\n      <th>10123CU</th>\n      <th>10124AW</th>\n      <th>10124GF</th>\n      <th>10125J</th>\n      <th>10133M</th>\n      <th>10135P</th>\n      <th>11001M</th>\n      <th>...</th>\n      <th>90214OZ</th>\n      <th>90214PB</th>\n      <th>90214RZ</th>\n      <th>90214SF</th>\n      <th>90214TT</th>\n      <th>90214UO</th>\n      <th>90214VD</th>\n      <th>90214WH</th>\n      <th>90214YL</th>\n      <th>90214ZJ</th>\n    </tr>\n    <tr>\n      <th>customerId</th>\n      <th></th>\n      <th></th>\n      <th></th>\n      <th></th>\n      <th></th>\n      <th></th>\n      <th></th>\n      <th></th>\n      <th></th>\n      <th></th>\n      <th></th>\n      <th></th>\n      <th></th>\n      <th></th>\n      <th></th>\n      <th></th>\n      <th></th>\n      <th></th>\n      <th></th>\n      <th></th>\n      <th></th>\n    </tr>\n  </thead>\n  <tbody>\n    <tr>\n      <th>0</th>\n      <td>NaN</td>\n      <td>NaN</td>\n      <td>NaN</td>\n      <td>NaN</td>\n      <td>NaN</td>\n      <td>NaN</td>\n      <td>NaN</td>\n      <td>NaN</td>\n      <td>NaN</td>\n      <td>NaN</td>\n      <td>...</td>\n      <td>NaN</td>\n      <td>NaN</td>\n      <td>NaN</td>\n      <td>NaN</td>\n      <td>NaN</td>\n      <td>NaN</td>\n      <td>NaN</td>\n      <td>NaN</td>\n      <td>NaN</td>\n      <td>NaN</td>\n    </tr>\n    <tr>\n      <th>900</th>\n      <td>NaN</td>\n      <td>NaN</td>\n      <td>NaN</td>\n      <td>NaN</td>\n      <td>NaN</td>\n      <td>NaN</td>\n      <td>NaN</td>\n      <td>NaN</td>\n      <td>2.0</td>\n      <td>1.0</td>\n      <td>...</td>\n      <td>NaN</td>\n      <td>NaN</td>\n      <td>NaN</td>\n      <td>NaN</td>\n      <td>NaN</td>\n      <td>NaN</td>\n      <td>NaN</td>\n      <td>NaN</td>\n      <td>NaN</td>\n      <td>NaN</td>\n    </tr>\n    <tr>\n      <th>1800</th>\n      <td>NaN</td>\n      <td>NaN</td>\n      <td>NaN</td>\n      <td>NaN</td>\n      <td>NaN</td>\n      <td>NaN</td>\n      <td>NaN</td>\n      <td>NaN</td>\n      <td>NaN</td>\n      <td>NaN</td>\n      <td>...</td>\n      <td>NaN</td>\n      <td>NaN</td>\n      <td>NaN</td>\n      <td>NaN</td>\n      <td>NaN</td>\n      <td>NaN</td>\n      <td>NaN</td>\n      <td>NaN</td>\n      <td>NaN</td>\n      <td>NaN</td>\n    </tr>\n    <tr>\n      <th>2790</th>\n      <td>NaN</td>\n      <td>NaN</td>\n      <td>NaN</td>\n      <td>NaN</td>\n      <td>NaN</td>\n      <td>NaN</td>\n      <td>NaN</td>\n      <td>NaN</td>\n      <td>NaN</td>\n      <td>NaN</td>\n      <td>...</td>\n      <td>NaN</td>\n      <td>NaN</td>\n      <td>NaN</td>\n      <td>NaN</td>\n      <td>NaN</td>\n      <td>NaN</td>\n      <td>NaN</td>\n      <td>NaN</td>\n      <td>NaN</td>\n      <td>NaN</td>\n    </tr>\n    <tr>\n      <th>4590</th>\n      <td>NaN</td>\n      <td>NaN</td>\n      <td>NaN</td>\n      <td>NaN</td>\n      <td>NaN</td>\n      <td>NaN</td>\n      <td>NaN</td>\n      <td>NaN</td>\n      <td>NaN</td>\n      <td>NaN</td>\n      <td>...</td>\n      <td>NaN</td>\n      <td>NaN</td>\n      <td>NaN</td>\n      <td>NaN</td>\n      <td>NaN</td>\n      <td>NaN</td>\n      <td>NaN</td>\n      <td>NaN</td>\n      <td>NaN</td>\n      <td>NaN</td>\n    </tr>\n    <tr>\n      <th>5400</th>\n      <td>NaN</td>\n      <td>NaN</td>\n      <td>NaN</td>\n      <td>NaN</td>\n      <td>NaN</td>\n      <td>NaN</td>\n      <td>NaN</td>\n      <td>NaN</td>\n      <td>NaN</td>\n      <td>NaN</td>\n      <td>...</td>\n      <td>NaN</td>\n      <td>NaN</td>\n      <td>NaN</td>\n      <td>NaN</td>\n      <td>NaN</td>\n      <td>NaN</td>\n      <td>NaN</td>\n      <td>NaN</td>\n      <td>NaN</td>\n      <td>NaN</td>\n    </tr>\n    <tr>\n      <th>6300</th>\n      <td>NaN</td>\n      <td>NaN</td>\n      <td>NaN</td>\n      <td>NaN</td>\n      <td>NaN</td>\n      <td>NaN</td>\n      <td>NaN</td>\n      <td>1.0</td>\n      <td>NaN</td>\n      <td>NaN</td>\n      <td>...</td>\n      <td>NaN</td>\n      <td>NaN</td>\n      <td>NaN</td>\n      <td>NaN</td>\n      <td>NaN</td>\n      <td>NaN</td>\n      <td>NaN</td>\n      <td>NaN</td>\n      <td>NaN</td>\n      <td>NaN</td>\n    </tr>\n    <tr>\n      <th>6390</th>\n      <td>NaN</td>\n      <td>NaN</td>\n      <td>NaN</td>\n      <td>NaN</td>\n      <td>NaN</td>\n      <td>NaN</td>\n      <td>NaN</td>\n      <td>NaN</td>\n      <td>NaN</td>\n      <td>NaN</td>\n      <td>...</td>\n      <td>NaN</td>\n      <td>NaN</td>\n      <td>NaN</td>\n      <td>NaN</td>\n      <td>NaN</td>\n      <td>NaN</td>\n      <td>NaN</td>\n      <td>NaN</td>\n      <td>NaN</td>\n      <td>NaN</td>\n    </tr>\n    <tr>\n      <th>7200</th>\n      <td>NaN</td>\n      <td>NaN</td>\n      <td>NaN</td>\n      <td>NaN</td>\n      <td>NaN</td>\n      <td>NaN</td>\n      <td>NaN</td>\n      <td>NaN</td>\n      <td>NaN</td>\n      <td>NaN</td>\n      <td>...</td>\n      <td>NaN</td>\n      <td>NaN</td>\n      <td>NaN</td>\n      <td>NaN</td>\n      <td>NaN</td>\n      <td>NaN</td>\n      <td>NaN</td>\n      <td>NaN</td>\n      <td>NaN</td>\n      <td>NaN</td>\n    </tr>\n    <tr>\n      <th>7290</th>\n      <td>NaN</td>\n      <td>NaN</td>\n      <td>NaN</td>\n      <td>NaN</td>\n      <td>NaN</td>\n      <td>NaN</td>\n      <td>NaN</td>\n      <td>2.0</td>\n      <td>NaN</td>\n      <td>NaN</td>\n      <td>...</td>\n      <td>NaN</td>\n      <td>NaN</td>\n      <td>NaN</td>\n      <td>NaN</td>\n      <td>NaN</td>\n      <td>NaN</td>\n      <td>NaN</td>\n      <td>NaN</td>\n      <td>NaN</td>\n      <td>NaN</td>\n    </tr>\n    <tr>\n      <th>8100</th>\n      <td>NaN</td>\n      <td>NaN</td>\n      <td>NaN</td>\n      <td>NaN</td>\n      <td>NaN</td>\n      <td>NaN</td>\n      <td>NaN</td>\n      <td>1.0</td>\n      <td>NaN</td>\n      <td>1.0</td>\n      <td>...</td>\n      <td>NaN</td>\n      <td>NaN</td>\n      <td>NaN</td>\n      <td>NaN</td>\n      <td>NaN</td>\n      <td>NaN</td>\n      <td>NaN</td>\n      <td>NaN</td>\n      <td>NaN</td>\n      <td>NaN</td>\n    </tr>\n    <tr>\n      <th>9990</th>\n      <td>NaN</td>\n      <td>NaN</td>\n      <td>NaN</td>\n      <td>NaN</td>\n      <td>NaN</td>\n      <td>NaN</td>\n      <td>NaN</td>\n      <td>1.0</td>\n      <td>2.0</td>\n      <td>NaN</td>\n      <td>...</td>\n      <td>NaN</td>\n      <td>NaN</td>\n      <td>1.0</td>\n      <td>1.0</td>\n      <td>NaN</td>\n      <td>NaN</td>\n      <td>1.0</td>\n      <td>NaN</td>\n      <td>NaN</td>\n      <td>NaN</td>\n    </tr>\n    <tr>\n      <th>10890</th>\n      <td>NaN</td>\n      <td>NaN</td>\n      <td>NaN</td>\n      <td>1.0</td>\n      <td>NaN</td>\n      <td>NaN</td>\n      <td>NaN</td>\n      <td>1.0</td>\n      <td>NaN</td>\n      <td>1.0</td>\n      <td>...</td>\n      <td>NaN</td>\n      <td>NaN</td>\n      <td>NaN</td>\n      <td>NaN</td>\n      <td>NaN</td>\n      <td>NaN</td>\n      <td>NaN</td>\n      <td>NaN</td>\n      <td>NaN</td>\n      <td>NaN</td>\n    </tr>\n    <tr>\n      <th>11790</th>\n      <td>NaN</td>\n      <td>NaN</td>\n      <td>NaN</td>\n      <td>NaN</td>\n      <td>NaN</td>\n      <td>NaN</td>\n      <td>NaN</td>\n      <td>NaN</td>\n      <td>1.0</td>\n      <td>1.0</td>\n      <td>...</td>\n      <td>NaN</td>\n      <td>NaN</td>\n      <td>NaN</td>\n      <td>1.0</td>\n      <td>NaN</td>\n      <td>NaN</td>\n      <td>NaN</td>\n      <td>NaN</td>\n      <td>NaN</td>\n      <td>NaN</td>\n    </tr>\n    <tr>\n      <th>11880</th>\n      <td>NaN</td>\n      <td>NaN</td>\n      <td>NaN</td>\n      <td>NaN</td>\n      <td>NaN</td>\n      <td>NaN</td>\n      <td>NaN</td>\n      <td>NaN</td>\n      <td>NaN</td>\n      <td>NaN</td>\n      <td>...</td>\n      <td>NaN</td>\n      <td>NaN</td>\n      <td>NaN</td>\n      <td>NaN</td>\n      <td>NaN</td>\n      <td>NaN</td>\n      <td>NaN</td>\n      <td>NaN</td>\n      <td>NaN</td>\n      <td>NaN</td>\n    </tr>\n    <tr>\n      <th>12690</th>\n      <td>NaN</td>\n      <td>NaN</td>\n      <td>NaN</td>\n      <td>NaN</td>\n      <td>NaN</td>\n      <td>NaN</td>\n      <td>NaN</td>\n      <td>NaN</td>\n      <td>NaN</td>\n      <td>NaN</td>\n      <td>...</td>\n      <td>NaN</td>\n      <td>NaN</td>\n      <td>NaN</td>\n      <td>NaN</td>\n      <td>NaN</td>\n      <td>NaN</td>\n      <td>NaN</td>\n      <td>NaN</td>\n      <td>NaN</td>\n      <td>NaN</td>\n    </tr>\n    <tr>\n      <th>12780</th>\n      <td>NaN</td>\n      <td>NaN</td>\n      <td>NaN</td>\n      <td>NaN</td>\n      <td>NaN</td>\n      <td>NaN</td>\n      <td>NaN</td>\n      <td>1.0</td>\n      <td>NaN</td>\n      <td>NaN</td>\n      <td>...</td>\n      <td>NaN</td>\n      <td>NaN</td>\n      <td>NaN</td>\n      <td>NaN</td>\n      <td>NaN</td>\n      <td>NaN</td>\n      <td>NaN</td>\n      <td>NaN</td>\n      <td>NaN</td>\n      <td>NaN</td>\n    </tr>\n    <tr>\n      <th>13590</th>\n      <td>NaN</td>\n      <td>NaN</td>\n      <td>NaN</td>\n      <td>NaN</td>\n      <td>NaN</td>\n      <td>NaN</td>\n      <td>NaN</td>\n      <td>NaN</td>\n      <td>NaN</td>\n      <td>NaN</td>\n      <td>...</td>\n      <td>NaN</td>\n      <td>NaN</td>\n      <td>NaN</td>\n      <td>NaN</td>\n      <td>NaN</td>\n      <td>NaN</td>\n      <td>NaN</td>\n      <td>NaN</td>\n      <td>NaN</td>\n      <td>NaN</td>\n    </tr>\n    <tr>\n      <th>15480</th>\n      <td>NaN</td>\n      <td>NaN</td>\n      <td>NaN</td>\n      <td>NaN</td>\n      <td>NaN</td>\n      <td>NaN</td>\n      <td>NaN</td>\n      <td>NaN</td>\n      <td>NaN</td>\n      <td>NaN</td>\n      <td>...</td>\n      <td>NaN</td>\n      <td>NaN</td>\n      <td>NaN</td>\n      <td>NaN</td>\n      <td>NaN</td>\n      <td>NaN</td>\n      <td>NaN</td>\n      <td>NaN</td>\n      <td>NaN</td>\n      <td>NaN</td>\n    </tr>\n    <tr>\n      <th>16290</th>\n      <td>NaN</td>\n      <td>NaN</td>\n      <td>NaN</td>\n      <td>NaN</td>\n      <td>NaN</td>\n      <td>NaN</td>\n      <td>NaN</td>\n      <td>NaN</td>\n      <td>NaN</td>\n      <td>1.0</td>\n      <td>...</td>\n      <td>NaN</td>\n      <td>NaN</td>\n      <td>NaN</td>\n      <td>NaN</td>\n      <td>NaN</td>\n      <td>NaN</td>\n      <td>NaN</td>\n      <td>NaN</td>\n      <td>NaN</td>\n      <td>NaN</td>\n    </tr>\n  </tbody>\n</table>\n<p>20 rows \u00d7 3810 columns</p>\n</div>", 
                        "text/plain": "productId   10002F  10080Q  10120M  10123CU  10124AW  10124GF  10125J  10133M  \\\ncustomerId                                                                      \n0              NaN     NaN     NaN      NaN      NaN      NaN     NaN     NaN   \n900            NaN     NaN     NaN      NaN      NaN      NaN     NaN     NaN   \n1800           NaN     NaN     NaN      NaN      NaN      NaN     NaN     NaN   \n2790           NaN     NaN     NaN      NaN      NaN      NaN     NaN     NaN   \n4590           NaN     NaN     NaN      NaN      NaN      NaN     NaN     NaN   \n5400           NaN     NaN     NaN      NaN      NaN      NaN     NaN     NaN   \n6300           NaN     NaN     NaN      NaN      NaN      NaN     NaN     1.0   \n6390           NaN     NaN     NaN      NaN      NaN      NaN     NaN     NaN   \n7200           NaN     NaN     NaN      NaN      NaN      NaN     NaN     NaN   \n7290           NaN     NaN     NaN      NaN      NaN      NaN     NaN     2.0   \n8100           NaN     NaN     NaN      NaN      NaN      NaN     NaN     1.0   \n9990           NaN     NaN     NaN      NaN      NaN      NaN     NaN     1.0   \n10890          NaN     NaN     NaN      1.0      NaN      NaN     NaN     1.0   \n11790          NaN     NaN     NaN      NaN      NaN      NaN     NaN     NaN   \n11880          NaN     NaN     NaN      NaN      NaN      NaN     NaN     NaN   \n12690          NaN     NaN     NaN      NaN      NaN      NaN     NaN     NaN   \n12780          NaN     NaN     NaN      NaN      NaN      NaN     NaN     1.0   \n13590          NaN     NaN     NaN      NaN      NaN      NaN     NaN     NaN   \n15480          NaN     NaN     NaN      NaN      NaN      NaN     NaN     NaN   \n16290          NaN     NaN     NaN      NaN      NaN      NaN     NaN     NaN   \n\nproductId   10135P  11001M   ...     90214OZ  90214PB  90214RZ  90214SF  \\\ncustomerId                   ...                                          \n0              NaN     NaN   ...         NaN      NaN      NaN      NaN   \n900            2.0     1.0   ...         NaN      NaN      NaN      NaN   \n1800           NaN     NaN   ...         NaN      NaN      NaN      NaN   \n2790           NaN     NaN   ...         NaN      NaN      NaN      NaN   \n4590           NaN     NaN   ...         NaN      NaN      NaN      NaN   \n5400           NaN     NaN   ...         NaN      NaN      NaN      NaN   \n6300           NaN     NaN   ...         NaN      NaN      NaN      NaN   \n6390           NaN     NaN   ...         NaN      NaN      NaN      NaN   \n7200           NaN     NaN   ...         NaN      NaN      NaN      NaN   \n7290           NaN     NaN   ...         NaN      NaN      NaN      NaN   \n8100           NaN     1.0   ...         NaN      NaN      NaN      NaN   \n9990           2.0     NaN   ...         NaN      NaN      1.0      1.0   \n10890          NaN     1.0   ...         NaN      NaN      NaN      NaN   \n11790          1.0     1.0   ...         NaN      NaN      NaN      1.0   \n11880          NaN     NaN   ...         NaN      NaN      NaN      NaN   \n12690          NaN     NaN   ...         NaN      NaN      NaN      NaN   \n12780          NaN     NaN   ...         NaN      NaN      NaN      NaN   \n13590          NaN     NaN   ...         NaN      NaN      NaN      NaN   \n15480          NaN     NaN   ...         NaN      NaN      NaN      NaN   \n16290          NaN     1.0   ...         NaN      NaN      NaN      NaN   \n\nproductId   90214TT  90214UO  90214VD  90214WH  90214YL  90214ZJ  \ncustomerId                                                        \n0               NaN      NaN      NaN      NaN      NaN      NaN  \n900             NaN      NaN      NaN      NaN      NaN      NaN  \n1800            NaN      NaN      NaN      NaN      NaN      NaN  \n2790            NaN      NaN      NaN      NaN      NaN      NaN  \n4590            NaN      NaN      NaN      NaN      NaN      NaN  \n5400            NaN      NaN      NaN      NaN      NaN      NaN  \n6300            NaN      NaN      NaN      NaN      NaN      NaN  \n6390            NaN      NaN      NaN      NaN      NaN      NaN  \n7200            NaN      NaN      NaN      NaN      NaN      NaN  \n7290            NaN      NaN      NaN      NaN      NaN      NaN  \n8100            NaN      NaN      NaN      NaN      NaN      NaN  \n9990            NaN      NaN      1.0      NaN      NaN      NaN  \n10890           NaN      NaN      NaN      NaN      NaN      NaN  \n11790           NaN      NaN      NaN      NaN      NaN      NaN  \n11880           NaN      NaN      NaN      NaN      NaN      NaN  \n12690           NaN      NaN      NaN      NaN      NaN      NaN  \n12780           NaN      NaN      NaN      NaN      NaN      NaN  \n13590           NaN      NaN      NaN      NaN      NaN      NaN  \n15480           NaN      NaN      NaN      NaN      NaN      NaN  \n16290           NaN      NaN      NaN      NaN      NaN      NaN  \n\n[20 rows x 3810 columns]"
                    }, 
                    "output_type": "execute_result"
                }
            ], 
            "source": "df_matrix = pd.pivot_table(data, values='purchase_count', index='customerId', columns='productId')\ndf_matrix.head(20)"
        }, 
        {
            "execution_count": 17, 
            "cell_type": "code", 
            "metadata": {}, 
            "outputs": [
                {
                    "execution_count": 17, 
                    "metadata": {}, 
                    "data": {
                        "text/plain": "(972, 3810)"
                    }, 
                    "output_type": "execute_result"
                }
            ], 
            "source": "(df_matrix.shape)"
        }, 
        {
            "execution_count": 18, 
            "cell_type": "code", 
            "metadata": {}, 
            "outputs": [
                {
                    "output_type": "stream", 
                    "name": "stdout", 
                    "text": "(972, 3810)\n"
                }, 
                {
                    "execution_count": 18, 
                    "metadata": {}, 
                    "data": {
                        "text/html": "<div>\n<style scoped>\n    .dataframe tbody tr th:only-of-type {\n        vertical-align: middle;\n    }\n\n    .dataframe tbody tr th {\n        vertical-align: top;\n    }\n\n    .dataframe thead th {\n        text-align: right;\n    }\n</style>\n<table border=\"1\" class=\"dataframe\">\n  <thead>\n    <tr style=\"text-align: right;\">\n      <th>productId</th>\n      <th>10002F</th>\n      <th>10080Q</th>\n      <th>10120M</th>\n      <th>10123CU</th>\n      <th>10124AW</th>\n      <th>10124GF</th>\n      <th>10125J</th>\n      <th>10133M</th>\n      <th>10135P</th>\n      <th>11001M</th>\n      <th>...</th>\n      <th>90214OZ</th>\n      <th>90214PB</th>\n      <th>90214RZ</th>\n      <th>90214SF</th>\n      <th>90214TT</th>\n      <th>90214UO</th>\n      <th>90214VD</th>\n      <th>90214WH</th>\n      <th>90214YL</th>\n      <th>90214ZJ</th>\n    </tr>\n    <tr>\n      <th>customerId</th>\n      <th></th>\n      <th></th>\n      <th></th>\n      <th></th>\n      <th></th>\n      <th></th>\n      <th></th>\n      <th></th>\n      <th></th>\n      <th></th>\n      <th></th>\n      <th></th>\n      <th></th>\n      <th></th>\n      <th></th>\n      <th></th>\n      <th></th>\n      <th></th>\n      <th></th>\n      <th></th>\n      <th></th>\n    </tr>\n  </thead>\n  <tbody>\n    <tr>\n      <th>0</th>\n      <td>NaN</td>\n      <td>NaN</td>\n      <td>NaN</td>\n      <td>NaN</td>\n      <td>NaN</td>\n      <td>NaN</td>\n      <td>NaN</td>\n      <td>NaN</td>\n      <td>NaN</td>\n      <td>NaN</td>\n      <td>...</td>\n      <td>NaN</td>\n      <td>NaN</td>\n      <td>NaN</td>\n      <td>NaN</td>\n      <td>NaN</td>\n      <td>NaN</td>\n      <td>NaN</td>\n      <td>NaN</td>\n      <td>NaN</td>\n      <td>NaN</td>\n    </tr>\n    <tr>\n      <th>900</th>\n      <td>NaN</td>\n      <td>NaN</td>\n      <td>NaN</td>\n      <td>NaN</td>\n      <td>NaN</td>\n      <td>NaN</td>\n      <td>NaN</td>\n      <td>NaN</td>\n      <td>1.0</td>\n      <td>0.0</td>\n      <td>...</td>\n      <td>NaN</td>\n      <td>NaN</td>\n      <td>NaN</td>\n      <td>NaN</td>\n      <td>NaN</td>\n      <td>NaN</td>\n      <td>NaN</td>\n      <td>NaN</td>\n      <td>NaN</td>\n      <td>NaN</td>\n    </tr>\n    <tr>\n      <th>1800</th>\n      <td>NaN</td>\n      <td>NaN</td>\n      <td>NaN</td>\n      <td>NaN</td>\n      <td>NaN</td>\n      <td>NaN</td>\n      <td>NaN</td>\n      <td>NaN</td>\n      <td>NaN</td>\n      <td>NaN</td>\n      <td>...</td>\n      <td>NaN</td>\n      <td>NaN</td>\n      <td>NaN</td>\n      <td>NaN</td>\n      <td>NaN</td>\n      <td>NaN</td>\n      <td>NaN</td>\n      <td>NaN</td>\n      <td>NaN</td>\n      <td>NaN</td>\n    </tr>\n    <tr>\n      <th>2790</th>\n      <td>NaN</td>\n      <td>NaN</td>\n      <td>NaN</td>\n      <td>NaN</td>\n      <td>NaN</td>\n      <td>NaN</td>\n      <td>NaN</td>\n      <td>NaN</td>\n      <td>NaN</td>\n      <td>NaN</td>\n      <td>...</td>\n      <td>NaN</td>\n      <td>NaN</td>\n      <td>NaN</td>\n      <td>NaN</td>\n      <td>NaN</td>\n      <td>NaN</td>\n      <td>NaN</td>\n      <td>NaN</td>\n      <td>NaN</td>\n      <td>NaN</td>\n    </tr>\n    <tr>\n      <th>4590</th>\n      <td>NaN</td>\n      <td>NaN</td>\n      <td>NaN</td>\n      <td>NaN</td>\n      <td>NaN</td>\n      <td>NaN</td>\n      <td>NaN</td>\n      <td>NaN</td>\n      <td>NaN</td>\n      <td>NaN</td>\n      <td>...</td>\n      <td>NaN</td>\n      <td>NaN</td>\n      <td>NaN</td>\n      <td>NaN</td>\n      <td>NaN</td>\n      <td>NaN</td>\n      <td>NaN</td>\n      <td>NaN</td>\n      <td>NaN</td>\n      <td>NaN</td>\n    </tr>\n    <tr>\n      <th>5400</th>\n      <td>NaN</td>\n      <td>NaN</td>\n      <td>NaN</td>\n      <td>NaN</td>\n      <td>NaN</td>\n      <td>NaN</td>\n      <td>NaN</td>\n      <td>NaN</td>\n      <td>NaN</td>\n      <td>NaN</td>\n      <td>...</td>\n      <td>NaN</td>\n      <td>NaN</td>\n      <td>NaN</td>\n      <td>NaN</td>\n      <td>NaN</td>\n      <td>NaN</td>\n      <td>NaN</td>\n      <td>NaN</td>\n      <td>NaN</td>\n      <td>NaN</td>\n    </tr>\n    <tr>\n      <th>6300</th>\n      <td>NaN</td>\n      <td>NaN</td>\n      <td>NaN</td>\n      <td>NaN</td>\n      <td>NaN</td>\n      <td>NaN</td>\n      <td>NaN</td>\n      <td>0.0</td>\n      <td>NaN</td>\n      <td>NaN</td>\n      <td>...</td>\n      <td>NaN</td>\n      <td>NaN</td>\n      <td>NaN</td>\n      <td>NaN</td>\n      <td>NaN</td>\n      <td>NaN</td>\n      <td>NaN</td>\n      <td>NaN</td>\n      <td>NaN</td>\n      <td>NaN</td>\n    </tr>\n    <tr>\n      <th>6390</th>\n      <td>NaN</td>\n      <td>NaN</td>\n      <td>NaN</td>\n      <td>NaN</td>\n      <td>NaN</td>\n      <td>NaN</td>\n      <td>NaN</td>\n      <td>NaN</td>\n      <td>NaN</td>\n      <td>NaN</td>\n      <td>...</td>\n      <td>NaN</td>\n      <td>NaN</td>\n      <td>NaN</td>\n      <td>NaN</td>\n      <td>NaN</td>\n      <td>NaN</td>\n      <td>NaN</td>\n      <td>NaN</td>\n      <td>NaN</td>\n      <td>NaN</td>\n    </tr>\n    <tr>\n      <th>7200</th>\n      <td>NaN</td>\n      <td>NaN</td>\n      <td>NaN</td>\n      <td>NaN</td>\n      <td>NaN</td>\n      <td>NaN</td>\n      <td>NaN</td>\n      <td>NaN</td>\n      <td>NaN</td>\n      <td>NaN</td>\n      <td>...</td>\n      <td>NaN</td>\n      <td>NaN</td>\n      <td>NaN</td>\n      <td>NaN</td>\n      <td>NaN</td>\n      <td>NaN</td>\n      <td>NaN</td>\n      <td>NaN</td>\n      <td>NaN</td>\n      <td>NaN</td>\n    </tr>\n    <tr>\n      <th>7290</th>\n      <td>NaN</td>\n      <td>NaN</td>\n      <td>NaN</td>\n      <td>NaN</td>\n      <td>NaN</td>\n      <td>NaN</td>\n      <td>NaN</td>\n      <td>0.5</td>\n      <td>NaN</td>\n      <td>NaN</td>\n      <td>...</td>\n      <td>NaN</td>\n      <td>NaN</td>\n      <td>NaN</td>\n      <td>NaN</td>\n      <td>NaN</td>\n      <td>NaN</td>\n      <td>NaN</td>\n      <td>NaN</td>\n      <td>NaN</td>\n      <td>NaN</td>\n    </tr>\n    <tr>\n      <th>8100</th>\n      <td>NaN</td>\n      <td>NaN</td>\n      <td>NaN</td>\n      <td>NaN</td>\n      <td>NaN</td>\n      <td>NaN</td>\n      <td>NaN</td>\n      <td>0.0</td>\n      <td>NaN</td>\n      <td>0.0</td>\n      <td>...</td>\n      <td>NaN</td>\n      <td>NaN</td>\n      <td>NaN</td>\n      <td>NaN</td>\n      <td>NaN</td>\n      <td>NaN</td>\n      <td>NaN</td>\n      <td>NaN</td>\n      <td>NaN</td>\n      <td>NaN</td>\n    </tr>\n    <tr>\n      <th>9990</th>\n      <td>NaN</td>\n      <td>NaN</td>\n      <td>NaN</td>\n      <td>NaN</td>\n      <td>NaN</td>\n      <td>NaN</td>\n      <td>NaN</td>\n      <td>0.0</td>\n      <td>1.0</td>\n      <td>NaN</td>\n      <td>...</td>\n      <td>NaN</td>\n      <td>NaN</td>\n      <td>NaN</td>\n      <td>0.0</td>\n      <td>NaN</td>\n      <td>NaN</td>\n      <td>NaN</td>\n      <td>NaN</td>\n      <td>NaN</td>\n      <td>NaN</td>\n    </tr>\n    <tr>\n      <th>10890</th>\n      <td>NaN</td>\n      <td>NaN</td>\n      <td>NaN</td>\n      <td>NaN</td>\n      <td>NaN</td>\n      <td>NaN</td>\n      <td>NaN</td>\n      <td>0.0</td>\n      <td>NaN</td>\n      <td>0.0</td>\n      <td>...</td>\n      <td>NaN</td>\n      <td>NaN</td>\n      <td>NaN</td>\n      <td>NaN</td>\n      <td>NaN</td>\n      <td>NaN</td>\n      <td>NaN</td>\n      <td>NaN</td>\n      <td>NaN</td>\n      <td>NaN</td>\n    </tr>\n    <tr>\n      <th>11790</th>\n      <td>NaN</td>\n      <td>NaN</td>\n      <td>NaN</td>\n      <td>NaN</td>\n      <td>NaN</td>\n      <td>NaN</td>\n      <td>NaN</td>\n      <td>NaN</td>\n      <td>0.0</td>\n      <td>0.0</td>\n      <td>...</td>\n      <td>NaN</td>\n      <td>NaN</td>\n      <td>NaN</td>\n      <td>0.0</td>\n      <td>NaN</td>\n      <td>NaN</td>\n      <td>NaN</td>\n      <td>NaN</td>\n      <td>NaN</td>\n      <td>NaN</td>\n    </tr>\n    <tr>\n      <th>11880</th>\n      <td>NaN</td>\n      <td>NaN</td>\n      <td>NaN</td>\n      <td>NaN</td>\n      <td>NaN</td>\n      <td>NaN</td>\n      <td>NaN</td>\n      <td>NaN</td>\n      <td>NaN</td>\n      <td>NaN</td>\n      <td>...</td>\n      <td>NaN</td>\n      <td>NaN</td>\n      <td>NaN</td>\n      <td>NaN</td>\n      <td>NaN</td>\n      <td>NaN</td>\n      <td>NaN</td>\n      <td>NaN</td>\n      <td>NaN</td>\n      <td>NaN</td>\n    </tr>\n    <tr>\n      <th>12690</th>\n      <td>NaN</td>\n      <td>NaN</td>\n      <td>NaN</td>\n      <td>NaN</td>\n      <td>NaN</td>\n      <td>NaN</td>\n      <td>NaN</td>\n      <td>NaN</td>\n      <td>NaN</td>\n      <td>NaN</td>\n      <td>...</td>\n      <td>NaN</td>\n      <td>NaN</td>\n      <td>NaN</td>\n      <td>NaN</td>\n      <td>NaN</td>\n      <td>NaN</td>\n      <td>NaN</td>\n      <td>NaN</td>\n      <td>NaN</td>\n      <td>NaN</td>\n    </tr>\n    <tr>\n      <th>12780</th>\n      <td>NaN</td>\n      <td>NaN</td>\n      <td>NaN</td>\n      <td>NaN</td>\n      <td>NaN</td>\n      <td>NaN</td>\n      <td>NaN</td>\n      <td>0.0</td>\n      <td>NaN</td>\n      <td>NaN</td>\n      <td>...</td>\n      <td>NaN</td>\n      <td>NaN</td>\n      <td>NaN</td>\n      <td>NaN</td>\n      <td>NaN</td>\n      <td>NaN</td>\n      <td>NaN</td>\n      <td>NaN</td>\n      <td>NaN</td>\n      <td>NaN</td>\n    </tr>\n    <tr>\n      <th>13590</th>\n      <td>NaN</td>\n      <td>NaN</td>\n      <td>NaN</td>\n      <td>NaN</td>\n      <td>NaN</td>\n      <td>NaN</td>\n      <td>NaN</td>\n      <td>NaN</td>\n      <td>NaN</td>\n      <td>NaN</td>\n      <td>...</td>\n      <td>NaN</td>\n      <td>NaN</td>\n      <td>NaN</td>\n      <td>NaN</td>\n      <td>NaN</td>\n      <td>NaN</td>\n      <td>NaN</td>\n      <td>NaN</td>\n      <td>NaN</td>\n      <td>NaN</td>\n    </tr>\n    <tr>\n      <th>15480</th>\n      <td>NaN</td>\n      <td>NaN</td>\n      <td>NaN</td>\n      <td>NaN</td>\n      <td>NaN</td>\n      <td>NaN</td>\n      <td>NaN</td>\n      <td>NaN</td>\n      <td>NaN</td>\n      <td>NaN</td>\n      <td>...</td>\n      <td>NaN</td>\n      <td>NaN</td>\n      <td>NaN</td>\n      <td>NaN</td>\n      <td>NaN</td>\n      <td>NaN</td>\n      <td>NaN</td>\n      <td>NaN</td>\n      <td>NaN</td>\n      <td>NaN</td>\n    </tr>\n    <tr>\n      <th>16290</th>\n      <td>NaN</td>\n      <td>NaN</td>\n      <td>NaN</td>\n      <td>NaN</td>\n      <td>NaN</td>\n      <td>NaN</td>\n      <td>NaN</td>\n      <td>NaN</td>\n      <td>NaN</td>\n      <td>0.0</td>\n      <td>...</td>\n      <td>NaN</td>\n      <td>NaN</td>\n      <td>NaN</td>\n      <td>NaN</td>\n      <td>NaN</td>\n      <td>NaN</td>\n      <td>NaN</td>\n      <td>NaN</td>\n      <td>NaN</td>\n      <td>NaN</td>\n    </tr>\n  </tbody>\n</table>\n<p>20 rows \u00d7 3810 columns</p>\n</div>", 
                        "text/plain": "productId   10002F  10080Q  10120M  10123CU  10124AW  10124GF  10125J  10133M  \\\ncustomerId                                                                      \n0              NaN     NaN     NaN      NaN      NaN      NaN     NaN     NaN   \n900            NaN     NaN     NaN      NaN      NaN      NaN     NaN     NaN   \n1800           NaN     NaN     NaN      NaN      NaN      NaN     NaN     NaN   \n2790           NaN     NaN     NaN      NaN      NaN      NaN     NaN     NaN   \n4590           NaN     NaN     NaN      NaN      NaN      NaN     NaN     NaN   \n5400           NaN     NaN     NaN      NaN      NaN      NaN     NaN     NaN   \n6300           NaN     NaN     NaN      NaN      NaN      NaN     NaN     0.0   \n6390           NaN     NaN     NaN      NaN      NaN      NaN     NaN     NaN   \n7200           NaN     NaN     NaN      NaN      NaN      NaN     NaN     NaN   \n7290           NaN     NaN     NaN      NaN      NaN      NaN     NaN     0.5   \n8100           NaN     NaN     NaN      NaN      NaN      NaN     NaN     0.0   \n9990           NaN     NaN     NaN      NaN      NaN      NaN     NaN     0.0   \n10890          NaN     NaN     NaN      NaN      NaN      NaN     NaN     0.0   \n11790          NaN     NaN     NaN      NaN      NaN      NaN     NaN     NaN   \n11880          NaN     NaN     NaN      NaN      NaN      NaN     NaN     NaN   \n12690          NaN     NaN     NaN      NaN      NaN      NaN     NaN     NaN   \n12780          NaN     NaN     NaN      NaN      NaN      NaN     NaN     0.0   \n13590          NaN     NaN     NaN      NaN      NaN      NaN     NaN     NaN   \n15480          NaN     NaN     NaN      NaN      NaN      NaN     NaN     NaN   \n16290          NaN     NaN     NaN      NaN      NaN      NaN     NaN     NaN   \n\nproductId   10135P  11001M   ...     90214OZ  90214PB  90214RZ  90214SF  \\\ncustomerId                   ...                                          \n0              NaN     NaN   ...         NaN      NaN      NaN      NaN   \n900            1.0     0.0   ...         NaN      NaN      NaN      NaN   \n1800           NaN     NaN   ...         NaN      NaN      NaN      NaN   \n2790           NaN     NaN   ...         NaN      NaN      NaN      NaN   \n4590           NaN     NaN   ...         NaN      NaN      NaN      NaN   \n5400           NaN     NaN   ...         NaN      NaN      NaN      NaN   \n6300           NaN     NaN   ...         NaN      NaN      NaN      NaN   \n6390           NaN     NaN   ...         NaN      NaN      NaN      NaN   \n7200           NaN     NaN   ...         NaN      NaN      NaN      NaN   \n7290           NaN     NaN   ...         NaN      NaN      NaN      NaN   \n8100           NaN     0.0   ...         NaN      NaN      NaN      NaN   \n9990           1.0     NaN   ...         NaN      NaN      NaN      0.0   \n10890          NaN     0.0   ...         NaN      NaN      NaN      NaN   \n11790          0.0     0.0   ...         NaN      NaN      NaN      0.0   \n11880          NaN     NaN   ...         NaN      NaN      NaN      NaN   \n12690          NaN     NaN   ...         NaN      NaN      NaN      NaN   \n12780          NaN     NaN   ...         NaN      NaN      NaN      NaN   \n13590          NaN     NaN   ...         NaN      NaN      NaN      NaN   \n15480          NaN     NaN   ...         NaN      NaN      NaN      NaN   \n16290          NaN     0.0   ...         NaN      NaN      NaN      NaN   \n\nproductId   90214TT  90214UO  90214VD  90214WH  90214YL  90214ZJ  \ncustomerId                                                        \n0               NaN      NaN      NaN      NaN      NaN      NaN  \n900             NaN      NaN      NaN      NaN      NaN      NaN  \n1800            NaN      NaN      NaN      NaN      NaN      NaN  \n2790            NaN      NaN      NaN      NaN      NaN      NaN  \n4590            NaN      NaN      NaN      NaN      NaN      NaN  \n5400            NaN      NaN      NaN      NaN      NaN      NaN  \n6300            NaN      NaN      NaN      NaN      NaN      NaN  \n6390            NaN      NaN      NaN      NaN      NaN      NaN  \n7200            NaN      NaN      NaN      NaN      NaN      NaN  \n7290            NaN      NaN      NaN      NaN      NaN      NaN  \n8100            NaN      NaN      NaN      NaN      NaN      NaN  \n9990            NaN      NaN      NaN      NaN      NaN      NaN  \n10890           NaN      NaN      NaN      NaN      NaN      NaN  \n11790           NaN      NaN      NaN      NaN      NaN      NaN  \n11880           NaN      NaN      NaN      NaN      NaN      NaN  \n12690           NaN      NaN      NaN      NaN      NaN      NaN  \n12780           NaN      NaN      NaN      NaN      NaN      NaN  \n13590           NaN      NaN      NaN      NaN      NaN      NaN  \n15480           NaN      NaN      NaN      NaN      NaN      NaN  \n16290           NaN      NaN      NaN      NaN      NaN      NaN  \n\n[20 rows x 3810 columns]"
                    }, 
                    "output_type": "execute_result"
                }
            ], 
            "source": "df_matrix_norm = (df_matrix-df_matrix.min())/(df_matrix.max()-df_matrix.min())\nprint(df_matrix_norm.shape)\ndf_matrix_norm.head(20)"
        }, 
        {
            "execution_count": 19, 
            "cell_type": "code", 
            "metadata": {}, 
            "outputs": [
                {
                    "output_type": "stream", 
                    "name": "stdout", 
                    "text": "(256976, 3)\n"
                }, 
                {
                    "execution_count": 19, 
                    "metadata": {}, 
                    "data": {
                        "text/html": "<div>\n<style scoped>\n    .dataframe tbody tr th:only-of-type {\n        vertical-align: middle;\n    }\n\n    .dataframe tbody tr th {\n        vertical-align: top;\n    }\n\n    .dataframe thead th {\n        text-align: right;\n    }\n</style>\n<table border=\"1\" class=\"dataframe\">\n  <thead>\n    <tr style=\"text-align: right;\">\n      <th></th>\n      <th>customerId</th>\n      <th>productId</th>\n      <th>scaled_purchase_freq</th>\n    </tr>\n  </thead>\n  <tbody>\n    <tr>\n      <th>38</th>\n      <td>25470</td>\n      <td>10002F</td>\n      <td>0.0</td>\n    </tr>\n    <tr>\n      <th>99</th>\n      <td>50949</td>\n      <td>10002F</td>\n      <td>0.0</td>\n    </tr>\n    <tr>\n      <th>114</th>\n      <td>56340</td>\n      <td>10002F</td>\n      <td>0.0</td>\n    </tr>\n    <tr>\n      <th>132</th>\n      <td>64539</td>\n      <td>10002F</td>\n      <td>0.0</td>\n    </tr>\n    <tr>\n      <th>140</th>\n      <td>68229</td>\n      <td>10002F</td>\n      <td>0.0</td>\n    </tr>\n    <tr>\n      <th>197</th>\n      <td>104499</td>\n      <td>10002F</td>\n      <td>0.0</td>\n    </tr>\n    <tr>\n      <th>216</th>\n      <td>120879</td>\n      <td>10002F</td>\n      <td>0.0</td>\n    </tr>\n    <tr>\n      <th>264</th>\n      <td>141759</td>\n      <td>10002F</td>\n      <td>0.0</td>\n    </tr>\n    <tr>\n      <th>268</th>\n      <td>142758</td>\n      <td>10002F</td>\n      <td>0.0</td>\n    </tr>\n    <tr>\n      <th>288</th>\n      <td>153639</td>\n      <td>10002F</td>\n      <td>0.0</td>\n    </tr>\n    <tr>\n      <th>324</th>\n      <td>168228</td>\n      <td>10002F</td>\n      <td>0.0</td>\n    </tr>\n    <tr>\n      <th>351</th>\n      <td>180018</td>\n      <td>10002F</td>\n      <td>0.0</td>\n    </tr>\n    <tr>\n      <th>357</th>\n      <td>186318</td>\n      <td>10002F</td>\n      <td>0.0</td>\n    </tr>\n    <tr>\n      <th>362</th>\n      <td>190908</td>\n      <td>10002F</td>\n      <td>0.0</td>\n    </tr>\n    <tr>\n      <th>407</th>\n      <td>223668</td>\n      <td>10002F</td>\n      <td>0.0</td>\n    </tr>\n    <tr>\n      <th>409</th>\n      <td>224478</td>\n      <td>10002F</td>\n      <td>0.0</td>\n    </tr>\n    <tr>\n      <th>423</th>\n      <td>230868</td>\n      <td>10002F</td>\n      <td>0.0</td>\n    </tr>\n    <tr>\n      <th>425</th>\n      <td>231768</td>\n      <td>10002F</td>\n      <td>0.0</td>\n    </tr>\n    <tr>\n      <th>525</th>\n      <td>273627</td>\n      <td>10002F</td>\n      <td>1.0</td>\n    </tr>\n    <tr>\n      <th>540</th>\n      <td>279117</td>\n      <td>10002F</td>\n      <td>0.0</td>\n    </tr>\n  </tbody>\n</table>\n</div>", 
                        "text/plain": "     customerId productId  scaled_purchase_freq\n38        25470    10002F                   0.0\n99        50949    10002F                   0.0\n114       56340    10002F                   0.0\n132       64539    10002F                   0.0\n140       68229    10002F                   0.0\n197      104499    10002F                   0.0\n216      120879    10002F                   0.0\n264      141759    10002F                   0.0\n268      142758    10002F                   0.0\n288      153639    10002F                   0.0\n324      168228    10002F                   0.0\n351      180018    10002F                   0.0\n357      186318    10002F                   0.0\n362      190908    10002F                   0.0\n407      223668    10002F                   0.0\n409      224478    10002F                   0.0\n423      230868    10002F                   0.0\n425      231768    10002F                   0.0\n525      273627    10002F                   1.0\n540      279117    10002F                   0.0"
                    }, 
                    "output_type": "execute_result"
                }
            ], 
            "source": "# create a table for input to the modeling\n\nd = df_matrix_norm.reset_index()\nd.index.names = ['scaled_purchase_freq']\ndata_norm = pd.melt(d, id_vars=['customerId'], value_name='scaled_purchase_freq').dropna()\nprint(data_norm.shape)\ndata_norm.head(20)"
        }, 
        {
            "source": "#### Define a function for normalizing data", 
            "cell_type": "markdown", 
            "metadata": {}
        }, 
        {
            "execution_count": 20, 
            "cell_type": "code", 
            "metadata": {}, 
            "outputs": [], 
            "source": "def normalize_data(data):\n    df_matrix = pd.pivot_table(data, values='purchase_count', index='customerId', columns='productId')\n    df_matrix_norm = (df_matrix-df_matrix.min())/(df_matrix.max()-df_matrix.min())\n    d = df_matrix_norm.reset_index()\n    d.index.names = ['scaled_purchase_freq']\n    return pd.melt(d, id_vars=['customerId'], value_name='scaled_purchase_freq').dropna()"
        }, 
        {
            "source": "* We can normalize the their purchase history, from 0-1 (with 1 being the most number of purchase for an item and 0 being 0 purchase count for that item).", 
            "cell_type": "markdown", 
            "metadata": {}
        }, 
        {
            "source": "## 4. Split train and test set\n* Splitting the data into training and testing sets is an important part of evaluating predictive modeling, in this case a collaborative filtering model. Typically, we use a larger portion of the data for training and a smaller portion for testing. \n* We use 80:20 ratio for our train-test set size.\n* Our training portion will be used to develop a predictive model, while the other to evaluate the model's performance.\n* Now that we have three datasets with purchase counts, purchase dummy, and scaled purchase counts, we would like to split each.", 
            "cell_type": "markdown", 
            "metadata": {}
        }, 
        {
            "execution_count": 21, 
            "cell_type": "code", 
            "metadata": {}, 
            "outputs": [
                {
                    "output_type": "stream", 
                    "name": "stdout", 
                    "text": "(216824, 3) (54207, 3)\n"
                }
            ], 
            "source": "train, test = train_test_split(data, test_size = .2)\nprint(train.shape, test.shape)"
        }, 
        {
            "execution_count": 22, 
            "cell_type": "code", 
            "metadata": {}, 
            "outputs": [], 
            "source": "# Using turicreate library, we convert dataframe to SFrame - this will be useful in the modeling part\n\ntrain_data = tc.SFrame(train)\ntest_data = tc.SFrame(test)"
        }, 
        {
            "execution_count": 23, 
            "cell_type": "code", 
            "metadata": {}, 
            "outputs": [
                {
                    "execution_count": 23, 
                    "metadata": {}, 
                    "data": {
                        "text/html": "<div style=\"max-height:1000px;max-width:1500px;overflow:auto;\"><table frame=\"box\" rules=\"cols\">\n    <tr>\n        <th style=\"padding-left: 1em; padding-right: 1em; text-align: center\">customerId</th>\n        <th style=\"padding-left: 1em; padding-right: 1em; text-align: center\">productId</th>\n        <th style=\"padding-left: 1em; padding-right: 1em; text-align: center\">purchase_count</th>\n    </tr>\n    <tr>\n        <td style=\"padding-left: 1em; padding-right: 1em; text-align: center; vertical-align: top\">109089</td>\n        <td style=\"padding-left: 1em; padding-right: 1em; text-align: center; vertical-align: top\">22770L</td>\n        <td style=\"padding-left: 1em; padding-right: 1em; text-align: center; vertical-align: top\">1</td>\n    </tr>\n    <tr>\n        <td style=\"padding-left: 1em; padding-right: 1em; text-align: center; vertical-align: top\">435456</td>\n        <td style=\"padding-left: 1em; padding-right: 1em; text-align: center; vertical-align: top\">22041A</td>\n        <td style=\"padding-left: 1em; padding-right: 1em; text-align: center; vertical-align: top\">1</td>\n    </tr>\n    <tr>\n        <td style=\"padding-left: 1em; padding-right: 1em; text-align: center; vertical-align: top\">362826</td>\n        <td style=\"padding-left: 1em; padding-right: 1em; text-align: center; vertical-align: top\">21326V</td>\n        <td style=\"padding-left: 1em; padding-right: 1em; text-align: center; vertical-align: top\">1</td>\n    </tr>\n    <tr>\n        <td style=\"padding-left: 1em; padding-right: 1em; text-align: center; vertical-align: top\">283617</td>\n        <td style=\"padding-left: 1em; padding-right: 1em; text-align: center; vertical-align: top\">84347V</td>\n        <td style=\"padding-left: 1em; padding-right: 1em; text-align: center; vertical-align: top\">1</td>\n    </tr>\n    <tr>\n        <td style=\"padding-left: 1em; padding-right: 1em; text-align: center; vertical-align: top\">9990</td>\n        <td style=\"padding-left: 1em; padding-right: 1em; text-align: center; vertical-align: top\">22161W</td>\n        <td style=\"padding-left: 1em; padding-right: 1em; text-align: center; vertical-align: top\">1</td>\n    </tr>\n    <tr>\n        <td style=\"padding-left: 1em; padding-right: 1em; text-align: center; vertical-align: top\">21780</td>\n        <td style=\"padding-left: 1em; padding-right: 1em; text-align: center; vertical-align: top\">23546H</td>\n        <td style=\"padding-left: 1em; padding-right: 1em; text-align: center; vertical-align: top\">1</td>\n    </tr>\n    <tr>\n        <td style=\"padding-left: 1em; padding-right: 1em; text-align: center; vertical-align: top\">208188</td>\n        <td style=\"padding-left: 1em; padding-right: 1em; text-align: center; vertical-align: top\">22069H</td>\n        <td style=\"padding-left: 1em; padding-right: 1em; text-align: center; vertical-align: top\">2</td>\n    </tr>\n    <tr>\n        <td style=\"padding-left: 1em; padding-right: 1em; text-align: center; vertical-align: top\">181908</td>\n        <td style=\"padding-left: 1em; padding-right: 1em; text-align: center; vertical-align: top\">21380E</td>\n        <td style=\"padding-left: 1em; padding-right: 1em; text-align: center; vertical-align: top\">1</td>\n    </tr>\n    <tr>\n        <td style=\"padding-left: 1em; padding-right: 1em; text-align: center; vertical-align: top\">136359</td>\n        <td style=\"padding-left: 1em; padding-right: 1em; text-align: center; vertical-align: top\">84799U</td>\n        <td style=\"padding-left: 1em; padding-right: 1em; text-align: center; vertical-align: top\">1</td>\n    </tr>\n    <tr>\n        <td style=\"padding-left: 1em; padding-right: 1em; text-align: center; vertical-align: top\">164538</td>\n        <td style=\"padding-left: 1em; padding-right: 1em; text-align: center; vertical-align: top\">85036AJ</td>\n        <td style=\"padding-left: 1em; padding-right: 1em; text-align: center; vertical-align: top\">1</td>\n    </tr>\n</table>\n[216824 rows x 3 columns]<br/>Note: Only the head of the SFrame is printed.<br/>You can use print_rows(num_rows=m, num_columns=n) to print more rows and columns.\n</div>", 
                        "text/plain": "Columns:\n\tcustomerId\tint\n\tproductId\tstr\n\tpurchase_count\tint\n\nRows: 216824\n\nData:\n+------------+-----------+----------------+\n| customerId | productId | purchase_count |\n+------------+-----------+----------------+\n|   109089   |   22770L  |       1        |\n|   435456   |   22041A  |       1        |\n|   362826   |   21326V  |       1        |\n|   283617   |   84347V  |       1        |\n|    9990    |   22161W  |       1        |\n|   21780    |   23546H  |       1        |\n|   208188   |   22069H  |       2        |\n|   181908   |   21380E  |       1        |\n|   136359   |   84799U  |       1        |\n|   164538   |  85036AJ  |       1        |\n+------------+-----------+----------------+\n[216824 rows x 3 columns]\nNote: Only the head of the SFrame is printed.\nYou can use print_rows(num_rows=m, num_columns=n) to print more rows and columns."
                    }, 
                    "output_type": "execute_result"
                }
            ], 
            "source": "train_data"
        }, 
        {
            "execution_count": 24, 
            "cell_type": "code", 
            "metadata": {}, 
            "outputs": [
                {
                    "execution_count": 24, 
                    "metadata": {}, 
                    "data": {
                        "text/html": "<div style=\"max-height:1000px;max-width:1500px;overflow:auto;\"><table frame=\"box\" rules=\"cols\">\n    <tr>\n        <th style=\"padding-left: 1em; padding-right: 1em; text-align: center\">customerId</th>\n        <th style=\"padding-left: 1em; padding-right: 1em; text-align: center\">productId</th>\n        <th style=\"padding-left: 1em; padding-right: 1em; text-align: center\">purchase_count</th>\n    </tr>\n    <tr>\n        <td style=\"padding-left: 1em; padding-right: 1em; text-align: center; vertical-align: top\">379116</td>\n        <td style=\"padding-left: 1em; padding-right: 1em; text-align: center; vertical-align: top\">23157X</td>\n        <td style=\"padding-left: 1em; padding-right: 1em; text-align: center; vertical-align: top\">1</td>\n    </tr>\n    <tr>\n        <td style=\"padding-left: 1em; padding-right: 1em; text-align: center; vertical-align: top\">296397</td>\n        <td style=\"padding-left: 1em; padding-right: 1em; text-align: center; vertical-align: top\">23381G</td>\n        <td style=\"padding-left: 1em; padding-right: 1em; text-align: center; vertical-align: top\">1</td>\n    </tr>\n    <tr>\n        <td style=\"padding-left: 1em; padding-right: 1em; text-align: center; vertical-align: top\">190908</td>\n        <td style=\"padding-left: 1em; padding-right: 1em; text-align: center; vertical-align: top\">22846O</td>\n        <td style=\"padding-left: 1em; padding-right: 1em; text-align: center; vertical-align: top\">1</td>\n    </tr>\n    <tr>\n        <td style=\"padding-left: 1em; padding-right: 1em; text-align: center; vertical-align: top\">284517</td>\n        <td style=\"padding-left: 1em; padding-right: 1em; text-align: center; vertical-align: top\">22955C</td>\n        <td style=\"padding-left: 1em; padding-right: 1em; text-align: center; vertical-align: top\">1</td>\n    </tr>\n    <tr>\n        <td style=\"padding-left: 1em; padding-right: 1em; text-align: center; vertical-align: top\">190908</td>\n        <td style=\"padding-left: 1em; padding-right: 1em; text-align: center; vertical-align: top\">21948F</td>\n        <td style=\"padding-left: 1em; padding-right: 1em; text-align: center; vertical-align: top\">1</td>\n    </tr>\n    <tr>\n        <td style=\"padding-left: 1em; padding-right: 1em; text-align: center; vertical-align: top\">412776</td>\n        <td style=\"padding-left: 1em; padding-right: 1em; text-align: center; vertical-align: top\">21494K</td>\n        <td style=\"padding-left: 1em; padding-right: 1em; text-align: center; vertical-align: top\">1</td>\n    </tr>\n    <tr>\n        <td style=\"padding-left: 1em; padding-right: 1em; text-align: center; vertical-align: top\">293607</td>\n        <td style=\"padding-left: 1em; padding-right: 1em; text-align: center; vertical-align: top\">21452L</td>\n        <td style=\"padding-left: 1em; padding-right: 1em; text-align: center; vertical-align: top\">1</td>\n    </tr>\n    <tr>\n        <td style=\"padding-left: 1em; padding-right: 1em; text-align: center; vertical-align: top\">527265</td>\n        <td style=\"padding-left: 1em; padding-right: 1em; text-align: center; vertical-align: top\">22061J</td>\n        <td style=\"padding-left: 1em; padding-right: 1em; text-align: center; vertical-align: top\">3</td>\n    </tr>\n    <tr>\n        <td style=\"padding-left: 1em; padding-right: 1em; text-align: center; vertical-align: top\">43560</td>\n        <td style=\"padding-left: 1em; padding-right: 1em; text-align: center; vertical-align: top\">23444U</td>\n        <td style=\"padding-left: 1em; padding-right: 1em; text-align: center; vertical-align: top\">1</td>\n    </tr>\n    <tr>\n        <td style=\"padding-left: 1em; padding-right: 1em; text-align: center; vertical-align: top\">139959</td>\n        <td style=\"padding-left: 1em; padding-right: 1em; text-align: center; vertical-align: top\">20832P</td>\n        <td style=\"padding-left: 1em; padding-right: 1em; text-align: center; vertical-align: top\">1</td>\n    </tr>\n</table>\n[54207 rows x 3 columns]<br/>Note: Only the head of the SFrame is printed.<br/>You can use print_rows(num_rows=m, num_columns=n) to print more rows and columns.\n</div>", 
                        "text/plain": "Columns:\n\tcustomerId\tint\n\tproductId\tstr\n\tpurchase_count\tint\n\nRows: 54207\n\nData:\n+------------+-----------+----------------+\n| customerId | productId | purchase_count |\n+------------+-----------+----------------+\n|   379116   |   23157X  |       1        |\n|   296397   |   23381G  |       1        |\n|   190908   |   22846O  |       1        |\n|   284517   |   22955C  |       1        |\n|   190908   |   21948F  |       1        |\n|   412776   |   21494K  |       1        |\n|   293607   |   21452L  |       1        |\n|   527265   |   22061J  |       3        |\n|   43560    |   23444U  |       1        |\n|   139959   |   20832P  |       1        |\n+------------+-----------+----------------+\n[54207 rows x 3 columns]\nNote: Only the head of the SFrame is printed.\nYou can use print_rows(num_rows=m, num_columns=n) to print more rows and columns."
                    }, 
                    "output_type": "execute_result"
                }
            ], 
            "source": "test_data"
        }, 
        {
            "source": "#### Define a `split_data` function for splitting data to training and test set", 
            "cell_type": "markdown", 
            "metadata": {}
        }, 
        {
            "execution_count": 25, 
            "cell_type": "code", 
            "metadata": {}, 
            "outputs": [], 
            "source": "# We can define a function for this step as follows\n\ndef split_data(data):\n    '''\n    Splits dataset into training and test set.\n    \n    Args:\n        data (pandas.DataFrame)\n        \n    Returns\n        train_data (tc.SFrame)\n        test_data (tc.SFrame)\n    '''\n    train, test = train_test_split(data, test_size = .2)\n    train_data = tc.SFrame(train)\n    test_data = tc.SFrame(test)\n    return train_data, test_data"
        }, 
        {
            "execution_count": 26, 
            "cell_type": "code", 
            "metadata": {}, 
            "outputs": [], 
            "source": "# # lets try with both dummy table and scaled/normalized purchase table\n\ntrain_data_dummy, test_data_dummy = split_data(data_dummy)\ntrain_data_norm, test_data_norm = split_data(data_norm)"
        }, 
        {
            "source": "## 5. Baseline Model\nBefore running a more complicated approach such as collaborative filtering, we would like to use a baseline model to compare and evaluate models. Since baseline typically uses a very simple approach, techniques used beyond this approach should be chosen if they show relatively better accuracy and complexity.\n\n### 5.1. Using a Popularity model as a baseline\n* The popularity model takes the most popular items for recommendation. These items are products with the highest number of sells across customers.\n* We use `turicreate` library for running and evaluating both baseline and collaborative filtering models below\n* Training data is used for model selection\n\n#### Using purchase counts", 
            "cell_type": "markdown", 
            "metadata": {}
        }, 
        {
            "execution_count": 27, 
            "cell_type": "code", 
            "metadata": {}, 
            "outputs": [], 
            "source": "# variables to define field names\nuser_id = 'customerId'\nitem_id = 'productId'\ntarget = 'purchase_count'\nusers_to_recommend = list(transactions[user_id])\nn_rec = 10 # number of items to recommend\nn_display = 30"
        }, 
        {
            "execution_count": 28, 
            "cell_type": "code", 
            "metadata": {}, 
            "outputs": [
                {
                    "output_type": "display_data", 
                    "data": {
                        "text/html": "<pre>Preparing data set.</pre>", 
                        "text/plain": "Preparing data set."
                    }, 
                    "metadata": {}
                }, 
                {
                    "output_type": "display_data", 
                    "data": {
                        "text/html": "<pre>    Data has 216824 observations with 971 users and 3768 items.</pre>", 
                        "text/plain": "    Data has 216824 observations with 971 users and 3768 items."
                    }, 
                    "metadata": {}
                }, 
                {
                    "output_type": "display_data", 
                    "data": {
                        "text/html": "<pre>    Data prepared in: 10.5373s</pre>", 
                        "text/plain": "    Data prepared in: 10.5373s"
                    }, 
                    "metadata": {}
                }, 
                {
                    "output_type": "display_data", 
                    "data": {
                        "text/html": "<pre>216824 observations to process; with 3768 unique items.</pre>", 
                        "text/plain": "216824 observations to process; with 3768 unique items."
                    }, 
                    "metadata": {}
                }
            ], 
            "source": "popularity_model = tc.popularity_recommender.create(train_data, \n                                                    user_id=user_id, \n                                                    item_id=item_id, \n                                                    target=target)"
        }, 
        {
            "execution_count": 29, 
            "cell_type": "code", 
            "metadata": {}, 
            "outputs": [
                {
                    "output_type": "display_data", 
                    "data": {
                        "text/html": "<pre>recommendations finished on 1000/330575 queries. users per second: 201857</pre>", 
                        "text/plain": "recommendations finished on 1000/330575 queries. users per second: 201857"
                    }, 
                    "metadata": {}
                }, 
                {
                    "output_type": "display_data", 
                    "data": {
                        "text/html": "<pre>recommendations finished on 2000/330575 queries. users per second: 93694.4</pre>", 
                        "text/plain": "recommendations finished on 2000/330575 queries. users per second: 93694.4"
                    }, 
                    "metadata": {}
                }, 
                {
                    "output_type": "display_data", 
                    "data": {
                        "text/html": "<pre>recommendations finished on 3000/330575 queries. users per second: 29897.5</pre>", 
                        "text/plain": "recommendations finished on 3000/330575 queries. users per second: 29897.5"
                    }, 
                    "metadata": {}
                }, 
                {
                    "output_type": "display_data", 
                    "data": {
                        "text/html": "<pre>recommendations finished on 4000/330575 queries. users per second: 25203</pre>", 
                        "text/plain": "recommendations finished on 4000/330575 queries. users per second: 25203"
                    }, 
                    "metadata": {}
                }, 
                {
                    "output_type": "display_data", 
                    "data": {
                        "text/html": "<pre>recommendations finished on 5000/330575 queries. users per second: 22935.1</pre>", 
                        "text/plain": "recommendations finished on 5000/330575 queries. users per second: 22935.1"
                    }, 
                    "metadata": {}
                }, 
                {
                    "output_type": "display_data", 
                    "data": {
                        "text/html": "<pre>recommendations finished on 6000/330575 queries. users per second: 23248.6</pre>", 
                        "text/plain": "recommendations finished on 6000/330575 queries. users per second: 23248.6"
                    }, 
                    "metadata": {}
                }, 
                {
                    "output_type": "display_data", 
                    "data": {
                        "text/html": "<pre>recommendations finished on 7000/330575 queries. users per second: 21981.3</pre>", 
                        "text/plain": "recommendations finished on 7000/330575 queries. users per second: 21981.3"
                    }, 
                    "metadata": {}
                }, 
                {
                    "output_type": "display_data", 
                    "data": {
                        "text/html": "<pre>recommendations finished on 8000/330575 queries. users per second: 22329.3</pre>", 
                        "text/plain": "recommendations finished on 8000/330575 queries. users per second: 22329.3"
                    }, 
                    "metadata": {}
                }, 
                {
                    "output_type": "display_data", 
                    "data": {
                        "text/html": "<pre>recommendations finished on 9000/330575 queries. users per second: 22541.7</pre>", 
                        "text/plain": "recommendations finished on 9000/330575 queries. users per second: 22541.7"
                    }, 
                    "metadata": {}
                }, 
                {
                    "output_type": "display_data", 
                    "data": {
                        "text/html": "<pre>recommendations finished on 10000/330575 queries. users per second: 22721</pre>", 
                        "text/plain": "recommendations finished on 10000/330575 queries. users per second: 22721"
                    }, 
                    "metadata": {}
                }, 
                {
                    "output_type": "display_data", 
                    "data": {
                        "text/html": "<pre>recommendations finished on 11000/330575 queries. users per second: 22902.6</pre>", 
                        "text/plain": "recommendations finished on 11000/330575 queries. users per second: 22902.6"
                    }, 
                    "metadata": {}
                }, 
                {
                    "output_type": "display_data", 
                    "data": {
                        "text/html": "<pre>recommendations finished on 12000/330575 queries. users per second: 22297.5</pre>", 
                        "text/plain": "recommendations finished on 12000/330575 queries. users per second: 22297.5"
                    }, 
                    "metadata": {}
                }, 
                {
                    "output_type": "display_data", 
                    "data": {
                        "text/html": "<pre>recommendations finished on 13000/330575 queries. users per second: 20957.3</pre>", 
                        "text/plain": "recommendations finished on 13000/330575 queries. users per second: 20957.3"
                    }, 
                    "metadata": {}
                }, 
                {
                    "output_type": "display_data", 
                    "data": {
                        "text/html": "<pre>recommendations finished on 14000/330575 queries. users per second: 20560.4</pre>", 
                        "text/plain": "recommendations finished on 14000/330575 queries. users per second: 20560.4"
                    }, 
                    "metadata": {}
                }, 
                {
                    "output_type": "display_data", 
                    "data": {
                        "text/html": "<pre>recommendations finished on 15000/330575 queries. users per second: 20812.4</pre>", 
                        "text/plain": "recommendations finished on 15000/330575 queries. users per second: 20812.4"
                    }, 
                    "metadata": {}
                }, 
                {
                    "output_type": "display_data", 
                    "data": {
                        "text/html": "<pre>recommendations finished on 16000/330575 queries. users per second: 20555.1</pre>", 
                        "text/plain": "recommendations finished on 16000/330575 queries. users per second: 20555.1"
                    }, 
                    "metadata": {}
                }, 
                {
                    "output_type": "display_data", 
                    "data": {
                        "text/html": "<pre>recommendations finished on 17000/330575 queries. users per second: 20770.5</pre>", 
                        "text/plain": "recommendations finished on 17000/330575 queries. users per second: 20770.5"
                    }, 
                    "metadata": {}
                }, 
                {
                    "output_type": "display_data", 
                    "data": {
                        "text/html": "<pre>recommendations finished on 18000/330575 queries. users per second: 20045.2</pre>", 
                        "text/plain": "recommendations finished on 18000/330575 queries. users per second: 20045.2"
                    }, 
                    "metadata": {}
                }, 
                {
                    "output_type": "display_data", 
                    "data": {
                        "text/html": "<pre>recommendations finished on 19000/330575 queries. users per second: 19814.2</pre>", 
                        "text/plain": "recommendations finished on 19000/330575 queries. users per second: 19814.2"
                    }, 
                    "metadata": {}
                }, 
                {
                    "output_type": "display_data", 
                    "data": {
                        "text/html": "<pre>recommendations finished on 20000/330575 queries. users per second: 20003.8</pre>", 
                        "text/plain": "recommendations finished on 20000/330575 queries. users per second: 20003.8"
                    }, 
                    "metadata": {}
                }, 
                {
                    "output_type": "display_data", 
                    "data": {
                        "text/html": "<pre>recommendations finished on 21000/330575 queries. users per second: 19833.9</pre>", 
                        "text/plain": "recommendations finished on 21000/330575 queries. users per second: 19833.9"
                    }, 
                    "metadata": {}
                }, 
                {
                    "output_type": "display_data", 
                    "data": {
                        "text/html": "<pre>recommendations finished on 22000/330575 queries. users per second: 19973.4</pre>", 
                        "text/plain": "recommendations finished on 22000/330575 queries. users per second: 19973.4"
                    }, 
                    "metadata": {}
                }, 
                {
                    "output_type": "display_data", 
                    "data": {
                        "text/html": "<pre>recommendations finished on 23000/330575 queries. users per second: 20162</pre>", 
                        "text/plain": "recommendations finished on 23000/330575 queries. users per second: 20162"
                    }, 
                    "metadata": {}
                }, 
                {
                    "output_type": "display_data", 
                    "data": {
                        "text/html": "<pre>recommendations finished on 24000/330575 queries. users per second: 20313.3</pre>", 
                        "text/plain": "recommendations finished on 24000/330575 queries. users per second: 20313.3"
                    }, 
                    "metadata": {}
                }, 
                {
                    "output_type": "display_data", 
                    "data": {
                        "text/html": "<pre>recommendations finished on 25000/330575 queries. users per second: 19518.8</pre>", 
                        "text/plain": "recommendations finished on 25000/330575 queries. users per second: 19518.8"
                    }, 
                    "metadata": {}
                }, 
                {
                    "output_type": "display_data", 
                    "data": {
                        "text/html": "<pre>recommendations finished on 26000/330575 queries. users per second: 19132.6</pre>", 
                        "text/plain": "recommendations finished on 26000/330575 queries. users per second: 19132.6"
                    }, 
                    "metadata": {}
                }, 
                {
                    "output_type": "display_data", 
                    "data": {
                        "text/html": "<pre>recommendations finished on 27000/330575 queries. users per second: 18519.9</pre>", 
                        "text/plain": "recommendations finished on 27000/330575 queries. users per second: 18519.9"
                    }, 
                    "metadata": {}
                }, 
                {
                    "output_type": "display_data", 
                    "data": {
                        "text/html": "<pre>recommendations finished on 28000/330575 queries. users per second: 19176.6</pre>", 
                        "text/plain": "recommendations finished on 28000/330575 queries. users per second: 19176.6"
                    }, 
                    "metadata": {}
                }, 
                {
                    "output_type": "display_data", 
                    "data": {
                        "text/html": "<pre>recommendations finished on 29000/330575 queries. users per second: 17909.8</pre>", 
                        "text/plain": "recommendations finished on 29000/330575 queries. users per second: 17909.8"
                    }, 
                    "metadata": {}
                }, 
                {
                    "output_type": "display_data", 
                    "data": {
                        "text/html": "<pre>recommendations finished on 30000/330575 queries. users per second: 17632.2</pre>", 
                        "text/plain": "recommendations finished on 30000/330575 queries. users per second: 17632.2"
                    }, 
                    "metadata": {}
                }, 
                {
                    "output_type": "display_data", 
                    "data": {
                        "text/html": "<pre>recommendations finished on 31000/330575 queries. users per second: 17596.8</pre>", 
                        "text/plain": "recommendations finished on 31000/330575 queries. users per second: 17596.8"
                    }, 
                    "metadata": {}
                }, 
                {
                    "output_type": "display_data", 
                    "data": {
                        "text/html": "<pre>recommendations finished on 32000/330575 queries. users per second: 17575</pre>", 
                        "text/plain": "recommendations finished on 32000/330575 queries. users per second: 17575"
                    }, 
                    "metadata": {}
                }, 
                {
                    "output_type": "display_data", 
                    "data": {
                        "text/html": "<pre>recommendations finished on 33000/330575 queries. users per second: 17556.6</pre>", 
                        "text/plain": "recommendations finished on 33000/330575 queries. users per second: 17556.6"
                    }, 
                    "metadata": {}
                }, 
                {
                    "output_type": "display_data", 
                    "data": {
                        "text/html": "<pre>recommendations finished on 34000/330575 queries. users per second: 17535.7</pre>", 
                        "text/plain": "recommendations finished on 34000/330575 queries. users per second: 17535.7"
                    }, 
                    "metadata": {}
                }, 
                {
                    "output_type": "display_data", 
                    "data": {
                        "text/html": "<pre>recommendations finished on 35000/330575 queries. users per second: 17488.2</pre>", 
                        "text/plain": "recommendations finished on 35000/330575 queries. users per second: 17488.2"
                    }, 
                    "metadata": {}
                }, 
                {
                    "output_type": "display_data", 
                    "data": {
                        "text/html": "<pre>recommendations finished on 36000/330575 queries. users per second: 17466.1</pre>", 
                        "text/plain": "recommendations finished on 36000/330575 queries. users per second: 17466.1"
                    }, 
                    "metadata": {}
                }, 
                {
                    "output_type": "display_data", 
                    "data": {
                        "text/html": "<pre>recommendations finished on 37000/330575 queries. users per second: 17445.6</pre>", 
                        "text/plain": "recommendations finished on 37000/330575 queries. users per second: 17445.6"
                    }, 
                    "metadata": {}
                }, 
                {
                    "output_type": "display_data", 
                    "data": {
                        "text/html": "<pre>recommendations finished on 38000/330575 queries. users per second: 17589</pre>", 
                        "text/plain": "recommendations finished on 38000/330575 queries. users per second: 17589"
                    }, 
                    "metadata": {}
                }, 
                {
                    "output_type": "display_data", 
                    "data": {
                        "text/html": "<pre>recommendations finished on 39000/330575 queries. users per second: 17716.9</pre>", 
                        "text/plain": "recommendations finished on 39000/330575 queries. users per second: 17716.9"
                    }, 
                    "metadata": {}
                }, 
                {
                    "output_type": "display_data", 
                    "data": {
                        "text/html": "<pre>recommendations finished on 40000/330575 queries. users per second: 17707.7</pre>", 
                        "text/plain": "recommendations finished on 40000/330575 queries. users per second: 17707.7"
                    }, 
                    "metadata": {}
                }, 
                {
                    "output_type": "display_data", 
                    "data": {
                        "text/html": "<pre>recommendations finished on 41000/330575 queries. users per second: 17835.7</pre>", 
                        "text/plain": "recommendations finished on 41000/330575 queries. users per second: 17835.7"
                    }, 
                    "metadata": {}
                }, 
                {
                    "output_type": "display_data", 
                    "data": {
                        "text/html": "<pre>recommendations finished on 42000/330575 queries. users per second: 18101</pre>", 
                        "text/plain": "recommendations finished on 42000/330575 queries. users per second: 18101"
                    }, 
                    "metadata": {}
                }, 
                {
                    "output_type": "display_data", 
                    "data": {
                        "text/html": "<pre>recommendations finished on 43000/330575 queries. users per second: 18368.8</pre>", 
                        "text/plain": "recommendations finished on 43000/330575 queries. users per second: 18368.8"
                    }, 
                    "metadata": {}
                }, 
                {
                    "output_type": "display_data", 
                    "data": {
                        "text/html": "<pre>recommendations finished on 44000/330575 queries. users per second: 18476.2</pre>", 
                        "text/plain": "recommendations finished on 44000/330575 queries. users per second: 18476.2"
                    }, 
                    "metadata": {}
                }, 
                {
                    "output_type": "display_data", 
                    "data": {
                        "text/html": "<pre>recommendations finished on 45000/330575 queries. users per second: 18445</pre>", 
                        "text/plain": "recommendations finished on 45000/330575 queries. users per second: 18445"
                    }, 
                    "metadata": {}
                }, 
                {
                    "output_type": "display_data", 
                    "data": {
                        "text/html": "<pre>recommendations finished on 46000/330575 queries. users per second: 18560.1</pre>", 
                        "text/plain": "recommendations finished on 46000/330575 queries. users per second: 18560.1"
                    }, 
                    "metadata": {}
                }, 
                {
                    "output_type": "display_data", 
                    "data": {
                        "text/html": "<pre>recommendations finished on 47000/330575 queries. users per second: 18659.6</pre>", 
                        "text/plain": "recommendations finished on 47000/330575 queries. users per second: 18659.6"
                    }, 
                    "metadata": {}
                }, 
                {
                    "output_type": "display_data", 
                    "data": {
                        "text/html": "<pre>recommendations finished on 48000/330575 queries. users per second: 18737.5</pre>", 
                        "text/plain": "recommendations finished on 48000/330575 queries. users per second: 18737.5"
                    }, 
                    "metadata": {}
                }, 
                {
                    "output_type": "display_data", 
                    "data": {
                        "text/html": "<pre>recommendations finished on 49000/330575 queries. users per second: 18715.3</pre>", 
                        "text/plain": "recommendations finished on 49000/330575 queries. users per second: 18715.3"
                    }, 
                    "metadata": {}
                }, 
                {
                    "output_type": "display_data", 
                    "data": {
                        "text/html": "<pre>recommendations finished on 50000/330575 queries. users per second: 18648</pre>", 
                        "text/plain": "recommendations finished on 50000/330575 queries. users per second: 18648"
                    }, 
                    "metadata": {}
                }, 
                {
                    "output_type": "display_data", 
                    "data": {
                        "text/html": "<pre>recommendations finished on 51000/330575 queries. users per second: 18748.4</pre>", 
                        "text/plain": "recommendations finished on 51000/330575 queries. users per second: 18748.4"
                    }, 
                    "metadata": {}
                }, 
                {
                    "output_type": "display_data", 
                    "data": {
                        "text/html": "<pre>recommendations finished on 52000/330575 queries. users per second: 18846.8</pre>", 
                        "text/plain": "recommendations finished on 52000/330575 queries. users per second: 18846.8"
                    }, 
                    "metadata": {}
                }, 
                {
                    "output_type": "display_data", 
                    "data": {
                        "text/html": "<pre>recommendations finished on 53000/330575 queries. users per second: 18938.4</pre>", 
                        "text/plain": "recommendations finished on 53000/330575 queries. users per second: 18938.4"
                    }, 
                    "metadata": {}
                }, 
                {
                    "output_type": "display_data", 
                    "data": {
                        "text/html": "<pre>recommendations finished on 54000/330575 queries. users per second: 19017.1</pre>", 
                        "text/plain": "recommendations finished on 54000/330575 queries. users per second: 19017.1"
                    }, 
                    "metadata": {}
                }, 
                {
                    "output_type": "display_data", 
                    "data": {
                        "text/html": "<pre>recommendations finished on 55000/330575 queries. users per second: 18970.9</pre>", 
                        "text/plain": "recommendations finished on 55000/330575 queries. users per second: 18970.9"
                    }, 
                    "metadata": {}
                }, 
                {
                    "output_type": "display_data", 
                    "data": {
                        "text/html": "<pre>recommendations finished on 56000/330575 queries. users per second: 18919.2</pre>", 
                        "text/plain": "recommendations finished on 56000/330575 queries. users per second: 18919.2"
                    }, 
                    "metadata": {}
                }, 
                {
                    "output_type": "display_data", 
                    "data": {
                        "text/html": "<pre>recommendations finished on 57000/330575 queries. users per second: 19003.1</pre>", 
                        "text/plain": "recommendations finished on 57000/330575 queries. users per second: 19003.1"
                    }, 
                    "metadata": {}
                }, 
                {
                    "output_type": "display_data", 
                    "data": {
                        "text/html": "<pre>recommendations finished on 58000/330575 queries. users per second: 19069.8</pre>", 
                        "text/plain": "recommendations finished on 58000/330575 queries. users per second: 19069.8"
                    }, 
                    "metadata": {}
                }, 
                {
                    "output_type": "display_data", 
                    "data": {
                        "text/html": "<pre>recommendations finished on 59000/330575 queries. users per second: 19146.3</pre>", 
                        "text/plain": "recommendations finished on 59000/330575 queries. users per second: 19146.3"
                    }, 
                    "metadata": {}
                }, 
                {
                    "output_type": "display_data", 
                    "data": {
                        "text/html": "<pre>recommendations finished on 60000/330575 queries. users per second: 19119.2</pre>", 
                        "text/plain": "recommendations finished on 60000/330575 queries. users per second: 19119.2"
                    }, 
                    "metadata": {}
                }, 
                {
                    "output_type": "display_data", 
                    "data": {
                        "text/html": "<pre>recommendations finished on 61000/330575 queries. users per second: 19189.3</pre>", 
                        "text/plain": "recommendations finished on 61000/330575 queries. users per second: 19189.3"
                    }, 
                    "metadata": {}
                }, 
                {
                    "output_type": "display_data", 
                    "data": {
                        "text/html": "<pre>recommendations finished on 62000/330575 queries. users per second: 19261.5</pre>", 
                        "text/plain": "recommendations finished on 62000/330575 queries. users per second: 19261.5"
                    }, 
                    "metadata": {}
                }, 
                {
                    "output_type": "display_data", 
                    "data": {
                        "text/html": "<pre>recommendations finished on 63000/330575 queries. users per second: 19325.9</pre>", 
                        "text/plain": "recommendations finished on 63000/330575 queries. users per second: 19325.9"
                    }, 
                    "metadata": {}
                }, 
                {
                    "output_type": "display_data", 
                    "data": {
                        "text/html": "<pre>recommendations finished on 64000/330575 queries. users per second: 19395.4</pre>", 
                        "text/plain": "recommendations finished on 64000/330575 queries. users per second: 19395.4"
                    }, 
                    "metadata": {}
                }, 
                {
                    "output_type": "display_data", 
                    "data": {
                        "text/html": "<pre>recommendations finished on 65000/330575 queries. users per second: 19464.4</pre>", 
                        "text/plain": "recommendations finished on 65000/330575 queries. users per second: 19464.4"
                    }, 
                    "metadata": {}
                }, 
                {
                    "output_type": "display_data", 
                    "data": {
                        "text/html": "<pre>recommendations finished on 66000/330575 queries. users per second: 19413.8</pre>", 
                        "text/plain": "recommendations finished on 66000/330575 queries. users per second: 19413.8"
                    }, 
                    "metadata": {}
                }, 
                {
                    "output_type": "display_data", 
                    "data": {
                        "text/html": "<pre>recommendations finished on 67000/330575 queries. users per second: 19370.1</pre>", 
                        "text/plain": "recommendations finished on 67000/330575 queries. users per second: 19370.1"
                    }, 
                    "metadata": {}
                }, 
                {
                    "output_type": "display_data", 
                    "data": {
                        "text/html": "<pre>recommendations finished on 68000/330575 queries. users per second: 19534.6</pre>", 
                        "text/plain": "recommendations finished on 68000/330575 queries. users per second: 19534.6"
                    }, 
                    "metadata": {}
                }, 
                {
                    "output_type": "display_data", 
                    "data": {
                        "text/html": "<pre>recommendations finished on 69000/330575 queries. users per second: 19379.8</pre>", 
                        "text/plain": "recommendations finished on 69000/330575 queries. users per second: 19379.8"
                    }, 
                    "metadata": {}
                }, 
                {
                    "output_type": "display_data", 
                    "data": {
                        "text/html": "<pre>recommendations finished on 70000/330575 queries. users per second: 19230.7</pre>", 
                        "text/plain": "recommendations finished on 70000/330575 queries. users per second: 19230.7"
                    }, 
                    "metadata": {}
                }, 
                {
                    "output_type": "display_data", 
                    "data": {
                        "text/html": "<pre>recommendations finished on 71000/330575 queries. users per second: 18992.3</pre>", 
                        "text/plain": "recommendations finished on 71000/330575 queries. users per second: 18992.3"
                    }, 
                    "metadata": {}
                }, 
                {
                    "output_type": "display_data", 
                    "data": {
                        "text/html": "<pre>recommendations finished on 72000/330575 queries. users per second: 19146.7</pre>", 
                        "text/plain": "recommendations finished on 72000/330575 queries. users per second: 19146.7"
                    }, 
                    "metadata": {}
                }, 
                {
                    "output_type": "display_data", 
                    "data": {
                        "text/html": "<pre>recommendations finished on 73000/330575 queries. users per second: 19106.2</pre>", 
                        "text/plain": "recommendations finished on 73000/330575 queries. users per second: 19106.2"
                    }, 
                    "metadata": {}
                }, 
                {
                    "output_type": "display_data", 
                    "data": {
                        "text/html": "<pre>recommendations finished on 74000/330575 queries. users per second: 19179.2</pre>", 
                        "text/plain": "recommendations finished on 74000/330575 queries. users per second: 19179.2"
                    }, 
                    "metadata": {}
                }, 
                {
                    "output_type": "display_data", 
                    "data": {
                        "text/html": "<pre>recommendations finished on 75000/330575 queries. users per second: 19139.3</pre>", 
                        "text/plain": "recommendations finished on 75000/330575 queries. users per second: 19139.3"
                    }, 
                    "metadata": {}
                }, 
                {
                    "output_type": "display_data", 
                    "data": {
                        "text/html": "<pre>recommendations finished on 76000/330575 queries. users per second: 19199.7</pre>", 
                        "text/plain": "recommendations finished on 76000/330575 queries. users per second: 19199.7"
                    }, 
                    "metadata": {}
                }, 
                {
                    "output_type": "display_data", 
                    "data": {
                        "text/html": "<pre>recommendations finished on 77000/330575 queries. users per second: 19342.5</pre>", 
                        "text/plain": "recommendations finished on 77000/330575 queries. users per second: 19342.5"
                    }, 
                    "metadata": {}
                }, 
                {
                    "output_type": "display_data", 
                    "data": {
                        "text/html": "<pre>recommendations finished on 78000/330575 queries. users per second: 19400</pre>", 
                        "text/plain": "recommendations finished on 78000/330575 queries. users per second: 19400"
                    }, 
                    "metadata": {}
                }, 
                {
                    "output_type": "display_data", 
                    "data": {
                        "text/html": "<pre>recommendations finished on 79000/330575 queries. users per second: 19461</pre>", 
                        "text/plain": "recommendations finished on 79000/330575 queries. users per second: 19461"
                    }, 
                    "metadata": {}
                }, 
                {
                    "output_type": "display_data", 
                    "data": {
                        "text/html": "<pre>recommendations finished on 80000/330575 queries. users per second: 19517.9</pre>", 
                        "text/plain": "recommendations finished on 80000/330575 queries. users per second: 19517.9"
                    }, 
                    "metadata": {}
                }, 
                {
                    "output_type": "display_data", 
                    "data": {
                        "text/html": "<pre>recommendations finished on 81000/330575 queries. users per second: 19661.6</pre>", 
                        "text/plain": "recommendations finished on 81000/330575 queries. users per second: 19661.6"
                    }, 
                    "metadata": {}
                }, 
                {
                    "output_type": "display_data", 
                    "data": {
                        "text/html": "<pre>recommendations finished on 82000/330575 queries. users per second: 19718.2</pre>", 
                        "text/plain": "recommendations finished on 82000/330575 queries. users per second: 19718.2"
                    }, 
                    "metadata": {}
                }, 
                {
                    "output_type": "display_data", 
                    "data": {
                        "text/html": "<pre>recommendations finished on 83000/330575 queries. users per second: 19771.5</pre>", 
                        "text/plain": "recommendations finished on 83000/330575 queries. users per second: 19771.5"
                    }, 
                    "metadata": {}
                }, 
                {
                    "output_type": "display_data", 
                    "data": {
                        "text/html": "<pre>recommendations finished on 84000/330575 queries. users per second: 19912.8</pre>", 
                        "text/plain": "recommendations finished on 84000/330575 queries. users per second: 19912.8"
                    }, 
                    "metadata": {}
                }, 
                {
                    "output_type": "display_data", 
                    "data": {
                        "text/html": "<pre>recommendations finished on 85000/330575 queries. users per second: 20039.5</pre>", 
                        "text/plain": "recommendations finished on 85000/330575 queries. users per second: 20039.5"
                    }, 
                    "metadata": {}
                }, 
                {
                    "output_type": "display_data", 
                    "data": {
                        "text/html": "<pre>recommendations finished on 86000/330575 queries. users per second: 20097.2</pre>", 
                        "text/plain": "recommendations finished on 86000/330575 queries. users per second: 20097.2"
                    }, 
                    "metadata": {}
                }, 
                {
                    "output_type": "display_data", 
                    "data": {
                        "text/html": "<pre>recommendations finished on 87000/330575 queries. users per second: 20229.8</pre>", 
                        "text/plain": "recommendations finished on 87000/330575 queries. users per second: 20229.8"
                    }, 
                    "metadata": {}
                }, 
                {
                    "output_type": "display_data", 
                    "data": {
                        "text/html": "<pre>recommendations finished on 88000/330575 queries. users per second: 20277.3</pre>", 
                        "text/plain": "recommendations finished on 88000/330575 queries. users per second: 20277.3"
                    }, 
                    "metadata": {}
                }, 
                {
                    "output_type": "display_data", 
                    "data": {
                        "text/html": "<pre>recommendations finished on 89000/330575 queries. users per second: 20225.9</pre>", 
                        "text/plain": "recommendations finished on 89000/330575 queries. users per second: 20225.9"
                    }, 
                    "metadata": {}
                }, 
                {
                    "output_type": "display_data", 
                    "data": {
                        "text/html": "<pre>recommendations finished on 90000/330575 queries. users per second: 20270.5</pre>", 
                        "text/plain": "recommendations finished on 90000/330575 queries. users per second: 20270.5"
                    }, 
                    "metadata": {}
                }, 
                {
                    "output_type": "display_data", 
                    "data": {
                        "text/html": "<pre>recommendations finished on 91000/330575 queries. users per second: 20317</pre>", 
                        "text/plain": "recommendations finished on 91000/330575 queries. users per second: 20317"
                    }, 
                    "metadata": {}
                }, 
                {
                    "output_type": "display_data", 
                    "data": {
                        "text/html": "<pre>recommendations finished on 92000/330575 queries. users per second: 20350</pre>", 
                        "text/plain": "recommendations finished on 92000/330575 queries. users per second: 20350"
                    }, 
                    "metadata": {}
                }, 
                {
                    "output_type": "display_data", 
                    "data": {
                        "text/html": "<pre>recommendations finished on 93000/330575 queries. users per second: 20398.7</pre>", 
                        "text/plain": "recommendations finished on 93000/330575 queries. users per second: 20398.7"
                    }, 
                    "metadata": {}
                }, 
                {
                    "output_type": "display_data", 
                    "data": {
                        "text/html": "<pre>recommendations finished on 94000/330575 queries. users per second: 20518.5</pre>", 
                        "text/plain": "recommendations finished on 94000/330575 queries. users per second: 20518.5"
                    }, 
                    "metadata": {}
                }, 
                {
                    "output_type": "display_data", 
                    "data": {
                        "text/html": "<pre>recommendations finished on 95000/330575 queries. users per second: 20479.6</pre>", 
                        "text/plain": "recommendations finished on 95000/330575 queries. users per second: 20479.6"
                    }, 
                    "metadata": {}
                }, 
                {
                    "output_type": "display_data", 
                    "data": {
                        "text/html": "<pre>recommendations finished on 96000/330575 queries. users per second: 20516.2</pre>", 
                        "text/plain": "recommendations finished on 96000/330575 queries. users per second: 20516.2"
                    }, 
                    "metadata": {}
                }, 
                {
                    "output_type": "display_data", 
                    "data": {
                        "text/html": "<pre>recommendations finished on 97000/330575 queries. users per second: 20636.6</pre>", 
                        "text/plain": "recommendations finished on 97000/330575 queries. users per second: 20636.6"
                    }, 
                    "metadata": {}
                }, 
                {
                    "output_type": "display_data", 
                    "data": {
                        "text/html": "<pre>recommendations finished on 98000/330575 queries. users per second: 20594</pre>", 
                        "text/plain": "recommendations finished on 98000/330575 queries. users per second: 20594"
                    }, 
                    "metadata": {}
                }, 
                {
                    "output_type": "display_data", 
                    "data": {
                        "text/html": "<pre>recommendations finished on 99000/330575 queries. users per second: 20702.3</pre>", 
                        "text/plain": "recommendations finished on 99000/330575 queries. users per second: 20702.3"
                    }, 
                    "metadata": {}
                }, 
                {
                    "output_type": "display_data", 
                    "data": {
                        "text/html": "<pre>recommendations finished on 100000/330575 queries. users per second: 20655.8</pre>", 
                        "text/plain": "recommendations finished on 100000/330575 queries. users per second: 20655.8"
                    }, 
                    "metadata": {}
                }, 
                {
                    "output_type": "display_data", 
                    "data": {
                        "text/html": "<pre>recommendations finished on 101000/330575 queries. users per second: 20694.6</pre>", 
                        "text/plain": "recommendations finished on 101000/330575 queries. users per second: 20694.6"
                    }, 
                    "metadata": {}
                }, 
                {
                    "output_type": "display_data", 
                    "data": {
                        "text/html": "<pre>recommendations finished on 102000/330575 queries. users per second: 20725.1</pre>", 
                        "text/plain": "recommendations finished on 102000/330575 queries. users per second: 20725.1"
                    }, 
                    "metadata": {}
                }, 
                {
                    "output_type": "display_data", 
                    "data": {
                        "text/html": "<pre>recommendations finished on 103000/330575 queries. users per second: 20761.3</pre>", 
                        "text/plain": "recommendations finished on 103000/330575 queries. users per second: 20761.3"
                    }, 
                    "metadata": {}
                }, 
                {
                    "output_type": "display_data", 
                    "data": {
                        "text/html": "<pre>recommendations finished on 104000/330575 queries. users per second: 20796</pre>", 
                        "text/plain": "recommendations finished on 104000/330575 queries. users per second: 20796"
                    }, 
                    "metadata": {}
                }, 
                {
                    "output_type": "display_data", 
                    "data": {
                        "text/html": "<pre>recommendations finished on 105000/330575 queries. users per second: 20592.2</pre>", 
                        "text/plain": "recommendations finished on 105000/330575 queries. users per second: 20592.2"
                    }, 
                    "metadata": {}
                }, 
                {
                    "output_type": "display_data", 
                    "data": {
                        "text/html": "<pre>recommendations finished on 106000/330575 queries. users per second: 20470.3</pre>", 
                        "text/plain": "recommendations finished on 106000/330575 queries. users per second: 20470.3"
                    }, 
                    "metadata": {}
                }, 
                {
                    "output_type": "display_data", 
                    "data": {
                        "text/html": "<pre>recommendations finished on 107000/330575 queries. users per second: 20427.2</pre>", 
                        "text/plain": "recommendations finished on 107000/330575 queries. users per second: 20427.2"
                    }, 
                    "metadata": {}
                }, 
                {
                    "output_type": "display_data", 
                    "data": {
                        "text/html": "<pre>recommendations finished on 108000/330575 queries. users per second: 20380.6</pre>", 
                        "text/plain": "recommendations finished on 108000/330575 queries. users per second: 20380.6"
                    }, 
                    "metadata": {}
                }, 
                {
                    "output_type": "display_data", 
                    "data": {
                        "text/html": "<pre>recommendations finished on 109000/330575 queries. users per second: 20336.9</pre>", 
                        "text/plain": "recommendations finished on 109000/330575 queries. users per second: 20336.9"
                    }, 
                    "metadata": {}
                }, 
                {
                    "output_type": "display_data", 
                    "data": {
                        "text/html": "<pre>recommendations finished on 110000/330575 queries. users per second: 20227.3</pre>", 
                        "text/plain": "recommendations finished on 110000/330575 queries. users per second: 20227.3"
                    }, 
                    "metadata": {}
                }, 
                {
                    "output_type": "display_data", 
                    "data": {
                        "text/html": "<pre>recommendations finished on 111000/330575 queries. users per second: 20259.9</pre>", 
                        "text/plain": "recommendations finished on 111000/330575 queries. users per second: 20259.9"
                    }, 
                    "metadata": {}
                }, 
                {
                    "output_type": "display_data", 
                    "data": {
                        "text/html": "<pre>recommendations finished on 112000/330575 queries. users per second: 20285.2</pre>", 
                        "text/plain": "recommendations finished on 112000/330575 queries. users per second: 20285.2"
                    }, 
                    "metadata": {}
                }, 
                {
                    "output_type": "display_data", 
                    "data": {
                        "text/html": "<pre>recommendations finished on 113000/330575 queries. users per second: 20108.7</pre>", 
                        "text/plain": "recommendations finished on 113000/330575 queries. users per second: 20108.7"
                    }, 
                    "metadata": {}
                }, 
                {
                    "output_type": "display_data", 
                    "data": {
                        "text/html": "<pre>recommendations finished on 114000/330575 queries. users per second: 20076.3</pre>", 
                        "text/plain": "recommendations finished on 114000/330575 queries. users per second: 20076.3"
                    }, 
                    "metadata": {}
                }, 
                {
                    "output_type": "display_data", 
                    "data": {
                        "text/html": "<pre>recommendations finished on 115000/330575 queries. users per second: 20110.7</pre>", 
                        "text/plain": "recommendations finished on 115000/330575 queries. users per second: 20110.7"
                    }, 
                    "metadata": {}
                }, 
                {
                    "output_type": "display_data", 
                    "data": {
                        "text/html": "<pre>recommendations finished on 116000/330575 queries. users per second: 20141.3</pre>", 
                        "text/plain": "recommendations finished on 116000/330575 queries. users per second: 20141.3"
                    }, 
                    "metadata": {}
                }, 
                {
                    "output_type": "display_data", 
                    "data": {
                        "text/html": "<pre>recommendations finished on 117000/330575 queries. users per second: 20041.4</pre>", 
                        "text/plain": "recommendations finished on 117000/330575 queries. users per second: 20041.4"
                    }, 
                    "metadata": {}
                }, 
                {
                    "output_type": "display_data", 
                    "data": {
                        "text/html": "<pre>recommendations finished on 118000/330575 queries. users per second: 20071.1</pre>", 
                        "text/plain": "recommendations finished on 118000/330575 queries. users per second: 20071.1"
                    }, 
                    "metadata": {}
                }, 
                {
                    "output_type": "display_data", 
                    "data": {
                        "text/html": "<pre>recommendations finished on 119000/330575 queries. users per second: 20101.2</pre>", 
                        "text/plain": "recommendations finished on 119000/330575 queries. users per second: 20101.2"
                    }, 
                    "metadata": {}
                }, 
                {
                    "output_type": "display_data", 
                    "data": {
                        "text/html": "<pre>recommendations finished on 120000/330575 queries. users per second: 20001.6</pre>", 
                        "text/plain": "recommendations finished on 120000/330575 queries. users per second: 20001.6"
                    }, 
                    "metadata": {}
                }, 
                {
                    "output_type": "display_data", 
                    "data": {
                        "text/html": "<pre>recommendations finished on 121000/330575 queries. users per second: 20099.6</pre>", 
                        "text/plain": "recommendations finished on 121000/330575 queries. users per second: 20099.6"
                    }, 
                    "metadata": {}
                }, 
                {
                    "output_type": "display_data", 
                    "data": {
                        "text/html": "<pre>recommendations finished on 122000/330575 queries. users per second: 20071.1</pre>", 
                        "text/plain": "recommendations finished on 122000/330575 queries. users per second: 20071.1"
                    }, 
                    "metadata": {}
                }, 
                {
                    "output_type": "display_data", 
                    "data": {
                        "text/html": "<pre>recommendations finished on 123000/330575 queries. users per second: 20166.1</pre>", 
                        "text/plain": "recommendations finished on 123000/330575 queries. users per second: 20166.1"
                    }, 
                    "metadata": {}
                }, 
                {
                    "output_type": "display_data", 
                    "data": {
                        "text/html": "<pre>recommendations finished on 124000/330575 queries. users per second: 20129.6</pre>", 
                        "text/plain": "recommendations finished on 124000/330575 queries. users per second: 20129.6"
                    }, 
                    "metadata": {}
                }, 
                {
                    "output_type": "display_data", 
                    "data": {
                        "text/html": "<pre>recommendations finished on 125000/330575 queries. users per second: 20162.8</pre>", 
                        "text/plain": "recommendations finished on 125000/330575 queries. users per second: 20162.8"
                    }, 
                    "metadata": {}
                }, 
                {
                    "output_type": "display_data", 
                    "data": {
                        "text/html": "<pre>recommendations finished on 126000/330575 queries. users per second: 20195.5</pre>", 
                        "text/plain": "recommendations finished on 126000/330575 queries. users per second: 20195.5"
                    }, 
                    "metadata": {}
                }, 
                {
                    "output_type": "display_data", 
                    "data": {
                        "text/html": "<pre>recommendations finished on 127000/330575 queries. users per second: 20224</pre>", 
                        "text/plain": "recommendations finished on 127000/330575 queries. users per second: 20224"
                    }, 
                    "metadata": {}
                }, 
                {
                    "output_type": "display_data", 
                    "data": {
                        "text/html": "<pre>recommendations finished on 128000/330575 queries. users per second: 20193.1</pre>", 
                        "text/plain": "recommendations finished on 128000/330575 queries. users per second: 20193.1"
                    }, 
                    "metadata": {}
                }, 
                {
                    "output_type": "display_data", 
                    "data": {
                        "text/html": "<pre>recommendations finished on 129000/330575 queries. users per second: 20223.5</pre>", 
                        "text/plain": "recommendations finished on 129000/330575 queries. users per second: 20223.5"
                    }, 
                    "metadata": {}
                }, 
                {
                    "output_type": "display_data", 
                    "data": {
                        "text/html": "<pre>recommendations finished on 130000/330575 queries. users per second: 20250</pre>", 
                        "text/plain": "recommendations finished on 130000/330575 queries. users per second: 20250"
                    }, 
                    "metadata": {}
                }, 
                {
                    "output_type": "display_data", 
                    "data": {
                        "text/html": "<pre>recommendations finished on 131000/330575 queries. users per second: 20282.3</pre>", 
                        "text/plain": "recommendations finished on 131000/330575 queries. users per second: 20282.3"
                    }, 
                    "metadata": {}
                }, 
                {
                    "output_type": "display_data", 
                    "data": {
                        "text/html": "<pre>recommendations finished on 132000/330575 queries. users per second: 20368.6</pre>", 
                        "text/plain": "recommendations finished on 132000/330575 queries. users per second: 20368.6"
                    }, 
                    "metadata": {}
                }, 
                {
                    "output_type": "display_data", 
                    "data": {
                        "text/html": "<pre>recommendations finished on 133000/330575 queries. users per second: 20342.4</pre>", 
                        "text/plain": "recommendations finished on 133000/330575 queries. users per second: 20342.4"
                    }, 
                    "metadata": {}
                }, 
                {
                    "output_type": "display_data", 
                    "data": {
                        "text/html": "<pre>recommendations finished on 134000/330575 queries. users per second: 20369.8</pre>", 
                        "text/plain": "recommendations finished on 134000/330575 queries. users per second: 20369.8"
                    }, 
                    "metadata": {}
                }, 
                {
                    "output_type": "display_data", 
                    "data": {
                        "text/html": "<pre>recommendations finished on 135000/330575 queries. users per second: 20458.2</pre>", 
                        "text/plain": "recommendations finished on 135000/330575 queries. users per second: 20458.2"
                    }, 
                    "metadata": {}
                }, 
                {
                    "output_type": "display_data", 
                    "data": {
                        "text/html": "<pre>recommendations finished on 136000/330575 queries. users per second: 20420.6</pre>", 
                        "text/plain": "recommendations finished on 136000/330575 queries. users per second: 20420.6"
                    }, 
                    "metadata": {}
                }, 
                {
                    "output_type": "display_data", 
                    "data": {
                        "text/html": "<pre>recommendations finished on 137000/330575 queries. users per second: 20449.1</pre>", 
                        "text/plain": "recommendations finished on 137000/330575 queries. users per second: 20449.1"
                    }, 
                    "metadata": {}
                }, 
                {
                    "output_type": "display_data", 
                    "data": {
                        "text/html": "<pre>recommendations finished on 138000/330575 queries. users per second: 20536.7</pre>", 
                        "text/plain": "recommendations finished on 138000/330575 queries. users per second: 20536.7"
                    }, 
                    "metadata": {}
                }, 
                {
                    "output_type": "display_data", 
                    "data": {
                        "text/html": "<pre>recommendations finished on 139000/330575 queries. users per second: 20557.2</pre>", 
                        "text/plain": "recommendations finished on 139000/330575 queries. users per second: 20557.2"
                    }, 
                    "metadata": {}
                }, 
                {
                    "output_type": "display_data", 
                    "data": {
                        "text/html": "<pre>recommendations finished on 140000/330575 queries. users per second: 20528.9</pre>", 
                        "text/plain": "recommendations finished on 140000/330575 queries. users per second: 20528.9"
                    }, 
                    "metadata": {}
                }, 
                {
                    "output_type": "display_data", 
                    "data": {
                        "text/html": "<pre>recommendations finished on 141000/330575 queries. users per second: 20549.3</pre>", 
                        "text/plain": "recommendations finished on 141000/330575 queries. users per second: 20549.3"
                    }, 
                    "metadata": {}
                }, 
                {
                    "output_type": "display_data", 
                    "data": {
                        "text/html": "<pre>recommendations finished on 142000/330575 queries. users per second: 20582.2</pre>", 
                        "text/plain": "recommendations finished on 142000/330575 queries. users per second: 20582.2"
                    }, 
                    "metadata": {}
                }, 
                {
                    "output_type": "display_data", 
                    "data": {
                        "text/html": "<pre>recommendations finished on 143000/330575 queries. users per second: 20610.7</pre>", 
                        "text/plain": "recommendations finished on 143000/330575 queries. users per second: 20610.7"
                    }, 
                    "metadata": {}
                }, 
                {
                    "output_type": "display_data", 
                    "data": {
                        "text/html": "<pre>recommendations finished on 144000/330575 queries. users per second: 20633.2</pre>", 
                        "text/plain": "recommendations finished on 144000/330575 queries. users per second: 20633.2"
                    }, 
                    "metadata": {}
                }, 
                {
                    "output_type": "display_data", 
                    "data": {
                        "text/html": "<pre>recommendations finished on 145000/330575 queries. users per second: 20654.1</pre>", 
                        "text/plain": "recommendations finished on 145000/330575 queries. users per second: 20654.1"
                    }, 
                    "metadata": {}
                }, 
                {
                    "output_type": "display_data", 
                    "data": {
                        "text/html": "<pre>recommendations finished on 146000/330575 queries. users per second: 20626</pre>", 
                        "text/plain": "recommendations finished on 146000/330575 queries. users per second: 20626"
                    }, 
                    "metadata": {}
                }, 
                {
                    "output_type": "display_data", 
                    "data": {
                        "text/html": "<pre>recommendations finished on 147000/330575 queries. users per second: 20650.9</pre>", 
                        "text/plain": "recommendations finished on 147000/330575 queries. users per second: 20650.9"
                    }, 
                    "metadata": {}
                }, 
                {
                    "output_type": "display_data", 
                    "data": {
                        "text/html": "<pre>recommendations finished on 148000/330575 queries. users per second: 20673.9</pre>", 
                        "text/plain": "recommendations finished on 148000/330575 queries. users per second: 20673.9"
                    }, 
                    "metadata": {}
                }, 
                {
                    "output_type": "display_data", 
                    "data": {
                        "text/html": "<pre>recommendations finished on 149000/330575 queries. users per second: 20753.1</pre>", 
                        "text/plain": "recommendations finished on 149000/330575 queries. users per second: 20753.1"
                    }, 
                    "metadata": {}
                }, 
                {
                    "output_type": "display_data", 
                    "data": {
                        "text/html": "<pre>recommendations finished on 150000/330575 queries. users per second: 20772.1</pre>", 
                        "text/plain": "recommendations finished on 150000/330575 queries. users per second: 20772.1"
                    }, 
                    "metadata": {}
                }, 
                {
                    "output_type": "display_data", 
                    "data": {
                        "text/html": "<pre>recommendations finished on 151000/330575 queries. users per second: 20853.7</pre>", 
                        "text/plain": "recommendations finished on 151000/330575 queries. users per second: 20853.7"
                    }, 
                    "metadata": {}
                }, 
                {
                    "output_type": "display_data", 
                    "data": {
                        "text/html": "<pre>recommendations finished on 152000/330575 queries. users per second: 20822.2</pre>", 
                        "text/plain": "recommendations finished on 152000/330575 queries. users per second: 20822.2"
                    }, 
                    "metadata": {}
                }, 
                {
                    "output_type": "display_data", 
                    "data": {
                        "text/html": "<pre>recommendations finished on 153000/330575 queries. users per second: 20846.7</pre>", 
                        "text/plain": "recommendations finished on 153000/330575 queries. users per second: 20846.7"
                    }, 
                    "metadata": {}
                }, 
                {
                    "output_type": "display_data", 
                    "data": {
                        "text/html": "<pre>recommendations finished on 154000/330575 queries. users per second: 20815.2</pre>", 
                        "text/plain": "recommendations finished on 154000/330575 queries. users per second: 20815.2"
                    }, 
                    "metadata": {}
                }, 
                {
                    "output_type": "display_data", 
                    "data": {
                        "text/html": "<pre>recommendations finished on 155000/330575 queries. users per second: 20835.6</pre>", 
                        "text/plain": "recommendations finished on 155000/330575 queries. users per second: 20835.6"
                    }, 
                    "metadata": {}
                }, 
                {
                    "output_type": "display_data", 
                    "data": {
                        "text/html": "<pre>recommendations finished on 156000/330575 queries. users per second: 20858</pre>", 
                        "text/plain": "recommendations finished on 156000/330575 queries. users per second: 20858"
                    }, 
                    "metadata": {}
                }, 
                {
                    "output_type": "display_data", 
                    "data": {
                        "text/html": "<pre>recommendations finished on 157000/330575 queries. users per second: 20827.1</pre>", 
                        "text/plain": "recommendations finished on 157000/330575 queries. users per second: 20827.1"
                    }, 
                    "metadata": {}
                }, 
                {
                    "output_type": "display_data", 
                    "data": {
                        "text/html": "<pre>recommendations finished on 158000/330575 queries. users per second: 20846.5</pre>", 
                        "text/plain": "recommendations finished on 158000/330575 queries. users per second: 20846.5"
                    }, 
                    "metadata": {}
                }, 
                {
                    "output_type": "display_data", 
                    "data": {
                        "text/html": "<pre>recommendations finished on 159000/330575 queries. users per second: 20910.1</pre>", 
                        "text/plain": "recommendations finished on 159000/330575 queries. users per second: 20910.1"
                    }, 
                    "metadata": {}
                }, 
                {
                    "output_type": "display_data", 
                    "data": {
                        "text/html": "<pre>recommendations finished on 160000/330575 queries. users per second: 20942.7</pre>", 
                        "text/plain": "recommendations finished on 160000/330575 queries. users per second: 20942.7"
                    }, 
                    "metadata": {}
                }, 
                {
                    "output_type": "display_data", 
                    "data": {
                        "text/html": "<pre>recommendations finished on 161000/330575 queries. users per second: 20964.1</pre>", 
                        "text/plain": "recommendations finished on 161000/330575 queries. users per second: 20964.1"
                    }, 
                    "metadata": {}
                }, 
                {
                    "output_type": "display_data", 
                    "data": {
                        "text/html": "<pre>recommendations finished on 162000/330575 queries. users per second: 20983.3</pre>", 
                        "text/plain": "recommendations finished on 162000/330575 queries. users per second: 20983.3"
                    }, 
                    "metadata": {}
                }, 
                {
                    "output_type": "display_data", 
                    "data": {
                        "text/html": "<pre>recommendations finished on 163000/330575 queries. users per second: 20955.9</pre>", 
                        "text/plain": "recommendations finished on 163000/330575 queries. users per second: 20955.9"
                    }, 
                    "metadata": {}
                }, 
                {
                    "output_type": "display_data", 
                    "data": {
                        "text/html": "<pre>recommendations finished on 164000/330575 queries. users per second: 21077</pre>", 
                        "text/plain": "recommendations finished on 164000/330575 queries. users per second: 21077"
                    }, 
                    "metadata": {}
                }, 
                {
                    "output_type": "display_data", 
                    "data": {
                        "text/html": "<pre>recommendations finished on 165000/330575 queries. users per second: 21150.6</pre>", 
                        "text/plain": "recommendations finished on 165000/330575 queries. users per second: 21150.6"
                    }, 
                    "metadata": {}
                }, 
                {
                    "output_type": "display_data", 
                    "data": {
                        "text/html": "<pre>recommendations finished on 166000/330575 queries. users per second: 21173.4</pre>", 
                        "text/plain": "recommendations finished on 166000/330575 queries. users per second: 21173.4"
                    }, 
                    "metadata": {}
                }, 
                {
                    "output_type": "display_data", 
                    "data": {
                        "text/html": "<pre>recommendations finished on 167000/330575 queries. users per second: 21191.7</pre>", 
                        "text/plain": "recommendations finished on 167000/330575 queries. users per second: 21191.7"
                    }, 
                    "metadata": {}
                }, 
                {
                    "output_type": "display_data", 
                    "data": {
                        "text/html": "<pre>recommendations finished on 168000/330575 queries. users per second: 21103.9</pre>", 
                        "text/plain": "recommendations finished on 168000/330575 queries. users per second: 21103.9"
                    }, 
                    "metadata": {}
                }, 
                {
                    "output_type": "display_data", 
                    "data": {
                        "text/html": "<pre>recommendations finished on 169000/330575 queries. users per second: 21128</pre>", 
                        "text/plain": "recommendations finished on 169000/330575 queries. users per second: 21128"
                    }, 
                    "metadata": {}
                }, 
                {
                    "output_type": "display_data", 
                    "data": {
                        "text/html": "<pre>recommendations finished on 170000/330575 queries. users per second: 21042.2</pre>", 
                        "text/plain": "recommendations finished on 170000/330575 queries. users per second: 21042.2"
                    }, 
                    "metadata": {}
                }, 
                {
                    "output_type": "display_data", 
                    "data": {
                        "text/html": "<pre>recommendations finished on 171000/330575 queries. users per second: 21010.2</pre>", 
                        "text/plain": "recommendations finished on 171000/330575 queries. users per second: 21010.2"
                    }, 
                    "metadata": {}
                }, 
                {
                    "output_type": "display_data", 
                    "data": {
                        "text/html": "<pre>recommendations finished on 172000/330575 queries. users per second: 20979.4</pre>", 
                        "text/plain": "recommendations finished on 172000/330575 queries. users per second: 20979.4"
                    }, 
                    "metadata": {}
                }, 
                {
                    "output_type": "display_data", 
                    "data": {
                        "text/html": "<pre>recommendations finished on 173000/330575 queries. users per second: 21049.3</pre>", 
                        "text/plain": "recommendations finished on 173000/330575 queries. users per second: 21049.3"
                    }, 
                    "metadata": {}
                }, 
                {
                    "output_type": "display_data", 
                    "data": {
                        "text/html": "<pre>recommendations finished on 174000/330575 queries. users per second: 21062</pre>", 
                        "text/plain": "recommendations finished on 174000/330575 queries. users per second: 21062"
                    }, 
                    "metadata": {}
                }, 
                {
                    "output_type": "display_data", 
                    "data": {
                        "text/html": "<pre>recommendations finished on 175000/330575 queries. users per second: 21131.7</pre>", 
                        "text/plain": "recommendations finished on 175000/330575 queries. users per second: 21131.7"
                    }, 
                    "metadata": {}
                }, 
                {
                    "output_type": "display_data", 
                    "data": {
                        "text/html": "<pre>recommendations finished on 176000/330575 queries. users per second: 21201.8</pre>", 
                        "text/plain": "recommendations finished on 176000/330575 queries. users per second: 21201.8"
                    }, 
                    "metadata": {}
                }, 
                {
                    "output_type": "display_data", 
                    "data": {
                        "text/html": "<pre>recommendations finished on 177000/330575 queries. users per second: 21216.7</pre>", 
                        "text/plain": "recommendations finished on 177000/330575 queries. users per second: 21216.7"
                    }, 
                    "metadata": {}
                }, 
                {
                    "output_type": "display_data", 
                    "data": {
                        "text/html": "<pre>recommendations finished on 178000/330575 queries. users per second: 21194.6</pre>", 
                        "text/plain": "recommendations finished on 178000/330575 queries. users per second: 21194.6"
                    }, 
                    "metadata": {}
                }, 
                {
                    "output_type": "display_data", 
                    "data": {
                        "text/html": "<pre>recommendations finished on 179000/330575 queries. users per second: 21062.5</pre>", 
                        "text/plain": "recommendations finished on 179000/330575 queries. users per second: 21062.5"
                    }, 
                    "metadata": {}
                }, 
                {
                    "output_type": "display_data", 
                    "data": {
                        "text/html": "<pre>recommendations finished on 180000/330575 queries. users per second: 21077.6</pre>", 
                        "text/plain": "recommendations finished on 180000/330575 queries. users per second: 21077.6"
                    }, 
                    "metadata": {}
                }, 
                {
                    "output_type": "display_data", 
                    "data": {
                        "text/html": "<pre>recommendations finished on 181000/330575 queries. users per second: 20999.3</pre>", 
                        "text/plain": "recommendations finished on 181000/330575 queries. users per second: 20999.3"
                    }, 
                    "metadata": {}
                }, 
                {
                    "output_type": "display_data", 
                    "data": {
                        "text/html": "<pre>recommendations finished on 182000/330575 queries. users per second: 20920.2</pre>", 
                        "text/plain": "recommendations finished on 182000/330575 queries. users per second: 20920.2"
                    }, 
                    "metadata": {}
                }, 
                {
                    "output_type": "display_data", 
                    "data": {
                        "text/html": "<pre>recommendations finished on 183000/330575 queries. users per second: 20893.5</pre>", 
                        "text/plain": "recommendations finished on 183000/330575 queries. users per second: 20893.5"
                    }, 
                    "metadata": {}
                }, 
                {
                    "output_type": "display_data", 
                    "data": {
                        "text/html": "<pre>recommendations finished on 184000/330575 queries. users per second: 21001.4</pre>", 
                        "text/plain": "recommendations finished on 184000/330575 queries. users per second: 21001.4"
                    }, 
                    "metadata": {}
                }, 
                {
                    "output_type": "display_data", 
                    "data": {
                        "text/html": "<pre>recommendations finished on 185000/330575 queries. users per second: 21025.7</pre>", 
                        "text/plain": "recommendations finished on 185000/330575 queries. users per second: 21025.7"
                    }, 
                    "metadata": {}
                }, 
                {
                    "output_type": "display_data", 
                    "data": {
                        "text/html": "<pre>recommendations finished on 186000/330575 queries. users per second: 21086.9</pre>", 
                        "text/plain": "recommendations finished on 186000/330575 queries. users per second: 21086.9"
                    }, 
                    "metadata": {}
                }, 
                {
                    "output_type": "display_data", 
                    "data": {
                        "text/html": "<pre>recommendations finished on 187000/330575 queries. users per second: 21106.7</pre>", 
                        "text/plain": "recommendations finished on 187000/330575 queries. users per second: 21106.7"
                    }, 
                    "metadata": {}
                }, 
                {
                    "output_type": "display_data", 
                    "data": {
                        "text/html": "<pre>recommendations finished on 188000/330575 queries. users per second: 21127.1</pre>", 
                        "text/plain": "recommendations finished on 188000/330575 queries. users per second: 21127.1"
                    }, 
                    "metadata": {}
                }, 
                {
                    "output_type": "display_data", 
                    "data": {
                        "text/html": "<pre>recommendations finished on 189000/330575 queries. users per second: 21144.3</pre>", 
                        "text/plain": "recommendations finished on 189000/330575 queries. users per second: 21144.3"
                    }, 
                    "metadata": {}
                }, 
                {
                    "output_type": "display_data", 
                    "data": {
                        "text/html": "<pre>recommendations finished on 190000/330575 queries. users per second: 21203.6</pre>", 
                        "text/plain": "recommendations finished on 190000/330575 queries. users per second: 21203.6"
                    }, 
                    "metadata": {}
                }, 
                {
                    "output_type": "display_data", 
                    "data": {
                        "text/html": "<pre>recommendations finished on 191000/330575 queries. users per second: 21222.8</pre>", 
                        "text/plain": "recommendations finished on 191000/330575 queries. users per second: 21222.8"
                    }, 
                    "metadata": {}
                }, 
                {
                    "output_type": "display_data", 
                    "data": {
                        "text/html": "<pre>recommendations finished on 192000/330575 queries. users per second: 21194.5</pre>", 
                        "text/plain": "recommendations finished on 192000/330575 queries. users per second: 21194.5"
                    }, 
                    "metadata": {}
                }, 
                {
                    "output_type": "display_data", 
                    "data": {
                        "text/html": "<pre>recommendations finished on 193000/330575 queries. users per second: 21212.5</pre>", 
                        "text/plain": "recommendations finished on 193000/330575 queries. users per second: 21212.5"
                    }, 
                    "metadata": {}
                }, 
                {
                    "output_type": "display_data", 
                    "data": {
                        "text/html": "<pre>recommendations finished on 194000/330575 queries. users per second: 21268.4</pre>", 
                        "text/plain": "recommendations finished on 194000/330575 queries. users per second: 21268.4"
                    }, 
                    "metadata": {}
                }, 
                {
                    "output_type": "display_data", 
                    "data": {
                        "text/html": "<pre>recommendations finished on 195000/330575 queries. users per second: 21244.9</pre>", 
                        "text/plain": "recommendations finished on 195000/330575 queries. users per second: 21244.9"
                    }, 
                    "metadata": {}
                }, 
                {
                    "output_type": "display_data", 
                    "data": {
                        "text/html": "<pre>recommendations finished on 196000/330575 queries. users per second: 21078.6</pre>", 
                        "text/plain": "recommendations finished on 196000/330575 queries. users per second: 21078.6"
                    }, 
                    "metadata": {}
                }, 
                {
                    "output_type": "display_data", 
                    "data": {
                        "text/html": "<pre>recommendations finished on 197000/330575 queries. users per second: 21094.4</pre>", 
                        "text/plain": "recommendations finished on 197000/330575 queries. users per second: 21094.4"
                    }, 
                    "metadata": {}
                }, 
                {
                    "output_type": "display_data", 
                    "data": {
                        "text/html": "<pre>recommendations finished on 198000/330575 queries. users per second: 21065.7</pre>", 
                        "text/plain": "recommendations finished on 198000/330575 queries. users per second: 21065.7"
                    }, 
                    "metadata": {}
                }, 
                {
                    "output_type": "display_data", 
                    "data": {
                        "text/html": "<pre>recommendations finished on 199000/330575 queries. users per second: 21124.9</pre>", 
                        "text/plain": "recommendations finished on 199000/330575 queries. users per second: 21124.9"
                    }, 
                    "metadata": {}
                }, 
                {
                    "output_type": "display_data", 
                    "data": {
                        "text/html": "<pre>recommendations finished on 200000/330575 queries. users per second: 21140.1</pre>", 
                        "text/plain": "recommendations finished on 200000/330575 queries. users per second: 21140.1"
                    }, 
                    "metadata": {}
                }, 
                {
                    "output_type": "display_data", 
                    "data": {
                        "text/html": "<pre>recommendations finished on 201000/330575 queries. users per second: 21028.3</pre>", 
                        "text/plain": "recommendations finished on 201000/330575 queries. users per second: 21028.3"
                    }, 
                    "metadata": {}
                }, 
                {
                    "output_type": "display_data", 
                    "data": {
                        "text/html": "<pre>recommendations finished on 202000/330575 queries. users per second: 21043.4</pre>", 
                        "text/plain": "recommendations finished on 202000/330575 queries. users per second: 21043.4"
                    }, 
                    "metadata": {}
                }, 
                {
                    "output_type": "display_data", 
                    "data": {
                        "text/html": "<pre>recommendations finished on 203000/330575 queries. users per second: 21058.8</pre>", 
                        "text/plain": "recommendations finished on 203000/330575 queries. users per second: 21058.8"
                    }, 
                    "metadata": {}
                }, 
                {
                    "output_type": "display_data", 
                    "data": {
                        "text/html": "<pre>recommendations finished on 204000/330575 queries. users per second: 21116</pre>", 
                        "text/plain": "recommendations finished on 204000/330575 queries. users per second: 21116"
                    }, 
                    "metadata": {}
                }, 
                {
                    "output_type": "display_data", 
                    "data": {
                        "text/html": "<pre>recommendations finished on 205000/330575 queries. users per second: 21094.7</pre>", 
                        "text/plain": "recommendations finished on 205000/330575 queries. users per second: 21094.7"
                    }, 
                    "metadata": {}
                }, 
                {
                    "output_type": "display_data", 
                    "data": {
                        "text/html": "<pre>recommendations finished on 206000/330575 queries. users per second: 21024.5</pre>", 
                        "text/plain": "recommendations finished on 206000/330575 queries. users per second: 21024.5"
                    }, 
                    "metadata": {}
                }, 
                {
                    "output_type": "display_data", 
                    "data": {
                        "text/html": "<pre>recommendations finished on 207000/330575 queries. users per second: 20782.7</pre>", 
                        "text/plain": "recommendations finished on 207000/330575 queries. users per second: 20782.7"
                    }, 
                    "metadata": {}
                }, 
                {
                    "output_type": "display_data", 
                    "data": {
                        "text/html": "<pre>recommendations finished on 208000/330575 queries. users per second: 20799.7</pre>", 
                        "text/plain": "recommendations finished on 208000/330575 queries. users per second: 20799.7"
                    }, 
                    "metadata": {}
                }, 
                {
                    "output_type": "display_data", 
                    "data": {
                        "text/html": "<pre>recommendations finished on 209000/330575 queries. users per second: 20736.6</pre>", 
                        "text/plain": "recommendations finished on 209000/330575 queries. users per second: 20736.6"
                    }, 
                    "metadata": {}
                }, 
                {
                    "output_type": "display_data", 
                    "data": {
                        "text/html": "<pre>recommendations finished on 210000/330575 queries. users per second: 20752.3</pre>", 
                        "text/plain": "recommendations finished on 210000/330575 queries. users per second: 20752.3"
                    }, 
                    "metadata": {}
                }, 
                {
                    "output_type": "display_data", 
                    "data": {
                        "text/html": "<pre>recommendations finished on 211000/330575 queries. users per second: 20808.6</pre>", 
                        "text/plain": "recommendations finished on 211000/330575 queries. users per second: 20808.6"
                    }, 
                    "metadata": {}
                }, 
                {
                    "output_type": "display_data", 
                    "data": {
                        "text/html": "<pre>recommendations finished on 212000/330575 queries. users per second: 20865.5</pre>", 
                        "text/plain": "recommendations finished on 212000/330575 queries. users per second: 20865.5"
                    }, 
                    "metadata": {}
                }, 
                {
                    "output_type": "display_data", 
                    "data": {
                        "text/html": "<pre>recommendations finished on 213000/330575 queries. users per second: 20800.7</pre>", 
                        "text/plain": "recommendations finished on 213000/330575 queries. users per second: 20800.7"
                    }, 
                    "metadata": {}
                }, 
                {
                    "output_type": "display_data", 
                    "data": {
                        "text/html": "<pre>recommendations finished on 214000/330575 queries. users per second: 20816.8</pre>", 
                        "text/plain": "recommendations finished on 214000/330575 queries. users per second: 20816.8"
                    }, 
                    "metadata": {}
                }, 
                {
                    "output_type": "display_data", 
                    "data": {
                        "text/html": "<pre>recommendations finished on 215000/330575 queries. users per second: 20795.4</pre>", 
                        "text/plain": "recommendations finished on 215000/330575 queries. users per second: 20795.4"
                    }, 
                    "metadata": {}
                }, 
                {
                    "output_type": "display_data", 
                    "data": {
                        "text/html": "<pre>recommendations finished on 216000/330575 queries. users per second: 20769.4</pre>", 
                        "text/plain": "recommendations finished on 216000/330575 queries. users per second: 20769.4"
                    }, 
                    "metadata": {}
                }, 
                {
                    "output_type": "display_data", 
                    "data": {
                        "text/html": "<pre>recommendations finished on 217000/330575 queries. users per second: 20745.9</pre>", 
                        "text/plain": "recommendations finished on 217000/330575 queries. users per second: 20745.9"
                    }, 
                    "metadata": {}
                }, 
                {
                    "output_type": "display_data", 
                    "data": {
                        "text/html": "<pre>recommendations finished on 218000/330575 queries. users per second: 20724</pre>", 
                        "text/plain": "recommendations finished on 218000/330575 queries. users per second: 20724"
                    }, 
                    "metadata": {}
                }, 
                {
                    "output_type": "display_data", 
                    "data": {
                        "text/html": "<pre>recommendations finished on 219000/330575 queries. users per second: 20737.1</pre>", 
                        "text/plain": "recommendations finished on 219000/330575 queries. users per second: 20737.1"
                    }, 
                    "metadata": {}
                }, 
                {
                    "output_type": "display_data", 
                    "data": {
                        "text/html": "<pre>recommendations finished on 220000/330575 queries. users per second: 20754.3</pre>", 
                        "text/plain": "recommendations finished on 220000/330575 queries. users per second: 20754.3"
                    }, 
                    "metadata": {}
                }, 
                {
                    "output_type": "display_data", 
                    "data": {
                        "text/html": "<pre>recommendations finished on 221000/330575 queries. users per second: 20813.7</pre>", 
                        "text/plain": "recommendations finished on 221000/330575 queries. users per second: 20813.7"
                    }, 
                    "metadata": {}
                }, 
                {
                    "output_type": "display_data", 
                    "data": {
                        "text/html": "<pre>recommendations finished on 222000/330575 queries. users per second: 20749.7</pre>", 
                        "text/plain": "recommendations finished on 222000/330575 queries. users per second: 20749.7"
                    }, 
                    "metadata": {}
                }, 
                {
                    "output_type": "display_data", 
                    "data": {
                        "text/html": "<pre>recommendations finished on 223000/330575 queries. users per second: 20839</pre>", 
                        "text/plain": "recommendations finished on 223000/330575 queries. users per second: 20839"
                    }, 
                    "metadata": {}
                }, 
                {
                    "output_type": "display_data", 
                    "data": {
                        "text/html": "<pre>recommendations finished on 224000/330575 queries. users per second: 20859.2</pre>", 
                        "text/plain": "recommendations finished on 224000/330575 queries. users per second: 20859.2"
                    }, 
                    "metadata": {}
                }, 
                {
                    "output_type": "display_data", 
                    "data": {
                        "text/html": "<pre>recommendations finished on 225000/330575 queries. users per second: 20908</pre>", 
                        "text/plain": "recommendations finished on 225000/330575 queries. users per second: 20908"
                    }, 
                    "metadata": {}
                }, 
                {
                    "output_type": "display_data", 
                    "data": {
                        "text/html": "<pre>recommendations finished on 226000/330575 queries. users per second: 20890.8</pre>", 
                        "text/plain": "recommendations finished on 226000/330575 queries. users per second: 20890.8"
                    }, 
                    "metadata": {}
                }, 
                {
                    "output_type": "display_data", 
                    "data": {
                        "text/html": "<pre>recommendations finished on 227000/330575 queries. users per second: 20902.4</pre>", 
                        "text/plain": "recommendations finished on 227000/330575 queries. users per second: 20902.4"
                    }, 
                    "metadata": {}
                }, 
                {
                    "output_type": "display_data", 
                    "data": {
                        "text/html": "<pre>recommendations finished on 228000/330575 queries. users per second: 20841.3</pre>", 
                        "text/plain": "recommendations finished on 228000/330575 queries. users per second: 20841.3"
                    }, 
                    "metadata": {}
                }, 
                {
                    "output_type": "display_data", 
                    "data": {
                        "text/html": "<pre>recommendations finished on 229000/330575 queries. users per second: 20821.5</pre>", 
                        "text/plain": "recommendations finished on 229000/330575 queries. users per second: 20821.5"
                    }, 
                    "metadata": {}
                }, 
                {
                    "output_type": "display_data", 
                    "data": {
                        "text/html": "<pre>recommendations finished on 230000/330575 queries. users per second: 20798.7</pre>", 
                        "text/plain": "recommendations finished on 230000/330575 queries. users per second: 20798.7"
                    }, 
                    "metadata": {}
                }, 
                {
                    "output_type": "display_data", 
                    "data": {
                        "text/html": "<pre>recommendations finished on 231000/330575 queries. users per second: 20812.7</pre>", 
                        "text/plain": "recommendations finished on 231000/330575 queries. users per second: 20812.7"
                    }, 
                    "metadata": {}
                }, 
                {
                    "output_type": "display_data", 
                    "data": {
                        "text/html": "<pre>recommendations finished on 232000/330575 queries. users per second: 20864.9</pre>", 
                        "text/plain": "recommendations finished on 232000/330575 queries. users per second: 20864.9"
                    }, 
                    "metadata": {}
                }, 
                {
                    "output_type": "display_data", 
                    "data": {
                        "text/html": "<pre>recommendations finished on 233000/330575 queries. users per second: 20916.1</pre>", 
                        "text/plain": "recommendations finished on 233000/330575 queries. users per second: 20916.1"
                    }, 
                    "metadata": {}
                }, 
                {
                    "output_type": "display_data", 
                    "data": {
                        "text/html": "<pre>recommendations finished on 234000/330575 queries. users per second: 20968.2</pre>", 
                        "text/plain": "recommendations finished on 234000/330575 queries. users per second: 20968.2"
                    }, 
                    "metadata": {}
                }, 
                {
                    "output_type": "display_data", 
                    "data": {
                        "text/html": "<pre>recommendations finished on 235000/330575 queries. users per second: 20873.4</pre>", 
                        "text/plain": "recommendations finished on 235000/330575 queries. users per second: 20873.4"
                    }, 
                    "metadata": {}
                }, 
                {
                    "output_type": "display_data", 
                    "data": {
                        "text/html": "<pre>recommendations finished on 236000/330575 queries. users per second: 20923.8</pre>", 
                        "text/plain": "recommendations finished on 236000/330575 queries. users per second: 20923.8"
                    }, 
                    "metadata": {}
                }, 
                {
                    "output_type": "display_data", 
                    "data": {
                        "text/html": "<pre>recommendations finished on 237000/330575 queries. users per second: 20893.9</pre>", 
                        "text/plain": "recommendations finished on 237000/330575 queries. users per second: 20893.9"
                    }, 
                    "metadata": {}
                }, 
                {
                    "output_type": "display_data", 
                    "data": {
                        "text/html": "<pre>recommendations finished on 238000/330575 queries. users per second: 20977.8</pre>", 
                        "text/plain": "recommendations finished on 238000/330575 queries. users per second: 20977.8"
                    }, 
                    "metadata": {}
                }, 
                {
                    "output_type": "display_data", 
                    "data": {
                        "text/html": "<pre>recommendations finished on 239000/330575 queries. users per second: 21003</pre>", 
                        "text/plain": "recommendations finished on 239000/330575 queries. users per second: 21003"
                    }, 
                    "metadata": {}
                }, 
                {
                    "output_type": "display_data", 
                    "data": {
                        "text/html": "<pre>recommendations finished on 240000/330575 queries. users per second: 20871.6</pre>", 
                        "text/plain": "recommendations finished on 240000/330575 queries. users per second: 20871.6"
                    }, 
                    "metadata": {}
                }, 
                {
                    "output_type": "display_data", 
                    "data": {
                        "text/html": "<pre>recommendations finished on 241000/330575 queries. users per second: 20847.6</pre>", 
                        "text/plain": "recommendations finished on 241000/330575 queries. users per second: 20847.6"
                    }, 
                    "metadata": {}
                }, 
                {
                    "output_type": "display_data", 
                    "data": {
                        "text/html": "<pre>recommendations finished on 242000/330575 queries. users per second: 20862.2</pre>", 
                        "text/plain": "recommendations finished on 242000/330575 queries. users per second: 20862.2"
                    }, 
                    "metadata": {}
                }, 
                {
                    "output_type": "display_data", 
                    "data": {
                        "text/html": "<pre>recommendations finished on 243000/330575 queries. users per second: 20879.8</pre>", 
                        "text/plain": "recommendations finished on 243000/330575 queries. users per second: 20879.8"
                    }, 
                    "metadata": {}
                }, 
                {
                    "output_type": "display_data", 
                    "data": {
                        "text/html": "<pre>recommendations finished on 244000/330575 queries. users per second: 20821.7</pre>", 
                        "text/plain": "recommendations finished on 244000/330575 queries. users per second: 20821.7"
                    }, 
                    "metadata": {}
                }, 
                {
                    "output_type": "display_data", 
                    "data": {
                        "text/html": "<pre>recommendations finished on 245000/330575 queries. users per second: 20834.1</pre>", 
                        "text/plain": "recommendations finished on 245000/330575 queries. users per second: 20834.1"
                    }, 
                    "metadata": {}
                }, 
                {
                    "output_type": "display_data", 
                    "data": {
                        "text/html": "<pre>recommendations finished on 246000/330575 queries. users per second: 20846</pre>", 
                        "text/plain": "recommendations finished on 246000/330575 queries. users per second: 20846"
                    }, 
                    "metadata": {}
                }, 
                {
                    "output_type": "display_data", 
                    "data": {
                        "text/html": "<pre>recommendations finished on 247000/330575 queries. users per second: 20859.2</pre>", 
                        "text/plain": "recommendations finished on 247000/330575 queries. users per second: 20859.2"
                    }, 
                    "metadata": {}
                }, 
                {
                    "output_type": "display_data", 
                    "data": {
                        "text/html": "<pre>recommendations finished on 248000/330575 queries. users per second: 20909.3</pre>", 
                        "text/plain": "recommendations finished on 248000/330575 queries. users per second: 20909.3"
                    }, 
                    "metadata": {}
                }, 
                {
                    "output_type": "display_data", 
                    "data": {
                        "text/html": "<pre>recommendations finished on 249000/330575 queries. users per second: 20957.4</pre>", 
                        "text/plain": "recommendations finished on 249000/330575 queries. users per second: 20957.4"
                    }, 
                    "metadata": {}
                }, 
                {
                    "output_type": "display_data", 
                    "data": {
                        "text/html": "<pre>recommendations finished on 250000/330575 queries. users per second: 20975.4</pre>", 
                        "text/plain": "recommendations finished on 250000/330575 queries. users per second: 20975.4"
                    }, 
                    "metadata": {}
                }, 
                {
                    "output_type": "display_data", 
                    "data": {
                        "text/html": "<pre>recommendations finished on 251000/330575 queries. users per second: 20989.4</pre>", 
                        "text/plain": "recommendations finished on 251000/330575 queries. users per second: 20989.4"
                    }, 
                    "metadata": {}
                }, 
                {
                    "output_type": "display_data", 
                    "data": {
                        "text/html": "<pre>recommendations finished on 252000/330575 queries. users per second: 21000.9</pre>", 
                        "text/plain": "recommendations finished on 252000/330575 queries. users per second: 21000.9"
                    }, 
                    "metadata": {}
                }, 
                {
                    "output_type": "display_data", 
                    "data": {
                        "text/html": "<pre>recommendations finished on 253000/330575 queries. users per second: 20946.5</pre>", 
                        "text/plain": "recommendations finished on 253000/330575 queries. users per second: 20946.5"
                    }, 
                    "metadata": {}
                }, 
                {
                    "output_type": "display_data", 
                    "data": {
                        "text/html": "<pre>recommendations finished on 254000/330575 queries. users per second: 21025.3</pre>", 
                        "text/plain": "recommendations finished on 254000/330575 queries. users per second: 21025.3"
                    }, 
                    "metadata": {}
                }, 
                {
                    "output_type": "display_data", 
                    "data": {
                        "text/html": "<pre>recommendations finished on 255000/330575 queries. users per second: 21077</pre>", 
                        "text/plain": "recommendations finished on 255000/330575 queries. users per second: 21077"
                    }, 
                    "metadata": {}
                }, 
                {
                    "output_type": "display_data", 
                    "data": {
                        "text/html": "<pre>recommendations finished on 256000/330575 queries. users per second: 21053.4</pre>", 
                        "text/plain": "recommendations finished on 256000/330575 queries. users per second: 21053.4"
                    }, 
                    "metadata": {}
                }, 
                {
                    "output_type": "display_data", 
                    "data": {
                        "text/html": "<pre>recommendations finished on 257000/330575 queries. users per second: 20999.3</pre>", 
                        "text/plain": "recommendations finished on 257000/330575 queries. users per second: 20999.3"
                    }, 
                    "metadata": {}
                }, 
                {
                    "output_type": "display_data", 
                    "data": {
                        "text/html": "<pre>recommendations finished on 258000/330575 queries. users per second: 21040.8</pre>", 
                        "text/plain": "recommendations finished on 258000/330575 queries. users per second: 21040.8"
                    }, 
                    "metadata": {}
                }, 
                {
                    "output_type": "display_data", 
                    "data": {
                        "text/html": "<pre>recommendations finished on 259000/330575 queries. users per second: 21093.8</pre>", 
                        "text/plain": "recommendations finished on 259000/330575 queries. users per second: 21093.8"
                    }, 
                    "metadata": {}
                }, 
                {
                    "output_type": "display_data", 
                    "data": {
                        "text/html": "<pre>recommendations finished on 260000/330575 queries. users per second: 21141.8</pre>", 
                        "text/plain": "recommendations finished on 260000/330575 queries. users per second: 21141.8"
                    }, 
                    "metadata": {}
                }, 
                {
                    "output_type": "display_data", 
                    "data": {
                        "text/html": "<pre>recommendations finished on 261000/330575 queries. users per second: 21183.7</pre>", 
                        "text/plain": "recommendations finished on 261000/330575 queries. users per second: 21183.7"
                    }, 
                    "metadata": {}
                }, 
                {
                    "output_type": "display_data", 
                    "data": {
                        "text/html": "<pre>recommendations finished on 262000/330575 queries. users per second: 21166.3</pre>", 
                        "text/plain": "recommendations finished on 262000/330575 queries. users per second: 21166.3"
                    }, 
                    "metadata": {}
                }, 
                {
                    "output_type": "display_data", 
                    "data": {
                        "text/html": "<pre>recommendations finished on 263000/330575 queries. users per second: 21178.6</pre>", 
                        "text/plain": "recommendations finished on 263000/330575 queries. users per second: 21178.6"
                    }, 
                    "metadata": {}
                }, 
                {
                    "output_type": "display_data", 
                    "data": {
                        "text/html": "<pre>recommendations finished on 264000/330575 queries. users per second: 21220.9</pre>", 
                        "text/plain": "recommendations finished on 264000/330575 queries. users per second: 21220.9"
                    }, 
                    "metadata": {}
                }, 
                {
                    "output_type": "display_data", 
                    "data": {
                        "text/html": "<pre>recommendations finished on 265000/330575 queries. users per second: 21135</pre>", 
                        "text/plain": "recommendations finished on 265000/330575 queries. users per second: 21135"
                    }, 
                    "metadata": {}
                }, 
                {
                    "output_type": "display_data", 
                    "data": {
                        "text/html": "<pre>recommendations finished on 266000/330575 queries. users per second: 21211</pre>", 
                        "text/plain": "recommendations finished on 266000/330575 queries. users per second: 21211"
                    }, 
                    "metadata": {}
                }, 
                {
                    "output_type": "display_data", 
                    "data": {
                        "text/html": "<pre>recommendations finished on 267000/330575 queries. users per second: 21261.2</pre>", 
                        "text/plain": "recommendations finished on 267000/330575 queries. users per second: 21261.2"
                    }, 
                    "metadata": {}
                }, 
                {
                    "output_type": "display_data", 
                    "data": {
                        "text/html": "<pre>recommendations finished on 268000/330575 queries. users per second: 21238.8</pre>", 
                        "text/plain": "recommendations finished on 268000/330575 queries. users per second: 21238.8"
                    }, 
                    "metadata": {}
                }, 
                {
                    "output_type": "display_data", 
                    "data": {
                        "text/html": "<pre>recommendations finished on 269000/330575 queries. users per second: 21183.9</pre>", 
                        "text/plain": "recommendations finished on 269000/330575 queries. users per second: 21183.9"
                    }, 
                    "metadata": {}
                }, 
                {
                    "output_type": "display_data", 
                    "data": {
                        "text/html": "<pre>recommendations finished on 270000/330575 queries. users per second: 21256.7</pre>", 
                        "text/plain": "recommendations finished on 270000/330575 queries. users per second: 21256.7"
                    }, 
                    "metadata": {}
                }, 
                {
                    "output_type": "display_data", 
                    "data": {
                        "text/html": "<pre>recommendations finished on 271000/330575 queries. users per second: 21304.3</pre>", 
                        "text/plain": "recommendations finished on 271000/330575 queries. users per second: 21304.3"
                    }, 
                    "metadata": {}
                }, 
                {
                    "output_type": "display_data", 
                    "data": {
                        "text/html": "<pre>recommendations finished on 272000/330575 queries. users per second: 21319.4</pre>", 
                        "text/plain": "recommendations finished on 272000/330575 queries. users per second: 21319.4"
                    }, 
                    "metadata": {}
                }, 
                {
                    "output_type": "display_data", 
                    "data": {
                        "text/html": "<pre>recommendations finished on 273000/330575 queries. users per second: 21331.1</pre>", 
                        "text/plain": "recommendations finished on 273000/330575 queries. users per second: 21331.1"
                    }, 
                    "metadata": {}
                }, 
                {
                    "output_type": "display_data", 
                    "data": {
                        "text/html": "<pre>recommendations finished on 274000/330575 queries. users per second: 21341.2</pre>", 
                        "text/plain": "recommendations finished on 274000/330575 queries. users per second: 21341.2"
                    }, 
                    "metadata": {}
                }, 
                {
                    "output_type": "display_data", 
                    "data": {
                        "text/html": "<pre>recommendations finished on 275000/330575 queries. users per second: 21351.2</pre>", 
                        "text/plain": "recommendations finished on 275000/330575 queries. users per second: 21351.2"
                    }, 
                    "metadata": {}
                }, 
                {
                    "output_type": "display_data", 
                    "data": {
                        "text/html": "<pre>recommendations finished on 276000/330575 queries. users per second: 21360.8</pre>", 
                        "text/plain": "recommendations finished on 276000/330575 queries. users per second: 21360.8"
                    }, 
                    "metadata": {}
                }, 
                {
                    "output_type": "display_data", 
                    "data": {
                        "text/html": "<pre>recommendations finished on 277000/330575 queries. users per second: 21342.9</pre>", 
                        "text/plain": "recommendations finished on 277000/330575 queries. users per second: 21342.9"
                    }, 
                    "metadata": {}
                }, 
                {
                    "output_type": "display_data", 
                    "data": {
                        "text/html": "<pre>recommendations finished on 278000/330575 queries. users per second: 21355.1</pre>", 
                        "text/plain": "recommendations finished on 278000/330575 queries. users per second: 21355.1"
                    }, 
                    "metadata": {}
                }, 
                {
                    "output_type": "display_data", 
                    "data": {
                        "text/html": "<pre>recommendations finished on 279000/330575 queries. users per second: 21362.6</pre>", 
                        "text/plain": "recommendations finished on 279000/330575 queries. users per second: 21362.6"
                    }, 
                    "metadata": {}
                }, 
                {
                    "output_type": "display_data", 
                    "data": {
                        "text/html": "<pre>recommendations finished on 280000/330575 queries. users per second: 21374.7</pre>", 
                        "text/plain": "recommendations finished on 280000/330575 queries. users per second: 21374.7"
                    }, 
                    "metadata": {}
                }, 
                {
                    "output_type": "display_data", 
                    "data": {
                        "text/html": "<pre>recommendations finished on 281000/330575 queries. users per second: 21384.4</pre>", 
                        "text/plain": "recommendations finished on 281000/330575 queries. users per second: 21384.4"
                    }, 
                    "metadata": {}
                }, 
                {
                    "output_type": "display_data", 
                    "data": {
                        "text/html": "<pre>recommendations finished on 282000/330575 queries. users per second: 21366.4</pre>", 
                        "text/plain": "recommendations finished on 282000/330575 queries. users per second: 21366.4"
                    }, 
                    "metadata": {}
                }, 
                {
                    "output_type": "display_data", 
                    "data": {
                        "text/html": "<pre>recommendations finished on 283000/330575 queries. users per second: 21311.5</pre>", 
                        "text/plain": "recommendations finished on 283000/330575 queries. users per second: 21311.5"
                    }, 
                    "metadata": {}
                }, 
                {
                    "output_type": "display_data", 
                    "data": {
                        "text/html": "<pre>recommendations finished on 284000/330575 queries. users per second: 21354.7</pre>", 
                        "text/plain": "recommendations finished on 284000/330575 queries. users per second: 21354.7"
                    }, 
                    "metadata": {}
                }, 
                {
                    "output_type": "display_data", 
                    "data": {
                        "text/html": "<pre>recommendations finished on 285000/330575 queries. users per second: 21331.4</pre>", 
                        "text/plain": "recommendations finished on 285000/330575 queries. users per second: 21331.4"
                    }, 
                    "metadata": {}
                }, 
                {
                    "output_type": "display_data", 
                    "data": {
                        "text/html": "<pre>recommendations finished on 286000/330575 queries. users per second: 21312.4</pre>", 
                        "text/plain": "recommendations finished on 286000/330575 queries. users per second: 21312.4"
                    }, 
                    "metadata": {}
                }, 
                {
                    "output_type": "display_data", 
                    "data": {
                        "text/html": "<pre>recommendations finished on 287000/330575 queries. users per second: 21356</pre>", 
                        "text/plain": "recommendations finished on 287000/330575 queries. users per second: 21356"
                    }, 
                    "metadata": {}
                }, 
                {
                    "output_type": "display_data", 
                    "data": {
                        "text/html": "<pre>recommendations finished on 288000/330575 queries. users per second: 21396.2</pre>", 
                        "text/plain": "recommendations finished on 288000/330575 queries. users per second: 21396.2"
                    }, 
                    "metadata": {}
                }, 
                {
                    "output_type": "display_data", 
                    "data": {
                        "text/html": "<pre>recommendations finished on 289000/330575 queries. users per second: 21409.4</pre>", 
                        "text/plain": "recommendations finished on 289000/330575 queries. users per second: 21409.4"
                    }, 
                    "metadata": {}
                }, 
                {
                    "output_type": "display_data", 
                    "data": {
                        "text/html": "<pre>recommendations finished on 290000/330575 queries. users per second: 21447.9</pre>", 
                        "text/plain": "recommendations finished on 290000/330575 queries. users per second: 21447.9"
                    }, 
                    "metadata": {}
                }, 
                {
                    "output_type": "display_data", 
                    "data": {
                        "text/html": "<pre>recommendations finished on 291000/330575 queries. users per second: 21458.2</pre>", 
                        "text/plain": "recommendations finished on 291000/330575 queries. users per second: 21458.2"
                    }, 
                    "metadata": {}
                }, 
                {
                    "output_type": "display_data", 
                    "data": {
                        "text/html": "<pre>recommendations finished on 292000/330575 queries. users per second: 21441.4</pre>", 
                        "text/plain": "recommendations finished on 292000/330575 queries. users per second: 21441.4"
                    }, 
                    "metadata": {}
                }, 
                {
                    "output_type": "display_data", 
                    "data": {
                        "text/html": "<pre>recommendations finished on 293000/330575 queries. users per second: 21451.9</pre>", 
                        "text/plain": "recommendations finished on 293000/330575 queries. users per second: 21451.9"
                    }, 
                    "metadata": {}
                }, 
                {
                    "output_type": "display_data", 
                    "data": {
                        "text/html": "<pre>recommendations finished on 294000/330575 queries. users per second: 21461.4</pre>", 
                        "text/plain": "recommendations finished on 294000/330575 queries. users per second: 21461.4"
                    }, 
                    "metadata": {}
                }, 
                {
                    "output_type": "display_data", 
                    "data": {
                        "text/html": "<pre>recommendations finished on 295000/330575 queries. users per second: 21472.2</pre>", 
                        "text/plain": "recommendations finished on 295000/330575 queries. users per second: 21472.2"
                    }, 
                    "metadata": {}
                }, 
                {
                    "output_type": "display_data", 
                    "data": {
                        "text/html": "<pre>recommendations finished on 296000/330575 queries. users per second: 21481.9</pre>", 
                        "text/plain": "recommendations finished on 296000/330575 queries. users per second: 21481.9"
                    }, 
                    "metadata": {}
                }, 
                {
                    "output_type": "display_data", 
                    "data": {
                        "text/html": "<pre>recommendations finished on 297000/330575 queries. users per second: 21491.1</pre>", 
                        "text/plain": "recommendations finished on 297000/330575 queries. users per second: 21491.1"
                    }, 
                    "metadata": {}
                }, 
                {
                    "output_type": "display_data", 
                    "data": {
                        "text/html": "<pre>recommendations finished on 298000/330575 queries. users per second: 21500.2</pre>", 
                        "text/plain": "recommendations finished on 298000/330575 queries. users per second: 21500.2"
                    }, 
                    "metadata": {}
                }, 
                {
                    "output_type": "display_data", 
                    "data": {
                        "text/html": "<pre>recommendations finished on 299000/330575 queries. users per second: 21508.5</pre>", 
                        "text/plain": "recommendations finished on 299000/330575 queries. users per second: 21508.5"
                    }, 
                    "metadata": {}
                }, 
                {
                    "output_type": "display_data", 
                    "data": {
                        "text/html": "<pre>recommendations finished on 300000/330575 queries. users per second: 21520.2</pre>", 
                        "text/plain": "recommendations finished on 300000/330575 queries. users per second: 21520.2"
                    }, 
                    "metadata": {}
                }, 
                {
                    "output_type": "display_data", 
                    "data": {
                        "text/html": "<pre>recommendations finished on 301000/330575 queries. users per second: 21502.4</pre>", 
                        "text/plain": "recommendations finished on 301000/330575 queries. users per second: 21502.4"
                    }, 
                    "metadata": {}
                }, 
                {
                    "output_type": "display_data", 
                    "data": {
                        "text/html": "<pre>recommendations finished on 302000/330575 queries. users per second: 21538</pre>", 
                        "text/plain": "recommendations finished on 302000/330575 queries. users per second: 21538"
                    }, 
                    "metadata": {}
                }, 
                {
                    "output_type": "display_data", 
                    "data": {
                        "text/html": "<pre>recommendations finished on 303000/330575 queries. users per second: 21522.7</pre>", 
                        "text/plain": "recommendations finished on 303000/330575 queries. users per second: 21522.7"
                    }, 
                    "metadata": {}
                }, 
                {
                    "output_type": "display_data", 
                    "data": {
                        "text/html": "<pre>recommendations finished on 304000/330575 queries. users per second: 21532.8</pre>", 
                        "text/plain": "recommendations finished on 304000/330575 queries. users per second: 21532.8"
                    }, 
                    "metadata": {}
                }, 
                {
                    "output_type": "display_data", 
                    "data": {
                        "text/html": "<pre>recommendations finished on 305000/330575 queries. users per second: 21539.8</pre>", 
                        "text/plain": "recommendations finished on 305000/330575 queries. users per second: 21539.8"
                    }, 
                    "metadata": {}
                }, 
                {
                    "output_type": "display_data", 
                    "data": {
                        "text/html": "<pre>recommendations finished on 306000/330575 queries. users per second: 21519.4</pre>", 
                        "text/plain": "recommendations finished on 306000/330575 queries. users per second: 21519.4"
                    }, 
                    "metadata": {}
                }, 
                {
                    "output_type": "display_data", 
                    "data": {
                        "text/html": "<pre>recommendations finished on 307000/330575 queries. users per second: 21530</pre>", 
                        "text/plain": "recommendations finished on 307000/330575 queries. users per second: 21530"
                    }, 
                    "metadata": {}
                }, 
                {
                    "output_type": "display_data", 
                    "data": {
                        "text/html": "<pre>recommendations finished on 308000/330575 queries. users per second: 21538.4</pre>", 
                        "text/plain": "recommendations finished on 308000/330575 queries. users per second: 21538.4"
                    }, 
                    "metadata": {}
                }, 
                {
                    "output_type": "display_data", 
                    "data": {
                        "text/html": "<pre>recommendations finished on 309000/330575 queries. users per second: 21546.2</pre>", 
                        "text/plain": "recommendations finished on 309000/330575 queries. users per second: 21546.2"
                    }, 
                    "metadata": {}
                }, 
                {
                    "output_type": "display_data", 
                    "data": {
                        "text/html": "<pre>recommendations finished on 310000/330575 queries. users per second: 21529.7</pre>", 
                        "text/plain": "recommendations finished on 310000/330575 queries. users per second: 21529.7"
                    }, 
                    "metadata": {}
                }, 
                {
                    "output_type": "display_data", 
                    "data": {
                        "text/html": "<pre>recommendations finished on 311000/330575 queries. users per second: 21507.9</pre>", 
                        "text/plain": "recommendations finished on 311000/330575 queries. users per second: 21507.9"
                    }, 
                    "metadata": {}
                }, 
                {
                    "output_type": "display_data", 
                    "data": {
                        "text/html": "<pre>recommendations finished on 312000/330575 queries. users per second: 21515.3</pre>", 
                        "text/plain": "recommendations finished on 312000/330575 queries. users per second: 21515.3"
                    }, 
                    "metadata": {}
                }, 
                {
                    "output_type": "display_data", 
                    "data": {
                        "text/html": "<pre>recommendations finished on 313000/330575 queries. users per second: 21496</pre>", 
                        "text/plain": "recommendations finished on 313000/330575 queries. users per second: 21496"
                    }, 
                    "metadata": {}
                }, 
                {
                    "output_type": "display_data", 
                    "data": {
                        "text/html": "<pre>recommendations finished on 314000/330575 queries. users per second: 21479.5</pre>", 
                        "text/plain": "recommendations finished on 314000/330575 queries. users per second: 21479.5"
                    }, 
                    "metadata": {}
                }, 
                {
                    "output_type": "display_data", 
                    "data": {
                        "text/html": "<pre>recommendations finished on 315000/330575 queries. users per second: 21489.6</pre>", 
                        "text/plain": "recommendations finished on 315000/330575 queries. users per second: 21489.6"
                    }, 
                    "metadata": {}
                }, 
                {
                    "output_type": "display_data", 
                    "data": {
                        "text/html": "<pre>recommendations finished on 316000/330575 queries. users per second: 21497.8</pre>", 
                        "text/plain": "recommendations finished on 316000/330575 queries. users per second: 21497.8"
                    }, 
                    "metadata": {}
                }, 
                {
                    "output_type": "display_data", 
                    "data": {
                        "text/html": "<pre>recommendations finished on 317000/330575 queries. users per second: 21479</pre>", 
                        "text/plain": "recommendations finished on 317000/330575 queries. users per second: 21479"
                    }, 
                    "metadata": {}
                }, 
                {
                    "output_type": "display_data", 
                    "data": {
                        "text/html": "<pre>recommendations finished on 318000/330575 queries. users per second: 21485.9</pre>", 
                        "text/plain": "recommendations finished on 318000/330575 queries. users per second: 21485.9"
                    }, 
                    "metadata": {}
                }, 
                {
                    "output_type": "display_data", 
                    "data": {
                        "text/html": "<pre>recommendations finished on 319000/330575 queries. users per second: 21497.2</pre>", 
                        "text/plain": "recommendations finished on 319000/330575 queries. users per second: 21497.2"
                    }, 
                    "metadata": {}
                }, 
                {
                    "output_type": "display_data", 
                    "data": {
                        "text/html": "<pre>recommendations finished on 320000/330575 queries. users per second: 21507.5</pre>", 
                        "text/plain": "recommendations finished on 320000/330575 queries. users per second: 21507.5"
                    }, 
                    "metadata": {}
                }, 
                {
                    "output_type": "display_data", 
                    "data": {
                        "text/html": "<pre>recommendations finished on 321000/330575 queries. users per second: 21538.9</pre>", 
                        "text/plain": "recommendations finished on 321000/330575 queries. users per second: 21538.9"
                    }, 
                    "metadata": {}
                }, 
                {
                    "output_type": "display_data", 
                    "data": {
                        "text/html": "<pre>recommendations finished on 322000/330575 queries. users per second: 21525.4</pre>", 
                        "text/plain": "recommendations finished on 322000/330575 queries. users per second: 21525.4"
                    }, 
                    "metadata": {}
                }, 
                {
                    "output_type": "display_data", 
                    "data": {
                        "text/html": "<pre>recommendations finished on 323000/330575 queries. users per second: 21560.1</pre>", 
                        "text/plain": "recommendations finished on 323000/330575 queries. users per second: 21560.1"
                    }, 
                    "metadata": {}
                }, 
                {
                    "output_type": "display_data", 
                    "data": {
                        "text/html": "<pre>recommendations finished on 324000/330575 queries. users per second: 21569</pre>", 
                        "text/plain": "recommendations finished on 324000/330575 queries. users per second: 21569"
                    }, 
                    "metadata": {}
                }, 
                {
                    "output_type": "display_data", 
                    "data": {
                        "text/html": "<pre>recommendations finished on 325000/330575 queries. users per second: 21580.4</pre>", 
                        "text/plain": "recommendations finished on 325000/330575 queries. users per second: 21580.4"
                    }, 
                    "metadata": {}
                }, 
                {
                    "output_type": "display_data", 
                    "data": {
                        "text/html": "<pre>recommendations finished on 326000/330575 queries. users per second: 21591.1</pre>", 
                        "text/plain": "recommendations finished on 326000/330575 queries. users per second: 21591.1"
                    }, 
                    "metadata": {}
                }, 
                {
                    "output_type": "display_data", 
                    "data": {
                        "text/html": "<pre>recommendations finished on 327000/330575 queries. users per second: 21600.8</pre>", 
                        "text/plain": "recommendations finished on 327000/330575 queries. users per second: 21600.8"
                    }, 
                    "metadata": {}
                }, 
                {
                    "output_type": "display_data", 
                    "data": {
                        "text/html": "<pre>recommendations finished on 328000/330575 queries. users per second: 21633.7</pre>", 
                        "text/plain": "recommendations finished on 328000/330575 queries. users per second: 21633.7"
                    }, 
                    "metadata": {}
                }, 
                {
                    "output_type": "display_data", 
                    "data": {
                        "text/html": "<pre>recommendations finished on 329000/330575 queries. users per second: 21619.1</pre>", 
                        "text/plain": "recommendations finished on 329000/330575 queries. users per second: 21619.1"
                    }, 
                    "metadata": {}
                }, 
                {
                    "output_type": "display_data", 
                    "data": {
                        "text/html": "<pre>recommendations finished on 330000/330575 queries. users per second: 21613.2</pre>", 
                        "text/plain": "recommendations finished on 330000/330575 queries. users per second: 21613.2"
                    }, 
                    "metadata": {}
                }, 
                {
                    "output_type": "stream", 
                    "name": "stdout", 
                    "text": "+------------+-----------+--------------------+------+\n| customerId | productId |       score        | rank |\n+------------+-----------+--------------------+------+\n|   27270    |  81953BF  |        2.0         |  1   |\n|   27270    |   20725N  | 1.979539641943734  |  2   |\n|   27270    |   22720A  | 1.860349127182045  |  3   |\n|   27270    |   21212D  | 1.8356164383561644 |  4   |\n|   27270    |   84879M  | 1.8210526315789475 |  5   |\n|   27270    |   23442T  |        1.8         |  6   |\n|   27270    |   47469B  |        1.8         |  7   |\n|   27270    |   22386V  | 1.739884393063584  |  8   |\n|   27270    |   22469S  | 1.7241379310344827 |  9   |\n|   27270    |   22086O  | 1.6916890080428955 |  10  |\n|   27270    |  81953BF  |        2.0         |  1   |\n|   27270    |   20725N  | 1.979539641943734  |  2   |\n|   27270    |   22720A  | 1.860349127182045  |  3   |\n|   27270    |   21212D  | 1.8356164383561644 |  4   |\n|   27270    |   84879M  | 1.8210526315789475 |  5   |\n|   27270    |   23442T  |        1.8         |  6   |\n|   27270    |   47469B  |        1.8         |  7   |\n|   27270    |   22386V  | 1.739884393063584  |  8   |\n|   27270    |   22469S  | 1.7241379310344827 |  9   |\n|   27270    |   22086O  | 1.6916890080428955 |  10  |\n|   27270    |  81953BF  |        2.0         |  1   |\n|   27270    |   20725N  | 1.979539641943734  |  2   |\n|   27270    |   22720A  | 1.860349127182045  |  3   |\n|   27270    |   21212D  | 1.8356164383561644 |  4   |\n|   27270    |   84879M  | 1.8210526315789475 |  5   |\n|   27270    |   23442T  |        1.8         |  6   |\n|   27270    |   47469B  |        1.8         |  7   |\n|   27270    |   22386V  | 1.739884393063584  |  8   |\n|   27270    |   22469S  | 1.7241379310344827 |  9   |\n|   27270    |   22086O  | 1.6916890080428955 |  10  |\n+------------+-----------+--------------------+------+\n[3305750 rows x 4 columns]\n\n"
                }
            ], 
            "source": "# Get recommendations for a list of users to recommend (from customers file)\n# Printed below is head / top 30 rows for first 3 customers with 10 recommendations each\n\npopularity_recomm = popularity_model.recommend(users=users_to_recommend, k=n_rec)\npopularity_recomm.print_rows(n_display)"
        }, 
        {
            "source": "#### Define a `model` function for model selection", 
            "cell_type": "markdown", 
            "metadata": {}
        }, 
        {
            "execution_count": 30, 
            "cell_type": "code", 
            "metadata": {}, 
            "outputs": [], 
            "source": "# Since turicreate is very accessible library, we can define a model selection function as below\n\ndef model(train_data, name, user_id, item_id, target, users_to_recommend, n_rec, n_display):\n    if name == 'popularity':\n        model = tc.popularity_recommender.create(train_data, \n                                                    user_id=user_id, \n                                                    item_id=item_id, \n                                                    target=target)\n    elif name == 'cosine':\n        model = tc.item_similarity_recommender.create(train_data, \n                                                    user_id=user_id, \n                                                    item_id=item_id, \n                                                    target=target, \n                                                    similarity_type='cosine')\n    elif name == 'pearson':\n        model = tc.item_similarity_recommender.create(train_data, \n                                                    user_id=user_id, \n                                                    item_id=item_id, \n                                                    target=target, \n                                                    similarity_type='pearson')\n        \n    recom = model.recommend(users=users_to_recommend, k=n_rec)\n    recom.print_rows(n_display)\n    return model"
        }, 
        {
            "execution_count": 31, 
            "cell_type": "code", 
            "metadata": {}, 
            "outputs": [], 
            "source": "# variables to define field names\n# constant variables include:\nuser_id = 'customerId'\nitem_id = 'productId'\nusers_to_recommend = list(customers[user_id])\nn_rec = 10 # number of items to recommend\nn_display = 30 # to print the head / first few rows in a defined dataset"
        }, 
        {
            "source": "#### Using purchase dummy", 
            "cell_type": "markdown", 
            "metadata": {}
        }, 
        {
            "execution_count": 32, 
            "cell_type": "code", 
            "metadata": {}, 
            "outputs": [
                {
                    "output_type": "display_data", 
                    "data": {
                        "text/html": "<pre>Warning: Ignoring columns purchase_count;</pre>", 
                        "text/plain": "Warning: Ignoring columns purchase_count;"
                    }, 
                    "metadata": {}
                }, 
                {
                    "output_type": "display_data", 
                    "data": {
                        "text/html": "<pre>    To use these columns in scoring predictions, use a model that allows the use of additional features.</pre>", 
                        "text/plain": "    To use these columns in scoring predictions, use a model that allows the use of additional features."
                    }, 
                    "metadata": {}
                }, 
                {
                    "output_type": "display_data", 
                    "data": {
                        "text/html": "<pre>Preparing data set.</pre>", 
                        "text/plain": "Preparing data set."
                    }, 
                    "metadata": {}
                }, 
                {
                    "output_type": "display_data", 
                    "data": {
                        "text/html": "<pre>    Data has 216824 observations with 971 users and 3784 items.</pre>", 
                        "text/plain": "    Data has 216824 observations with 971 users and 3784 items."
                    }, 
                    "metadata": {}
                }, 
                {
                    "output_type": "display_data", 
                    "data": {
                        "text/html": "<pre>    Data prepared in: 0.918445s</pre>", 
                        "text/plain": "    Data prepared in: 0.918445s"
                    }, 
                    "metadata": {}
                }, 
                {
                    "output_type": "display_data", 
                    "data": {
                        "text/html": "<pre>216824 observations to process; with 3784 unique items.</pre>", 
                        "text/plain": "216824 observations to process; with 3784 unique items."
                    }, 
                    "metadata": {}
                }, 
                {
                    "output_type": "stream", 
                    "name": "stdout", 
                    "text": "+------------+-----------+-------+------+\n| customerId | productId | score | rank |\n+------------+-----------+-------+------+\n|   127269   |   20724F  |  1.0  |  1   |\n|   127269   |  84596FA  |  1.0  |  2   |\n|   127269   |   21232B  |  1.0  |  3   |\n|   127269   |   23263V  |  1.0  |  4   |\n|   127269   |   22144E  |  1.0  |  5   |\n|   127269   |   22992G  |  1.0  |  6   |\n|   127269   |   23497Q  |  1.0  |  7   |\n|   127269   |   21809L  |  1.0  |  8   |\n|   127269   |   22342F  |  1.0  |  9   |\n|   127269   |   22960K  |  1.0  |  10  |\n|   227268   |   20724F  |  1.0  |  1   |\n|   227268   |  84596FA  |  1.0  |  2   |\n|   227268   |   21232B  |  1.0  |  3   |\n|   227268   |   23263V  |  1.0  |  4   |\n|   227268   |   22144E  |  1.0  |  5   |\n|   227268   |   22992G  |  1.0  |  6   |\n|   227268   |   23497Q  |  1.0  |  7   |\n|   227268   |   21809L  |  1.0  |  8   |\n|   227268   |   22342F  |  1.0  |  9   |\n|   227268   |   22960K  |  1.0  |  10  |\n|   327267   |   20724F  |  1.0  |  1   |\n|   327267   |  84596FA  |  1.0  |  2   |\n|   327267   |   21232B  |  1.0  |  3   |\n|   327267   |   23263V  |  1.0  |  4   |\n|   327267   |   22144E  |  1.0  |  5   |\n|   327267   |   22992G  |  1.0  |  6   |\n|   327267   |   23497Q  |  1.0  |  7   |\n|   327267   |   21809L  |  1.0  |  8   |\n|   327267   |   22342F  |  1.0  |  9   |\n|   327267   |   22960K  |  1.0  |  10  |\n+------------+-----------+-------+------+\n[6280 rows x 4 columns]\n\n"
                }
            ], 
            "source": "# these variables will change accordingly\nname = 'popularity'\ntarget = 'purchase_dummy'\npop_dummy = model(train_data_dummy, name, user_id, item_id, target, users_to_recommend, n_rec, n_display)"
        }, 
        {
            "source": "#### Using normalized purchase count", 
            "cell_type": "markdown", 
            "metadata": {}
        }, 
        {
            "execution_count": 33, 
            "cell_type": "code", 
            "metadata": {}, 
            "outputs": [
                {
                    "output_type": "display_data", 
                    "data": {
                        "text/html": "<pre>Preparing data set.</pre>", 
                        "text/plain": "Preparing data set."
                    }, 
                    "metadata": {}
                }, 
                {
                    "output_type": "display_data", 
                    "data": {
                        "text/html": "<pre>    Data has 205580 observations with 969 users and 2494 items.</pre>", 
                        "text/plain": "    Data has 205580 observations with 969 users and 2494 items."
                    }, 
                    "metadata": {}
                }, 
                {
                    "output_type": "display_data", 
                    "data": {
                        "text/html": "<pre>    Data prepared in: 0.881941s</pre>", 
                        "text/plain": "    Data prepared in: 0.881941s"
                    }, 
                    "metadata": {}
                }, 
                {
                    "output_type": "display_data", 
                    "data": {
                        "text/html": "<pre>205580 observations to process; with 2494 unique items.</pre>", 
                        "text/plain": "205580 observations to process; with 2494 unique items."
                    }, 
                    "metadata": {}
                }, 
                {
                    "output_type": "stream", 
                    "name": "stdout", 
                    "text": "+------------+-----------+---------------------+------+\n| customerId | productId |        score        | rank |\n+------------+-----------+---------------------+------+\n|   127269   |   84548X  |         1.0         |  1   |\n|   127269   |  84751BL  |         0.5         |  2   |\n|   127269   |   21816Y  |         0.5         |  3   |\n|   127269   |  81950BS  |         0.4         |  4   |\n|   127269   |  72369AK  |  0.3333333333333333 |  5   |\n|   127269   |   85189T  |  0.3333333333333333 |  6   |\n|   127269   |   21393V  |  0.3333333333333333 |  7   |\n|   127269   |   21196B  |  0.3333333333333333 |  8   |\n|   127269   |   21841K  |  0.2857142857142857 |  9   |\n|   127269   |   23442T  | 0.26666666666666666 |  10  |\n|   227268   |   84548X  |         1.0         |  1   |\n|   227268   |  84751BL  |         0.5         |  2   |\n|   227268   |   21816Y  |         0.5         |  3   |\n|   227268   |  81950BS  |         0.4         |  4   |\n|   227268   |  72369AK  |  0.3333333333333333 |  5   |\n|   227268   |   85189T  |  0.3333333333333333 |  6   |\n|   227268   |   21393V  |  0.3333333333333333 |  7   |\n|   227268   |   21196B  |  0.3333333333333333 |  8   |\n|   227268   |   21841K  |  0.2857142857142857 |  9   |\n|   227268   |   23442T  | 0.26666666666666666 |  10  |\n|   327267   |   84548X  |         1.0         |  1   |\n|   327267   |  84751BL  |         0.5         |  2   |\n|   327267   |   21816Y  |         0.5         |  3   |\n|   327267   |  81950BS  |         0.4         |  4   |\n|   327267   |  72369AK  |  0.3333333333333333 |  5   |\n|   327267   |   85189T  |  0.3333333333333333 |  6   |\n|   327267   |   21393V  |  0.3333333333333333 |  7   |\n|   327267   |   21196B  |  0.3333333333333333 |  8   |\n|   327267   |   21841K  |  0.2857142857142857 |  9   |\n|   327267   |   23442T  | 0.26666666666666666 |  10  |\n+------------+-----------+---------------------+------+\n[6280 rows x 4 columns]\n\n"
                }
            ], 
            "source": "name = 'popularity'\ntarget = 'scaled_purchase_freq'\npop_norm = model(train_data_norm, name, user_id, item_id, target, users_to_recommend, n_rec, n_display)"
        }, 
        {
            "source": "#### Notes\n* Once we created the model, we predicted the recommendation items using scores by popularity. As you can tell for each model results above, the rows show the first 30 records from 1000 users with 10 recommendations. These 30 records include 3 users and their recommended items, along with score and descending ranks. \n* In the result, although different models have different recommendation list, each user is recommended the same list of 10 items. This is because popularity is calculated by taking the most popular items across all users.\n* If a grouping example below, products 132, 248, 37, and 34 are the most popular (best-selling) across customers. Using their purchase counts divided by the number of customers, we see that these products are at least bought 3 times on average in the training set of transactions (same as the first popularity measure on `purchase_count` variable)", 
            "cell_type": "markdown", 
            "metadata": {}
        }, 
        {
            "execution_count": 34, 
            "cell_type": "code", 
            "metadata": {}, 
            "outputs": [
                {
                    "execution_count": 34, 
                    "metadata": {}, 
                    "data": {
                        "text/plain": "productId\n22423U     2.384783\n85123AY    2.338266\n85099BJ    2.309829\n47566Y     2.021635\n81953BF    2.000000\n20725N     1.979540\n22720A     1.860349\n21212D     1.835616\n22383K     1.835227\n84879M     1.821053\n23298Q     1.810496\n22197J     1.800983\n23442T     1.800000\n47469B     1.800000\n20727V     1.783784\n22386V     1.739884\n20728Z     1.729282\n22469S     1.724138\n22699D     1.723810\n22382I     1.717579\nName: purchase_count, dtype: float64"
                    }, 
                    "output_type": "execute_result"
                }
            ], 
            "source": "train.groupby(by=item_id)['purchase_count'].mean().sort_values(ascending=False).head(20)"
        }, 
        {
            "source": "## 6. Collaborative Filtering Model\n\n* In collaborative filtering, we would recommend items based on how similar users purchase items. For instance, if customer 1 and customer 2 bought similar items, e.g. 1 bought X, Y, Z and 2 bought X, Y, we would recommend an item Z to customer 2.\n\n* To define similarity across users, we use the following steps:\n    1. Create a user-item matrix, where index values represent unique customer IDs and column values represent unique product IDs\n    \n    2. Create an item-to-item similarity matrix. The idea is to calculate how similar a product is to another product. There are a number of ways of calculating this. In steps 6.1 and 6.2, we use cosine and pearson similarity measure, respectively.  \n    \n        * To calculate similarity between products X and Y, look at all customers who have rated both these items. For example, both X and Y have been rated by customers 1 and 2. \n        * We then create two item-vectors, v1 for item X and v2 for item Y, in the user-space of (1, 2) and then find the `cosine` or `pearson` angle/distance between these vectors. A zero angle or overlapping vectors with cosine value of 1 means total similarity (or per user, across all items, there is same rating) and an angle of 90 degree would mean cosine of 0 or no similarity.\n        \n    3. For each customer, we then predict his likelihood to buy a product (or his purchase counts) for products that he had not bought. \n    \n        * For our example, we will calculate rating for user 2 in the case of item Z (target item). To calculate this we weigh the just-calculated similarity-measure between the target item and other items that customer has already bought. The weighing factor is the purchase counts given by the user to items already bought by him. \n        * We then scale this weighted sum with the sum of similarity-measures so that the calculated rating remains within a predefined limits. Thus, the predicted rating for item Z for user 2 would be calculated using similarity measures.\n\n* While I wrote python scripts for all the process including finding similarity using python scripts (which can be found in `scripts` folder, we can use `turicreate` library for now to capture different measures like using `cosine` and `pearson` distance, and evaluate the best model.", 
            "cell_type": "markdown", 
            "metadata": {}
        }, 
        {
            "source": "### 6.1. `Cosine` similarity\n* Similarity is the cosine of the angle between the 2 vectors of the item vectors of A and B\n* It is defined by the following formula\n![](https://encrypted-tbn0.gstatic.com/images?q=tbn:ANd9GcTnRHSAx1c084UXF2wIHYwaHJLmq2qKtNk_YIv3RjHUO00xwlkt)\n* Closer the vectors, smaller will be the angle and larger the cosine", 
            "cell_type": "markdown", 
            "metadata": {}
        }, 
        {
            "source": "#### Using purchase count", 
            "cell_type": "markdown", 
            "metadata": {}
        }, 
        {
            "execution_count": 35, 
            "cell_type": "code", 
            "metadata": {}, 
            "outputs": [
                {
                    "output_type": "display_data", 
                    "data": {
                        "text/html": "<pre>Preparing data set.</pre>", 
                        "text/plain": "Preparing data set."
                    }, 
                    "metadata": {}
                }, 
                {
                    "output_type": "display_data", 
                    "data": {
                        "text/html": "<pre>    Data has 216824 observations with 971 users and 3768 items.</pre>", 
                        "text/plain": "    Data has 216824 observations with 971 users and 3768 items."
                    }, 
                    "metadata": {}
                }, 
                {
                    "output_type": "display_data", 
                    "data": {
                        "text/html": "<pre>    Data prepared in: 0.943009s</pre>", 
                        "text/plain": "    Data prepared in: 0.943009s"
                    }, 
                    "metadata": {}
                }, 
                {
                    "output_type": "display_data", 
                    "data": {
                        "text/html": "<pre>Training model from provided data.</pre>", 
                        "text/plain": "Training model from provided data."
                    }, 
                    "metadata": {}
                }, 
                {
                    "output_type": "display_data", 
                    "data": {
                        "text/html": "<pre>Gathering per-item and per-user statistics.</pre>", 
                        "text/plain": "Gathering per-item and per-user statistics."
                    }, 
                    "metadata": {}
                }, 
                {
                    "output_type": "display_data", 
                    "data": {
                        "text/html": "<pre>+--------------------------------+------------+</pre>", 
                        "text/plain": "+--------------------------------+------------+"
                    }, 
                    "metadata": {}
                }, 
                {
                    "output_type": "display_data", 
                    "data": {
                        "text/html": "<pre>| Elapsed Time (Item Statistics) | % Complete |</pre>", 
                        "text/plain": "| Elapsed Time (Item Statistics) | % Complete |"
                    }, 
                    "metadata": {}
                }, 
                {
                    "output_type": "display_data", 
                    "data": {
                        "text/html": "<pre>+--------------------------------+------------+</pre>", 
                        "text/plain": "+--------------------------------+------------+"
                    }, 
                    "metadata": {}
                }, 
                {
                    "output_type": "display_data", 
                    "data": {
                        "text/html": "<pre>| 247.31ms                       | 100        |</pre>", 
                        "text/plain": "| 247.31ms                       | 100        |"
                    }, 
                    "metadata": {}
                }, 
                {
                    "output_type": "display_data", 
                    "data": {
                        "text/html": "<pre>+--------------------------------+------------+</pre>", 
                        "text/plain": "+--------------------------------+------------+"
                    }, 
                    "metadata": {}
                }, 
                {
                    "output_type": "display_data", 
                    "data": {
                        "text/html": "<pre>Setting up lookup tables.</pre>", 
                        "text/plain": "Setting up lookup tables."
                    }, 
                    "metadata": {}
                }, 
                {
                    "output_type": "display_data", 
                    "data": {
                        "text/html": "<pre>Processing data in one pass using dense lookup tables.</pre>", 
                        "text/plain": "Processing data in one pass using dense lookup tables."
                    }, 
                    "metadata": {}
                }, 
                {
                    "output_type": "display_data", 
                    "data": {
                        "text/html": "<pre>+-------------------------------------+------------------+-----------------+</pre>", 
                        "text/plain": "+-------------------------------------+------------------+-----------------+"
                    }, 
                    "metadata": {}
                }, 
                {
                    "output_type": "display_data", 
                    "data": {
                        "text/html": "<pre>| Elapsed Time (Constructing Lookups) | Total % Complete | Items Processed |</pre>", 
                        "text/plain": "| Elapsed Time (Constructing Lookups) | Total % Complete | Items Processed |"
                    }, 
                    "metadata": {}
                }, 
                {
                    "output_type": "display_data", 
                    "data": {
                        "text/html": "<pre>+-------------------------------------+------------------+-----------------+</pre>", 
                        "text/plain": "+-------------------------------------+------------------+-----------------+"
                    }, 
                    "metadata": {}
                }, 
                {
                    "output_type": "display_data", 
                    "data": {
                        "text/html": "<pre>| 292.554ms                           | 0                | 0               |</pre>", 
                        "text/plain": "| 292.554ms                           | 0                | 0               |"
                    }, 
                    "metadata": {}
                }, 
                {
                    "output_type": "display_data", 
                    "data": {
                        "text/html": "<pre>| 2.21s                               | 100              | 3768            |</pre>", 
                        "text/plain": "| 2.21s                               | 100              | 3768            |"
                    }, 
                    "metadata": {}
                }, 
                {
                    "output_type": "display_data", 
                    "data": {
                        "text/html": "<pre>+-------------------------------------+------------------+-----------------+</pre>", 
                        "text/plain": "+-------------------------------------+------------------+-----------------+"
                    }, 
                    "metadata": {}
                }, 
                {
                    "output_type": "display_data", 
                    "data": {
                        "text/html": "<pre>Finalizing lookup tables.</pre>", 
                        "text/plain": "Finalizing lookup tables."
                    }, 
                    "metadata": {}
                }, 
                {
                    "output_type": "display_data", 
                    "data": {
                        "text/html": "<pre>Generating candidate set for working with new users.</pre>", 
                        "text/plain": "Generating candidate set for working with new users."
                    }, 
                    "metadata": {}
                }, 
                {
                    "output_type": "display_data", 
                    "data": {
                        "text/html": "<pre>Finished training in 3.69042s</pre>", 
                        "text/plain": "Finished training in 3.69042s"
                    }, 
                    "metadata": {}
                }, 
                {
                    "output_type": "stream", 
                    "name": "stdout", 
                    "text": "+------------+-----------+---------------------+------+\n| customerId | productId |        score        | rank |\n+------------+-----------+---------------------+------+\n|   127269   |  85099BJ  |  0.2690374517440796 |  1   |\n|   127269   |  85123AY  | 0.26133861422538757 |  2   |\n|   127269   |   22383K  |  0.2590727913379669 |  3   |\n|   127269   |   22697A  |    0.258310546875   |  4   |\n|   127269   |   22423U  | 0.25731443405151366 |  5   |\n|   127269   |   22382I  |  0.250646071434021  |  6   |\n|   127269   |   47566Y  | 0.25055856466293336 |  7   |\n|   127269   |   22469S  | 0.24641125202178954 |  8   |\n|   127269   |   23203B  | 0.24285009860992432 |  9   |\n|   127269   |   20725N  | 0.24239929914474487 |  10  |\n|   227268   |  85099BJ  |  0.2690374517440796 |  1   |\n|   227268   |  85123AY  | 0.26133861422538757 |  2   |\n|   227268   |   22383K  |  0.2590727913379669 |  3   |\n|   227268   |   22697A  |    0.258310546875   |  4   |\n|   227268   |   22423U  | 0.25731443405151366 |  5   |\n|   227268   |   22382I  |  0.250646071434021  |  6   |\n|   227268   |   47566Y  | 0.25055856466293336 |  7   |\n|   227268   |   22469S  | 0.24641125202178954 |  8   |\n|   227268   |   23203B  | 0.24285009860992432 |  9   |\n|   227268   |   20725N  | 0.24239929914474487 |  10  |\n|   327267   |  85099BJ  |  0.2690374517440796 |  1   |\n|   327267   |  85123AY  | 0.26133861422538757 |  2   |\n|   327267   |   22383K  |  0.2590727913379669 |  3   |\n|   327267   |   22697A  |    0.258310546875   |  4   |\n|   327267   |   22423U  | 0.25731443405151366 |  5   |\n|   327267   |   22382I  |  0.250646071434021  |  6   |\n|   327267   |   47566Y  | 0.25055856466293336 |  7   |\n|   327267   |   22469S  | 0.24641125202178954 |  8   |\n|   327267   |   23203B  | 0.24285009860992432 |  9   |\n|   327267   |   20725N  | 0.24239929914474487 |  10  |\n+------------+-----------+---------------------+------+\n[6280 rows x 4 columns]\n\n"
                }
            ], 
            "source": "# these variables will change accordingly\nname = 'cosine'\ntarget = 'purchase_count'\ncos = model(train_data, name, user_id, item_id, target, users_to_recommend, n_rec, n_display)"
        }, 
        {
            "source": "#### Using purchase dummy", 
            "cell_type": "markdown", 
            "metadata": {}
        }, 
        {
            "execution_count": 36, 
            "cell_type": "code", 
            "metadata": {}, 
            "outputs": [
                {
                    "output_type": "display_data", 
                    "data": {
                        "text/html": "<pre>Warning: Ignoring columns purchase_count;</pre>", 
                        "text/plain": "Warning: Ignoring columns purchase_count;"
                    }, 
                    "metadata": {}
                }, 
                {
                    "output_type": "display_data", 
                    "data": {
                        "text/html": "<pre>    To use these columns in scoring predictions, use a model that allows the use of additional features.</pre>", 
                        "text/plain": "    To use these columns in scoring predictions, use a model that allows the use of additional features."
                    }, 
                    "metadata": {}
                }, 
                {
                    "output_type": "display_data", 
                    "data": {
                        "text/html": "<pre>Preparing data set.</pre>", 
                        "text/plain": "Preparing data set."
                    }, 
                    "metadata": {}
                }, 
                {
                    "output_type": "display_data", 
                    "data": {
                        "text/html": "<pre>    Data has 216824 observations with 971 users and 3784 items.</pre>", 
                        "text/plain": "    Data has 216824 observations with 971 users and 3784 items."
                    }, 
                    "metadata": {}
                }, 
                {
                    "output_type": "display_data", 
                    "data": {
                        "text/html": "<pre>    Data prepared in: 0.9216s</pre>", 
                        "text/plain": "    Data prepared in: 0.9216s"
                    }, 
                    "metadata": {}
                }, 
                {
                    "output_type": "display_data", 
                    "data": {
                        "text/html": "<pre>Training model from provided data.</pre>", 
                        "text/plain": "Training model from provided data."
                    }, 
                    "metadata": {}
                }, 
                {
                    "output_type": "display_data", 
                    "data": {
                        "text/html": "<pre>Gathering per-item and per-user statistics.</pre>", 
                        "text/plain": "Gathering per-item and per-user statistics."
                    }, 
                    "metadata": {}
                }, 
                {
                    "output_type": "display_data", 
                    "data": {
                        "text/html": "<pre>+--------------------------------+------------+</pre>", 
                        "text/plain": "+--------------------------------+------------+"
                    }, 
                    "metadata": {}
                }, 
                {
                    "output_type": "display_data", 
                    "data": {
                        "text/html": "<pre>| Elapsed Time (Item Statistics) | % Complete |</pre>", 
                        "text/plain": "| Elapsed Time (Item Statistics) | % Complete |"
                    }, 
                    "metadata": {}
                }, 
                {
                    "output_type": "display_data", 
                    "data": {
                        "text/html": "<pre>+--------------------------------+------------+</pre>", 
                        "text/plain": "+--------------------------------+------------+"
                    }, 
                    "metadata": {}
                }, 
                {
                    "output_type": "display_data", 
                    "data": {
                        "text/html": "<pre>| 794.84ms                       | 100        |</pre>", 
                        "text/plain": "| 794.84ms                       | 100        |"
                    }, 
                    "metadata": {}
                }, 
                {
                    "output_type": "display_data", 
                    "data": {
                        "text/html": "<pre>+--------------------------------+------------+</pre>", 
                        "text/plain": "+--------------------------------+------------+"
                    }, 
                    "metadata": {}
                }, 
                {
                    "output_type": "display_data", 
                    "data": {
                        "text/html": "<pre>Setting up lookup tables.</pre>", 
                        "text/plain": "Setting up lookup tables."
                    }, 
                    "metadata": {}
                }, 
                {
                    "output_type": "display_data", 
                    "data": {
                        "text/html": "<pre>Processing data in one pass using dense lookup tables.</pre>", 
                        "text/plain": "Processing data in one pass using dense lookup tables."
                    }, 
                    "metadata": {}
                }, 
                {
                    "output_type": "display_data", 
                    "data": {
                        "text/html": "<pre>+-------------------------------------+------------------+-----------------+</pre>", 
                        "text/plain": "+-------------------------------------+------------------+-----------------+"
                    }, 
                    "metadata": {}
                }, 
                {
                    "output_type": "display_data", 
                    "data": {
                        "text/html": "<pre>| Elapsed Time (Constructing Lookups) | Total % Complete | Items Processed |</pre>", 
                        "text/plain": "| Elapsed Time (Constructing Lookups) | Total % Complete | Items Processed |"
                    }, 
                    "metadata": {}
                }, 
                {
                    "output_type": "display_data", 
                    "data": {
                        "text/html": "<pre>+-------------------------------------+------------------+-----------------+</pre>", 
                        "text/plain": "+-------------------------------------+------------------+-----------------+"
                    }, 
                    "metadata": {}
                }, 
                {
                    "output_type": "display_data", 
                    "data": {
                        "text/html": "<pre>| 839.87ms                            | 0.5              | 22              |</pre>", 
                        "text/plain": "| 839.87ms                            | 0.5              | 22              |"
                    }, 
                    "metadata": {}
                }, 
                {
                    "output_type": "display_data", 
                    "data": {
                        "text/html": "<pre>| 2.93s                               | 100              | 3784            |</pre>", 
                        "text/plain": "| 2.93s                               | 100              | 3784            |"
                    }, 
                    "metadata": {}
                }, 
                {
                    "output_type": "display_data", 
                    "data": {
                        "text/html": "<pre>+-------------------------------------+------------------+-----------------+</pre>", 
                        "text/plain": "+-------------------------------------+------------------+-----------------+"
                    }, 
                    "metadata": {}
                }, 
                {
                    "output_type": "display_data", 
                    "data": {
                        "text/html": "<pre>Finalizing lookup tables.</pre>", 
                        "text/plain": "Finalizing lookup tables."
                    }, 
                    "metadata": {}
                }, 
                {
                    "output_type": "display_data", 
                    "data": {
                        "text/html": "<pre>Generating candidate set for working with new users.</pre>", 
                        "text/plain": "Generating candidate set for working with new users."
                    }, 
                    "metadata": {}
                }, 
                {
                    "output_type": "display_data", 
                    "data": {
                        "text/html": "<pre>Finished training in 3.04833s</pre>", 
                        "text/plain": "Finished training in 3.04833s"
                    }, 
                    "metadata": {}
                }, 
                {
                    "output_type": "stream", 
                    "name": "stdout", 
                    "text": "+------------+-----------+-------+------+\n| customerId | productId | score | rank |\n+------------+-----------+-------+------+\n|   127269   |   20724F  |  0.0  |  1   |\n|   127269   |  84596FA  |  0.0  |  2   |\n|   127269   |   21232B  |  0.0  |  3   |\n|   127269   |   23263V  |  0.0  |  4   |\n|   127269   |   22144E  |  0.0  |  5   |\n|   127269   |   22992G  |  0.0  |  6   |\n|   127269   |   23497Q  |  0.0  |  7   |\n|   127269   |   21809L  |  0.0  |  8   |\n|   127269   |   22342F  |  0.0  |  9   |\n|   127269   |   22960K  |  0.0  |  10  |\n|   227268   |   20724F  |  0.0  |  1   |\n|   227268   |  84596FA  |  0.0  |  2   |\n|   227268   |   21232B  |  0.0  |  3   |\n|   227268   |   23263V  |  0.0  |  4   |\n|   227268   |   22144E  |  0.0  |  5   |\n|   227268   |   22992G  |  0.0  |  6   |\n|   227268   |   23497Q  |  0.0  |  7   |\n|   227268   |   21809L  |  0.0  |  8   |\n|   227268   |   22342F  |  0.0  |  9   |\n|   227268   |   22960K  |  0.0  |  10  |\n|   327267   |   20724F  |  0.0  |  1   |\n|   327267   |  84596FA  |  0.0  |  2   |\n|   327267   |   21232B  |  0.0  |  3   |\n|   327267   |   23263V  |  0.0  |  4   |\n|   327267   |   22144E  |  0.0  |  5   |\n|   327267   |   22992G  |  0.0  |  6   |\n|   327267   |   23497Q  |  0.0  |  7   |\n|   327267   |   21809L  |  0.0  |  8   |\n|   327267   |   22342F  |  0.0  |  9   |\n|   327267   |   22960K  |  0.0  |  10  |\n+------------+-----------+-------+------+\n[6280 rows x 4 columns]\n\n"
                }
            ], 
            "source": "# these variables will change accordingly\nname = 'cosine'\ntarget = 'purchase_dummy'\ncos_dummy = model(train_data_dummy, name, user_id, item_id, target, users_to_recommend, n_rec, n_display)"
        }, 
        {
            "source": "#### Using normalized purchase count", 
            "cell_type": "markdown", 
            "metadata": {}
        }, 
        {
            "execution_count": 37, 
            "cell_type": "code", 
            "metadata": {}, 
            "outputs": [
                {
                    "output_type": "display_data", 
                    "data": {
                        "text/html": "<pre>Preparing data set.</pre>", 
                        "text/plain": "Preparing data set."
                    }, 
                    "metadata": {}
                }, 
                {
                    "output_type": "display_data", 
                    "data": {
                        "text/html": "<pre>    Data has 205580 observations with 969 users and 2494 items.</pre>", 
                        "text/plain": "    Data has 205580 observations with 969 users and 2494 items."
                    }, 
                    "metadata": {}
                }, 
                {
                    "output_type": "display_data", 
                    "data": {
                        "text/html": "<pre>    Data prepared in: 0.944034s</pre>", 
                        "text/plain": "    Data prepared in: 0.944034s"
                    }, 
                    "metadata": {}
                }, 
                {
                    "output_type": "display_data", 
                    "data": {
                        "text/html": "<pre>Training model from provided data.</pre>", 
                        "text/plain": "Training model from provided data."
                    }, 
                    "metadata": {}
                }, 
                {
                    "output_type": "display_data", 
                    "data": {
                        "text/html": "<pre>Gathering per-item and per-user statistics.</pre>", 
                        "text/plain": "Gathering per-item and per-user statistics."
                    }, 
                    "metadata": {}
                }, 
                {
                    "output_type": "display_data", 
                    "data": {
                        "text/html": "<pre>+--------------------------------+------------+</pre>", 
                        "text/plain": "+--------------------------------+------------+"
                    }, 
                    "metadata": {}
                }, 
                {
                    "output_type": "display_data", 
                    "data": {
                        "text/html": "<pre>| Elapsed Time (Item Statistics) | % Complete |</pre>", 
                        "text/plain": "| Elapsed Time (Item Statistics) | % Complete |"
                    }, 
                    "metadata": {}
                }, 
                {
                    "output_type": "display_data", 
                    "data": {
                        "text/html": "<pre>+--------------------------------+------------+</pre>", 
                        "text/plain": "+--------------------------------+------------+"
                    }, 
                    "metadata": {}
                }, 
                {
                    "output_type": "display_data", 
                    "data": {
                        "text/html": "<pre>| 490.648ms                      | 100        |</pre>", 
                        "text/plain": "| 490.648ms                      | 100        |"
                    }, 
                    "metadata": {}
                }, 
                {
                    "output_type": "display_data", 
                    "data": {
                        "text/html": "<pre>+--------------------------------+------------+</pre>", 
                        "text/plain": "+--------------------------------+------------+"
                    }, 
                    "metadata": {}
                }, 
                {
                    "output_type": "display_data", 
                    "data": {
                        "text/html": "<pre>Setting up lookup tables.</pre>", 
                        "text/plain": "Setting up lookup tables."
                    }, 
                    "metadata": {}
                }, 
                {
                    "output_type": "display_data", 
                    "data": {
                        "text/html": "<pre>Processing data in one pass using dense lookup tables.</pre>", 
                        "text/plain": "Processing data in one pass using dense lookup tables."
                    }, 
                    "metadata": {}
                }, 
                {
                    "output_type": "display_data", 
                    "data": {
                        "text/html": "<pre>+-------------------------------------+------------------+-----------------+</pre>", 
                        "text/plain": "+-------------------------------------+------------------+-----------------+"
                    }, 
                    "metadata": {}
                }, 
                {
                    "output_type": "display_data", 
                    "data": {
                        "text/html": "<pre>| Elapsed Time (Constructing Lookups) | Total % Complete | Items Processed |</pre>", 
                        "text/plain": "| Elapsed Time (Constructing Lookups) | Total % Complete | Items Processed |"
                    }, 
                    "metadata": {}
                }, 
                {
                    "output_type": "display_data", 
                    "data": {
                        "text/html": "<pre>+-------------------------------------+------------------+-----------------+</pre>", 
                        "text/plain": "+-------------------------------------+------------------+-----------------+"
                    }, 
                    "metadata": {}
                }, 
                {
                    "output_type": "display_data", 
                    "data": {
                        "text/html": "<pre>| 525.523ms                           | 0                | 4               |</pre>", 
                        "text/plain": "| 525.523ms                           | 0                | 4               |"
                    }, 
                    "metadata": {}
                }, 
                {
                    "output_type": "display_data", 
                    "data": {
                        "text/html": "<pre>| 2.56s                               | 100              | 2494            |</pre>", 
                        "text/plain": "| 2.56s                               | 100              | 2494            |"
                    }, 
                    "metadata": {}
                }, 
                {
                    "output_type": "display_data", 
                    "data": {
                        "text/html": "<pre>+-------------------------------------+------------------+-----------------+</pre>", 
                        "text/plain": "+-------------------------------------+------------------+-----------------+"
                    }, 
                    "metadata": {}
                }, 
                {
                    "output_type": "display_data", 
                    "data": {
                        "text/html": "<pre>Finalizing lookup tables.</pre>", 
                        "text/plain": "Finalizing lookup tables."
                    }, 
                    "metadata": {}
                }, 
                {
                    "output_type": "display_data", 
                    "data": {
                        "text/html": "<pre>Generating candidate set for working with new users.</pre>", 
                        "text/plain": "Generating candidate set for working with new users."
                    }, 
                    "metadata": {}
                }, 
                {
                    "output_type": "display_data", 
                    "data": {
                        "text/html": "<pre>Finished training in 2.88963s</pre>", 
                        "text/plain": "Finished training in 2.88963s"
                    }, 
                    "metadata": {}
                }, 
                {
                    "output_type": "stream", 
                    "name": "stdout", 
                    "text": "+------------+-----------+----------------------+------+\n| customerId | productId |        score         | rank |\n+------------+-----------+----------------------+------+\n|   127269   |  85123AY  | 0.05021348595619202  |  1   |\n|   127269   |  85099BJ  | 0.04971571207046509  |  2   |\n|   127269   |   22423U  | 0.048471102714538576 |  3   |\n|   127269   |   22197J  | 0.04611009120941162  |  4   |\n|   127269   |   20725N  | 0.04481416583061218  |  5   |\n|   127269   |   22411U  | 0.04312252521514893  |  6   |\n|   127269   |   22384W  | 0.041453471183776854 |  7   |\n|   127269   |   22960K  | 0.041333638429641724 |  8   |\n|   127269   |   23203B  | 0.04114018201828003  |  9   |\n|   127269   |   22383K  | 0.04099071741104126  |  10  |\n|   227268   |  85123AY  | 0.05021348595619202  |  1   |\n|   227268   |  85099BJ  | 0.04971571207046509  |  2   |\n|   227268   |   22423U  | 0.048471102714538576 |  3   |\n|   227268   |   22197J  | 0.04611009120941162  |  4   |\n|   227268   |   20725N  | 0.04481416583061218  |  5   |\n|   227268   |   22411U  | 0.04312252521514893  |  6   |\n|   227268   |   22384W  | 0.041453471183776854 |  7   |\n|   227268   |   22960K  | 0.041333638429641724 |  8   |\n|   227268   |   23203B  | 0.04114018201828003  |  9   |\n|   227268   |   22383K  | 0.04099071741104126  |  10  |\n|   327267   |  85123AY  | 0.05021348595619202  |  1   |\n|   327267   |  85099BJ  | 0.04971571207046509  |  2   |\n|   327267   |   22423U  | 0.048471102714538576 |  3   |\n|   327267   |   22197J  | 0.04611009120941162  |  4   |\n|   327267   |   20725N  | 0.04481416583061218  |  5   |\n|   327267   |   22411U  | 0.04312252521514893  |  6   |\n|   327267   |   22384W  | 0.041453471183776854 |  7   |\n|   327267   |   22960K  | 0.041333638429641724 |  8   |\n|   327267   |   23203B  | 0.04114018201828003  |  9   |\n|   327267   |   22383K  | 0.04099071741104126  |  10  |\n+------------+-----------+----------------------+------+\n[6280 rows x 4 columns]\n\n"
                }
            ], 
            "source": "name = 'cosine'\ntarget = 'scaled_purchase_freq'\ncos_norm = model(train_data_norm, name, user_id, item_id, target, users_to_recommend, n_rec, n_display)"
        }, 
        {
            "source": "### 6.2. `Pearson` similarity\n* Similarity is the pearson coefficient between the two vectors.\n* It is defined by the following formula\n![](http://critical-numbers.group.shef.ac.uk/glossary/images/correlationKT1.png)", 
            "cell_type": "markdown", 
            "metadata": {}
        }, 
        {
            "source": "#### Using purchase count", 
            "cell_type": "markdown", 
            "metadata": {}
        }, 
        {
            "execution_count": 38, 
            "cell_type": "code", 
            "metadata": {}, 
            "outputs": [
                {
                    "output_type": "display_data", 
                    "data": {
                        "text/html": "<pre>Preparing data set.</pre>", 
                        "text/plain": "Preparing data set."
                    }, 
                    "metadata": {}
                }, 
                {
                    "output_type": "display_data", 
                    "data": {
                        "text/html": "<pre>    Data has 216824 observations with 971 users and 3768 items.</pre>", 
                        "text/plain": "    Data has 216824 observations with 971 users and 3768 items."
                    }, 
                    "metadata": {}
                }, 
                {
                    "output_type": "display_data", 
                    "data": {
                        "text/html": "<pre>    Data prepared in: 0.681085s</pre>", 
                        "text/plain": "    Data prepared in: 0.681085s"
                    }, 
                    "metadata": {}
                }, 
                {
                    "output_type": "display_data", 
                    "data": {
                        "text/html": "<pre>Training model from provided data.</pre>", 
                        "text/plain": "Training model from provided data."
                    }, 
                    "metadata": {}
                }, 
                {
                    "output_type": "display_data", 
                    "data": {
                        "text/html": "<pre>Gathering per-item and per-user statistics.</pre>", 
                        "text/plain": "Gathering per-item and per-user statistics."
                    }, 
                    "metadata": {}
                }, 
                {
                    "output_type": "display_data", 
                    "data": {
                        "text/html": "<pre>+--------------------------------+------------+</pre>", 
                        "text/plain": "+--------------------------------+------------+"
                    }, 
                    "metadata": {}
                }, 
                {
                    "output_type": "display_data", 
                    "data": {
                        "text/html": "<pre>| Elapsed Time (Item Statistics) | % Complete |</pre>", 
                        "text/plain": "| Elapsed Time (Item Statistics) | % Complete |"
                    }, 
                    "metadata": {}
                }, 
                {
                    "output_type": "display_data", 
                    "data": {
                        "text/html": "<pre>+--------------------------------+------------+</pre>", 
                        "text/plain": "+--------------------------------+------------+"
                    }, 
                    "metadata": {}
                }, 
                {
                    "output_type": "display_data", 
                    "data": {
                        "text/html": "<pre>| 829.588ms                      | 100        |</pre>", 
                        "text/plain": "| 829.588ms                      | 100        |"
                    }, 
                    "metadata": {}
                }, 
                {
                    "output_type": "display_data", 
                    "data": {
                        "text/html": "<pre>+--------------------------------+------------+</pre>", 
                        "text/plain": "+--------------------------------+------------+"
                    }, 
                    "metadata": {}
                }, 
                {
                    "output_type": "display_data", 
                    "data": {
                        "text/html": "<pre>Setting up lookup tables.</pre>", 
                        "text/plain": "Setting up lookup tables."
                    }, 
                    "metadata": {}
                }, 
                {
                    "output_type": "display_data", 
                    "data": {
                        "text/html": "<pre>Processing data in one pass using dense lookup tables.</pre>", 
                        "text/plain": "Processing data in one pass using dense lookup tables."
                    }, 
                    "metadata": {}
                }, 
                {
                    "output_type": "display_data", 
                    "data": {
                        "text/html": "<pre>+-------------------------------------+------------------+-----------------+</pre>", 
                        "text/plain": "+-------------------------------------+------------------+-----------------+"
                    }, 
                    "metadata": {}
                }, 
                {
                    "output_type": "display_data", 
                    "data": {
                        "text/html": "<pre>| Elapsed Time (Constructing Lookups) | Total % Complete | Items Processed |</pre>", 
                        "text/plain": "| Elapsed Time (Constructing Lookups) | Total % Complete | Items Processed |"
                    }, 
                    "metadata": {}
                }, 
                {
                    "output_type": "display_data", 
                    "data": {
                        "text/html": "<pre>+-------------------------------------+------------------+-----------------+</pre>", 
                        "text/plain": "+-------------------------------------+------------------+-----------------+"
                    }, 
                    "metadata": {}
                }, 
                {
                    "output_type": "display_data", 
                    "data": {
                        "text/html": "<pre>| 880.221ms                           | 0                | 0               |</pre>", 
                        "text/plain": "| 880.221ms                           | 0                | 0               |"
                    }, 
                    "metadata": {}
                }, 
                {
                    "output_type": "display_data", 
                    "data": {
                        "text/html": "<pre>| 4.03s                               | 12.75            | 484             |</pre>", 
                        "text/plain": "| 4.03s                               | 12.75            | 484             |"
                    }, 
                    "metadata": {}
                }, 
                {
                    "output_type": "display_data", 
                    "data": {
                        "text/html": "<pre>| 7.02s                               | 17.75            | 677             |</pre>", 
                        "text/plain": "| 7.02s                               | 17.75            | 677             |"
                    }, 
                    "metadata": {}
                }, 
                {
                    "output_type": "display_data", 
                    "data": {
                        "text/html": "<pre>| 9.94s                               | 23.25            | 879             |</pre>", 
                        "text/plain": "| 9.94s                               | 23.25            | 879             |"
                    }, 
                    "metadata": {}
                }, 
                {
                    "output_type": "display_data", 
                    "data": {
                        "text/html": "<pre>| 12.96s                              | 29.25            | 1107            |</pre>", 
                        "text/plain": "| 12.96s                              | 29.25            | 1107            |"
                    }, 
                    "metadata": {}
                }, 
                {
                    "output_type": "display_data", 
                    "data": {
                        "text/html": "<pre>| 15.90s                              | 33.75            | 1275            |</pre>", 
                        "text/plain": "| 15.90s                              | 33.75            | 1275            |"
                    }, 
                    "metadata": {}
                }, 
                {
                    "output_type": "display_data", 
                    "data": {
                        "text/html": "<pre>| 18.93s                              | 40.5             | 1529            |</pre>", 
                        "text/plain": "| 18.93s                              | 40.5             | 1529            |"
                    }, 
                    "metadata": {}
                }, 
                {
                    "output_type": "display_data", 
                    "data": {
                        "text/html": "<pre>| 21.98s                              | 47.75            | 1800            |</pre>", 
                        "text/plain": "| 21.98s                              | 47.75            | 1800            |"
                    }, 
                    "metadata": {}
                }, 
                {
                    "output_type": "display_data", 
                    "data": {
                        "text/html": "<pre>| 24.91s                              | 52.75            | 1997            |</pre>", 
                        "text/plain": "| 24.91s                              | 52.75            | 1997            |"
                    }, 
                    "metadata": {}
                }, 
                {
                    "output_type": "display_data", 
                    "data": {
                        "text/html": "<pre>| 27.90s                              | 58               | 2189            |</pre>", 
                        "text/plain": "| 27.90s                              | 58               | 2189            |"
                    }, 
                    "metadata": {}
                }, 
                {
                    "output_type": "display_data", 
                    "data": {
                        "text/html": "<pre>| 30.89s                              | 63.25            | 2388            |</pre>", 
                        "text/plain": "| 30.89s                              | 63.25            | 2388            |"
                    }, 
                    "metadata": {}
                }, 
                {
                    "output_type": "display_data", 
                    "data": {
                        "text/html": "<pre>| 33.94s                              | 73.5             | 2778            |</pre>", 
                        "text/plain": "| 33.94s                              | 73.5             | 2778            |"
                    }, 
                    "metadata": {}
                }, 
                {
                    "output_type": "display_data", 
                    "data": {
                        "text/html": "<pre>| 37.01s                              | 79.75            | 3013            |</pre>", 
                        "text/plain": "| 37.01s                              | 79.75            | 3013            |"
                    }, 
                    "metadata": {}
                }, 
                {
                    "output_type": "display_data", 
                    "data": {
                        "text/html": "<pre>| 39.98s                              | 87               | 3284            |</pre>", 
                        "text/plain": "| 39.98s                              | 87               | 3284            |"
                    }, 
                    "metadata": {}
                }, 
                {
                    "output_type": "display_data", 
                    "data": {
                        "text/html": "<pre>| 43.12s                              | 94.25            | 3554            |</pre>", 
                        "text/plain": "| 43.12s                              | 94.25            | 3554            |"
                    }, 
                    "metadata": {}
                }, 
                {
                    "output_type": "display_data", 
                    "data": {
                        "text/html": "<pre>| 46.39s                              | 100              | 3768            |</pre>", 
                        "text/plain": "| 46.39s                              | 100              | 3768            |"
                    }, 
                    "metadata": {}
                }, 
                {
                    "output_type": "display_data", 
                    "data": {
                        "text/html": "<pre>+-------------------------------------+------------------+-----------------+</pre>", 
                        "text/plain": "+-------------------------------------+------------------+-----------------+"
                    }, 
                    "metadata": {}
                }, 
                {
                    "output_type": "display_data", 
                    "data": {
                        "text/html": "<pre>Finalizing lookup tables.</pre>", 
                        "text/plain": "Finalizing lookup tables."
                    }, 
                    "metadata": {}
                }, 
                {
                    "output_type": "display_data", 
                    "data": {
                        "text/html": "<pre>Generating candidate set for working with new users.</pre>", 
                        "text/plain": "Generating candidate set for working with new users."
                    }, 
                    "metadata": {}
                }, 
                {
                    "output_type": "display_data", 
                    "data": {
                        "text/html": "<pre>Finished training in 46.7293s</pre>", 
                        "text/plain": "Finished training in 46.7293s"
                    }, 
                    "metadata": {}
                }, 
                {
                    "output_type": "stream", 
                    "name": "stdout", 
                    "text": "+------------+-----------+--------------------+------+\n| customerId | productId |       score        | rank |\n+------------+-----------+--------------------+------+\n|   127269   |   22423U  | 2.2210108518082157 |  1   |\n|   127269   |  85099BJ  | 2.1693495368855635 |  2   |\n|   127269   |  85123AY  | 2.1596159900998995 |  3   |\n|   127269   |  81953BF  |        2.0         |  4   |\n|   127269   |   47566Y  | 1.9410298046698955 |  5   |\n|   127269   |   20725N  | 1.8266178949745124 |  6   |\n|   127269   |   22720A  | 1.8054334570255663 |  7   |\n|   127269   |   23442T  |        1.8         |  8   |\n|   127269   |   47469B  |        1.8         |  9   |\n|   127269   |   21212D  | 1.7760234594018494 |  10  |\n|   227268   |   22423U  | 2.2210108518082157 |  1   |\n|   227268   |  85099BJ  | 2.1693495368855635 |  2   |\n|   227268   |  85123AY  | 2.1596159900998995 |  3   |\n|   227268   |  81953BF  |        2.0         |  4   |\n|   227268   |   47566Y  | 1.9410298046698955 |  5   |\n|   227268   |   20725N  | 1.8266178949745124 |  6   |\n|   227268   |   22720A  | 1.8054334570255663 |  7   |\n|   227268   |   23442T  |        1.8         |  8   |\n|   227268   |   47469B  |        1.8         |  9   |\n|   227268   |   21212D  | 1.7760234594018494 |  10  |\n|   327267   |   22423U  | 2.2210108518082157 |  1   |\n|   327267   |  85099BJ  | 2.1693495368855635 |  2   |\n|   327267   |  85123AY  | 2.1596159900998995 |  3   |\n|   327267   |  81953BF  |        2.0         |  4   |\n|   327267   |   47566Y  | 1.9410298046698955 |  5   |\n|   327267   |   20725N  | 1.8266178949745124 |  6   |\n|   327267   |   22720A  | 1.8054334570255663 |  7   |\n|   327267   |   23442T  |        1.8         |  8   |\n|   327267   |   47469B  |        1.8         |  9   |\n|   327267   |   21212D  | 1.7760234594018494 |  10  |\n+------------+-----------+--------------------+------+\n[6280 rows x 4 columns]\n\n"
                }
            ], 
            "source": "# these variables will change accordingly\nname = 'pearson'\ntarget = 'purchase_count'\npear = model(train_data, name, user_id, item_id, target, users_to_recommend, n_rec, n_display)"
        }, 
        {
            "source": "#### Using purchase dummy", 
            "cell_type": "markdown", 
            "metadata": {}
        }, 
        {
            "execution_count": 39, 
            "cell_type": "code", 
            "metadata": {}, 
            "outputs": [
                {
                    "output_type": "display_data", 
                    "data": {
                        "text/html": "<pre>Warning: Ignoring columns purchase_count;</pre>", 
                        "text/plain": "Warning: Ignoring columns purchase_count;"
                    }, 
                    "metadata": {}
                }, 
                {
                    "output_type": "display_data", 
                    "data": {
                        "text/html": "<pre>    To use these columns in scoring predictions, use a model that allows the use of additional features.</pre>", 
                        "text/plain": "    To use these columns in scoring predictions, use a model that allows the use of additional features."
                    }, 
                    "metadata": {}
                }, 
                {
                    "output_type": "display_data", 
                    "data": {
                        "text/html": "<pre>Preparing data set.</pre>", 
                        "text/plain": "Preparing data set."
                    }, 
                    "metadata": {}
                }, 
                {
                    "output_type": "display_data", 
                    "data": {
                        "text/html": "<pre>    Data has 216824 observations with 971 users and 3784 items.</pre>", 
                        "text/plain": "    Data has 216824 observations with 971 users and 3784 items."
                    }, 
                    "metadata": {}
                }, 
                {
                    "output_type": "display_data", 
                    "data": {
                        "text/html": "<pre>    Data prepared in: 0.858861s</pre>", 
                        "text/plain": "    Data prepared in: 0.858861s"
                    }, 
                    "metadata": {}
                }, 
                {
                    "output_type": "display_data", 
                    "data": {
                        "text/html": "<pre>Training model from provided data.</pre>", 
                        "text/plain": "Training model from provided data."
                    }, 
                    "metadata": {}
                }, 
                {
                    "output_type": "display_data", 
                    "data": {
                        "text/html": "<pre>Gathering per-item and per-user statistics.</pre>", 
                        "text/plain": "Gathering per-item and per-user statistics."
                    }, 
                    "metadata": {}
                }, 
                {
                    "output_type": "display_data", 
                    "data": {
                        "text/html": "<pre>+--------------------------------+------------+</pre>", 
                        "text/plain": "+--------------------------------+------------+"
                    }, 
                    "metadata": {}
                }, 
                {
                    "output_type": "display_data", 
                    "data": {
                        "text/html": "<pre>| Elapsed Time (Item Statistics) | % Complete |</pre>", 
                        "text/plain": "| Elapsed Time (Item Statistics) | % Complete |"
                    }, 
                    "metadata": {}
                }, 
                {
                    "output_type": "display_data", 
                    "data": {
                        "text/html": "<pre>+--------------------------------+------------+</pre>", 
                        "text/plain": "+--------------------------------+------------+"
                    }, 
                    "metadata": {}
                }, 
                {
                    "output_type": "display_data", 
                    "data": {
                        "text/html": "<pre>| 1.37s                          | 100        |</pre>", 
                        "text/plain": "| 1.37s                          | 100        |"
                    }, 
                    "metadata": {}
                }, 
                {
                    "output_type": "display_data", 
                    "data": {
                        "text/html": "<pre>+--------------------------------+------------+</pre>", 
                        "text/plain": "+--------------------------------+------------+"
                    }, 
                    "metadata": {}
                }, 
                {
                    "output_type": "display_data", 
                    "data": {
                        "text/html": "<pre>Setting up lookup tables.</pre>", 
                        "text/plain": "Setting up lookup tables."
                    }, 
                    "metadata": {}
                }, 
                {
                    "output_type": "display_data", 
                    "data": {
                        "text/html": "<pre>Processing data in one pass using dense lookup tables.</pre>", 
                        "text/plain": "Processing data in one pass using dense lookup tables."
                    }, 
                    "metadata": {}
                }, 
                {
                    "output_type": "display_data", 
                    "data": {
                        "text/html": "<pre>+-------------------------------------+------------------+-----------------+</pre>", 
                        "text/plain": "+-------------------------------------+------------------+-----------------+"
                    }, 
                    "metadata": {}
                }, 
                {
                    "output_type": "display_data", 
                    "data": {
                        "text/html": "<pre>| Elapsed Time (Constructing Lookups) | Total % Complete | Items Processed |</pre>", 
                        "text/plain": "| Elapsed Time (Constructing Lookups) | Total % Complete | Items Processed |"
                    }, 
                    "metadata": {}
                }, 
                {
                    "output_type": "display_data", 
                    "data": {
                        "text/html": "<pre>+-------------------------------------+------------------+-----------------+</pre>", 
                        "text/plain": "+-------------------------------------+------------------+-----------------+"
                    }, 
                    "metadata": {}
                }, 
                {
                    "output_type": "display_data", 
                    "data": {
                        "text/html": "<pre>| 1.42s                               | 0                | 1               |</pre>", 
                        "text/plain": "| 1.42s                               | 0                | 1               |"
                    }, 
                    "metadata": {}
                }, 
                {
                    "output_type": "display_data", 
                    "data": {
                        "text/html": "<pre>| 4.47s                               | 13               | 500             |</pre>", 
                        "text/plain": "| 4.47s                               | 13               | 500             |"
                    }, 
                    "metadata": {}
                }, 
                {
                    "output_type": "display_data", 
                    "data": {
                        "text/html": "<pre>| 7.49s                               | 19.25            | 728             |</pre>", 
                        "text/plain": "| 7.49s                               | 19.25            | 728             |"
                    }, 
                    "metadata": {}
                }, 
                {
                    "output_type": "display_data", 
                    "data": {
                        "text/html": "<pre>| 10.45s                              | 25               | 948             |</pre>", 
                        "text/plain": "| 10.45s                              | 25               | 948             |"
                    }, 
                    "metadata": {}
                }, 
                {
                    "output_type": "display_data", 
                    "data": {
                        "text/html": "<pre>| 13.61s                              | 29.75            | 1128            |</pre>", 
                        "text/plain": "| 13.61s                              | 29.75            | 1128            |"
                    }, 
                    "metadata": {}
                }, 
                {
                    "output_type": "display_data", 
                    "data": {
                        "text/html": "<pre>| 16.51s                              | 36               | 1367            |</pre>", 
                        "text/plain": "| 16.51s                              | 36               | 1367            |"
                    }, 
                    "metadata": {}
                }, 
                {
                    "output_type": "display_data", 
                    "data": {
                        "text/html": "<pre>| 19.51s                              | 41.5             | 1570            |</pre>", 
                        "text/plain": "| 19.51s                              | 41.5             | 1570            |"
                    }, 
                    "metadata": {}
                }, 
                {
                    "output_type": "display_data", 
                    "data": {
                        "text/html": "<pre>| 22.43s                              | 47.5             | 1799            |</pre>", 
                        "text/plain": "| 22.43s                              | 47.5             | 1799            |"
                    }, 
                    "metadata": {}
                }, 
                {
                    "output_type": "display_data", 
                    "data": {
                        "text/html": "<pre>| 25.49s                              | 53               | 2006            |</pre>", 
                        "text/plain": "| 25.49s                              | 53               | 2006            |"
                    }, 
                    "metadata": {}
                }, 
                {
                    "output_type": "display_data", 
                    "data": {
                        "text/html": "<pre>| 28.63s                              | 60.5             | 2291            |</pre>", 
                        "text/plain": "| 28.63s                              | 60.5             | 2291            |"
                    }, 
                    "metadata": {}
                }, 
                {
                    "output_type": "display_data", 
                    "data": {
                        "text/html": "<pre>| 31.53s                              | 66.75            | 2530            |</pre>", 
                        "text/plain": "| 31.53s                              | 66.75            | 2530            |"
                    }, 
                    "metadata": {}
                }, 
                {
                    "output_type": "display_data", 
                    "data": {
                        "text/html": "<pre>| 34.43s                              | 72.25            | 2743            |</pre>", 
                        "text/plain": "| 34.43s                              | 72.25            | 2743            |"
                    }, 
                    "metadata": {}
                }, 
                {
                    "output_type": "display_data", 
                    "data": {
                        "text/html": "<pre>| 37.43s                              | 80               | 3029            |</pre>", 
                        "text/plain": "| 37.43s                              | 80               | 3029            |"
                    }, 
                    "metadata": {}
                }, 
                {
                    "output_type": "display_data", 
                    "data": {
                        "text/html": "<pre>| 40.47s                              | 86.5             | 3277            |</pre>", 
                        "text/plain": "| 40.47s                              | 86.5             | 3277            |"
                    }, 
                    "metadata": {}
                }, 
                {
                    "output_type": "display_data", 
                    "data": {
                        "text/html": "<pre>| 43.47s                              | 93               | 3523            |</pre>", 
                        "text/plain": "| 43.47s                              | 93               | 3523            |"
                    }, 
                    "metadata": {}
                }, 
                {
                    "output_type": "display_data", 
                    "data": {
                        "text/html": "<pre>| 46.11s                              | 100              | 3784            |</pre>", 
                        "text/plain": "| 46.11s                              | 100              | 3784            |"
                    }, 
                    "metadata": {}
                }, 
                {
                    "output_type": "display_data", 
                    "data": {
                        "text/html": "<pre>+-------------------------------------+------------------+-----------------+</pre>", 
                        "text/plain": "+-------------------------------------+------------------+-----------------+"
                    }, 
                    "metadata": {}
                }, 
                {
                    "output_type": "display_data", 
                    "data": {
                        "text/html": "<pre>Finalizing lookup tables.</pre>", 
                        "text/plain": "Finalizing lookup tables."
                    }, 
                    "metadata": {}
                }, 
                {
                    "output_type": "display_data", 
                    "data": {
                        "text/html": "<pre>Generating candidate set for working with new users.</pre>", 
                        "text/plain": "Generating candidate set for working with new users."
                    }, 
                    "metadata": {}
                }, 
                {
                    "output_type": "display_data", 
                    "data": {
                        "text/html": "<pre>Finished training in 46.5333s</pre>", 
                        "text/plain": "Finished training in 46.5333s"
                    }, 
                    "metadata": {}
                }, 
                {
                    "output_type": "stream", 
                    "name": "stdout", 
                    "text": "+------------+-----------+-------+------+\n| customerId | productId | score | rank |\n+------------+-----------+-------+------+\n|   127269   |   20724F  |  0.0  |  1   |\n|   127269   |  84596FA  |  0.0  |  2   |\n|   127269   |   21232B  |  0.0  |  3   |\n|   127269   |   23263V  |  0.0  |  4   |\n|   127269   |   22144E  |  0.0  |  5   |\n|   127269   |   22992G  |  0.0  |  6   |\n|   127269   |   23497Q  |  0.0  |  7   |\n|   127269   |   21809L  |  0.0  |  8   |\n|   127269   |   22342F  |  0.0  |  9   |\n|   127269   |   22960K  |  0.0  |  10  |\n|   227268   |   20724F  |  0.0  |  1   |\n|   227268   |  84596FA  |  0.0  |  2   |\n|   227268   |   21232B  |  0.0  |  3   |\n|   227268   |   23263V  |  0.0  |  4   |\n|   227268   |   22144E  |  0.0  |  5   |\n|   227268   |   22992G  |  0.0  |  6   |\n|   227268   |   23497Q  |  0.0  |  7   |\n|   227268   |   21809L  |  0.0  |  8   |\n|   227268   |   22342F  |  0.0  |  9   |\n|   227268   |   22960K  |  0.0  |  10  |\n|   327267   |   20724F  |  0.0  |  1   |\n|   327267   |  84596FA  |  0.0  |  2   |\n|   327267   |   21232B  |  0.0  |  3   |\n|   327267   |   23263V  |  0.0  |  4   |\n|   327267   |   22144E  |  0.0  |  5   |\n|   327267   |   22992G  |  0.0  |  6   |\n|   327267   |   23497Q  |  0.0  |  7   |\n|   327267   |   21809L  |  0.0  |  8   |\n|   327267   |   22342F  |  0.0  |  9   |\n|   327267   |   22960K  |  0.0  |  10  |\n+------------+-----------+-------+------+\n[6280 rows x 4 columns]\n\n"
                }
            ], 
            "source": "# these variables will change accordingly\nname = 'pearson'\ntarget = 'purchase_dummy'\npear_dummy = model(train_data_dummy, name, user_id, item_id, target, users_to_recommend, n_rec, n_display)"
        }, 
        {
            "source": "#### Using normalized purchase count", 
            "cell_type": "markdown", 
            "metadata": {}
        }, 
        {
            "execution_count": 40, 
            "cell_type": "code", 
            "metadata": {}, 
            "outputs": [
                {
                    "output_type": "display_data", 
                    "data": {
                        "text/html": "<pre>Preparing data set.</pre>", 
                        "text/plain": "Preparing data set."
                    }, 
                    "metadata": {}
                }, 
                {
                    "output_type": "display_data", 
                    "data": {
                        "text/html": "<pre>    Data has 205580 observations with 969 users and 2494 items.</pre>", 
                        "text/plain": "    Data has 205580 observations with 969 users and 2494 items."
                    }, 
                    "metadata": {}
                }, 
                {
                    "output_type": "display_data", 
                    "data": {
                        "text/html": "<pre>    Data prepared in: 0.960326s</pre>", 
                        "text/plain": "    Data prepared in: 0.960326s"
                    }, 
                    "metadata": {}
                }, 
                {
                    "output_type": "display_data", 
                    "data": {
                        "text/html": "<pre>Training model from provided data.</pre>", 
                        "text/plain": "Training model from provided data."
                    }, 
                    "metadata": {}
                }, 
                {
                    "output_type": "display_data", 
                    "data": {
                        "text/html": "<pre>Gathering per-item and per-user statistics.</pre>", 
                        "text/plain": "Gathering per-item and per-user statistics."
                    }, 
                    "metadata": {}
                }, 
                {
                    "output_type": "display_data", 
                    "data": {
                        "text/html": "<pre>+--------------------------------+------------+</pre>", 
                        "text/plain": "+--------------------------------+------------+"
                    }, 
                    "metadata": {}
                }, 
                {
                    "output_type": "display_data", 
                    "data": {
                        "text/html": "<pre>| Elapsed Time (Item Statistics) | % Complete |</pre>", 
                        "text/plain": "| Elapsed Time (Item Statistics) | % Complete |"
                    }, 
                    "metadata": {}
                }, 
                {
                    "output_type": "display_data", 
                    "data": {
                        "text/html": "<pre>+--------------------------------+------------+</pre>", 
                        "text/plain": "+--------------------------------+------------+"
                    }, 
                    "metadata": {}
                }, 
                {
                    "output_type": "display_data", 
                    "data": {
                        "text/html": "<pre>| 430.276ms                      | 100        |</pre>", 
                        "text/plain": "| 430.276ms                      | 100        |"
                    }, 
                    "metadata": {}
                }, 
                {
                    "output_type": "display_data", 
                    "data": {
                        "text/html": "<pre>+--------------------------------+------------+</pre>", 
                        "text/plain": "+--------------------------------+------------+"
                    }, 
                    "metadata": {}
                }, 
                {
                    "output_type": "display_data", 
                    "data": {
                        "text/html": "<pre>Setting up lookup tables.</pre>", 
                        "text/plain": "Setting up lookup tables."
                    }, 
                    "metadata": {}
                }, 
                {
                    "output_type": "display_data", 
                    "data": {
                        "text/html": "<pre>Processing data in one pass using dense lookup tables.</pre>", 
                        "text/plain": "Processing data in one pass using dense lookup tables."
                    }, 
                    "metadata": {}
                }, 
                {
                    "output_type": "display_data", 
                    "data": {
                        "text/html": "<pre>+-------------------------------------+------------------+-----------------+</pre>", 
                        "text/plain": "+-------------------------------------+------------------+-----------------+"
                    }, 
                    "metadata": {}
                }, 
                {
                    "output_type": "display_data", 
                    "data": {
                        "text/html": "<pre>| Elapsed Time (Constructing Lookups) | Total % Complete | Items Processed |</pre>", 
                        "text/plain": "| Elapsed Time (Constructing Lookups) | Total % Complete | Items Processed |"
                    }, 
                    "metadata": {}
                }, 
                {
                    "output_type": "display_data", 
                    "data": {
                        "text/html": "<pre>+-------------------------------------+------------------+-----------------+</pre>", 
                        "text/plain": "+-------------------------------------+------------------+-----------------+"
                    }, 
                    "metadata": {}
                }, 
                {
                    "output_type": "display_data", 
                    "data": {
                        "text/html": "<pre>| 447.797ms                           | 0                | 2               |</pre>", 
                        "text/plain": "| 447.797ms                           | 0                | 2               |"
                    }, 
                    "metadata": {}
                }, 
                {
                    "output_type": "display_data", 
                    "data": {
                        "text/html": "<pre>| 3.46s                               | 13               | 324             |</pre>", 
                        "text/plain": "| 3.46s                               | 13               | 324             |"
                    }, 
                    "metadata": {}
                }, 
                {
                    "output_type": "display_data", 
                    "data": {
                        "text/html": "<pre>| 6.57s                               | 18               | 453             |</pre>", 
                        "text/plain": "| 6.57s                               | 18               | 453             |"
                    }, 
                    "metadata": {}
                }, 
                {
                    "output_type": "display_data", 
                    "data": {
                        "text/html": "<pre>| 9.68s                               | 25.25            | 633             |</pre>", 
                        "text/plain": "| 9.68s                               | 25.25            | 633             |"
                    }, 
                    "metadata": {}
                }, 
                {
                    "output_type": "display_data", 
                    "data": {
                        "text/html": "<pre>| 12.62s                              | 33               | 823             |</pre>", 
                        "text/plain": "| 12.62s                              | 33               | 823             |"
                    }, 
                    "metadata": {}
                }, 
                {
                    "output_type": "display_data", 
                    "data": {
                        "text/html": "<pre>| 15.45s                              | 37.75            | 946             |</pre>", 
                        "text/plain": "| 15.45s                              | 37.75            | 946             |"
                    }, 
                    "metadata": {}
                }, 
                {
                    "output_type": "display_data", 
                    "data": {
                        "text/html": "<pre>| 18.46s                              | 42.75            | 1071            |</pre>", 
                        "text/plain": "| 18.46s                              | 42.75            | 1071            |"
                    }, 
                    "metadata": {}
                }, 
                {
                    "output_type": "display_data", 
                    "data": {
                        "text/html": "<pre>| 21.47s                              | 52.5             | 1313            |</pre>", 
                        "text/plain": "| 21.47s                              | 52.5             | 1313            |"
                    }, 
                    "metadata": {}
                }, 
                {
                    "output_type": "display_data", 
                    "data": {
                        "text/html": "<pre>| 24.50s                              | 59.5             | 1487            |</pre>", 
                        "text/plain": "| 24.50s                              | 59.5             | 1487            |"
                    }, 
                    "metadata": {}
                }, 
                {
                    "output_type": "display_data", 
                    "data": {
                        "text/html": "<pre>| 27.52s                              | 66.25            | 1654            |</pre>", 
                        "text/plain": "| 27.52s                              | 66.25            | 1654            |"
                    }, 
                    "metadata": {}
                }, 
                {
                    "output_type": "display_data", 
                    "data": {
                        "text/html": "<pre>| 30.68s                              | 74               | 1846            |</pre>", 
                        "text/plain": "| 30.68s                              | 74               | 1846            |"
                    }, 
                    "metadata": {}
                }, 
                {
                    "output_type": "display_data", 
                    "data": {
                        "text/html": "<pre>| 33.48s                              | 81               | 2024            |</pre>", 
                        "text/plain": "| 33.48s                              | 81               | 2024            |"
                    }, 
                    "metadata": {}
                }, 
                {
                    "output_type": "display_data", 
                    "data": {
                        "text/html": "<pre>| 36.51s                              | 90.75            | 2266            |</pre>", 
                        "text/plain": "| 36.51s                              | 90.75            | 2266            |"
                    }, 
                    "metadata": {}
                }, 
                {
                    "output_type": "display_data", 
                    "data": {
                        "text/html": "<pre>| 39.50s                              | 99.75            | 2491            |</pre>", 
                        "text/plain": "| 39.50s                              | 99.75            | 2491            |"
                    }, 
                    "metadata": {}
                }, 
                {
                    "output_type": "display_data", 
                    "data": {
                        "text/html": "<pre>| 40.16s                              | 100              | 2494            |</pre>", 
                        "text/plain": "| 40.16s                              | 100              | 2494            |"
                    }, 
                    "metadata": {}
                }, 
                {
                    "output_type": "display_data", 
                    "data": {
                        "text/html": "<pre>+-------------------------------------+------------------+-----------------+</pre>", 
                        "text/plain": "+-------------------------------------+------------------+-----------------+"
                    }, 
                    "metadata": {}
                }, 
                {
                    "output_type": "display_data", 
                    "data": {
                        "text/html": "<pre>Finalizing lookup tables.</pre>", 
                        "text/plain": "Finalizing lookup tables."
                    }, 
                    "metadata": {}
                }, 
                {
                    "output_type": "display_data", 
                    "data": {
                        "text/html": "<pre>Generating candidate set for working with new users.</pre>", 
                        "text/plain": "Generating candidate set for working with new users."
                    }, 
                    "metadata": {}
                }, 
                {
                    "output_type": "display_data", 
                    "data": {
                        "text/html": "<pre>Finished training in 40.8085s</pre>", 
                        "text/plain": "Finished training in 40.8085s"
                    }, 
                    "metadata": {}
                }, 
                {
                    "output_type": "stream", 
                    "name": "stdout", 
                    "text": "+------------+-----------+---------------------+------+\n| customerId | productId |        score        | rank |\n+------------+-----------+---------------------+------+\n|   127269   |   84548X  |         1.0         |  1   |\n|   127269   |   21816Y  |         0.5         |  2   |\n|   127269   |  84751BL  |         0.5         |  3   |\n|   127269   |  81950BS  |         0.4         |  4   |\n|   127269   |  72369AK  |  0.3333333333333333 |  5   |\n|   127269   |   21393V  |  0.3333333333333333 |  6   |\n|   127269   |   85189T  |  0.3333333333333333 |  7   |\n|   127269   |   21196B  |  0.3333333333333333 |  8   |\n|   127269   |   21841K  | 0.28571428571428575 |  9   |\n|   127269   |   23442T  | 0.26666666666666666 |  10  |\n|   227268   |   84548X  |         1.0         |  1   |\n|   227268   |   21816Y  |         0.5         |  2   |\n|   227268   |  84751BL  |         0.5         |  3   |\n|   227268   |  81950BS  |         0.4         |  4   |\n|   227268   |  72369AK  |  0.3333333333333333 |  5   |\n|   227268   |   21393V  |  0.3333333333333333 |  6   |\n|   227268   |   85189T  |  0.3333333333333333 |  7   |\n|   227268   |   21196B  |  0.3333333333333333 |  8   |\n|   227268   |   21841K  | 0.28571428571428575 |  9   |\n|   227268   |   23442T  | 0.26666666666666666 |  10  |\n|   327267   |   84548X  |         1.0         |  1   |\n|   327267   |   21816Y  |         0.5         |  2   |\n|   327267   |  84751BL  |         0.5         |  3   |\n|   327267   |  81950BS  |         0.4         |  4   |\n|   327267   |  72369AK  |  0.3333333333333333 |  5   |\n|   327267   |   21393V  |  0.3333333333333333 |  6   |\n|   327267   |   85189T  |  0.3333333333333333 |  7   |\n|   327267   |   21196B  |  0.3333333333333333 |  8   |\n|   327267   |   21841K  | 0.28571428571428575 |  9   |\n|   327267   |   23442T  | 0.26666666666666666 |  10  |\n+------------+-----------+---------------------+------+\n[6280 rows x 4 columns]\n\n"
                }
            ], 
            "source": "name = 'pearson'\ntarget = 'scaled_purchase_freq'\npear_norm = model(train_data_norm, name, user_id, item_id, target, users_to_recommend, n_rec, n_display)"
        }, 
        {
            "source": "#### Note\n* In collaborative filtering above, we used two approaches: cosine and pearson distance. We also got to apply them to three training datasets with normal counts, dummy, or normalized counts of items purchase.\n* We can see that the recommendations are different for each user. This suggests that personalization does exist. \n* But how good is this model compared to the baseline, and to each other? We need some means of evaluating a recommendation engine. Lets focus on that in the next section.", 
            "cell_type": "markdown", 
            "metadata": {}
        }, 
        {
            "source": "## 7. Model Evaluation\nFor evaluating recommendation engines, we can use the concept of precision-recall.\n\n* RMSE (Root Mean Squared Errors)\n    * Measures the error of predicted values\n    * Lesser the RMSE value, better the recommendations\n* Recall\n    * What percentage of products that a user buys are actually recommended?\n    * If a customer buys 5 products and the recommendation decided to show 3 of them, then the recall is 0.6\n* Precision\n    * Out of all the recommended items, how many the user actually liked?\n    * If 5 products were recommended to the customer out of which he buys 4 of them, then precision is 0.8\n    \n* Why are both recall and precision important?\n    * Consider a case where we recommend all products, so our customers will surely cover the items that they liked and bought. In this case, we have 100% recall! Does this mean our model is good?\n    * We have to consider precision. If we recommend 300 items but user likes and buys only 3 of them, then precision is 0.1%! This very low precision indicates that the model is not great, despite their excellent recall.\n    * So our aim has to be optimizing both recall and precision (to be close to 1 as possible).\n\nLets compare all the models we have built based on precision-recall characteristics:", 
            "cell_type": "markdown", 
            "metadata": {}
        }, 
        {
            "execution_count": 41, 
            "cell_type": "code", 
            "metadata": {}, 
            "outputs": [], 
            "source": "# create initial callable variables\n\nmodels_w_counts = [popularity_model, cos, pear]\nmodels_w_dummy = [pop_dummy, cos_dummy, pear_dummy]\nmodels_w_norm = [pop_norm, cos_norm, pear_norm]\n\nnames_w_counts = ['Popularity Model on Purchase Counts', 'Cosine Similarity on Purchase Counts', 'Pearson Similarity on Purchase Counts']\nnames_w_dummy = ['Popularity Model on Purchase Dummy', 'Cosine Similarity on Purchase Dummy', 'Pearson Similarity on Purchase Dummy']\nnames_w_norm = ['Popularity Model on Scaled Purchase Counts', 'Cosine Similarity on Scaled Purchase Counts', 'Pearson Similarity on Scaled Purchase Counts']"
        }, 
        {
            "source": "#### Models on purchase counts", 
            "cell_type": "markdown", 
            "metadata": {}
        }, 
        {
            "execution_count": 42, 
            "cell_type": "code", 
            "metadata": {
                "scrolled": false
            }, 
            "outputs": [
                {
                    "output_type": "stream", 
                    "name": "stdout", 
                    "text": "PROGRESS: Evaluate model Popularity Model on Purchase Counts\n\nPrecision and recall summary statistics by cutoff\n+--------+----------------------+---------------------+\n| cutoff |     mean_recall      |    mean_precision   |\n+--------+----------------------+---------------------+\n|   1    | 0.004929836558357202 | 0.27619047619047654 |\n|   2    | 0.009460932663440703 | 0.24232804232804228 |\n|   3    | 0.01294623755877099  | 0.22751322751322753 |\n|   4    | 0.015580788032447904 |  0.2145502645502644 |\n|   5    | 0.018175052876284053 | 0.19915343915343917 |\n|   6    | 0.022347337295660186 | 0.19135802469135788 |\n|   7    | 0.02491299539658061  | 0.18760393046107335 |\n|   8    | 0.02781621125704707  |  0.1850529100529101 |\n|   9    | 0.03143302165109048  | 0.18683127572016447 |\n|   10   | 0.03459666840426081  |  0.1879365079365075 |\n+--------+----------------------+---------------------+\n[10 rows x 3 columns]\n\n"
                }, 
                {
                    "output_type": "display_data", 
                    "data": {
                        "text/html": "<pre>Using default 16 lambda workers.</pre>", 
                        "text/plain": "Using default 16 lambda workers."
                    }, 
                    "metadata": {}
                }, 
                {
                    "output_type": "display_data", 
                    "data": {
                        "text/html": "<pre>To maximize the degree of parallelism, add the following code to the beginning of the program:</pre>", 
                        "text/plain": "To maximize the degree of parallelism, add the following code to the beginning of the program:"
                    }, 
                    "metadata": {}
                }, 
                {
                    "output_type": "display_data", 
                    "data": {
                        "text/html": "<pre>\"turicreate.config.set_runtime_config('TURI_DEFAULT_NUM_PYLAMBDA_WORKERS', 56)\"</pre>", 
                        "text/plain": "\"turicreate.config.set_runtime_config('TURI_DEFAULT_NUM_PYLAMBDA_WORKERS', 56)\""
                    }, 
                    "metadata": {}
                }, 
                {
                    "output_type": "display_data", 
                    "data": {
                        "text/html": "<pre>Note that increasing the degree of parallelism also increases the memory footprint.</pre>", 
                        "text/plain": "Note that increasing the degree of parallelism also increases the memory footprint."
                    }, 
                    "metadata": {}
                }, 
                {
                    "output_type": "stream", 
                    "name": "stdout", 
                    "text": "\nOverall RMSE: 0.5284507042470965\n\nPer User RMSE (best)\n+------------+----------------------+-------+\n| customerId |         rmse         | count |\n+------------+----------------------+-------+\n|   471816   | 0.033759108960261096 |   4   |\n+------------+----------------------+-------+\n[1 rows x 3 columns]\n\n\nPer User RMSE (worst)\n+------------+--------------------+-------+\n| customerId |        rmse        | count |\n+------------+--------------------+-------+\n|   419976   | 1.2497816081623085 |  124  |\n+------------+--------------------+-------+\n[1 rows x 3 columns]\n\n\nPer Item RMSE (best)\n+-----------+------+-------+\n| productId | rmse | count |\n+-----------+------+-------+\n|   51008P  | 0.0  |   6   |\n+-----------+------+-------+\n[1 rows x 3 columns]\n\n\nPer Item RMSE (worst)\n+-----------+--------------------+-------+\n| productId |        rmse        | count |\n+-----------+--------------------+-------+\n|  85123AY  | 1.6273447039728817 |  126  |\n+-----------+--------------------+-------+\n[1 rows x 3 columns]\n\nPROGRESS: Evaluate model Cosine Similarity on Purchase Counts\n\nPrecision and recall summary statistics by cutoff\n+--------+----------------------+---------------------+\n| cutoff |     mean_recall      |    mean_precision   |\n+--------+----------------------+---------------------+\n|   1    | 0.007934323205505231 |  0.3365079365079366 |\n|   2    | 0.011930281745869135 |  0.3010582010582006 |\n|   3    | 0.016827007914439935 |  0.2874779541446204 |\n|   4    | 0.020730558728153277 |  0.2759259259259258 |\n|   5    | 0.025091816835230596 |  0.273862433862434  |\n|   6    | 0.028739831780316187 | 0.26719576719576726 |\n|   7    | 0.032437678916902954 | 0.26349206349206367 |\n|   8    | 0.03711977341884821  | 0.25767195767195744 |\n|   9    | 0.041761499974982956 |  0.2553791887125216 |\n|   10   | 0.045168228159047474 | 0.25227513227513204 |\n+--------+----------------------+---------------------+\n[10 rows x 3 columns]\n\n\nOverall RMSE: 1.3024153351656533\n\nPer User RMSE (best)\n+------------+---------------------+-------+\n| customerId |         rmse        | count |\n+------------+---------------------+-------+\n|   121968   | 0.40529894828796387 |   1   |\n+------------+---------------------+-------+\n[1 rows x 3 columns]\n\n\nPer User RMSE (worst)\n+------------+------------------+-------+\n| customerId |       rmse       | count |\n+------------+------------------+-------+\n|   419976   | 2.03166028472552 |  124  |\n+------------+------------------+-------+\n[1 rows x 3 columns]\n\n\nPer Item RMSE (best)\n+-----------+--------------------+-------+\n| productId |        rmse        | count |\n+-----------+--------------------+-------+\n|   22259G  | 0.9426896470325967 |   4   |\n+-----------+--------------------+-------+\n[1 rows x 3 columns]\n\n\nPer Item RMSE (worst)\n+-----------+-------------------+-------+\n| productId |        rmse       | count |\n+-----------+-------------------+-------+\n|  85123AY  | 2.556518696733703 |  126  |\n+-----------+-------------------+-------+\n[1 rows x 3 columns]\n\nPROGRESS: Evaluate model Pearson Similarity on Purchase Counts\n\nPrecision and recall summary statistics by cutoff\n+--------+----------------------+---------------------+\n| cutoff |     mean_recall      |    mean_precision   |\n+--------+----------------------+---------------------+\n|   1    | 0.004929836558357201 | 0.27619047619047554 |\n|   2    | 0.009309761083697686 | 0.24179894179894199 |\n|   3    | 0.012936013710243659 | 0.22716049382716047 |\n|   4    | 0.015481561799576915 |  0.2126984126984126 |\n|   5    | 0.018012984976456578 |  0.1972486772486772 |\n|   6    | 0.021761678134361223 |  0.1890652557319223 |\n|   7    | 0.024213839121304488 | 0.18518518518518504 |\n|   8    | 0.027269034067996495 | 0.18253968253968267 |\n|   9    | 0.030169449632233364 | 0.18424456202233971 |\n|   10   | 0.03352323376777407  | 0.18592592592592616 |\n+--------+----------------------+---------------------+\n[10 rows x 3 columns]\n\n\nOverall RMSE: 0.5286204411846703\n\nPer User RMSE (best)\n+------------+---------------------+-------+\n| customerId |         rmse        | count |\n+------------+---------------------+-------+\n|   274518   | 0.03283714127784201 |   4   |\n+------------+---------------------+-------+\n[1 rows x 3 columns]\n\n\nPer User RMSE (worst)\n+------------+--------------------+-------+\n| customerId |        rmse        | count |\n+------------+--------------------+-------+\n|   419976   | 1.2468869364047996 |  124  |\n+------------+--------------------+-------+\n[1 rows x 3 columns]\n\n\nPer Item RMSE (best)\n+-----------+------+-------+\n| productId | rmse | count |\n+-----------+------+-------+\n|   51008P  | 0.0  |   6   |\n+-----------+------+-------+\n[1 rows x 3 columns]\n\n\nPer Item RMSE (worst)\n+-----------+--------------------+-------+\n| productId |        rmse        | count |\n+-----------+--------------------+-------+\n|  85123AY  | 1.6218223193977663 |  126  |\n+-----------+--------------------+-------+\n[1 rows x 3 columns]\n\n"
                }
            ], 
            "source": "eval_counts = tc.recommender.util.compare_models(test_data, models_w_counts, model_names=names_w_counts)"
        }, 
        {
            "source": "#### Models on purchase dummy", 
            "cell_type": "markdown", 
            "metadata": {}
        }, 
        {
            "execution_count": 43, 
            "cell_type": "code", 
            "metadata": {
                "scrolled": false
            }, 
            "outputs": [
                {
                    "output_type": "stream", 
                    "name": "stdout", 
                    "text": "PROGRESS: Evaluate model Popularity Model on Purchase Dummy\n\nPrecision and recall summary statistics by cutoff\n+--------+-----------------------+----------------------+\n| cutoff |      mean_recall      |    mean_precision    |\n+--------+-----------------------+----------------------+\n|   1    | 0.0001851043331336039 | 0.010626992561105199 |\n|   2    | 0.0002684889035515802 | 0.008501594048884172 |\n|   3    | 0.0005203156938603141 | 0.008147360963513994 |\n|   4    | 0.0006170253393866926 | 0.008501594048884167 |\n|   5    | 0.0007261072046298127 | 0.008289054197662054 |\n|   6    | 0.0007680181904178396 | 0.007616011335458735 |\n|   7    | 0.0009403951264168706 |  0.0080461515105511  |\n|   8    | 0.0010129827084559252 | 0.007970244420828899 |\n|   9    | 0.0012354418027094294 | 0.008029283268390594 |\n|   10   | 0.0013252341857038254 | 0.008182784272051007 |\n+--------+-----------------------+----------------------+\n[10 rows x 3 columns]\n\n\nOverall RMSE: 0.0\n\nPer User RMSE (best)\n+------------+------+-------+\n| customerId | rmse | count |\n+------------+------+-------+\n|   263628   | 0.0  |   14  |\n+------------+------+-------+\n[1 rows x 3 columns]\n\n\nPer User RMSE (worst)\n+------------+------+-------+\n| customerId | rmse | count |\n+------------+------+-------+\n|   201888   | 0.0  |   8   |\n+------------+------+-------+\n[1 rows x 3 columns]\n\n\nPer Item RMSE (best)\n+-----------+------+-------+\n| productId | rmse | count |\n+-----------+------+-------+\n|  17084NU  | 0.0  |   15  |\n+-----------+------+-------+\n[1 rows x 3 columns]\n\n\nPer Item RMSE (worst)\n+-----------+------+-------+\n| productId | rmse | count |\n+-----------+------+-------+\n|   21906V  | 0.0  |   16  |\n+-----------+------+-------+\n[1 rows x 3 columns]\n\nPROGRESS: Evaluate model Cosine Similarity on Purchase Dummy\n\nPrecision and recall summary statistics by cutoff\n+--------+----------------------+---------------------+\n| cutoff |     mean_recall      |    mean_precision   |\n+--------+----------------------+---------------------+\n|   1    | 0.006540694045802284 |  0.3209351753453773 |\n|   2    | 0.011688569823406046 |  0.3012752391073327 |\n|   3    | 0.016323037831560912 |  0.2897626638328016 |\n|   4    |  0.0214428229591795  | 0.27922422954303944 |\n|   5    | 0.025926042442523313 |  0.270350690754517  |\n|   6    | 0.030473953045966708 | 0.26549769748494517 |\n|   7    | 0.034331789355903905 | 0.25975406102930004 |\n|   8    | 0.038641278258843594 |  0.2539851222104145 |\n|   9    | 0.04268668282978585  |  0.2516235683079466 |\n|   10   | 0.046134915058034104 | 0.24814027630180646 |\n+--------+----------------------+---------------------+\n[10 rows x 3 columns]\n\n\nOverall RMSE: 0.9750867968234889\n\nPer User RMSE (best)\n+------------+-------------------+-------+\n| customerId |        rmse       | count |\n+------------+-------------------+-------+\n|   119178   | 0.557041585445404 |   1   |\n+------------+-------------------+-------+\n[1 rows x 3 columns]\n\n\nPer User RMSE (worst)\n+------------+------+-------+\n| customerId | rmse | count |\n+------------+------+-------+\n|   479916   | 1.0  |   3   |\n+------------+------+-------+\n[1 rows x 3 columns]\n\n\nPer Item RMSE (best)\n+-----------+--------------------+-------+\n| productId |        rmse        | count |\n+-----------+--------------------+-------+\n|   22457C  | 0.7129748533093648 |   92  |\n+-----------+--------------------+-------+\n[1 rows x 3 columns]\n\n\nPer Item RMSE (worst)\n+-----------+------+-------+\n| productId | rmse | count |\n+-----------+------+-------+\n|  90210AL  | 1.0  |   1   |\n+-----------+------+-------+\n[1 rows x 3 columns]\n\nPROGRESS: Evaluate model Pearson Similarity on Purchase Dummy\n\nPrecision and recall summary statistics by cutoff\n+--------+------------------------+-----------------------+\n| cutoff |      mean_recall       |     mean_precision    |\n+--------+------------------------+-----------------------+\n|   1    | 0.00013865226126306705 |  0.009564293304994692 |\n|   2    |  0.000208476992615179  | 0.0074388947927736485 |\n|   3    | 0.0003183783291779674  |  0.007793127878143815 |\n|   4    | 0.00041589647332034284 |   0.0079702444208289  |\n|   5    | 0.0005068649298793691  | 0.0076514346439957555 |\n|   6    |  0.00059003375006592   |  0.007261778250088551 |\n|   7    |  0.000787035410497338  |  0.006983452254440573 |\n|   8    | 0.0008606001250059346  |  0.007040382571732204 |\n|   9    | 0.0009275834742794983  |  0.007084661707403481 |\n|   10   | 0.0010871551527991499  |  0.007651434643995753 |\n+--------+------------------------+-----------------------+\n[10 rows x 3 columns]\n\n\nOverall RMSE: 1.0\n\nPer User RMSE (best)\n+------------+------+-------+\n| customerId | rmse | count |\n+------------+------+-------+\n|   263628   | 1.0  |   14  |\n+------------+------+-------+\n[1 rows x 3 columns]\n\n\nPer User RMSE (worst)\n+------------+------+-------+\n| customerId | rmse | count |\n+------------+------+-------+\n|   201888   | 1.0  |   8   |\n+------------+------+-------+\n[1 rows x 3 columns]\n\n\nPer Item RMSE (best)\n+-----------+------+-------+\n| productId | rmse | count |\n+-----------+------+-------+\n|  17084NU  | 1.0  |   15  |\n+-----------+------+-------+\n[1 rows x 3 columns]\n\n\nPer Item RMSE (worst)\n+-----------+------+-------+\n| productId | rmse | count |\n+-----------+------+-------+\n|   21906V  | 1.0  |   16  |\n+-----------+------+-------+\n[1 rows x 3 columns]\n\n"
                }
            ], 
            "source": "eval_dummy = tc.recommender.util.compare_models(test_data_dummy, models_w_dummy, model_names=names_w_dummy)"
        }, 
        {
            "source": "#### Models on normalized purchase frequency", 
            "cell_type": "markdown", 
            "metadata": {}
        }, 
        {
            "execution_count": 44, 
            "cell_type": "code", 
            "metadata": {
                "scrolled": false
            }, 
            "outputs": [
                {
                    "output_type": "stream", 
                    "name": "stdout", 
                    "text": "PROGRESS: Evaluate model Popularity Model on Scaled Purchase Counts\n\nPrecision and recall summary statistics by cutoff\n+--------+------------------------+-----------------------+\n| cutoff |      mean_recall       |     mean_precision    |\n+--------+------------------------+-----------------------+\n|   1    | 7.707782548038738e-06  | 0.0010559662090813117 |\n|   2    | 3.4324559219555624e-05 |  0.001583949313621966 |\n|   3    |  5.94531668688168e-05  | 0.0017599436818021832 |\n|   4    |  5.94531668688168e-05  | 0.0013199577613516363 |\n|   5    |  5.94531668688168e-05  | 0.0010559662090813104 |\n|   6    |  5.94531668688168e-05  | 0.0008799718409010916 |\n|   7    | 6.757598386174979e-05  | 0.0009051138934982643 |\n|   8    | 7.438866908162923e-05  | 0.0009239704329461454 |\n|   9    | 0.00016809780139564386 | 0.0014079549454417482 |\n|   10   | 0.00016809780139564386 | 0.0012671594508975703 |\n+--------+------------------------+-----------------------+\n[10 rows x 3 columns]\n\n\nOverall RMSE: 0.21018596083300267\n\nPer User RMSE (best)\n+------------+----------------------+-------+\n| customerId |         rmse         | count |\n+------------+----------------------+-------+\n|   265338   | 0.023255813953488372 |   1   |\n+------------+----------------------+-------+\n[1 rows x 3 columns]\n\n\nPer User RMSE (worst)\n+------------+--------------------+-------+\n| customerId |        rmse        | count |\n+------------+--------------------+-------+\n|   228177   | 0.4333769565961814 |   9   |\n+------------+--------------------+-------+\n[1 rows x 3 columns]\n\n\nPer Item RMSE (best)\n+-----------+----------------------+-------+\n| productId |         rmse         | count |\n+-----------+----------------------+-------+\n|   22592W  | 0.014925373134328358 |   11  |\n+-----------+----------------------+-------+\n[1 rows x 3 columns]\n\n\nPer Item RMSE (worst)\n+-----------+------+-------+\n| productId | rmse | count |\n+-----------+------+-------+\n|   21392H  | 1.0  |   1   |\n+-----------+------+-------+\n[1 rows x 3 columns]\n\nPROGRESS: Evaluate model Cosine Similarity on Scaled Purchase Counts\n\nPrecision and recall summary statistics by cutoff\n+--------+----------------------+---------------------+\n| cutoff |     mean_recall      |    mean_precision   |\n+--------+----------------------+---------------------+\n|   1    | 0.005436658272688505 |  0.3357972544878561 |\n|   2    | 0.009916086083922386 | 0.31256599788806716 |\n|   3    | 0.014076278411819907 |  0.2939105948609643 |\n|   4    | 0.017190479313905434 | 0.27587117212249224 |\n|   5    | 0.020390675891240988 |  0.2682154171066531 |\n|   6    | 0.02353427735425965  |  0.2599436818021826 |\n|   7    | 0.026113840604065106 | 0.24996228692110428 |\n|   8    | 0.029282586064805743 | 0.24472016895459325 |\n|   9    | 0.032207265020992595 |  0.2397043294614574 |\n|   10   |  0.0354470171540672  | 0.23643083421330513 |\n+--------+----------------------+---------------------+\n[10 rows x 3 columns]\n\n\nOverall RMSE: 0.22476537192569104\n\nPer User RMSE (best)\n+------------+------+-------+\n| customerId | rmse | count |\n+------------+------+-------+\n|   258147   | 0.0  |   13  |\n+------------+------+-------+\n[1 rows x 3 columns]\n\n\nPer User RMSE (worst)\n+------------+-------------------+-------+\n| customerId |        rmse       | count |\n+------------+-------------------+-------+\n|   228177   | 0.481366232261062 |   9   |\n+------------+-------------------+-------+\n[1 rows x 3 columns]\n\n\nPer Item RMSE (best)\n+-----------+------+-------+\n| productId | rmse | count |\n+-----------+------+-------+\n|   23453X  | 0.0  |   6   |\n+-----------+------+-------+\n[1 rows x 3 columns]\n\n\nPer Item RMSE (worst)\n+-----------+------+-------+\n| productId | rmse | count |\n+-----------+------+-------+\n|   21392H  | 1.0  |   1   |\n+-----------+------+-------+\n[1 rows x 3 columns]\n\nPROGRESS: Evaluate model Pearson Similarity on Scaled Purchase Counts\n\nPrecision and recall summary statistics by cutoff\n+--------+------------------------+-----------------------+\n| cutoff |      mean_recall       |     mean_precision    |\n+--------+------------------------+-----------------------+\n|   1    | 7.707782548038728e-06  | 0.0010559662090813108 |\n|   2    | 3.4324559219555556e-05 | 0.0015839493136219648 |\n|   3    |  5.94531668688168e-05  | 0.0017599436818021823 |\n|   4    |  5.94531668688168e-05  |  0.001319957761351636 |\n|   5    |  5.94531668688168e-05  | 0.0010559662090813115 |\n|   6    | 6.626585208869609e-05  |  0.001055966209081312 |\n|   7    | 7.438866908162916e-05  | 0.0010559662090813117 |\n|   8    | 7.438866908162916e-05  | 0.0009239704329461469 |\n|   9    | 0.00016809780139564386 | 0.0014079549454417463 |\n|   10   | 0.0001680978013956439  |  0.00126715945089757  |\n+--------+------------------------+-----------------------+\n[10 rows x 3 columns]\n\n\nOverall RMSE: 0.21007223610274564\n\nPer User RMSE (best)\n+------------+----------------------+-------+\n| customerId |         rmse         | count |\n+------------+----------------------+-------+\n|   265338   | 0.023255813953488372 |   1   |\n+------------+----------------------+-------+\n[1 rows x 3 columns]\n\n\nPer User RMSE (worst)\n+------------+--------------------+-------+\n| customerId |        rmse        | count |\n+------------+--------------------+-------+\n|   228177   | 0.4333240452171161 |   9   |\n+------------+--------------------+-------+\n[1 rows x 3 columns]\n\n\nPer Item RMSE (best)\n+-----------+----------------------+-------+\n| productId |         rmse         | count |\n+-----------+----------------------+-------+\n|   22592W  | 0.014925135220070003 |   11  |\n+-----------+----------------------+-------+\n[1 rows x 3 columns]\n\n\nPer Item RMSE (worst)\n+-----------+------+-------+\n| productId | rmse | count |\n+-----------+------+-------+\n|   21392H  | 1.0  |   1   |\n+-----------+------+-------+\n[1 rows x 3 columns]\n\n"
                }
            ], 
            "source": "eval_norm = tc.recommender.util.compare_models(test_data_norm, models_w_norm, model_names=names_w_norm)"
        }, 
        {
            "source": "## 8. Model Selection\n### 8.1. Evaluation summary\n* Based on RMSE\n\n\n    1. Popularity on purchase counts: 1.1111750034210488\n    2. Cosine similarity on purchase counts: 1.9230643981653215\n    3. Pearson similarity on purchase counts: 1.9231102838192284\n    \n    4. Popularity on purchase dummy: 0.9697374361161925\n    5. Cosine similarity on purchase dummy: 0.9697509978436404\n    6. Pearson similarity on purchase dummy: 0.9697745320187097\n    \n    7. Popularity on scaled purchase counts: 0.16230660626840343\n    8. Cosine similarity on scaled purchase counts: 0.16229800354111104\n    9. Pearson similarity on scaled purchase counts: 0.1622982668334026\n    \n* Based on Precision and Recall\n![](../images/model_comparisons.png)\n", 
            "cell_type": "markdown", 
            "metadata": {}
        }, 
        {
            "source": "#### Notes\n\n* Popularity v. Collaborative Filtering: We can see that the collaborative filtering algorithms work better than popularity model for purchase counts. Indeed, popularity model doesn\u2019t give any personalizations as it only gives the same list of recommended items to every user.\n* Precision and recall: Looking at the summary above, we see that the precision and recall for Purchase Counts > Purchase Dummy > Normalized Purchase Counts. However, because the recommendation scores for the normalized purchase data is zero and constant, we choose the dummy. In fact, the RMSE isn\u2019t much different between models on the dummy and those on the normalized data.\n* RMSE: Since RMSE is higher using pearson distance thancosine, we would choose model the smaller mean squared errors, which in this case would be cosine.\nTherefore, we select the Cosine similarity on Purchase Dummy approach as our final model.", 
            "cell_type": "markdown", 
            "metadata": {}
        }, 
        {
            "source": "## 8. Final Output\n* In this step, we would like to manipulate format for recommendation output to one we can export to csv, and also a function that will return recommendation list given a customer ID.\n* We need to first rerun the model using the whole dataset, as we came to a final model using train data and evaluated with test set.", 
            "cell_type": "markdown", 
            "metadata": {}
        }, 
        {
            "execution_count": 45, 
            "cell_type": "code", 
            "metadata": {}, 
            "outputs": [
                {
                    "output_type": "display_data", 
                    "data": {
                        "text/html": "<pre>Preparing data set.</pre>", 
                        "text/plain": "Preparing data set."
                    }, 
                    "metadata": {}
                }, 
                {
                    "output_type": "display_data", 
                    "data": {
                        "text/html": "<pre>    Data has 271031 observations with 972 users and 3810 items.</pre>", 
                        "text/plain": "    Data has 271031 observations with 972 users and 3810 items."
                    }, 
                    "metadata": {}
                }, 
                {
                    "output_type": "display_data", 
                    "data": {
                        "text/html": "<pre>    Data prepared in: 0.791342s</pre>", 
                        "text/plain": "    Data prepared in: 0.791342s"
                    }, 
                    "metadata": {}
                }, 
                {
                    "output_type": "display_data", 
                    "data": {
                        "text/html": "<pre>Training model from provided data.</pre>", 
                        "text/plain": "Training model from provided data."
                    }, 
                    "metadata": {}
                }, 
                {
                    "output_type": "display_data", 
                    "data": {
                        "text/html": "<pre>Gathering per-item and per-user statistics.</pre>", 
                        "text/plain": "Gathering per-item and per-user statistics."
                    }, 
                    "metadata": {}
                }, 
                {
                    "output_type": "display_data", 
                    "data": {
                        "text/html": "<pre>+--------------------------------+------------+</pre>", 
                        "text/plain": "+--------------------------------+------------+"
                    }, 
                    "metadata": {}
                }, 
                {
                    "output_type": "display_data", 
                    "data": {
                        "text/html": "<pre>| Elapsed Time (Item Statistics) | % Complete |</pre>", 
                        "text/plain": "| Elapsed Time (Item Statistics) | % Complete |"
                    }, 
                    "metadata": {}
                }, 
                {
                    "output_type": "display_data", 
                    "data": {
                        "text/html": "<pre>+--------------------------------+------------+</pre>", 
                        "text/plain": "+--------------------------------+------------+"
                    }, 
                    "metadata": {}
                }, 
                {
                    "output_type": "display_data", 
                    "data": {
                        "text/html": "<pre>| 217.877ms                      | 100        |</pre>", 
                        "text/plain": "| 217.877ms                      | 100        |"
                    }, 
                    "metadata": {}
                }, 
                {
                    "output_type": "display_data", 
                    "data": {
                        "text/html": "<pre>+--------------------------------+------------+</pre>", 
                        "text/plain": "+--------------------------------+------------+"
                    }, 
                    "metadata": {}
                }, 
                {
                    "output_type": "display_data", 
                    "data": {
                        "text/html": "<pre>Setting up lookup tables.</pre>", 
                        "text/plain": "Setting up lookup tables."
                    }, 
                    "metadata": {}
                }, 
                {
                    "output_type": "display_data", 
                    "data": {
                        "text/html": "<pre>Processing data in one pass using dense lookup tables.</pre>", 
                        "text/plain": "Processing data in one pass using dense lookup tables."
                    }, 
                    "metadata": {}
                }, 
                {
                    "output_type": "display_data", 
                    "data": {
                        "text/html": "<pre>+-------------------------------------+------------------+-----------------+</pre>", 
                        "text/plain": "+-------------------------------------+------------------+-----------------+"
                    }, 
                    "metadata": {}
                }, 
                {
                    "output_type": "display_data", 
                    "data": {
                        "text/html": "<pre>| Elapsed Time (Constructing Lookups) | Total % Complete | Items Processed |</pre>", 
                        "text/plain": "| Elapsed Time (Constructing Lookups) | Total % Complete | Items Processed |"
                    }, 
                    "metadata": {}
                }, 
                {
                    "output_type": "display_data", 
                    "data": {
                        "text/html": "<pre>+-------------------------------------+------------------+-----------------+</pre>", 
                        "text/plain": "+-------------------------------------+------------------+-----------------+"
                    }, 
                    "metadata": {}
                }, 
                {
                    "output_type": "display_data", 
                    "data": {
                        "text/html": "<pre>| 275.967ms                           | 0                | 3               |</pre>", 
                        "text/plain": "| 275.967ms                           | 0                | 3               |"
                    }, 
                    "metadata": {}
                }, 
                {
                    "output_type": "display_data", 
                    "data": {
                        "text/html": "<pre>| 2.65s                               | 100              | 3810            |</pre>", 
                        "text/plain": "| 2.65s                               | 100              | 3810            |"
                    }, 
                    "metadata": {}
                }, 
                {
                    "output_type": "display_data", 
                    "data": {
                        "text/html": "<pre>+-------------------------------------+------------------+-----------------+</pre>", 
                        "text/plain": "+-------------------------------------+------------------+-----------------+"
                    }, 
                    "metadata": {}
                }, 
                {
                    "output_type": "display_data", 
                    "data": {
                        "text/html": "<pre>Finalizing lookup tables.</pre>", 
                        "text/plain": "Finalizing lookup tables."
                    }, 
                    "metadata": {}
                }, 
                {
                    "output_type": "display_data", 
                    "data": {
                        "text/html": "<pre>Generating candidate set for working with new users.</pre>", 
                        "text/plain": "Generating candidate set for working with new users."
                    }, 
                    "metadata": {}
                }, 
                {
                    "output_type": "display_data", 
                    "data": {
                        "text/html": "<pre>Finished training in 2.8958s</pre>", 
                        "text/plain": "Finished training in 2.8958s"
                    }, 
                    "metadata": {}
                }, 
                {
                    "output_type": "stream", 
                    "name": "stdout", 
                    "text": "+------------+-----------+---------------------+------+\n| customerId | productId |        score        | rank |\n+------------+-----------+---------------------+------+\n|   127269   |   20725N  | 0.33143950343132017 |  1   |\n|   127269   |  85099BJ  |  0.3276068377494812 |  2   |\n|   127269   |   20727V  | 0.31362108945846556 |  3   |\n|   127269   |   22697A  | 0.31260724425315856 |  4   |\n|   127269   |   22411U  | 0.30559892416000367 |  5   |\n|   127269   |   22383K  | 0.30556941509246827 |  6   |\n|   127269   |  85123AY  | 0.30389530301094053 |  7   |\n|   127269   |   22423U  |  0.3004434359073639 |  8   |\n|   127269   |   21212D  | 0.29774430751800535 |  9   |\n|   127269   |   22197J  |  0.2937191450595856 |  10  |\n|   227268   |   20725N  | 0.33143950343132017 |  1   |\n|   227268   |  85099BJ  |  0.3276068377494812 |  2   |\n|   227268   |   20727V  | 0.31362108945846556 |  3   |\n|   227268   |   22697A  | 0.31260724425315856 |  4   |\n|   227268   |   22411U  | 0.30559892416000367 |  5   |\n|   227268   |   22383K  | 0.30556941509246827 |  6   |\n|   227268   |  85123AY  | 0.30389530301094053 |  7   |\n|   227268   |   22423U  |  0.3004434359073639 |  8   |\n|   227268   |   21212D  | 0.29774430751800535 |  9   |\n|   227268   |   22197J  |  0.2937191450595856 |  10  |\n|   327267   |   20725N  | 0.33143950343132017 |  1   |\n|   327267   |  85099BJ  |  0.3276068377494812 |  2   |\n|   327267   |   20727V  | 0.31362108945846556 |  3   |\n|   327267   |   22697A  | 0.31260724425315856 |  4   |\n|   327267   |   22411U  | 0.30559892416000367 |  5   |\n|   327267   |   22383K  | 0.30556941509246827 |  6   |\n|   327267   |  85123AY  | 0.30389530301094053 |  7   |\n|   327267   |   22423U  |  0.3004434359073639 |  8   |\n|   327267   |   21212D  | 0.29774430751800535 |  9   |\n|   327267   |   22197J  |  0.2937191450595856 |  10  |\n+------------+-----------+---------------------+------+\n[6280 rows x 4 columns]\n\n"
                }
            ], 
            "source": "users_to_recommend = list(customers[user_id])\n\nfinal_model = tc.item_similarity_recommender.create(tc.SFrame(data), \n                                            user_id=user_id, \n                                            item_id=item_id, \n                                            target='purchase_count', \n                                            similarity_type='cosine')\n\nrecom = final_model.recommend(users=users_to_recommend, k=n_rec)\nrecom.print_rows(n_display)"
        }, 
        {
            "source": "### 8.1. CSV output file", 
            "cell_type": "markdown", 
            "metadata": {}
        }, 
        {
            "execution_count": 46, 
            "cell_type": "code", 
            "metadata": {}, 
            "outputs": [
                {
                    "output_type": "stream", 
                    "name": "stdout", 
                    "text": "(6280, 4)\n"
                }, 
                {
                    "execution_count": 46, 
                    "metadata": {}, 
                    "data": {
                        "text/html": "<div>\n<style scoped>\n    .dataframe tbody tr th:only-of-type {\n        vertical-align: middle;\n    }\n\n    .dataframe tbody tr th {\n        vertical-align: top;\n    }\n\n    .dataframe thead th {\n        text-align: right;\n    }\n</style>\n<table border=\"1\" class=\"dataframe\">\n  <thead>\n    <tr style=\"text-align: right;\">\n      <th></th>\n      <th>customerId</th>\n      <th>productId</th>\n      <th>score</th>\n      <th>rank</th>\n    </tr>\n  </thead>\n  <tbody>\n    <tr>\n      <th>0</th>\n      <td>127269</td>\n      <td>20725N</td>\n      <td>0.331440</td>\n      <td>1</td>\n    </tr>\n    <tr>\n      <th>1</th>\n      <td>127269</td>\n      <td>85099BJ</td>\n      <td>0.327607</td>\n      <td>2</td>\n    </tr>\n    <tr>\n      <th>2</th>\n      <td>127269</td>\n      <td>20727V</td>\n      <td>0.313621</td>\n      <td>3</td>\n    </tr>\n    <tr>\n      <th>3</th>\n      <td>127269</td>\n      <td>22697A</td>\n      <td>0.312607</td>\n      <td>4</td>\n    </tr>\n    <tr>\n      <th>4</th>\n      <td>127269</td>\n      <td>22411U</td>\n      <td>0.305599</td>\n      <td>5</td>\n    </tr>\n    <tr>\n      <th>5</th>\n      <td>127269</td>\n      <td>22383K</td>\n      <td>0.305569</td>\n      <td>6</td>\n    </tr>\n    <tr>\n      <th>6</th>\n      <td>127269</td>\n      <td>85123AY</td>\n      <td>0.303895</td>\n      <td>7</td>\n    </tr>\n    <tr>\n      <th>7</th>\n      <td>127269</td>\n      <td>22423U</td>\n      <td>0.300443</td>\n      <td>8</td>\n    </tr>\n    <tr>\n      <th>8</th>\n      <td>127269</td>\n      <td>21212D</td>\n      <td>0.297744</td>\n      <td>9</td>\n    </tr>\n    <tr>\n      <th>9</th>\n      <td>127269</td>\n      <td>22197J</td>\n      <td>0.293719</td>\n      <td>10</td>\n    </tr>\n  </tbody>\n</table>\n</div>", 
                        "text/plain": "   customerId productId     score  rank\n0      127269    20725N  0.331440     1\n1      127269   85099BJ  0.327607     2\n2      127269    20727V  0.313621     3\n3      127269    22697A  0.312607     4\n4      127269    22411U  0.305599     5\n5      127269    22383K  0.305569     6\n6      127269   85123AY  0.303895     7\n7      127269    22423U  0.300443     8\n8      127269    21212D  0.297744     9\n9      127269    22197J  0.293719    10"
                    }, 
                    "output_type": "execute_result"
                }
            ], 
            "source": "df_rec = recom.to_dataframe()\nprint(df_rec.shape)\ndf_rec.head(10)"
        }, 
        {
            "execution_count": 47, 
            "cell_type": "code", 
            "metadata": {}, 
            "outputs": [], 
            "source": "# df_rec1 = df_rec.to_dataframe()\nimport json\ndf2_unique = df_rec.drop_duplicates(subset='customerId')\nfinal_recom = df2_unique.filter(['customerId',str('productId')])\nfinal_recom = final_recom.rename(columns={'customerId': 'CustomerID', 'productId':'Items'})\nfinal_recom['Items'] = final_recom['Items'].apply(lambda x: \"'\" + str(x) + \"'\")\nfinal_recom['Items'] = '[' + final_recom['Items'].astype(str) + ']'"
        }, 
        {
            "execution_count": 48, 
            "cell_type": "code", 
            "metadata": {
                "scrolled": true
            }, 
            "outputs": [
                {
                    "execution_count": 48, 
                    "metadata": {}, 
                    "data": {
                        "text/plain": "{'asset_id': 'c55f8ed8-9251-43fc-ab00-638411059644',\n 'bucket_name': 'recommendationsystemforpurchaseda-donotdelete-pr-l0bytgn7jogfsi',\n 'file_name': 'recommended_purchase.csv',\n 'message': 'File saved to project storage.'}"
                    }, 
                    "output_type": "execute_result"
                }
            ], 
            "source": "project.save_data(data=final_recom.to_csv(index=False,sep=','),file_name='recommended_purchase.csv',overwrite=True)"
        }, 
        {
            "execution_count": 49, 
            "cell_type": "code", 
            "metadata": {}, 
            "outputs": [
                {
                    "output_type": "stream", 
                    "name": "stdout", 
                    "text": "(628, 2)\n"
                }, 
                {
                    "execution_count": 49, 
                    "metadata": {}, 
                    "data": {
                        "text/html": "<div>\n<style scoped>\n    .dataframe tbody tr th:only-of-type {\n        vertical-align: middle;\n    }\n\n    .dataframe tbody tr th {\n        vertical-align: top;\n    }\n\n    .dataframe thead th {\n        text-align: right;\n    }\n</style>\n<table border=\"1\" class=\"dataframe\">\n  <thead>\n    <tr style=\"text-align: right;\">\n      <th></th>\n      <th>CustomerID</th>\n      <th>Items</th>\n    </tr>\n  </thead>\n  <tbody>\n    <tr>\n      <th>0</th>\n      <td>127269</td>\n      <td>['20725N']</td>\n    </tr>\n    <tr>\n      <th>10</th>\n      <td>227268</td>\n      <td>['20725N']</td>\n    </tr>\n    <tr>\n      <th>20</th>\n      <td>327267</td>\n      <td>['20725N']</td>\n    </tr>\n    <tr>\n      <th>30</th>\n      <td>162738</td>\n      <td>['20725N']</td>\n    </tr>\n    <tr>\n      <th>40</th>\n      <td>252747</td>\n      <td>['20725N']</td>\n    </tr>\n    <tr>\n      <th>50</th>\n      <td>347247</td>\n      <td>['20725N']</td>\n    </tr>\n    <tr>\n      <th>60</th>\n      <td>442755</td>\n      <td>['20725N']</td>\n    </tr>\n    <tr>\n      <th>70</th>\n      <td>342756</td>\n      <td>['20725N']</td>\n    </tr>\n    <tr>\n      <th>80</th>\n      <td>57240</td>\n      <td>['20725N']</td>\n    </tr>\n    <tr>\n      <th>90</th>\n      <td>357237</td>\n      <td>['20725N']</td>\n    </tr>\n    <tr>\n      <th>100</th>\n      <td>531765</td>\n      <td>['20725N']</td>\n    </tr>\n    <tr>\n      <th>110</th>\n      <td>131769</td>\n      <td>['20725N']</td>\n    </tr>\n    <tr>\n      <th>120</th>\n      <td>31770</td>\n      <td>['20725N']</td>\n    </tr>\n    <tr>\n      <th>130</th>\n      <td>78219</td>\n      <td>['20725N']</td>\n    </tr>\n    <tr>\n      <th>140</th>\n      <td>511785</td>\n      <td>['20725N']</td>\n    </tr>\n    <tr>\n      <th>150</th>\n      <td>108189</td>\n      <td>['20725N']</td>\n    </tr>\n    <tr>\n      <th>160</th>\n      <td>171828</td>\n      <td>['20725N']</td>\n    </tr>\n    <tr>\n      <th>170</th>\n      <td>530865</td>\n      <td>['20725N']</td>\n    </tr>\n    <tr>\n      <th>180</th>\n      <td>269127</td>\n      <td>['20725N']</td>\n    </tr>\n    <tr>\n      <th>190</th>\n      <td>510885</td>\n      <td>['20725N']</td>\n    </tr>\n  </tbody>\n</table>\n</div>", 
                        "text/plain": "     CustomerID       Items\n0        127269  ['20725N']\n10       227268  ['20725N']\n20       327267  ['20725N']\n30       162738  ['20725N']\n40       252747  ['20725N']\n50       347247  ['20725N']\n60       442755  ['20725N']\n70       342756  ['20725N']\n80        57240  ['20725N']\n90       357237  ['20725N']\n100      531765  ['20725N']\n110      131769  ['20725N']\n120       31770  ['20725N']\n130       78219  ['20725N']\n140      511785  ['20725N']\n150      108189  ['20725N']\n160      171828  ['20725N']\n170      530865  ['20725N']\n180      269127  ['20725N']\n190      510885  ['20725N']"
                    }, 
                    "output_type": "execute_result"
                }
            ], 
            "source": "print(final_recom.shape)\nfinal_recom.head(20)"
        }, 
        {
            "execution_count": 50, 
            "cell_type": "code", 
            "metadata": {}, 
            "outputs": [], 
            "source": "df_rec['recommendedProducts'] = df_rec.groupby([user_id])[item_id].transform(lambda x: '|'.join(x.astype(str)))\ndf_output = df_rec[['customerId', 'recommendedProducts']].drop_duplicates().sort_values('customerId').set_index('customerId')"
        }, 
        {
            "source": "#### Define a function to create a desired output", 
            "cell_type": "markdown", 
            "metadata": {}
        }, 
        {
            "execution_count": 51, 
            "cell_type": "code", 
            "metadata": {}, 
            "outputs": [], 
            "source": "def create_output(model, users_to_recommend, n_rec, print_csv=True):\n    recomendation = model.recommend(users=users_to_recommend, k=n_rec)\n    df_rec = recomendation.to_dataframe()\n    df_rec['recommendedProducts'] = df_rec.groupby([user_id])[item_id] \\\n        .transform(lambda x: '|'.join(x.astype(str)))\n    df_output = df_rec[['customerId', 'recommendedProducts']].drop_duplicates() \\\n        .sort_values('customerId').set_index('customerId')\n    if print_csv:\n        df_output.to_csv('recommendation_output.csv')\n    return df_output"
        }, 
        {
            "execution_count": 52, 
            "cell_type": "code", 
            "metadata": {}, 
            "outputs": [
                {
                    "output_type": "stream", 
                    "name": "stdout", 
                    "text": "(628, 1)\n"
                }, 
                {
                    "execution_count": 52, 
                    "metadata": {}, 
                    "data": {
                        "text/html": "<div>\n<style scoped>\n    .dataframe tbody tr th:only-of-type {\n        vertical-align: middle;\n    }\n\n    .dataframe tbody tr th {\n        vertical-align: top;\n    }\n\n    .dataframe thead th {\n        text-align: right;\n    }\n</style>\n<table border=\"1\" class=\"dataframe\">\n  <thead>\n    <tr style=\"text-align: right;\">\n      <th></th>\n      <th>recommendedProducts</th>\n    </tr>\n    <tr>\n      <th>customerId</th>\n      <th></th>\n    </tr>\n  </thead>\n  <tbody>\n    <tr>\n      <th>1890</th>\n      <td>84548X|21816Y|84751BL|81950BS|72369AK|21393V|8...</td>\n    </tr>\n    <tr>\n      <th>2700</th>\n      <td>84548X|21816Y|84751BL|81950BS|72369AK|21393V|8...</td>\n    </tr>\n    <tr>\n      <th>3600</th>\n      <td>84548X|21816Y|84751BL|81950BS|72369AK|21393V|8...</td>\n    </tr>\n    <tr>\n      <th>3690</th>\n      <td>84548X|21816Y|84751BL|81950BS|72369AK|21393V|8...</td>\n    </tr>\n    <tr>\n      <th>4500</th>\n      <td>84548X|21816Y|84751BL|81950BS|72369AK|21393V|8...</td>\n    </tr>\n    <tr>\n      <th>5490</th>\n      <td>84548X|21816Y|84751BL|81950BS|72369AK|21393V|8...</td>\n    </tr>\n    <tr>\n      <th>8190</th>\n      <td>84548X|21816Y|84751BL|81950BS|72369AK|21393V|8...</td>\n    </tr>\n    <tr>\n      <th>9090</th>\n      <td>84548X|21816Y|84751BL|81950BS|72369AK|21393V|8...</td>\n    </tr>\n    <tr>\n      <th>13680</th>\n      <td>84548X|21816Y|84751BL|81950BS|72369AK|21393V|8...</td>\n    </tr>\n    <tr>\n      <th>14490</th>\n      <td>84548X|21816Y|84751BL|81950BS|72369AK|21393V|8...</td>\n    </tr>\n    <tr>\n      <th>14580</th>\n      <td>84548X|21816Y|84751BL|81950BS|72369AK|21393V|8...</td>\n    </tr>\n    <tr>\n      <th>15390</th>\n      <td>84548X|21816Y|84751BL|81950BS|72369AK|21393V|8...</td>\n    </tr>\n  </tbody>\n</table>\n</div>", 
                        "text/plain": "                                          recommendedProducts\ncustomerId                                                   \n1890        84548X|21816Y|84751BL|81950BS|72369AK|21393V|8...\n2700        84548X|21816Y|84751BL|81950BS|72369AK|21393V|8...\n3600        84548X|21816Y|84751BL|81950BS|72369AK|21393V|8...\n3690        84548X|21816Y|84751BL|81950BS|72369AK|21393V|8...\n4500        84548X|21816Y|84751BL|81950BS|72369AK|21393V|8...\n5490        84548X|21816Y|84751BL|81950BS|72369AK|21393V|8...\n8190        84548X|21816Y|84751BL|81950BS|72369AK|21393V|8...\n9090        84548X|21816Y|84751BL|81950BS|72369AK|21393V|8...\n13680       84548X|21816Y|84751BL|81950BS|72369AK|21393V|8...\n14490       84548X|21816Y|84751BL|81950BS|72369AK|21393V|8...\n14580       84548X|21816Y|84751BL|81950BS|72369AK|21393V|8...\n15390       84548X|21816Y|84751BL|81950BS|72369AK|21393V|8..."
                    }, 
                    "output_type": "execute_result"
                }
            ], 
            "source": "df_output = create_output(pear_norm, users_to_recommend, n_rec, print_csv=True)\nrec_output=df_output.drop_duplicates()\nproject.save_data(data=rec_output.to_csv(index=False),file_name='recommendation_output.csv',overwrite=True)\nprint(df_output.shape)\ndf_output.head(12)"
        }, 
        {
            "source": "### 8.2. Customer recommendation function", 
            "cell_type": "markdown", 
            "metadata": {}
        }, 
        {
            "execution_count": 53, 
            "cell_type": "code", 
            "metadata": {}, 
            "outputs": [], 
            "source": "def customer_recomendation(customer_id):\n    if customer_id not in df_output.index:\n        print('Customer not found.')\n        return customer_id\n    return df_output.loc[customer_id]"
        }, 
        {
            "execution_count": 54, 
            "cell_type": "code", 
            "metadata": {}, 
            "outputs": [
                {
                    "execution_count": 54, 
                    "metadata": {}, 
                    "data": {
                        "text/plain": "recommendedProducts    84548X|21816Y|84751BL|81950BS|72369AK|21393V|8...\nName: 19980, dtype: object"
                    }, 
                    "output_type": "execute_result"
                }
            ], 
            "source": "customer_recomendation(19980)"
        }, 
        {
            "execution_count": 55, 
            "cell_type": "code", 
            "metadata": {}, 
            "outputs": [
                {
                    "execution_count": 55, 
                    "metadata": {}, 
                    "data": {
                        "text/plain": "recommendedProducts    84548X|21816Y|84751BL|81950BS|72369AK|21393V|8...\nName: 15390, dtype: object"
                    }, 
                    "output_type": "execute_result"
                }
            ], 
            "source": "customer_recomendation(15390)"
        }, 
        {
            "source": "## Summary\nIn this exercise, we were able to traverse a step-by-step process for making recommendations to customers. We used Collaborative Filtering approaches with `cosine` and `pearson` measure and compare the models with our baseline popularity model. We also prepared three sets of data that include regular buying count, buying dummy, as well as normalized purchase frequency as our target variable. Using RMSE, precision and recall, we evaluated our models and observed the impact of personalization. Finally, we selected the Cosine approach in dummy purchase data. ", 
            "cell_type": "markdown", 
            "metadata": {
                "collapsed": true
            }
        }, 
        {
            "execution_count": null, 
            "cell_type": "code", 
            "metadata": {}, 
            "outputs": [], 
            "source": ""
        }
    ], 
    "metadata": {
        "kernelspec": {
            "display_name": "Python 3.5", 
            "name": "python3", 
            "language": "python"
        }, 
        "language_info": {
            "mimetype": "text/x-python", 
            "nbconvert_exporter": "python", 
            "version": "3.5.5", 
            "name": "python", 
            "file_extension": ".py", 
            "pygments_lexer": "ipython3", 
            "codemirror_mode": {
                "version": 3, 
                "name": "ipython"
            }
        }
    }, 
    "nbformat": 4
}